{
 "cells": [
  {
   "cell_type": "markdown",
   "id": "7504f842",
   "metadata": {},
   "source": [
    "Previously, I concluded that 'title' feature improves the performance of the model, so it is best to compare the performance of the model with and without the 'keywords' feature using the same set of features, i.e., 'description' plus 'title'. This would allow you to isolate the impact of the 'keywords' feature on the performance of the model, while controlling for the effects of the 'description' and 'title' features. The same applies to the other features.\n",
    "\n",
    "\n",
    "1. keywords  \n",
    " - \"TF-IDF: use the YAKE extracted keywords as additional features alongside the TF-IDF features. Concatenate the TF-IDF matrix with a sparse matrix that represents the YAKE keywords. \n",
    " - One-hot encoding: represent the YAKE extracted keywords as a binary vector where each element corresponds to a keyword and indicates whether the keyword is present in the text or not. You can use the CountVectorizer from scikit-learn with the binary=True parameter to obtain the one-hot encoding for the YAKE keywords. TOO HEAVY\n",
    " - Frequency count: represent the YAKE extracted keywords as a vector of frequency counts where each element corresponds to a keyword and indicates the number of times the keyword appears in the text. You can use the CountVectorizer from scikit-learn with the binary=False parameter to obtain the frequency count for the YAKE keywords.\" \n",
    " \n",
    "    \n",
    "\n",
    "2. NER: locations and company names  \n",
    " \n",
    " \n",
    "3. type of delivery service (correio Normal, Correio Azul, Correio Registado, Correio Verde, Encomenda Postal, correio prioritário)\n",
    "or the specific products being delivered (carta, encomenda, )\n",
    "\n",
    "\n",
    "4. events (Text2Story)  \n",
    "\n",
    "\"CountVectorizer is a good choice when the absolute counts of words are important, such as in sentiment analysis or spam detection. On the other hand, TF-IDFVectorizer is better for tasks where the importance of a word in a document is related to its frequency across all documents, such as text classification or information retrieval.\"  \n",
    "\n",
    "So I'll be using TF-IDF for yake and events;"
   ]
  },
  {
   "cell_type": "code",
   "execution_count": 6,
   "id": "b0f0f722",
   "metadata": {},
   "outputs": [],
   "source": [
    "# env1\n",
    "import nltk\n",
    "import re\n",
    "import numpy as np\n",
    "import pandas as pd\n",
    "import matplotlib.pyplot as plt\n",
    "from collections import Counter\n",
    "import spacy\n",
    "import yake\n",
    "nlp = spacy.load('pt_core_news_lg')\n",
    "from langdetect import detect\n",
    "from sklearn.model_selection import train_test_split\n",
    "from sklearn.feature_extraction.text import TfidfVectorizer, CountVectorizer\n",
    "from sklearn.tree import DecisionTreeClassifier\n",
    "from sklearn.ensemble import GradientBoostingClassifier\n",
    "from xgboost import XGBClassifier\n",
    "from sklearn.neighbors import KNeighborsClassifier\n",
    "from sklearn.svm import LinearSVC\n",
    "from sklearn.ensemble import RandomForestClassifier\n",
    "from sklearn.naive_bayes import MultinomialNB\n",
    "from scipy.sparse import hstack\n",
    "from sklearn.metrics import classification_report, confusion_matrix\n",
    "from sklearn.metrics import accuracy_score, f1_score, precision_score, recall_score\n",
    "from sklearn.pipeline import Pipeline, FeatureUnion"
   ]
  },
  {
   "cell_type": "code",
   "execution_count": 12,
   "id": "a870c5a4",
   "metadata": {},
   "outputs": [
    {
     "name": "stderr",
     "output_type": "stream",
     "text": [
      "error loading _jsonnet (this is expected on Windows), treating D:\\MS DATA SCIENCE\\NLP TESE\\envs\\env3\\lib\\site-packages\\text2story\\annotators\\ALLENNLP\\cache\\srl-pt_bertimbau-base\\config.json as plain json\n"
     ]
    }
   ],
   "source": [
    "# env3\n",
    "import text2story as t2s\n",
    "import pandas as pd\n",
    "t2s.start('pt')\n",
    "import spacy\n",
    "spacy.load('pt_core_news_lg')\n",
    "from text2story.experiments.evaluation import *"
   ]
  },
  {
   "cell_type": "code",
   "execution_count": 7,
   "id": "f39bb2b2",
   "metadata": {},
   "outputs": [
    {
     "data": {
      "text/html": [
       "<div>\n",
       "<style scoped>\n",
       "    .dataframe tbody tr th:only-of-type {\n",
       "        vertical-align: middle;\n",
       "    }\n",
       "\n",
       "    .dataframe tbody tr th {\n",
       "        vertical-align: top;\n",
       "    }\n",
       "\n",
       "    .dataframe thead th {\n",
       "        text-align: right;\n",
       "    }\n",
       "</style>\n",
       "<table border=\"1\" class=\"dataframe\">\n",
       "  <thead>\n",
       "    <tr style=\"text-align: right;\">\n",
       "      <th></th>\n",
       "      <th>date</th>\n",
       "      <th>title</th>\n",
       "      <th>reason</th>\n",
       "      <th>description</th>\n",
       "      <th>zone</th>\n",
       "      <th>narrative_tfidf</th>\n",
       "      <th>narrative_embeddings</th>\n",
       "      <th>narrative_bert</th>\n",
       "      <th>narrative_tfidf_title</th>\n",
       "      <th>narrative_bert_title</th>\n",
       "      <th>narrative_embeddings_title</th>\n",
       "      <th>tfidf_title</th>\n",
       "      <th>title_tfidf_nolemma</th>\n",
       "      <th>events</th>\n",
       "      <th>keywords</th>\n",
       "      <th>keywords_string</th>\n",
       "    </tr>\n",
       "  </thead>\n",
       "  <tbody>\n",
       "    <tr>\n",
       "      <th>0</th>\n",
       "      <td>2021-10-11 12:26:32</td>\n",
       "      <td>CTT - Encomenda entregue danificada e com etiq...</td>\n",
       "      <td>0</td>\n",
       "      <td>Bom dia venho por este meio apresentar uma rec...</td>\n",
       "      <td>Lisboa</td>\n",
       "      <td>bom dia venho meio apresentar reclamação ctt e...</td>\n",
       "      <td>bom dia venho por este meio apresentar uma rec...</td>\n",
       "      <td>Bom dia venho por este meio apresentar uma rec...</td>\n",
       "      <td>ctt encomenda entregar danificar etiqueta envi...</td>\n",
       "      <td>ctt - encomenda entregue danificada e com etiq...</td>\n",
       "      <td>ctt - encomenda entregue danificada e com etiq...</td>\n",
       "      <td>ctt encomenda entregar danificar etiqueta envi...</td>\n",
       "      <td>ctt encomenda entregue danificada etiquetas en...</td>\n",
       "      <td>['venho', 'apresentar', 'Enviei', 'destinado',...</td>\n",
       "      <td>['apresentar uma reclamação', 'tinha', 'caixa'...</td>\n",
       "      <td>apresentar uma reclamação,tinha,caixa,figura,e...</td>\n",
       "    </tr>\n",
       "    <tr>\n",
       "      <th>1</th>\n",
       "      <td>2021-08-31 23:20:15</td>\n",
       "      <td>CTT - Carta com certificado rasgado!</td>\n",
       "      <td>1</td>\n",
       "      <td>- Boa Noite!\\r\\n\\r\\n- Venho por este meio recl...</td>\n",
       "      <td>Coimbra</td>\n",
       "      <td>bom noite venho meio reclamar data ás durante ...</td>\n",
       "      <td>- boa noite!\\r\\n\\r\\n- venho por este meio recl...</td>\n",
       "      <td>- Boa Noite! - Venho por este meio reclamar qu...</td>\n",
       "      <td>ctt carta certificar rasgar bom noite venho me...</td>\n",
       "      <td>ctt - carta com certificado rasgado!  - Boa No...</td>\n",
       "      <td>ctt - carta com certificado rasgado ! - boa no...</td>\n",
       "      <td>ctt carta certificar rasgar</td>\n",
       "      <td>ctt carta certificado rasgado</td>\n",
       "      <td>['Venho', 'reclamar', 'deparei -me', 'continha...</td>\n",
       "      <td>['Lilia Pimentel', 'certificado profissional',...</td>\n",
       "      <td>lilia pimentel,certificado profissional,passag...</td>\n",
       "    </tr>\n",
       "    <tr>\n",
       "      <th>2</th>\n",
       "      <td>2021-02-01 19:08:32</td>\n",
       "      <td>CTT - Encomenda registada que nunca chegou ao ...</td>\n",
       "      <td>2</td>\n",
       "      <td>Boa tarde,\\r\\nNo dia 17 de Dezembro de 2020 en...</td>\n",
       "      <td>Aveiro</td>\n",
       "      <td>bom tarde dia dezembro enviar encomenda França...</td>\n",
       "      <td>boa tarde,\\r\\nno dia 00 de dezembro de 0000 en...</td>\n",
       "      <td>Boa tarde, No dia 17 de Dezembro de 2020 envie...</td>\n",
       "      <td>ctt encomenda registar nunca chegar destine o ...</td>\n",
       "      <td>ctt - encomenda registada que nunca chegou ao ...</td>\n",
       "      <td>ctt - encomenda registada que nunca chegou ao ...</td>\n",
       "      <td>ctt encomenda registar nunca chegar destine o</td>\n",
       "      <td>ctt encomenda registada nunca chegou destino</td>\n",
       "      <td>['enviei', 'registado', 'vejo', 'chegou', 'sai...</td>\n",
       "      <td>['França em correio registado', 'França em cor...</td>\n",
       "      <td>frança em correio registado,frança em correio,...</td>\n",
       "    </tr>\n",
       "    <tr>\n",
       "      <th>3</th>\n",
       "      <td>2018-04-19 09:04:34</td>\n",
       "      <td>CTT - Correio Verde</td>\n",
       "      <td>2</td>\n",
       "      <td>Bom dia,\\n\\nPretendia esclarecer uma situação ...</td>\n",
       "      <td>Lisboa</td>\n",
       "      <td>bom dia pretender esclarecer situação ocorrer ...</td>\n",
       "      <td>bom dia,\\n\\npretendia esclarecer uma situação ...</td>\n",
       "      <td>Bom dia, Pretendia esclarecer uma situação que...</td>\n",
       "      <td>ctt correio verde bom dia pretender esclarecer...</td>\n",
       "      <td>ctt - correio verde  Bom dia, Pretendia esclar...</td>\n",
       "      <td>ctt - correio verde bom dia,\\n\\npretendia escl...</td>\n",
       "      <td>ctt correio verde</td>\n",
       "      <td>ctt correio verde</td>\n",
       "      <td>['Pretendia esclarecer', 'ocorreu', 'desloquei...</td>\n",
       "      <td>['Pretendia esclarecer uma situação', 'Pretend...</td>\n",
       "      <td>pretendia esclarecer uma situação,pretendia es...</td>\n",
       "    </tr>\n",
       "    <tr>\n",
       "      <th>4</th>\n",
       "      <td>2019-07-04 10:20:41</td>\n",
       "      <td>CTT - Aviso de recepção da carta registada, pr...</td>\n",
       "      <td>2</td>\n",
       "      <td>venho por este meio solicitar a vossa ajuda pa...</td>\n",
       "      <td>Porto</td>\n",
       "      <td>venho meio solicitar vosso ajudar saber onde e...</td>\n",
       "      <td>venho por este meio solicitar a vossa ajuda pa...</td>\n",
       "      <td>venho por este meio solicitar a vossa ajuda pa...</td>\n",
       "      <td>ctt aviso recepção carta registar preciso urge...</td>\n",
       "      <td>ctt - aviso de recepção da carta registada, pr...</td>\n",
       "      <td>ctt - aviso de recepção da carta registada , p...</td>\n",
       "      <td>ctt aviso recepção carta registar preciso urge...</td>\n",
       "      <td>ctt aviso recepção carta registada preciso urg...</td>\n",
       "      <td>['venho', 'solicitar', 'saber onde se encontra...</td>\n",
       "      <td>['papais para o centro', 'pois preciso dele ur...</td>\n",
       "      <td>papais para o centro,pois preciso dele urgente...</td>\n",
       "    </tr>\n",
       "  </tbody>\n",
       "</table>\n",
       "</div>"
      ],
      "text/plain": [
       "                  date                                              title  \\\n",
       "0  2021-10-11 12:26:32  CTT - Encomenda entregue danificada e com etiq...   \n",
       "1  2021-08-31 23:20:15               CTT - Carta com certificado rasgado!   \n",
       "2  2021-02-01 19:08:32  CTT - Encomenda registada que nunca chegou ao ...   \n",
       "3  2018-04-19 09:04:34                                CTT - Correio Verde   \n",
       "4  2019-07-04 10:20:41  CTT - Aviso de recepção da carta registada, pr...   \n",
       "\n",
       "   reason                                        description     zone  \\\n",
       "0       0  Bom dia venho por este meio apresentar uma rec...   Lisboa   \n",
       "1       1  - Boa Noite!\\r\\n\\r\\n- Venho por este meio recl...  Coimbra   \n",
       "2       2  Boa tarde,\\r\\nNo dia 17 de Dezembro de 2020 en...   Aveiro   \n",
       "3       2  Bom dia,\\n\\nPretendia esclarecer uma situação ...   Lisboa   \n",
       "4       2  venho por este meio solicitar a vossa ajuda pa...    Porto   \n",
       "\n",
       "                                     narrative_tfidf  \\\n",
       "0  bom dia venho meio apresentar reclamação ctt e...   \n",
       "1  bom noite venho meio reclamar data ás durante ...   \n",
       "2  bom tarde dia dezembro enviar encomenda França...   \n",
       "3  bom dia pretender esclarecer situação ocorrer ...   \n",
       "4  venho meio solicitar vosso ajudar saber onde e...   \n",
       "\n",
       "                                narrative_embeddings  \\\n",
       "0  bom dia venho por este meio apresentar uma rec...   \n",
       "1  - boa noite!\\r\\n\\r\\n- venho por este meio recl...   \n",
       "2  boa tarde,\\r\\nno dia 00 de dezembro de 0000 en...   \n",
       "3  bom dia,\\n\\npretendia esclarecer uma situação ...   \n",
       "4  venho por este meio solicitar a vossa ajuda pa...   \n",
       "\n",
       "                                      narrative_bert  \\\n",
       "0  Bom dia venho por este meio apresentar uma rec...   \n",
       "1  - Boa Noite! - Venho por este meio reclamar qu...   \n",
       "2  Boa tarde, No dia 17 de Dezembro de 2020 envie...   \n",
       "3  Bom dia, Pretendia esclarecer uma situação que...   \n",
       "4  venho por este meio solicitar a vossa ajuda pa...   \n",
       "\n",
       "                               narrative_tfidf_title  \\\n",
       "0  ctt encomenda entregar danificar etiqueta envi...   \n",
       "1  ctt carta certificar rasgar bom noite venho me...   \n",
       "2  ctt encomenda registar nunca chegar destine o ...   \n",
       "3  ctt correio verde bom dia pretender esclarecer...   \n",
       "4  ctt aviso recepção carta registar preciso urge...   \n",
       "\n",
       "                                narrative_bert_title  \\\n",
       "0  ctt - encomenda entregue danificada e com etiq...   \n",
       "1  ctt - carta com certificado rasgado!  - Boa No...   \n",
       "2  ctt - encomenda registada que nunca chegou ao ...   \n",
       "3  ctt - correio verde  Bom dia, Pretendia esclar...   \n",
       "4  ctt - aviso de recepção da carta registada, pr...   \n",
       "\n",
       "                          narrative_embeddings_title  \\\n",
       "0  ctt - encomenda entregue danificada e com etiq...   \n",
       "1  ctt - carta com certificado rasgado ! - boa no...   \n",
       "2  ctt - encomenda registada que nunca chegou ao ...   \n",
       "3  ctt - correio verde bom dia,\\n\\npretendia escl...   \n",
       "4  ctt - aviso de recepção da carta registada , p...   \n",
       "\n",
       "                                         tfidf_title  \\\n",
       "0  ctt encomenda entregar danificar etiqueta envi...   \n",
       "1                        ctt carta certificar rasgar   \n",
       "2      ctt encomenda registar nunca chegar destine o   \n",
       "3                                  ctt correio verde   \n",
       "4  ctt aviso recepção carta registar preciso urge...   \n",
       "\n",
       "                                 title_tfidf_nolemma  \\\n",
       "0  ctt encomenda entregue danificada etiquetas en...   \n",
       "1                      ctt carta certificado rasgado   \n",
       "2       ctt encomenda registada nunca chegou destino   \n",
       "3                                  ctt correio verde   \n",
       "4  ctt aviso recepção carta registada preciso urg...   \n",
       "\n",
       "                                              events  \\\n",
       "0  ['venho', 'apresentar', 'Enviei', 'destinado',...   \n",
       "1  ['Venho', 'reclamar', 'deparei -me', 'continha...   \n",
       "2  ['enviei', 'registado', 'vejo', 'chegou', 'sai...   \n",
       "3  ['Pretendia esclarecer', 'ocorreu', 'desloquei...   \n",
       "4  ['venho', 'solicitar', 'saber onde se encontra...   \n",
       "\n",
       "                                            keywords  \\\n",
       "0  ['apresentar uma reclamação', 'tinha', 'caixa'...   \n",
       "1  ['Lilia Pimentel', 'certificado profissional',...   \n",
       "2  ['França em correio registado', 'França em cor...   \n",
       "3  ['Pretendia esclarecer uma situação', 'Pretend...   \n",
       "4  ['papais para o centro', 'pois preciso dele ur...   \n",
       "\n",
       "                                     keywords_string  \n",
       "0  apresentar uma reclamação,tinha,caixa,figura,e...  \n",
       "1  lilia pimentel,certificado profissional,passag...  \n",
       "2  frança em correio registado,frança em correio,...  \n",
       "3  pretendia esclarecer uma situação,pretendia es...  \n",
       "4  papais para o centro,pois preciso dele urgente...  "
      ]
     },
     "execution_count": 7,
     "metadata": {},
     "output_type": "execute_result"
    }
   ],
   "source": [
    "# Load the data\n",
    "df = pd.read_csv(\"D:\\\\MS DATA SCIENCE\\\\NLP TESE\\\\data\\\\data_processed_selected.csv\")\n",
    "df.head()"
   ]
  },
  {
   "cell_type": "code",
   "execution_count": null,
   "id": "6dd80f7b",
   "metadata": {},
   "outputs": [],
   "source": [
    "# # legenda\n",
    "# reason_dict ={'Mau Serviço Prestado': 0, 'Condições de entrega': 1, 'Atraso de entrega': 2, \n",
    "#                'Enganos': 3}"
   ]
  },
  {
   "cell_type": "markdown",
   "id": "7ca8fb51",
   "metadata": {},
   "source": [
    "I'm going to use narrative_bert to extract the following features. The package code is interfering with NER results so I'm going to replace them with ''."
   ]
  },
  {
   "cell_type": "markdown",
   "id": "f448f705",
   "metadata": {},
   "source": [
    "## some extra processing"
   ]
  },
  {
   "cell_type": "code",
   "execution_count": 16,
   "id": "1bad46f5",
   "metadata": {},
   "outputs": [
    {
     "data": {
      "text/plain": [
       "'Estou com inúmeros envios para o Brasil, parados em Lisboa desde o início de dezembro de 2017. Faço ENVIO AZUL pela rapidez e sem sucesso. Registro reclamação no site do CTT e é sempre aquela resposta copiada e colada para tudo. E não resolvem nada e nem satisfação dão! Tive um envio no qual a destinatária se mudou de endereço e só chegou ao BR hoje (29/01). Estou pagando por um serviço que não está sendo prestado. Vou listar abaixo os envios com data, código de rastreio e valores. Envio 04/12/2017 Código de Rastreio: LL 0609 9748 1 PT Valor do Envio: € 24,20 Status: Em Lisboa até hoje  Envio 04/12/2017 Código de Rastreio: LL 0609 9749 5 PT Valor do Envio: € 16,50 Status: Em Lisboa até hoje  Envio 18/12/2017 Código de Rastreio: LL 0609 9770 8 PT Valor do Envio: € 5,10 Status: Chegou só hoje no Brasil (29/01) e não vai chegar nas mãos de minha destinatária, pois ela está se mudando de Estado.  Envio 10/01/2018 Código de Rastreio: LL 0609 9809 3 PT Valor do Envio: € 9,00 Status: Em Lisboa até hoje  Envio 10/01/2018 Código de Rastreio: LL 0609 9822 1 PT Valor do Envio: € 16,50 Status: Em Lisboa até hoje  Envio 10/01/2018 Código de Rastreio: LL 0609 9810 2 PT Valor do Envio: € 9,00 Status: Em Lisboa até hoje  Envio 10/01/2018 Código de Rastreio: LL 0609 9822 1 PT Valor do Envio: € 16,50 Status: Em Lisboa até hoje  Envio 10/01/2018 Código de Rastreio: LL 0609 9821 8 PT Valor do Envio: € 16,50 Status: Em Lisboa até hoje  Envio 12/01/2018 Código de Rastreio: LL 0609 9818 1 PT Valor do Envio: € 3,90 Status: Em Lisboa até hoje  Envio 19/01/2018 Código de Rastreio: LL 0609 9835 4 PT Valor do Envio: € 9,00 Status: Em Lisboa até hoje Foram gastos € 109,70 para ter dor de cabeça. E pior, não ter a encomenda enviada (Serviço pelo qual paguei e muito bem). Quero solução e não desculpas! '"
      ]
     },
     "execution_count": 16,
     "metadata": {},
     "output_type": "execute_result"
    }
   ],
   "source": [
    "# Define regular expression pattern to remove\n",
    "pattern = r'_'\n",
    "# Use the 'replace()' method with the regular expression pattern to remove the string pattern from all rows\n",
    "df['narrative_bert'] = df['narrative_bert'].replace(to_replace=pattern, value='', regex=True)\n",
    "df['narrative_bert'].iloc[6306]"
   ]
  },
  {
   "cell_type": "code",
   "execution_count": 20,
   "id": "aa6ce1c7",
   "metadata": {},
   "outputs": [
    {
     "data": {
      "text/plain": [
       "'Bom dia venho por este meio apresentar uma reclamação aos CTT. Enviei uma encomenda cujo conteúdo era uma figura de resina artesanal. O envio foi destinado a um amigo de Israel. O envio foi feito no dia 2021-09-09 no posto de ctt da Aboboda. Código:  O envio estava muito bem ambalado e protegido, tinha uma segunda caixa onde estava a figura protegita com muito papel bolha e esponjas. Infelizmente o meu amigo recebeu uma caixa que chegou quase destruida, figura partida, e chegou passado um mês. Mas aqui vão os problemas todos: Levou muito tempo a chegar A caixa chegou destruida A caixa tinha sido aberta e tinha as etiquetas mudadas A caixa tinha um segundo nome de remetente português e um novo remetente em Israel. Pior: A figura chegou danificada e partida, sem concerto. Nas fotos envidas tinha uma etiqueta com novo tracking number alterado e com remetente novo de Braga e destino para outra senhora, que nem sei quem é. Tracking tinha um 6 em vez do 5 anterior no final. Gostaria mesmo de um esclarecimento em relação a isto. Irei escrever quantas reclamações forem necessárias até ter uma justificação. Esta encomenda partida foi desastroso para mim e para os meus projetos. Espero pelo menos ter o meu dinheiro de volta, nem que seja o shipping ou o valor da mesma que foi 55 euros , tive que os desvolver. Obrigado Cumprimentos. '"
      ]
     },
     "execution_count": 20,
     "metadata": {},
     "output_type": "execute_result"
    }
   ],
   "source": [
    "# Define regular expression pattern to remove\n",
    "pattern = r\"\\b[A-Z]{2}\\d{9}[A-Z]{2}\\b\"\n",
    "# Use the 'replace()' method with the regular expression pattern to remove the string pattern from all rows\n",
    "df['narrative_bert'] = df['narrative_bert'].replace(to_replace=pattern, value='', regex=True)\n",
    "df['narrative_bert'].iloc[0]"
   ]
  },
  {
   "cell_type": "code",
   "execution_count": 19,
   "id": "f8caf6ed",
   "metadata": {},
   "outputs": [],
   "source": [
    "# Define regular expression pattern to remove\n",
    "pattern = r\" - \"\n",
    "# Use the 'replace()' method with the regular expression pattern to remove the string pattern from all rows\n",
    "df['narrative_bert'] = df['narrative_bert'].replace(to_replace=pattern, value=' ', regex=True)"
   ]
  },
  {
   "cell_type": "code",
   "execution_count": 21,
   "id": "40ecfd5b",
   "metadata": {},
   "outputs": [
    {
     "name": "stdout",
     "output_type": "stream",
     "text": [
      "Como é costume eu faço encomendas internacionais e de todas as que fiz esta é a primeira encomenda que fica nesta situação. Ela veio normalmente, chegou em Lisboa e até aí tudo bem, mas quando a encomenda foi para ser distribuída eu fui ao CTT tracking verificar e lá mostrava que estava a ser distribuída em peso da régua ou seja fica no Porto e eu vivo em Póvoa de Lanhoso como é que um engano destes pode acontecer, friso desde já que estava a minha morada número telefónico e o meu nome tudo certinho na encomenda. Não sei o que se passou mas quero a minha encomenda o mais rápido possível na minha morada, estes enganos são lamentáveis e não podem acontecer até porque a minha encomenda não foi propriamente barata o conteúdo dela tem algum valor monetário para ser entregue assim numa morada errada. Por favor CTT resolvam este inequívoco com urgência \n",
      "Bom dia. Á uns meses atrás fiz uma compra (Um brinquedo de modelismo) via web na Korea. Tudo normal. No passado dia 8 de Abril esta mesma deu entrada na Alfandega. Tudo normal No passado dia 9 de Abril esta deu entrada em armazém para aplicação de legislação. Tudo normal. Após ter recebido um pedido de documentos para comprovar a compra e o valor da mesma, enviei toda a informação solicitada, bem como a respectiva documentação no passado dia 15 de Abril. Tudo normal Aqui começa o atraso, mas nada de estranho ainda: Passados 27 dias lá me libertaram a encomenda para LISBOA DUANE em expedição nacional. No dia 08 do presente mes, enviaram-me um email a solicitar a morada de entrega do objecto. Estranho, nao?!?! No dia 13 de Maio lá veio a encomenda para distribuição, o que me deixou já descansado. No dia 14 de maio. Lá veio outra incidência Encaminhamento errado, Reexpedido isto num local que nada tem a ver com a minha morada. Na passada 6ª feira dia 15 a encomenda foi para o COCS LISBOA. Na passada 2ª feira dia 18 liguei para o serviço de clientes (novamente) a perguntar pela encomenda ao qual me responderam que o mais tardar na passada 4ª feira dia 20 iria receber a encomenda. Estou a ver que aconteceu algo á encomenda que me pertence, e ninguém me entrega a encomenda, nem me dizem onde está, nem o que lhe aconteceu. Já enviei mais de 10 emails para o reclamações.CTT, e mais de 10 emials para o internacional.CTT, e nunca obtive resposta alguma a não ser as respostas sempre evasivas. Com isto tudo, eu quero apenas a minha encomenda. Já me disponibilizei a ir inclusive buscar a minha encomenda onde quer que ela esteja, pois já vi, que algo se passou, pois nem a morada de entrega têm. Ninguem me da respostas, ninguém me resolve o problema, e eu não consigo receber a encomenda. Começo inclusive a pensar que estou a ser vitima de furto \n",
      "Há já vários meses que desaparece correspondência minha. Todos os meses recebo mensagens por falta de pagamento de água e eletricidade. Hoje verifiquei que não recebi subsídio de doença por motivo de falta de comparência numa ação inspetiva. Nunca recebi carta alguma da Segurança Social pelo que, não sei se esta me foi enviada ou se foi extraviada conforme muitas outras pelo CTT ou outras empresas que atualmente fazem distribuição. Na minha caixa de correio aparece muita correspondência que não é minha, com a menção de Rua Campo do Ouro, aqui trata-se de Avenida Campo do Ouro. Hoje entreguei no CTT duas cartas que não são minhas com a direção Rua Campo do Ouro. Como aparece na minha caixa de correio correspondência que não é minha (cartas de Brisa, Vodafone, etc) com certeza também desviam a minha correspondência, há cerca de 8 meses uma carta minha onde continha um livrete de uma viatura foi parar a uma loja comercial a cerca de 300mts da minha casa. Assim, peço a V/Exas que tenham em atenção à troca da Rua Campo do Ouro e Avenida Campo do Ouro, pois esta troca está a trazer-me problemas graves. Atentamente, José Magalhães \n",
      "No passado dia 12/03/21 dirigi-me ao posto dos CTT de Portimão/R. Teixeira Gomes para enviar uma encomenda para o Brasil. Depois de mais de uma hora de espera consegui finalmente proceder ao respectivo registo, pagamento e despacho da caixa. Passada mais de uma semana, a encomenda que devia ter sido enviada para o destinatário no Brasil é me entregue na minha casa como se fosse eu a própria destinatária da minha encomenda. Apresentei no mesmo dia queixa aos CTT e foi-me solicitado que enviasse justificante de pagamento e fotografias para analisar o processo (como se eu fosse gastar 70€ para enviar uma encomenda para mim própria). Ao longo de todo este longo processo nunca tive a oportunidade de falar telefonicamente com ninguém dos CTT, os escassos emails que recebi vêm de remetentes distintos, são evasivos, não demonstram nenhum interesse em resolver a situação e sobretudo são muito dilatados no tempo (o ultimo foi no dia 6/04), o que denota claramente um objetivo de arrastar o processo pelo máximo tempo possível. Não posso deixar de apresentar queixa como forma de alertar outros clientes e reiterar o meu descontentamento com os CTT, a sua má organização (que explica que uma encomenda seja entregue no remetente em vez de no destinatário), a indisponibilidade de meios de comunicação directos entre a instituição e os seus clientes, a falta de interesse em resolver um problema do cliente e corrigir o erro causado pela instituição, o prazo de tempo necessário para resolver a queixa, a lentidão dos envios (passado uma semana constatou-se que a minha encomenda continuava na mesma cidade em que foi despachada), o preço dos seus serviços (70€ foi o preço que paguei para enviar uma caixa de 4kg), e todo o péssimo funcionamento do canal de Atenção ao Cliente que claramente tem zero orientação para o cliente (talvez o departamento devesse chamar-se de outra forma, é um desafio que coloco à equipa de Marketing da instituição CTT). Nesta era do Digital, os CTT continuam a estar muito atrás de outras empresas com a sua dimensão. Obrigada. \n",
      "Aguardo desde dia 22 de Junho por uma encomenda com a REF. RH 752274698 PT que no site refere que foi entregue na minha caixa do correio. A entrega não aconteceu, estamos 2 pessoas permanentemente em casa que vão diariamente à caixa do correio portanto é quase impossível terem tentado a entrega. Curioso da situação é que isto nunca aconteceu e foi logo com uma encomenda no valor de 60 EUROS de uma marca de Joias. Diz também no registo que foi entregue às 10:00 e isso nunca acontece, vêm sempre muito mais tarde. \n",
      "Bom dia venho por este meio expor uma reclamação sobre os serviços ctt, mais especificamente na zona de Loures Infantado, uma vez que nas últimas semanas tem sido recorrente a correspondência da urbanização estar mal entregue em todos os prédios. Correspondência do prédio número 2 colocada no prédio 1. Correspondência do prédio 3 colocado no prédio 2 e assim sucessivamente. Esta situação é muito grave, além de dificultar a receção de correspondência e encomendas de valor que ficam retidas noutras moradas ou são mesmo devolvidas. Agradeço a rápida resolução desta situação, caso contrário voltarei a apresentar reclamação num balcão CTT até que a situação esteja regularizada. Aguardo. Obrigada. \n",
      "Fiz um pedido de reparação a capas de telemovel e a empresa americana disse que me enviava duas capas gratuitamente mas que tinha que pagar 16usd pelo envio, cerca de 14€. Fiz o pedido sabendo que valores abaixo de 22€ n são sujeitos a IVA. Agora tenho os CTT a pedir me 31€ de IVA numa encomenda que nem passou dos 15€. Ora se isto não é ilegal não sei o que é! Por favor rectifiquem a situação e não se achem acima da lei. \n",
      "Boa tarde, Tenho vindo a reparar que nos últimos dias o serviço de entregas de correspondência é muito mau. Já apanhei por diversas vezes cartas no chão (uma delas era minha e com um cartão), cartas nas caixas de correio erradas (algumas com cartão de multibanco e respectivo pin) que já tive que entregar no local correcto. Tenho algumas encomendas para entrega esta semana e não estão a chegar e gostaria de saber quem irá assumir a responsabilidade de as mesmas serem extraviadas ou entregues em moradas incorrectas. Algumas pelo traking já verifiquei que tinha sido entregue aos ctt contudo ainda não recebi nada. Em anexo mostro alguma correspondência que foi entregue incorrectamente no qual estive a fazer serviço para os ctt a colocar no local correto. \n",
      "Bom dia, desde quinta feira que este objecto se encontra dado como entregue e sem qualquer dado do recetor. Reclamei através de email, responderam-me a pedir alguns dados, meus e inclusive do remetente. Do remetente dei apenas o nome e dei os meus , que sou o destinatário. A partir daí, nunca mais me responderam. Já preenchi depois disso um formulário no site a perguntar onde anda a encomenda, já mandei outro mail a relembrar esta situação, liguei mas quando passam a chamada, esta desliga-se. entretanto passaram dois dias e a encomenda não aparece. O campo do recetor serve afinal para quê, se depois metem as encomendas entregues e sem qualquer nome ou referência? Foi entregue a quem? Quem é que me vai pagar o valor da encomenda caso não apareça? Aguardo resolução célere a esta reclamação. \n"
     ]
    }
   ],
   "source": [
    "for i in range(21,30):\n",
    "    print(df['narrative_bert'][df['reason']==3].iloc[i]) #enganos"
   ]
  },
  {
   "cell_type": "code",
   "execution_count": 22,
   "id": "6cc08d2d",
   "metadata": {},
   "outputs": [
    {
     "name": "stdout",
     "output_type": "stream",
     "text": [
      "Foi enviada uma caixa para o Brasil no dia 14 de agosto, porém ontem ela retornou para a minha casa, no dia 06 de outubro, com a justificativa de objeto sem código S10. Em pesquisa feita descobri que se trata da ausência de código de rastreio, se tal era necessário o CTT não deveria enviar nenhuma encomenda sem o mesmo. A opção a qual eu paguei no valor de 21,95 euros nem deveria estar disponível. Aguardo retorno do CTT para resolvermos a questão, pois se trata de um serviço extremamente mau prestado. \n",
      "Venho por este meio expressar a minha indignação para com os CTT. No dia 27/11/2014 foi-me enviada uma encomenda em correio verde. Encomenda essa que NUNCA chegou ao destinatário. Dirigi-me aos Correios, a perguntar se estaria por lá alguma coisa para mim, e responderam-me que não, que ou estaria nos Correios de origem ou que se teria extraviado. Desta feita, a pessoa voltou a enviar-me nova encomenda, dia 11/12/2014, em correio AZUL! Para além de chegar dois dias mais tarde do que devia, o envelope foi cortado e colado com fita adesiva, e o seu conteudo vinha danificado (segue foto em anexo). O atraso dos envios,uma pessoa ainda compreende, uma vez que estamos no mês do Natal. Mas é inadmissível que uma encomenda chegue no estado em que chegou, atrasada, e principalmente já se tendo extraviado a primeira. Nos Correios da minha área de residência em nada me ajudaram, e recusaram-se a assumir qualquer tipo de responsabilidade porque não se tratava de uma encomenda em Correio Registado. Venho por este meio solicitar que se averigue o que se passou e que alguém desta entidade se venha responsabilizar pelo acontecimento, uma vez que quem ficou em prejuizo fui eu. \n",
      "Boa tarde, Recebi hoje uma encomenda via CTT do remetente Bordal Bordados Madeira e para meu espanto além de não ter sido solicitada qualquer identificação ou assinatura a quem recebeu o envelope almofadado (o produto já estava pago e podia muito bem ter sido entregue à pessoa errada) o envelope estava completamente aberto, rasgado até. O produto chegou completo mas também não era de grande valor. Nunca me deparei com uma situação destas porque todas as minhas encomendas em envelopes almofadados têm chegado fechadas. Sendo que considero invasão de privacidade e potencial roubo, neste caso de bordado Madeira, gostava que analisassem esta situação. Cumprimentos Lina Camacho \n",
      "Boa tarde! Venho reclamar uma encomenda que vinha dirigida ao meu filho com o numero de registo  , a qual ele estava a aguardar e a acompanhar a entrega no site dos CTT conforme foto em anexo. Para nosso espanto a encomenda foi entregue hoje de manhã a alguém que a recebeu assinou com o nome dele! Ele contactou de imediato a linha de apoio ao cliente onde lhe responderam que se está assinado com o nome dele está entregue! Depois de ele voltar a reclamar disseram que iam averiguar a situação e ligavam. Está entregue a quem? Não confirmaram a identidade dessa pessoa? No posto dos CTT da Praia da Vitória não atendem o telefone e não conseguimos saber a quem entregaram a encomenda! Aguardamos resposta! Cumprimentos, Susana Leal \n",
      "Esta é a segunda reclamação que faço aos CTT pelo mesmo motivo. Recebi uma resposta da primeira reclamação que comprova que não perceberam o que aconteceu ou simplesmente não leram a reclamação na íntegra (aspecto que comprovei com um telefonema recebido dos CTT onde culpavam o carteiro que entrega as encomendas na minha loja, sendo esta uma encomenda para fora da minha cidade). A situação é a seguinte: Fiz o envio de dois livros para uma cliente que quando recebeu a encomenda apresentou uma reclamação (no passado dia 30/11) dado o estado de total destruição que recebeu os livros. Houve pouco cuidado pelos CTT no manuseamento da encomenda, ou no armazém antes da distribuição da mesma ou, em último caso, pelo carteiro que a entregou. O facto é que os dois livros que a cliente recebeu estavam danificados, inclusive um deles foi brutalmente aberto (continha um selo a lacrar que foi violado). A cliente enviou-me fotografias como posso provar e como enviei na 1ª reclamação. O prejuízo foi grande porque tive de enviar outros livros a cliente, não sendo o baratos, fora o mal serviço que a minha empresa ficou associada. sinto-me lesada de varias formas (na imagem da minha empresa, no valor que tive de pagar pelo dano causado e pelo reenvio). Recebi uma resposta dos CTT que referem que quando nos circuitos é verificada qualquer correspondência com deficiência a mesma é anotada. O que acontece e mais uma vez reforça a minha ideia de que os CTT não apuraram corretamente os factos, é que a correspondência não tinha deficiência, mas foi feita dentro do circuito deles. Agora escudam-se pelo envio não ter sido registado. Ou seja, no envio normal estamos sujeitos a tudo? Que tipo de serviço é este? \n",
      "No dia 21/01/2021 (quinta-feira) recebi a informação através de SMS e e-mail que iria receber a encomenda com o número de rastreio  na minha morada nesse mesmo dia até as 19h. Estando eu em recolhimento obrigatório e em tele trabalho e por acaso até resido numa rua sem saída onde existem muito poucas casas, daí ser impossível passar uma carrinha na mesma e não ser vista, a encomenda não foi entregue alegadamente por não estar ninguém em casa. Não reclamei logo, na hora, pois recebi um SMS ao final da tarde afirmando que no dia a seguir(sexta-feira) iriam tentar nova entrega. No dia seguinte (22/01) era, então, suposto receber 2 encomendas: a que devia ter sido entregue no dia anterior, e uma nova que estava agendada para ser entregue nesse mesmo dia, com o número de rastreamento . É bom frisar que ambas as encomendas provinham do centro de logística dos CTT expresso de Mem Martins, pelo que supus que ambas seriam entregues na mesma visita. Acompanhei exaustivamente o site dos CTT para ver o status da encomenda, pois já não iria permitir que alegassem “ausência do destinatário”. As 14h da tarde liguei para a linha CTT para ver se conseguia mais alguma informação pois 95% das vezes os CTT aparecem até a hora do almoço na minha morada e o facto de não terem aparecido àquela hora, deixou-me logo desconfiada. Infelizmente disseram-me que as duas encomendas se encontravam em distribuição e teria mesmo de aguardar até as 19h. Ora às 19h em ponto liguei novamente porque nenhuma das encomendas tinha aparecido e no site havia a indicação de que ainda se encontravam em distribuição. Foi-me dito pelo operador que provavelmente teria havido atrasos pelo que em princípio entregariam na segunda feira. Qual não é o meu espanto, por volta das 19:30/19:40, fui verificar o status das encomendas e ambas estão como entregues as 11:20 da manhã e no campo do receptor apenas aparece a letra “l”. Agora pergunto: mas anda tudo a brincar?!?! Claro que a essa hora já não consigo falar para o apoio ao cliente, isto é de deixar uma pessoa num grande estado de nervos. Estamos a falar de encomendas pagas, cerca de 100€ de mercadoria, um erro que o remetente não tem culpa nenhuma nem eu, que sou a destinatária, e agora pergunto: quem me vai ressarcir? Quero as minhas encomendas! \n",
      "No passado dia 28/11/2017, pelas 17:19, entreguei na Estação de Ctt de Fornos, em Santa Maria da Feira, uma encomenda registada, para envio à cobrança, com o número , que deveria chegar no prazo máximo de 3 dias. Feito o rastreamento da encomenda, o único movimento registado é a aceitação, feita no dia e horário acima referidos. Estou desde dia 6/12/2017 a entrar em contacto, pessoalmente e via telefone, com o meu posto habitual, mas até ao momento referem desconhecer onde estará a minha encomenda. A encomenda destinava-se a uma cliente, grávida e à espera de bebé, pelo que para além deste prejuízo, irei perder a cliente, que tem urgência em ter consigo o objeto encomendado. Lamento este prejuízo. Enviei correio registado, precisamente para evitar perdas. Aguardo que me indiquem onde está a encomenda e que a façam chegar ao seu destino. \n",
      "solicito a maior atenção para a ditribuição do correio no lugar de avecasta.Éa segunda vez que o correio não é entregue na minha morada que se encontra identificada com nº de porta, inclusive nome escrito em ajulejo junto á caixa de correio.Não entendo como fazem confusão com o meu nome.Acarta verde do seguro do meu automovel foi colocada noutra caixa de correio.Considero grave pois entrei em contacto com a Fidelidade seguros que emitio e enviou o seguro no mês de Maio, que nunca apareceu.como não é caso único pois já reclamei 1 vez verbalmente e tenho conhecimento de que outras pessoas da terra tiveram problemas com o correio,que depois se percebe que são metidos em caixa á qual não corresponde.hesistem casas desabitadas e pessoas que não entregam o correio ao vizinho.agradeço a máxima atenção para o assunto. \n",
      "Bom dia Recebi hoje, dia 10 de julho de 2017, uma carta remetida de Pinhal Novo dia 5 de julho de 2017 com a identificação de selo 0172917 01-1003542 2017-07-05 15:33:54. A referida carta continha duas chaves que não chegaram ao destinatário pois quando recebi a carta esta tinha dois cortes no canto inferior esquerdo e vinha completamente vazia. Qual a confiança que se deve depositar nos CTT? Com os melhores cumprimentos António Pires \n"
     ]
    }
   ],
   "source": [
    "for i in range(21,30):\n",
    "    print(df['narrative_bert'][df['reason']==1].iloc[i]) #cond entrga"
   ]
  },
  {
   "cell_type": "code",
   "execution_count": 23,
   "id": "6f1b8b80",
   "metadata": {},
   "outputs": [
    {
     "name": "stdout",
     "output_type": "stream",
     "text": [
      "Saudações de acordo com o horário em que visualizam! Eu fiz uma encomenda no dia 28/04/2021 no site da Pretty Little Thing (PLT), na qual foi expedida via Royal Mail com o n.°  e como em todas as encomendas, eles deram-me até dia 14 de Maio para receber a encomenda, o que por sua vez não aconteceu. Lembrando que, apesar do Reino Unido já não estar na União Europeia, a taxa alfandegária foi paga no ato do pedido da encomenda, caso o entrave da encomenda seja este. Como ia dizendo, a encomenda chegou em Portugal no dia 11/05/2021, 3 dias antes da data prevista para entrega. Até agora, quando rastreio aparece que a encomenda está “pendente de aprovação”, hoje é dia 4/06/2021, já lá vão quase dois meses e nada de receber a encomenda. Gostaria de saber o que se passa, por que razão ainda não recebi a minha encomenda e se houver algum motivo superior, por que ainda não fui comunicada. Acrescer ainda que, fiz a encomenda com dois meses de antecedência para que se evitasse esse tipo de situações, pois preciso dela já para o próximo mês e é de pendor urgente. Aguardo resposta, Obrigada. HB \n",
      "Atraso na devolução do dinheiro da cobrança, vejamos: entrega da encomenda dia 12 Fev 2021 às 10.48h encomenda levantada pelo destinatário em 18 Fev 2021 às 14.30h Receção do cheque da cobrança a casa do remetente, 02 Mar 2021 Doze dias para fazer chegar um cheque a casa do cliente, não será tempo em demasia, mesmo em tempo de pandemia? \n",
      "Reclamação #63870221 Durante os ausentes meses desta página, eu estive em contacto convosco, se é que se pode chamar isso, na vossa página. Estas são todos os contactos que fiz ([SR0003537163]:Re: SR0003533053: Re: SR0003462042: Re: SR0003445391: Re: SR0003332915: Re: SR0003223976: Re: SR0003071231). De salientar de que toda a vez que vos contactei recebi uma resposta padrão ou seja um copy / paste em vez de respostas concretas, para além de as pessoas que estão no serviço ao cliente não lerem emails para trás, o que pouparia tempo. Eis um resumo. Setembro: A aventura começa no dia 13 de Setembro 2021. Registo-me no vosso site e tenho uma dificuldade da qual mando um screen shot (sugerido por vós) com o meu problema. 15.09 Reencaminhado para análise mas para procurar online na vossa página. Pergunto-me se os vossos colaboradores sabem os processos e se sabem qual é a verdadeira função de apoio ao cliente.? 18.09 Ainda sem resposta do reencaminhamento interno mas com algumas questões em relação a soluções/opções. (ou fazes e pagas ou é devolvida) 20.09 Sem qualquer resposta ao meu email anterior mencionam que iniciei o processo e depois dão as instruções de como o fazer. 20.09 Sou informada de que vou receber uma nova notificação de 7 dias para efectuar desalfandegamento ou é devolvida a minha encomenda. 22.09 Por favor procedam com o envio da encomenda ao remetente o mais rápido possível e sua confirmação. 24.09 Email do vosso lado :Informamos que o seu objeto já teve autorização de saída da Alfândega, pelo que deverá aguardar a entrega na morada de destino. Importa relembrar que no passado dia 1 de julho de 2021, em cumprimento de uma diretiva comunitária, chegaram ao fim as isenções do Imposto sobre o Valor Acrescentado (IVA) nas compras extracomunitárias mesmo para artigos de valor inferior a 22€. Neste contexto, foi desenvolvido um sistema em que estamos a alertar os nossos clientes via SMS para regularizarem em a eventual falta de dados e/ou a liquidação do IVA e serviços de alfandega, sendo crucial a sua rápida regularização para a celeridade do processo final de entrega aos destinatários. Nesta fase inicial de arranque e de adaptação de todos os intervenientes, estão a verificar-se algumas perturbações com impacto nos prazos de desalfandegamento, estando os CTT a realizar todos os esforços, em colaboração com todos os intervenientes do processo, para regularizar rapidamente a situação. Apelamos à sua compreensão, reiterando que os CTT continuam a trabalhar em articulação com os expedidores para resolver com a brevidade possível os constrangimentos sentidos nesta fase inicial. 29.09 De acordo com o vosso email,screen shot anexado, a minha encomenda foi liberta e a caminho do destinatário mas o vosso site não mostra qualquer movimento. Por favor esclareça. Outubro 4.10 Olá noah mauricio reis, Escolheu o método de pagamento Payshop para completar o processo de desalfandegamento do seu objeto . Para garantir que recebe a sua encomenda rapidamente, realize o pagamento no agente Payshop mais próximo. 6/10 Estimada Cliente Catarina Mafra, Informamos que deverá aguardar pela confirmação do pagamento efetuado das taxas do objeto , por via de uma notificação email e/ou sms. Após a confirmação do pagamento receberá uma notificação a informar que os documentos referentes ao desalfandegamento (declaração aduaneira e fatura) estão disponíveis na área de pagamentos, da ferramenta “Desalfandegar uma encomenda” para consulta, bem como para download e impressão. 11.10 Pagamento efectuado 13.10 O pagamento foi efectuado na Segunda (foto anexada) mas ainda não foi processada pelos vossos serviços? Aguardo resposta o mais breve possível. 14.10 Informamos que já foi aberto um pedido interno de reabertura do seu processo, visto que pagou o desalfandegamento mas o processo expirou, tendo de aguardar a reabertura do seu processo e a receção da notificação de saída do seu objeto. 15.10 Preciso de mudar a morada do destinatário, por favor aconselhe. 16.10 (Eu pedi ajuda em algo e o que eu recebi? = Informamos que se efetuou o pagamento e o processo se encontra expirado deverá aguardar a atualização de saída da alfândega uma vez que se trata de uma anomalia e o estado está em processamento. Estamos a substituir o canal email por formulários, que enviam imediatamente toda a informação para a equipa responsável. Vamos continuar a modernizar os canais de Apoio ao Cliente para responder mais rapidamente às suas questões. (Como querem evitar emails que por norma têm tudo em cadeia?, não consigo entender) 22.10 Peço esclarecimentos. 1) pedi para ser devolvido vocês insistiram no desalfandegamento 2) fi-lo e paguei uns dias mais tarde. Tenho estado a aguardar email e/ou sms de confirmação e nada. Vossos emails mencionavam que ia para o destinatário inicial e agora diz devolvido no dia 4 Outubro, o que NÃO mencionava até recentemente. 3) como assim não encontrou não critérios da alfandega? Quais são os vossos critérios? Esta foi aberta?!?!? 22.10 Solicitamos o comprovativo de pagamento das taxas aduaneiras do processo  para averiguação, por esta via. 22.10 Não percebo como vocês perdem tanta informação, uma vez que já vos foi enviada uma foto. Veja em anexo por favor 24.10 Lamentamos a situação reportada. Informamos que deve aguardar notificação com indicação de conclusão com autorização de saída referente ao objeto , com a maior brevidade possível. Estamos a substituir o canal email por formulários, que enviam imediatamente toda a informação para a equipa responsável. Vamos continuar a modernizar os canais de Apoio ao Cliente para responder mais rapidamente às suas questões. De futuro contacte-nos através de formulário disponível 24.10 Comecemos por ler a cadeia de emails antes de responder porfavor. ? Uma vez que ninguém o faz eis que volto a reenviar o email que originou o anterior. Peço esclarecimentos. 1) pedi para ser devolvido vocês insistiram no desalfandegamento 2) fi-lo e paguei uns dias mais tarde. Tenho estado a aguardar email e/ou sms de confirmação e nada. Vossos emails mencionavam que ia para o destinatário inicial e agora diz devolvido no dia 4 Outubro, o que NÃO mencionava até recentemente. 3) como assim não encontrou não critérios da alfandega? Quais são os vossos critérios? Esta foi aberta?!?!? 4) onde está esta embalagem?!?! Em Portugal ou de regresso á Escócia? E evitem esta treta do sms ou email porque o vosso site diz que já partiu e antes de eu pagar um email vosso diz que vai para o destinatário. 29.10 Ainda à espera da resposta ao meu último email de pedido de esclarecimento. Junto uma outra nota, para a colecção, de que novamente foi alterada, ou melhor, desta vez foi removida toda a nota existente em relação ao meu assunto (4 de Outubro). Por favor leiam o email enviado, o último ou o primeiro, desta lista e dêem uma resposta concreta. Até agora nenhuma sms ou email a confirmar o pagamento, encomenda supostamente devolvida. Onde está a encomenda? Novembro 6.11 Esta reclamação. porque nem email nem sms foi-me enviado até à data, nem sequer há resposta do meu pedido de esclarecimentos, desde o dia 24.10.2021. Nem sequer, alguém se digna a telefonar a dar qualquer esclarecimento ou pedir desculpas. Já estive em Portugal 2 semanas, já regressei e nada da minha encomenda, sms ou email. neste entretanto, a informação no site referente ao dia 4 de Outubro está em branco !?!?! Admito que houve algum lerdismo inicial mas, sinceramente também não houve muita ajuda do vosso lado. \n",
      "No passado dia 03/01/2018, dirigi-me aos CTT de Peniche, e paguei 3 meses de desvio de correspondência (para Santa Iria da Azóia), pelo facto de estar desempregado e registado no centro de emprego de Peniche. Fui operado recentemente operado e, estou em Lisboa a fazer fisioterapia. Paguei o serviço 27,68€. No passado dia 08/03, o Centro de Emprego envio-me uma notificação, para a qual o serviço de desvio de correspondência não funcionou e a correspondência foi-me enviada para a morada de Peniche, quando deveria ter sido enviada para Santa Iria dÁzoia. Faltei á convocatória do Centro de Emprego, que me trouxe alguns contratempos, além do mau serviço prestado pelos CTT de Peniche, tenho 5 dias para explicar o mau trabalho prestado por aquela estação dos CTT. Solicito que os serviços me devolvam o valor por mim pago e que não funcionou, emitam uma declaração que assumam o erro praticado, com um pedido de desculpas. De referir desde o inicio de Janeiro, que o serviço não tem estado a correr bem, começaram os CTT por fazer desvio da correspondência da minha esposa (Serviço não solicitado), apresentei reclamação. De facto tenho a registar, o muito mau serviço prestado por esta entidade. Exijo o referido pedido de desculpas. O valor por mim, pago no inicio de Janeiro e até dia 08/04/2018, e que de uma vez por todas o serviço seja praticado de acordo com o pedido dos Clientes. Irei junto da entidade reclamar, no livro de reclamações e reclamar também junto do Chefe da respectiva estação dos CTT. Vejam para que serve o pagamento de serviços. \n",
      "No passado dia 10.08.2015 foi solicitado o serviço SIGA (através da aplicação para tlm) e ficou registado o pedido. Passado 4 dias liguei para a linha de apoio ao cliente a dar conta, que a encomenda ainda não tinha sido entregue na nova morada ( foi confirmada toda a informação) e indicaram que a mesma se encontrava pendente. Informaram-me que devia telefonar para a estação dos ctt que a tinham ( é claro que na estação de ctt ninguém atendeu, após várias tentativas ctt de Alcabideche). Liguei novamente para a linha de apoio ( vergonhoso ser uma linha de valor acrescentado. que nos dá cabo do saldo de tlm), que se iam desculpando e passado de um operador para outro ( e o tuga sempre a pagar, mas pelo menos iam dando música). Resumindo até hoje ainda não veio a encomenda, já fiz reclamação através da mesma linha. Uma resolução tão simples, que passava internamente entrar em contacto com os ctt de Alcabideche para desbloquear a encomenda e entrega-la em Guimarães. A minha reclamação se demorar os 10 dias de resposta, que será o que vai acontecer, quando a entregarem podem a levar de volta pois já não estará lá ninguém para a receber, ou senão ainda vou ter de pagar novamente para que familiares meus o façam. Os ctt, prestam um mau serviço SIGA aos seus clientes. \n",
      "Foi postado um envelope com documentos importantes no Brasil, em 27/12/2021. O prazo seria 8 a 11 dias úteis, tendo sido finalizado, portanto, em 11/01/2022. Ontem, 17 dias depois, o envelope finalmente chegou a Portugal e saiu para entrega (teoricamente). Como faltava o complemento (apartamento) na morada, o rastreio indicou que não foi entregue, pois morada estava incompleta. Até ai, ok. Entretanto, não fui contactada em nenhum momento pelo CTT (nem por email, nem sms, como dizem que entram em contato o número de telemóvel foi fornecido). E o envelope nem sequer tentou ser entregue, pois estive durante todo o dia a espera e afirmo que o CTT nem sequer passou. Tentei levantar o envelope em um dos centros de distribuição e fui informada que voltará para o remetente, e que eles de forma alguma fazem algum tipo de contato. Ou seja, mesmo eu indo atrás do envelope, eu não posso levantar? O documento demorou mais do dobro do tempo pra chegar e agora simplesmente vai voltar pro Brasil? Não aceito. Eu preciso levantar esse envelope seja onde for. Não exijo que adivinhem a morada, ok. Mas eu estou me dispondo a ir buscar e não posso? Peço por favor, que me deixem levanta-lo seja onde for. Codigo de rastreio:  \n",
      "Bom dia, encomendei um produto na loja AliExpress, seguindo os mesmos passos, de outras anteriores. Ontem à noite fui surpreendido por uma chamada de um individuo que tinha recebido a minha encomenda, no sitio Rua do desterro (Lisboa Gabinete de Contabilidade), deixada pela vossa empresa. A encomenda foi entregue noutra morada e só graças à honestidade do receptor, que confirmou, à posteriori, que a mesma não era para si, é que consegui reaver o meu produto. É lamentável o que aconteceu! \n",
      "Tenho retida na Alfandega a encomenda , da qual já iniciei o respectivo processo de desalfandegamento em 20.10.2021, em que foram enviados todos os documentos solicitados à excepção de uma peritagem a efetuar pela PSP que foi solicitada pelo canais próprios no dia 20.10.2021, tendo a PSP enviado e-mail aos serviços da alfandega a 27.10.2021 a solicitar a apresentação do objeto a peritar e a data e a hora onde o o objeto estaria para tal diligência ser efetuada. Contudo a alfandega não responde à PSP, e não apresenta a encomenda para peritagem, no entanto a alfandega ameaça enviar de volta ao remetente a encomenda se não for enviada a peritagem em falta efectuada pela psp. Ao contactar o serviço dos CTT para questionar sobre o assunto, os mesmo dizem que tem de se aguardar, não indicam o numero de contato directo da alfandega para se poder comunicar com quem está a fazer directamente o desalfandegamento da encomenda, os CTT dizem que são apenas intermediários e que não tem contato direto com a alfandega, de que nós serve intermediários que não podem resolver os problemas, qual a sua utilidade!? O que se pode fazer para resolver está situação em que a alfandega ameaça devolver a encomenda, por falta de uma peritagem, peritagem essa que a PSP, já solicitou marcação e apresentação do objecto para peritagem e a própria alfandega não responde a indicar o local e a data em que os objectos estaram disponíveis para peritagem. uma vergonha e no entanto continuam a pedir a peritagem e a ameaçar devolver a encomenda ao remetente, quando a falha é da propria alfandega. Obrigado pela atenção. \n",
      "Eu não entendo o quê que tem acontecido com o CTT, tenho tido situações extremamente aborrecíveis com essa empresa, isto tem sido um exagero extremo, não consigo descrever a tamanha frustração que essa empresa tem me causado, eu enviei um encomenda para Angola hoje entro no site para seguir a encomenda e vejo que a encomenda chegou ao país de destino (Moçambique) como é possível esse trabalho tão mal prestado? Agora que irá devolver a quantidade de dinheiro que eu gastei, eu enviei uma encomenda com roupas, telemóveis e por aí vai. A minha primeira encomenda que foi extraviada até agora não resolveram nada, agora está? Sinceramente, isto está a ultrapassar o limite normal das coisas. Espero que entrem em contacto comigo até porque têm o meu contacto telefónico ou terei que tomar outras medidas cabíveis. \n"
     ]
    }
   ],
   "source": [
    "for i in range(21,30):\n",
    "    print(df['narrative_bert'][df['reason']==0].iloc[i]) #mau serviço prestado"
   ]
  },
  {
   "cell_type": "code",
   "execution_count": 24,
   "id": "253b2893",
   "metadata": {},
   "outputs": [
    {
     "name": "stdout",
     "output_type": "stream",
     "text": [
      "Tenho uma encomenda internacional que na página do traking da loja refere que no dia 02/12/2021 foi entregue a empresa de transporte do país de destino,na página dos CTT com o traking com o número  refere que dia 30/11/2021 refere que o envio foi aceite e que o processo de envio foi aceite, passados 3 messes ainda não recebi a encomenda, gostaria de saber onde para a minha encomenda? Cumprimentos, Luís Capelo.tranking \n",
      "Desde o dia 26 de Janeiro que tenho uma encomenda no estado Recepção internacional. O track number da encomenda é . Já enviei imensos emails a reclamar a situação. Mas sempre me foi respondido que situação está a ser averiguada. Estou desesperado paguei pelo envio e encomenda por si vale dinheiro. \n",
      "Boa tarde, fiz uma encomenda que aguardo faz algum tempo. Considerando o tracking number , vejo que a mesma foi recepcionada em Portugal no dia 16/12/2017 pelas 02:10. Desde então não existe qualquer registo adicional ou evolução no processo, sendo que hoje é dia 22/12, ou seja, já vai com 5 dias utéis. Reparo que o serviço está cada vez pior e é uma vergonha, considerando que cobram por determinados serviços que depois não asseguram nem cumprem. \n",
      "Desde o dia 04/03 que a encomenda está em Portugal e desde o mesmo dia que insisto na resolução e entrega da minha encomenda que não se trata de uma arma nuclear mas sim um carrinho de brincar para o meu sobrinho. Paguei muito mais para ser expresso, pois a criança faria (FEZ) anos no dia 04/04 (UM MÊS DEPOIS) e não queria atrasos. Não é sequer um carrinho com telecomando, mas sim uma espécie de hotwheels, uma miniatura da minha viatura que o meu sobrinho adoraria ter na coleção (e não, também não se trata de um item de coleção real). O vendedor já enviou toda a informação pedida e nenhuma me foi requerida a mim, mesmo depois de ter questionado se era necessário mais alguma coisa. A resposta é sempre a mesma, fizeram uma insistência interna para resolver rapidamente e que dirão assim que houver alguma atualização. Até à data continuo a insistir, mas os ctt decidiram não colaborar \n",
      "Boa Tarde, Deveria ter recebido um vale da Segurança Social entre o dia 08/10 de Dezembro. No entanto os dias foram passando e o vale não chegou. Já houve outros meses em que se atrasou, mas não mais de 5 dias ( o que já é muito!), pelo que aguardei mais um pouco. Não tendo chegado dentro de um prazo razoável, dirigi-me aos correios de Belem, tendo sido informada que a distribuição estava super atrasado. Recomendaram esperar mais um pouco, ou ir directamente ao centro de distribuição, o que fiz. Lá estava o vale que, hoje, dia 30 de Dezembro , me foi entregue. No entanto, o funcionário disse-me que este já ia para a destruição, o que não entendi. Disse-me também que o atraso se ficou a dever à falta de pessoal para distribuir o correio na minha zona de residência. Aproveitando a minha presença, o funcionário entregou-me também uma carta da EDP, datada de 10 de Dezembro, a qual tem prazo limite de pagamento a 01 de Janeiro. Pergunto: Como é que os CTT prestam um tão mau serviço aos seus utentes? Não sabem que os vales se referem ao pagamento de subsidios ou reformas (como no meu caso), cujos valores fazem falta a quem os aufere? Não tem os CTT um contrato com o Estado para fazer este trabalho, o qual deva respeitar as datas normais de entrega? E no caso da restante correspondência, não saberá os CTT que há prazos para pagamentos no que aos serviços diz respeito, e que o seu não cumprimento pode significar pagamento de coimas, ou até mesmo o corte de fornecimento? A cada dia que passa os CTT estão com um pior serviço, salvaguardando a simpatia e sempre boa vontade em colaborar dos funcionários de algumas estações, no meu caso, a de Belém. \n",
      "Bom dia, Fiz uma compra de algo vindo dos Estados Unidos no dia 19-09-2021 e que, entretanto, já foi desalfandegado com sucesso pelos CTT mas a encomenda encontra-se retida na alfândega desde o dia 14-10-2021. De acordo com a última atualização do estado do processo, efetuado no dia 26/10/2021, a encomenda está Em validação pela Autoridade Tributária desde esse dia (cerca de 2 meses já). Entretanto contactei a AT sobre este assunto e informaram-me que ainda não receberam nenhuma declaração aduaneira de 'importação' (DAI) da parte dos CTT relativa a esta encomenda. Hoje, por qualquer motivo, o estado da mesma mudou para Aguarda procedimentos declarativos, o que não faz qualquer sentido. Já tentei contactar os CTT por telefone e e-mail e não houve qualquer ajuda ou aparente tentativa de desbloqueamento da situação. Como tal, em último recurso, tive de recorrer ao Portal da Queixa. Agradecia desde já a devida atenção a este problema. Cumprimentos, Rui Melo. \n",
      "Estou a espera de correio IPORTANTE entregue pelos CTT, não entregam, não sabem onde está, recusam se a procurar quando me dirijo ao balcão. O carteiro da minha zona recusa se a entregar a correspondência na morada da correspondência, entrega tudo trocado e não é uma nem duas vezes, é de forma contínua e quando chamado a atenção ainda é desagradável. \n",
      "Fiz o pagamento do desalfondegamento que pediram pra fazer o pagamento, mesmo que foi depois da data de vencimento, a mulher que trabalha aí no ctt me liberou para fazer o pagamento, agora está dizendo que vão mandar minha mercadoria de volta para o país destino, ja que não vão me entregar a encomenda quero receber meu dinheiro de volta. Não vou deixar 48 Euros pra vocês não \n",
      "Tenho uma série de encomendas há mais de um mês em Portugal, que foram enviadas via Yanwen, e até hoje não me foram entregues. No apoio ao cliente dizem que a responsabilidade não é vossa, mas a verdade é que são sempre vocês que as entregam. Gostaria de resolver este assunto o mais brevemente possível. Obrigada \n"
     ]
    }
   ],
   "source": [
    "for i in range(21,30):\n",
    "    print(df['narrative_bert'][df['reason']==2].iloc[i]) #atrso entrega"
   ]
  },
  {
   "cell_type": "markdown",
   "id": "84d7c43a",
   "metadata": {},
   "source": [
    "## functions to extract features"
   ]
  },
  {
   "cell_type": "code",
   "execution_count": 57,
   "id": "13d16781",
   "metadata": {},
   "outputs": [],
   "source": [
    "def extract_orgs(text):\n",
    "    # locations, company names, not names of people\n",
    "    doc=nlp(text)\n",
    "    entities = []\n",
    "    for named_entity in doc.ents:\n",
    "        if named_entity.label_ == \"ORG\":\n",
    "            entities.append(named_entity.text)\n",
    "    return entities\n",
    "\n",
    "def extract_locs(text):\n",
    "    # locations, company names, not names of people\n",
    "    doc=nlp(text)\n",
    "    entities = []\n",
    "    for named_entity in doc.ents:\n",
    "        if named_entity.label_ == \"LOC\":\n",
    "            entities.append(named_entity.text)\n",
    "    return entities\n",
    "\n",
    "def extract_keywords(text):\n",
    "    language = \"pt\"\n",
    "    max_ngram_size = 4\n",
    "    numOfKeywords = 5\n",
    "    custom_kw_extractor = yake.KeywordExtractor(lan=language, n=max_ngram_size, top=numOfKeywords, features=None)\n",
    "    keyword = custom_kw_extractor.extract_keywords(text)\n",
    "    return [k for (k, score) in keyword]\n",
    "\n",
    "def extract_events(text, data):\n",
    "    # string to datetime\n",
    "    d = datetime.strptime(data, \"%Y-%m-%d %H:%M:%S\")\n",
    "    # convert datetime format into %Y-%m-%d-%H:%M:%S format using strftime\n",
    "    d=d.strftime(\"%Y-%m-%d\")\n",
    "    event=[]\n",
    "    # data['narrative_bert'][i], data['date'][i]\n",
    "    narrative_doc = t2s.Narrative(\"pt\", text, d)\n",
    "    extract_element(narrative_doc, \"event\",\"allennlp\")\n",
    "    for p in narrative_doc.events:\n",
    "        event.append(narrative_doc.events[p].text)\n",
    "    return event\n",
    "\n",
    "def type_of_mail(text):\n",
    "    # type of delivery service: \n",
    "    doc=nlp(text)\n",
    "    for chunk in doc.noun_chunks:\n",
    "        print(chunk.text)\n",
    "\n",
    "# def type_of_product(text):\n",
    "#     # type of products being delivered\n",
    "#     Return None\n",
    "    \n"
   ]
  },
  {
   "cell_type": "markdown",
   "id": "8096e490",
   "metadata": {},
   "source": [
    "## extract keywords"
   ]
  },
  {
   "cell_type": "code",
   "execution_count": 60,
   "id": "647d3820",
   "metadata": {},
   "outputs": [
    {
     "data": {
      "text/plain": [
       "'Recorri ao serviço Express2Me desta empresa, para fazer uma compra na Amazon. A encomenda já foi entregue aos Ctt e recebi um email a pedir a factura para prosseguirem o envio. Mas nada funciona na plataforma deles. Não se consegue enviar um email seja de que maneira fôr, porque vem todos devolvidos.Não se consegue telefonar porque não atendem.Nem sequer se consegue pagar porque a plataforma dá sempre erro. É uma vergonha. '"
      ]
     },
     "execution_count": 60,
     "metadata": {},
     "output_type": "execute_result"
    }
   ],
   "source": [
    "df['narrative_bert'].iloc[7]"
   ]
  },
  {
   "cell_type": "code",
   "execution_count": 62,
   "id": "484f0e31",
   "metadata": {},
   "outputs": [
    {
     "data": {
      "text/plain": [
       "['CTT',\n",
       " 'informação Aguarda procedimentos declarativos',\n",
       " 'Aguarda procedimentos declarativos',\n",
       " 'tracking dos CTT disponibiliza',\n",
       " 'informação Aguarda procedimentos']"
      ]
     },
     "execution_count": 62,
     "metadata": {},
     "output_type": "execute_result"
    }
   ],
   "source": [
    "extract_keywords(df['narrative_bert'].iloc[106])"
   ]
  },
  {
   "cell_type": "code",
   "execution_count": 20,
   "id": "85bb315c",
   "metadata": {},
   "outputs": [],
   "source": [
    "# df['keywords']=df['narrative_bert'].apply(extract_keywords)"
   ]
  },
  {
   "cell_type": "markdown",
   "id": "5a33926a",
   "metadata": {},
   "source": [
    "in some cases, it may be more convenient or suitable to convert the list of keywords into a comma-separated string.  \n",
    "\n",
    "* allows for a more compact representation of the extracted information\n",
    "\n",
    "* feature engineering or model training, may require input data in a specific format. By converting the list of keywords into a string, you ensure that the data is compatible with these tasks and can be easily processed or used as input.\n",
    "\n",
    "* easier storage\n",
    "\n",
    "I'm going to convert them into text format to be compatible with the other features (description and title). I'm going to join the individual keywords within each list using a comma to create a single text string.  \n",
    "\n",
    "YAKE was applied on text with less preprocessing. However, I have lowercased the description and title features so for the sake of consistency I'm going to lowercase the keywords as well. Sometimes the case is important like in apple or Apple, but I will also use named entities and those will be kept as the original text.  \n",
    "\n",
    "I also removed numbers and punctuation from the keywords."
   ]
  },
  {
   "cell_type": "code",
   "execution_count": 46,
   "id": "63dacd86",
   "metadata": {},
   "outputs": [
    {
     "data": {
      "text/plain": [
       "0        apresentar uma reclamação,tinha,caixa,figura,e...\n",
       "1        lilia pimentel,certificado profissional,passag...\n",
       "2        frança em correio registado,frança em correio,...\n",
       "3        pretendia esclarecer uma situação,pretendia es...\n",
       "4        papais para o centro,pois preciso dele urgente...\n",
       "                               ...                        \n",
       "22425    tendo chegado a portugal,existindo qualquer up...\n",
       "22426    entregue no balcao,encomenda,ctt da rebelva,ct...\n",
       "22427    contínuo sem receber,receber a minha encomenda...\n",
       "22428    processo de desembaraço aduaneiro,fiz uma enco...\n",
       "22429    correspondência ou é extraviada,correio destin...\n",
       "Name: keywords_string, Length: 22430, dtype: object"
      ]
     },
     "execution_count": 46,
     "metadata": {},
     "output_type": "execute_result"
    }
   ],
   "source": [
    "# import re\n",
    "# import string\n",
    "\n",
    "# df['keywords_string'] = df['keywords'].apply(lambda k: ','.join([re.sub(r'[\\d' + re.escape(string.punctuation) + ']+', '', keyword.lower()) for keyword in k]))\n",
    "# df['keywords_string']"
   ]
  },
  {
   "cell_type": "code",
   "execution_count": 5,
   "id": "0b34989c",
   "metadata": {},
   "outputs": [
    {
     "data": {
      "text/plain": [
       "'ctt,informação aguarda procedimentos declarativos,aguarda procedimentos declarativos,tracking dos ctt disponibiliza,informação aguarda procedimentos,tempo suficiente,tracking dos ctt,ctt disponibiliza'"
      ]
     },
     "execution_count": 5,
     "metadata": {},
     "output_type": "execute_result"
    }
   ],
   "source": [
    "df['keywords_string'].iloc[106]"
   ]
  },
  {
   "cell_type": "markdown",
   "id": "8b3ad516",
   "metadata": {},
   "source": [
    "## extract events"
   ]
  },
  {
   "cell_type": "code",
   "execution_count": null,
   "id": "4e699ec4",
   "metadata": {},
   "outputs": [],
   "source": [
    "# import json\n",
    "# for i in range(len(df)):\n",
    "#     text,data=df['narrative_bert'].iloc[i],df['date'].iloc[i]\n",
    "#     events=extract_events(text,data)\n",
    "#     with open(f'D:\\\\MS DATA SCIENCE\\\\NLP TESE\\\\events\\\\{i}.txt', 'w',encoding='utf-8') as convert_file:\n",
    "#         convert_file.write(json.dumps(events))\n",
    "#     print(f'Finished line number {i}')"
   ]
  },
  {
   "cell_type": "code",
   "execution_count": 57,
   "id": "5ac6e725",
   "metadata": {},
   "outputs": [],
   "source": [
    "# #para ler o output\n",
    "# import json\n",
    "# outputs=[]\n",
    "# for i in range(len(df)):\n",
    "#     with open(f'D:\\\\MS DATA SCIENCE\\\\NLP TESE\\\\events\\\\{i}.txt', 'r',encoding='utf-8') as fd:\n",
    "#         output=json.load(fd)\n",
    "#         outputs.append(output)"
   ]
  },
  {
   "cell_type": "code",
   "execution_count": 25,
   "id": "261dd16a",
   "metadata": {},
   "outputs": [],
   "source": [
    "# df.to_csv('D:\\\\MS DATA SCIENCE\\\\NLP TESE\\\\data\\\\data_processed_selected.csv', index=False, header=True)"
   ]
  },
  {
   "cell_type": "markdown",
   "id": "0c90b1a1",
   "metadata": {},
   "source": [
    "## extract locs and orgs (1)"
   ]
  },
  {
   "cell_type": "code",
   "execution_count": 9,
   "id": "1688fd16",
   "metadata": {},
   "outputs": [],
   "source": [
    "df['locs']=df['narrative_bert'].apply(extract_locs)"
   ]
  },
  {
   "cell_type": "code",
   "execution_count": 10,
   "id": "01c7aec4",
   "metadata": {},
   "outputs": [
    {
     "data": {
      "text/plain": [
       "0        [Israel, Aboboda, Israel, de Braga, Obrigado C...\n",
       "1                                             [Boa Noite!]\n",
       "2                                 [França, Roissy, ROISSY]\n",
       "3                                                 [Lisboa]\n",
       "4                                                       []\n",
       "                               ...                        \n",
       "22425                              [Reino Unido, Portugal]\n",
       "22426                                                   []\n",
       "22427                                                   []\n",
       "22428                                             [Lisboa]\n",
       "22429                                                   []\n",
       "Name: locs, Length: 22430, dtype: object"
      ]
     },
     "execution_count": 10,
     "metadata": {},
     "output_type": "execute_result"
    }
   ],
   "source": [
    "df['orgs']"
   ]
  },
  {
   "cell_type": "code",
   "execution_count": 11,
   "id": "9927de4b",
   "metadata": {},
   "outputs": [
    {
     "ename": "KeyboardInterrupt",
     "evalue": "",
     "output_type": "error",
     "traceback": [
      "\u001b[1;31m---------------------------------------------------------------------------\u001b[0m",
      "\u001b[1;31mKeyboardInterrupt\u001b[0m                         Traceback (most recent call last)",
      "Cell \u001b[1;32mIn[11], line 1\u001b[0m\n\u001b[1;32m----> 1\u001b[0m df[\u001b[38;5;124m'\u001b[39m\u001b[38;5;124morgs\u001b[39m\u001b[38;5;124m'\u001b[39m]\u001b[38;5;241m=\u001b[39m\u001b[43mdf\u001b[49m\u001b[43m[\u001b[49m\u001b[38;5;124;43m'\u001b[39;49m\u001b[38;5;124;43mnarrative_bert\u001b[39;49m\u001b[38;5;124;43m'\u001b[39;49m\u001b[43m]\u001b[49m\u001b[38;5;241;43m.\u001b[39;49m\u001b[43mapply\u001b[49m\u001b[43m(\u001b[49m\u001b[43mextract_orgs\u001b[49m\u001b[43m)\u001b[49m\n",
      "File \u001b[1;32md:\\ms data science\\nlp tese\\envs\\env1\\lib\\site-packages\\pandas\\core\\series.py:4771\u001b[0m, in \u001b[0;36mSeries.apply\u001b[1;34m(self, func, convert_dtype, args, **kwargs)\u001b[0m\n\u001b[0;32m   4661\u001b[0m \u001b[38;5;28;01mdef\u001b[39;00m \u001b[38;5;21mapply\u001b[39m(\n\u001b[0;32m   4662\u001b[0m     \u001b[38;5;28mself\u001b[39m,\n\u001b[0;32m   4663\u001b[0m     func: AggFuncType,\n\u001b[1;32m   (...)\u001b[0m\n\u001b[0;32m   4666\u001b[0m     \u001b[38;5;241m*\u001b[39m\u001b[38;5;241m*\u001b[39mkwargs,\n\u001b[0;32m   4667\u001b[0m ) \u001b[38;5;241m-\u001b[39m\u001b[38;5;241m>\u001b[39m DataFrame \u001b[38;5;241m|\u001b[39m Series:\n\u001b[0;32m   4668\u001b[0m \u001b[38;5;250m    \u001b[39m\u001b[38;5;124;03m\"\"\"\u001b[39;00m\n\u001b[0;32m   4669\u001b[0m \u001b[38;5;124;03m    Invoke function on values of Series.\u001b[39;00m\n\u001b[0;32m   4670\u001b[0m \n\u001b[1;32m   (...)\u001b[0m\n\u001b[0;32m   4769\u001b[0m \u001b[38;5;124;03m    dtype: float64\u001b[39;00m\n\u001b[0;32m   4770\u001b[0m \u001b[38;5;124;03m    \"\"\"\u001b[39;00m\n\u001b[1;32m-> 4771\u001b[0m     \u001b[38;5;28;01mreturn\u001b[39;00m \u001b[43mSeriesApply\u001b[49m\u001b[43m(\u001b[49m\u001b[38;5;28;43mself\u001b[39;49m\u001b[43m,\u001b[49m\u001b[43m \u001b[49m\u001b[43mfunc\u001b[49m\u001b[43m,\u001b[49m\u001b[43m \u001b[49m\u001b[43mconvert_dtype\u001b[49m\u001b[43m,\u001b[49m\u001b[43m \u001b[49m\u001b[43margs\u001b[49m\u001b[43m,\u001b[49m\u001b[43m \u001b[49m\u001b[43mkwargs\u001b[49m\u001b[43m)\u001b[49m\u001b[38;5;241;43m.\u001b[39;49m\u001b[43mapply\u001b[49m\u001b[43m(\u001b[49m\u001b[43m)\u001b[49m\n",
      "File \u001b[1;32md:\\ms data science\\nlp tese\\envs\\env1\\lib\\site-packages\\pandas\\core\\apply.py:1123\u001b[0m, in \u001b[0;36mSeriesApply.apply\u001b[1;34m(self)\u001b[0m\n\u001b[0;32m   1120\u001b[0m     \u001b[38;5;28;01mreturn\u001b[39;00m \u001b[38;5;28mself\u001b[39m\u001b[38;5;241m.\u001b[39mapply_str()\n\u001b[0;32m   1122\u001b[0m \u001b[38;5;66;03m# self.f is Callable\u001b[39;00m\n\u001b[1;32m-> 1123\u001b[0m \u001b[38;5;28;01mreturn\u001b[39;00m \u001b[38;5;28;43mself\u001b[39;49m\u001b[38;5;241;43m.\u001b[39;49m\u001b[43mapply_standard\u001b[49m\u001b[43m(\u001b[49m\u001b[43m)\u001b[49m\n",
      "File \u001b[1;32md:\\ms data science\\nlp tese\\envs\\env1\\lib\\site-packages\\pandas\\core\\apply.py:1174\u001b[0m, in \u001b[0;36mSeriesApply.apply_standard\u001b[1;34m(self)\u001b[0m\n\u001b[0;32m   1172\u001b[0m     \u001b[38;5;28;01melse\u001b[39;00m:\n\u001b[0;32m   1173\u001b[0m         values \u001b[38;5;241m=\u001b[39m obj\u001b[38;5;241m.\u001b[39mastype(\u001b[38;5;28mobject\u001b[39m)\u001b[38;5;241m.\u001b[39m_values\n\u001b[1;32m-> 1174\u001b[0m         mapped \u001b[38;5;241m=\u001b[39m \u001b[43mlib\u001b[49m\u001b[38;5;241;43m.\u001b[39;49m\u001b[43mmap_infer\u001b[49m\u001b[43m(\u001b[49m\n\u001b[0;32m   1175\u001b[0m \u001b[43m            \u001b[49m\u001b[43mvalues\u001b[49m\u001b[43m,\u001b[49m\n\u001b[0;32m   1176\u001b[0m \u001b[43m            \u001b[49m\u001b[43mf\u001b[49m\u001b[43m,\u001b[49m\n\u001b[0;32m   1177\u001b[0m \u001b[43m            \u001b[49m\u001b[43mconvert\u001b[49m\u001b[38;5;241;43m=\u001b[39;49m\u001b[38;5;28;43mself\u001b[39;49m\u001b[38;5;241;43m.\u001b[39;49m\u001b[43mconvert_dtype\u001b[49m\u001b[43m,\u001b[49m\n\u001b[0;32m   1178\u001b[0m \u001b[43m        \u001b[49m\u001b[43m)\u001b[49m\n\u001b[0;32m   1180\u001b[0m \u001b[38;5;28;01mif\u001b[39;00m \u001b[38;5;28mlen\u001b[39m(mapped) \u001b[38;5;129;01mand\u001b[39;00m \u001b[38;5;28misinstance\u001b[39m(mapped[\u001b[38;5;241m0\u001b[39m], ABCSeries):\n\u001b[0;32m   1181\u001b[0m     \u001b[38;5;66;03m# GH#43986 Need to do list(mapped) in order to get treated as nested\u001b[39;00m\n\u001b[0;32m   1182\u001b[0m     \u001b[38;5;66;03m#  See also GH#25959 regarding EA support\u001b[39;00m\n\u001b[0;32m   1183\u001b[0m     \u001b[38;5;28;01mreturn\u001b[39;00m obj\u001b[38;5;241m.\u001b[39m_constructor_expanddim(\u001b[38;5;28mlist\u001b[39m(mapped), index\u001b[38;5;241m=\u001b[39mobj\u001b[38;5;241m.\u001b[39mindex)\n",
      "File \u001b[1;32md:\\ms data science\\nlp tese\\envs\\env1\\lib\\site-packages\\pandas\\_libs\\lib.pyx:2924\u001b[0m, in \u001b[0;36mpandas._libs.lib.map_infer\u001b[1;34m()\u001b[0m\n",
      "Cell \u001b[1;32mIn[8], line 3\u001b[0m, in \u001b[0;36mextract_orgs\u001b[1;34m(text)\u001b[0m\n\u001b[0;32m      1\u001b[0m \u001b[38;5;28;01mdef\u001b[39;00m \u001b[38;5;21mextract_orgs\u001b[39m(text):\n\u001b[0;32m      2\u001b[0m     \u001b[38;5;66;03m# locations, company names, not names of people\u001b[39;00m\n\u001b[1;32m----> 3\u001b[0m     doc\u001b[38;5;241m=\u001b[39m\u001b[43mnlp\u001b[49m\u001b[43m(\u001b[49m\u001b[43mtext\u001b[49m\u001b[43m)\u001b[49m\n\u001b[0;32m      4\u001b[0m     entities \u001b[38;5;241m=\u001b[39m []\n\u001b[0;32m      5\u001b[0m     \u001b[38;5;28;01mfor\u001b[39;00m named_entity \u001b[38;5;129;01min\u001b[39;00m doc\u001b[38;5;241m.\u001b[39ments:\n",
      "File \u001b[1;32md:\\ms data science\\nlp tese\\envs\\env1\\lib\\site-packages\\spacy\\language.py:1011\u001b[0m, in \u001b[0;36mLanguage.__call__\u001b[1;34m(self, text, disable, component_cfg)\u001b[0m\n\u001b[0;32m   1009\u001b[0m     error_handler \u001b[38;5;241m=\u001b[39m proc\u001b[38;5;241m.\u001b[39mget_error_handler()\n\u001b[0;32m   1010\u001b[0m \u001b[38;5;28;01mtry\u001b[39;00m:\n\u001b[1;32m-> 1011\u001b[0m     doc \u001b[38;5;241m=\u001b[39m \u001b[43mproc\u001b[49m\u001b[43m(\u001b[49m\u001b[43mdoc\u001b[49m\u001b[43m,\u001b[49m\u001b[43m \u001b[49m\u001b[38;5;241;43m*\u001b[39;49m\u001b[38;5;241;43m*\u001b[39;49m\u001b[43mcomponent_cfg\u001b[49m\u001b[38;5;241;43m.\u001b[39;49m\u001b[43mget\u001b[49m\u001b[43m(\u001b[49m\u001b[43mname\u001b[49m\u001b[43m,\u001b[49m\u001b[43m \u001b[49m\u001b[43m{\u001b[49m\u001b[43m}\u001b[49m\u001b[43m)\u001b[49m\u001b[43m)\u001b[49m  \u001b[38;5;66;03m# type: ignore[call-arg]\u001b[39;00m\n\u001b[0;32m   1012\u001b[0m \u001b[38;5;28;01mexcept\u001b[39;00m \u001b[38;5;167;01mKeyError\u001b[39;00m \u001b[38;5;28;01mas\u001b[39;00m e:\n\u001b[0;32m   1013\u001b[0m     \u001b[38;5;66;03m# This typically happens if a component is not initialized\u001b[39;00m\n\u001b[0;32m   1014\u001b[0m     \u001b[38;5;28;01mraise\u001b[39;00m \u001b[38;5;167;01mValueError\u001b[39;00m(Errors\u001b[38;5;241m.\u001b[39mE109\u001b[38;5;241m.\u001b[39mformat(name\u001b[38;5;241m=\u001b[39mname)) \u001b[38;5;28;01mfrom\u001b[39;00m \u001b[38;5;21;01me\u001b[39;00m\n",
      "File \u001b[1;32md:\\ms data science\\nlp tese\\envs\\env1\\lib\\site-packages\\spacy\\pipeline\\trainable_pipe.pyx:52\u001b[0m, in \u001b[0;36mspacy.pipeline.trainable_pipe.TrainablePipe.__call__\u001b[1;34m()\u001b[0m\n",
      "File \u001b[1;32md:\\ms data science\\nlp tese\\envs\\env1\\lib\\site-packages\\spacy\\pipeline\\transition_parser.pyx:253\u001b[0m, in \u001b[0;36mspacy.pipeline.transition_parser.Parser.predict\u001b[1;34m()\u001b[0m\n",
      "File \u001b[1;32md:\\ms data science\\nlp tese\\envs\\env1\\lib\\site-packages\\spacy\\pipeline\\transition_parser.pyx:274\u001b[0m, in \u001b[0;36mspacy.pipeline.transition_parser.Parser.greedy_parse\u001b[1;34m()\u001b[0m\n",
      "File \u001b[1;32md:\\ms data science\\nlp tese\\envs\\env1\\lib\\site-packages\\thinc\\model.py:315\u001b[0m, in \u001b[0;36mModel.predict\u001b[1;34m(self, X)\u001b[0m\n\u001b[0;32m    311\u001b[0m \u001b[38;5;28;01mdef\u001b[39;00m \u001b[38;5;21mpredict\u001b[39m(\u001b[38;5;28mself\u001b[39m, X: InT) \u001b[38;5;241m-\u001b[39m\u001b[38;5;241m>\u001b[39m OutT:\n\u001b[0;32m    312\u001b[0m \u001b[38;5;250m    \u001b[39m\u001b[38;5;124;03m\"\"\"Call the model's `forward` function with `is_train=False`, and return\u001b[39;00m\n\u001b[0;32m    313\u001b[0m \u001b[38;5;124;03m    only the output, instead of the `(output, callback)` tuple.\u001b[39;00m\n\u001b[0;32m    314\u001b[0m \u001b[38;5;124;03m    \"\"\"\u001b[39;00m\n\u001b[1;32m--> 315\u001b[0m     \u001b[38;5;28;01mreturn\u001b[39;00m \u001b[38;5;28;43mself\u001b[39;49m\u001b[38;5;241;43m.\u001b[39;49m\u001b[43m_func\u001b[49m\u001b[43m(\u001b[49m\u001b[38;5;28;43mself\u001b[39;49m\u001b[43m,\u001b[49m\u001b[43m \u001b[49m\u001b[43mX\u001b[49m\u001b[43m,\u001b[49m\u001b[43m \u001b[49m\u001b[43mis_train\u001b[49m\u001b[38;5;241;43m=\u001b[39;49m\u001b[38;5;28;43;01mFalse\u001b[39;49;00m\u001b[43m)\u001b[49m[\u001b[38;5;241m0\u001b[39m]\n",
      "File \u001b[1;32md:\\ms data science\\nlp tese\\envs\\env1\\lib\\site-packages\\spacy\\ml\\tb_framework.py:33\u001b[0m, in \u001b[0;36mforward\u001b[1;34m(model, X, is_train)\u001b[0m\n\u001b[0;32m     32\u001b[0m \u001b[38;5;28;01mdef\u001b[39;00m \u001b[38;5;21mforward\u001b[39m(model, X, is_train):\n\u001b[1;32m---> 33\u001b[0m     step_model \u001b[38;5;241m=\u001b[39m \u001b[43mParserStepModel\u001b[49m\u001b[43m(\u001b[49m\n\u001b[0;32m     34\u001b[0m \u001b[43m        \u001b[49m\u001b[43mX\u001b[49m\u001b[43m,\u001b[49m\n\u001b[0;32m     35\u001b[0m \u001b[43m        \u001b[49m\u001b[43mmodel\u001b[49m\u001b[38;5;241;43m.\u001b[39;49m\u001b[43mlayers\u001b[49m\u001b[43m,\u001b[49m\n\u001b[0;32m     36\u001b[0m \u001b[43m        \u001b[49m\u001b[43munseen_classes\u001b[49m\u001b[38;5;241;43m=\u001b[39;49m\u001b[43mmodel\u001b[49m\u001b[38;5;241;43m.\u001b[39;49m\u001b[43mattrs\u001b[49m\u001b[43m[\u001b[49m\u001b[38;5;124;43m\"\u001b[39;49m\u001b[38;5;124;43munseen_classes\u001b[39;49m\u001b[38;5;124;43m\"\u001b[39;49m\u001b[43m]\u001b[49m\u001b[43m,\u001b[49m\n\u001b[0;32m     37\u001b[0m \u001b[43m        \u001b[49m\u001b[43mtrain\u001b[49m\u001b[38;5;241;43m=\u001b[39;49m\u001b[43mis_train\u001b[49m\u001b[43m,\u001b[49m\n\u001b[0;32m     38\u001b[0m \u001b[43m        \u001b[49m\u001b[43mhas_upper\u001b[49m\u001b[38;5;241;43m=\u001b[39;49m\u001b[43mmodel\u001b[49m\u001b[38;5;241;43m.\u001b[39;49m\u001b[43mattrs\u001b[49m\u001b[43m[\u001b[49m\u001b[38;5;124;43m\"\u001b[39;49m\u001b[38;5;124;43mhas_upper\u001b[39;49m\u001b[38;5;124;43m\"\u001b[39;49m\u001b[43m]\u001b[49m\u001b[43m,\u001b[49m\n\u001b[0;32m     39\u001b[0m \u001b[43m    \u001b[49m\u001b[43m)\u001b[49m\n\u001b[0;32m     41\u001b[0m     \u001b[38;5;28;01mreturn\u001b[39;00m step_model, step_model\u001b[38;5;241m.\u001b[39mfinish_steps\n",
      "File \u001b[1;32md:\\ms data science\\nlp tese\\envs\\env1\\lib\\site-packages\\spacy\\ml\\parser_model.pyx:213\u001b[0m, in \u001b[0;36mspacy.ml.parser_model.ParserStepModel.__init__\u001b[1;34m()\u001b[0m\n",
      "File \u001b[1;32md:\\ms data science\\nlp tese\\envs\\env1\\lib\\site-packages\\thinc\\model.py:291\u001b[0m, in \u001b[0;36mModel.__call__\u001b[1;34m(self, X, is_train)\u001b[0m\n\u001b[0;32m    288\u001b[0m \u001b[38;5;28;01mdef\u001b[39;00m \u001b[38;5;21m__call__\u001b[39m(\u001b[38;5;28mself\u001b[39m, X: InT, is_train: \u001b[38;5;28mbool\u001b[39m) \u001b[38;5;241m-\u001b[39m\u001b[38;5;241m>\u001b[39m Tuple[OutT, Callable]:\n\u001b[0;32m    289\u001b[0m \u001b[38;5;250m    \u001b[39m\u001b[38;5;124;03m\"\"\"Call the model's `forward` function, returning the output and a\u001b[39;00m\n\u001b[0;32m    290\u001b[0m \u001b[38;5;124;03m    callback to compute the gradients via backpropagation.\"\"\"\u001b[39;00m\n\u001b[1;32m--> 291\u001b[0m     \u001b[38;5;28;01mreturn\u001b[39;00m \u001b[38;5;28;43mself\u001b[39;49m\u001b[38;5;241;43m.\u001b[39;49m\u001b[43m_func\u001b[49m\u001b[43m(\u001b[49m\u001b[38;5;28;43mself\u001b[39;49m\u001b[43m,\u001b[49m\u001b[43m \u001b[49m\u001b[43mX\u001b[49m\u001b[43m,\u001b[49m\u001b[43m \u001b[49m\u001b[43mis_train\u001b[49m\u001b[38;5;241;43m=\u001b[39;49m\u001b[43mis_train\u001b[49m\u001b[43m)\u001b[49m\n",
      "File \u001b[1;32md:\\ms data science\\nlp tese\\envs\\env1\\lib\\site-packages\\thinc\\layers\\chain.py:55\u001b[0m, in \u001b[0;36mforward\u001b[1;34m(model, X, is_train)\u001b[0m\n\u001b[0;32m     53\u001b[0m callbacks \u001b[38;5;241m=\u001b[39m []\n\u001b[0;32m     54\u001b[0m \u001b[38;5;28;01mfor\u001b[39;00m layer \u001b[38;5;129;01min\u001b[39;00m model\u001b[38;5;241m.\u001b[39mlayers:\n\u001b[1;32m---> 55\u001b[0m     Y, inc_layer_grad \u001b[38;5;241m=\u001b[39m \u001b[43mlayer\u001b[49m\u001b[43m(\u001b[49m\u001b[43mX\u001b[49m\u001b[43m,\u001b[49m\u001b[43m \u001b[49m\u001b[43mis_train\u001b[49m\u001b[38;5;241;43m=\u001b[39;49m\u001b[43mis_train\u001b[49m\u001b[43m)\u001b[49m\n\u001b[0;32m     56\u001b[0m     callbacks\u001b[38;5;241m.\u001b[39mappend(inc_layer_grad)\n\u001b[0;32m     57\u001b[0m     X \u001b[38;5;241m=\u001b[39m Y\n",
      "File \u001b[1;32md:\\ms data science\\nlp tese\\envs\\env1\\lib\\site-packages\\thinc\\model.py:291\u001b[0m, in \u001b[0;36mModel.__call__\u001b[1;34m(self, X, is_train)\u001b[0m\n\u001b[0;32m    288\u001b[0m \u001b[38;5;28;01mdef\u001b[39;00m \u001b[38;5;21m__call__\u001b[39m(\u001b[38;5;28mself\u001b[39m, X: InT, is_train: \u001b[38;5;28mbool\u001b[39m) \u001b[38;5;241m-\u001b[39m\u001b[38;5;241m>\u001b[39m Tuple[OutT, Callable]:\n\u001b[0;32m    289\u001b[0m \u001b[38;5;250m    \u001b[39m\u001b[38;5;124;03m\"\"\"Call the model's `forward` function, returning the output and a\u001b[39;00m\n\u001b[0;32m    290\u001b[0m \u001b[38;5;124;03m    callback to compute the gradients via backpropagation.\"\"\"\u001b[39;00m\n\u001b[1;32m--> 291\u001b[0m     \u001b[38;5;28;01mreturn\u001b[39;00m \u001b[38;5;28;43mself\u001b[39;49m\u001b[38;5;241;43m.\u001b[39;49m\u001b[43m_func\u001b[49m\u001b[43m(\u001b[49m\u001b[38;5;28;43mself\u001b[39;49m\u001b[43m,\u001b[49m\u001b[43m \u001b[49m\u001b[43mX\u001b[49m\u001b[43m,\u001b[49m\u001b[43m \u001b[49m\u001b[43mis_train\u001b[49m\u001b[38;5;241;43m=\u001b[39;49m\u001b[43mis_train\u001b[49m\u001b[43m)\u001b[49m\n",
      "File \u001b[1;32md:\\ms data science\\nlp tese\\envs\\env1\\lib\\site-packages\\thinc\\layers\\chain.py:55\u001b[0m, in \u001b[0;36mforward\u001b[1;34m(model, X, is_train)\u001b[0m\n\u001b[0;32m     53\u001b[0m callbacks \u001b[38;5;241m=\u001b[39m []\n\u001b[0;32m     54\u001b[0m \u001b[38;5;28;01mfor\u001b[39;00m layer \u001b[38;5;129;01min\u001b[39;00m model\u001b[38;5;241m.\u001b[39mlayers:\n\u001b[1;32m---> 55\u001b[0m     Y, inc_layer_grad \u001b[38;5;241m=\u001b[39m \u001b[43mlayer\u001b[49m\u001b[43m(\u001b[49m\u001b[43mX\u001b[49m\u001b[43m,\u001b[49m\u001b[43m \u001b[49m\u001b[43mis_train\u001b[49m\u001b[38;5;241;43m=\u001b[39;49m\u001b[43mis_train\u001b[49m\u001b[43m)\u001b[49m\n\u001b[0;32m     56\u001b[0m     callbacks\u001b[38;5;241m.\u001b[39mappend(inc_layer_grad)\n\u001b[0;32m     57\u001b[0m     X \u001b[38;5;241m=\u001b[39m Y\n",
      "File \u001b[1;32md:\\ms data science\\nlp tese\\envs\\env1\\lib\\site-packages\\thinc\\model.py:291\u001b[0m, in \u001b[0;36mModel.__call__\u001b[1;34m(self, X, is_train)\u001b[0m\n\u001b[0;32m    288\u001b[0m \u001b[38;5;28;01mdef\u001b[39;00m \u001b[38;5;21m__call__\u001b[39m(\u001b[38;5;28mself\u001b[39m, X: InT, is_train: \u001b[38;5;28mbool\u001b[39m) \u001b[38;5;241m-\u001b[39m\u001b[38;5;241m>\u001b[39m Tuple[OutT, Callable]:\n\u001b[0;32m    289\u001b[0m \u001b[38;5;250m    \u001b[39m\u001b[38;5;124;03m\"\"\"Call the model's `forward` function, returning the output and a\u001b[39;00m\n\u001b[0;32m    290\u001b[0m \u001b[38;5;124;03m    callback to compute the gradients via backpropagation.\"\"\"\u001b[39;00m\n\u001b[1;32m--> 291\u001b[0m     \u001b[38;5;28;01mreturn\u001b[39;00m \u001b[38;5;28;43mself\u001b[39;49m\u001b[38;5;241;43m.\u001b[39;49m\u001b[43m_func\u001b[49m\u001b[43m(\u001b[49m\u001b[38;5;28;43mself\u001b[39;49m\u001b[43m,\u001b[49m\u001b[43m \u001b[49m\u001b[43mX\u001b[49m\u001b[43m,\u001b[49m\u001b[43m \u001b[49m\u001b[43mis_train\u001b[49m\u001b[38;5;241;43m=\u001b[39;49m\u001b[43mis_train\u001b[49m\u001b[43m)\u001b[49m\n",
      "File \u001b[1;32md:\\ms data science\\nlp tese\\envs\\env1\\lib\\site-packages\\thinc\\layers\\with_array.py:43\u001b[0m, in \u001b[0;36mforward\u001b[1;34m(model, Xseq, is_train)\u001b[0m\n\u001b[0;32m     41\u001b[0m     \u001b[38;5;28;01mreturn\u001b[39;00m model\u001b[38;5;241m.\u001b[39mlayers[\u001b[38;5;241m0\u001b[39m](Xseq, is_train)\n\u001b[0;32m     42\u001b[0m \u001b[38;5;28;01melse\u001b[39;00m:\n\u001b[1;32m---> 43\u001b[0m     \u001b[38;5;28;01mreturn\u001b[39;00m cast(Tuple[SeqT, Callable], \u001b[43m_list_forward\u001b[49m\u001b[43m(\u001b[49m\u001b[43mmodel\u001b[49m\u001b[43m,\u001b[49m\u001b[43m \u001b[49m\u001b[43mXseq\u001b[49m\u001b[43m,\u001b[49m\u001b[43m \u001b[49m\u001b[43mis_train\u001b[49m\u001b[43m)\u001b[49m)\n",
      "File \u001b[1;32md:\\ms data science\\nlp tese\\envs\\env1\\lib\\site-packages\\thinc\\layers\\with_array.py:78\u001b[0m, in \u001b[0;36m_list_forward\u001b[1;34m(model, Xs, is_train)\u001b[0m\n\u001b[0;32m     76\u001b[0m lengths \u001b[38;5;241m=\u001b[39m NUMPY_OPS\u001b[38;5;241m.\u001b[39masarray1i([\u001b[38;5;28mlen\u001b[39m(seq) \u001b[38;5;28;01mfor\u001b[39;00m seq \u001b[38;5;129;01min\u001b[39;00m Xs])\n\u001b[0;32m     77\u001b[0m Xf \u001b[38;5;241m=\u001b[39m layer\u001b[38;5;241m.\u001b[39mops\u001b[38;5;241m.\u001b[39mflatten(Xs, pad\u001b[38;5;241m=\u001b[39mpad)\n\u001b[1;32m---> 78\u001b[0m Yf, get_dXf \u001b[38;5;241m=\u001b[39m \u001b[43mlayer\u001b[49m\u001b[43m(\u001b[49m\u001b[43mXf\u001b[49m\u001b[43m,\u001b[49m\u001b[43m \u001b[49m\u001b[43mis_train\u001b[49m\u001b[43m)\u001b[49m\n\u001b[0;32m     80\u001b[0m \u001b[38;5;28;01mdef\u001b[39;00m \u001b[38;5;21mbackprop\u001b[39m(dYs: ListXd) \u001b[38;5;241m-\u001b[39m\u001b[38;5;241m>\u001b[39m ListXd:\n\u001b[0;32m     81\u001b[0m     dYf \u001b[38;5;241m=\u001b[39m layer\u001b[38;5;241m.\u001b[39mops\u001b[38;5;241m.\u001b[39mflatten(dYs, pad\u001b[38;5;241m=\u001b[39mpad)\n",
      "File \u001b[1;32md:\\ms data science\\nlp tese\\envs\\env1\\lib\\site-packages\\thinc\\model.py:291\u001b[0m, in \u001b[0;36mModel.__call__\u001b[1;34m(self, X, is_train)\u001b[0m\n\u001b[0;32m    288\u001b[0m \u001b[38;5;28;01mdef\u001b[39;00m \u001b[38;5;21m__call__\u001b[39m(\u001b[38;5;28mself\u001b[39m, X: InT, is_train: \u001b[38;5;28mbool\u001b[39m) \u001b[38;5;241m-\u001b[39m\u001b[38;5;241m>\u001b[39m Tuple[OutT, Callable]:\n\u001b[0;32m    289\u001b[0m \u001b[38;5;250m    \u001b[39m\u001b[38;5;124;03m\"\"\"Call the model's `forward` function, returning the output and a\u001b[39;00m\n\u001b[0;32m    290\u001b[0m \u001b[38;5;124;03m    callback to compute the gradients via backpropagation.\"\"\"\u001b[39;00m\n\u001b[1;32m--> 291\u001b[0m     \u001b[38;5;28;01mreturn\u001b[39;00m \u001b[38;5;28;43mself\u001b[39;49m\u001b[38;5;241;43m.\u001b[39;49m\u001b[43m_func\u001b[49m\u001b[43m(\u001b[49m\u001b[38;5;28;43mself\u001b[39;49m\u001b[43m,\u001b[49m\u001b[43m \u001b[49m\u001b[43mX\u001b[49m\u001b[43m,\u001b[49m\u001b[43m \u001b[49m\u001b[43mis_train\u001b[49m\u001b[38;5;241;43m=\u001b[39;49m\u001b[43mis_train\u001b[49m\u001b[43m)\u001b[49m\n",
      "File \u001b[1;32md:\\ms data science\\nlp tese\\envs\\env1\\lib\\site-packages\\thinc\\layers\\chain.py:55\u001b[0m, in \u001b[0;36mforward\u001b[1;34m(model, X, is_train)\u001b[0m\n\u001b[0;32m     53\u001b[0m callbacks \u001b[38;5;241m=\u001b[39m []\n\u001b[0;32m     54\u001b[0m \u001b[38;5;28;01mfor\u001b[39;00m layer \u001b[38;5;129;01min\u001b[39;00m model\u001b[38;5;241m.\u001b[39mlayers:\n\u001b[1;32m---> 55\u001b[0m     Y, inc_layer_grad \u001b[38;5;241m=\u001b[39m \u001b[43mlayer\u001b[49m\u001b[43m(\u001b[49m\u001b[43mX\u001b[49m\u001b[43m,\u001b[49m\u001b[43m \u001b[49m\u001b[43mis_train\u001b[49m\u001b[38;5;241;43m=\u001b[39;49m\u001b[43mis_train\u001b[49m\u001b[43m)\u001b[49m\n\u001b[0;32m     56\u001b[0m     callbacks\u001b[38;5;241m.\u001b[39mappend(inc_layer_grad)\n\u001b[0;32m     57\u001b[0m     X \u001b[38;5;241m=\u001b[39m Y\n",
      "File \u001b[1;32md:\\ms data science\\nlp tese\\envs\\env1\\lib\\site-packages\\thinc\\model.py:291\u001b[0m, in \u001b[0;36mModel.__call__\u001b[1;34m(self, X, is_train)\u001b[0m\n\u001b[0;32m    288\u001b[0m \u001b[38;5;28;01mdef\u001b[39;00m \u001b[38;5;21m__call__\u001b[39m(\u001b[38;5;28mself\u001b[39m, X: InT, is_train: \u001b[38;5;28mbool\u001b[39m) \u001b[38;5;241m-\u001b[39m\u001b[38;5;241m>\u001b[39m Tuple[OutT, Callable]:\n\u001b[0;32m    289\u001b[0m \u001b[38;5;250m    \u001b[39m\u001b[38;5;124;03m\"\"\"Call the model's `forward` function, returning the output and a\u001b[39;00m\n\u001b[0;32m    290\u001b[0m \u001b[38;5;124;03m    callback to compute the gradients via backpropagation.\"\"\"\u001b[39;00m\n\u001b[1;32m--> 291\u001b[0m     \u001b[38;5;28;01mreturn\u001b[39;00m \u001b[38;5;28;43mself\u001b[39;49m\u001b[38;5;241;43m.\u001b[39;49m\u001b[43m_func\u001b[49m\u001b[43m(\u001b[49m\u001b[38;5;28;43mself\u001b[39;49m\u001b[43m,\u001b[49m\u001b[43m \u001b[49m\u001b[43mX\u001b[49m\u001b[43m,\u001b[49m\u001b[43m \u001b[49m\u001b[43mis_train\u001b[49m\u001b[38;5;241;43m=\u001b[39;49m\u001b[43mis_train\u001b[49m\u001b[43m)\u001b[49m\n",
      "File \u001b[1;32md:\\ms data science\\nlp tese\\envs\\env1\\lib\\site-packages\\thinc\\layers\\residual.py:41\u001b[0m, in \u001b[0;36mforward\u001b[1;34m(model, X, is_train)\u001b[0m\n\u001b[0;32m     38\u001b[0m     \u001b[38;5;28;01melse\u001b[39;00m:\n\u001b[0;32m     39\u001b[0m         \u001b[38;5;28;01mreturn\u001b[39;00m d_output \u001b[38;5;241m+\u001b[39m dX\n\u001b[1;32m---> 41\u001b[0m Y, backprop_layer \u001b[38;5;241m=\u001b[39m \u001b[43mmodel\u001b[49m\u001b[38;5;241;43m.\u001b[39;49m\u001b[43mlayers\u001b[49m\u001b[43m[\u001b[49m\u001b[38;5;241;43m0\u001b[39;49m\u001b[43m]\u001b[49m\u001b[43m(\u001b[49m\u001b[43mX\u001b[49m\u001b[43m,\u001b[49m\u001b[43m \u001b[49m\u001b[43mis_train\u001b[49m\u001b[43m)\u001b[49m\n\u001b[0;32m     42\u001b[0m \u001b[38;5;28;01mif\u001b[39;00m \u001b[38;5;28misinstance\u001b[39m(X, \u001b[38;5;28mlist\u001b[39m):\n\u001b[0;32m     43\u001b[0m     \u001b[38;5;28;01mreturn\u001b[39;00m [X[i] \u001b[38;5;241m+\u001b[39m Y[i] \u001b[38;5;28;01mfor\u001b[39;00m i \u001b[38;5;129;01min\u001b[39;00m \u001b[38;5;28mrange\u001b[39m(\u001b[38;5;28mlen\u001b[39m(X))], backprop\n",
      "File \u001b[1;32md:\\ms data science\\nlp tese\\envs\\env1\\lib\\site-packages\\thinc\\model.py:291\u001b[0m, in \u001b[0;36mModel.__call__\u001b[1;34m(self, X, is_train)\u001b[0m\n\u001b[0;32m    288\u001b[0m \u001b[38;5;28;01mdef\u001b[39;00m \u001b[38;5;21m__call__\u001b[39m(\u001b[38;5;28mself\u001b[39m, X: InT, is_train: \u001b[38;5;28mbool\u001b[39m) \u001b[38;5;241m-\u001b[39m\u001b[38;5;241m>\u001b[39m Tuple[OutT, Callable]:\n\u001b[0;32m    289\u001b[0m \u001b[38;5;250m    \u001b[39m\u001b[38;5;124;03m\"\"\"Call the model's `forward` function, returning the output and a\u001b[39;00m\n\u001b[0;32m    290\u001b[0m \u001b[38;5;124;03m    callback to compute the gradients via backpropagation.\"\"\"\u001b[39;00m\n\u001b[1;32m--> 291\u001b[0m     \u001b[38;5;28;01mreturn\u001b[39;00m \u001b[38;5;28;43mself\u001b[39;49m\u001b[38;5;241;43m.\u001b[39;49m\u001b[43m_func\u001b[49m\u001b[43m(\u001b[49m\u001b[38;5;28;43mself\u001b[39;49m\u001b[43m,\u001b[49m\u001b[43m \u001b[49m\u001b[43mX\u001b[49m\u001b[43m,\u001b[49m\u001b[43m \u001b[49m\u001b[43mis_train\u001b[49m\u001b[38;5;241;43m=\u001b[39;49m\u001b[43mis_train\u001b[49m\u001b[43m)\u001b[49m\n",
      "File \u001b[1;32md:\\ms data science\\nlp tese\\envs\\env1\\lib\\site-packages\\thinc\\layers\\chain.py:55\u001b[0m, in \u001b[0;36mforward\u001b[1;34m(model, X, is_train)\u001b[0m\n\u001b[0;32m     53\u001b[0m callbacks \u001b[38;5;241m=\u001b[39m []\n\u001b[0;32m     54\u001b[0m \u001b[38;5;28;01mfor\u001b[39;00m layer \u001b[38;5;129;01min\u001b[39;00m model\u001b[38;5;241m.\u001b[39mlayers:\n\u001b[1;32m---> 55\u001b[0m     Y, inc_layer_grad \u001b[38;5;241m=\u001b[39m \u001b[43mlayer\u001b[49m\u001b[43m(\u001b[49m\u001b[43mX\u001b[49m\u001b[43m,\u001b[49m\u001b[43m \u001b[49m\u001b[43mis_train\u001b[49m\u001b[38;5;241;43m=\u001b[39;49m\u001b[43mis_train\u001b[49m\u001b[43m)\u001b[49m\n\u001b[0;32m     56\u001b[0m     callbacks\u001b[38;5;241m.\u001b[39mappend(inc_layer_grad)\n\u001b[0;32m     57\u001b[0m     X \u001b[38;5;241m=\u001b[39m Y\n",
      "File \u001b[1;32md:\\ms data science\\nlp tese\\envs\\env1\\lib\\site-packages\\thinc\\model.py:291\u001b[0m, in \u001b[0;36mModel.__call__\u001b[1;34m(self, X, is_train)\u001b[0m\n\u001b[0;32m    288\u001b[0m \u001b[38;5;28;01mdef\u001b[39;00m \u001b[38;5;21m__call__\u001b[39m(\u001b[38;5;28mself\u001b[39m, X: InT, is_train: \u001b[38;5;28mbool\u001b[39m) \u001b[38;5;241m-\u001b[39m\u001b[38;5;241m>\u001b[39m Tuple[OutT, Callable]:\n\u001b[0;32m    289\u001b[0m \u001b[38;5;250m    \u001b[39m\u001b[38;5;124;03m\"\"\"Call the model's `forward` function, returning the output and a\u001b[39;00m\n\u001b[0;32m    290\u001b[0m \u001b[38;5;124;03m    callback to compute the gradients via backpropagation.\"\"\"\u001b[39;00m\n\u001b[1;32m--> 291\u001b[0m     \u001b[38;5;28;01mreturn\u001b[39;00m \u001b[38;5;28;43mself\u001b[39;49m\u001b[38;5;241;43m.\u001b[39;49m\u001b[43m_func\u001b[49m\u001b[43m(\u001b[49m\u001b[38;5;28;43mself\u001b[39;49m\u001b[43m,\u001b[49m\u001b[43m \u001b[49m\u001b[43mX\u001b[49m\u001b[43m,\u001b[49m\u001b[43m \u001b[49m\u001b[43mis_train\u001b[49m\u001b[38;5;241;43m=\u001b[39;49m\u001b[43mis_train\u001b[49m\u001b[43m)\u001b[49m\n",
      "File \u001b[1;32md:\\ms data science\\nlp tese\\envs\\env1\\lib\\site-packages\\thinc\\layers\\chain.py:55\u001b[0m, in \u001b[0;36mforward\u001b[1;34m(model, X, is_train)\u001b[0m\n\u001b[0;32m     53\u001b[0m callbacks \u001b[38;5;241m=\u001b[39m []\n\u001b[0;32m     54\u001b[0m \u001b[38;5;28;01mfor\u001b[39;00m layer \u001b[38;5;129;01min\u001b[39;00m model\u001b[38;5;241m.\u001b[39mlayers:\n\u001b[1;32m---> 55\u001b[0m     Y, inc_layer_grad \u001b[38;5;241m=\u001b[39m \u001b[43mlayer\u001b[49m\u001b[43m(\u001b[49m\u001b[43mX\u001b[49m\u001b[43m,\u001b[49m\u001b[43m \u001b[49m\u001b[43mis_train\u001b[49m\u001b[38;5;241;43m=\u001b[39;49m\u001b[43mis_train\u001b[49m\u001b[43m)\u001b[49m\n\u001b[0;32m     56\u001b[0m     callbacks\u001b[38;5;241m.\u001b[39mappend(inc_layer_grad)\n\u001b[0;32m     57\u001b[0m     X \u001b[38;5;241m=\u001b[39m Y\n",
      "    \u001b[1;31m[... skipping similar frames: Model.__call__ at line 291 (1 times)]\u001b[0m\n",
      "File \u001b[1;32md:\\ms data science\\nlp tese\\envs\\env1\\lib\\site-packages\\thinc\\layers\\chain.py:55\u001b[0m, in \u001b[0;36mforward\u001b[1;34m(model, X, is_train)\u001b[0m\n\u001b[0;32m     53\u001b[0m callbacks \u001b[38;5;241m=\u001b[39m []\n\u001b[0;32m     54\u001b[0m \u001b[38;5;28;01mfor\u001b[39;00m layer \u001b[38;5;129;01min\u001b[39;00m model\u001b[38;5;241m.\u001b[39mlayers:\n\u001b[1;32m---> 55\u001b[0m     Y, inc_layer_grad \u001b[38;5;241m=\u001b[39m \u001b[43mlayer\u001b[49m\u001b[43m(\u001b[49m\u001b[43mX\u001b[49m\u001b[43m,\u001b[49m\u001b[43m \u001b[49m\u001b[43mis_train\u001b[49m\u001b[38;5;241;43m=\u001b[39;49m\u001b[43mis_train\u001b[49m\u001b[43m)\u001b[49m\n\u001b[0;32m     56\u001b[0m     callbacks\u001b[38;5;241m.\u001b[39mappend(inc_layer_grad)\n\u001b[0;32m     57\u001b[0m     X \u001b[38;5;241m=\u001b[39m Y\n",
      "File \u001b[1;32md:\\ms data science\\nlp tese\\envs\\env1\\lib\\site-packages\\thinc\\model.py:291\u001b[0m, in \u001b[0;36mModel.__call__\u001b[1;34m(self, X, is_train)\u001b[0m\n\u001b[0;32m    288\u001b[0m \u001b[38;5;28;01mdef\u001b[39;00m \u001b[38;5;21m__call__\u001b[39m(\u001b[38;5;28mself\u001b[39m, X: InT, is_train: \u001b[38;5;28mbool\u001b[39m) \u001b[38;5;241m-\u001b[39m\u001b[38;5;241m>\u001b[39m Tuple[OutT, Callable]:\n\u001b[0;32m    289\u001b[0m \u001b[38;5;250m    \u001b[39m\u001b[38;5;124;03m\"\"\"Call the model's `forward` function, returning the output and a\u001b[39;00m\n\u001b[0;32m    290\u001b[0m \u001b[38;5;124;03m    callback to compute the gradients via backpropagation.\"\"\"\u001b[39;00m\n\u001b[1;32m--> 291\u001b[0m     \u001b[38;5;28;01mreturn\u001b[39;00m \u001b[38;5;28;43mself\u001b[39;49m\u001b[38;5;241;43m.\u001b[39;49m\u001b[43m_func\u001b[49m\u001b[43m(\u001b[49m\u001b[38;5;28;43mself\u001b[39;49m\u001b[43m,\u001b[49m\u001b[43m \u001b[49m\u001b[43mX\u001b[49m\u001b[43m,\u001b[49m\u001b[43m \u001b[49m\u001b[43mis_train\u001b[49m\u001b[38;5;241;43m=\u001b[39;49m\u001b[43mis_train\u001b[49m\u001b[43m)\u001b[49m\n",
      "File \u001b[1;32md:\\ms data science\\nlp tese\\envs\\env1\\lib\\site-packages\\thinc\\layers\\maxout.py:53\u001b[0m, in \u001b[0;36mforward\u001b[1;34m(model, X, is_train)\u001b[0m\n\u001b[0;32m     51\u001b[0m W \u001b[38;5;241m=\u001b[39m model\u001b[38;5;241m.\u001b[39mget_param(\u001b[38;5;124m\"\u001b[39m\u001b[38;5;124mW\u001b[39m\u001b[38;5;124m\"\u001b[39m)\n\u001b[0;32m     52\u001b[0m W \u001b[38;5;241m=\u001b[39m model\u001b[38;5;241m.\u001b[39mops\u001b[38;5;241m.\u001b[39mreshape2f(W, nO \u001b[38;5;241m*\u001b[39m nP, nI)\n\u001b[1;32m---> 53\u001b[0m Y \u001b[38;5;241m=\u001b[39m \u001b[43mmodel\u001b[49m\u001b[38;5;241;43m.\u001b[39;49m\u001b[43mops\u001b[49m\u001b[38;5;241;43m.\u001b[39;49m\u001b[43mgemm\u001b[49m\u001b[43m(\u001b[49m\u001b[43mX\u001b[49m\u001b[43m,\u001b[49m\u001b[43m \u001b[49m\u001b[43mW\u001b[49m\u001b[43m,\u001b[49m\u001b[43m \u001b[49m\u001b[43mtrans2\u001b[49m\u001b[38;5;241;43m=\u001b[39;49m\u001b[38;5;28;43;01mTrue\u001b[39;49;00m\u001b[43m)\u001b[49m\n\u001b[0;32m     54\u001b[0m Y \u001b[38;5;241m+\u001b[39m\u001b[38;5;241m=\u001b[39m model\u001b[38;5;241m.\u001b[39mops\u001b[38;5;241m.\u001b[39mreshape1f(b, nO \u001b[38;5;241m*\u001b[39m nP)\n\u001b[0;32m     55\u001b[0m Z \u001b[38;5;241m=\u001b[39m model\u001b[38;5;241m.\u001b[39mops\u001b[38;5;241m.\u001b[39mreshape3f(Y, Y\u001b[38;5;241m.\u001b[39mshape[\u001b[38;5;241m0\u001b[39m], nO, nP)\n",
      "\u001b[1;31mKeyboardInterrupt\u001b[0m: "
     ]
    }
   ],
   "source": [
    "df['orgs']=df['narrative_bert'].apply(extract_orgs)"
   ]
  },
  {
   "cell_type": "code",
   "execution_count": null,
   "id": "794e5434",
   "metadata": {},
   "outputs": [],
   "source": [
    "# df.to_csv('D:\\\\MS DATA SCIENCE\\\\NLP TESE\\\\data\\\\data_processed_selected.csv', index=False, header=True)"
   ]
  },
  {
   "cell_type": "markdown",
   "id": "a880ac0f",
   "metadata": {},
   "source": [
    "## extract products and type of mail"
   ]
  },
  {
   "cell_type": "code",
   "execution_count": null,
   "id": "6901274d",
   "metadata": {},
   "outputs": [],
   "source": []
  },
  {
   "cell_type": "code",
   "execution_count": null,
   "id": "2b57cd38",
   "metadata": {},
   "outputs": [],
   "source": []
  },
  {
   "cell_type": "code",
   "execution_count": null,
   "id": "85aa4447",
   "metadata": {},
   "outputs": [],
   "source": [
    "# Define a feature union to combine all the extracted features\n",
    "features = FeatureUnion([\n",
    "    ('description', Pipeline([\n",
    "        ('vect', CountVectorizer()),\n",
    "        ('tfidf', TfidfTransformer()),\n",
    "    ])),\n",
    "    ('title', Pipeline([\n",
    "        ('vect', CountVectorizer()),\n",
    "        ('tfidf', TfidfTransformer()),\n",
    "    ])),\n",
    "    ('pos_tags', FunctionTransformer(pos_tagger)),\n",
    "    ('ner', FunctionTransformer(ner)),\n",
    "    ('keywords', FunctionTransformer(extract_keywords)),\n",
    "    ('events', FunctionTransformer(extract_events))\n",
    "])\n"
   ]
  },
  {
   "cell_type": "markdown",
   "id": "7c248dec",
   "metadata": {},
   "source": [
    "This code defines a FeatureUnion object that combines multiple sets of features extracted from a dataset for use in a machine learning model.\n",
    "\n",
    "The FeatureUnion object takes a list of transformers as input. Each transformer defines a set of features to be extracted from the dataset. In this code, there are six transformers defined:\n",
    "\n",
    "The description transformer defines a pipeline that first applies a CountVectorizer to convert the text in the description feature into a bag-of-words representation, and then applies a TfidfTransformer to convert the bag-of-words into a weighted feature representation. This transformer captures information about the content of the customer complaints.\n",
    "\n",
    "The title transformer defines a pipeline that applies the same CountVectorizer and TfidfTransformer steps to the title feature, which captures information about the topic or subject of the customer complaints.\n",
    "\n",
    "The pos_tags transformer applies a function pos_tagger to extract part-of-speech tags from the text data. Part-of-speech tags indicate the role of a word in a sentence, such as whether it is a noun, verb, or adjective. This transformer captures information about the grammatical structure of the customer complaints.\n",
    "\n",
    "The ner transformer applies a function ner to extract named entities from the text data. Named entities are entities that are referred to by a specific name, such as organizations, people, or locations. This transformer captures information about entities mentioned in the customer complaints.\n",
    "\n",
    "The keywords transformer applies a function extract_keywords to extract important words or phrases from the text data. This transformer captures information about the most salient features of the customer complaints.\n",
    "\n",
    "The events transformer applies a function extract_events to extract events or actions described in the text data. This transformer captures information about the actions or events described in the customer complaints.\n",
    "\n",
    "By combining these transformers in a FeatureUnion object, we can extract multiple types of features from the customer complaints dataset and use them in a machine learning model to improve its performance."
   ]
  },
  {
   "cell_type": "code",
   "execution_count": null,
   "id": "b4c827e6",
   "metadata": {},
   "outputs": [],
   "source": [
    "# Define a pipeline to train the model using a Naive Bayes classifier\n",
    "pipeline = Pipeline([\n",
    "    ('features', features),\n",
    "    ('clf', MultinomialNB()),\n",
    "])\n",
    "\n",
    "# Fit the pipeline on the training data\n",
    "pipeline.fit(X_train, y_train)\n",
    "\n",
    "# Evaluate the performance of the pipeline using cross-validation\n",
    "scores = cross_val_score(pipeline, X_train, y_train, cv=5)\n",
    "print(\"Accuracy: %0.2f (+/- %0.2f)\" % (scores.mean(), scores.std() * 2))\n",
    "\n",
    "# Use the pipeline to predict the categories of the test data\n",
    "y_pred = pipeline.predict(X_test)\n",
    "\n",
    "# Evaluate the performance of the pipeline on the test data\n",
    "accuracy = np.mean(y_pred == y_test)\n",
    "print(\"Accuracy on test data:\", accuracy)\n"
   ]
  },
  {
   "cell_type": "code",
   "execution_count": null,
   "id": "04cba159",
   "metadata": {},
   "outputs": [],
   "source": [
    "from sklearn.feature_extraction.text import TfidfVectorizer\n",
    "import yake\n",
    "\n",
    "# Initialize YAKE extractor\n",
    "kw_extractor = yake.KeywordExtractor()\n",
    "\n",
    "# Define corpus of documents\n",
    "corpus = ['This is a document with some text.',\n",
    "          'This is another document.',\n",
    "          'This is a third document with different text.']\n",
    "\n",
    "# Extract keywords using YAKE\n",
    "yake_keywords = []\n",
    "for doc in corpus:\n",
    "    keywords = kw_extractor.extract_keywords(doc)\n",
    "    yake_keywords.append([kw[0] for kw in keywords])\n",
    "\n",
    "# Convert YAKE keywords to count vectors\n",
    "from sklearn.feature_extraction.text import CountVectorizer\n",
    "vectorizer = CountVectorizer(binary=False, vocabulary=kw_extractor.get_n_keywords())\n",
    "yake_count_vectors = vectorizer.fit_transform(yake_keywords)\n",
    "\n",
    "# Apply IDF weighting to count vectors\n",
    "tfidf_transformer = TfidfVectorizer().fit(yake_keywords)\n",
    "yake_tfidf_vectors = tfidf_transformer.transform(yake_keywords)\n",
    "\n",
    "# Print the YAKE count vectors and the YAKE IDF weighted vectors\n",
    "print('YAKE Count Vectors:')\n",
    "print(yake_count_vectors.toarray())\n",
    "print('YAKE IDF Weighted Vectors:')\n",
    "print(yake_tfidf_vectors.toarray())\n"
   ]
  },
  {
   "cell_type": "code",
   "execution_count": null,
   "id": "51d11ae4",
   "metadata": {},
   "outputs": [],
   "source": [
    "from sklearn.pipeline import Pipeline, FeatureUnion\n",
    "from sklearn.feature_extraction.text import CountVectorizer, TfidfTransformer\n",
    "from sklearn.preprocessing import FunctionTransformer\n",
    "from sklearn.model_selection import GridSearchCV\n",
    "from sklearn.linear_model import LogisticRegression\n",
    "\n",
    "# Define a feature union to combine all the extracted features\n",
    "features = FeatureUnion([\n",
    "    ('description', Pipeline([\n",
    "        ('vect', CountVectorizer()),\n",
    "        ('tfidf', TfidfTransformer()),\n",
    "    ])),\n",
    "    ('title', Pipeline([\n",
    "        ('vect', CountVectorizer()),\n",
    "        ('tfidf', TfidfTransformer()),\n",
    "    ])),\n",
    "    ('pos_tags', FunctionTransformer(pos_tagger)),\n",
    "    ('ner', FunctionTransformer(ner)),\n",
    "    ('keywords', FunctionTransformer(extract_keywords)),\n",
    "    ('events', FunctionTransformer(extract_events))\n",
    "])\n",
    "\n",
    "# Define the pipeline\n",
    "pipeline = Pipeline([\n",
    "    ('features', features),\n",
    "    ('classifier', LogisticRegression())\n",
    "])\n",
    "\n",
    "# Define the parameter grid for hyperparameter tuning\n",
    "param_grid = {\n",
    "    'features__description__vect__max_df': [0.9, 0.95],\n",
    "    'features__title__vect__max_df': [0.9, 0.95],\n",
    "    'features__description__vect__ngram_range': [(1, 1), (1, 2)],\n",
    "    'features__title__vect__ngram_range': [(1, 1), (1, 2)],\n",
    "    'classifier__C': [0.1, 1, 10],\n",
    "    'classifier__penalty': ['l1', 'l2']\n",
    "}\n",
    "\n",
    "# Perform a grid search of the pipeline\n",
    "grid_search = GridSearchCV(pipeline, param_grid=param_grid, cv=5, n_jobs=-1)\n",
    "grid_search.fit(X_train, y_train)\n",
    "\n",
    "# Print the best hyperparameters and the corresponding score\n",
    "print(\"Best hyperparameters: \", grid_search.best_params_)\n",
    "print(\"Best score: \", grid_search.best_score_)\n"
   ]
  },
  {
   "cell_type": "code",
   "execution_count": null,
   "id": "26ded3a8",
   "metadata": {},
   "outputs": [],
   "source": []
  },
  {
   "cell_type": "code",
   "execution_count": null,
   "id": "dfdd028a",
   "metadata": {},
   "outputs": [],
   "source": []
  }
 ],
 "metadata": {
  "kernelspec": {
   "display_name": "env1",
   "language": "python",
   "name": "env1"
  },
  "language_info": {
   "codemirror_mode": {
    "name": "ipython",
    "version": 3
   },
   "file_extension": ".py",
   "mimetype": "text/x-python",
   "name": "python",
   "nbconvert_exporter": "python",
   "pygments_lexer": "ipython3",
   "version": "3.8.0"
  }
 },
 "nbformat": 4,
 "nbformat_minor": 5
}
