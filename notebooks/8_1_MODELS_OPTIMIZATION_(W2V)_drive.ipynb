{
  "cells": [
    {
      "cell_type": "code",
      "source": [
        "!pip install --quiet optuna"
      ],
      "metadata": {
        "colab": {
          "base_uri": "https://localhost:8080/"
        },
        "id": "LvRQKX7sZBaA",
        "outputId": "5a017e98-664a-44a2-d531-42cbcaf9b557"
      },
      "id": "LvRQKX7sZBaA",
      "execution_count": 1,
      "outputs": [
        {
          "output_type": "stream",
          "name": "stdout",
          "text": [
            "\u001b[2K     \u001b[90m━━━━━━━━━━━━━━━━━━━━━━━━━━━━━━━━━━━━━━━\u001b[0m \u001b[32m404.2/404.2 kB\u001b[0m \u001b[31m8.6 MB/s\u001b[0m eta \u001b[36m0:00:00\u001b[0m\n",
            "\u001b[2K     \u001b[90m━━━━━━━━━━━━━━━━━━━━━━━━━━━━━━━━━━━━━━\u001b[0m \u001b[32m226.0/226.0 kB\u001b[0m \u001b[31m27.1 MB/s\u001b[0m eta \u001b[36m0:00:00\u001b[0m\n",
            "\u001b[2K     \u001b[90m━━━━━━━━━━━━━━━━━━━━━━━━━━━━━━━━━━━━━━━━\u001b[0m \u001b[32m78.7/78.7 kB\u001b[0m \u001b[31m9.4 MB/s\u001b[0m eta \u001b[36m0:00:00\u001b[0m\n",
            "\u001b[?25h"
          ]
        }
      ]
    },
    {
      "cell_type": "code",
      "execution_count": 2,
      "id": "2f8b3be5",
      "metadata": {
        "id": "2f8b3be5"
      },
      "outputs": [],
      "source": [
        "from sklearn.svm import LinearSVC\n",
        "from sklearn.model_selection import GridSearchCV, train_test_split, StratifiedKFold\n",
        "from sklearn.metrics import accuracy_score, f1_score, precision_score, recall_score\n",
        "from xgboost import XGBClassifier\n",
        "from sklearn.model_selection import train_test_split\n",
        "from sklearn.metrics import classification_report\n",
        "from sklearn.feature_extraction.text import TfidfVectorizer\n",
        "import gensim\n",
        "from gensim.models import KeyedVectors\n",
        "import pandas as pd\n",
        "from sklearn.model_selection import cross_val_score, learning_curve\n",
        "import matplotlib.pyplot as plt\n",
        "from sklearn.model_selection import StratifiedKFold, GridSearchCV, RandomizedSearchCV\n",
        "from sklearn.metrics import classification_report, confusion_matrix\n",
        "from sklearn.feature_selection import SelectKBest, chi2, SelectFromModel,RFE\n",
        "from sklearn.pipeline import Pipeline\n",
        "from imblearn.over_sampling import SMOTE, ADASYN\n",
        "from imblearn.combine import SMOTEENN\n",
        "import warnings\n",
        "from sklearn.decomposition import PCA\n",
        "import optuna\n",
        "from imblearn.pipeline import Pipeline as imblearn_Pipeline"
      ]
    },
    {
      "cell_type": "code",
      "source": [
        "from google.colab import drive\n",
        "drive.mount('/content/drive')"
      ],
      "metadata": {
        "colab": {
          "base_uri": "https://localhost:8080/"
        },
        "id": "-zf0SP8WcXpu",
        "outputId": "4b60a1c0-96fe-48fb-8b2e-bee2fe1d5f4f"
      },
      "id": "-zf0SP8WcXpu",
      "execution_count": 3,
      "outputs": [
        {
          "output_type": "stream",
          "name": "stdout",
          "text": [
            "Mounted at /content/drive\n"
          ]
        }
      ]
    },
    {
      "cell_type": "code",
      "execution_count": 4,
      "id": "35e77c3e",
      "metadata": {
        "id": "35e77c3e"
      },
      "outputs": [],
      "source": [
        "import numpy as np\n",
        "np.random.seed(42)  # Set random seed for numpy\n",
        "\n",
        "import random\n",
        "random.seed(42)  # Set random seed for random module"
      ]
    },
    {
      "cell_type": "code",
      "execution_count": 5,
      "id": "d588b6ab",
      "metadata": {
        "id": "d588b6ab"
      },
      "outputs": [],
      "source": [
        "df = pd.read_csv(\"/content/drive/MyDrive/MS DATA SCIENCE /TESE /data_processed_selected.csv\")\n",
        "w2v= KeyedVectors.load_word2vec_format('/content/drive/MyDrive/MS DATA SCIENCE /TESE /skip_s600_word2vec.txt')"
      ]
    },
    {
      "cell_type": "code",
      "source": [
        "# df = pd.read_csv(\"D:\\\\MS DATA SCIENCE\\\\NLP TESE\\\\data\\\\data_processed_selected.csv\")\n",
        "# w2v= KeyedVectors.load_word2vec_format('D:\\\\MS DATA SCIENCE\\\\NLP TESE\\\\embeddings\\\\skip_s600_word2vec.txt')"
      ],
      "metadata": {
        "id": "nU7z55jLTTnU"
      },
      "id": "nU7z55jLTTnU",
      "execution_count": 6,
      "outputs": []
    },
    {
      "cell_type": "code",
      "execution_count": 7,
      "id": "8e11836b",
      "metadata": {
        "id": "8e11836b"
      },
      "outputs": [],
      "source": [
        "import warnings\n",
        "warnings.filterwarnings(\"ignore\")"
      ]
    },
    {
      "cell_type": "code",
      "execution_count": 8,
      "id": "6a1b1910",
      "metadata": {
        "id": "6a1b1910"
      },
      "outputs": [],
      "source": [
        "def preprocess_entities(row):\n",
        "    if pd.isna(row)==False:\n",
        "        entities = row.lower()  # Convert to lowercase\n",
        "        entities = entities.replace(',', '')  # Remove commas\n",
        "        entities = ' '.join(set(entities.split()))  # Convert to set to get unique values, then join back as a string\n",
        "        return entities\n",
        "df['entities'] = df['entities'].apply(preprocess_entities)"
      ]
    },
    {
      "cell_type": "code",
      "execution_count": 9,
      "id": "87313292",
      "metadata": {
        "id": "87313292"
      },
      "outputs": [],
      "source": [
        "y=df['reason']\n",
        "X = df[['narrative_embeddings', 'embeddings_title', 'embeddings_keywords', 'events_embeddings', 'entities']]"
      ]
    },
    {
      "cell_type": "code",
      "execution_count": 10,
      "id": "87dc2eba",
      "metadata": {
        "colab": {
          "base_uri": "https://localhost:8080/"
        },
        "id": "87dc2eba",
        "outputId": "3e370231-547c-48ce-f6cb-01382d52949b"
      },
      "outputs": [
        {
          "output_type": "stream",
          "name": "stdout",
          "text": [
            "X_train shape: (15701, 5)\n",
            "y_train shape: (15701,)\n",
            "X_test shape: (6729, 5)\n",
            "y_test shape: (6729,)\n"
          ]
        }
      ],
      "source": [
        "# Split the data into a training set (70%) and a test set (30%)\n",
        "X_train, X_test, y_train, y_test = train_test_split(X, y, test_size=0.3, stratify=y, random_state=42)\n",
        "\n",
        "# Print the shape of each set\n",
        "print(\"X_train shape:\", X_train.shape)\n",
        "print(\"y_train shape:\", y_train.shape)\n",
        "print(\"X_test shape:\", X_test.shape)\n",
        "print(\"y_test shape:\", y_test.shape)"
      ]
    },
    {
      "cell_type": "code",
      "execution_count": 11,
      "id": "ca631c1c",
      "metadata": {
        "id": "ca631c1c"
      },
      "outputs": [],
      "source": [
        "def embeddings_transformation(X, model):\n",
        "    '''returns the mean of the embeddings of the document X'''\n",
        "    # initiating a sentence with all zeros\n",
        "    embedding_size = 600\n",
        "    X_transformed = np.zeros((len(X), embedding_size))\n",
        "\n",
        "    # Loop over each string in X\n",
        "    for i, sentence in enumerate(X):\n",
        "        # Loop over each word in the sentence and, if it is in the model's vocabulary, add its feature vector to the total\n",
        "        embeddings = [model[word] for word in sentence.split() if word in model]\n",
        "        if embeddings:\n",
        "            X_transformed[i] = np.mean(embeddings, axis=0)\n",
        "    return X_transformed"
      ]
    },
    {
      "cell_type": "code",
      "execution_count": 12,
      "id": "b2347e6d",
      "metadata": {
        "id": "b2347e6d"
      },
      "outputs": [],
      "source": [
        "feature_set=['narrative_embeddings', 'embeddings_title']\n",
        "X_train_selected = X_train[feature_set].apply(lambda x: ' '.join(x.fillna('').astype(str)), axis=1)\n",
        "# Transform the text data into embeddings\n",
        "X_train_embeddings = embeddings_transformation(X_train_selected, w2v)"
      ]
    },
    {
      "cell_type": "code",
      "execution_count": 13,
      "id": "fb7ecd2a",
      "metadata": {
        "id": "fb7ecd2a"
      },
      "outputs": [],
      "source": [
        "def cross_validate_with_pipeline(pipeline, X, y, n_splits=5):\n",
        "    kf = StratifiedKFold(n_splits=n_splits, shuffle=True, random_state=42)\n",
        "\n",
        "    all_true_labels = []\n",
        "    all_predicted_labels = []\n",
        "\n",
        "    for fold, (train_index, val_index) in enumerate(kf.split(X, y), start=1):\n",
        "        X_train_fold, X_val_fold = X[train_index], X[val_index]\n",
        "        y_train_fold, y_val_fold = y.iloc[train_index], y.iloc[val_index]\n",
        "\n",
        "        pipeline.fit(X_train_fold, y_train_fold)\n",
        "\n",
        "        y_pred_train = pipeline.predict(X_train_fold)\n",
        "        y_pred_val = pipeline.predict(X_val_fold)\n",
        "\n",
        "        training_f1_macro = f1_score(y_train_fold, y_pred_train, average='macro')\n",
        "        validation_f1_macro = f1_score(y_val_fold, y_pred_val, average='macro')\n",
        "\n",
        "        print(f\"Fold number: {fold}, Training F1 Macro: {training_f1_macro:.4f}, Validation F1 Macro: {validation_f1_macro:.4f}\")\n",
        "\n",
        "        all_true_labels.extend(y_val_fold)\n",
        "        all_predicted_labels.extend(y_pred_val)\n",
        "\n",
        "    return all_true_labels, all_predicted_labels"
      ]
    },
    {
      "cell_type": "code",
      "source": [
        "def compute_mean_f1_macro(pipeline, X, y, n_splits=5):\n",
        "    kf = StratifiedKFold(n_splits=n_splits, shuffle=True, random_state=42)\n",
        "\n",
        "    all_true_labels = []\n",
        "    all_predicted_labels = []\n",
        "\n",
        "    for fold, (train_index, val_index) in enumerate(kf.split(X, y), start=1):\n",
        "        X_train_fold, X_val_fold = X[train_index], X[val_index]\n",
        "        y_train_fold, y_val_fold = y.iloc[train_index], y.iloc[val_index]\n",
        "\n",
        "        pipeline.fit(X_train_fold, y_train_fold)\n",
        "\n",
        "        y_pred_val = pipeline.predict(X_val_fold)\n",
        "\n",
        "        all_true_labels.extend(y_val_fold)\n",
        "        all_predicted_labels.extend(y_pred_val)\n",
        "\n",
        "    mean_f1_macro = f1_score(all_true_labels, all_predicted_labels, average='macro')\n",
        "\n",
        "    return mean_f1_macro"
      ],
      "metadata": {
        "id": "V378mYcDaWSH"
      },
      "id": "V378mYcDaWSH",
      "execution_count": 14,
      "outputs": []
    },
    {
      "cell_type": "code",
      "execution_count": 15,
      "id": "23378416",
      "metadata": {
        "id": "23378416"
      },
      "outputs": [],
      "source": [
        "def plot_confusion_matrix_and_report(all_true_labels, all_predicted_labels, class_labels):\n",
        "    # Generate the confusion matrix\n",
        "    confusion_mat = confusion_matrix(all_true_labels, all_predicted_labels, labels=class_labels)\n",
        "\n",
        "    # Calculate the classification report\n",
        "    class_report = classification_report(all_true_labels, all_predicted_labels, target_names=[f'Class {label}' for label in class_labels])\n",
        "\n",
        "    print(\"\\nClassification Report:\")\n",
        "    print(class_report)\n",
        "\n",
        "    # Plot the confusion matrix\n",
        "    print(\"Confusion Matrix:\")\n",
        "    fig, ax = plt.subplots(figsize=(7, 7))\n",
        "    ax.matshow(confusion_mat, cmap=plt.cm.Blues, alpha=0.3)\n",
        "    for i in range(confusion_mat.shape[0]):\n",
        "        for j in range(confusion_mat.shape[1]):\n",
        "            ax.text(x=j, y=i, s=confusion_mat[i, j], va='center', ha='center', size='xx-large')\n",
        "    plt.xlabel('Predictions', fontsize=10)\n",
        "    plt.ylabel('Actuals', fontsize=10)\n",
        "    plt.title('Confusion Matrix', fontsize=10)\n",
        "    plt.show()\n",
        "    print('\\n')"
      ]
    },
    {
      "cell_type": "code",
      "source": [
        "import os\n",
        "\n",
        "# Get the number of CPU cores\n",
        "num_cpus = os.cpu_count()\n",
        "\n",
        "print(\"Number of CPU cores available:\", num_cpus)"
      ],
      "metadata": {
        "colab": {
          "base_uri": "https://localhost:8080/"
        },
        "id": "Cea7EeTzUB1l",
        "outputId": "4dc75f56-3716-4bb4-e9eb-1f8cbe01a359"
      },
      "id": "Cea7EeTzUB1l",
      "execution_count": 16,
      "outputs": [
        {
          "output_type": "stream",
          "name": "stdout",
          "text": [
            "Number of CPU cores available: 12\n"
          ]
        }
      ]
    },
    {
      "cell_type": "code",
      "source": [
        "import torch\n",
        "\n",
        "# Check if GPU is available\n",
        "if torch.cuda.is_available():\n",
        "    # Get the number of available GPUs\n",
        "    num_gpus = torch.cuda.device_count()\n",
        "    print(f\"Number of GPUs available: {num_gpus}\")\n",
        "\n",
        "    # Get the GPU IDs\n",
        "    gpu_ids = list(range(num_gpus))\n",
        "    print(f\"GPU IDs: {gpu_ids}\")\n",
        "else:\n",
        "    print(\"No GPUs available.\")\n"
      ],
      "metadata": {
        "colab": {
          "base_uri": "https://localhost:8080/"
        },
        "id": "Zgf2fgkx0AQg",
        "outputId": "80c95032-1b58-49ff-9b16-1c5fd6121e0a"
      },
      "id": "Zgf2fgkx0AQg",
      "execution_count": 17,
      "outputs": [
        {
          "output_type": "stream",
          "name": "stdout",
          "text": [
            "Number of GPUs available: 1\n",
            "GPU IDs: [0]\n"
          ]
        }
      ]
    },
    {
      "cell_type": "markdown",
      "id": "7b662285",
      "metadata": {
        "id": "7b662285"
      },
      "source": [
        "# XGBOOST    \n",
        "was slightly better than LinearSVC in terms of F1-Score, by 1%"
      ]
    },
    {
      "cell_type": "markdown",
      "id": "bb8dfd1e",
      "metadata": {
        "id": "bb8dfd1e"
      },
      "source": [
        "<span style=\"color:white; font-size:18px;background-color:red\"> HYPERPARAMETER TUNING </span>  "
      ]
    },
    {
      "cell_type": "code",
      "source": [
        "def objective(trial):\n",
        "  # Define the hyperparameter search space\n",
        "  new_params= {\n",
        "    'max_depth': trial.suggest_int('max_depth', 3, 12),\n",
        "    'eta': trial.suggest_loguniform('eta', 0.001, 0.3),\n",
        "    'subsample': trial.suggest_float('subsample', 0.5, 1.0),\n",
        "    'colsample_bytree': trial.suggest_float('colsample_bytree', 0.5, 1.0),\n",
        "    'min_child_weight': trial.suggest_int('min_child_weight', 1, 15),\n",
        "    'n_estimators': trial.suggest_int('n_estimators', 50, 400),\n",
        "    'gamma': trial.suggest_float('gamma', 0, 1),\n",
        "    'alpha': trial.suggest_float('alpha', 0, 100),  # L1 regularization term on weights\n",
        "    'lambda': trial.suggest_float('lambda', 0, 100) # L2\n",
        "    }\n",
        "\n",
        "  # Create and train the XGBoost classifier with the current set of hyperparameters\n",
        "  model = XGBClassifier(\n",
        "    random_state=42,\n",
        "    num_class=4,\n",
        "    n_jobs=-1,\n",
        "    objective='multi:softmax',\n",
        "    eval_metric='mlogloss',\n",
        "    tree_method='gpu_hist',  # Use GPU acceleration\n",
        "    gpu_id=0,                # Specify GPU device 0\n",
        "    **new_params\n",
        ")\n",
        "\n",
        "  pipeline = Pipeline([\n",
        "      ('classifier', model)\n",
        "      ])\n",
        "\n",
        "  mean_f1_scores= compute_mean_f1_macro(pipeline, X_train_embeddings, y_train, n_splits=5)\n",
        "  return mean_f1_scores"
      ],
      "metadata": {
        "id": "lovU-jFWZVfV"
      },
      "id": "lovU-jFWZVfV",
      "execution_count": 19,
      "outputs": []
    },
    {
      "cell_type": "code",
      "source": [
        "import os\n",
        "path = '/content/drive/MyDrive/MS DATA SCIENCE /TESE /optimização/new'\n",
        "# database_filename = 'xgboost_w2v_expanded.db'\n",
        "database_filename = 'xgboost_w2v_gpu.db'\n",
        "\n",
        "# Full path to the SQLite database file in Google Drive\n",
        "database_path = os.path.join(path, database_filename)\n",
        "\n",
        "# Set the SQLite database path to Google Drive path\n",
        "storage = optuna.storages.RDBStorage(url=f'sqlite:///{database_path}')"
      ],
      "metadata": {
        "id": "DyolIloSa_J_"
      },
      "id": "DyolIloSa_J_",
      "execution_count": 20,
      "outputs": []
    },
    {
      "cell_type": "code",
      "source": [
        "# create study\n",
        "study = optuna.create_study(storage=storage, direction='maximize', study_name='xgboost_w2v_gpu',load_if_exists=True)\n",
        "study.optimize(objective, n_trials=50, n_jobs=-1)"
      ],
      "metadata": {
        "id": "jJsx2G0BK7VD",
        "colab": {
          "base_uri": "https://localhost:8080/"
        },
        "outputId": "217ee340-7188-4aa1-e19f-6730ab9c33e5"
      },
      "id": "jJsx2G0BK7VD",
      "execution_count": 21,
      "outputs": [
        {
          "output_type": "stream",
          "name": "stderr",
          "text": [
            "[I 2023-09-21 22:27:31,656] A new study created in RDB with name: xgboost_w2v_gpu\n",
            "[I 2023-09-21 22:28:36,529] Trial 8 finished with value: 0.35722348045643415 and parameters: {'max_depth': 3, 'eta': 0.2549043891247123, 'subsample': 0.5492039733175792, 'colsample_bytree': 0.8698118993258679, 'min_child_weight': 5, 'n_estimators': 181, 'gamma': 0.02134968796622383, 'alpha': 73.42700782974099, 'lambda': 25.938233387940357}. Best is trial 8 with value: 0.35722348045643415.\n",
            "[I 2023-09-21 22:28:41,374] Trial 7 finished with value: 0.3072042561687248 and parameters: {'max_depth': 3, 'eta': 0.0021191937373649483, 'subsample': 0.804583252262558, 'colsample_bytree': 0.9975315007370706, 'min_child_weight': 11, 'n_estimators': 158, 'gamma': 0.8585577375303138, 'alpha': 81.83668640311662, 'lambda': 50.45437244367055}. Best is trial 8 with value: 0.35722348045643415.\n",
            "[I 2023-09-21 22:28:46,574] Trial 6 finished with value: 0.34319735522222145 and parameters: {'max_depth': 9, 'eta': 0.08734776074532886, 'subsample': 0.6754442765683673, 'colsample_bytree': 0.7875930245765679, 'min_child_weight': 5, 'n_estimators': 79, 'gamma': 0.3851601588132041, 'alpha': 74.66907638164173, 'lambda': 10.550425985929035}. Best is trial 8 with value: 0.35722348045643415.\n",
            "[I 2023-09-21 22:28:50,926] Trial 10 finished with value: 0.33198075398839993 and parameters: {'max_depth': 3, 'eta': 0.03552506446570492, 'subsample': 0.7763079148306531, 'colsample_bytree': 0.8898602754831079, 'min_child_weight': 4, 'n_estimators': 182, 'gamma': 0.9879976250625235, 'alpha': 78.50578499905487, 'lambda': 22.42921055175747}. Best is trial 8 with value: 0.35722348045643415.\n",
            "[I 2023-09-21 22:28:59,415] Trial 9 finished with value: 0.3603207605492556 and parameters: {'max_depth': 9, 'eta': 0.2768900074987903, 'subsample': 0.8013665792585958, 'colsample_bytree': 0.7877243628923638, 'min_child_weight': 5, 'n_estimators': 218, 'gamma': 0.33081742186363594, 'alpha': 85.91274566149254, 'lambda': 36.403069404866194}. Best is trial 9 with value: 0.3603207605492556.\n",
            "[I 2023-09-21 22:29:05,854] Trial 0 finished with value: 0.3254199535890997 and parameters: {'max_depth': 11, 'eta': 0.02315504682991985, 'subsample': 0.5967967600093241, 'colsample_bytree': 0.5434833800232537, 'min_child_weight': 6, 'n_estimators': 84, 'gamma': 0.25553521153379277, 'alpha': 61.23900110672611, 'lambda': 79.39180207318071}. Best is trial 9 with value: 0.3603207605492556.\n",
            "[I 2023-09-21 22:30:03,199] Trial 1 finished with value: 0.348291182149301 and parameters: {'max_depth': 9, 'eta': 0.07948627285934579, 'subsample': 0.7377732924352032, 'colsample_bytree': 0.8968180993158901, 'min_child_weight': 1, 'n_estimators': 296, 'gamma': 0.878972140235986, 'alpha': 80.48084589173719, 'lambda': 7.450029464157781}. Best is trial 9 with value: 0.3603207605492556.\n",
            "[I 2023-09-21 22:30:18,955] Trial 5 finished with value: 0.3327704768710381 and parameters: {'max_depth': 5, 'eta': 0.021314120967463133, 'subsample': 0.5833218912043406, 'colsample_bytree': 0.8029690057821272, 'min_child_weight': 8, 'n_estimators': 286, 'gamma': 0.23543561187299566, 'alpha': 86.16665077389317, 'lambda': 74.02136370447678}. Best is trial 9 with value: 0.3603207605492556.\n",
            "[I 2023-09-21 22:30:30,727] Trial 16 finished with value: 0.34209640094451693 and parameters: {'max_depth': 3, 'eta': 0.0272677525693655, 'subsample': 0.5427539389005254, 'colsample_bytree': 0.7794299867768923, 'min_child_weight': 7, 'n_estimators': 219, 'gamma': 0.14630423867378617, 'alpha': 39.554151311895765, 'lambda': 35.31465143965088}. Best is trial 9 with value: 0.3603207605492556.\n",
            "[I 2023-09-21 22:31:10,828] Trial 13 finished with value: 0.42525184395938187 and parameters: {'max_depth': 11, 'eta': 0.26221161352433714, 'subsample': 0.6653996296918556, 'colsample_bytree': 0.8847493013555678, 'min_child_weight': 10, 'n_estimators': 270, 'gamma': 0.49042283163660916, 'alpha': 32.06495540583576, 'lambda': 1.350237287671363}. Best is trial 13 with value: 0.42525184395938187.\n",
            "[I 2023-09-21 22:31:13,328] Trial 18 finished with value: 0.3059691252618598 and parameters: {'max_depth': 3, 'eta': 0.0011995462844086493, 'subsample': 0.9405406631845965, 'colsample_bytree': 0.9164878619438821, 'min_child_weight': 10, 'n_estimators': 165, 'gamma': 0.18856831805470564, 'alpha': 93.62424005824258, 'lambda': 28.40828798632825}. Best is trial 13 with value: 0.42525184395938187.\n",
            "[I 2023-09-21 22:31:43,612] Trial 4 finished with value: 0.4173303697683407 and parameters: {'max_depth': 12, 'eta': 0.12120609824056329, 'subsample': 0.8764193976244112, 'colsample_bytree': 0.8967019163753571, 'min_child_weight': 15, 'n_estimators': 392, 'gamma': 0.334695731496241, 'alpha': 39.6824222487795, 'lambda': 35.41201748630075}. Best is trial 13 with value: 0.42525184395938187.\n",
            "[I 2023-09-21 22:31:55,003] Trial 19 finished with value: 0.34157192337609565 and parameters: {'max_depth': 11, 'eta': 0.2894612136502869, 'subsample': 0.8369564033655271, 'colsample_bytree': 0.7734257028769369, 'min_child_weight': 5, 'n_estimators': 281, 'gamma': 0.9301131760612092, 'alpha': 96.60881423561779, 'lambda': 34.72290139459246}. Best is trial 13 with value: 0.42525184395938187.\n",
            "[I 2023-09-21 22:32:05,117] Trial 14 finished with value: 0.3274591454700797 and parameters: {'max_depth': 12, 'eta': 0.003266760447268713, 'subsample': 0.7386191584771981, 'colsample_bytree': 0.6278656942674509, 'min_child_weight': 7, 'n_estimators': 149, 'gamma': 0.35566762321418, 'alpha': 10.535983997162413, 'lambda': 84.2277582019754}. Best is trial 13 with value: 0.42525184395938187.\n",
            "[I 2023-09-21 22:32:19,138] Trial 20 finished with value: 0.3615542410963694 and parameters: {'max_depth': 4, 'eta': 0.03768690362711303, 'subsample': 0.9821666605652983, 'colsample_bytree': 0.9538009150017419, 'min_child_weight': 4, 'n_estimators': 203, 'gamma': 0.22893820970057022, 'alpha': 58.920245261833294, 'lambda': 46.501589552009115}. Best is trial 13 with value: 0.42525184395938187.\n",
            "[I 2023-09-21 22:32:32,198] Trial 3 finished with value: 0.3828959719101568 and parameters: {'max_depth': 12, 'eta': 0.031084287545384906, 'subsample': 0.9409635417872894, 'colsample_bytree': 0.5663148999580887, 'min_child_weight': 5, 'n_estimators': 211, 'gamma': 0.5659042233826621, 'alpha': 13.040024302371533, 'lambda': 74.97945862989037}. Best is trial 13 with value: 0.42525184395938187.\n",
            "[I 2023-09-21 22:33:37,005] Trial 11 finished with value: 0.32040220306335276 and parameters: {'max_depth': 11, 'eta': 0.0015077891118851037, 'subsample': 0.9006241129789756, 'colsample_bytree': 0.8037478842308424, 'min_child_weight': 5, 'n_estimators': 326, 'gamma': 0.4205713807403685, 'alpha': 56.9607092257541, 'lambda': 59.04531224960876}. Best is trial 13 with value: 0.42525184395938187.\n",
            "[I 2023-09-21 22:33:45,538] Trial 2 finished with value: 0.3254680127587867 and parameters: {'max_depth': 8, 'eta': 0.0011675098263075028, 'subsample': 0.630546707486126, 'colsample_bytree': 0.6375807302123382, 'min_child_weight': 6, 'n_estimators': 358, 'gamma': 0.4155052516383012, 'alpha': 3.7643718088510636, 'lambda': 92.35443025332742}. Best is trial 13 with value: 0.42525184395938187.\n",
            "[I 2023-09-21 22:34:17,002] Trial 17 finished with value: 0.41683121612486107 and parameters: {'max_depth': 10, 'eta': 0.053416716377359286, 'subsample': 0.6013952993713507, 'colsample_bytree': 0.59465386649816, 'min_child_weight': 3, 'n_estimators': 275, 'gamma': 0.5186523262927987, 'alpha': 14.161182279603734, 'lambda': 88.87806256674234}. Best is trial 13 with value: 0.42525184395938187.\n",
            "[I 2023-09-21 22:34:21,084] Trial 22 finished with value: 0.42829677403880817 and parameters: {'max_depth': 12, 'eta': 0.2799635365034277, 'subsample': 0.8469243139741676, 'colsample_bytree': 0.6859408708674886, 'min_child_weight': 15, 'n_estimators': 383, 'gamma': 0.5446651419651212, 'alpha': 24.336728176243163, 'lambda': 0.8116190808419987}. Best is trial 22 with value: 0.42829677403880817.\n",
            "[I 2023-09-21 22:34:25,604] Trial 15 finished with value: 0.3286030462270069 and parameters: {'max_depth': 9, 'eta': 0.0026397727627964487, 'subsample': 0.5095451754542227, 'colsample_bytree': 0.8562582304549693, 'min_child_weight': 11, 'n_estimators': 311, 'gamma': 0.06318923965771372, 'alpha': 9.625331563173834, 'lambda': 74.85128703874429}. Best is trial 22 with value: 0.42829677403880817.\n",
            "[I 2023-09-21 22:35:27,421] Trial 25 finished with value: 0.40450060835541807 and parameters: {'max_depth': 12, 'eta': 0.11340079382728441, 'subsample': 0.9968703879009994, 'colsample_bytree': 0.9959004673533339, 'min_child_weight': 15, 'n_estimators': 379, 'gamma': 0.5658854900235358, 'alpha': 36.8073879563329, 'lambda': 0.5941790488973389}. Best is trial 22 with value: 0.42829677403880817.\n",
            "[I 2023-09-21 22:35:38,231] Trial 26 finished with value: 0.4166668254379894 and parameters: {'max_depth': 7, 'eta': 0.13216963143421262, 'subsample': 0.6612748433407237, 'colsample_bytree': 0.854352365735839, 'min_child_weight': 15, 'n_estimators': 400, 'gamma': 0.5231571280369327, 'alpha': 35.86348895104873, 'lambda': 0.5584926355031854}. Best is trial 22 with value: 0.42829677403880817.\n",
            "[I 2023-09-21 22:35:43,616] Trial 27 finished with value: 0.4169587414240469 and parameters: {'max_depth': 7, 'eta': 0.11074812595896455, 'subsample': 0.8672202145098573, 'colsample_bytree': 0.8335721129768134, 'min_child_weight': 15, 'n_estimators': 377, 'gamma': 0.548537733061062, 'alpha': 35.03485352985554, 'lambda': 0.6356988604238963}. Best is trial 22 with value: 0.42829677403880817.\n",
            "[I 2023-09-21 22:36:10,137] Trial 12 finished with value: 0.37813447694938795 and parameters: {'max_depth': 10, 'eta': 0.011761513049233476, 'subsample': 0.8955984128035503, 'colsample_bytree': 0.654115173671546, 'min_child_weight': 15, 'n_estimators': 363, 'gamma': 0.8862534689525805, 'alpha': 8.700165733412724, 'lambda': 13.649326764361525}. Best is trial 22 with value: 0.42829677403880817.\n",
            "[I 2023-09-21 22:36:11,217] Trial 24 finished with value: 0.420250538799399 and parameters: {'max_depth': 12, 'eta': 0.10128768754673126, 'subsample': 0.9991750210385112, 'colsample_bytree': 0.996138238767756, 'min_child_weight': 15, 'n_estimators': 396, 'gamma': 0.550263904540504, 'alpha': 15.446368779578883, 'lambda': 1.4790746727608985}. Best is trial 22 with value: 0.42829677403880817.\n",
            "[I 2023-09-21 22:36:12,791] Trial 23 finished with value: 0.4309375755873765 and parameters: {'max_depth': 12, 'eta': 0.12288619409956526, 'subsample': 0.9067735933897222, 'colsample_bytree': 0.9845469788857963, 'min_child_weight': 15, 'n_estimators': 377, 'gamma': 0.5123044137494203, 'alpha': 19.783609960459742, 'lambda': 6.993728491197948}. Best is trial 23 with value: 0.4309375755873765.\n",
            "[I 2023-09-21 22:36:42,350] Trial 29 finished with value: 0.4149468922193691 and parameters: {'max_depth': 6, 'eta': 0.13288183248929258, 'subsample': 0.5089752106642408, 'colsample_bytree': 0.8439314674381361, 'min_child_weight': 15, 'n_estimators': 381, 'gamma': 0.5760186513198136, 'alpha': 35.9514096279258, 'lambda': 0.8846456108093648}. Best is trial 23 with value: 0.4309375755873765.\n",
            "[I 2023-09-21 22:36:43,253] Trial 28 finished with value: 0.41803103321742585 and parameters: {'max_depth': 7, 'eta': 0.14305647937375857, 'subsample': 0.6582954412074251, 'colsample_bytree': 0.702808973672647, 'min_child_weight': 15, 'n_estimators': 397, 'gamma': 0.5494647293300521, 'alpha': 37.45506671180241, 'lambda': 3.667722802307175}. Best is trial 23 with value: 0.4309375755873765.\n",
            "[I 2023-09-21 22:37:16,215] Trial 30 finished with value: 0.41192832880729086 and parameters: {'max_depth': 6, 'eta': 0.12385872391307899, 'subsample': 0.6786162798479866, 'colsample_bytree': 0.7129869611097096, 'min_child_weight': 14, 'n_estimators': 397, 'gamma': 0.6121768406870665, 'alpha': 37.56074688309697, 'lambda': 3.9756758631872144}. Best is trial 23 with value: 0.4309375755873765.\n",
            "[I 2023-09-21 22:37:39,845] Trial 31 finished with value: 0.42938151190096263 and parameters: {'max_depth': 6, 'eta': 0.13160739908540722, 'subsample': 0.6944442885143153, 'colsample_bytree': 0.7230863847634209, 'min_child_weight': 14, 'n_estimators': 399, 'gamma': 0.6180643476998664, 'alpha': 26.575037619581764, 'lambda': 4.412983489193796}. Best is trial 23 with value: 0.4309375755873765.\n",
            "[I 2023-09-21 22:37:47,906] Trial 32 finished with value: 0.416816205175889 and parameters: {'max_depth': 12, 'eta': 0.14838580764270948, 'subsample': 0.8689339418556238, 'colsample_bytree': 0.7028568493296108, 'min_child_weight': 15, 'n_estimators': 388, 'gamma': 0.6754954399357861, 'alpha': 34.235808004069725, 'lambda': 0.9987745900673204}. Best is trial 23 with value: 0.4309375755873765.\n",
            "[I 2023-09-21 22:38:14,368] Trial 33 finished with value: 0.4284208950740733 and parameters: {'max_depth': 6, 'eta': 0.1567568997540179, 'subsample': 0.8662528570930496, 'colsample_bytree': 0.7116834264308349, 'min_child_weight': 15, 'n_estimators': 399, 'gamma': 0.7116105096618313, 'alpha': 26.94527167312261, 'lambda': 13.536470859784991}. Best is trial 23 with value: 0.4309375755873765.\n",
            "[I 2023-09-21 22:38:41,016] Trial 35 finished with value: 0.41803140127304184 and parameters: {'max_depth': 10, 'eta': 0.1747976776149304, 'subsample': 0.8612212628485816, 'colsample_bytree': 0.7165322852017999, 'min_child_weight': 13, 'n_estimators': 337, 'gamma': 0.6582027559436128, 'alpha': 27.263909930735515, 'lambda': 16.31344418330331}. Best is trial 23 with value: 0.4309375755873765.\n",
            "[I 2023-09-21 22:38:41,319] Trial 34 finished with value: 0.42633018982221343 and parameters: {'max_depth': 10, 'eta': 0.16721927703790299, 'subsample': 0.8719512085209653, 'colsample_bytree': 0.7123204507439318, 'min_child_weight': 14, 'n_estimators': 342, 'gamma': 0.6606291752229023, 'alpha': 25.967767775347095, 'lambda': 16.083228374773817}. Best is trial 23 with value: 0.4309375755873765.\n",
            "[I 2023-09-21 22:38:54,032] Trial 36 finished with value: 0.422347165703795 and parameters: {'max_depth': 12, 'eta': 0.18418952325880425, 'subsample': 0.8499495402680279, 'colsample_bytree': 0.7121515750317098, 'min_child_weight': 13, 'n_estimators': 251, 'gamma': 0.7176376732276867, 'alpha': 24.516922079836377, 'lambda': 16.944425781747796}. Best is trial 23 with value: 0.4309375755873765.\n",
            "[I 2023-09-21 22:39:08,694] Trial 38 finished with value: 0.4349198445372182 and parameters: {'max_depth': 10, 'eta': 0.18044204200226627, 'subsample': 0.7070367219409305, 'colsample_bytree': 0.7177169120602614, 'min_child_weight': 13, 'n_estimators': 254, 'gamma': 0.6421909001342756, 'alpha': 23.631027392980805, 'lambda': 15.92704456097334}. Best is trial 38 with value: 0.4349198445372182.\n",
            "[I 2023-09-21 22:39:28,818] Trial 39 finished with value: 0.44209634791173313 and parameters: {'max_depth': 10, 'eta': 0.1968891060188219, 'subsample': 0.7101907258770195, 'colsample_bytree': 0.7342706638436639, 'min_child_weight': 13, 'n_estimators': 252, 'gamma': 0.672652534722509, 'alpha': 23.311271459881095, 'lambda': 17.31261620201332}. Best is trial 39 with value: 0.44209634791173313.\n",
            "[I 2023-09-21 22:39:29,600] Trial 37 finished with value: 0.4341618156922062 and parameters: {'max_depth': 11, 'eta': 0.17713672630061653, 'subsample': 0.841202754746666, 'colsample_bytree': 0.715624263268804, 'min_child_weight': 13, 'n_estimators': 337, 'gamma': 0.6439048579450715, 'alpha': 22.583660252579914, 'lambda': 16.903433549879587}. Best is trial 39 with value: 0.44209634791173313.\n",
            "[I 2023-09-21 22:39:29,775] Trial 40 finished with value: 0.4342005895058705 and parameters: {'max_depth': 10, 'eta': 0.1967485654677488, 'subsample': 0.7222622088222681, 'colsample_bytree': 0.7356320438243471, 'min_child_weight': 13, 'n_estimators': 251, 'gamma': 0.6559779871145934, 'alpha': 22.969686414991408, 'lambda': 18.551296297015707}. Best is trial 39 with value: 0.44209634791173313.\n",
            "[I 2023-09-21 22:39:43,544] Trial 41 finished with value: 0.4351747133121298 and parameters: {'max_depth': 10, 'eta': 0.22070230302938743, 'subsample': 0.707714490426697, 'colsample_bytree': 0.9572764002774652, 'min_child_weight': 13, 'n_estimators': 245, 'gamma': 0.6750735125221138, 'alpha': 25.42997103092867, 'lambda': 15.677976129827439}. Best is trial 39 with value: 0.44209634791173313.\n",
            "[I 2023-09-21 22:40:05,395] Trial 48 finished with value: 0.3512037318723549 and parameters: {'max_depth': 5, 'eta': 0.05111095063186566, 'subsample': 0.7259035287039474, 'colsample_bytree': 0.7466678337505278, 'min_child_weight': 13, 'n_estimators': 109, 'gamma': 0.7799388412669295, 'alpha': 46.33581504894448, 'lambda': 9.871819080441991}. Best is trial 39 with value: 0.44209634791173313.\n",
            "[I 2023-09-21 22:40:07,903] Trial 21 finished with value: 0.3680123126995592 and parameters: {'max_depth': 12, 'eta': 0.006864404228038518, 'subsample': 0.9318327071402155, 'colsample_bytree': 0.6820210637948564, 'min_child_weight': 14, 'n_estimators': 397, 'gamma': 0.5932303523034347, 'alpha': 13.182186592394704, 'lambda': 0.002833480341010386}. Best is trial 39 with value: 0.44209634791173313.\n",
            "[I 2023-09-21 22:40:21,933] Trial 43 finished with value: 0.4370728444068903 and parameters: {'max_depth': 10, 'eta': 0.20472177951565673, 'subsample': 0.7047219238959344, 'colsample_bytree': 0.7364133571251987, 'min_child_weight': 13, 'n_estimators': 254, 'gamma': 0.461328175288251, 'alpha': 23.318915867993184, 'lambda': 13.738708487184027}. Best is trial 39 with value: 0.44209634791173313.\n",
            "[I 2023-09-21 22:40:24,801] Trial 44 finished with value: 0.43793606492448733 and parameters: {'max_depth': 5, 'eta': 0.19129680672354774, 'subsample': 0.7161533280435286, 'colsample_bytree': 0.7388845175285635, 'min_child_weight': 13, 'n_estimators': 338, 'gamma': 0.6510594779888295, 'alpha': 22.357067766195193, 'lambda': 13.852386244646127}. Best is trial 39 with value: 0.44209634791173313.\n",
            "[I 2023-09-21 22:40:26,495] Trial 42 finished with value: 0.43872089728531216 and parameters: {'max_depth': 11, 'eta': 0.21957637083702716, 'subsample': 0.6961855712574567, 'colsample_bytree': 0.7276987849345586, 'min_child_weight': 13, 'n_estimators': 346, 'gamma': 0.66534444000553, 'alpha': 24.51168037379329, 'lambda': 16.62823204986518}. Best is trial 39 with value: 0.44209634791173313.\n",
            "[I 2023-09-21 22:40:33,567] Trial 49 finished with value: 0.3959776490327439 and parameters: {'max_depth': 8, 'eta': 0.20435918239170064, 'subsample': 0.7133009373250845, 'colsample_bytree': 0.7526078892681919, 'min_child_weight': 12, 'n_estimators': 247, 'gamma': 0.7943931863773595, 'alpha': 46.301000062616254, 'lambda': 9.349827820570859}. Best is trial 39 with value: 0.44209634791173313.\n",
            "[I 2023-09-21 22:40:44,022] Trial 45 finished with value: 0.4279110641369008 and parameters: {'max_depth': 5, 'eta': 0.06947363716331671, 'subsample': 0.7084645735630469, 'colsample_bytree': 0.7492326317838767, 'min_child_weight': 14, 'n_estimators': 351, 'gamma': 0.7339194736697462, 'alpha': 22.594080397386143, 'lambda': 9.14253004248925}. Best is trial 39 with value: 0.44209634791173313.\n",
            "[I 2023-09-21 22:40:48,953] Trial 46 finished with value: 0.43469606071713807 and parameters: {'max_depth': 6, 'eta': 0.0681936349852838, 'subsample': 0.7127349144158556, 'colsample_bytree': 0.7400198563720846, 'min_child_weight': 13, 'n_estimators': 354, 'gamma': 0.7359393040120437, 'alpha': 19.91807098368087, 'lambda': 10.874444134599}. Best is trial 39 with value: 0.44209634791173313.\n",
            "[I 2023-09-21 22:40:49,390] Trial 47 finished with value: 0.43341782129020673 and parameters: {'max_depth': 5, 'eta': 0.07282486170307491, 'subsample': 0.8306636706137278, 'colsample_bytree': 0.7470462656632447, 'min_child_weight': 13, 'n_estimators': 358, 'gamma': 0.467194319622819, 'alpha': 0.2736511816431957, 'lambda': 8.865459495640417}. Best is trial 39 with value: 0.44209634791173313.\n"
          ]
        }
      ]
    },
    {
      "cell_type": "code",
      "source": [
        "study = optuna.load_study(study_name='xgboost_w2v_gpu', storage=storage)\n",
        "\n",
        "# Fetch the number of completed trials\n",
        "completed_trials = len(study.trials)\n",
        "\n",
        "# Print the number of completed trials\n",
        "print(f\"Number of completed trials: {completed_trials}\")"
      ],
      "metadata": {
        "colab": {
          "base_uri": "https://localhost:8080/"
        },
        "id": "--i0MOkJ76BB",
        "outputId": "e67d913c-6a05-4e6b-b8d7-1acba80a999c"
      },
      "id": "--i0MOkJ76BB",
      "execution_count": 22,
      "outputs": [
        {
          "output_type": "stream",
          "name": "stdout",
          "text": [
            "Number of completed trials: 50\n"
          ]
        }
      ]
    },
    {
      "cell_type": "code",
      "source": [
        "study = optuna.load_study(study_name='xgboost_w2v_gpu', storage=storage)\n",
        "trial = study.best_trial\n",
        "print('F1 score: {}'.format(trial.value))\n",
        "print(\"Best hyperparameters: {}\".format(trial.params))\n",
        "# Plot the optimization history\n",
        "import optuna.visualization as vis\n",
        "vis.plot_optimization_history(study)"
      ],
      "metadata": {
        "colab": {
          "base_uri": "https://localhost:8080/",
          "height": 597
        },
        "id": "BUZeqgfjbLos",
        "outputId": "dd52f158-9df4-423a-c70c-72578d40578c"
      },
      "id": "BUZeqgfjbLos",
      "execution_count": 23,
      "outputs": [
        {
          "output_type": "stream",
          "name": "stdout",
          "text": [
            "F1 score: 0.44209634791173313\n",
            "Best hyperparameters: {'max_depth': 10, 'eta': 0.1968891060188219, 'subsample': 0.7101907258770195, 'colsample_bytree': 0.7342706638436639, 'min_child_weight': 13, 'n_estimators': 252, 'gamma': 0.672652534722509, 'alpha': 23.311271459881095, 'lambda': 17.31261620201332}\n"
          ]
        },
        {
          "output_type": "display_data",
          "data": {
            "text/html": [
              "<html>\n",
              "<head><meta charset=\"utf-8\" /></head>\n",
              "<body>\n",
              "    <div>            <script src=\"https://cdnjs.cloudflare.com/ajax/libs/mathjax/2.7.5/MathJax.js?config=TeX-AMS-MML_SVG\"></script><script type=\"text/javascript\">if (window.MathJax && window.MathJax.Hub && window.MathJax.Hub.Config) {window.MathJax.Hub.Config({SVG: {font: \"STIX-Web\"}});}</script>                <script type=\"text/javascript\">window.PlotlyConfig = {MathJaxConfig: 'local'};</script>\n",
              "        <script charset=\"utf-8\" src=\"https://cdn.plot.ly/plotly-2.24.1.min.js\"></script>                <div id=\"9301160e-73b3-4a4e-aabf-fea0f3ffb2f6\" class=\"plotly-graph-div\" style=\"height:525px; width:100%;\"></div>            <script type=\"text/javascript\">                                    window.PLOTLYENV=window.PLOTLYENV || {};                                    if (document.getElementById(\"9301160e-73b3-4a4e-aabf-fea0f3ffb2f6\")) {                    Plotly.newPlot(                        \"9301160e-73b3-4a4e-aabf-fea0f3ffb2f6\",                        [{\"mode\":\"markers\",\"name\":\"Objective Value\",\"x\":[0,1,2,3,4,5,6,7,8,9,10,11,12,13,14,15,16,17,18,19,20,21,22,23,24,25,26,27,28,29,30,31,32,33,34,35,36,37,38,39,40,41,42,43,44,45,46,47,48,49],\"y\":[0.3254199535890997,0.348291182149301,0.3254680127587867,0.3828959719101568,0.4173303697683407,0.3327704768710381,0.34319735522222145,0.3072042561687248,0.35722348045643415,0.3603207605492556,0.33198075398839993,0.32040220306335276,0.37813447694938795,0.42525184395938187,0.3274591454700797,0.3286030462270069,0.34209640094451693,0.41683121612486107,0.3059691252618598,0.34157192337609565,0.3615542410963694,0.3680123126995592,0.42829677403880817,0.4309375755873765,0.420250538799399,0.40450060835541807,0.4166668254379894,0.4169587414240469,0.41803103321742585,0.4149468922193691,0.41192832880729086,0.42938151190096263,0.416816205175889,0.4284208950740733,0.42633018982221343,0.41803140127304184,0.422347165703795,0.4341618156922062,0.4349198445372182,0.44209634791173313,0.4342005895058705,0.4351747133121298,0.43872089728531216,0.4370728444068903,0.43793606492448733,0.4279110641369008,0.43469606071713807,0.43341782129020673,0.3512037318723549,0.3959776490327439],\"type\":\"scatter\"},{\"mode\":\"lines\",\"name\":\"Best Value\",\"x\":[0,1,2,3,4,5,6,7,8,9,10,11,12,13,14,15,16,17,18,19,20,21,22,23,24,25,26,27,28,29,30,31,32,33,34,35,36,37,38,39,40,41,42,43,44,45,46,47,48,49],\"y\":[0.3254199535890997,0.348291182149301,0.348291182149301,0.3828959719101568,0.4173303697683407,0.4173303697683407,0.4173303697683407,0.4173303697683407,0.4173303697683407,0.4173303697683407,0.4173303697683407,0.4173303697683407,0.4173303697683407,0.42525184395938187,0.42525184395938187,0.42525184395938187,0.42525184395938187,0.42525184395938187,0.42525184395938187,0.42525184395938187,0.42525184395938187,0.42525184395938187,0.42829677403880817,0.4309375755873765,0.4309375755873765,0.4309375755873765,0.4309375755873765,0.4309375755873765,0.4309375755873765,0.4309375755873765,0.4309375755873765,0.4309375755873765,0.4309375755873765,0.4309375755873765,0.4309375755873765,0.4309375755873765,0.4309375755873765,0.4341618156922062,0.4349198445372182,0.44209634791173313,0.44209634791173313,0.44209634791173313,0.44209634791173313,0.44209634791173313,0.44209634791173313,0.44209634791173313,0.44209634791173313,0.44209634791173313,0.44209634791173313,0.44209634791173313],\"type\":\"scatter\"},{\"marker\":{\"color\":\"#cccccc\"},\"mode\":\"markers\",\"name\":\"Infeasible Trial\",\"showlegend\":false,\"x\":[],\"y\":[],\"type\":\"scatter\"}],                        {\"title\":{\"text\":\"Optimization History Plot\"},\"xaxis\":{\"title\":{\"text\":\"Trial\"}},\"yaxis\":{\"title\":{\"text\":\"Objective Value\"}},\"template\":{\"data\":{\"histogram2dcontour\":[{\"type\":\"histogram2dcontour\",\"colorbar\":{\"outlinewidth\":0,\"ticks\":\"\"},\"colorscale\":[[0.0,\"#0d0887\"],[0.1111111111111111,\"#46039f\"],[0.2222222222222222,\"#7201a8\"],[0.3333333333333333,\"#9c179e\"],[0.4444444444444444,\"#bd3786\"],[0.5555555555555556,\"#d8576b\"],[0.6666666666666666,\"#ed7953\"],[0.7777777777777778,\"#fb9f3a\"],[0.8888888888888888,\"#fdca26\"],[1.0,\"#f0f921\"]]}],\"choropleth\":[{\"type\":\"choropleth\",\"colorbar\":{\"outlinewidth\":0,\"ticks\":\"\"}}],\"histogram2d\":[{\"type\":\"histogram2d\",\"colorbar\":{\"outlinewidth\":0,\"ticks\":\"\"},\"colorscale\":[[0.0,\"#0d0887\"],[0.1111111111111111,\"#46039f\"],[0.2222222222222222,\"#7201a8\"],[0.3333333333333333,\"#9c179e\"],[0.4444444444444444,\"#bd3786\"],[0.5555555555555556,\"#d8576b\"],[0.6666666666666666,\"#ed7953\"],[0.7777777777777778,\"#fb9f3a\"],[0.8888888888888888,\"#fdca26\"],[1.0,\"#f0f921\"]]}],\"heatmap\":[{\"type\":\"heatmap\",\"colorbar\":{\"outlinewidth\":0,\"ticks\":\"\"},\"colorscale\":[[0.0,\"#0d0887\"],[0.1111111111111111,\"#46039f\"],[0.2222222222222222,\"#7201a8\"],[0.3333333333333333,\"#9c179e\"],[0.4444444444444444,\"#bd3786\"],[0.5555555555555556,\"#d8576b\"],[0.6666666666666666,\"#ed7953\"],[0.7777777777777778,\"#fb9f3a\"],[0.8888888888888888,\"#fdca26\"],[1.0,\"#f0f921\"]]}],\"heatmapgl\":[{\"type\":\"heatmapgl\",\"colorbar\":{\"outlinewidth\":0,\"ticks\":\"\"},\"colorscale\":[[0.0,\"#0d0887\"],[0.1111111111111111,\"#46039f\"],[0.2222222222222222,\"#7201a8\"],[0.3333333333333333,\"#9c179e\"],[0.4444444444444444,\"#bd3786\"],[0.5555555555555556,\"#d8576b\"],[0.6666666666666666,\"#ed7953\"],[0.7777777777777778,\"#fb9f3a\"],[0.8888888888888888,\"#fdca26\"],[1.0,\"#f0f921\"]]}],\"contourcarpet\":[{\"type\":\"contourcarpet\",\"colorbar\":{\"outlinewidth\":0,\"ticks\":\"\"}}],\"contour\":[{\"type\":\"contour\",\"colorbar\":{\"outlinewidth\":0,\"ticks\":\"\"},\"colorscale\":[[0.0,\"#0d0887\"],[0.1111111111111111,\"#46039f\"],[0.2222222222222222,\"#7201a8\"],[0.3333333333333333,\"#9c179e\"],[0.4444444444444444,\"#bd3786\"],[0.5555555555555556,\"#d8576b\"],[0.6666666666666666,\"#ed7953\"],[0.7777777777777778,\"#fb9f3a\"],[0.8888888888888888,\"#fdca26\"],[1.0,\"#f0f921\"]]}],\"surface\":[{\"type\":\"surface\",\"colorbar\":{\"outlinewidth\":0,\"ticks\":\"\"},\"colorscale\":[[0.0,\"#0d0887\"],[0.1111111111111111,\"#46039f\"],[0.2222222222222222,\"#7201a8\"],[0.3333333333333333,\"#9c179e\"],[0.4444444444444444,\"#bd3786\"],[0.5555555555555556,\"#d8576b\"],[0.6666666666666666,\"#ed7953\"],[0.7777777777777778,\"#fb9f3a\"],[0.8888888888888888,\"#fdca26\"],[1.0,\"#f0f921\"]]}],\"mesh3d\":[{\"type\":\"mesh3d\",\"colorbar\":{\"outlinewidth\":0,\"ticks\":\"\"}}],\"scatter\":[{\"fillpattern\":{\"fillmode\":\"overlay\",\"size\":10,\"solidity\":0.2},\"type\":\"scatter\"}],\"parcoords\":[{\"type\":\"parcoords\",\"line\":{\"colorbar\":{\"outlinewidth\":0,\"ticks\":\"\"}}}],\"scatterpolargl\":[{\"type\":\"scatterpolargl\",\"marker\":{\"colorbar\":{\"outlinewidth\":0,\"ticks\":\"\"}}}],\"bar\":[{\"error_x\":{\"color\":\"#2a3f5f\"},\"error_y\":{\"color\":\"#2a3f5f\"},\"marker\":{\"line\":{\"color\":\"#E5ECF6\",\"width\":0.5},\"pattern\":{\"fillmode\":\"overlay\",\"size\":10,\"solidity\":0.2}},\"type\":\"bar\"}],\"scattergeo\":[{\"type\":\"scattergeo\",\"marker\":{\"colorbar\":{\"outlinewidth\":0,\"ticks\":\"\"}}}],\"scatterpolar\":[{\"type\":\"scatterpolar\",\"marker\":{\"colorbar\":{\"outlinewidth\":0,\"ticks\":\"\"}}}],\"histogram\":[{\"marker\":{\"pattern\":{\"fillmode\":\"overlay\",\"size\":10,\"solidity\":0.2}},\"type\":\"histogram\"}],\"scattergl\":[{\"type\":\"scattergl\",\"marker\":{\"colorbar\":{\"outlinewidth\":0,\"ticks\":\"\"}}}],\"scatter3d\":[{\"type\":\"scatter3d\",\"line\":{\"colorbar\":{\"outlinewidth\":0,\"ticks\":\"\"}},\"marker\":{\"colorbar\":{\"outlinewidth\":0,\"ticks\":\"\"}}}],\"scattermapbox\":[{\"type\":\"scattermapbox\",\"marker\":{\"colorbar\":{\"outlinewidth\":0,\"ticks\":\"\"}}}],\"scatterternary\":[{\"type\":\"scatterternary\",\"marker\":{\"colorbar\":{\"outlinewidth\":0,\"ticks\":\"\"}}}],\"scattercarpet\":[{\"type\":\"scattercarpet\",\"marker\":{\"colorbar\":{\"outlinewidth\":0,\"ticks\":\"\"}}}],\"carpet\":[{\"aaxis\":{\"endlinecolor\":\"#2a3f5f\",\"gridcolor\":\"white\",\"linecolor\":\"white\",\"minorgridcolor\":\"white\",\"startlinecolor\":\"#2a3f5f\"},\"baxis\":{\"endlinecolor\":\"#2a3f5f\",\"gridcolor\":\"white\",\"linecolor\":\"white\",\"minorgridcolor\":\"white\",\"startlinecolor\":\"#2a3f5f\"},\"type\":\"carpet\"}],\"table\":[{\"cells\":{\"fill\":{\"color\":\"#EBF0F8\"},\"line\":{\"color\":\"white\"}},\"header\":{\"fill\":{\"color\":\"#C8D4E3\"},\"line\":{\"color\":\"white\"}},\"type\":\"table\"}],\"barpolar\":[{\"marker\":{\"line\":{\"color\":\"#E5ECF6\",\"width\":0.5},\"pattern\":{\"fillmode\":\"overlay\",\"size\":10,\"solidity\":0.2}},\"type\":\"barpolar\"}],\"pie\":[{\"automargin\":true,\"type\":\"pie\"}]},\"layout\":{\"autotypenumbers\":\"strict\",\"colorway\":[\"#636efa\",\"#EF553B\",\"#00cc96\",\"#ab63fa\",\"#FFA15A\",\"#19d3f3\",\"#FF6692\",\"#B6E880\",\"#FF97FF\",\"#FECB52\"],\"font\":{\"color\":\"#2a3f5f\"},\"hovermode\":\"closest\",\"hoverlabel\":{\"align\":\"left\"},\"paper_bgcolor\":\"white\",\"plot_bgcolor\":\"#E5ECF6\",\"polar\":{\"bgcolor\":\"#E5ECF6\",\"angularaxis\":{\"gridcolor\":\"white\",\"linecolor\":\"white\",\"ticks\":\"\"},\"radialaxis\":{\"gridcolor\":\"white\",\"linecolor\":\"white\",\"ticks\":\"\"}},\"ternary\":{\"bgcolor\":\"#E5ECF6\",\"aaxis\":{\"gridcolor\":\"white\",\"linecolor\":\"white\",\"ticks\":\"\"},\"baxis\":{\"gridcolor\":\"white\",\"linecolor\":\"white\",\"ticks\":\"\"},\"caxis\":{\"gridcolor\":\"white\",\"linecolor\":\"white\",\"ticks\":\"\"}},\"coloraxis\":{\"colorbar\":{\"outlinewidth\":0,\"ticks\":\"\"}},\"colorscale\":{\"sequential\":[[0.0,\"#0d0887\"],[0.1111111111111111,\"#46039f\"],[0.2222222222222222,\"#7201a8\"],[0.3333333333333333,\"#9c179e\"],[0.4444444444444444,\"#bd3786\"],[0.5555555555555556,\"#d8576b\"],[0.6666666666666666,\"#ed7953\"],[0.7777777777777778,\"#fb9f3a\"],[0.8888888888888888,\"#fdca26\"],[1.0,\"#f0f921\"]],\"sequentialminus\":[[0.0,\"#0d0887\"],[0.1111111111111111,\"#46039f\"],[0.2222222222222222,\"#7201a8\"],[0.3333333333333333,\"#9c179e\"],[0.4444444444444444,\"#bd3786\"],[0.5555555555555556,\"#d8576b\"],[0.6666666666666666,\"#ed7953\"],[0.7777777777777778,\"#fb9f3a\"],[0.8888888888888888,\"#fdca26\"],[1.0,\"#f0f921\"]],\"diverging\":[[0,\"#8e0152\"],[0.1,\"#c51b7d\"],[0.2,\"#de77ae\"],[0.3,\"#f1b6da\"],[0.4,\"#fde0ef\"],[0.5,\"#f7f7f7\"],[0.6,\"#e6f5d0\"],[0.7,\"#b8e186\"],[0.8,\"#7fbc41\"],[0.9,\"#4d9221\"],[1,\"#276419\"]]},\"xaxis\":{\"gridcolor\":\"white\",\"linecolor\":\"white\",\"ticks\":\"\",\"title\":{\"standoff\":15},\"zerolinecolor\":\"white\",\"automargin\":true,\"zerolinewidth\":2},\"yaxis\":{\"gridcolor\":\"white\",\"linecolor\":\"white\",\"ticks\":\"\",\"title\":{\"standoff\":15},\"zerolinecolor\":\"white\",\"automargin\":true,\"zerolinewidth\":2},\"scene\":{\"xaxis\":{\"backgroundcolor\":\"#E5ECF6\",\"gridcolor\":\"white\",\"linecolor\":\"white\",\"showbackground\":true,\"ticks\":\"\",\"zerolinecolor\":\"white\",\"gridwidth\":2},\"yaxis\":{\"backgroundcolor\":\"#E5ECF6\",\"gridcolor\":\"white\",\"linecolor\":\"white\",\"showbackground\":true,\"ticks\":\"\",\"zerolinecolor\":\"white\",\"gridwidth\":2},\"zaxis\":{\"backgroundcolor\":\"#E5ECF6\",\"gridcolor\":\"white\",\"linecolor\":\"white\",\"showbackground\":true,\"ticks\":\"\",\"zerolinecolor\":\"white\",\"gridwidth\":2}},\"shapedefaults\":{\"line\":{\"color\":\"#2a3f5f\"}},\"annotationdefaults\":{\"arrowcolor\":\"#2a3f5f\",\"arrowhead\":0,\"arrowwidth\":1},\"geo\":{\"bgcolor\":\"white\",\"landcolor\":\"#E5ECF6\",\"subunitcolor\":\"white\",\"showland\":true,\"showlakes\":true,\"lakecolor\":\"white\"},\"title\":{\"x\":0.05},\"mapbox\":{\"style\":\"light\"}}}},                        {\"responsive\": true}                    ).then(function(){\n",
              "                            \n",
              "var gd = document.getElementById('9301160e-73b3-4a4e-aabf-fea0f3ffb2f6');\n",
              "var x = new MutationObserver(function (mutations, observer) {{\n",
              "        var display = window.getComputedStyle(gd).display;\n",
              "        if (!display || display === 'none') {{\n",
              "            console.log([gd, 'removed!']);\n",
              "            Plotly.purge(gd);\n",
              "            observer.disconnect();\n",
              "        }}\n",
              "}});\n",
              "\n",
              "// Listen for the removal of the full notebook cells\n",
              "var notebookContainer = gd.closest('#notebook-container');\n",
              "if (notebookContainer) {{\n",
              "    x.observe(notebookContainer, {childList: true});\n",
              "}}\n",
              "\n",
              "// Listen for the clearing of the current output cell\n",
              "var outputEl = gd.closest('.output');\n",
              "if (outputEl) {{\n",
              "    x.observe(outputEl, {childList: true});\n",
              "}}\n",
              "\n",
              "                        })                };                            </script>        </div>\n",
              "</body>\n",
              "</html>"
            ]
          },
          "metadata": {}
        }
      ]
    },
    {
      "cell_type": "code",
      "execution_count": 25,
      "id": "b5d49ac4",
      "metadata": {
        "id": "b5d49ac4",
        "colab": {
          "base_uri": "https://localhost:8080/",
          "height": 1000
        },
        "outputId": "5944157b-7d6f-4cd5-d2c6-0c2b01e8fc03"
      },
      "outputs": [
        {
          "output_type": "stream",
          "name": "stdout",
          "text": [
            "Fold number: 1, Training F1 Macro: 0.7700, Validation F1 Macro: 0.4468\n",
            "Fold number: 2, Training F1 Macro: 0.7773, Validation F1 Macro: 0.4487\n",
            "Fold number: 3, Training F1 Macro: 0.7728, Validation F1 Macro: 0.4378\n",
            "Fold number: 4, Training F1 Macro: 0.7753, Validation F1 Macro: 0.4278\n",
            "Fold number: 5, Training F1 Macro: 0.7722, Validation F1 Macro: 0.4487\n",
            "\n",
            "Classification Report:\n",
            "              precision    recall  f1-score   support\n",
            "\n",
            "     Class 0       0.58      0.64      0.61      5576\n",
            "     Class 1       0.36      0.07      0.11      1553\n",
            "     Class 2       0.72      0.84      0.77      7510\n",
            "     Class 3       0.47      0.20      0.28      1062\n",
            "\n",
            "    accuracy                           0.65     15701\n",
            "   macro avg       0.53      0.44      0.44     15701\n",
            "weighted avg       0.61      0.65      0.61     15701\n",
            "\n",
            "Confusion Matrix:\n"
          ]
        },
        {
          "output_type": "display_data",
          "data": {
            "text/plain": [
              "<Figure size 700x700 with 1 Axes>"
            ],
            "image/png": "[encoded data removed]"
          },
          "metadata": {}
        },
        {
          "output_type": "stream",
          "name": "stdout",
          "text": [
            "\n",
            "\n"
          ]
        }
      ],
      "source": [
        "params= trial.params\n",
        "\n",
        "best_model = XGBClassifier(\n",
        "    random_state=42,\n",
        "    num_class=4,\n",
        "    n_jobs=-1,\n",
        "    objective='multi:softmax',\n",
        "    eval_metric='mlogloss',\n",
        "    tree_method='gpu_hist',  # Use GPU acceleration\n",
        "    gpu_id=0,                # Specify GPU device 0\n",
        "    **params\n",
        ")\n",
        "\n",
        "pipeline = Pipeline([\n",
        "    ('classifier', best_model)\n",
        "])\n",
        "\n",
        "all_true_labels, all_predicted_labels= cross_validate_with_pipeline(pipeline,X_train_embeddings, y_train, n_splits=5)\n",
        "plot_confusion_matrix_and_report(all_true_labels, all_predicted_labels, class_labels=[0, 1, 2, 3])"
      ]
    },
    {
      "cell_type": "code",
      "source": [
        "# lets see if the base model was overfitting\n",
        "model = XGBClassifier(random_state=42,\n",
        "                           num_class=4,\n",
        "                           n_jobs=-1,\n",
        "                           objective='multi:softmax',\n",
        "                           eval_metric='mlogloss')\n",
        "\n",
        "pipeline = Pipeline([\n",
        "    ('classifier', model)\n",
        "])\n",
        "\n",
        "all_true_labels, all_predicted_labels= cross_validate_with_pipeline(pipeline,X_train_embeddings, y_train, n_splits=5)\n",
        "plot_confusion_matrix_and_report(all_true_labels, all_predicted_labels, class_labels=[0, 1, 2, 3])"
      ],
      "metadata": {
        "colab": {
          "base_uri": "https://localhost:8080/",
          "height": 1000
        },
        "id": "uCtwFSbUOj3f",
        "outputId": "39104772-50a6-46d9-983e-c9574a4a6fa8"
      },
      "id": "uCtwFSbUOj3f",
      "execution_count": null,
      "outputs": [
        {
          "output_type": "stream",
          "name": "stdout",
          "text": [
            "Fold number: 1, Training F1 Macro: 0.9997, Validation F1 Macro: 0.4134\n",
            "Fold number: 2, Training F1 Macro: 0.9999, Validation F1 Macro: 0.4279\n",
            "Fold number: 3, Training F1 Macro: 1.0000, Validation F1 Macro: 0.3915\n",
            "Fold number: 4, Training F1 Macro: 0.9998, Validation F1 Macro: 0.4155\n",
            "Fold number: 5, Training F1 Macro: 0.9998, Validation F1 Macro: 0.4385\n",
            "\n",
            "Classification Report:\n",
            "              precision    recall  f1-score   support\n",
            "\n",
            "     Class 0       0.56      0.64      0.60      5576\n",
            "     Class 1       0.34      0.05      0.09      1553\n",
            "     Class 2       0.71      0.84      0.77      7510\n",
            "     Class 3       0.51      0.14      0.22      1062\n",
            "\n",
            "    accuracy                           0.64     15701\n",
            "   macro avg       0.53      0.42      0.42     15701\n",
            "weighted avg       0.61      0.64      0.60     15701\n",
            "\n",
            "Confusion Matrix:\n"
          ]
        },
        {
          "output_type": "display_data",
          "data": {
            "text/plain": [
              "<Figure size 700x700 with 1 Axes>"
            ],
            "image/png": "[encoded data removed]"
          },
          "metadata": {}
        },
        {
          "output_type": "stream",
          "name": "stdout",
          "text": [
            "\n",
            "\n"
          ]
        }
      ]
    },
    {
      "cell_type": "markdown",
      "source": [
        "<span style=\"color:white; font-size:18px;background-color:red\"> SMOTE + HT </span>  "
      ],
      "metadata": {
        "id": "6hzcgr_s6a62"
      },
      "id": "6hzcgr_s6a62"
    },
    {
      "cell_type": "code",
      "source": [
        "import os\n",
        "path = '/content/drive/MyDrive/MS DATA SCIENCE /TESE /optimização/new'\n",
        "database_filename = 'xgboost_w2v_smote_gpu.db'\n",
        "\n",
        "# Full path to the SQLite database file in Google Drive\n",
        "database_path = os.path.join(path, database_filename)\n",
        "\n",
        "# Set the SQLite database path to Google Drive path\n",
        "storage = optuna.storages.RDBStorage(url=f'sqlite:///{database_path}')"
      ],
      "metadata": {
        "id": "IihRAGnRM8kl"
      },
      "id": "IihRAGnRM8kl",
      "execution_count": 26,
      "outputs": []
    },
    {
      "cell_type": "code",
      "source": [
        "def objective(trial):\n",
        "  # Define the hyperparameter search space\n",
        "\n",
        "  new_params= {\n",
        "    'max_depth': trial.suggest_int('max_depth', 3, 12),\n",
        "    'eta': trial.suggest_loguniform('eta', 0.001, 0.3),\n",
        "    'subsample': trial.suggest_float('subsample', 0.5, 1.0),\n",
        "    'colsample_bytree': trial.suggest_float('colsample_bytree', 0.5, 1.0),\n",
        "    'min_child_weight': trial.suggest_int('min_child_weight', 1, 15),\n",
        "    'n_estimators': trial.suggest_int('n_estimators', 50, 400),\n",
        "    'gamma': trial.suggest_float('gamma', 0, 1),\n",
        "    'alpha': trial.suggest_float('alpha', 0, 100),  # L1 regularization term on weights\n",
        "    'lambda': trial.suggest_float('lambda', 0, 100) # L2\n",
        "    }\n",
        "\n",
        "  # Create and train the XGBoost classifier with the current set of hyperparameters\n",
        "  model = XGBClassifier(\n",
        "    random_state=42,\n",
        "    num_class=4,\n",
        "    n_jobs=-1,\n",
        "    objective='multi:softmax',\n",
        "    eval_metric='mlogloss',\n",
        "    tree_method='gpu_hist',  # Use GPU acceleration\n",
        "    gpu_id=0,                # Specify GPU device 0\n",
        "    **new_params\n",
        ")\n",
        "\n",
        "  smote=SMOTE(random_state=42, sampling_strategy='not majority')\n",
        "\n",
        "  pipeline = imblearn_Pipeline([\n",
        "    ('smote', smote),\n",
        "    ('classifier', model)\n",
        "    ])\n",
        "\n",
        "  kf = StratifiedKFold(n_splits=5, shuffle=True, random_state=42)\n",
        "\n",
        "  all_true_labels = []\n",
        "  all_predicted_labels = []\n",
        "\n",
        "  for fold, (train_index, val_index) in enumerate(kf.split(X_train_embeddings, y_train), start=1):\n",
        "      X_train_fold, X_val_fold = X_train_embeddings[train_index], X_train_embeddings[val_index]\n",
        "      y_train_fold, y_val_fold = y_train.iloc[train_index], y_train.iloc[val_index]\n",
        "\n",
        "      pipeline.fit(X_train_fold, y_train_fold)\n",
        "\n",
        "      y_pred_val = pipeline.predict(X_val_fold)\n",
        "\n",
        "      all_true_labels.extend(y_val_fold)\n",
        "      all_predicted_labels.extend(y_pred_val)\n",
        "\n",
        "  mean_f1_macro = f1_score(all_true_labels, all_predicted_labels, average='macro')\n",
        "  return mean_f1_macro"
      ],
      "metadata": {
        "id": "ajbtp2OUM-Zy"
      },
      "id": "ajbtp2OUM-Zy",
      "execution_count": 27,
      "outputs": []
    },
    {
      "cell_type": "code",
      "source": [
        "# create study\n",
        "study = optuna.create_study(storage=storage, direction='maximize', study_name='xgboost_w2v_smote_gpu',load_if_exists=True)\n",
        "study.optimize(objective, n_trials=50, n_jobs=-1)"
      ],
      "metadata": {
        "id": "EPyjGCBzGtF9",
        "colab": {
          "base_uri": "https://localhost:8080/"
        },
        "outputId": "02640931-223f-4a09-86f6-80b76d2c990e"
      },
      "id": "EPyjGCBzGtF9",
      "execution_count": null,
      "outputs": [
        {
          "output_type": "stream",
          "name": "stderr",
          "text": [
            "[I 2023-09-21 22:44:56,337] A new study created in RDB with name: xgboost_w2v_smote_gpu\n",
            "[I 2023-09-21 22:46:39,430] Trial 8 finished with value: 0.384988644391704 and parameters: {'max_depth': 3, 'eta': 0.0013820080957252924, 'subsample': 0.996429595120978, 'colsample_bytree': 0.5719998307332672, 'min_child_weight': 3, 'n_estimators': 172, 'gamma': 0.08315072506090337, 'alpha': 54.73017858772664, 'lambda': 82.34572214675865}. Best is trial 8 with value: 0.384988644391704.\n",
            "[I 2023-09-21 22:47:07,302] Trial 7 finished with value: 0.47497320326989206 and parameters: {'max_depth': 11, 'eta': 0.2949008556525883, 'subsample': 0.9646763869972765, 'colsample_bytree': 0.8197713590877833, 'min_child_weight': 15, 'n_estimators': 108, 'gamma': 0.841211759424437, 'alpha': 45.331501998075055, 'lambda': 52.8747540868177}. Best is trial 7 with value: 0.47497320326989206.\n",
            "[I 2023-09-21 22:47:16,587] Trial 10 finished with value: 0.43795647454395426 and parameters: {'max_depth': 8, 'eta': 0.008183915536008116, 'subsample': 0.796306388613987, 'colsample_bytree': 0.5295812539150819, 'min_child_weight': 14, 'n_estimators': 89, 'gamma': 0.26091862466495475, 'alpha': 19.87700070238728, 'lambda': 63.07067437883113}. Best is trial 7 with value: 0.47497320326989206.\n",
            "[I 2023-09-21 22:47:54,825] Trial 0 finished with value: 0.46255197423321026 and parameters: {'max_depth': 5, 'eta': 0.031247899961578337, 'subsample': 0.6262259834255925, 'colsample_bytree': 0.718143224181272, 'min_child_weight': 15, 'n_estimators': 212, 'gamma': 0.5026033153686434, 'alpha': 28.047609130736507, 'lambda': 36.65471953682455}. Best is trial 7 with value: 0.47497320326989206.\n",
            "[I 2023-09-21 22:47:58,097] Trial 1 finished with value: 0.4188729399394697 and parameters: {'max_depth': 7, 'eta': 0.004592964952384112, 'subsample': 0.6166012302145008, 'colsample_bytree': 0.5389745012923135, 'min_child_weight': 13, 'n_estimators': 198, 'gamma': 0.8370765844323537, 'alpha': 78.2842383255711, 'lambda': 81.9972719030688}. Best is trial 7 with value: 0.47497320326989206.\n",
            "[I 2023-09-21 22:48:12,344] Trial 14 finished with value: 0.46468646884814335 and parameters: {'max_depth': 7, 'eta': 0.21144186857618907, 'subsample': 0.8552514912980518, 'colsample_bytree': 0.6669524776137497, 'min_child_weight': 15, 'n_estimators': 50, 'gamma': 0.4453084128494692, 'alpha': 72.30736385789498, 'lambda': 10.059581834175324}. Best is trial 7 with value: 0.47497320326989206.\n",
            "[I 2023-09-21 22:48:35,743] Trial 5 finished with value: 0.39134353861110754 and parameters: {'max_depth': 4, 'eta': 0.0015700870666992587, 'subsample': 0.963139625826858, 'colsample_bytree': 0.7554552549985185, 'min_child_weight': 1, 'n_estimators': 321, 'gamma': 0.4116091956321467, 'alpha': 90.6547995849911, 'lambda': 93.50749959856147}. Best is trial 7 with value: 0.47497320326989206.\n",
            "[I 2023-09-21 22:48:46,224] Trial 11 finished with value: 0.45632111118213786 and parameters: {'max_depth': 12, 'eta': 0.034754498132026065, 'subsample': 0.9189784568682262, 'colsample_bytree': 0.9955260662729717, 'min_child_weight': 5, 'n_estimators': 134, 'gamma': 0.650919103707631, 'alpha': 93.82893812911614, 'lambda': 32.85728202148847}. Best is trial 7 with value: 0.47497320326989206.\n",
            "[I 2023-09-21 22:49:02,398] Trial 2 finished with value: 0.4509082836611148 and parameters: {'max_depth': 8, 'eta': 0.014269692067251287, 'subsample': 0.5532129343130865, 'colsample_bytree': 0.6748372633367281, 'min_child_weight': 7, 'n_estimators': 199, 'gamma': 0.1861623797280879, 'alpha': 34.815310718600614, 'lambda': 19.062647396714492}. Best is trial 7 with value: 0.47497320326989206.\n",
            "[I 2023-09-21 22:49:31,779] Trial 4 finished with value: 0.4411203852503935 and parameters: {'max_depth': 7, 'eta': 0.004657953826371867, 'subsample': 0.7374816369347215, 'colsample_bytree': 0.7365223351246206, 'min_child_weight': 1, 'n_estimators': 217, 'gamma': 0.21317023453450468, 'alpha': 16.75446851077844, 'lambda': 16.8181492279878}. Best is trial 7 with value: 0.47497320326989206.\n",
            "[I 2023-09-21 22:49:40,210] Trial 19 finished with value: 0.41503025478119 and parameters: {'max_depth': 4, 'eta': 0.03439355518164995, 'subsample': 0.6130067064193339, 'colsample_bytree': 0.9413034410576147, 'min_child_weight': 13, 'n_estimators': 73, 'gamma': 0.19491875310942075, 'alpha': 81.5592174128021, 'lambda': 11.489659607866221}. Best is trial 7 with value: 0.47497320326989206.\n",
            "[I 2023-09-21 22:50:01,732] Trial 9 finished with value: 0.4765903970498621 and parameters: {'max_depth': 5, 'eta': 0.03396385222637934, 'subsample': 0.6286752236660222, 'colsample_bytree': 0.737182509211237, 'min_child_weight': 13, 'n_estimators': 374, 'gamma': 0.9704414562515756, 'alpha': 4.228577357689211, 'lambda': 50.82832345967475}. Best is trial 9 with value: 0.4765903970498621.\n",
            "[I 2023-09-21 22:51:08,392] Trial 15 finished with value: 0.4092960628716905 and parameters: {'max_depth': 6, 'eta': 0.0012434793964627646, 'subsample': 0.7802687529731642, 'colsample_bytree': 0.9385479824017515, 'min_child_weight': 11, 'n_estimators': 192, 'gamma': 0.44896976436747915, 'alpha': 15.668082585662567, 'lambda': 58.427903423278195}. Best is trial 9 with value: 0.4765903970498621.\n",
            "[I 2023-09-21 22:51:10,550] Trial 22 finished with value: 0.4732750085808948 and parameters: {'max_depth': 11, 'eta': 0.29691900253120873, 'subsample': 0.876066470494707, 'colsample_bytree': 0.8259253223739818, 'min_child_weight': 10, 'n_estimators': 62, 'gamma': 0.9723308391623552, 'alpha': 57.07034124547196, 'lambda': 0.8105317531144944}. Best is trial 9 with value: 0.4765903970498621.\n",
            "[I 2023-09-21 22:51:17,088] Trial 18 finished with value: 0.404980808403725 and parameters: {'max_depth': 4, 'eta': 0.00793909575863452, 'subsample': 0.5104443578777202, 'colsample_bytree': 0.8503347688922777, 'min_child_weight': 3, 'n_estimators': 240, 'gamma': 0.24867248619039006, 'alpha': 76.15825085716489, 'lambda': 63.89723352820741}. Best is trial 9 with value: 0.4765903970498621.\n",
            "[I 2023-09-21 22:51:25,878] Trial 12 finished with value: 0.4633274169652161 and parameters: {'max_depth': 11, 'eta': 0.025428710264803433, 'subsample': 0.8460535235459553, 'colsample_bytree': 0.8594622430588477, 'min_child_weight': 10, 'n_estimators': 176, 'gamma': 0.5876906576895322, 'alpha': 52.17018477863654, 'lambda': 22.844940416442405}. Best is trial 9 with value: 0.4765903970498621.\n",
            "[I 2023-09-21 22:51:35,269] Trial 6 finished with value: 0.46921851118840957 and parameters: {'max_depth': 12, 'eta': 0.033973132028078334, 'subsample': 0.963610536357511, 'colsample_bytree': 0.9589395301583095, 'min_child_weight': 2, 'n_estimators': 236, 'gamma': 0.11187974488623698, 'alpha': 95.18935806138713, 'lambda': 92.02860032016457}. Best is trial 9 with value: 0.4765903970498621.\n",
            "[I 2023-09-21 22:52:28,995] Trial 13 finished with value: 0.4150333924365366 and parameters: {'max_depth': 6, 'eta': 0.0031905097620377972, 'subsample': 0.9566155573169371, 'colsample_bytree': 0.6513732195228641, 'min_child_weight': 14, 'n_estimators': 345, 'gamma': 0.30809161777667227, 'alpha': 94.24653478083238, 'lambda': 35.87270935325611}. Best is trial 9 with value: 0.4765903970498621.\n",
            "[I 2023-09-21 22:53:01,454] Trial 21 finished with value: 0.46902471822915903 and parameters: {'max_depth': 12, 'eta': 0.29862998685195186, 'subsample': 0.878384083929669, 'colsample_bytree': 0.873066921125473, 'min_child_weight': 11, 'n_estimators': 303, 'gamma': 0.8717422301245141, 'alpha': 46.327415865353295, 'lambda': 55.158311482954254}. Best is trial 9 with value: 0.4765903970498621.\n",
            "[I 2023-09-21 22:53:02,096] Trial 17 finished with value: 0.4728936077365487 and parameters: {'max_depth': 11, 'eta': 0.11148661680858951, 'subsample': 0.9189816329814684, 'colsample_bytree': 0.6467548969255247, 'min_child_weight': 14, 'n_estimators': 258, 'gamma': 0.4880790596239263, 'alpha': 94.84022685096642, 'lambda': 71.67697753717196}. Best is trial 9 with value: 0.4765903970498621.\n",
            "[I 2023-09-21 22:53:36,282] Trial 3 finished with value: 0.4766264385943885 and parameters: {'max_depth': 11, 'eta': 0.04321970444320961, 'subsample': 0.9214516560715382, 'colsample_bytree': 0.7761293128935957, 'min_child_weight': 8, 'n_estimators': 328, 'gamma': 0.7225308359440709, 'alpha': 51.16202986643306, 'lambda': 98.08690485668014}. Best is trial 3 with value: 0.4766264385943885.\n",
            "[I 2023-09-21 22:54:25,836] Trial 20 finished with value: 0.4403612661141815 and parameters: {'max_depth': 11, 'eta': 0.0021616963230134596, 'subsample': 0.5498265748385907, 'colsample_bytree': 0.8136314735815476, 'min_child_weight': 5, 'n_estimators': 151, 'gamma': 0.9344616932954752, 'alpha': 4.379811462035965, 'lambda': 83.63466732375335}. Best is trial 3 with value: 0.4766264385943885.\n",
            "[I 2023-09-21 22:55:44,233] Trial 24 finished with value: 0.46236619524488165 and parameters: {'max_depth': 11, 'eta': 0.2851238181150406, 'subsample': 0.8982617446005478, 'colsample_bytree': 0.8105895850530379, 'min_child_weight': 10, 'n_estimators': 365, 'gamma': 0.9961483171846472, 'alpha': 1.7627598967489355, 'lambda': 49.94492206541585}. Best is trial 3 with value: 0.4766264385943885.\n",
            "[I 2023-09-21 22:56:09,236] Trial 16 finished with value: 0.44850488975972524 and parameters: {'max_depth': 9, 'eta': 0.0038359395210028273, 'subsample': 0.6522311876698919, 'colsample_bytree': 0.5892823479914656, 'min_child_weight': 11, 'n_estimators': 263, 'gamma': 0.20629912568416864, 'alpha': 10.072485254481789, 'lambda': 32.8411645580845}. Best is trial 3 with value: 0.4766264385943885.\n",
            "[I 2023-09-21 22:56:37,147] Trial 23 finished with value: 0.47186767230394994 and parameters: {'max_depth': 12, 'eta': 0.1785689740826669, 'subsample': 0.7205110460966676, 'colsample_bytree': 0.8320945211629974, 'min_child_weight': 10, 'n_estimators': 374, 'gamma': 0.9929520066820215, 'alpha': 8.824113735046957, 'lambda': 56.12923202141748}. Best is trial 3 with value: 0.4766264385943885.\n",
            "[I 2023-09-21 22:59:08,079] Trial 25 finished with value: 0.4724185240746985 and parameters: {'max_depth': 10, 'eta': 0.11655431665730222, 'subsample': 0.7120126763824173, 'colsample_bytree': 0.8171923960722963, 'min_child_weight': 11, 'n_estimators': 394, 'gamma': 0.9369770352210163, 'alpha': 10.067695796546474, 'lambda': 43.45855537397088}. Best is trial 3 with value: 0.4766264385943885.\n",
            "[I 2023-09-21 22:59:26,369] Trial 28 finished with value: 0.4682634519842557 and parameters: {'max_depth': 9, 'eta': 0.10901846025656677, 'subsample': 0.7099854040642557, 'colsample_bytree': 0.7867278144538257, 'min_child_weight': 12, 'n_estimators': 366, 'gamma': 0.996997795950268, 'alpha': 1.3049725140384352, 'lambda': 50.67446790234734}. Best is trial 3 with value: 0.4766264385943885.\n",
            "[I 2023-09-21 22:59:34,646] Trial 27 finished with value: 0.47144622431747557 and parameters: {'max_depth': 9, 'eta': 0.10798044295038421, 'subsample': 0.7001569432505251, 'colsample_bytree': 0.8035011117915172, 'min_child_weight': 12, 'n_estimators': 396, 'gamma': 0.9987403372314122, 'alpha': 1.036389187956921, 'lambda': 47.02700014730366}. Best is trial 3 with value: 0.4766264385943885.\n",
            "[I 2023-09-21 22:59:51,870] Trial 26 finished with value: 0.47510373719507526 and parameters: {'max_depth': 10, 'eta': 0.10407614304936423, 'subsample': 0.7070062046826612, 'colsample_bytree': 0.7847361619260457, 'min_child_weight': 11, 'n_estimators': 398, 'gamma': 0.9998161342555751, 'alpha': 6.232069663195041, 'lambda': 46.30494009217638}. Best is trial 3 with value: 0.4766264385943885.\n",
            "[I 2023-09-21 23:01:10,857] Trial 29 finished with value: 0.4721613300189942 and parameters: {'max_depth': 9, 'eta': 0.09326077732445417, 'subsample': 0.7007036557857806, 'colsample_bytree': 0.8159924043755145, 'min_child_weight': 12, 'n_estimators': 394, 'gamma': 0.954139385430963, 'alpha': 5.164440353238987, 'lambda': 48.50296515183518}. Best is trial 3 with value: 0.4766264385943885.\n",
            "[I 2023-09-21 23:01:14,373] Trial 33 finished with value: 0.4868784747393268 and parameters: {'max_depth': 9, 'eta': 0.09594313008862486, 'subsample': 0.706328486235277, 'colsample_bytree': 0.7882489349621931, 'min_child_weight': 8, 'n_estimators': 371, 'gamma': 0.7499975720323158, 'alpha': 41.40555535653485, 'lambda': 49.014154801585484}. Best is trial 33 with value: 0.4868784747393268.\n",
            "[I 2023-09-21 23:01:14,847] Trial 30 finished with value: 0.47325241397208995 and parameters: {'max_depth': 9, 'eta': 0.10137876701773782, 'subsample': 0.7238560999284981, 'colsample_bytree': 0.7691063763911011, 'min_child_weight': 8, 'n_estimators': 397, 'gamma': 0.9998066217673459, 'alpha': 5.1646296350013445, 'lambda': 47.973925988933324}. Best is trial 33 with value: 0.4868784747393268.\n",
            "[I 2023-09-21 23:02:29,725] Trial 31 finished with value: 0.47726270973629764 and parameters: {'max_depth': 9, 'eta': 0.07715540134031379, 'subsample': 0.7003561064940631, 'colsample_bytree': 0.7944348975822579, 'min_child_weight': 8, 'n_estimators': 397, 'gamma': 0.9973301555270397, 'alpha': 1.2107066602688477, 'lambda': 46.65643940043694}. Best is trial 33 with value: 0.4868784747393268.\n",
            "[I 2023-09-21 23:02:40,240] Trial 34 finished with value: 0.4812753783099664 and parameters: {'max_depth': 9, 'eta': 0.07170841374124447, 'subsample': 0.9997428592592654, 'colsample_bytree': 0.770055293063219, 'min_child_weight': 8, 'n_estimators': 388, 'gamma': 0.780853359314539, 'alpha': 39.93218403958584, 'lambda': 49.97143389674284}. Best is trial 33 with value: 0.4868784747393268.\n",
            "[I 2023-09-21 23:03:05,388] Trial 32 finished with value: 0.4785259345205252 and parameters: {'max_depth': 9, 'eta': 0.0806043902924479, 'subsample': 0.7305861533972842, 'colsample_bytree': 0.7965629721053153, 'min_child_weight': 7, 'n_estimators': 399, 'gamma': 0.786318319532976, 'alpha': 4.826712701206432, 'lambda': 42.03232355765024}. Best is trial 33 with value: 0.4868784747393268.\n",
            "[I 2023-09-21 23:03:23,575] Trial 35 finished with value: 0.48216343774431053 and parameters: {'max_depth': 9, 'eta': 0.06804911012002146, 'subsample': 0.9989533681067806, 'colsample_bytree': 0.7794370737680807, 'min_child_weight': 8, 'n_estimators': 395, 'gamma': 0.7842863178786285, 'alpha': 39.91705537256697, 'lambda': 48.784881147741544}. Best is trial 33 with value: 0.4868784747393268.\n",
            "[I 2023-09-21 23:03:52,747] Trial 36 finished with value: 0.4830281885487723 and parameters: {'max_depth': 9, 'eta': 0.06967406952882756, 'subsample': 0.9959496740273874, 'colsample_bytree': 0.7760919502851427, 'min_child_weight': 8, 'n_estimators': 391, 'gamma': 0.7519673628272022, 'alpha': 35.91935115901589, 'lambda': 46.87831989108151}. Best is trial 33 with value: 0.4868784747393268.\n",
            "[I 2023-09-21 23:05:22,282] Trial 37 finished with value: 0.4813149194522697 and parameters: {'max_depth': 9, 'eta': 0.06651489069965455, 'subsample': 0.8219846994493526, 'colsample_bytree': 0.7766148406420152, 'min_child_weight': 8, 'n_estimators': 295, 'gamma': 0.774752161336055, 'alpha': 43.08148550880621, 'lambda': 97.82381146347856}. Best is trial 33 with value: 0.4868784747393268.\n",
            "[I 2023-09-21 23:06:26,209] Trial 38 finished with value: 0.47914143070381293 and parameters: {'max_depth': 10, 'eta': 0.058973027884046306, 'subsample': 0.8254929302710989, 'colsample_bytree': 0.7791944714418186, 'min_child_weight': 8, 'n_estimators': 300, 'gamma': 0.7778010090360267, 'alpha': 39.18128286928546, 'lambda': 99.87466310453209}. Best is trial 33 with value: 0.4868784747393268.\n",
            "[I 2023-09-21 23:06:27,495] Trial 39 finished with value: 0.4806456804794757 and parameters: {'max_depth': 10, 'eta': 0.065084730975611, 'subsample': 0.9989804338019318, 'colsample_bytree': 0.7793490674232394, 'min_child_weight': 8, 'n_estimators': 298, 'gamma': 0.7793813564295818, 'alpha': 40.8367996184892, 'lambda': 71.85191268639437}. Best is trial 33 with value: 0.4868784747393268.\n",
            "[I 2023-09-21 23:06:47,854] Trial 40 finished with value: 0.4826671201482454 and parameters: {'max_depth': 10, 'eta': 0.06304746919444414, 'subsample': 0.655188333667059, 'colsample_bytree': 0.7555944824031047, 'min_child_weight': 7, 'n_estimators': 301, 'gamma': 0.7597081249946681, 'alpha': 28.433510014941973, 'lambda': 97.5941830245759}. Best is trial 33 with value: 0.4868784747393268.\n",
            "[I 2023-09-21 23:08:12,653] Trial 43 finished with value: 0.4791019363168758 and parameters: {'max_depth': 10, 'eta': 0.058775776938017735, 'subsample': 0.6640275392761722, 'colsample_bytree': 0.7210050341360835, 'min_child_weight': 8, 'n_estimators': 322, 'gamma': 0.7731533650032519, 'alpha': 25.445643620889886, 'lambda': 42.343466436859146}. Best is trial 33 with value: 0.4868784747393268.\n",
            "[I 2023-09-21 23:08:14,034] Trial 41 finished with value: 0.47643027180962894 and parameters: {'max_depth': 10, 'eta': 0.06088316570988207, 'subsample': 0.7780263407136442, 'colsample_bytree': 0.7090116539335656, 'min_child_weight': 8, 'n_estimators': 321, 'gamma': 0.7604530911911116, 'alpha': 25.731245933598355, 'lambda': 41.824734608866194}. Best is trial 33 with value: 0.4868784747393268.\n",
            "[I 2023-09-21 23:08:16,025] Trial 46 finished with value: 0.4841385011828778 and parameters: {'max_depth': 8, 'eta': 0.05798837606999516, 'subsample': 0.7631012964074566, 'colsample_bytree': 0.7108518976134135, 'min_child_weight': 6, 'n_estimators': 295, 'gamma': 0.8013840942715665, 'alpha': 28.979131704091934, 'lambda': 41.91007938263801}. Best is trial 33 with value: 0.4868784747393268.\n",
            "[I 2023-09-21 23:08:16,811] Trial 42 finished with value: 0.48160372347750335 and parameters: {'max_depth': 10, 'eta': 0.05865233078537416, 'subsample': 0.6643414395004773, 'colsample_bytree': 0.7557551859568848, 'min_child_weight': 8, 'n_estimators': 329, 'gamma': 0.7499433412750321, 'alpha': 27.277497357151884, 'lambda': 98.74605615438377}. Best is trial 33 with value: 0.4868784747393268.\n",
            "[I 2023-09-21 23:08:21,383] Trial 47 finished with value: 0.48170694147351123 and parameters: {'max_depth': 8, 'eta': 0.059397513538109036, 'subsample': 0.7613311462695408, 'colsample_bytree': 0.7186278545997783, 'min_child_weight': 6, 'n_estimators': 293, 'gamma': 0.7644325268457087, 'alpha': 31.72798750565025, 'lambda': 40.332830122956956}. Best is trial 33 with value: 0.4868784747393268.\n",
            "[I 2023-09-21 23:08:33,797] Trial 48 finished with value: 0.4780436602757706 and parameters: {'max_depth': 8, 'eta': 0.058209254268743967, 'subsample': 0.9972113272111525, 'colsample_bytree': 0.7211027815184577, 'min_child_weight': 7, 'n_estimators': 294, 'gamma': 0.7507597030905743, 'alpha': 34.91304705536194, 'lambda': 41.52325612115327}. Best is trial 33 with value: 0.4868784747393268.\n",
            "[I 2023-09-21 23:08:37,158] Trial 45 finished with value: 0.4817273047207901 and parameters: {'max_depth': 10, 'eta': 0.05403069672131884, 'subsample': 0.7808341407707332, 'colsample_bytree': 0.7142517952245182, 'min_child_weight': 8, 'n_estimators': 317, 'gamma': 0.7464644148772823, 'alpha': 34.54693167572755, 'lambda': 40.416157568340395}. Best is trial 33 with value: 0.4868784747393268.\n",
            "[I 2023-09-21 23:08:37,347] Trial 44 finished with value: 0.4804655784172077 and parameters: {'max_depth': 10, 'eta': 0.059790927859703025, 'subsample': 0.6657810138185927, 'colsample_bytree': 0.7144594641100845, 'min_child_weight': 7, 'n_estimators': 327, 'gamma': 0.7567231400364823, 'alpha': 27.60353513702929, 'lambda': 71.04819716601044}. Best is trial 33 with value: 0.4868784747393268.\n",
            "[I 2023-09-21 23:08:43,841] Trial 49 finished with value: 0.4821866533408632 and parameters: {'max_depth': 8, 'eta': 0.05465865453520839, 'subsample': 0.8029209454821173, 'colsample_bytree': 0.7033125755230488, 'min_child_weight': 6, 'n_estimators': 293, 'gamma': 0.70005429772225, 'alpha': 28.34598156521072, 'lambda': 39.785450467353115}. Best is trial 33 with value: 0.4868784747393268.\n"
          ]
        }
      ]
    },
    {
      "cell_type": "code",
      "source": [
        "study = optuna.load_study(study_name='xgboost_w2v_smote_gpu', storage=storage)\n",
        "trial = study.best_trial\n",
        "print('F1 score: {}'.format(trial.value))\n",
        "print(\"Best hyperparameters: {}\".format(trial.params))\n",
        "# Plot the optimization history\n",
        "import optuna.visualization as vis\n",
        "vis.plot_optimization_history(study)"
      ],
      "metadata": {
        "colab": {
          "base_uri": "https://localhost:8080/",
          "height": 597
        },
        "outputId": "3ba7ee4a-68c4-49f8-8e1c-30f595db8f4b",
        "id": "rR_1gbQqPS_m"
      },
      "execution_count": 29,
      "outputs": [
        {
          "metadata": {
            "tags": null
          },
          "name": "stdout",
          "output_type": "stream",
          "text": [
            "F1 score: 0.4868784747393268\n",
            "Best hyperparameters: {'max_depth': 9, 'eta': 0.09594313008862486, 'subsample': 0.706328486235277, 'colsample_bytree': 0.7882489349621931, 'min_child_weight': 8, 'n_estimators': 371, 'gamma': 0.7499975720323158, 'alpha': 41.40555535653485, 'lambda': 49.014154801585484}\n"
          ]
        },
        {
          "data": {
            "text/html": [
              "<html>\n",
              "<head><meta charset=\"utf-8\" /></head>\n",
              "<body>\n",
              "    <div>            <script src=\"https://cdnjs.cloudflare.com/ajax/libs/mathjax/2.7.5/MathJax.js?config=TeX-AMS-MML_SVG\"></script><script type=\"text/javascript\">if (window.MathJax && window.MathJax.Hub && window.MathJax.Hub.Config) {window.MathJax.Hub.Config({SVG: {font: \"STIX-Web\"}});}</script>                <script type=\"text/javascript\">window.PlotlyConfig = {MathJaxConfig: 'local'};</script>\n",
              "        <script charset=\"utf-8\" src=\"https://cdn.plot.ly/plotly-2.24.1.min.js\"></script>                <div id=\"580e20aa-51f4-46cc-9ca6-730708c60fd7\" class=\"plotly-graph-div\" style=\"height:525px; width:100%;\"></div>            <script type=\"text/javascript\">                                    window.PLOTLYENV=window.PLOTLYENV || {};                                    if (document.getElementById(\"580e20aa-51f4-46cc-9ca6-730708c60fd7\")) {                    Plotly.newPlot(                        \"580e20aa-51f4-46cc-9ca6-730708c60fd7\",                        [{\"mode\":\"markers\",\"name\":\"Objective Value\",\"x\":[0,1,2,3,4,5,6,7,8,9,10,11,12,13,14,15,16,17,18,19,20,21,22,23,24,25,26,27,28,29,30,31,32,33,34,35,36,37,38,39,40,41,42,43,44,45,46,47,48,49],\"y\":[0.46255197423321026,0.4188729399394697,0.4509082836611148,0.4766264385943885,0.4411203852503935,0.39134353861110754,0.46921851118840957,0.47497320326989206,0.384988644391704,0.4765903970498621,0.43795647454395426,0.45632111118213786,0.4633274169652161,0.4150333924365366,0.46468646884814335,0.4092960628716905,0.44850488975972524,0.4728936077365487,0.404980808403725,0.41503025478119,0.4403612661141815,0.46902471822915903,0.4732750085808948,0.47186767230394994,0.46236619524488165,0.4724185240746985,0.47510373719507526,0.47144622431747557,0.4682634519842557,0.4721613300189942,0.47325241397208995,0.47726270973629764,0.4785259345205252,0.4868784747393268,0.4812753783099664,0.48216343774431053,0.4830281885487723,0.4813149194522697,0.47914143070381293,0.4806456804794757,0.4826671201482454,0.47643027180962894,0.48160372347750335,0.4791019363168758,0.4804655784172077,0.4817273047207901,0.4841385011828778,0.48170694147351123,0.4780436602757706,0.4821866533408632],\"type\":\"scatter\"},{\"mode\":\"lines\",\"name\":\"Best Value\",\"x\":[0,1,2,3,4,5,6,7,8,9,10,11,12,13,14,15,16,17,18,19,20,21,22,23,24,25,26,27,28,29,30,31,32,33,34,35,36,37,38,39,40,41,42,43,44,45,46,47,48,49],\"y\":[0.46255197423321026,0.46255197423321026,0.46255197423321026,0.4766264385943885,0.4766264385943885,0.4766264385943885,0.4766264385943885,0.4766264385943885,0.4766264385943885,0.4766264385943885,0.4766264385943885,0.4766264385943885,0.4766264385943885,0.4766264385943885,0.4766264385943885,0.4766264385943885,0.4766264385943885,0.4766264385943885,0.4766264385943885,0.4766264385943885,0.4766264385943885,0.4766264385943885,0.4766264385943885,0.4766264385943885,0.4766264385943885,0.4766264385943885,0.4766264385943885,0.4766264385943885,0.4766264385943885,0.4766264385943885,0.4766264385943885,0.47726270973629764,0.4785259345205252,0.4868784747393268,0.4868784747393268,0.4868784747393268,0.4868784747393268,0.4868784747393268,0.4868784747393268,0.4868784747393268,0.4868784747393268,0.4868784747393268,0.4868784747393268,0.4868784747393268,0.4868784747393268,0.4868784747393268,0.4868784747393268,0.4868784747393268,0.4868784747393268,0.4868784747393268],\"type\":\"scatter\"},{\"marker\":{\"color\":\"#cccccc\"},\"mode\":\"markers\",\"name\":\"Infeasible Trial\",\"showlegend\":false,\"x\":[],\"y\":[],\"type\":\"scatter\"}],                        {\"title\":{\"text\":\"Optimization History Plot\"},\"xaxis\":{\"title\":{\"text\":\"Trial\"}},\"yaxis\":{\"title\":{\"text\":\"Objective Value\"}},\"template\":{\"data\":{\"histogram2dcontour\":[{\"type\":\"histogram2dcontour\",\"colorbar\":{\"outlinewidth\":0,\"ticks\":\"\"},\"colorscale\":[[0.0,\"#0d0887\"],[0.1111111111111111,\"#46039f\"],[0.2222222222222222,\"#7201a8\"],[0.3333333333333333,\"#9c179e\"],[0.4444444444444444,\"#bd3786\"],[0.5555555555555556,\"#d8576b\"],[0.6666666666666666,\"#ed7953\"],[0.7777777777777778,\"#fb9f3a\"],[0.8888888888888888,\"#fdca26\"],[1.0,\"#f0f921\"]]}],\"choropleth\":[{\"type\":\"choropleth\",\"colorbar\":{\"outlinewidth\":0,\"ticks\":\"\"}}],\"histogram2d\":[{\"type\":\"histogram2d\",\"colorbar\":{\"outlinewidth\":0,\"ticks\":\"\"},\"colorscale\":[[0.0,\"#0d0887\"],[0.1111111111111111,\"#46039f\"],[0.2222222222222222,\"#7201a8\"],[0.3333333333333333,\"#9c179e\"],[0.4444444444444444,\"#bd3786\"],[0.5555555555555556,\"#d8576b\"],[0.6666666666666666,\"#ed7953\"],[0.7777777777777778,\"#fb9f3a\"],[0.8888888888888888,\"#fdca26\"],[1.0,\"#f0f921\"]]}],\"heatmap\":[{\"type\":\"heatmap\",\"colorbar\":{\"outlinewidth\":0,\"ticks\":\"\"},\"colorscale\":[[0.0,\"#0d0887\"],[0.1111111111111111,\"#46039f\"],[0.2222222222222222,\"#7201a8\"],[0.3333333333333333,\"#9c179e\"],[0.4444444444444444,\"#bd3786\"],[0.5555555555555556,\"#d8576b\"],[0.6666666666666666,\"#ed7953\"],[0.7777777777777778,\"#fb9f3a\"],[0.8888888888888888,\"#fdca26\"],[1.0,\"#f0f921\"]]}],\"heatmapgl\":[{\"type\":\"heatmapgl\",\"colorbar\":{\"outlinewidth\":0,\"ticks\":\"\"},\"colorscale\":[[0.0,\"#0d0887\"],[0.1111111111111111,\"#46039f\"],[0.2222222222222222,\"#7201a8\"],[0.3333333333333333,\"#9c179e\"],[0.4444444444444444,\"#bd3786\"],[0.5555555555555556,\"#d8576b\"],[0.6666666666666666,\"#ed7953\"],[0.7777777777777778,\"#fb9f3a\"],[0.8888888888888888,\"#fdca26\"],[1.0,\"#f0f921\"]]}],\"contourcarpet\":[{\"type\":\"contourcarpet\",\"colorbar\":{\"outlinewidth\":0,\"ticks\":\"\"}}],\"contour\":[{\"type\":\"contour\",\"colorbar\":{\"outlinewidth\":0,\"ticks\":\"\"},\"colorscale\":[[0.0,\"#0d0887\"],[0.1111111111111111,\"#46039f\"],[0.2222222222222222,\"#7201a8\"],[0.3333333333333333,\"#9c179e\"],[0.4444444444444444,\"#bd3786\"],[0.5555555555555556,\"#d8576b\"],[0.6666666666666666,\"#ed7953\"],[0.7777777777777778,\"#fb9f3a\"],[0.8888888888888888,\"#fdca26\"],[1.0,\"#f0f921\"]]}],\"surface\":[{\"type\":\"surface\",\"colorbar\":{\"outlinewidth\":0,\"ticks\":\"\"},\"colorscale\":[[0.0,\"#0d0887\"],[0.1111111111111111,\"#46039f\"],[0.2222222222222222,\"#7201a8\"],[0.3333333333333333,\"#9c179e\"],[0.4444444444444444,\"#bd3786\"],[0.5555555555555556,\"#d8576b\"],[0.6666666666666666,\"#ed7953\"],[0.7777777777777778,\"#fb9f3a\"],[0.8888888888888888,\"#fdca26\"],[1.0,\"#f0f921\"]]}],\"mesh3d\":[{\"type\":\"mesh3d\",\"colorbar\":{\"outlinewidth\":0,\"ticks\":\"\"}}],\"scatter\":[{\"fillpattern\":{\"fillmode\":\"overlay\",\"size\":10,\"solidity\":0.2},\"type\":\"scatter\"}],\"parcoords\":[{\"type\":\"parcoords\",\"line\":{\"colorbar\":{\"outlinewidth\":0,\"ticks\":\"\"}}}],\"scatterpolargl\":[{\"type\":\"scatterpolargl\",\"marker\":{\"colorbar\":{\"outlinewidth\":0,\"ticks\":\"\"}}}],\"bar\":[{\"error_x\":{\"color\":\"#2a3f5f\"},\"error_y\":{\"color\":\"#2a3f5f\"},\"marker\":{\"line\":{\"color\":\"#E5ECF6\",\"width\":0.5},\"pattern\":{\"fillmode\":\"overlay\",\"size\":10,\"solidity\":0.2}},\"type\":\"bar\"}],\"scattergeo\":[{\"type\":\"scattergeo\",\"marker\":{\"colorbar\":{\"outlinewidth\":0,\"ticks\":\"\"}}}],\"scatterpolar\":[{\"type\":\"scatterpolar\",\"marker\":{\"colorbar\":{\"outlinewidth\":0,\"ticks\":\"\"}}}],\"histogram\":[{\"marker\":{\"pattern\":{\"fillmode\":\"overlay\",\"size\":10,\"solidity\":0.2}},\"type\":\"histogram\"}],\"scattergl\":[{\"type\":\"scattergl\",\"marker\":{\"colorbar\":{\"outlinewidth\":0,\"ticks\":\"\"}}}],\"scatter3d\":[{\"type\":\"scatter3d\",\"line\":{\"colorbar\":{\"outlinewidth\":0,\"ticks\":\"\"}},\"marker\":{\"colorbar\":{\"outlinewidth\":0,\"ticks\":\"\"}}}],\"scattermapbox\":[{\"type\":\"scattermapbox\",\"marker\":{\"colorbar\":{\"outlinewidth\":0,\"ticks\":\"\"}}}],\"scatterternary\":[{\"type\":\"scatterternary\",\"marker\":{\"colorbar\":{\"outlinewidth\":0,\"ticks\":\"\"}}}],\"scattercarpet\":[{\"type\":\"scattercarpet\",\"marker\":{\"colorbar\":{\"outlinewidth\":0,\"ticks\":\"\"}}}],\"carpet\":[{\"aaxis\":{\"endlinecolor\":\"#2a3f5f\",\"gridcolor\":\"white\",\"linecolor\":\"white\",\"minorgridcolor\":\"white\",\"startlinecolor\":\"#2a3f5f\"},\"baxis\":{\"endlinecolor\":\"#2a3f5f\",\"gridcolor\":\"white\",\"linecolor\":\"white\",\"minorgridcolor\":\"white\",\"startlinecolor\":\"#2a3f5f\"},\"type\":\"carpet\"}],\"table\":[{\"cells\":{\"fill\":{\"color\":\"#EBF0F8\"},\"line\":{\"color\":\"white\"}},\"header\":{\"fill\":{\"color\":\"#C8D4E3\"},\"line\":{\"color\":\"white\"}},\"type\":\"table\"}],\"barpolar\":[{\"marker\":{\"line\":{\"color\":\"#E5ECF6\",\"width\":0.5},\"pattern\":{\"fillmode\":\"overlay\",\"size\":10,\"solidity\":0.2}},\"type\":\"barpolar\"}],\"pie\":[{\"automargin\":true,\"type\":\"pie\"}]},\"layout\":{\"autotypenumbers\":\"strict\",\"colorway\":[\"#636efa\",\"#EF553B\",\"#00cc96\",\"#ab63fa\",\"#FFA15A\",\"#19d3f3\",\"#FF6692\",\"#B6E880\",\"#FF97FF\",\"#FECB52\"],\"font\":{\"color\":\"#2a3f5f\"},\"hovermode\":\"closest\",\"hoverlabel\":{\"align\":\"left\"},\"paper_bgcolor\":\"white\",\"plot_bgcolor\":\"#E5ECF6\",\"polar\":{\"bgcolor\":\"#E5ECF6\",\"angularaxis\":{\"gridcolor\":\"white\",\"linecolor\":\"white\",\"ticks\":\"\"},\"radialaxis\":{\"gridcolor\":\"white\",\"linecolor\":\"white\",\"ticks\":\"\"}},\"ternary\":{\"bgcolor\":\"#E5ECF6\",\"aaxis\":{\"gridcolor\":\"white\",\"linecolor\":\"white\",\"ticks\":\"\"},\"baxis\":{\"gridcolor\":\"white\",\"linecolor\":\"white\",\"ticks\":\"\"},\"caxis\":{\"gridcolor\":\"white\",\"linecolor\":\"white\",\"ticks\":\"\"}},\"coloraxis\":{\"colorbar\":{\"outlinewidth\":0,\"ticks\":\"\"}},\"colorscale\":{\"sequential\":[[0.0,\"#0d0887\"],[0.1111111111111111,\"#46039f\"],[0.2222222222222222,\"#7201a8\"],[0.3333333333333333,\"#9c179e\"],[0.4444444444444444,\"#bd3786\"],[0.5555555555555556,\"#d8576b\"],[0.6666666666666666,\"#ed7953\"],[0.7777777777777778,\"#fb9f3a\"],[0.8888888888888888,\"#fdca26\"],[1.0,\"#f0f921\"]],\"sequentialminus\":[[0.0,\"#0d0887\"],[0.1111111111111111,\"#46039f\"],[0.2222222222222222,\"#7201a8\"],[0.3333333333333333,\"#9c179e\"],[0.4444444444444444,\"#bd3786\"],[0.5555555555555556,\"#d8576b\"],[0.6666666666666666,\"#ed7953\"],[0.7777777777777778,\"#fb9f3a\"],[0.8888888888888888,\"#fdca26\"],[1.0,\"#f0f921\"]],\"diverging\":[[0,\"#8e0152\"],[0.1,\"#c51b7d\"],[0.2,\"#de77ae\"],[0.3,\"#f1b6da\"],[0.4,\"#fde0ef\"],[0.5,\"#f7f7f7\"],[0.6,\"#e6f5d0\"],[0.7,\"#b8e186\"],[0.8,\"#7fbc41\"],[0.9,\"#4d9221\"],[1,\"#276419\"]]},\"xaxis\":{\"gridcolor\":\"white\",\"linecolor\":\"white\",\"ticks\":\"\",\"title\":{\"standoff\":15},\"zerolinecolor\":\"white\",\"automargin\":true,\"zerolinewidth\":2},\"yaxis\":{\"gridcolor\":\"white\",\"linecolor\":\"white\",\"ticks\":\"\",\"title\":{\"standoff\":15},\"zerolinecolor\":\"white\",\"automargin\":true,\"zerolinewidth\":2},\"scene\":{\"xaxis\":{\"backgroundcolor\":\"#E5ECF6\",\"gridcolor\":\"white\",\"linecolor\":\"white\",\"showbackground\":true,\"ticks\":\"\",\"zerolinecolor\":\"white\",\"gridwidth\":2},\"yaxis\":{\"backgroundcolor\":\"#E5ECF6\",\"gridcolor\":\"white\",\"linecolor\":\"white\",\"showbackground\":true,\"ticks\":\"\",\"zerolinecolor\":\"white\",\"gridwidth\":2},\"zaxis\":{\"backgroundcolor\":\"#E5ECF6\",\"gridcolor\":\"white\",\"linecolor\":\"white\",\"showbackground\":true,\"ticks\":\"\",\"zerolinecolor\":\"white\",\"gridwidth\":2}},\"shapedefaults\":{\"line\":{\"color\":\"#2a3f5f\"}},\"annotationdefaults\":{\"arrowcolor\":\"#2a3f5f\",\"arrowhead\":0,\"arrowwidth\":1},\"geo\":{\"bgcolor\":\"white\",\"landcolor\":\"#E5ECF6\",\"subunitcolor\":\"white\",\"showland\":true,\"showlakes\":true,\"lakecolor\":\"white\"},\"title\":{\"x\":0.05},\"mapbox\":{\"style\":\"light\"}}}},                        {\"responsive\": true}                    ).then(function(){\n",
              "                            \n",
              "var gd = document.getElementById('580e20aa-51f4-46cc-9ca6-730708c60fd7');\n",
              "var x = new MutationObserver(function (mutations, observer) {{\n",
              "        var display = window.getComputedStyle(gd).display;\n",
              "        if (!display || display === 'none') {{\n",
              "            console.log([gd, 'removed!']);\n",
              "            Plotly.purge(gd);\n",
              "            observer.disconnect();\n",
              "        }}\n",
              "}});\n",
              "\n",
              "// Listen for the removal of the full notebook cells\n",
              "var notebookContainer = gd.closest('#notebook-container');\n",
              "if (notebookContainer) {{\n",
              "    x.observe(notebookContainer, {childList: true});\n",
              "}}\n",
              "\n",
              "// Listen for the clearing of the current output cell\n",
              "var outputEl = gd.closest('.output');\n",
              "if (outputEl) {{\n",
              "    x.observe(outputEl, {childList: true});\n",
              "}}\n",
              "\n",
              "                        })                };                            </script>        </div>\n",
              "</body>\n",
              "</html>"
            ]
          },
          "metadata": {},
          "output_type": "display_data"
        }
      ],
      "id": "rR_1gbQqPS_m"
    },
    {
      "cell_type": "code",
      "source": [
        "params= trial.params\n",
        "model = XGBClassifier(\n",
        "    random_state=42,\n",
        "    num_class=4,\n",
        "    n_jobs=-1,\n",
        "    objective='multi:softmax',\n",
        "    eval_metric='mlogloss',\n",
        "    tree_method='gpu_hist',  # Use GPU acceleration\n",
        "    gpu_id=0,                # Specify GPU device 0\n",
        "    **params\n",
        ")\n",
        "\n",
        "smote=SMOTE(random_state=42, sampling_strategy='not majority')\n",
        "pipeline = imblearn_Pipeline([\n",
        "    ('smote', smote),\n",
        "    ('classifier', best_model)\n",
        "    ])\n",
        "\n",
        "all_true_labels, all_predicted_labels= cross_validate_with_pipeline(pipeline,X_train_embeddings, y_train, n_splits=5)\n",
        "plot_confusion_matrix_and_report(all_true_labels, all_predicted_labels, class_labels=[0, 1, 2, 3])"
      ],
      "metadata": {
        "colab": {
          "base_uri": "https://localhost:8080/",
          "height": 1000
        },
        "id": "BSa3BlanQgND",
        "outputId": "50731d2c-312c-46fa-924d-dde8977ffda4"
      },
      "id": "BSa3BlanQgND",
      "execution_count": 30,
      "outputs": [
        {
          "output_type": "stream",
          "name": "stdout",
          "text": [
            "Fold number: 1, Training F1 Macro: 0.9378, Validation F1 Macro: 0.4637\n",
            "Fold number: 2, Training F1 Macro: 0.9378, Validation F1 Macro: 0.4731\n",
            "Fold number: 3, Training F1 Macro: 0.9368, Validation F1 Macro: 0.4761\n",
            "Fold number: 4, Training F1 Macro: 0.9421, Validation F1 Macro: 0.4776\n",
            "Fold number: 5, Training F1 Macro: 0.9372, Validation F1 Macro: 0.4876\n",
            "\n",
            "Classification Report:\n",
            "              precision    recall  f1-score   support\n",
            "\n",
            "     Class 0       0.57      0.55      0.56      5576\n",
            "     Class 1       0.27      0.19      0.22      1553\n",
            "     Class 2       0.73      0.80      0.76      7510\n",
            "     Class 3       0.36      0.35      0.36      1062\n",
            "\n",
            "    accuracy                           0.62     15701\n",
            "   macro avg       0.48      0.47      0.48     15701\n",
            "weighted avg       0.60      0.62      0.61     15701\n",
            "\n",
            "Confusion Matrix:\n"
          ]
        },
        {
          "output_type": "display_data",
          "data": {
            "text/plain": [
              "<Figure size 700x700 with 1 Axes>"
            ],
            "image/png": "[encoded data removed]"
          },
          "metadata": {}
        },
        {
          "output_type": "stream",
          "name": "stdout",
          "text": [
            "\n",
            "\n"
          ]
        }
      ]
    }
  ],
  "metadata": {
    "kernelspec": {
      "display_name": "Python 3",
      "name": "python3"
    },
    "language_info": {
      "name": "python"
    },
    "colab": {
      "provenance": [],
      "machine_shape": "hm",
      "gpuType": "A100"
    },
    "accelerator": "GPU"
  },
  "nbformat": 4,
  "nbformat_minor": 5
}