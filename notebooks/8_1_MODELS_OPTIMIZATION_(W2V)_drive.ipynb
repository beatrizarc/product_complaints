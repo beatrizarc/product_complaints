{
  "cells": [
    {
      "cell_type": "code",
      "source": [
        "!pip install --quiet optuna"
      ],
      "metadata": {
        "colab": {
          "base_uri": "https://localhost:8080/"
        },
        "id": "LvRQKX7sZBaA",
        "outputId": "a7dd9fc0-0e97-4d17-a086-110a486f63aa"
      },
      "id": "LvRQKX7sZBaA",
      "execution_count": 1,
      "outputs": [
        {
          "output_type": "stream",
          "name": "stdout",
          "text": [
            "\u001b[2K     \u001b[90m━━━━━━━━━━━━━━━━━━━━━━━━━━━━━━━━━━━━━━━\u001b[0m \u001b[32m404.2/404.2 kB\u001b[0m \u001b[31m6.1 MB/s\u001b[0m eta \u001b[36m0:00:00\u001b[0m\n",
            "\u001b[2K     \u001b[90m━━━━━━━━━━━━━━━━━━━━━━━━━━━━━━━━━━━━━━\u001b[0m \u001b[32m226.0/226.0 kB\u001b[0m \u001b[31m20.4 MB/s\u001b[0m eta \u001b[36m0:00:00\u001b[0m\n",
            "\u001b[2K     \u001b[90m━━━━━━━━━━━━━━━━━━━━━━━━━━━━━━━━━━━━━━━━\u001b[0m \u001b[32m78.7/78.7 kB\u001b[0m \u001b[31m6.9 MB/s\u001b[0m eta \u001b[36m0:00:00\u001b[0m\n",
            "\u001b[?25h"
          ]
        }
      ]
    },
    {
      "cell_type": "code",
      "execution_count": 2,
      "id": "2f8b3be5",
      "metadata": {
        "id": "2f8b3be5"
      },
      "outputs": [],
      "source": [
        "from sklearn.svm import LinearSVC\n",
        "from sklearn.model_selection import GridSearchCV, train_test_split, StratifiedKFold\n",
        "from sklearn.metrics import accuracy_score, f1_score, precision_score, recall_score\n",
        "from xgboost import XGBClassifier\n",
        "from sklearn.model_selection import train_test_split\n",
        "from sklearn.metrics import classification_report\n",
        "from sklearn.feature_extraction.text import TfidfVectorizer\n",
        "import gensim\n",
        "from gensim.models import KeyedVectors\n",
        "import pandas as pd\n",
        "from sklearn.model_selection import cross_val_score, learning_curve\n",
        "import matplotlib.pyplot as plt\n",
        "from sklearn.model_selection import StratifiedKFold, GridSearchCV, RandomizedSearchCV\n",
        "from sklearn.metrics import classification_report, confusion_matrix\n",
        "from sklearn.feature_selection import SelectKBest, chi2, SelectFromModel,RFE\n",
        "from sklearn.pipeline import Pipeline\n",
        "from imblearn.over_sampling import SMOTE, ADASYN\n",
        "from imblearn.combine import SMOTEENN\n",
        "import warnings\n",
        "from sklearn.decomposition import PCA\n",
        "import optuna\n",
        "from imblearn.pipeline import Pipeline as imblearn_Pipeline"
      ]
    },
    {
      "cell_type": "code",
      "source": [
        "from google.colab import drive\n",
        "drive.mount('/content/drive')"
      ],
      "metadata": {
        "colab": {
          "base_uri": "https://localhost:8080/"
        },
        "id": "-zf0SP8WcXpu",
        "outputId": "7acef45f-7a50-40a0-cfd4-d93388055c23"
      },
      "id": "-zf0SP8WcXpu",
      "execution_count": 3,
      "outputs": [
        {
          "output_type": "stream",
          "name": "stdout",
          "text": [
            "Mounted at /content/drive\n"
          ]
        }
      ]
    },
    {
      "cell_type": "code",
      "execution_count": 4,
      "id": "35e77c3e",
      "metadata": {
        "id": "35e77c3e"
      },
      "outputs": [],
      "source": [
        "import numpy as np\n",
        "np.random.seed(42)  # Set random seed for numpy\n",
        "\n",
        "import random\n",
        "random.seed(42)  # Set random seed for random module"
      ]
    },
    {
      "cell_type": "code",
      "execution_count": 5,
      "id": "d588b6ab",
      "metadata": {
        "id": "d588b6ab"
      },
      "outputs": [],
      "source": [
        "df = pd.read_csv(\"/content/drive/MyDrive/MS DATA SCIENCE /TESE /data_processed_selected.csv\")\n",
        "w2v= KeyedVectors.load_word2vec_format('/content/drive/MyDrive/MS DATA SCIENCE /TESE /skip_s600_word2vec.txt')"
      ]
    },
    {
      "cell_type": "code",
      "source": [
        "# df = pd.read_csv(\"D:\\\\MS DATA SCIENCE\\\\NLP TESE\\\\data\\\\data_processed_selected.csv\")\n",
        "# w2v= KeyedVectors.load_word2vec_format('D:\\\\MS DATA SCIENCE\\\\NLP TESE\\\\embeddings\\\\skip_s600_word2vec.txt')"
      ],
      "metadata": {
        "id": "nU7z55jLTTnU"
      },
      "id": "nU7z55jLTTnU",
      "execution_count": 6,
      "outputs": []
    },
    {
      "cell_type": "code",
      "execution_count": 7,
      "id": "8e11836b",
      "metadata": {
        "id": "8e11836b"
      },
      "outputs": [],
      "source": [
        "import warnings\n",
        "warnings.filterwarnings(\"ignore\")"
      ]
    },
    {
      "cell_type": "code",
      "execution_count": 8,
      "id": "6a1b1910",
      "metadata": {
        "id": "6a1b1910"
      },
      "outputs": [],
      "source": [
        "def preprocess_entities(row):\n",
        "    if pd.isna(row)==False:\n",
        "        entities = row.lower()  # Convert to lowercase\n",
        "        entities = entities.replace(',', '')  # Remove commas\n",
        "        entities = ' '.join(set(entities.split()))  # Convert to set to get unique values, then join back as a string\n",
        "        return entities\n",
        "df['entities'] = df['entities'].apply(preprocess_entities)"
      ]
    },
    {
      "cell_type": "code",
      "execution_count": 9,
      "id": "87313292",
      "metadata": {
        "id": "87313292"
      },
      "outputs": [],
      "source": [
        "y=df['reason']\n",
        "X = df[['narrative_embeddings', 'embeddings_title', 'embeddings_keywords', 'events_embeddings', 'entities']]"
      ]
    },
    {
      "cell_type": "code",
      "execution_count": 10,
      "id": "87dc2eba",
      "metadata": {
        "colab": {
          "base_uri": "https://localhost:8080/"
        },
        "id": "87dc2eba",
        "outputId": "c47603c1-8d54-480d-80a9-b21c7eb35d4f"
      },
      "outputs": [
        {
          "output_type": "stream",
          "name": "stdout",
          "text": [
            "X_train shape: (15701, 5)\n",
            "y_train shape: (15701,)\n",
            "X_test shape: (6729, 5)\n",
            "y_test shape: (6729,)\n"
          ]
        }
      ],
      "source": [
        "# Split the data into a training set (70%) and a test set (30%)\n",
        "X_train, X_test, y_train, y_test = train_test_split(X, y, test_size=0.3, stratify=y, random_state=42)\n",
        "\n",
        "# Print the shape of each set\n",
        "print(\"X_train shape:\", X_train.shape)\n",
        "print(\"y_train shape:\", y_train.shape)\n",
        "print(\"X_test shape:\", X_test.shape)\n",
        "print(\"y_test shape:\", y_test.shape)"
      ]
    },
    {
      "cell_type": "code",
      "execution_count": 11,
      "id": "ca631c1c",
      "metadata": {
        "id": "ca631c1c"
      },
      "outputs": [],
      "source": [
        "def embeddings_transformation(X, model):\n",
        "    '''returns the mean of the embeddings of the document X'''\n",
        "    # initiating a sentence with all zeros\n",
        "    embedding_size = 600\n",
        "    X_transformed = np.zeros((len(X), embedding_size))\n",
        "\n",
        "    # Loop over each string in X\n",
        "    for i, sentence in enumerate(X):\n",
        "        # Loop over each word in the sentence and, if it is in the model's vocabulary, add its feature vector to the total\n",
        "        embeddings = [model[word] for word in sentence.split() if word in model]\n",
        "        if embeddings:\n",
        "            X_transformed[i] = np.mean(embeddings, axis=0)\n",
        "    return X_transformed"
      ]
    },
    {
      "cell_type": "code",
      "execution_count": 12,
      "id": "b2347e6d",
      "metadata": {
        "id": "b2347e6d"
      },
      "outputs": [],
      "source": [
        "feature_set=['narrative_embeddings', 'embeddings_title']\n",
        "X_train_selected = X_train[feature_set].apply(lambda x: ' '.join(x.fillna('').astype(str)), axis=1)\n",
        "# Transform the text data into embeddings\n",
        "X_train_embeddings = embeddings_transformation(X_train_selected, w2v)"
      ]
    },
    {
      "cell_type": "code",
      "execution_count": 13,
      "id": "fb7ecd2a",
      "metadata": {
        "id": "fb7ecd2a"
      },
      "outputs": [],
      "source": [
        "def cross_validate_with_pipeline(pipeline, X, y, n_splits=5):\n",
        "    kf = StratifiedKFold(n_splits=n_splits, shuffle=True, random_state=42)\n",
        "\n",
        "    all_true_labels = []\n",
        "    all_predicted_labels = []\n",
        "\n",
        "    for fold, (train_index, val_index) in enumerate(kf.split(X, y), start=1):\n",
        "        X_train_fold, X_val_fold = X[train_index], X[val_index]\n",
        "        y_train_fold, y_val_fold = y.iloc[train_index], y.iloc[val_index]\n",
        "\n",
        "        pipeline.fit(X_train_fold, y_train_fold)\n",
        "\n",
        "        y_pred_train = pipeline.predict(X_train_fold)\n",
        "        y_pred_val = pipeline.predict(X_val_fold)\n",
        "\n",
        "        training_f1_macro = f1_score(y_train_fold, y_pred_train, average='macro')\n",
        "        validation_f1_macro = f1_score(y_val_fold, y_pred_val, average='macro')\n",
        "\n",
        "        print(f\"Fold number: {fold}, Training F1 Macro: {training_f1_macro:.4f}, Validation F1 Macro: {validation_f1_macro:.4f}\")\n",
        "\n",
        "        all_true_labels.extend(y_val_fold)\n",
        "        all_predicted_labels.extend(y_pred_val)\n",
        "\n",
        "    return all_true_labels, all_predicted_labels"
      ]
    },
    {
      "cell_type": "code",
      "source": [
        "def compute_mean_f1_macro(pipeline, X, y, n_splits=5):\n",
        "    kf = StratifiedKFold(n_splits=n_splits, shuffle=True, random_state=42)\n",
        "\n",
        "    all_true_labels = []\n",
        "    all_predicted_labels = []\n",
        "\n",
        "    for fold, (train_index, val_index) in enumerate(kf.split(X, y), start=1):\n",
        "        X_train_fold, X_val_fold = X[train_index], X[val_index]\n",
        "        y_train_fold, y_val_fold = y.iloc[train_index], y.iloc[val_index]\n",
        "\n",
        "        pipeline.fit(X_train_fold, y_train_fold)\n",
        "\n",
        "        y_pred_val = pipeline.predict(X_val_fold)\n",
        "\n",
        "        all_true_labels.extend(y_val_fold)\n",
        "        all_predicted_labels.extend(y_pred_val)\n",
        "\n",
        "    mean_f1_macro = f1_score(all_true_labels, all_predicted_labels, average='macro')\n",
        "\n",
        "    return mean_f1_macro"
      ],
      "metadata": {
        "id": "V378mYcDaWSH"
      },
      "id": "V378mYcDaWSH",
      "execution_count": 14,
      "outputs": []
    },
    {
      "cell_type": "code",
      "execution_count": 15,
      "id": "23378416",
      "metadata": {
        "id": "23378416"
      },
      "outputs": [],
      "source": [
        "def plot_confusion_matrix_and_report(all_true_labels, all_predicted_labels, class_labels):\n",
        "    # Generate the confusion matrix\n",
        "    confusion_mat = confusion_matrix(all_true_labels, all_predicted_labels, labels=class_labels)\n",
        "\n",
        "    # Calculate the classification report\n",
        "    class_report = classification_report(all_true_labels, all_predicted_labels, target_names=[f'Class {label}' for label in class_labels])\n",
        "\n",
        "    print(\"\\nClassification Report:\")\n",
        "    print(class_report)\n",
        "\n",
        "    # Plot the confusion matrix\n",
        "    print(\"Confusion Matrix:\")\n",
        "    fig, ax = plt.subplots(figsize=(7, 7))\n",
        "    ax.matshow(confusion_mat, cmap=plt.cm.Blues, alpha=0.3)\n",
        "    for i in range(confusion_mat.shape[0]):\n",
        "        for j in range(confusion_mat.shape[1]):\n",
        "            ax.text(x=j, y=i, s=confusion_mat[i, j], va='center', ha='center', size='xx-large')\n",
        "    plt.xlabel('Predictions', fontsize=10)\n",
        "    plt.ylabel('Actuals', fontsize=10)\n",
        "    plt.title('Confusion Matrix', fontsize=10)\n",
        "    plt.show()\n",
        "    print('\\n')"
      ]
    },
    {
      "cell_type": "code",
      "source": [
        "import os\n",
        "\n",
        "# Get the number of CPU cores\n",
        "num_cpus = os.cpu_count()\n",
        "\n",
        "print(\"Number of CPU cores available:\", num_cpus)"
      ],
      "metadata": {
        "colab": {
          "base_uri": "https://localhost:8080/"
        },
        "id": "Cea7EeTzUB1l",
        "outputId": "a27e3681-0af5-4f36-b64f-c49159869eb7"
      },
      "id": "Cea7EeTzUB1l",
      "execution_count": 16,
      "outputs": [
        {
          "output_type": "stream",
          "name": "stdout",
          "text": [
            "Number of CPU cores available: 8\n"
          ]
        }
      ]
    },
    {
      "cell_type": "markdown",
      "id": "7b662285",
      "metadata": {
        "id": "7b662285"
      },
      "source": [
        "# XGBOOST    \n",
        "was slightly better than LinearSVC in terms of F1-Score, by 1%"
      ]
    },
    {
      "cell_type": "markdown",
      "id": "bb8dfd1e",
      "metadata": {
        "id": "bb8dfd1e"
      },
      "source": [
        "<span style=\"color:white; font-size:18px;background-color:red\"> HYPERPARAMETER TUNING </span>  "
      ]
    },
    {
      "cell_type": "code",
      "source": [
        "def objective(trial):\n",
        "  # Define the hyperparameter search space\n",
        "\n",
        "  new_params= {\n",
        "      'max_depth': trial.suggest_int('max_depth', 3, 12),\n",
        "      'eta': trial.suggest_loguniform('eta', 0.001, 0.3),\n",
        "      'subsample': trial.suggest_float('subsample', 0.5, 1.0),\n",
        "      'colsample_bytree': trial.suggest_float('colsample_bytree', 0.5, 1.0),\n",
        "      'min_child_weight': trial.suggest_int('min_child_weight', 1, 15),\n",
        "      'n_estimators': trial.suggest_int('n_estimators', 50, 400),\n",
        "      'gamma': trial.suggest_float('gamma', 0, 1),\n",
        "      'alpha': trial.suggest_float('alpha', 0, 10),  # L1 regularization term on weights\n",
        "      'lambda': trial.suggest_float('lambda', 0, 10) # L2\n",
        "      }\n",
        "\n",
        "  # Create and train the XGBoost classifier with the current set of hyperparameters\n",
        "  model = XGBClassifier(\n",
        "  random_state=42,\n",
        "  num_class=4,\n",
        "  n_jobs=-1,\n",
        "  objective='multi:softmax',\n",
        "  eval_metric='mlogloss',\n",
        "  verbose=3,\n",
        "  **new_params)\n",
        "\n",
        "  pipeline = Pipeline([\n",
        "      ('classifier', model)\n",
        "      ])\n",
        "\n",
        "  mean_f1_scores= compute_mean_f1_macro(pipeline, X_train_embeddings, y_train, n_splits=5)\n",
        "  return mean_f1_scores"
      ],
      "metadata": {
        "id": "lovU-jFWZVfV"
      },
      "id": "lovU-jFWZVfV",
      "execution_count": 17,
      "outputs": []
    },
    {
      "cell_type": "code",
      "source": [
        "import os\n",
        "path = '/content/drive/MyDrive/MS DATA SCIENCE /TESE /optimização/new'\n",
        "database_filename = 'xgboost_w2v.db'\n",
        "\n",
        "# Full path to the SQLite database file in Google Drive\n",
        "database_path = os.path.join(path, database_filename)\n",
        "\n",
        "# Set the SQLite database path to Google Drive path\n",
        "storage = optuna.storages.RDBStorage(url=f'sqlite:///{database_path}')"
      ],
      "metadata": {
        "id": "DyolIloSa_J_"
      },
      "id": "DyolIloSa_J_",
      "execution_count": 18,
      "outputs": []
    },
    {
      "cell_type": "code",
      "source": [
        "# create study\n",
        "study = optuna.create_study(storage=storage, direction='maximize', study_name='xgboost_w2v',load_if_exists=True)\n",
        "study.optimize(objective, n_trials=50, n_jobs=-1)"
      ],
      "metadata": {
        "id": "jJsx2G0BK7VD"
      },
      "id": "jJsx2G0BK7VD",
      "execution_count": null,
      "outputs": []
    },
    {
      "cell_type": "code",
      "source": [
        "study = optuna.load_study(study_name='xgboost_w2v', storage=storage)\n",
        "\n",
        "# Fetch the number of completed trials\n",
        "completed_trials = len(study.trials)\n",
        "\n",
        "# Print the number of completed trials\n",
        "print(f\"Number of completed trials: {completed_trials}\")"
      ],
      "metadata": {
        "colab": {
          "base_uri": "https://localhost:8080/"
        },
        "id": "--i0MOkJ76BB",
        "outputId": "a9db0e92-19cf-4d1e-88b5-397146202301"
      },
      "id": "--i0MOkJ76BB",
      "execution_count": 22,
      "outputs": [
        {
          "output_type": "stream",
          "name": "stdout",
          "text": [
            "Number of completed trials: 50\n"
          ]
        }
      ]
    },
    {
      "cell_type": "code",
      "source": [
        "study = optuna.load_study(study_name='xgboost_w2v', storage=storage)\n",
        "study.optimize(objective, n_trials=3, n_jobs=-1)"
      ],
      "metadata": {
        "colab": {
          "base_uri": "https://localhost:8080/"
        },
        "id": "1RIjjOC5u5E6",
        "outputId": "5e32d2d2-6af5-43f4-82be-47741ede017b"
      },
      "id": "1RIjjOC5u5E6",
      "execution_count": 21,
      "outputs": [
        {
          "output_type": "stream",
          "name": "stderr",
          "text": [
            "[I 2023-09-20 01:11:31,514] Trial 47 finished with value: 0.43688575215314585 and parameters: {'max_depth': 11, 'eta': 0.08967226758850608, 'subsample': 0.5744266780375156, 'colsample_bytree': 0.8710222016387743, 'min_child_weight': 10, 'n_estimators': 258, 'gamma': 0.09255949494663504, 'alpha': 7.226394838420954, 'lambda': 8.665964728090787}. Best is trial 46 with value: 0.44603557795397764.\n",
            "[I 2023-09-20 01:11:37,302] Trial 49 finished with value: 0.43681073548102534 and parameters: {'max_depth': 11, 'eta': 0.08775193961209267, 'subsample': 0.574566267736561, 'colsample_bytree': 0.8727445619816879, 'min_child_weight': 11, 'n_estimators': 264, 'gamma': 0.10949567802925336, 'alpha': 7.071874160118918, 'lambda': 8.63574721296565}. Best is trial 46 with value: 0.44603557795397764.\n",
            "[I 2023-09-20 01:18:12,141] Trial 48 finished with value: 0.4400737924063959 and parameters: {'max_depth': 11, 'eta': 0.08150334915539889, 'subsample': 0.5672679641731252, 'colsample_bytree': 0.8648039147325678, 'min_child_weight': 12, 'n_estimators': 369, 'gamma': 0.11234490486325552, 'alpha': 8.570483979723376, 'lambda': 8.521239456662782}. Best is trial 46 with value: 0.44603557795397764.\n"
          ]
        }
      ]
    },
    {
      "cell_type": "code",
      "source": [
        "study = optuna.load_study(study_name='xgboost_w2v', storage=storage)\n",
        "trial = study.best_trial\n",
        "print('F1 score: {}'.format(trial.value))\n",
        "print(\"Best hyperparameters: {}\".format(trial.params))\n",
        "# Plot the optimization history\n",
        "import optuna.visualization as vis\n",
        "vis.plot_optimization_history(study)"
      ],
      "metadata": {
        "colab": {
          "base_uri": "https://localhost:8080/",
          "height": 597
        },
        "id": "BUZeqgfjbLos",
        "outputId": "48651068-262b-4e86-e611-e3f076ffb6c2"
      },
      "id": "BUZeqgfjbLos",
      "execution_count": 23,
      "outputs": [
        {
          "output_type": "stream",
          "name": "stdout",
          "text": [
            "F1 score: 0.44603557795397764\n",
            "Best hyperparameters: {'max_depth': 10, 'eta': 0.22009852321966245, 'subsample': 0.5495200542895857, 'colsample_bytree': 0.8135196972534797, 'min_child_weight': 11, 'n_estimators': 305, 'gamma': 0.02610827162505238, 'alpha': 8.897240706969946, 'lambda': 9.23286844344834}\n"
          ]
        },
        {
          "output_type": "display_data",
          "data": {
            "text/html": [
              "<html>\n",
              "<head><meta charset=\"utf-8\" /></head>\n",
              "<body>\n",
              "    <div>            <script src=\"https://cdnjs.cloudflare.com/ajax/libs/mathjax/2.7.5/MathJax.js?config=TeX-AMS-MML_SVG\"></script><script type=\"text/javascript\">if (window.MathJax && window.MathJax.Hub && window.MathJax.Hub.Config) {window.MathJax.Hub.Config({SVG: {font: \"STIX-Web\"}});}</script>                <script type=\"text/javascript\">window.PlotlyConfig = {MathJaxConfig: 'local'};</script>\n",
              "        <script charset=\"utf-8\" src=\"https://cdn.plot.ly/plotly-2.24.1.min.js\"></script>                <div id=\"e0f935f3-00cd-4219-933c-923875bdd55a\" class=\"plotly-graph-div\" style=\"height:525px; width:100%;\"></div>            <script type=\"text/javascript\">                                    window.PLOTLYENV=window.PLOTLYENV || {};                                    if (document.getElementById(\"e0f935f3-00cd-4219-933c-923875bdd55a\")) {                    Plotly.newPlot(                        \"e0f935f3-00cd-4219-933c-923875bdd55a\",                        [{\"mode\":\"markers\",\"name\":\"Objective Value\",\"x\":[2,3,4,5,6,9,11,15,16,17,18,19,20,21,22,23,24,25,26,27,28,29,30,31,32,33,34,35,36,37,38,39,40,43,44,45,46,47,48,49],\"y\":[0.4351847061023552,0.36486850434758833,0.4438831751915532,0.43378025043706214,0.3567226345833529,0.3738746611837109,0.382380226793516,0.4260780859122074,0.3834512379831986,0.33973289809989177,0.331277686242525,0.3811644378354788,0.32548816072005865,0.4172296853880947,0.3842440550302627,0.3435109082973948,0.36721679063053747,0.43888862303784193,0.44050831753405195,0.4426783658927741,0.4433410877198638,0.43988312593396506,0.43421736114501086,0.4309199651223786,0.4393103131549775,0.43621071191787686,0.4399047990922537,0.4380583447071138,0.42863807324642056,0.43726250890559937,0.4367569229310906,0.44395234411277607,0.4429409311852328,0.44114259382503584,0.44118619274817183,0.43876652143717876,0.44603557795397764,0.43688575215314585,0.4400737924063959,0.43681073548102534],\"type\":\"scatter\"},{\"mode\":\"lines\",\"name\":\"Best Value\",\"x\":[0,1,2,3,4,5,6,7,8,9,10,11,12,13,14,15,16,17,18,19,20,21,22,23,24,25,26,27,28,29,30,31,32,33,34,35,36,37,38,39,40,41,42,43,44,45,46,47,48,49],\"y\":[null,null,0.4351847061023552,0.4351847061023552,0.4438831751915532,0.4438831751915532,0.4438831751915532,0.4438831751915532,0.4438831751915532,0.4438831751915532,0.4438831751915532,0.4438831751915532,0.4438831751915532,0.4438831751915532,0.4438831751915532,0.4438831751915532,0.4438831751915532,0.4438831751915532,0.4438831751915532,0.4438831751915532,0.4438831751915532,0.4438831751915532,0.4438831751915532,0.4438831751915532,0.4438831751915532,0.4438831751915532,0.4438831751915532,0.4438831751915532,0.4438831751915532,0.4438831751915532,0.4438831751915532,0.4438831751915532,0.4438831751915532,0.4438831751915532,0.4438831751915532,0.4438831751915532,0.4438831751915532,0.4438831751915532,0.4438831751915532,0.44395234411277607,0.44395234411277607,0.44395234411277607,0.44395234411277607,0.44395234411277607,0.44395234411277607,0.44395234411277607,0.44603557795397764,0.44603557795397764,0.44603557795397764,0.44603557795397764],\"type\":\"scatter\"},{\"marker\":{\"color\":\"#cccccc\"},\"mode\":\"markers\",\"name\":\"Infeasible Trial\",\"showlegend\":false,\"x\":[],\"y\":[],\"type\":\"scatter\"}],                        {\"title\":{\"text\":\"Optimization History Plot\"},\"xaxis\":{\"title\":{\"text\":\"Trial\"}},\"yaxis\":{\"title\":{\"text\":\"Objective Value\"}},\"template\":{\"data\":{\"histogram2dcontour\":[{\"type\":\"histogram2dcontour\",\"colorbar\":{\"outlinewidth\":0,\"ticks\":\"\"},\"colorscale\":[[0.0,\"#0d0887\"],[0.1111111111111111,\"#46039f\"],[0.2222222222222222,\"#7201a8\"],[0.3333333333333333,\"#9c179e\"],[0.4444444444444444,\"#bd3786\"],[0.5555555555555556,\"#d8576b\"],[0.6666666666666666,\"#ed7953\"],[0.7777777777777778,\"#fb9f3a\"],[0.8888888888888888,\"#fdca26\"],[1.0,\"#f0f921\"]]}],\"choropleth\":[{\"type\":\"choropleth\",\"colorbar\":{\"outlinewidth\":0,\"ticks\":\"\"}}],\"histogram2d\":[{\"type\":\"histogram2d\",\"colorbar\":{\"outlinewidth\":0,\"ticks\":\"\"},\"colorscale\":[[0.0,\"#0d0887\"],[0.1111111111111111,\"#46039f\"],[0.2222222222222222,\"#7201a8\"],[0.3333333333333333,\"#9c179e\"],[0.4444444444444444,\"#bd3786\"],[0.5555555555555556,\"#d8576b\"],[0.6666666666666666,\"#ed7953\"],[0.7777777777777778,\"#fb9f3a\"],[0.8888888888888888,\"#fdca26\"],[1.0,\"#f0f921\"]]}],\"heatmap\":[{\"type\":\"heatmap\",\"colorbar\":{\"outlinewidth\":0,\"ticks\":\"\"},\"colorscale\":[[0.0,\"#0d0887\"],[0.1111111111111111,\"#46039f\"],[0.2222222222222222,\"#7201a8\"],[0.3333333333333333,\"#9c179e\"],[0.4444444444444444,\"#bd3786\"],[0.5555555555555556,\"#d8576b\"],[0.6666666666666666,\"#ed7953\"],[0.7777777777777778,\"#fb9f3a\"],[0.8888888888888888,\"#fdca26\"],[1.0,\"#f0f921\"]]}],\"heatmapgl\":[{\"type\":\"heatmapgl\",\"colorbar\":{\"outlinewidth\":0,\"ticks\":\"\"},\"colorscale\":[[0.0,\"#0d0887\"],[0.1111111111111111,\"#46039f\"],[0.2222222222222222,\"#7201a8\"],[0.3333333333333333,\"#9c179e\"],[0.4444444444444444,\"#bd3786\"],[0.5555555555555556,\"#d8576b\"],[0.6666666666666666,\"#ed7953\"],[0.7777777777777778,\"#fb9f3a\"],[0.8888888888888888,\"#fdca26\"],[1.0,\"#f0f921\"]]}],\"contourcarpet\":[{\"type\":\"contourcarpet\",\"colorbar\":{\"outlinewidth\":0,\"ticks\":\"\"}}],\"contour\":[{\"type\":\"contour\",\"colorbar\":{\"outlinewidth\":0,\"ticks\":\"\"},\"colorscale\":[[0.0,\"#0d0887\"],[0.1111111111111111,\"#46039f\"],[0.2222222222222222,\"#7201a8\"],[0.3333333333333333,\"#9c179e\"],[0.4444444444444444,\"#bd3786\"],[0.5555555555555556,\"#d8576b\"],[0.6666666666666666,\"#ed7953\"],[0.7777777777777778,\"#fb9f3a\"],[0.8888888888888888,\"#fdca26\"],[1.0,\"#f0f921\"]]}],\"surface\":[{\"type\":\"surface\",\"colorbar\":{\"outlinewidth\":0,\"ticks\":\"\"},\"colorscale\":[[0.0,\"#0d0887\"],[0.1111111111111111,\"#46039f\"],[0.2222222222222222,\"#7201a8\"],[0.3333333333333333,\"#9c179e\"],[0.4444444444444444,\"#bd3786\"],[0.5555555555555556,\"#d8576b\"],[0.6666666666666666,\"#ed7953\"],[0.7777777777777778,\"#fb9f3a\"],[0.8888888888888888,\"#fdca26\"],[1.0,\"#f0f921\"]]}],\"mesh3d\":[{\"type\":\"mesh3d\",\"colorbar\":{\"outlinewidth\":0,\"ticks\":\"\"}}],\"scatter\":[{\"fillpattern\":{\"fillmode\":\"overlay\",\"size\":10,\"solidity\":0.2},\"type\":\"scatter\"}],\"parcoords\":[{\"type\":\"parcoords\",\"line\":{\"colorbar\":{\"outlinewidth\":0,\"ticks\":\"\"}}}],\"scatterpolargl\":[{\"type\":\"scatterpolargl\",\"marker\":{\"colorbar\":{\"outlinewidth\":0,\"ticks\":\"\"}}}],\"bar\":[{\"error_x\":{\"color\":\"#2a3f5f\"},\"error_y\":{\"color\":\"#2a3f5f\"},\"marker\":{\"line\":{\"color\":\"#E5ECF6\",\"width\":0.5},\"pattern\":{\"fillmode\":\"overlay\",\"size\":10,\"solidity\":0.2}},\"type\":\"bar\"}],\"scattergeo\":[{\"type\":\"scattergeo\",\"marker\":{\"colorbar\":{\"outlinewidth\":0,\"ticks\":\"\"}}}],\"scatterpolar\":[{\"type\":\"scatterpolar\",\"marker\":{\"colorbar\":{\"outlinewidth\":0,\"ticks\":\"\"}}}],\"histogram\":[{\"marker\":{\"pattern\":{\"fillmode\":\"overlay\",\"size\":10,\"solidity\":0.2}},\"type\":\"histogram\"}],\"scattergl\":[{\"type\":\"scattergl\",\"marker\":{\"colorbar\":{\"outlinewidth\":0,\"ticks\":\"\"}}}],\"scatter3d\":[{\"type\":\"scatter3d\",\"line\":{\"colorbar\":{\"outlinewidth\":0,\"ticks\":\"\"}},\"marker\":{\"colorbar\":{\"outlinewidth\":0,\"ticks\":\"\"}}}],\"scattermapbox\":[{\"type\":\"scattermapbox\",\"marker\":{\"colorbar\":{\"outlinewidth\":0,\"ticks\":\"\"}}}],\"scatterternary\":[{\"type\":\"scatterternary\",\"marker\":{\"colorbar\":{\"outlinewidth\":0,\"ticks\":\"\"}}}],\"scattercarpet\":[{\"type\":\"scattercarpet\",\"marker\":{\"colorbar\":{\"outlinewidth\":0,\"ticks\":\"\"}}}],\"carpet\":[{\"aaxis\":{\"endlinecolor\":\"#2a3f5f\",\"gridcolor\":\"white\",\"linecolor\":\"white\",\"minorgridcolor\":\"white\",\"startlinecolor\":\"#2a3f5f\"},\"baxis\":{\"endlinecolor\":\"#2a3f5f\",\"gridcolor\":\"white\",\"linecolor\":\"white\",\"minorgridcolor\":\"white\",\"startlinecolor\":\"#2a3f5f\"},\"type\":\"carpet\"}],\"table\":[{\"cells\":{\"fill\":{\"color\":\"#EBF0F8\"},\"line\":{\"color\":\"white\"}},\"header\":{\"fill\":{\"color\":\"#C8D4E3\"},\"line\":{\"color\":\"white\"}},\"type\":\"table\"}],\"barpolar\":[{\"marker\":{\"line\":{\"color\":\"#E5ECF6\",\"width\":0.5},\"pattern\":{\"fillmode\":\"overlay\",\"size\":10,\"solidity\":0.2}},\"type\":\"barpolar\"}],\"pie\":[{\"automargin\":true,\"type\":\"pie\"}]},\"layout\":{\"autotypenumbers\":\"strict\",\"colorway\":[\"#636efa\",\"#EF553B\",\"#00cc96\",\"#ab63fa\",\"#FFA15A\",\"#19d3f3\",\"#FF6692\",\"#B6E880\",\"#FF97FF\",\"#FECB52\"],\"font\":{\"color\":\"#2a3f5f\"},\"hovermode\":\"closest\",\"hoverlabel\":{\"align\":\"left\"},\"paper_bgcolor\":\"white\",\"plot_bgcolor\":\"#E5ECF6\",\"polar\":{\"bgcolor\":\"#E5ECF6\",\"angularaxis\":{\"gridcolor\":\"white\",\"linecolor\":\"white\",\"ticks\":\"\"},\"radialaxis\":{\"gridcolor\":\"white\",\"linecolor\":\"white\",\"ticks\":\"\"}},\"ternary\":{\"bgcolor\":\"#E5ECF6\",\"aaxis\":{\"gridcolor\":\"white\",\"linecolor\":\"white\",\"ticks\":\"\"},\"baxis\":{\"gridcolor\":\"white\",\"linecolor\":\"white\",\"ticks\":\"\"},\"caxis\":{\"gridcolor\":\"white\",\"linecolor\":\"white\",\"ticks\":\"\"}},\"coloraxis\":{\"colorbar\":{\"outlinewidth\":0,\"ticks\":\"\"}},\"colorscale\":{\"sequential\":[[0.0,\"#0d0887\"],[0.1111111111111111,\"#46039f\"],[0.2222222222222222,\"#7201a8\"],[0.3333333333333333,\"#9c179e\"],[0.4444444444444444,\"#bd3786\"],[0.5555555555555556,\"#d8576b\"],[0.6666666666666666,\"#ed7953\"],[0.7777777777777778,\"#fb9f3a\"],[0.8888888888888888,\"#fdca26\"],[1.0,\"#f0f921\"]],\"sequentialminus\":[[0.0,\"#0d0887\"],[0.1111111111111111,\"#46039f\"],[0.2222222222222222,\"#7201a8\"],[0.3333333333333333,\"#9c179e\"],[0.4444444444444444,\"#bd3786\"],[0.5555555555555556,\"#d8576b\"],[0.6666666666666666,\"#ed7953\"],[0.7777777777777778,\"#fb9f3a\"],[0.8888888888888888,\"#fdca26\"],[1.0,\"#f0f921\"]],\"diverging\":[[0,\"#8e0152\"],[0.1,\"#c51b7d\"],[0.2,\"#de77ae\"],[0.3,\"#f1b6da\"],[0.4,\"#fde0ef\"],[0.5,\"#f7f7f7\"],[0.6,\"#e6f5d0\"],[0.7,\"#b8e186\"],[0.8,\"#7fbc41\"],[0.9,\"#4d9221\"],[1,\"#276419\"]]},\"xaxis\":{\"gridcolor\":\"white\",\"linecolor\":\"white\",\"ticks\":\"\",\"title\":{\"standoff\":15},\"zerolinecolor\":\"white\",\"automargin\":true,\"zerolinewidth\":2},\"yaxis\":{\"gridcolor\":\"white\",\"linecolor\":\"white\",\"ticks\":\"\",\"title\":{\"standoff\":15},\"zerolinecolor\":\"white\",\"automargin\":true,\"zerolinewidth\":2},\"scene\":{\"xaxis\":{\"backgroundcolor\":\"#E5ECF6\",\"gridcolor\":\"white\",\"linecolor\":\"white\",\"showbackground\":true,\"ticks\":\"\",\"zerolinecolor\":\"white\",\"gridwidth\":2},\"yaxis\":{\"backgroundcolor\":\"#E5ECF6\",\"gridcolor\":\"white\",\"linecolor\":\"white\",\"showbackground\":true,\"ticks\":\"\",\"zerolinecolor\":\"white\",\"gridwidth\":2},\"zaxis\":{\"backgroundcolor\":\"#E5ECF6\",\"gridcolor\":\"white\",\"linecolor\":\"white\",\"showbackground\":true,\"ticks\":\"\",\"zerolinecolor\":\"white\",\"gridwidth\":2}},\"shapedefaults\":{\"line\":{\"color\":\"#2a3f5f\"}},\"annotationdefaults\":{\"arrowcolor\":\"#2a3f5f\",\"arrowhead\":0,\"arrowwidth\":1},\"geo\":{\"bgcolor\":\"white\",\"landcolor\":\"#E5ECF6\",\"subunitcolor\":\"white\",\"showland\":true,\"showlakes\":true,\"lakecolor\":\"white\"},\"title\":{\"x\":0.05},\"mapbox\":{\"style\":\"light\"}}}},                        {\"responsive\": true}                    ).then(function(){\n",
              "                            \n",
              "var gd = document.getElementById('e0f935f3-00cd-4219-933c-923875bdd55a');\n",
              "var x = new MutationObserver(function (mutations, observer) {{\n",
              "        var display = window.getComputedStyle(gd).display;\n",
              "        if (!display || display === 'none') {{\n",
              "            console.log([gd, 'removed!']);\n",
              "            Plotly.purge(gd);\n",
              "            observer.disconnect();\n",
              "        }}\n",
              "}});\n",
              "\n",
              "// Listen for the removal of the full notebook cells\n",
              "var notebookContainer = gd.closest('#notebook-container');\n",
              "if (notebookContainer) {{\n",
              "    x.observe(notebookContainer, {childList: true});\n",
              "}}\n",
              "\n",
              "// Listen for the clearing of the current output cell\n",
              "var outputEl = gd.closest('.output');\n",
              "if (outputEl) {{\n",
              "    x.observe(outputEl, {childList: true});\n",
              "}}\n",
              "\n",
              "                        })                };                            </script>        </div>\n",
              "</body>\n",
              "</html>"
            ]
          },
          "metadata": {}
        }
      ]
    },
    {
      "cell_type": "code",
      "execution_count": 24,
      "id": "b5d49ac4",
      "metadata": {
        "id": "b5d49ac4",
        "colab": {
          "base_uri": "https://localhost:8080/",
          "height": 1000
        },
        "outputId": "b3ccfa5f-2909-4f56-871e-9d35e64d4f56"
      },
      "outputs": [
        {
          "output_type": "stream",
          "name": "stdout",
          "text": [
            "Fold number: 1, Training F1 Macro: 0.9994, Validation F1 Macro: 0.4402\n",
            "Fold number: 2, Training F1 Macro: 0.9999, Validation F1 Macro: 0.4490\n",
            "Fold number: 3, Training F1 Macro: 0.9998, Validation F1 Macro: 0.4363\n",
            "Fold number: 4, Training F1 Macro: 0.9993, Validation F1 Macro: 0.4461\n",
            "Fold number: 5, Training F1 Macro: 0.9996, Validation F1 Macro: 0.4584\n",
            "\n",
            "Classification Report:\n",
            "              precision    recall  f1-score   support\n",
            "\n",
            "     Class 0       0.57      0.62      0.60      5576\n",
            "     Class 1       0.36      0.08      0.13      1553\n",
            "     Class 2       0.71      0.84      0.77      7510\n",
            "     Class 3       0.45      0.21      0.28      1062\n",
            "\n",
            "    accuracy                           0.64     15701\n",
            "   macro avg       0.53      0.44      0.45     15701\n",
            "weighted avg       0.61      0.64      0.61     15701\n",
            "\n",
            "Confusion Matrix:\n"
          ]
        },
        {
          "output_type": "display_data",
          "data": {
            "text/plain": [
              "<Figure size 700x700 with 1 Axes>"
            ],
            "image/png": "[encoded data removed]"
          },
          "metadata": {}
        },
        {
          "output_type": "stream",
          "name": "stdout",
          "text": [
            "\n",
            "\n"
          ]
        }
      ],
      "source": [
        "params= trial.params\n",
        "best_model = XGBClassifier(random_state=42,\n",
        "                           num_class=4,\n",
        "                           n_jobs=-1,\n",
        "                           objective='multi:softmax',\n",
        "                           eval_metric='mlogloss',\n",
        "                           **params)\n",
        "\n",
        "pipeline = Pipeline([\n",
        "    ('classifier', best_model)\n",
        "])\n",
        "\n",
        "all_true_labels, all_predicted_labels= cross_validate_with_pipeline(pipeline,X_train_embeddings, y_train, n_splits=5)\n",
        "plot_confusion_matrix_and_report(all_true_labels, all_predicted_labels, class_labels=[0, 1, 2, 3])"
      ]
    },
    {
      "cell_type": "code",
      "source": [
        "# lets see if the base model was overfitting\n",
        "model = XGBClassifier(random_state=42,\n",
        "                           num_class=4,\n",
        "                           n_jobs=-1,\n",
        "                           objective='multi:softmax',\n",
        "                           eval_metric='mlogloss')\n",
        "\n",
        "pipeline = Pipeline([\n",
        "    ('classifier', model)\n",
        "])\n",
        "\n",
        "all_true_labels, all_predicted_labels= cross_validate_with_pipeline(pipeline,X_train_embeddings, y_train, n_splits=5)\n",
        "plot_confusion_matrix_and_report(all_true_labels, all_predicted_labels, class_labels=[0, 1, 2, 3])"
      ],
      "metadata": {
        "colab": {
          "base_uri": "https://localhost:8080/",
          "height": 1000
        },
        "id": "uCtwFSbUOj3f",
        "outputId": "39104772-50a6-46d9-983e-c9574a4a6fa8"
      },
      "id": "uCtwFSbUOj3f",
      "execution_count": 26,
      "outputs": [
        {
          "output_type": "stream",
          "name": "stdout",
          "text": [
            "Fold number: 1, Training F1 Macro: 0.9997, Validation F1 Macro: 0.4134\n",
            "Fold number: 2, Training F1 Macro: 0.9999, Validation F1 Macro: 0.4279\n",
            "Fold number: 3, Training F1 Macro: 1.0000, Validation F1 Macro: 0.3915\n",
            "Fold number: 4, Training F1 Macro: 0.9998, Validation F1 Macro: 0.4155\n",
            "Fold number: 5, Training F1 Macro: 0.9998, Validation F1 Macro: 0.4385\n",
            "\n",
            "Classification Report:\n",
            "              precision    recall  f1-score   support\n",
            "\n",
            "     Class 0       0.56      0.64      0.60      5576\n",
            "     Class 1       0.34      0.05      0.09      1553\n",
            "     Class 2       0.71      0.84      0.77      7510\n",
            "     Class 3       0.51      0.14      0.22      1062\n",
            "\n",
            "    accuracy                           0.64     15701\n",
            "   macro avg       0.53      0.42      0.42     15701\n",
            "weighted avg       0.61      0.64      0.60     15701\n",
            "\n",
            "Confusion Matrix:\n"
          ]
        },
        {
          "output_type": "display_data",
          "data": {
            "text/plain": [
              "<Figure size 700x700 with 1 Axes>"
            ],
            "image/png": "[encoded data removed]"
          },
          "metadata": {}
        },
        {
          "output_type": "stream",
          "name": "stdout",
          "text": [
            "\n",
            "\n"
          ]
        }
      ]
    },
    {
      "cell_type": "markdown",
      "source": [
        "<span style=\"color:white; font-size:18px;background-color:red\"> SMOTE + HT </span>  "
      ],
      "metadata": {
        "id": "6hzcgr_s6a62"
      },
      "id": "6hzcgr_s6a62"
    },
    {
      "cell_type": "code",
      "source": [
        "import os\n",
        "path = '/content/drive/MyDrive/MS DATA SCIENCE /TESE /optimização/new'\n",
        "database_filename = 'xgboost_w2v_smote.db'\n",
        "\n",
        "# Full path to the SQLite database file in Google Drive\n",
        "database_path = os.path.join(path, database_filename)\n",
        "\n",
        "# Set the SQLite database path to Google Drive path\n",
        "storage = optuna.storages.RDBStorage(url=f'sqlite:///{database_path}')"
      ],
      "metadata": {
        "id": "IihRAGnRM8kl"
      },
      "id": "IihRAGnRM8kl",
      "execution_count": 41,
      "outputs": []
    },
    {
      "cell_type": "code",
      "source": [
        "def objective(trial):\n",
        "  # Define the hyperparameter search space\n",
        "\n",
        "  new_params= {\n",
        "      'max_depth': trial.suggest_int('max_depth', 3, 12),\n",
        "      'eta': trial.suggest_loguniform('eta', 0.001, 0.3),\n",
        "      'subsample': trial.suggest_float('subsample', 0.5, 1.0),\n",
        "      'colsample_bytree': trial.suggest_float('colsample_bytree', 0.5, 1.0),\n",
        "      'min_child_weight': trial.suggest_int('min_child_weight', 1, 15),\n",
        "      'n_estimators': trial.suggest_int('n_estimators', 50, 400),\n",
        "      'gamma': trial.suggest_float('gamma', 0, 1),\n",
        "      'alpha': trial.suggest_float('alpha', 0, 10),  # L1 regularization term on weights\n",
        "      'lambda': trial.suggest_float('lambda', 0, 10) # L2\n",
        "      }\n",
        "\n",
        "  # Create and train the XGBoost classifier with the current set of hyperparameters\n",
        "  model = XGBClassifier(\n",
        "  random_state=42,\n",
        "  num_class=4,\n",
        "  n_jobs=-1,\n",
        "  objective='multi:softmax',\n",
        "  eval_metric='mlogloss',\n",
        "  **new_params)\n",
        "\n",
        "  smote=SMOTE(random_state=42, sampling_strategy='not majority')\n",
        "\n",
        "  pipeline = imblearn_Pipeline([\n",
        "    ('smote', smote),\n",
        "    ('classifier', model)\n",
        "    ])\n",
        "\n",
        "  kf = StratifiedKFold(n_splits=5, shuffle=True, random_state=42)\n",
        "\n",
        "  all_true_labels = []\n",
        "  all_predicted_labels = []\n",
        "\n",
        "  for fold, (train_index, val_index) in enumerate(kf.split(X_train_embeddings, y_train), start=1):\n",
        "      X_train_fold, X_val_fold = X_train_embeddings[train_index], X_train_embeddings[val_index]\n",
        "      y_train_fold, y_val_fold = y_train.iloc[train_index], y_train.iloc[val_index]\n",
        "\n",
        "      pipeline.fit(X_train_fold, y_train_fold)\n",
        "\n",
        "      y_pred_val = pipeline.predict(X_val_fold)\n",
        "\n",
        "      all_true_labels.extend(y_val_fold)\n",
        "      all_predicted_labels.extend(y_pred_val)\n",
        "\n",
        "  mean_f1_macro = f1_score(all_true_labels, all_predicted_labels, average='macro')\n",
        "  return mean_f1_macro"
      ],
      "metadata": {
        "id": "ajbtp2OUM-Zy"
      },
      "id": "ajbtp2OUM-Zy",
      "execution_count": 21,
      "outputs": []
    },
    {
      "cell_type": "code",
      "source": [
        "# create study\n",
        "study = optuna.create_study(storage=storage, direction='maximize', study_name='xgboost_w2v_smote',load_if_exists=True)\n",
        "study.optimize(objective, n_trials=50, n_jobs=-1)"
      ],
      "metadata": {
        "id": "EPyjGCBzGtF9"
      },
      "id": "EPyjGCBzGtF9",
      "execution_count": null,
      "outputs": []
    },
    {
      "cell_type": "code",
      "source": [
        "study = optuna.load_study(study_name='xgboost_w2v_smote', storage=storage)\n",
        "study.optimize(objective, n_trials=8, n_jobs=-1)"
      ],
      "metadata": {
        "id": "Oe8M02LRuQEA"
      },
      "id": "Oe8M02LRuQEA",
      "execution_count": null,
      "outputs": []
    },
    {
      "cell_type": "code",
      "source": [
        "study = optuna.load_study(study_name='xgboost_w2v_smote', storage=storage)\n",
        "trial = study.best_trial\n",
        "print('F1 score: {}'.format(trial.value))\n",
        "print(\"Best hyperparameters: {}\".format(trial.params))\n",
        "# Plot the optimization history\n",
        "import optuna.visualization as vis\n",
        "vis.plot_optimization_history(study)"
      ],
      "metadata": {
        "colab": {
          "base_uri": "https://localhost:8080/",
          "height": 597
        },
        "outputId": "47ff68cd-d821-43f1-bd7a-0562a7befdae",
        "id": "rR_1gbQqPS_m"
      },
      "execution_count": 42,
      "outputs": [
        {
          "output_type": "stream",
          "name": "stdout",
          "text": [
            "F1 score: 0.47521486754723\n",
            "Best hyperparameters: {'max_depth': 10, 'eta': 0.03955363908813046, 'subsample': 0.5114699411652318, 'colsample_bytree': 0.6188810873360917, 'min_child_weight': 13, 'n_estimators': 368, 'gamma': 0.8985911874456681, 'alpha': 4.819542720018013, 'lambda': 9.415784331472251}\n"
          ]
        },
        {
          "output_type": "display_data",
          "data": {
            "text/html": [
              "<html>\n",
              "<head><meta charset=\"utf-8\" /></head>\n",
              "<body>\n",
              "    <div>            <script src=\"https://cdnjs.cloudflare.com/ajax/libs/mathjax/2.7.5/MathJax.js?config=TeX-AMS-MML_SVG\"></script><script type=\"text/javascript\">if (window.MathJax && window.MathJax.Hub && window.MathJax.Hub.Config) {window.MathJax.Hub.Config({SVG: {font: \"STIX-Web\"}});}</script>                <script type=\"text/javascript\">window.PlotlyConfig = {MathJaxConfig: 'local'};</script>\n",
              "        <script charset=\"utf-8\" src=\"https://cdn.plot.ly/plotly-2.24.1.min.js\"></script>                <div id=\"0433ecec-e3c8-4dad-9284-0ce88967ceac\" class=\"plotly-graph-div\" style=\"height:525px; width:100%;\"></div>            <script type=\"text/javascript\">                                    window.PLOTLYENV=window.PLOTLYENV || {};                                    if (document.getElementById(\"0433ecec-e3c8-4dad-9284-0ce88967ceac\")) {                    Plotly.newPlot(                        \"0433ecec-e3c8-4dad-9284-0ce88967ceac\",                        [{\"mode\":\"markers\",\"name\":\"Objective Value\",\"x\":[3,5,6,11,12,13,14,15,16,17,18,19,20,21,22,23,24,25,26,27,28,29,36],\"y\":[0.4526555534227163,0.4310328855720864,0.4581009555734189,0.474496391717792,0.471183256335577,0.44272960367336767,0.47083465791225965,0.4604460772396735,0.4747070365660007,0.4261102140055537,0.44786779986139,0.45111063320782263,0.4628150719272478,0.47521486754723,0.47421988203887583,0.4451109651378212,0.4667303633045057,0.4627914267715631,0.4677933342718768,0.4697622603206416,0.46873434606946207,0.46350135807522014,0.47279008431777797],\"type\":\"scatter\"},{\"mode\":\"lines\",\"name\":\"Best Value\",\"x\":[0,1,2,3,4,5,6,7,8,9,10,11,12,13,14,15,16,17,18,19,20,21,22,23,24,25,26,27,28,29,30,31,32,33,34,35,36,37,38,39,40,41,42,43,44,45,46],\"y\":[null,null,null,0.4526555534227163,0.4526555534227163,0.4526555534227163,0.4581009555734189,0.4581009555734189,0.4581009555734189,0.4581009555734189,0.4581009555734189,0.474496391717792,0.474496391717792,0.474496391717792,0.474496391717792,0.474496391717792,0.4747070365660007,0.4747070365660007,0.4747070365660007,0.4747070365660007,0.4747070365660007,0.47521486754723,0.47521486754723,0.47521486754723,0.47521486754723,0.47521486754723,0.47521486754723,0.47521486754723,0.47521486754723,0.47521486754723,0.47521486754723,0.47521486754723,0.47521486754723,0.47521486754723,0.47521486754723,0.47521486754723,0.47521486754723,0.47521486754723,0.47521486754723,0.47521486754723,0.47521486754723,0.47521486754723,0.47521486754723,0.47521486754723,0.47521486754723,0.47521486754723,0.47521486754723],\"type\":\"scatter\"},{\"marker\":{\"color\":\"#cccccc\"},\"mode\":\"markers\",\"name\":\"Infeasible Trial\",\"showlegend\":false,\"x\":[],\"y\":[],\"type\":\"scatter\"}],                        {\"title\":{\"text\":\"Optimization History Plot\"},\"xaxis\":{\"title\":{\"text\":\"Trial\"}},\"yaxis\":{\"title\":{\"text\":\"Objective Value\"}},\"template\":{\"data\":{\"histogram2dcontour\":[{\"type\":\"histogram2dcontour\",\"colorbar\":{\"outlinewidth\":0,\"ticks\":\"\"},\"colorscale\":[[0.0,\"#0d0887\"],[0.1111111111111111,\"#46039f\"],[0.2222222222222222,\"#7201a8\"],[0.3333333333333333,\"#9c179e\"],[0.4444444444444444,\"#bd3786\"],[0.5555555555555556,\"#d8576b\"],[0.6666666666666666,\"#ed7953\"],[0.7777777777777778,\"#fb9f3a\"],[0.8888888888888888,\"#fdca26\"],[1.0,\"#f0f921\"]]}],\"choropleth\":[{\"type\":\"choropleth\",\"colorbar\":{\"outlinewidth\":0,\"ticks\":\"\"}}],\"histogram2d\":[{\"type\":\"histogram2d\",\"colorbar\":{\"outlinewidth\":0,\"ticks\":\"\"},\"colorscale\":[[0.0,\"#0d0887\"],[0.1111111111111111,\"#46039f\"],[0.2222222222222222,\"#7201a8\"],[0.3333333333333333,\"#9c179e\"],[0.4444444444444444,\"#bd3786\"],[0.5555555555555556,\"#d8576b\"],[0.6666666666666666,\"#ed7953\"],[0.7777777777777778,\"#fb9f3a\"],[0.8888888888888888,\"#fdca26\"],[1.0,\"#f0f921\"]]}],\"heatmap\":[{\"type\":\"heatmap\",\"colorbar\":{\"outlinewidth\":0,\"ticks\":\"\"},\"colorscale\":[[0.0,\"#0d0887\"],[0.1111111111111111,\"#46039f\"],[0.2222222222222222,\"#7201a8\"],[0.3333333333333333,\"#9c179e\"],[0.4444444444444444,\"#bd3786\"],[0.5555555555555556,\"#d8576b\"],[0.6666666666666666,\"#ed7953\"],[0.7777777777777778,\"#fb9f3a\"],[0.8888888888888888,\"#fdca26\"],[1.0,\"#f0f921\"]]}],\"heatmapgl\":[{\"type\":\"heatmapgl\",\"colorbar\":{\"outlinewidth\":0,\"ticks\":\"\"},\"colorscale\":[[0.0,\"#0d0887\"],[0.1111111111111111,\"#46039f\"],[0.2222222222222222,\"#7201a8\"],[0.3333333333333333,\"#9c179e\"],[0.4444444444444444,\"#bd3786\"],[0.5555555555555556,\"#d8576b\"],[0.6666666666666666,\"#ed7953\"],[0.7777777777777778,\"#fb9f3a\"],[0.8888888888888888,\"#fdca26\"],[1.0,\"#f0f921\"]]}],\"contourcarpet\":[{\"type\":\"contourcarpet\",\"colorbar\":{\"outlinewidth\":0,\"ticks\":\"\"}}],\"contour\":[{\"type\":\"contour\",\"colorbar\":{\"outlinewidth\":0,\"ticks\":\"\"},\"colorscale\":[[0.0,\"#0d0887\"],[0.1111111111111111,\"#46039f\"],[0.2222222222222222,\"#7201a8\"],[0.3333333333333333,\"#9c179e\"],[0.4444444444444444,\"#bd3786\"],[0.5555555555555556,\"#d8576b\"],[0.6666666666666666,\"#ed7953\"],[0.7777777777777778,\"#fb9f3a\"],[0.8888888888888888,\"#fdca26\"],[1.0,\"#f0f921\"]]}],\"surface\":[{\"type\":\"surface\",\"colorbar\":{\"outlinewidth\":0,\"ticks\":\"\"},\"colorscale\":[[0.0,\"#0d0887\"],[0.1111111111111111,\"#46039f\"],[0.2222222222222222,\"#7201a8\"],[0.3333333333333333,\"#9c179e\"],[0.4444444444444444,\"#bd3786\"],[0.5555555555555556,\"#d8576b\"],[0.6666666666666666,\"#ed7953\"],[0.7777777777777778,\"#fb9f3a\"],[0.8888888888888888,\"#fdca26\"],[1.0,\"#f0f921\"]]}],\"mesh3d\":[{\"type\":\"mesh3d\",\"colorbar\":{\"outlinewidth\":0,\"ticks\":\"\"}}],\"scatter\":[{\"fillpattern\":{\"fillmode\":\"overlay\",\"size\":10,\"solidity\":0.2},\"type\":\"scatter\"}],\"parcoords\":[{\"type\":\"parcoords\",\"line\":{\"colorbar\":{\"outlinewidth\":0,\"ticks\":\"\"}}}],\"scatterpolargl\":[{\"type\":\"scatterpolargl\",\"marker\":{\"colorbar\":{\"outlinewidth\":0,\"ticks\":\"\"}}}],\"bar\":[{\"error_x\":{\"color\":\"#2a3f5f\"},\"error_y\":{\"color\":\"#2a3f5f\"},\"marker\":{\"line\":{\"color\":\"#E5ECF6\",\"width\":0.5},\"pattern\":{\"fillmode\":\"overlay\",\"size\":10,\"solidity\":0.2}},\"type\":\"bar\"}],\"scattergeo\":[{\"type\":\"scattergeo\",\"marker\":{\"colorbar\":{\"outlinewidth\":0,\"ticks\":\"\"}}}],\"scatterpolar\":[{\"type\":\"scatterpolar\",\"marker\":{\"colorbar\":{\"outlinewidth\":0,\"ticks\":\"\"}}}],\"histogram\":[{\"marker\":{\"pattern\":{\"fillmode\":\"overlay\",\"size\":10,\"solidity\":0.2}},\"type\":\"histogram\"}],\"scattergl\":[{\"type\":\"scattergl\",\"marker\":{\"colorbar\":{\"outlinewidth\":0,\"ticks\":\"\"}}}],\"scatter3d\":[{\"type\":\"scatter3d\",\"line\":{\"colorbar\":{\"outlinewidth\":0,\"ticks\":\"\"}},\"marker\":{\"colorbar\":{\"outlinewidth\":0,\"ticks\":\"\"}}}],\"scattermapbox\":[{\"type\":\"scattermapbox\",\"marker\":{\"colorbar\":{\"outlinewidth\":0,\"ticks\":\"\"}}}],\"scatterternary\":[{\"type\":\"scatterternary\",\"marker\":{\"colorbar\":{\"outlinewidth\":0,\"ticks\":\"\"}}}],\"scattercarpet\":[{\"type\":\"scattercarpet\",\"marker\":{\"colorbar\":{\"outlinewidth\":0,\"ticks\":\"\"}}}],\"carpet\":[{\"aaxis\":{\"endlinecolor\":\"#2a3f5f\",\"gridcolor\":\"white\",\"linecolor\":\"white\",\"minorgridcolor\":\"white\",\"startlinecolor\":\"#2a3f5f\"},\"baxis\":{\"endlinecolor\":\"#2a3f5f\",\"gridcolor\":\"white\",\"linecolor\":\"white\",\"minorgridcolor\":\"white\",\"startlinecolor\":\"#2a3f5f\"},\"type\":\"carpet\"}],\"table\":[{\"cells\":{\"fill\":{\"color\":\"#EBF0F8\"},\"line\":{\"color\":\"white\"}},\"header\":{\"fill\":{\"color\":\"#C8D4E3\"},\"line\":{\"color\":\"white\"}},\"type\":\"table\"}],\"barpolar\":[{\"marker\":{\"line\":{\"color\":\"#E5ECF6\",\"width\":0.5},\"pattern\":{\"fillmode\":\"overlay\",\"size\":10,\"solidity\":0.2}},\"type\":\"barpolar\"}],\"pie\":[{\"automargin\":true,\"type\":\"pie\"}]},\"layout\":{\"autotypenumbers\":\"strict\",\"colorway\":[\"#636efa\",\"#EF553B\",\"#00cc96\",\"#ab63fa\",\"#FFA15A\",\"#19d3f3\",\"#FF6692\",\"#B6E880\",\"#FF97FF\",\"#FECB52\"],\"font\":{\"color\":\"#2a3f5f\"},\"hovermode\":\"closest\",\"hoverlabel\":{\"align\":\"left\"},\"paper_bgcolor\":\"white\",\"plot_bgcolor\":\"#E5ECF6\",\"polar\":{\"bgcolor\":\"#E5ECF6\",\"angularaxis\":{\"gridcolor\":\"white\",\"linecolor\":\"white\",\"ticks\":\"\"},\"radialaxis\":{\"gridcolor\":\"white\",\"linecolor\":\"white\",\"ticks\":\"\"}},\"ternary\":{\"bgcolor\":\"#E5ECF6\",\"aaxis\":{\"gridcolor\":\"white\",\"linecolor\":\"white\",\"ticks\":\"\"},\"baxis\":{\"gridcolor\":\"white\",\"linecolor\":\"white\",\"ticks\":\"\"},\"caxis\":{\"gridcolor\":\"white\",\"linecolor\":\"white\",\"ticks\":\"\"}},\"coloraxis\":{\"colorbar\":{\"outlinewidth\":0,\"ticks\":\"\"}},\"colorscale\":{\"sequential\":[[0.0,\"#0d0887\"],[0.1111111111111111,\"#46039f\"],[0.2222222222222222,\"#7201a8\"],[0.3333333333333333,\"#9c179e\"],[0.4444444444444444,\"#bd3786\"],[0.5555555555555556,\"#d8576b\"],[0.6666666666666666,\"#ed7953\"],[0.7777777777777778,\"#fb9f3a\"],[0.8888888888888888,\"#fdca26\"],[1.0,\"#f0f921\"]],\"sequentialminus\":[[0.0,\"#0d0887\"],[0.1111111111111111,\"#46039f\"],[0.2222222222222222,\"#7201a8\"],[0.3333333333333333,\"#9c179e\"],[0.4444444444444444,\"#bd3786\"],[0.5555555555555556,\"#d8576b\"],[0.6666666666666666,\"#ed7953\"],[0.7777777777777778,\"#fb9f3a\"],[0.8888888888888888,\"#fdca26\"],[1.0,\"#f0f921\"]],\"diverging\":[[0,\"#8e0152\"],[0.1,\"#c51b7d\"],[0.2,\"#de77ae\"],[0.3,\"#f1b6da\"],[0.4,\"#fde0ef\"],[0.5,\"#f7f7f7\"],[0.6,\"#e6f5d0\"],[0.7,\"#b8e186\"],[0.8,\"#7fbc41\"],[0.9,\"#4d9221\"],[1,\"#276419\"]]},\"xaxis\":{\"gridcolor\":\"white\",\"linecolor\":\"white\",\"ticks\":\"\",\"title\":{\"standoff\":15},\"zerolinecolor\":\"white\",\"automargin\":true,\"zerolinewidth\":2},\"yaxis\":{\"gridcolor\":\"white\",\"linecolor\":\"white\",\"ticks\":\"\",\"title\":{\"standoff\":15},\"zerolinecolor\":\"white\",\"automargin\":true,\"zerolinewidth\":2},\"scene\":{\"xaxis\":{\"backgroundcolor\":\"#E5ECF6\",\"gridcolor\":\"white\",\"linecolor\":\"white\",\"showbackground\":true,\"ticks\":\"\",\"zerolinecolor\":\"white\",\"gridwidth\":2},\"yaxis\":{\"backgroundcolor\":\"#E5ECF6\",\"gridcolor\":\"white\",\"linecolor\":\"white\",\"showbackground\":true,\"ticks\":\"\",\"zerolinecolor\":\"white\",\"gridwidth\":2},\"zaxis\":{\"backgroundcolor\":\"#E5ECF6\",\"gridcolor\":\"white\",\"linecolor\":\"white\",\"showbackground\":true,\"ticks\":\"\",\"zerolinecolor\":\"white\",\"gridwidth\":2}},\"shapedefaults\":{\"line\":{\"color\":\"#2a3f5f\"}},\"annotationdefaults\":{\"arrowcolor\":\"#2a3f5f\",\"arrowhead\":0,\"arrowwidth\":1},\"geo\":{\"bgcolor\":\"white\",\"landcolor\":\"#E5ECF6\",\"subunitcolor\":\"white\",\"showland\":true,\"showlakes\":true,\"lakecolor\":\"white\"},\"title\":{\"x\":0.05},\"mapbox\":{\"style\":\"light\"}}}},                        {\"responsive\": true}                    ).then(function(){\n",
              "                            \n",
              "var gd = document.getElementById('0433ecec-e3c8-4dad-9284-0ce88967ceac');\n",
              "var x = new MutationObserver(function (mutations, observer) {{\n",
              "        var display = window.getComputedStyle(gd).display;\n",
              "        if (!display || display === 'none') {{\n",
              "            console.log([gd, 'removed!']);\n",
              "            Plotly.purge(gd);\n",
              "            observer.disconnect();\n",
              "        }}\n",
              "}});\n",
              "\n",
              "// Listen for the removal of the full notebook cells\n",
              "var notebookContainer = gd.closest('#notebook-container');\n",
              "if (notebookContainer) {{\n",
              "    x.observe(notebookContainer, {childList: true});\n",
              "}}\n",
              "\n",
              "// Listen for the clearing of the current output cell\n",
              "var outputEl = gd.closest('.output');\n",
              "if (outputEl) {{\n",
              "    x.observe(outputEl, {childList: true});\n",
              "}}\n",
              "\n",
              "                        })                };                            </script>        </div>\n",
              "</body>\n",
              "</html>"
            ]
          },
          "metadata": {}
        }
      ],
      "id": "rR_1gbQqPS_m"
    },
    {
      "cell_type": "code",
      "source": [
        "params= trial.params\n",
        "best_model = XGBClassifier(random_state=42,\n",
        "                           num_class=4,\n",
        "                           n_jobs=-1,\n",
        "                           objective='multi:softmax',\n",
        "                           eval_metric='mlogloss',\n",
        "                           **params)\n",
        "\n",
        "smote=SMOTE(random_state=42, sampling_strategy='not majority')\n",
        "pipeline = imblearn_Pipeline([\n",
        "    ('smote', smote),\n",
        "    ('classifier', best_model)\n",
        "    ])\n",
        "\n",
        "all_true_labels, all_predicted_labels= cross_validate_with_pipeline(pipeline,X_train_embeddings, y_train, n_splits=5)\n",
        "plot_confusion_matrix_and_report(all_true_labels, all_predicted_labels, class_labels=[0, 1, 2, 3])"
      ],
      "metadata": {
        "colab": {
          "base_uri": "https://localhost:8080/",
          "height": 1000
        },
        "id": "BSa3BlanQgND",
        "outputId": "157cb70c-2675-4fee-c458-79b29cc2fb6a"
      },
      "id": "BSa3BlanQgND",
      "execution_count": 45,
      "outputs": [
        {
          "output_type": "stream",
          "name": "stdout",
          "text": [
            "Fold number: 1, Training F1 Macro: 0.9649, Validation F1 Macro: 0.4667\n",
            "Fold number: 2, Training F1 Macro: 0.9659, Validation F1 Macro: 0.4744\n",
            "Fold number: 3, Training F1 Macro: 0.9651, Validation F1 Macro: 0.4750\n",
            "Fold number: 4, Training F1 Macro: 0.9690, Validation F1 Macro: 0.4754\n",
            "Fold number: 5, Training F1 Macro: 0.9658, Validation F1 Macro: 0.4847\n",
            "\n",
            "Classification Report:\n",
            "              precision    recall  f1-score   support\n",
            "\n",
            "     Class 0       0.58      0.57      0.57      5576\n",
            "     Class 1       0.27      0.16      0.20      1553\n",
            "     Class 2       0.73      0.81      0.77      7510\n",
            "     Class 3       0.37      0.34      0.36      1062\n",
            "\n",
            "    accuracy                           0.63     15701\n",
            "   macro avg       0.49      0.47      0.48     15701\n",
            "weighted avg       0.61      0.63      0.62     15701\n",
            "\n",
            "Confusion Matrix:\n"
          ]
        },
        {
          "output_type": "display_data",
          "data": {
            "text/plain": [
              "<Figure size 700x700 with 1 Axes>"
            ],
            "image/png": "[encoded data removed]"
          },
          "metadata": {}
        },
        {
          "output_type": "stream",
          "name": "stdout",
          "text": [
            "\n",
            "\n"
          ]
        }
      ]
    },
    {
      "cell_type": "markdown",
      "source": [
        "<span style=\"color:white; font-size:18px;background-color:red\"> Class Weighting + SMOTE + HT </span>  "
      ],
      "metadata": {
        "id": "9r_oeK4AFpdQ"
      },
      "id": "9r_oeK4AFpdQ"
    },
    {
      "cell_type": "code",
      "execution_count": 18,
      "id": "bba99c44",
      "metadata": {
        "id": "bba99c44"
      },
      "outputs": [],
      "source": [
        "def BalancedSampleWeights(y_train,class_weight_coef):\n",
        "    class_weight_dict = {\n",
        "    0: len(y_train) / (4 * sum(y_train == 0)),\n",
        "    1: len(y_train) / (4 * sum(y_train == 1)),\n",
        "    2: len(y_train) / (4 * sum(y_train == 2)),\n",
        "    3: len(y_train) / (4 * sum(y_train == 3))\n",
        "}\n",
        "    class_weight_dict = {key: value * class_weight_coef for key, value in class_weight_dict.items()}\n",
        "    sample_weights = [class_weight_dict[i] for i in y_train]\n",
        "    return sample_weights"
      ]
    },
    {
      "cell_type": "code",
      "source": [
        "# Initialize SMOTE\n",
        "smote = SMOTE(random_state=42, sampling_strategy='not majority')\n",
        "\n",
        "params= {'max_depth': 10, 'eta': 0.03955363908813046, 'subsample': 0.5114699411652318,\n",
        "         'colsample_bytree': 0.6188810873360917, 'min_child_weight': 13, 'n_estimators': 368,\n",
        "         'gamma': 0.8985911874456681, 'alpha': 4.819542720018013, 'lambda': 9.415784331472251}\n",
        "\n",
        "# Initialize XGBoost classifier\n",
        "model = XGBClassifier(\n",
        "    random_state=42,\n",
        "    num_class=4,\n",
        "    n_jobs=-1,\n",
        "    objective='multi:softmax',\n",
        "    eval_metric='mlogloss',\n",
        "    **params\n",
        ")\n",
        "\n",
        "kf = StratifiedKFold(n_splits=5, shuffle=True, random_state=42)\n",
        "\n",
        "all_true_labels = []\n",
        "all_predicted_labels = []\n",
        "\n",
        "for fold, (train_index, val_index) in enumerate(kf.split(X_train_embeddings, y_train), start=1):\n",
        "    X_train_fold, X_val_fold = X_train_embeddings[train_index], X_train_embeddings[val_index]\n",
        "    y_train_fold, y_val_fold = y_train.iloc[train_index], y_train.iloc[val_index]\n",
        "\n",
        "    # Apply SMOTE to the training fold\n",
        "    X_train_resampled, y_train_resampled = smote.fit_resample(X_train_fold, y_train_fold)\n",
        "\n",
        "    # Calculate class weights for the training fold\n",
        "    class_weights = BalancedSampleWeights(y_train_resampled,1)\n",
        "\n",
        "    # Train the XGBoost classifier with sample weights\n",
        "    model.fit(X_train_resampled, y_train_resampled, sample_weight=class_weights)\n",
        "\n",
        "    y_pred_train = model.predict(X_train_fold)\n",
        "    y_pred_val = model.predict(X_val_fold)\n",
        "\n",
        "    training_f1_macro = f1_score(y_train_fold, y_pred_train, average='macro')\n",
        "    validation_f1_macro = f1_score(y_val_fold, y_pred_val, average='macro')\n",
        "\n",
        "    print(f\"Fold number: {fold}, Training F1 Macro: {training_f1_macro:.4f}, Validation F1 Macro: {validation_f1_macro:.4f}\")\n",
        "\n",
        "    all_true_labels.extend(y_val_fold)\n",
        "    all_predicted_labels.extend(y_pred_val)\n",
        "\n",
        "plot_confusion_matrix_and_report(all_true_labels, all_predicted_labels, class_labels=[0, 1, 2, 3])\n"
      ],
      "metadata": {
        "colab": {
          "base_uri": "https://localhost:8080/",
          "height": 1000
        },
        "id": "3-1U2kTiUCje",
        "outputId": "0215512e-12e5-4e85-fe44-0a112fbf1554"
      },
      "id": "3-1U2kTiUCje",
      "execution_count": 24,
      "outputs": [
        {
          "output_type": "stream",
          "name": "stdout",
          "text": [
            "Fold number: 1, Training F1 Macro: 0.9649, Validation F1 Macro: 0.4667\n",
            "Fold number: 2, Training F1 Macro: 0.9659, Validation F1 Macro: 0.4744\n",
            "Fold number: 3, Training F1 Macro: 0.9651, Validation F1 Macro: 0.4750\n",
            "Fold number: 4, Training F1 Macro: 0.9690, Validation F1 Macro: 0.4754\n",
            "Fold number: 5, Training F1 Macro: 0.9658, Validation F1 Macro: 0.4847\n",
            "\n",
            "Classification Report:\n",
            "              precision    recall  f1-score   support\n",
            "\n",
            "     Class 0       0.58      0.57      0.57      5576\n",
            "     Class 1       0.27      0.16      0.20      1553\n",
            "     Class 2       0.73      0.81      0.77      7510\n",
            "     Class 3       0.37      0.34      0.36      1062\n",
            "\n",
            "    accuracy                           0.63     15701\n",
            "   macro avg       0.49      0.47      0.48     15701\n",
            "weighted avg       0.61      0.63      0.62     15701\n",
            "\n",
            "Confusion Matrix:\n"
          ]
        },
        {
          "output_type": "display_data",
          "data": {
            "text/plain": [
              "<Figure size 700x700 with 1 Axes>"
            ],
            "image/png": "[encoded data removed]"
          },
          "metadata": {}
        },
        {
          "output_type": "stream",
          "name": "stdout",
          "text": [
            "\n",
            "\n"
          ]
        }
      ]
    }
  ],
  "metadata": {
    "kernelspec": {
      "display_name": "Python 3",
      "name": "python3"
    },
    "language_info": {
      "name": "python"
    },
    "colab": {
      "provenance": [],
      "machine_shape": "hm"
    }
  },
  "nbformat": 4,
  "nbformat_minor": 5
}