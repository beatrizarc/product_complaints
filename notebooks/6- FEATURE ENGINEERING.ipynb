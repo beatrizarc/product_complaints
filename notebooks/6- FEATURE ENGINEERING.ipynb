{
 "cells": [
  {
   "cell_type": "markdown",
   "id": "7504f842",
   "metadata": {},
   "source": [
    "Previously, I concluded that 'title' feature improves the performance of the model, so it is best to compare the performance of the model with and without the 'keywords' feature using the same set of features, i.e., 'description' plus 'title'. This would allow you to isolate the impact of the 'keywords' feature on the performance of the model, while controlling for the effects of the 'description' and 'title' features. The same applies to the other features.\n",
    "\n",
    "\n",
    "1. keywords  \n",
    "\n",
    "\n",
    "2. NER: locations and company names  \n",
    " \n",
    " \n",
    "3. type of delivery service (correio Normal, Correio Azul, Correio Registado, Correio Verde, Encomenda Postal, correio prioritário)\n",
    "or the specific products being delivered (carta, encomenda, )\n",
    "\n",
    "\n",
    "4. events (Text2Story)  \n",
    "\n",
    "\"CountVectorizer is a good choice when the absolute counts of words are important, such as in sentiment analysis or spam detection. On the other hand, TF-IDFVectorizer is better for tasks where the importance of a word in a document is related to its frequency across all documents, such as text classification or information retrieval.\"  "
   ]
  },
  {
   "cell_type": "code",
   "execution_count": 1,
   "id": "b0f0f722",
   "metadata": {},
   "outputs": [],
   "source": [
    "# env1\n",
    "import nltk\n",
    "import re\n",
    "import numpy as np\n",
    "import pandas as pd\n",
    "import matplotlib.pyplot as plt\n",
    "from collections import Counter\n",
    "import spacy\n",
    "import yake\n",
    "nlp = spacy.load('pt_core_news_lg')\n",
    "from langdetect import detect\n",
    "from sklearn.model_selection import train_test_split\n",
    "from sklearn.feature_extraction.text import TfidfVectorizer, CountVectorizer\n",
    "from sklearn.tree import DecisionTreeClassifier\n",
    "from sklearn.ensemble import GradientBoostingClassifier\n",
    "from xgboost import XGBClassifier\n",
    "from sklearn.neighbors import KNeighborsClassifier\n",
    "from sklearn.svm import LinearSVC\n",
    "from sklearn.ensemble import RandomForestClassifier\n",
    "from sklearn.naive_bayes import MultinomialNB\n",
    "from scipy.sparse import hstack\n",
    "from sklearn.metrics import classification_report, confusion_matrix\n",
    "from sklearn.metrics import accuracy_score, f1_score, precision_score, recall_score\n",
    "from sklearn.pipeline import Pipeline, FeatureUnion"
   ]
  },
  {
   "cell_type": "code",
   "execution_count": 12,
   "id": "a870c5a4",
   "metadata": {},
   "outputs": [
    {
     "name": "stderr",
     "output_type": "stream",
     "text": [
      "error loading _jsonnet (this is expected on Windows), treating D:\\MS DATA SCIENCE\\NLP TESE\\envs\\env3\\lib\\site-packages\\text2story\\annotators\\ALLENNLP\\cache\\srl-pt_bertimbau-base\\config.json as plain json\n"
     ]
    }
   ],
   "source": [
    "# env3\n",
    "import text2story as t2s\n",
    "import pandas as pd\n",
    "t2s.start('pt')\n",
    "import spacy\n",
    "spacy.load('pt_core_news_lg')\n",
    "from text2story.experiments.evaluation import *"
   ]
  },
  {
   "cell_type": "code",
   "execution_count": 2,
   "id": "f39bb2b2",
   "metadata": {},
   "outputs": [],
   "source": [
    "# Load the data\n",
    "df = pd.read_csv(\"D:\\\\MS DATA SCIENCE\\\\NLP TESE\\\\data\\\\data_processed_selected.csv\")"
   ]
  },
  {
   "cell_type": "code",
   "execution_count": 3,
   "id": "5f57404e",
   "metadata": {},
   "outputs": [
    {
     "data": {
      "text/plain": [
       "Index(['date', 'title', 'reason', 'description', 'zone', 'narrative_tfidf',\n",
       "       'narrative_embeddings', 'narrative_bert', 'narrative_tfidf_title',\n",
       "       'narrative_bert_title', 'narrative_embeddings_title', 'tfidf_title',\n",
       "       'title_tfidf_nolemma', 'events', 'keywords', 'embeddings_title',\n",
       "       'tfidf_keywords', 'embeddings_keywords', 'events_clean',\n",
       "       'results_final', 'events_tfidf', 'events_embeddings', 'orgs', 'locs',\n",
       "       'entities'],\n",
       "      dtype='object')"
      ]
     },
     "execution_count": 3,
     "metadata": {},
     "output_type": "execute_result"
    }
   ],
   "source": [
    "df.columns"
   ]
  },
  {
   "cell_type": "code",
   "execution_count": null,
   "id": "6dd80f7b",
   "metadata": {},
   "outputs": [],
   "source": [
    "# # legenda\n",
    "# reason_dict ={'Mau Serviço Prestado': 0, 'Condições de entrega': 1, 'Atraso de entrega': 2, \n",
    "#                'Enganos': 3}"
   ]
  },
  {
   "cell_type": "markdown",
   "id": "7ca8fb51",
   "metadata": {},
   "source": [
    "I'm going to use narrative_bert to extract the following features. The package code is interfering with NER results so I'm going to replace them with ''."
   ]
  },
  {
   "cell_type": "markdown",
   "id": "f448f705",
   "metadata": {},
   "source": [
    "## some extra processing"
   ]
  },
  {
   "cell_type": "code",
   "execution_count": 16,
   "id": "1bad46f5",
   "metadata": {},
   "outputs": [
    {
     "data": {
      "text/plain": [
       "'Estou com inúmeros envios para o Brasil, parados em Lisboa desde o início de dezembro de 2017. Faço ENVIO AZUL pela rapidez e sem sucesso. Registro reclamação no site do CTT e é sempre aquela resposta copiada e colada para tudo. E não resolvem nada e nem satisfação dão! Tive um envio no qual a destinatária se mudou de endereço e só chegou ao BR hoje (29/01). Estou pagando por um serviço que não está sendo prestado. Vou listar abaixo os envios com data, código de rastreio e valores. Envio 04/12/2017 Código de Rastreio: LL 0609 9748 1 PT Valor do Envio: € 24,20 Status: Em Lisboa até hoje  Envio 04/12/2017 Código de Rastreio: LL 0609 9749 5 PT Valor do Envio: € 16,50 Status: Em Lisboa até hoje  Envio 18/12/2017 Código de Rastreio: LL 0609 9770 8 PT Valor do Envio: € 5,10 Status: Chegou só hoje no Brasil (29/01) e não vai chegar nas mãos de minha destinatária, pois ela está se mudando de Estado.  Envio 10/01/2018 Código de Rastreio: LL 0609 9809 3 PT Valor do Envio: € 9,00 Status: Em Lisboa até hoje  Envio 10/01/2018 Código de Rastreio: LL 0609 9822 1 PT Valor do Envio: € 16,50 Status: Em Lisboa até hoje  Envio 10/01/2018 Código de Rastreio: LL 0609 9810 2 PT Valor do Envio: € 9,00 Status: Em Lisboa até hoje  Envio 10/01/2018 Código de Rastreio: LL 0609 9822 1 PT Valor do Envio: € 16,50 Status: Em Lisboa até hoje  Envio 10/01/2018 Código de Rastreio: LL 0609 9821 8 PT Valor do Envio: € 16,50 Status: Em Lisboa até hoje  Envio 12/01/2018 Código de Rastreio: LL 0609 9818 1 PT Valor do Envio: € 3,90 Status: Em Lisboa até hoje  Envio 19/01/2018 Código de Rastreio: LL 0609 9835 4 PT Valor do Envio: € 9,00 Status: Em Lisboa até hoje Foram gastos € 109,70 para ter dor de cabeça. E pior, não ter a encomenda enviada (Serviço pelo qual paguei e muito bem). Quero solução e não desculpas! '"
      ]
     },
     "execution_count": 16,
     "metadata": {},
     "output_type": "execute_result"
    }
   ],
   "source": [
    "# Define regular expression pattern to remove\n",
    "pattern = r'_'\n",
    "# Use the 'replace()' method with the regular expression pattern to remove the string pattern from all rows\n",
    "df['narrative_bert'] = df['narrative_bert'].replace(to_replace=pattern, value='', regex=True)\n",
    "df['narrative_bert'].iloc[6306]"
   ]
  },
  {
   "cell_type": "code",
   "execution_count": 20,
   "id": "aa6ce1c7",
   "metadata": {},
   "outputs": [
    {
     "data": {
      "text/plain": [
       "'Bom dia venho por este meio apresentar uma reclamação aos CTT. Enviei uma encomenda cujo conteúdo era uma figura de resina artesanal. O envio foi destinado a um amigo de Israel. O envio foi feito no dia 2021-09-09 no posto de ctt da Aboboda. Código:  O envio estava muito bem ambalado e protegido, tinha uma segunda caixa onde estava a figura protegita com muito papel bolha e esponjas. Infelizmente o meu amigo recebeu uma caixa que chegou quase destruida, figura partida, e chegou passado um mês. Mas aqui vão os problemas todos: Levou muito tempo a chegar A caixa chegou destruida A caixa tinha sido aberta e tinha as etiquetas mudadas A caixa tinha um segundo nome de remetente português e um novo remetente em Israel. Pior: A figura chegou danificada e partida, sem concerto. Nas fotos envidas tinha uma etiqueta com novo tracking number alterado e com remetente novo de Braga e destino para outra senhora, que nem sei quem é. Tracking tinha um 6 em vez do 5 anterior no final. Gostaria mesmo de um esclarecimento em relação a isto. Irei escrever quantas reclamações forem necessárias até ter uma justificação. Esta encomenda partida foi desastroso para mim e para os meus projetos. Espero pelo menos ter o meu dinheiro de volta, nem que seja o shipping ou o valor da mesma que foi 55 euros , tive que os desvolver. Obrigado Cumprimentos. '"
      ]
     },
     "execution_count": 20,
     "metadata": {},
     "output_type": "execute_result"
    }
   ],
   "source": [
    "# Define regular expression pattern to remove\n",
    "pattern = r\"\\b[A-Z]{2}\\d{9}[A-Z]{2}\\b\"\n",
    "# Use the 'replace()' method with the regular expression pattern to remove the string pattern from all rows\n",
    "df['narrative_bert'] = df['narrative_bert'].replace(to_replace=pattern, value='', regex=True)\n",
    "df['narrative_bert'].iloc[0]"
   ]
  },
  {
   "cell_type": "code",
   "execution_count": 19,
   "id": "f8caf6ed",
   "metadata": {},
   "outputs": [],
   "source": [
    "# Define regular expression pattern to remove\n",
    "pattern = r\" - \"\n",
    "# Use the 'replace()' method with the regular expression pattern to remove the string pattern from all rows\n",
    "df['narrative_bert'] = df['narrative_bert'].replace(to_replace=pattern, value=' ', regex=True)"
   ]
  },
  {
   "cell_type": "markdown",
   "id": "84d7c43a",
   "metadata": {},
   "source": [
    "## functions to extract features"
   ]
  },
  {
   "cell_type": "code",
   "execution_count": 3,
   "id": "13d16781",
   "metadata": {},
   "outputs": [],
   "source": [
    "def extract_orgs(text):\n",
    "    # locations, company names, not names of people\n",
    "    doc=nlp(text)\n",
    "    entities = []\n",
    "    for named_entity in doc.ents:\n",
    "        if named_entity.label_ == \"ORG\":\n",
    "            entities.append(named_entity.text)\n",
    "    return entities\n",
    "\n",
    "def extract_locs(text):\n",
    "    # locations, company names, not names of people\n",
    "    doc=nlp(text)\n",
    "    entities = []\n",
    "    for named_entity in doc.ents:\n",
    "        if named_entity.label_ == \"LOC\":\n",
    "            entities.append(named_entity.text)\n",
    "    return entities\n",
    "\n",
    "def extract_keywords(text):\n",
    "    language = \"pt\"\n",
    "    max_ngram_size = 4\n",
    "    numOfKeywords = 8\n",
    "    custom_kw_extractor = yake.KeywordExtractor(lan=language, n=max_ngram_size, top=numOfKeywords, features=None)\n",
    "    keyword = custom_kw_extractor.extract_keywords(text)\n",
    "    keyword_list=[k for (k, score) in keyword]\n",
    "    combined_string = ' '.join(keyword_list)\n",
    "    return combined_string\n",
    "\n",
    "def extract_events(text, data):\n",
    "    # string to datetime\n",
    "    d = datetime.strptime(data, \"%Y-%m-%d %H:%M:%S\")\n",
    "    # convert datetime format into %Y-%m-%d-%H:%M:%S format using strftime\n",
    "    d=d.strftime(\"%Y-%m-%d\")\n",
    "    event=[]\n",
    "    # data['narrative_bert'][i], data['date'][i]\n",
    "    narrative_doc = t2s.Narrative(\"pt\", text, d)\n",
    "    extract_element(narrative_doc, \"event\",\"allennlp\")\n",
    "    for p in narrative_doc.events:\n",
    "        event.append(narrative_doc.events[p].text)\n",
    "    return event\n",
    "\n",
    "def type_of_mail(text):\n",
    "    # type of delivery service: \n",
    "    doc=nlp(text)\n",
    "    for chunk in doc.noun_chunks:\n",
    "        print(chunk.text)"
   ]
  },
  {
   "cell_type": "markdown",
   "id": "8096e490",
   "metadata": {},
   "source": [
    "# extract keywords"
   ]
  },
  {
   "cell_type": "code",
   "execution_count": 39,
   "id": "85bb315c",
   "metadata": {},
   "outputs": [],
   "source": [
    "df['keywords']=df['narrative_bert'].apply(extract_keywords)"
   ]
  },
  {
   "cell_type": "code",
   "execution_count": 20,
   "id": "d0944cdf",
   "metadata": {},
   "outputs": [],
   "source": [
    "import html\n",
    "def HTMLEntitiesToUnicode(text):\n",
    "    string=''\n",
    "    for item in text.split():\n",
    "        string=string+html.unescape(item)+' '\n",
    "    result = string.replace('\\xa0', ' ')\n",
    "    return result\n",
    "\n",
    "# function to tokenize data and remove stopwords\n",
    "def process_narrative(narrative):\n",
    "    stopwords_list = nltk.corpus.stopwords.words('portuguese')\n",
    "    tokens = nltk.word_tokenize(narrative)\n",
    "    stopwords_removed = [token.lower() for token in tokens if token.lower() not in stopwords_list]\n",
    "    \n",
    "    # adding line to remove all tokens with numbers and punctuation\n",
    "    stopwords_punc_and_numbers_removed = [word.lower() for word in stopwords_removed if word.isalpha()]\n",
    "\n",
    "    return stopwords_punc_and_numbers_removed\n",
    "\n",
    "\n",
    "# function to concat words (used in function below)\n",
    "def concat_words(list_of_words):\n",
    "    # remove any NaN's\n",
    "    # list_of_words = [i for i in list if i is not np.nan]\n",
    "\n",
    "    concat_words = ''\n",
    "    for word in list_of_words:\n",
    "        concat_words += word + ' '\n",
    "    return concat_words.strip()\n",
    "\n",
    "\n",
    "# function to lemmatize words and merge each complaint into a single space-separated string\n",
    "def make_lemma_and_concat(list_of_words):\n",
    "    # remove any NaN's\n",
    "    list_of_words = [i for i in list_of_words if i is not np.nan]\n",
    "    \n",
    "    # lemmatize each word\n",
    "    lemmatized_list = []\n",
    "    nlp = spacy.load('pt_core_news_md')\n",
    "    for word in list_of_words:\n",
    "        doc=nlp(word)\n",
    "        for token in doc:\n",
    "            lemmatized_list.append(token.lemma_)    \n",
    "    \n",
    "    # make the list into a single string with the words separated by ' '\n",
    "    concatenated_string = concat_words(lemmatized_list)\n",
    "    return concatenated_string\n",
    "\n",
    "def clean_data(texto): #aplica-se a uma so string\n",
    "    # Remove new line characters\n",
    "    texto = texto.replace('\\n', ' ')\n",
    "    texto = texto.replace('\\r', ' ')\n",
    "    # Remove multiple spaces\n",
    "    texto=re.sub(' +', ' ',texto)\n",
    "    # Remove Emails\n",
    "    texto = re.sub('\\S*@\\S*\\s?', '',texto)\n",
    "    # Remove single quotes\n",
    "    texto = re.sub(\"\\\"\", '', texto)\n",
    "    # Remove hyperlinks\n",
    "    texto = re.sub('http://\\S+|https://\\S+', '', texto)\n",
    "    texto = re.sub('http[s]?://\\S+', '', texto)\n",
    "    texto = re.sub(r\"http\\S+\", '', texto)\n",
    "    texto = re.sub(r'www.\\S+', '', texto)\n",
    "    # Replaces repetitions of exlamation marks\n",
    "    texto = re.sub(r\"(\\!)\\1+\", '!', texto)\n",
    "    # Replaces repetitions of question marks\n",
    "    texto = re.sub(r\"(\\?)\\1+\", '?', texto)\n",
    "    # Replaces repetitions of .\n",
    "    texto = re.sub(r\"(\\.)\\1+\", '.', texto)\n",
    "    # Replaces repetitions of -\n",
    "    texto = re.sub(r\"(\\-)\\1+\", ' ', texto)\n",
    "    # Replaces repetitions of ,\n",
    "    texto = re.sub(r\"(\\,)\\1+\", ' ', texto)\n",
    "    return texto"
   ]
  },
  {
   "cell_type": "code",
   "execution_count": 41,
   "id": "256ce647",
   "metadata": {},
   "outputs": [],
   "source": [
    "# Preprocessing\n",
    "df['tfidf_keywords'] = df['keywords'].apply(clean_data).apply(HTMLEntitiesToUnicode).apply(process_narrative).apply(make_lemma_and_concat)"
   ]
  },
  {
   "cell_type": "code",
   "execution_count": 42,
   "id": "3063d838",
   "metadata": {},
   "outputs": [
    {
     "data": {
      "text/plain": [
       "0        apresentar reclamação Caixa figura envio Israe...\n",
       "1        Lilia pimentel certificar profissional passage...\n",
       "2        França correio registar França correio encomen...\n",
       "3        pretender esclarecer situação pretender esclar...\n",
       "4        papal Centro pois preciso urgentemente pois pr...\n",
       "                               ...                        \n",
       "22425    ter chegar Portugal existir qualquer updatar r...\n",
       "22426    entregar balcao encomenda ctt rebelva ctt venh...\n",
       "22427    contínuo receber receber encomenda alfândegar ...\n",
       "22428    processo desembaraço aduaneiro fiz encomenda d...\n",
       "22429    correspondência extraviar correio destinar adm...\n",
       "Name: tfidf_keywords, Length: 22430, dtype: object"
      ]
     },
     "execution_count": 42,
     "metadata": {},
     "output_type": "execute_result"
    }
   ],
   "source": [
    "df['tfidf_keywords']"
   ]
  },
  {
   "cell_type": "code",
   "execution_count": 53,
   "id": "4f50f594",
   "metadata": {},
   "outputs": [],
   "source": [
    "df['tfidf_keywords']=df['tfidf_keywords'].apply(lambda x: x.lower())"
   ]
  },
  {
   "cell_type": "code",
   "execution_count": 55,
   "id": "8e1f20e1",
   "metadata": {},
   "outputs": [],
   "source": [
    "df.to_csv('D:\\\\MS DATA SCIENCE\\\\NLP TESE\\\\data\\\\data_processed_selected.csv', index=False, header=True)"
   ]
  },
  {
   "cell_type": "code",
   "execution_count": null,
   "id": "962738d5",
   "metadata": {},
   "outputs": [],
   "source": [
    "# antes fazer fillna de todas as features \n",
    "# Encoding using tf-idf try with different settings\n",
    "tfidf_vectorizer = TfidfVectorizer(ngram_rangel(1,3),max_df=0.95,min_df=2)\n",
    "tfidf_vectorizer.fit(df['tfidf_keywords'])  # Fit vectorizer on preprocessed keywords\n",
    "keywords_tfidf = tfidf_vectorizer.transform(df['tfidf_keywords'])  # Transform preprocessed keywords into tf-idf representation\n",
    "\n",
    "# Now, you can concatenate keywords_tfidf with the tf-idf encoded 'description' feature for classification\n",
    "# For example, assuming you have encoded 'description' using tf-idf and stored it in description_tfidf:\n",
    "\n",
    "# Concatenating features horizontally (adding new columns)\n",
    "combined_features = np.hstack((description_tfidf.toarray(), keywords_tfidf.toarray()))\n",
    "\n",
    "# The combined_features array will contain both the tf-idf encoded 'description' and the tf-idf encoded keywords.\n",
    "\n",
    "# Alternatively, you can concatenate vertically (adding new rows) if you have encoded multiple instances separately.\n",
    "\n",
    "# Now, you ca"
   ]
  },
  {
   "cell_type": "code",
   "execution_count": 39,
   "id": "47fd0ba2",
   "metadata": {},
   "outputs": [],
   "source": [
    "\"\"\"\n",
    "Script used for cleaning corpus in order to train word embeddings.\n",
    "All emails are mapped to a EMAIL token.\n",
    "All numbers are mapped to 0 token.\n",
    "All urls are mapped to URL token.\n",
    "Different quotes are standardized.\n",
    "Different hiphen are standardized.\n",
    "HTML strings are removed.\n",
    "All text between brackets are removed.\n",
    "...\n",
    "\"\"\"\n",
    "\n",
    "from sys import stdout\n",
    "import argparse\n",
    "import re\n",
    "import nltk\n",
    "\n",
    "sent_tokenizer = nltk.data.load('tokenizers/punkt/portuguese.pickle')\n",
    "\n",
    "# Punctuation list\n",
    "punctuations = re.escape('!\"#%\\'()*+,./:;<=>?@[\\\\]^_`{|}~')\n",
    "\n",
    "# ##### #\n",
    "# Regex #\n",
    "# ##### #\n",
    "re_remove_brackets = re.compile(r'\\{.*\\}')\n",
    "re_remove_html = re.compile(r'<(\\/|\\\\)?.+?>', re.UNICODE)\n",
    "re_transform_numbers = re.compile(r'\\d', re.UNICODE)\n",
    "re_transform_emails = re.compile(r'[^\\s]+@[^\\s]+', re.UNICODE)\n",
    "re_transform_url = re.compile(r'(http|https)://[^\\s]+', re.UNICODE)\n",
    "# Different quotes are used.\n",
    "re_quotes_1 = re.compile(r\"(?u)(^|\\W)[‘’′`']\", re.UNICODE)\n",
    "re_quotes_2 = re.compile(r\"(?u)[‘’`′'](\\W|$)\", re.UNICODE)\n",
    "re_quotes_3 = re.compile(r'(?u)[‘’`′“”]', re.UNICODE)\n",
    "re_dots = re.compile(r'(?<!\\.)\\.\\.(?!\\.)', re.UNICODE)\n",
    "re_punctuation = re.compile(r'([,\";:]){2},', re.UNICODE)\n",
    "re_hiphen = re.compile(r' -(?=[^\\W\\d_])', re.UNICODE)\n",
    "re_tree_dots = re.compile(u'…', re.UNICODE)\n",
    "# Differents punctuation patterns are used.\n",
    "re_punkts = re.compile(r'(\\w+)([%s])([ %s])' %\n",
    "                       (punctuations, punctuations), re.UNICODE)\n",
    "re_punkts_b = re.compile(r'([ %s])([%s])(\\w+)' %\n",
    "                         (punctuations, punctuations), re.UNICODE)\n",
    "re_punkts_c = re.compile(r'(\\w+)([%s])$' % (punctuations), re.UNICODE)\n",
    "re_changehyphen = re.compile(u'–')\n",
    "re_doublequotes_1 = re.compile(r'(\\\"\\\")')\n",
    "re_doublequotes_2 = re.compile(r'(\\'\\')')\n",
    "re_trim = re.compile(r' +', re.UNICODE)\n",
    "\n",
    "\n",
    "def clean_text(text):\n",
    "    \"\"\"Apply all regex above to a given string.\"\"\"\n",
    "    text = text.lower()\n",
    "    text = text.replace('\\xa0', ' ')\n",
    "    text = re_tree_dots.sub('...', text)\n",
    "    text = re.sub('\\.\\.\\.', '', text)\n",
    "    text = re_remove_brackets.sub('', text)\n",
    "    text = re_changehyphen.sub('-', text)\n",
    "    text = re_remove_html.sub(' ', text)\n",
    "    text = re_transform_numbers.sub('0', text)\n",
    "    text = re_transform_url.sub('URL', text)\n",
    "    text = re_transform_emails.sub('EMAIL', text)\n",
    "    text = re_quotes_1.sub(r'\\1\"', text)\n",
    "    text = re_quotes_2.sub(r'\"\\1', text)\n",
    "    text = re_quotes_3.sub('\"', text)\n",
    "    text = re.sub('\"', '', text)\n",
    "    text = re_dots.sub('.', text)\n",
    "    text = re_punctuation.sub(r'\\1', text)\n",
    "    text = re_hiphen.sub(' - ', text)\n",
    "    text = re_punkts.sub(r'\\1 \\2 \\3', text)\n",
    "    text = re_punkts_b.sub(r'\\1 \\2 \\3', text)\n",
    "    text = re_punkts_c.sub(r'\\1 \\2', text)\n",
    "    text = re_doublequotes_1.sub('\\\"', text)\n",
    "    text = re_doublequotes_2.sub('\\'', text)\n",
    "    text = re_trim.sub(' ', text)\n",
    "    return text.strip()"
   ]
  },
  {
   "cell_type": "code",
   "execution_count": 65,
   "id": "48d662b2",
   "metadata": {},
   "outputs": [],
   "source": [
    "df['embeddings_keywords']=df['keywords'].apply(clean_text)"
   ]
  },
  {
   "cell_type": "code",
   "execution_count": 68,
   "id": "d6f59c52",
   "metadata": {},
   "outputs": [],
   "source": [
    "df.to_csv('D:\\\\MS DATA SCIENCE\\\\NLP TESE\\\\data\\\\data_processed_selected.csv', index=False, header=True)"
   ]
  },
  {
   "cell_type": "code",
   "execution_count": null,
   "id": "51f1a98e",
   "metadata": {},
   "outputs": [],
   "source": [
    "###EMBEDDINGS\n",
    "# Preprocessing\n",
    "# # antes fazer fillna de todas as features \n",
    "\n",
    "df['keywords_embeddings']\n",
    "\n",
    "# Integration with Description Feature\n",
    "combined_features = np.concatenate((description_embeddings, keyword_embeddings), axis=1)\n",
    "\n",
    "# split data\n",
    "# ..."
   ]
  },
  {
   "cell_type": "code",
   "execution_count": 13,
   "id": "7b65a3ee",
   "metadata": {},
   "outputs": [
    {
     "name": "stdout",
     "output_type": "stream",
     "text": [
      "0\n",
      "0\n"
     ]
    }
   ],
   "source": [
    "print(df['embeddings_keywords'].isna().sum())\n",
    "print(df['tfidf_keywords'].isna().sum())"
   ]
  },
  {
   "cell_type": "markdown",
   "id": "8b3ad516",
   "metadata": {},
   "source": [
    "## extract events"
   ]
  },
  {
   "cell_type": "markdown",
   "id": "f78fb170",
   "metadata": {},
   "source": [
    "1. Preprocessing the Events List:\n",
    "    * Since the events list contains string elements, you can start by converting the list of strings into a single string. You can use a separator, such as a space or comma, to join the elements together. For example, if you have the events list ['waiting', 'waiting', 'done'], you can convert it to \"waiting waiting done\".\n",
    "    * If necessary, apply any additional preprocessing steps to the events string, such as removing punctuation or converting to lowercase.  \n",
    "\n",
    "\n",
    "2. Encoding the Events String:\n",
    "    * Use a count vectorizer, which represents the events as frequency counts of each event. Each unique event will be a separate feature in the resulting encoded representation.  \n",
    "   ex:  Row 1: ['waiting', 'waiting', 'done']\n",
    "        Row 2: ['in progress', 'in progress', 'waiting']\n",
    "\n",
    "        Step 1: Preprocessing the Events List:    \n",
    "        We convert each row's events list into a single string representation:  \n",
    "        Row 1: \"waiting waiting done\"  \n",
    "        Row 2: \"in progress in progress waiting\"  \n",
    "        \n",
    "        Step 2: Countvectorizer  \n",
    "         we have three unique events across both rows: \"waiting\", \"done\", and \"in progress\". Let's break down the counts for\n",
    "         each event: Row 1: [2, 1, 0]  \n",
    "         \"waiting\" appears twice  \n",
    "         \"done\" appears once  \n",
    "         \"in progress\" does not appear in this row  \n",
    "        \n",
    "    * or TF-IDF"
   ]
  },
  {
   "cell_type": "code",
   "execution_count": 121,
   "id": "ac7cf8f1",
   "metadata": {},
   "outputs": [],
   "source": [
    "df = pd.read_csv(\"D:\\\\MS DATA SCIENCE\\\\NLP TESE\\\\data\\\\data_processed_selected.csv\")"
   ]
  },
  {
   "cell_type": "code",
   "execution_count": null,
   "id": "4e699ec4",
   "metadata": {},
   "outputs": [],
   "source": [
    "# import json\n",
    "# for i in range(len(df)):\n",
    "#     text,data=df['narrative_bert'].iloc[i],df['date'].iloc[i]\n",
    "#     events=extract_events(text,data)\n",
    "#     with open(f'D:\\\\MS DATA SCIENCE\\\\NLP TESE\\\\events\\\\{i}.txt', 'w',encoding='utf-8') as convert_file:\n",
    "#         convert_file.write(json.dumps(events))\n",
    "#     print(f'Finished line number {i}')"
   ]
  },
  {
   "cell_type": "code",
   "execution_count": 57,
   "id": "5ac6e725",
   "metadata": {},
   "outputs": [],
   "source": [
    "# #para ler o output\n",
    "# import json\n",
    "# outputs=[]\n",
    "# for i in range(len(df)):\n",
    "#     with open(f'D:\\\\MS DATA SCIENCE\\\\NLP TESE\\\\events\\\\{i}.txt', 'r',encoding='utf-8') as fd:\n",
    "#         output=json.load(fd)\n",
    "#         outputs.append(output)"
   ]
  },
  {
   "cell_type": "code",
   "execution_count": 97,
   "id": "611f1ff6",
   "metadata": {},
   "outputs": [],
   "source": [
    "def format_events(text):\n",
    "    # Remove the brackets and single quotes from the string representation of the list\n",
    "    text = text.replace(\"[\", \"\").replace(\"]\", \"\").replace(\"'\", \"\")\n",
    "    # Split the string into individual event strings\n",
    "    event_strings = text.split(\", \")\n",
    "    # Join the event strings into a single string\n",
    "    events_string = \" \".join(event_strings)\n",
    "    return events_string"
   ]
  },
  {
   "cell_type": "code",
   "execution_count": 101,
   "id": "b10b1d5c",
   "metadata": {},
   "outputs": [],
   "source": [
    "df['events_clean']=df['events'].apply(format_events).apply(lambda x: x.lower())"
   ]
  },
  {
   "cell_type": "code",
   "execution_count": 16,
   "id": "cdd2666c",
   "metadata": {},
   "outputs": [
    {
     "name": "stdout",
     "output_type": "stream",
     "text": [
      "0\n",
      "8\n"
     ]
    }
   ],
   "source": [
    "print(df['events'].isna().sum())\n",
    "print(df['events_clean'].isna().sum())"
   ]
  },
  {
   "cell_type": "markdown",
   "id": "b5b5eeca",
   "metadata": {},
   "source": [
    "what happens is that when I extracted events, some texts had no events, therefore the output was '[]'  \n",
    "DROP NAN VALUES BEFORE FITTING MODEL"
   ]
  },
  {
   "cell_type": "code",
   "execution_count": 35,
   "id": "be445f19",
   "metadata": {},
   "outputs": [],
   "source": [
    "df['events_tfidf'] = df['events_clean'].fillna('').apply(clean_data).apply(HTMLEntitiesToUnicode).apply(process_narrative).apply(make_lemma_and_concat)"
   ]
  },
  {
   "cell_type": "code",
   "execution_count": 40,
   "id": "eb8f3237",
   "metadata": {},
   "outputs": [],
   "source": [
    "df['events_embeddings']=df['events_clean'].fillna('').apply(clean_text)"
   ]
  },
  {
   "cell_type": "code",
   "execution_count": 45,
   "id": "3cc66c52",
   "metadata": {},
   "outputs": [
    {
     "name": "stdout",
     "output_type": "stream",
     "text": [
      "23\n",
      "8\n"
     ]
    }
   ],
   "source": [
    "print(df['events_tfidf'].isna().sum())\n",
    "print(df['events_embeddings'].isna().sum())"
   ]
  },
  {
   "cell_type": "code",
   "execution_count": 42,
   "id": "261dd16a",
   "metadata": {},
   "outputs": [],
   "source": [
    "df.to_csv('D:\\\\MS DATA SCIENCE\\\\NLP TESE\\\\data\\\\data_processed_selected.csv', index=False, header=True)"
   ]
  },
  {
   "cell_type": "code",
   "execution_count": null,
   "id": "5157030d",
   "metadata": {},
   "outputs": [],
   "source": [
    "# antes fazer fillna de todas as features \n",
    "vectorizer = CountVectorizer()\n",
    "events_encoded = vectorizer.fit_transform(events_strings)\n",
    "events_encoded_array = events_encoded.toarray()"
   ]
  },
  {
   "cell_type": "markdown",
   "id": "0c90b1a1",
   "metadata": {},
   "source": [
    "## extract locs and orgs"
   ]
  },
  {
   "cell_type": "code",
   "execution_count": 44,
   "id": "317d9b21",
   "metadata": {},
   "outputs": [],
   "source": [
    "# Function to extract organizations and locations\n",
    "def format_entities(row):\n",
    "    org = []\n",
    "    loc = []\n",
    "    current_org = None\n",
    "    current_loc = None\n",
    "\n",
    "    row_list = ast.literal_eval(row)\n",
    "    for t in row_list:\n",
    "        if t[1] == 'B-ORGANIZACAO':\n",
    "            if current_org:\n",
    "                org.append(current_org)\n",
    "            current_org = t[0]\n",
    "        elif t[1] == 'I-ORGANIZACAO':\n",
    "            current_org = current_org + ' ' + t[0] if current_org else t[0]\n",
    "        elif t[1] == 'B-LOCAL':\n",
    "            if current_loc:\n",
    "                loc.append(current_loc)\n",
    "            current_loc = t[0]\n",
    "        elif t[1] == 'I-LOCAL':\n",
    "            current_loc = current_loc + ' ' + t[0] if current_loc else t[0]\n",
    "\n",
    "    if current_org:\n",
    "        org.append(current_org)\n",
    "    if current_loc:\n",
    "        loc.append(current_loc)\n",
    "\n",
    "    return pd.Series({'orgs': ', '.join(org) if org else None, 'locs': ', '.join(loc) if loc else None})"
   ]
  },
  {
   "cell_type": "code",
   "execution_count": 45,
   "id": "d03eb092",
   "metadata": {},
   "outputs": [
    {
     "name": "stdout",
     "output_type": "stream",
     "text": [
      "[('El', 'B-LOCAL'), ('Corte', 'I-LOCAL'), ('Inglés', 'I-LOCAL'), ('Lisboa', 'B-LOCAL'), ('Correio', 'B-ORGANIZACAO'), ('Verde', 'I-LOCAL')]\n",
      "orgs                          Correio\n",
      "locs    El Corte Inglés, Lisboa Verde\n",
      "dtype: object\n"
     ]
    }
   ],
   "source": [
    "x=df['results_final'][3]\n",
    "print(x)\n",
    "y=format_entities(x)\n",
    "print(y)"
   ]
  },
  {
   "cell_type": "code",
   "execution_count": 46,
   "id": "4a34fb90",
   "metadata": {},
   "outputs": [],
   "source": [
    "import ast\n",
    "# Apply the function to create separate columns\n",
    "df[['orgs', 'locs']] = df['results_final'].apply(format_entities)"
   ]
  },
  {
   "cell_type": "code",
   "execution_count": 79,
   "id": "1d4f417a",
   "metadata": {},
   "outputs": [
    {
     "name": "stdout",
     "output_type": "stream",
     "text": [
      "0.4468568880962996\n",
      "0.46411056620597413\n"
     ]
    }
   ],
   "source": [
    "print(df['orgs'].isna().sum()/len(df))\n",
    "print(df['locs'].isna().sum()/len(df))"
   ]
  },
  {
   "cell_type": "code",
   "execution_count": 84,
   "id": "0200f5a9",
   "metadata": {},
   "outputs": [],
   "source": [
    "# Function to extract organizations and locations\n",
    "def format_entities(row):\n",
    "    org = []\n",
    "    loc = []\n",
    "    current_org = None\n",
    "    current_loc = None\n",
    "\n",
    "    row_list = ast.literal_eval(row)\n",
    "    for t in row_list:\n",
    "        if t[1] == 'B-ORGANIZACAO':\n",
    "            if current_org:\n",
    "                org.append(current_org)\n",
    "            current_org = t[0]\n",
    "        elif t[1] == 'I-ORGANIZACAO':\n",
    "            current_org = current_org + ' ' + t[0] if current_org else t[0]\n",
    "        elif t[1] == 'B-LOCAL':\n",
    "            if current_loc:\n",
    "                loc.append(current_loc)\n",
    "            current_loc = t[0]\n",
    "        elif t[1] == 'I-LOCAL':\n",
    "            current_loc = current_loc + ' ' + t[0] if current_loc else t[0]\n",
    "    if current_org:\n",
    "        org.append(current_org)\n",
    "    if current_loc:\n",
    "        loc.append(current_loc)\n",
    "    entities = org + loc\n",
    "    return ', '.join(entities) if entities else None"
   ]
  },
  {
   "cell_type": "code",
   "execution_count": 85,
   "id": "2a110c91",
   "metadata": {},
   "outputs": [],
   "source": [
    "df['entities'] = df['results_final'].apply(format_entities)"
   ]
  },
  {
   "cell_type": "code",
   "execution_count": 87,
   "id": "6244a7e6",
   "metadata": {},
   "outputs": [
    {
     "name": "stdout",
     "output_type": "stream",
     "text": [
      "0.22697280427998218\n"
     ]
    }
   ],
   "source": [
    "print(df['entities'].isna().sum()/len(df))"
   ]
  },
  {
   "cell_type": "code",
   "execution_count": 90,
   "id": "794e5434",
   "metadata": {},
   "outputs": [],
   "source": [
    "# df.to_csv('D:\\\\MS DATA SCIENCE\\\\NLP TESE\\\\data\\\\data_processed_selected.csv', index=False, header=True)"
   ]
  },
  {
   "cell_type": "markdown",
   "id": "a880ac0f",
   "metadata": {},
   "source": [
    "## extract products and type of mail  \n",
    "\n",
    "1. type of mail:\n",
    "    * correio normal/ azul/ registado/ prioritário/ expresso/ verde\n",
    "    * encomenda postal\n",
    "2. product ?? maybe it's not helpfull\n",
    "    * encomenda\n",
    "    * carta(s)\n",
    "    * postal\n",
    "    * caixa\n",
    "    * correio"
   ]
  },
  {
   "cell_type": "code",
   "execution_count": 69,
   "id": "d38bd7db",
   "metadata": {},
   "outputs": [],
   "source": [
    "def find_mail_types(text):\n",
    "    text=text.lower()\n",
    "    mail_types = re.findall(r'correio normal|correio azul|CTT expresso|correio registado|estrangeiro|internacional|correio prioritário|correio expresso|correio verde', text, flags=re.IGNORECASE)\n",
    "    letter_types=re.findall(r'carta registada|internacional|prioritária|expressa', text, flags=re.IGNORECASE)\n",
    "    mail_types = list(set(mail_types))\n",
    "    letter_types=list(set(letter_types))\n",
    "    return mail_types + letter_types"
   ]
  },
  {
   "cell_type": "code",
   "execution_count": 70,
   "id": "7c417825",
   "metadata": {},
   "outputs": [
    {
     "name": "stdout",
     "output_type": "stream",
     "text": [
      "[]\n",
      "Bom dia venho por este meio apresentar uma reclamação aos CTT. Enviei uma encomenda cujo conteúdo era uma figura de resina artesanal. O envio foi destinado a um amigo de Israel. O envio foi feito no dia 2021-09-09 no posto de ctt da Aboboda. Código:  O envio estava muito bem ambalado e protegido, tinha uma segunda caixa onde estava a figura protegita com muito papel bolha e esponjas. Infelizmente o meu amigo recebeu uma caixa que chegou quase destruida, figura partida, e chegou passado um mês. Mas aqui vão os problemas todos: Levou muito tempo a chegar A caixa chegou destruida A caixa tinha sido aberta e tinha as etiquetas mudadas A caixa tinha um segundo nome de remetente português e um novo remetente em Israel. Pior: A figura chegou danificada e partida, sem concerto. Nas fotos envidas tinha uma etiqueta com novo tracking number alterado e com remetente novo de Braga e destino para outra senhora, que nem sei quem é. Tracking tinha um 6 em vez do 5 anterior no final. Gostaria mesmo de um esclarecimento em relação a isto. Irei escrever quantas reclamações forem necessárias até ter uma justificação. Esta encomenda partida foi desastroso para mim e para os meus projetos. Espero pelo menos ter o meu dinheiro de volta, nem que seja o shipping ou o valor da mesma que foi 55 euros , tive que os desvolver. Obrigado Cumprimentos. \n",
      "[]\n",
      "- Boa Noite! Venho por este meio reclamar que na data 31/08/2021 ás 10:00h, durante a passagem do correio deparei-me com uma carta que continha um documento de extrema importância (certificado profissional) com um rasgo. Dito isto, este documento no seu estado não tem valor. Obrigada! Com os maiores cumprimentos: Lilia Pimentel \n",
      "['correio registado']\n",
      "Boa tarde, No dia 17 de Dezembro de 2020 enviei uma encomenda para França em correio registado com o número de registo :  Através do número de registo vejo que a encomenda chegou a Roissy no dia 23 de Dezembro de 2020,e que a mesma já saiu de ROISSY no dia 24 de Dezembro de 2020. E até hoje, dia 1 de Fevereiro de 2021 nunca chegou ao destino, nem tem mais informaçoes sobre a própria encomenda. Já passou mais de um mês. O que é inadmissível. Agradeço que resolvam esta situação o mais rapidamente possível. Cumprimentos \n",
      "['correio verde']\n",
      "Bom dia, Pretendia esclarecer uma situação que me ocorreu esta semana com os vossos serviços. Na passada terça-feira (17/04/2018), desloquei-me por volta das 20h à estação de correios do El Corte Inglés (Lisboa) dado que a mesma fecha às 21h e necessitava que a minha carta chegasse ao destino o mais rapidamente possível. Optei pelo Correio Verde visto que, a informação no vosso site, o dá como fidedigno e seguro. No envelope seguiam várias cartas e uma pen drive (mas com um peso muito longe dos 2 kgs). Esperava portanto que a carta chegasse ao destino ontem, quarta-feira (18/04/2018). Contudo, fui informado pelo destinatário que a carta não chegou. Gostaria de saber se é possível saber o paradeiro da carta ou o motivo de não ter sido entregue, até porque há 2 semanas enviei outro envelope de correio verde só com um postal no interior e o mesmo foi recepcionado em menos de 24h na morada em questão. É normal não ter chegado no dia seguinte? Pode, eventualmente, apenas chegar hoje dia 19/04/2018? É que o que está em causa não é o valor da pen drive que deverá valer pouquíssimos euros. O que está em causa é mesmo o conteúdo da pen visto que tem muito valor sentimental e era muito importante para o destinatário. Grato pela atenção \n",
      "['carta registada']\n",
      "venho por este meio solicitar a vossa ajuda para saber onde se encontra o aviso de recepção da carta registada que enviei no dia 17 de Junho de 2019 com o nº de registo : . Este aviso esta a fazer-me muita falta , pois preciso dele urgentemente para conseguir meter os papais para o centro de emprego . \n",
      "[]\n",
      "È com alguma tristeza que tenho de estar a reclamar do trabalho de alguem, nao é algo que goste,mas face a uma situaçao que vem desde abril de 2019 e nao foi dada nem soluçao nem tao pouco me foi explicado os contornos que levaram as coisas a nao correr bem. Resumindo ao maximo para nao alongar, uma segunda via de item que me foi enviado para efeito de garantia de uma previa compra , rapidamente chegou a Portugal, e ficou retida para efeitos alfandegarios. Usei o portal para efeitos de desalfandegamento e acompanhar processo,passei procuraçao para que ctt pudesse tratar de processos, foram me pedidos documentos prints de conversa com vendedor, forneci tudo atempadamente, no entanto a demora entre departamentos , ou o mau funcionamento levou a que o prazo defenido de 60 dias em armazem expirasse, para minha surpresa a quando no portal consultava o resultado da fase proposta de desalfandegamento, a seguir me aparece a devolver a remetente. Telefonei , expus a situaçao ,mas colaborador foi incapa de ajudar apenas me encaminhou para que eu fisesse proceso reclamaçao para localisar item. FIz e a resposta foi que a haver algum estorno seria a remetente. Portanto, nao me explicaram nem onde estava item, nem o porque de nao liberarem, novamente respostas dos 60 dias e reclamei novamente, me foi dada resposta que seria aberto inquerito interno para averiguaçoes e me diriam algo, desde agosto ate agora nada. ALguem nao trabalhou bem, eu fikei sem item, sem euros e sem respostas.E digo aqui o que ja disse antes, nem é pelo valor do item em si, mas pela ma atitude, desprezo e mau funcionamento. Uma entidade prezada como a vossa deveria ter mais proatividade nas soluçoes, pois é bonito os premios melhor callcenters , mas estatisticamente o crescente volume trabalho revela a incapacidade nao so de servir, bem como a de resolver quando nao corre bem,problemas e situaçoes surgem em qq trabalho mas a maneira como se trata as pessoas e as soluçoes dadas sao o que fideliza e mantem os clientes.Sei que provavelmente meu escrito é ignorado ou provavelmente ate meu email ja deve tar listado em spam ou algo do genero. Mas fica aqui o testemunho de mais um cliente que colaborou, esperou e pacientemente aguardou e deixaram isto andar meses e meses sem nessecidade. UPDATE :Apos mais um email dirigido as reclamaçoes e alguma espera, recebi mais uma resposta onde, mais uma vez descartam a responsabilidade .Pergunto mais uma vez , como apos validaçao da documentacao, passa a proposta de desalfandegamento e passamse do dia 10a29 todos os dias onde a fase a seguir é devolvido a remetente? Como depois de eu enviar atempamente e validarem para proposta me dizem que nao respondi atempademente, utilizei emails telefone e portal e perguntei se ir pessoalmente resolveria, pois de nada adiantou para ultima reposta ver o desplante , diria a lata de descartarem a responsabilidade do que se passou. \n",
      "[]\n",
      "Venho por este meio apresentar reclamação a entidade CTT pelo seguinte motivo. Eu fiz uma encomenda de um telemóvel Mochila providente de Londres com numero de Rastreamento  enviado 2017-09-20 Holanda , recebido em Lisboa 2016-09-26, como normal após a chegada as entidades competentes faz o seu despache ou entra em Alfândega para averiguação. Passado normalmente ate 5 dias esse tratamento tem de dar entrada no acompanhamento de entrega disponível no portal dos CTT com o numero de rastreamento, não deu entrada qualquer informação entrei em contacto com os CTT a resposta foi dada que esta em lisboa aguarde. Passado 30 dias e enviar sempre e-mails não sabem exactamente aonde se encontra. Contactei os CTT de Mem Martins o porque da demora e o que tinha que fazer, foi me dito para ir a alfandega em cabo ruivo para ter toda a mas ate hoje nao recebi nem um e-mail a dar resposta. \n",
      "[]\n",
      "Recorri ao serviço Express2Me desta empresa, para fazer uma compra na Amazon. A encomenda já foi entregue aos Ctt e recebi um email a pedir a factura para prosseguirem o envio. Mas nada funciona na plataforma deles. Não se consegue enviar um email seja de que maneira fôr, porque vem todos devolvidos.Não se consegue telefonar porque não atendem.Nem sequer se consegue pagar porque a plataforma dá sempre erro. É uma vergonha. \n",
      "[]\n",
      "Os serviços dos CTTs vão de mal a pior. Recebo constantemente facturas para pagar já fora de prazo, o que provoca pagamentos de juros de mora. Encomendas que não chegam e quando chegam é fora do prazo normal. Erros constantes como o engano de endereço. Uma encomenda enviada de Coimbra para Coimbra, demorou mais de um mês a chegar.Enfim um descalabro total. \n",
      "['carta registada']\n",
      "Venho por este meio comunicar a minha reclamação e o meu desagrado perante uma carta registada proveniente da Conservatória do Registo Civil, Predial, Comercial de Celorico da Beira. Nessa carta registada, nela conteria o documento único automóvel (DUA) da minha viatura particular, viatura adquirida a 05/12/12 , mas essa carta nunca chegou a minha residência até à data de hoje. Desde do dia 05/12/12, fiquei a aguardar pela carta com o documento único automóvel (DUA), onde esperei o resto do mês de Dezembro do ano passado e alguns dias de Janeiro deste ano. A paciência esgotou-se, resolvi pelos meus próprios meios tentar perceber onde estava a tal carta, contactei via e-mail a Conservatória do Registo Civil, Predial, Comercial de Celorico da Beira, onde me informaram que o registo da viatura tinha sido efectuado e facultaram-me o número de rastreio de envio, para minha surpresa reparo que o objecto tinha sido entregue a dia 12/12/2017 na minha residência. Reparei logo que algo estava mal, pois eu sou a única pessoa que tem acesso ao correio da minha residência e nunca tal carta chegou! Com o número de rastreio do envio da carta em minha posse, resolvi deslocar-me aos CTT da Rotunda da Boavista, onde depois de muito tempo a aguardar pela minha vez, informam-me que a carta realmente foi entregue, mas era uma carta de registo simples, onde me explicaram que o carteiro que faz as entregas, depois de colocar na caixa de correio respectiva, assina e assume que a carta foi entregue na caixa de correio correcta, no meu caso, foi UMA AUTENTICA MENTIRA. A funcionária em causa que assinou como entregue, chama-se Mónica e trabalha nos correios CTT da Rotunda da Boavista, por falta de competência da vossa funcionária e dos vossos serviços, estou impossibilitado de circular com a minha viatura, por falta deste mesmo documento. Exigo ser indemnizado pelo valor do pedido de uma 2º VIA do documento DUA, pois, não vou assumir tal encargo por causa da incompetência de uma das vossas funcionárias. Esta situação é inadmissível. Aguardo o vosso contacto para resolver este assunto extremamente importante, porque neste momento a minha viatura encontra-se parada sem poder circular por causa do documento DUA que nunca chegou até mim, pois não quero levar este caso a outras instâncias. Obrigado \n",
      "[]\n",
      "Fiz encomenda no AliExpress em maio , pelo traking dos CTT só foi desalfandegada em 4 de julho no Funchal, não foi entregue até 30 julho, depois de vários pedidos de informação aos CTT e depois reclamação,acabaram por me enviar uma carta a dizer que se não tiver seguro não tenho indemnização pois eles perderam o traking da encomenda. , Mas por e-mail não mandaram a informação porquê? Porquê em papel e não em formato digital, as minhas reclamações disseram que ia ser notificado da situação. já sabiam da perda e ainda me fizeram esperar pela resposta. \n",
      "[]\n",
      "Bom dia, Venho desta forma solicitar o mais breve possivel informações sobre o envio de encomenda para a Turquia com a referencia: . O envelope saiu da estação de Pereiró (Porto) no dia 23 de Julho e até hoje a informação disponivel é que saiu de Lisboa dia 24, ora já passaram mais de 2 semanas e não há registo de onde se encontra. Em anexo o comprovativo de envio. Fico a aguardar a vossa resposta urgente. \n",
      "[]\n",
      "Boa tarde, já tentei contactar os CTT correios em relação à minha encomenda com o código indicado supra, e a informação que obtive é que já foi desalfandegado e se encontra no posto do marl de loures, fiz um pedido de esclarecimento e deram me o código SR0003275982, gostava de saber o que preciso para levantar a encomenda. \n",
      "[]\n",
      "Minha penultima encomenda foi perdida pela CTT, pois me enviaram uma carta na minha morada avisando sobre a perda da encomenda, peço que essa nova encomenda que realizei no dia 15/06 para mesmo destinatario não tenha o mesma perda, pois quem ficou no prejuizo na encomenda anterior fui eu, como cliente. \n",
      "[]\n",
      "Estive retida em casa a aguardar que tocassem à porta visto ter recebido mensagem no dia anterior como iria receber a encomenda. Para meu espanto recebo mensagem a dizer que não estava ninguém em casa. E vou ver o correio e verifico que nem o postal estava na caixa. Estamos a ser burlados pelos os ctts pois não gastam combustível a entregar na morada e temos nós de gastarmos combustível para ir levantar uma encomenda que os mesmos deveria ter entregue pois estive em casa o dia todo. \n",
      "[]\n",
      "Tenho uma encomenda retira desde o dia 22 de Julho. Entendo que possa estar na alfandega, mas nem disso tenho a certeza. Pelo telefone nao dao qualquer tipo de informacao. Preciso muito desta encomenda para uma noiva. Ja passou quase um mes, parece-me inadmissivel que os CTT nao facam mais para ajudar os clientes. \n",
      "['internacional', 'internacional']\n",
      "Venho por este meio denunciar a autentica espoliação que esta empresa exerce sobre os clientes. Efectuei uma compra, no dia 25/09/2018, através de comércio electrónico num país asiático cujo valor do item foi de: 24.36€ mais 1.62€ de portes que perfaz o total de: 25.98€. No dia 12 Outubro 2018 a encomenda deu entrada nos serviços dos CTT (ver abaixo: 00:49 Receção internacional LISBOA) e no dia seguinte foram enviados os documentos solicitados. Conforme se pode observar na linha do tempo, abaixo descrita, a encomenda só foi entregue no dia 5 Novembro 2018 o que representa uma lentidão digna de um país do terceiro mundo. Por este lamentável, péssimo e até ridículo serviço os CTT debitaram 12,00€ de Apresentação à Alfandega e a própria Alfandega debitou mais 8,74€. O valor de 12,00€ que os CTT aplicam, neste caso, representa cerca de 50% do valor do item comprado o que se configura como uma autentica espoliação. Resultados Nº de Objeto Produto Data Hora Estado  2018/11/05 10:07 Objeto entregue Hora Estado Motivo Local Recetor segunda-feira, 5 Novembro 2018 10:07 Entregue 4900 VIANA DO CASTELO 08:26 Em distribuição 4900 VIANA DO CASTELO sexta-feira, 2 Novembro 2018 17:23 Expedição Nacional COCS LISBOA terça-feira, 30 Outubro 2018 15:27 Objecto desalfandegado LISBOA sexta-feira, 12 Outubro 2018 18:46 Envio de notificação ao cliente 14:20 Aguarda procedimentos declarativos LISBOA 00:49 Receção internacional LISBOA Cumprimentos, José Pereira \n",
      "[]\n",
      "Desde o dia 12/11 (data em que fiz o pagamento do desalfandegamento), tenho estado a aguardar a receção da minha encomenda  e até ao dia de hoje apenas existe uma informação no site dos CTT Em validação pela Autoridade Tributária. Até quando vou ficar sem receber a minha encomenda que já se encontra em Portugal desde o dia 9/11 ? Pff peço que a minha encomenda seja entregue com a maior brevidade possível. Obrigada. \n",
      "[]\n",
      "Venho por este meio, apresentar uma reclamação, referente ao facto de ainda estar há espera da minha encomenda. A encomenda ao chegar a Portugal, fui notificado de que seria necessário proceder com o desalfandegamento da mesma e que teria pagar um valor de 26,66 euros, o qual foi feito poucos dias depois e ter recebido de vossa a parte a recepção do valor no dia 27/11. Ao verificar pelo serviço de tracking, providenciado pelos CTTS e como podem rectificar, na imagem em anexo, a encomenda, desde dia 30 de novembro, data em foi desalfandegada, ainda não me chegou às mãos. Cheguei por duas vezes, entrar em contacto com a vossa equipa de apoio ao cliente, sendo que uma das vezes, foi há uma semana, em que me disseram para aguardar que poderia chegar esta semana, tendo já sido estranha a demora, como depois, disseram-me ontem, na segunda tentativa ao verificar o porquê da minha encomenda, não ter sido enviada para mim, disseram logo que o prazo normal para o envio, já tinha sido ultrapassado e para proceder logo com o envio de uma reclamação, dando uma previsão igual à anterior, de que iria chegar ainda esta semana ou início da próxima. Eu quero saber o que se passa, porque a vossa entidade, também estabelece prazos para pagamento de itens, que se encontram em alfândega, que dos quais somos obrigados a cumprir, para os podermos ter. Um processo de entrega que já vai em mais de meio mês?! Ao ligar ainda esta semana, quarta-feira para ser mais preciso, a vossa colaboradora disse que iria averiguar internamente. Minutos depois providenciou-me um número de reclamação e disse que iriam contactar comigo o mais rápido possível, mas até agora nada! Eu desejo ser notificado o quanto antes sobre a atualização da minha encomenda, como também, que esta situação, seja resolvida o mais rápido possível! Senão vou ter que apresentar uma queixa a própria Deco, como também responsabilizar os ctts dos valores que gastei até hoje no item em questão! \n",
      "[]\n",
      "Bom dia, é inadmissível que o carteiro em vez de colocar as encomendas na caixa de correio as mande para dentro de nossa casa como se de um jornal se tratasse e vivêssemos num país americano! Para além de estar um dia de muita chuva onde danificou bastante as mesmas o meu cão anda pela casa mas quando vê objetos novos brinca com os mesmos e os destrói como foi o caso. E o carteiro que não me venha dizer que não conseguia colocar na caixa porque quando isso acontece deixasse um papel para ir levantar a encomenda aos correios. Por isso é inadmissível tal ação. \n",
      "[]\n",
      "No site dos ctt está visível que a minha encomenda chegou a portugal a 03-06-2019 não pede para fazer o desalfandegamento nem documentos. Hoje 21-06-2019 ainda não recebi qualquer informação como posso resolver esta situação? Tenho que fazer o desalfandegamento? \n",
      "[]\n",
      "Boa tarde, Estou à espera de uma encomenda (livro) vindo do Brasil, que se encontra agora no Centro de Tratamento em Lisboa. Na página do acompanhamento consta o seguinte: 19 de Out O envio está em Procedimentos Declarativos. e Foi enviada notificação ao destinatário. O envio está em processo aduaneiro. Até agora não recebi nenhuma notificação aqui em casa. Não sei se é necessário pagar alguma taxa. Contactei a CTT e foi-me dito que estão à espera das informações sobre o produto dos correios do Brasil. Introduzi o objeto no site para o desalfandegamento. E lá diz que a data limite do aviso é no dia 29 de Outubro. E eu não recebi nenhum aviso em casa para poder proceder ao desalfandegamento. Receio que o livro vá para trás e que a situação não seja resolvida a tempo. Esta é a referência da encomenda: . O que devo fazer agora? Obrigada. \n",
      "[]\n",
      "Recebi uma certidão de nascimento do Arquivo Distrital da Guarda. Dentro da caixa de correio encontrei um envelope rasgado onde está escrito 16 nov ou 16 hrs e numa outra linha porta fechada. O envelope foi rasgado e não havia vertidão lá dentro. Mais ainda, não havia nada lá dentro. Este serviço custou-me 15, 92 euro, sendo 15 euro referentes à certidão. \n",
      "[]\n",
      "Boa tarde, O meu nome é David Ventura e recentemente através das aplicações de acompanhamento de entregas deparo-me que as encomendas:   Ficaram suspensas na alfandega. Não deixa de ser o meu espanto, porque acho que não estou a cometer nenhum crime nem acho que estou a cometer algum ato de contrafação, mas já lá vamos. Face isto espero pelo aviso de Desalfandegamento que diz que foi rececionado em Aveiro no dia 13 de Julho, para os dois artigos. Esses avisos têm códigos de acompanhamento que eu posso consultar: Relativamente à encomenda  :  Relativamente à encomenda  :  Hoje dirigi-me ao posto sede de Aveiro, o Centro de Entrega 3800-Aveiro, que me dizem que o Aviso de Desalfandegamento foi entregue, supostamento, e que não há nada a fazer senão reclamar e entrar por uma via judicial / queixa. Resumindo, o estafeta colocou o aviso na caixa de correio errada e neste momento estou lesado, porque não tenho forma nem maneira de dar início ao processo de desalfandegamento Grato David Ventura \n",
      "[]\n",
      "Fiz uma compra online em que viria uma encomenda de fora do país, em que foi enviada a notificação para o desanfaldegamento no dia 26/06, enviei todos os documentos o mais rapido que pude, tive que ainda reenviar algumas vezes e percebi que por como as coisas iam, ja passaria do tempo que estaria disponivel para eu receber no endereço que estava para a entrega. Então deixei bem claro no ultimo e-mail de desalfandegamento que não conseguiria receber e que precisava que alterasse o endereço para um que conseguiria ser entregue. Não bastou e eles enviaram mesmo assim para o endereço, sendo desalfandegado no dia 20/07 e entregue dia 25/07, quando não pude receber. Não estava no país então não pude levantar no CTT e no dia 06/08 devolveram a encomenda. Não consegui receber a encomenda e não consigo receber o dinheiro de volta pos parece que o item ainda não chegou para quem enviou, sendo agora no dia 21/08 entregue para o CPLS SUL, onde não sei para onde vai. \n",
      "[]\n",
      "Foi enviada uma encomenda no dia 3 de julho pela Royal Mail (Reino Unido) na qual os CTT apenas acusaram a sua receção no dia 27 de julho, o que a primeira entidade me referenciou que chegou às instalações dos CTT muito antes. Depois do aviso de chegada (27 de julho) a encomenda tem alterado de estado entre Chegou ao país de destino Centro de Tratamento Lisboa e O envio foi recebido num país intermédio em direção ao destino final-Centro de Tratamento Lisboa até ao dia de hoje (19 de agosto). Vão passando meses para realizar uma simples entrega que apresenta urgência na entrega. O serviço de apoio roça o inútil em todo este processo. Se não conseguem cumprir o que prometem, não prestem o serviço. Certamente que nunca mais utilizarei a vossa companhia para qualquer envio e/ou encomenda. \n",
      "['correio prioritário']\n",
      "Foi me enviada uma encomenda na passada segunda feira 03/06/13 em correio prioritário que seria entregue no dia seguinte, à qual o carteiro nem tocou à porta aquando a distribuição de correspondência, o mesmo deu a encomenda como não entregue pois segui o percurso da mesma no site dos ctt e ainda assim nem o vale para levantamento deixou pois tinha correspondência entregue nesse mesmo dia, dirigi me na quarta feira seguinte dia 05/06/13 à estação da minha área de residência para levantar a mesma, já depois de ter a encomenda comigo(quarta feira) lá apareceu o vale para levantar na caixa do correio e isto já pela segunda vez que o dito carteiro nem se dá ao trabalho de tocar a campainha simplesmente deixa o aviso e da ultima vez nem isso apareceu o aviso para levantar já eu tinha a encomenda, acho irrisório este tipo de conduta, pois se pagamos um serviço esperamos que seja concluído, o mesmo não se confirma e já pela segunda vez pois estive todo dia em casa em ambas as vezes e a campainha não tocou. \n",
      "[]\n",
      "Para contexto, estou à espera de uma encomenda que foi sujeita a taxas alfandegárias; nada a que não esteja habituada, visto que a cada duas encomendas, uma fica-me presa. Normalmente procederia ao processo de desalfandegamento via online, no site dos CTT, designado para tal, e era só aguardar; mas devido a um problema técnico (que diz para contactar o administrador do servidor), não consigo completar a acção. Recorri ao apoio telefónico, ao preenchimento dos formulários de ajuda, mas de um lado empurravam-me para o outro, preencha outro formulário, ou se não conseguimos ajudar, contacte-nos por telefone. O certo é que nada foi resolvido, tenho dois dias antes que esta encomenda importante volte para trás, tudo porque se recusam a ajudar e preferem jogar ping-pong entre departamentos e fazer-me de parva. E não toquei ainda na falta de delicadeza e educação de todos com quem falei via telefone. Super indelicados, rudes e brutos. Se alguém está com dificuldade, o dever de um trabalhador é explicar a situação e orientar na direção correta, isto no mínimo. Falei com uma senhora que falava por cima de mim, interrompia-me enquanto descrevia o meu problema, e só em soube dizer que não sei, tem de aguardar. Quero ver quem é que vai aguardar quando a minha encomenda for devolvida ao remetente daqui a dois dias por falta de conclusão de processo alfandegário. \n",
      "[]\n",
      "Estou completamente indignada com os serviços prestados pelos CTT. Estou desde o dia 7 de Junho a aguardar uma encomenda proveniente do Brasil. A encomenda chegou a Lisboa dia 7 de Junho, no dia 19 de Junho foi-me enviada uma notificação para proceder ao desalfandegamento a qual recebi dia 22 de Junho. Dia 23 de Junho enviei os documentos que me foram solicitados e desde então que aguardo. Pelo que me foi dito, os documentos foram analisados e só foram enviados aos serviços aduaneiros no dia 26 de julho, mais de um mês depois de eu os entregar. Dia 16 de Agosto fiz uma reclamação nos CTT e até hoje continuo à espera. Ninguém me sabe dizer se a Alfândega já foi contactada ou não. Entretanto vai fazer 3 meses que a encomenda chegou e eu sem receber os presentes que me foram enviados. Se soubesse do mau funcionamento dos CTT teria contratado uma empresa despachante para tratar do desalfandegamento. Acho que passados quase 3 meses e a telefonar quase diariamente para o vosso número de assistência já era tempo de resolverem esta situação. Deviam ter mais cuidado e avisar os clientes dos vossos prazos (muito longos) de prestação de serviços, pois tenho a certeza que assim iriam deixar de ter tanto trabalho. \n",
      "[]\n",
      "Fiz uma encomenda num site que já tenho habito encomendar. A encomenda chegou a Barcelos e foi entregue na morada errada. Contactei os CTT via telefone, não me sabem responder como terá sido entregue na morada errada. Pediram para eu fazer uma queixa via telefone. Liguei por varias vezes, mas a voz automática informa que tem inúmeras chamadas e desligam a chamada. Seja além do problema na entrega, ainda não deixam fazer reclamação. serviços dos correios deixam a desejar em Portugal. Ainda falam de outros países. \n",
      "[]\n",
      "Neste mês de janeiro já detetei por duas vezes e não sei se não terá acontecido mais: Não entrega de correspondência quando no prédio onde habito há um escritório com horário regular que pode sempre abrir a porta de entrada para o carteiro aceder à caixa do Correio. Um das vezes fui às Finanças e a carta fora devolvida por impossibilidade de aceder à caixa do correio; mais recente uma carta devolvida ao remetente por insuficiência de dados na morada e ao retificar não houve qualquer alteração porque estava tudo nome, rua, nº, andar, localidade e código postal. Estas são duas situações de que eu tomei conta mas receio que haja mais e que fique sem correspondência não aguardada. Peço que verifiquem o que está a ocorrer e que disso me dêem conta. Alexandra Madeira Elias Rua Fernandes Tomás, 706, 5º esq. 4000 212 PORTO \n",
      "[]\n",
      "A encomenda nº  era para ser entregue já a algum tempo quando detetei no dia 06/02/2021 que a empresa que enviou a encomenda (Amazon) não inseriu os dados da morada corretamente, por isso como os CTT não tinham culpa desta situação decidi pagar 10,12 euros para alterar a morada, data e hora de entrega da encomenda para dia 09/02/2021. Qual é o meu espanto quando para além de não receber a encomenda os CTT ainda devolveram a minha encomenda á Amazon em Espanha, ou seja gastei o dinheiro e nem a encomenda recebo. Muito mau serviço. \n",
      "[]\n",
      "Pois então uma pessoa que está a depender do fundo de desemprego com contas para pagar hoje é dia 11 e a carta cheque ainda não chegou na segurança social dizem que enviaram os correios dizem que não saiu nada e eu aqui sem saber o que fazer apenas sei que tenho tudo por pagar agora pergunto que ei de fazer ? Pois os juros só aumentao a renda por pagar que país e este que parece mais a republica das bananas ninguém sabe atiram de um lado para outro e ninguém ajuda a resolver enfim . \n",
      "[]\n",
      "em 2018/03/19 sobre a encomenda , forneci todos os dados solicitados. Passado 2 meses entrei em contacto com os CTT Telefonicamente, que me disseram que a mercadoria tinha sido devolvida ao fornecedor, e como tal nada poderia fazer. Temtei falar com o TOMTOP, mas sem sucesso, só me disseram que vão tentar saber o que se passa. 5 meses depois continuo sem solução. Isto é inadmissivel. Pelo numero de encomenda, o material continua na alfandega, mas ligando, dizem que não. \n",
      "[]\n",
      "Gostaria de saber qual a razão de uma encomenda proveniente da Holanda, está em processo de tributação alfandegaria. Visto a Holanda pertencer até a data a comunidade europeia nenhuma encomenda proveniente deste pais esta sujeito a tributação alfandegaria. Assim sendo exijo a entrega da encomenda o mais urgente possível. E ainda faço questão de salientar que não tem jeito nenhum pedirem o Printscreen do meu monitor com os dados da encomenda. PrintSrenns não são considerados documentos comprovativos. Nº Local 1448936 Nº Origem . Estou a espera desta encomenda a mais de 2 meses! \n",
      "['ctt expresso', 'correio normal']\n",
      "No passado dia 20 junho foi-me enviada uma encomenda da Suiça na qual paguei 30 e poucos euros de portes de envio. A encomenda passou pela alfândega, processo normal e foi enviada para o centro de processamento de encomendas na cidade de Santo Tirso. Tendo dado a entrada no dia 10 de Julho em distribuição, sendo o meu código 4825 os CTT continuam a tentar entregar a encomenda no código postal errado e ainda colocam no track & trace que não conseguem completar a entrega porque o destinatário se encontra ausente. Já há mais de uma semana que tenho uma pessoa em casa à espera desta encomenda. Um dia liguei para a linha de apoio CTT na qual fui informado que a encomenda não seria CTT Expresso mas sim Correio normal, para meu espanto e sendo que o carteiro normal não faz a deslocação ao fim de semana estes senhores deram-se ao cumúlo de colocarem no track & trace que tentaram realizar a entrega ao Sábado (Dia 13 Julho). Insatisfeito com esta situação no passado dia 15 tentei telefonar para o número fixo da central de Santo Tirso ao qual DURANTE O DIA TODO não houve uma única pessoa que pudesse atender o telefone, revoltado desloquei-me a Santo Tirso, tendo de sair do trabalho mais cedo, para resolver a situação. Fui atendido no balcão 2 por uma senhora que me garantiu que era um erro e que a encomenda não se encontrava no armazém da central, dando a desculpa que o atraso e a confusão se poderia ter dado devido às festas em honra de S.Bento em Santo Tirso. Esta senhora prometeu que ligaria para a minha esposa no dia seguinte com a resolução do problema e diria onde se encontrava a encomenda. Sendo que o balcão encerra às 19h e nunca ninguém me ligou!. Encontro-me à espera que me entreguem a encomenda à qual eu paguei portes e já fiz deslocações desnecessárias. \n",
      "[]\n",
      "Exmos. Senhores Em 21 de julho de 2015 efetuei a compra online de um artigo proveniente da Holanda. Este artigo já se encontra em Portugal e o objeto está registado com o n.º . Qual não é o meu espanto quando hoje, 03-08-2015, vejo que o artigo foi enviado para apresentação à Alfândega. Estamos a falar de algo adquirido no espaço comunitário europeu. Cumps \n",
      "[]\n",
      "No dia 24/11/2020 foram enviadas duas caixas de 20 kgs para Angola, a encomenda foi enviada nos CTT do Shopping de Loures. Como é normal neste tipo de encomendas tive-se que descrever o que continha, sendo que esta continha alguns ambientadores liquidos . Ainda assim as encomendas foram recepcionadas , sem previamente ter sido avisada que as mesmas não podiam ser expedidas para o pais de destino. O que acontece é que a encomenda encontra-se retida desde o dia 27/11/2020 por motivos de segurança área, contendo na referida encomenda, alguns bens que se podem detriorar. Até ao momento a mesma não foi devolvida, sendo que corre-se o risco de no dia 24/12/2020, data em que precisarei dos artigos os mesmo não estejam em Angola. Por outra gostaria de saber, o que acontecerá com o valor de envio já pago? Ou seja aos 197,80€ pagosi? Os mesmos foram pagos para encomenda não sair de Lisboa? Pelo que aguardo os vossos eclarecimentos e resolução do assunto. Tukayana Bragança \n",
      "[]\n",
      "Boa Tarde, é inaceitável entregar as cartas de correio fora de horas onde se tem contas para se pagar e entregam passado alguns dias, mais ainda esta semana tinha que ter recebido uma carta importantíssima antes do dia 23 Março quando esse acontecimento era nesse mesmo dia, recebo no dia a seguir. O porquê quando vem o aviso de levantamento da carta tenho que me dirigir ao posto do CTT da Areosa que me fica longe tendo o posto do Forno mãos a obra mais perto. Muito Obrigada \n",
      "[]\n",
      "Estou tentando resolver o assunto a variados dias, como prova os emails que lhes enviei. Tenho uma encomenda.da que chegou desde.o dia 08/08/2018 e ate hoje ano foi despachada.para minha morada, sempre que questiono sobre me.pedem.pra aguardar, agora o numero de acompanhamento nem aparece mais no site da Ctt.recebi uma notificação fui ate uma loja fisica da ctt e nem souberam me atender.fiz contato novamente via e-mail e nada.Por favor resolvam essa situaçao. \n",
      "[]\n",
      "Uma encomenda dos Estados Unidos chegou a Lisboa no dia 27 de julho. O único status era Aguarda procedimentos declarativos. Tentei usar o portal da alfândega (que usei anteriormente) para enviar documentos, mas meu número de rastreamento não foi aceito e dizia Não foi encontrado um processo com o Número de Objeto inserido. Por favor, se não tem um Número Local associado Isso me preocupou e liguei para o atendimento ao cliente no dia 2 de agosto, onde fui informado por um membro da equipe que um aviso ainda não havia sido enviado para mim e que eu deveria esperar até receber o número local. Depois de ainda não ter atualização nem solicitação de documento via telefone, correio ou e-mail, resolvi entrar em contato novamente no dia 9 de agosto, onde me disseram a mesma coisa e não me preocupar porque minha encomenda não estava perdida, simplesmente aguardando processamento . Hoje, eu entro no portal e descubro que no dia 12 de agosto ocorreram as seguintes atualizações: 12:35 O envio foi pedido num país intermédio em direção ao destino final Centro de Tratamento Lisboa 12h35 Chegou ao país de destino Centro de Tratamento Lisboa 11h26 O envio foi pedido num país intermédio em direção ao destino final Centro de Tratamento Lisboa 11h26 Chegou ao país de destino Centro de Tratamento Lisboa Não entendo como, no mesmo dia, o rastreamento mudou para frente e para trás 4 vezes. Liguei para o atendimento ao cliente agora mesmo, hoje dia 18 de agosto e perguntei sobre isso, apenas para ouvir que basicamente eles não têm ideia do que está acontecendo e entrar em contato com o remetente. Nada nisso faz sentido, considerando que o pacote está nas mãos dos CTT desde 27 de julho e já estive em contato com eles várias vezes. Mas parece que ninguém na equipe sabe onde está meu pacote. Apresentei uma reclamação oficial, número SR0002908206, mas ainda não estou satisfeito com a falta de responsabilização dos CTT e estou muito cético quanto ao facto de entrarem em contacto e darem seguimento ao meu caso, dado o mísero serviço de apoio ao cliente que tenho recebeu até agora. No geral, minha experiência com os CTT tem sido péssima e eu recomendo sinceramente cobrir os custos extras e ir com uma empresa de renome como a FedEx ou a DHL, se você puder. \n",
      "['internacional', 'internacional']\n",
      "Tenho uma encomenda internacional que na página do traking da loja refere que no dia 02/12/2021 foi entregue a empresa de transporte do país de destino,na página dos CTT com o traking com o número  refere que dia 30/11/2021 refere que o envio foi aceite e que o processo de envio foi aceite, passados 3 messes ainda não recebi a encomenda, gostaria de saber onde para a minha encomenda? Cumprimentos, Luís Capelo.tranking \n",
      "['internacional', 'internacional']\n",
      "Desde o dia 26 de Janeiro que tenho uma encomenda no estado Recepção internacional. O track number da encomenda é . Já enviei imensos emails a reclamar a situação. Mas sempre me foi respondido que situação está a ser averiguada. Estou desesperado paguei pelo envio e encomenda por si vale dinheiro. \n",
      "[]\n",
      "Um envio entrgeue em Cabo Rui vo directo na estação as 10 Hrs do Dia 21 DEZ hoje dia 23 Não tem NENHUM registo além da entreda, nem ainda a chegada ao Marl Não respondem aos emails ao telefone então é vergonhoso a minha ultima espera foi 30 min ate desistir \n",
      "['internacional', 'internacional']\n",
      "Fiz umaencomenda num site chinês que chegou a Portugal a 6 de julho. Recebi oaviso desalfandegamento e enviei os documentos pedidos,que segundo informação recebida, estariam em fase de análise para validação ( tendo-me sido dito que aguardasse) Segundo informação do rastreamento desde 18 de agosto o objeto estaria no centro de distribuição do norte. No início de outubro fiz novo contacto com o CTT internacional que me informou que a encomenda estava em processo de devolução.Como è isto possível sem qualquer aviso, sem terem sido pedidos novos documentos,semter sido dado feed back da análise dos enviados? Assiste-me o direito de comprar objetos fora de Portugal e também ode me indignar com o péssimo serviço prestado por esta empresa que tem,no mínimo, que justificar os seus procedimentos.! \n",
      "[]\n",
      "Boa tarde, fiz uma encomenda que aguardo faz algum tempo. Considerando o tracking number , vejo que a mesma foi recepcionada em Portugal no dia 16/12/2017 pelas 02:10. Desde então não existe qualquer registo adicional ou evolução no processo, sendo que hoje é dia 22/12, ou seja, já vai com 5 dias utéis. Reparo que o serviço está cada vez pior e é uma vergonha, considerando que cobram por determinados serviços que depois não asseguram nem cumprem. \n",
      "['internacional', 'internacional']\n",
      "Boa noite, Gostaria de saber se seria possível fazer um levantamento de encomenda internacional registada, sem estar presente, de outra forma daquelas indicadas no vosso site. A minha encomenda não é elegível para o Siga, nem tão pouco previ uma procuração para levantamento por terceiros. Não me encontrando em Portugal nos próximos tempos, isto é, só regressando em Janeiro, o destino da encomenda será o de regressar ao remetente. Sabendo o caminho que fez e o tempo que levou a chegar (um mês), seria possível considerar outro meio de nomear outra pessoa para o seu levantamento? Grata pela atenção que me possam dispensar. \n",
      "[]\n",
      "Desde o dia 04/03 que a encomenda está em Portugal e desde o mesmo dia que insisto na resolução e entrega da minha encomenda que não se trata de uma arma nuclear mas sim um carrinho de brincar para o meu sobrinho. Paguei muito mais para ser expresso, pois a criança faria (FEZ) anos no dia 04/04 (UM MÊS DEPOIS) e não queria atrasos. Não é sequer um carrinho com telecomando, mas sim uma espécie de hotwheels, uma miniatura da minha viatura que o meu sobrinho adoraria ter na coleção (e não, também não se trata de um item de coleção real). O vendedor já enviou toda a informação pedida e nenhuma me foi requerida a mim, mesmo depois de ter questionado se era necessário mais alguma coisa. A resposta é sempre a mesma, fizeram uma insistência interna para resolver rapidamente e que dirão assim que houver alguma atualização. Até à data continuo a insistir, mas os ctt decidiram não colaborar \n",
      "[]\n",
      "Os CTT de Odivelas não entregaram a factura da Meo – Altice referente ao mês de Agosto, o que nos causou problemas junto desta empresa. Para além disso, recebemos a factura da EDP um dia após o término do prazo de pagamento mensal! Esses atrasos e não entregas do correio não são admissíveis. Já não é a primeira vez que isto sucede. \n",
      "[]\n",
      "Boa Tarde, Deveria ter recebido um vale da Segurança Social entre o dia 08/10 de Dezembro. No entanto os dias foram passando e o vale não chegou. Já houve outros meses em que se atrasou, mas não mais de 5 dias ( o que já é muito!), pelo que aguardei mais um pouco. Não tendo chegado dentro de um prazo razoável, dirigi-me aos correios de Belem, tendo sido informada que a distribuição estava super atrasado. Recomendaram esperar mais um pouco, ou ir directamente ao centro de distribuição, o que fiz. Lá estava o vale que, hoje, dia 30 de Dezembro , me foi entregue. No entanto, o funcionário disse-me que este já ia para a destruição, o que não entendi. Disse-me também que o atraso se ficou a dever à falta de pessoal para distribuir o correio na minha zona de residência. Aproveitando a minha presença, o funcionário entregou-me também uma carta da EDP, datada de 10 de Dezembro, a qual tem prazo limite de pagamento a 01 de Janeiro. Pergunto: Como é que os CTT prestam um tão mau serviço aos seus utentes? Não sabem que os vales se referem ao pagamento de subsidios ou reformas (como no meu caso), cujos valores fazem falta a quem os aufere? Não tem os CTT um contrato com o Estado para fazer este trabalho, o qual deva respeitar as datas normais de entrega? E no caso da restante correspondência, não saberá os CTT que há prazos para pagamentos no que aos serviços diz respeito, e que o seu não cumprimento pode significar pagamento de coimas, ou até mesmo o corte de fornecimento? A cada dia que passa os CTT estão com um pior serviço, salvaguardando a simpatia e sempre boa vontade em colaborar dos funcionários de algumas estações, no meu caso, a de Belém. \n",
      "[]\n",
      "Bom dia, Fiz uma compra de algo vindo dos Estados Unidos no dia 19-09-2021 e que, entretanto, já foi desalfandegado com sucesso pelos CTT mas a encomenda encontra-se retida na alfândega desde o dia 14-10-2021. De acordo com a última atualização do estado do processo, efetuado no dia 26/10/2021, a encomenda está Em validação pela Autoridade Tributária desde esse dia (cerca de 2 meses já). Entretanto contactei a AT sobre este assunto e informaram-me que ainda não receberam nenhuma declaração aduaneira de 'importação' (DAI) da parte dos CTT relativa a esta encomenda. Hoje, por qualquer motivo, o estado da mesma mudou para Aguarda procedimentos declarativos, o que não faz qualquer sentido. Já tentei contactar os CTT por telefone e e-mail e não houve qualquer ajuda ou aparente tentativa de desbloqueamento da situação. Como tal, em último recurso, tive de recorrer ao Portal da Queixa. Agradecia desde já a devida atenção a este problema. Cumprimentos, Rui Melo. \n",
      "['ctt expresso']\n",
      "Efectuei a compra de uma Box com produtos para cães à empresa VivaDogsUK. Estes enviaram a encomenda pelos CTT Expresso. Esta manhã recebo um email dos CTT Expresso a informar que irão proceder à entrega. Umas horas depois surge a info no site de que 09:54 Não Entregue Endereço incorreto ou insuficiente. Contactei logo o apoio ao cliente. Estes indicam que a morada está incorrectae que é impossivel encontrar o local porque a morada não está completa e que eu não posso corrigir a morada nem pedir a entrega num ponto de recolha porque, conforme a assistente indicou não lhe posso prometer que entreguem em loja porque a morada está incorrecta. Ora. eu até posso entender a situação. mas a partir do momento em que me indicam a morada que têm na guia e QUE ESTÀ CORRECTA não posso aceitar esta situação. Portanto. a morada é : Avenida Dom João II, nº 43, Lote 1.17.02, Torre Fernão de Magalhães mas os CTT expresso só tem na guia a seguinte morada : Avenida Dom João II, nº 43, Lote 1.17.02, Torre Fernão de Maga! A sério que por estar MAGA em vez de Magalhaes ja nao conseguem efectuar uma entrega? A sério? quando a morada oficial é só Avenida Dom João II, nº 43, Lote 1.17.02, sendo o lote o que corresponde à torre que, de modo a auxiliar quem entrega, se coloca o nome ´so para ajudar? E quando menciono esta situação à assistente , esta fica chateada e DESLIGA-ME O TELEFONE NA CARA? É VERGONHOSO O DESRESPEITO QUE TÊM POR NÓS E O MAU TRABALHO QUE FAZEM \n",
      "[]\n",
      "Exmos Senhores, Venho através deste meio informar a ineficácia da vossa prestação de serviço na zona do Chapim mais propriamente na Praceta Gonçalves Zarco em 2675 Odivelas. No espaço de 2 meses sensivelmente ( Maio a Junho ) ( Funcionários variam quase de semana para semana ) colocaram erradamente correspondência em diversos números, no Nº 7 ( 3 cartas de outros prédios e uma encomenda para o número 12 em caixas do correio, extravio de uma carta da SIMAR no meu caso ( Não efectuaram corte a 19/06 por pouco no meu caso porque me desloquei á SIMAR em LOURES precisamente a 18/06 para pedir esclarecimentos e liquidei o que estava em falta, informaram que este último mês tem sido um descalabro de casos idênticos em Odivelas ) . Um inquilino do Nº 10 teve a simpatia de me vir entregar uma encomenda para mim que moro nº7 que tinham colocado na caixa de correio da pessoa. Perante tais factos chama-se á atenção que neste período Férias não basta substituir os funcionários dos CTT por terceiros / temporários sem o mínimo de responsabilidade, pelo que a devida entidade dos CTT deve chamar á responsabilidade quem faz distribuição nesta zona CTT Heróis de Chaimite (Odivelas) . O Carteiro habitual não é o que tem vindo , conforme citado desde meados de maio quase que todas as semanas é outra pessoa e por vezes até dias seguidos. Os prejuizos causados por trocas de cartas , encomendas, etc mal colocadas são da responsabilidade de quem neste caso. Exemplo se cortarem a água, Luz, Gas, por extravio quem paga a ligação, sim é o proprietário mas não deveria ser e os CTT deveriam exigir a certas entidades envio registado, mas não porque assim cada qual desculpa-se com o outro o que convêm. Atentamente \n",
      "[]\n",
      "Gostaria de reclamar o facto de não recebido o DUA do meu veiculo automóvel por parte da CRCPC de Paços de Ferreira. O objeto foi entregue por um funcionário em alguma caixa de correio que não a minha e entregue a alguém, uma vez que é um registo entregue em mão sem assinatura. Depois de várias reclamações feitas nos serviços online dos CTT, até agora mais de um mês respostas ZERO. Eu questiono, quem é responsável pelo extravio do documento? Quem me garante que o DUA não é para uso indevido e quem é o responsável? E quem me vai ressarcir das despesas que vou ter com o pedido da 2.ª via? \n",
      "[]\n",
      "No dia 30 de Junho uma encomenda proveniente da Holanda, com o n.° de seguimento , chega a Lisboa e é retida pela Alfandega. Ainda que um objecto recebido do espaço europeu não deva, à priori, ser alvo de retenção, recebi a notificação por parte do Correios para apresentar a Fatura Comercial e Documento Comprovativo de Pagamento com descrição da mercadoria, número de item, valor e quantidade, com os portes de envio, caso aplicáveis. Muito bem! Conforme solicitado, enviei os documentos para o e-mail no dia 15 de Julho e até então não obtive resposta e a encomenda continua retida. Pouco me apraz saber que a encomenda continua retida, apesar de já ter respondido favoravelmente aos pedidos, não sendo, e na aplicação da lei, fosse obrigado a fazê-lo, já que o objecto é proveniente da Europa. Considerando estes factos, solicito por isso, especial atenção para a resolução célere desta situação. \n",
      "[]\n",
      "Estou a espera de correio IPORTANTE entregue pelos CTT, não entregam, não sabem onde está, recusam se a procurar quando me dirijo ao balcão. O carteiro da minha zona recusa se a entregar a correspondência na morada da correspondência, entrega tudo trocado e não é uma nem duas vezes, é de forma contínua e quando chamado a atenção ainda é desagradável. \n",
      "[]\n",
      "Fiz o pagamento do desalfondegamento que pediram pra fazer o pagamento, mesmo que foi depois da data de vencimento, a mulher que trabalha aí no ctt me liberou para fazer o pagamento, agora está dizendo que vão mandar minha mercadoria de volta para o país destino, ja que não vão me entregar a encomenda quero receber meu dinheiro de volta. Não vou deixar 48 Euros pra vocês não \n",
      "[]\n",
      "Tenho uma série de encomendas há mais de um mês em Portugal, que foram enviadas via Yanwen, e até hoje não me foram entregues. No apoio ao cliente dizem que a responsabilidade não é vossa, mas a verdade é que são sempre vocês que as entregam. Gostaria de resolver este assunto o mais brevemente possível. Obrigada \n",
      "[]\n",
      "Fiz uma compra no eBay a 3 semanas atrás no qual foi pago o VAT ou seja o imposto que deveria ter que pagar para desalfandegar a minha encomenda para que o envie chegue mais rápido a casa. Hoje deparo me que a encomenda está retida para desalfandegamento ? Sabe se lá porquê.O processo que deveria ser mais simples e rápido parece que piorou visto que antes nunca tive problemas quando pagava o VAT. Devido ao atraso já não tenho interesse em receber esta encomenda. \n",
      "[]\n",
      "A minha encomenda com o codigo  que chegou e têm andado a saltitar de armazem em armazem durante 1mês só chegou a minha casa dia 07/09/2016. E o problema é que chegou com uma taxa de pagamento de 18.90€ sem explicação do porquê. Todos os documentos pedidos foram enviados por email no dia 09/08/2016 e não foram pedidos mais documentos. Gostava de saber porque foi aplicada uma taxa a este objecto em particular com o valor da encomenda, ou seja, a encomenda com um custo de 17€ ~18€ foi-lhe aplicada uma taxa de 18€ de alfandega ?!? Este objecto irá ficar nos CTT durante 6dias ( como é normal ) por isso preciso de saber que taxa foi esta e quem a poderá anular pois ou pago o valor da taxa ou a encomenda é devolvida! Gostava que me resolvessem/ respondessem esta situação em tempo util. \n",
      "['internacional', 'internacional']\n",
      "Reclamação alusiva ao modo como informam, tratam as encomedas vindas do exterior e sujeitas a taxas. Esta reclamação é dirigida aos Internacional CTT Pedem documentos que nem existem, no site de venda;exigem um documento unico que não informam como se adquire, caso contrario,querem que se levante a encomnda em Lisboa. Por ultimo não acreditam nos elementos enviados que são print screen do site de encomenda. FUi por isso obrigado a devolver o produto Demoram muito a responder e mal. \n",
      "[]\n",
      "boa tarde, após efetuar uma compra à cerca de alguns meses, recebo uma notificação dos CTT que a mesma tinha ficado retida em alfandega, na qual deveria acessar ao portal de desalfandegamento ctt com o intuito de efetivar o pagamento da mesma. No mesmo dia pelas 14h30, procedi ao pagamento da referida encomenda, tendo a mesma mudado de estado no dia seguinte 23/07/2021 pelas 12h00 tendo o titulo de com autorização de saída pela autoridade tributaria. Após esse momento e tendo efetuado mais de 5 telefonemas para o apoio ao cliente CTT bem como através do formulário que disponibilizam para contacto, as respostas que são facultadas ao clientes são 0, não tendo qualquer tipo de contudo. Apenas se limitam a indicar que a encomenda está com autorização de saída, MAS em momento algum indicam quando está será entrega. Sem mais delongas, tenho um bem RETIDO, PAGO e sem que a entidade responsável pela sua distribuição saiba quando será entregue. Serviço de má qualidade, com um apoio ao cliente péssimo. Segue queixa no livro de reclamações online. \n",
      "['correio registado']\n",
      "Paguei o envio de um artigo por correio registado . No CTT tracking aparece como entregue quando na verdade, nada estava no correio. Nem encomenda, nem aviso. Paguei um serviço extra para ter a certeza que era entregue. Além de não ter sido feito nenhum serviço para o qual paguei, a encomenda desapareceu entre os CTT da Maia e a minha casa. Fiz duas reclamações sobre a minha encomenda, ao qual me respondem que foi entregue no receptáculo postal. Mas qual? No meu não foi. Telefonei, senti-me mais uma vez a ser enrolado e pedi para falar com um supervisor que me aconselhou a fazer mais uma reclamação. Assim o fiz, dia 11 de Maio. Hoje dia 6 de Junho ainda não me responderam. Telefonei novamente dia 3 de Junho, ao qual pedi para falar com um supervisor, ao qual disseram que não estava nenhum presente e que me telefonariam nesse mesmo dia. Hoje dia 6 de Junho ainda ninguém comunicou comigo. E incrível a energia que colocam para não resolver um problema. Depois de 3 reclamações, falar com o supervisor e vários telefonemas a falar com uma máquina, a única coisa que me conseguem dizer é que foi colocado no receptáculo postal (ao qual eu consigo ver desde o inicio ja que tinha um tracking), mas não sabem dizer qual. Erros todos podemos cometer, mas uma empresa destas deveria ser séria e responsável. Paguei por um serviço de correio registado que não foi feito e por um artigo que não foi entregue. Os CTT não cumpriram com aquilo para o qual foram pagos. Quero receber o que é meu. De preferencia a encomenda, mas senão conseguem, então quero a devolução integral do dinheiro que paguei. O próximo passo será falar com Entidade de Resolução Alternativa de Litígios e de seguida acusá-los de roubo em tribunal. \n",
      "['internacional', 'internacional']\n",
      "Enviei de itália uma encomenda no dia 27 de Novembro. Tratava-se de uns biscoitos que a minha familiar adora e gostava de fazer-lhe uma surpresa pelo Natal, uma vez que estes não se encontram em Portugal. Desde que a encomenda chegou a Portugal foram estes os movimentos que teve: quinta-feira, 21 Dezembro 2017 04:42 Receção C. O. PERAFITA 01:40 Expedição Nacional C.O. LOURES-MARL (OLX) quarta-feira, 20 Dezembro 2017 21:02 Receção C.O. LOURES MARL terça-feira, 19 Dezembro 2017 11:52 Receção internacional LISBOA EMS Como podem verificar, desde o dia 21 encontra-se parada no CO de Perafita. Enviei uma mensagem aos ctt a perguntar o que se passava e nunca obtive resposta. Na mesma altura, a minha companheira enviou uma encomenda para a Ilha da Madeira e esta chegou em Dezembro, portanto parto do principio, que o problema é no CO de Perafita. Uma vez que não sou o unico na internet a reclamar deste CO., porque não se procede a uma averiguação interna no sentido de se aplicar sanções disciplinares, recordando que nos casos mais graves poderá mesmo ser desencadeado procedimento criminal. Estes comportamentos levam a que as pessoas deixem de usar os serviços ctt, depois admiram-se pela diminuição do seu volume de serviços e pelo consequente fecho e despedimento de trabalhadores. Espero sinceramente é que despeçam os trabalhadores certos, já agora coloco em causa a utilidade do CO de Perafita, uma vez que parece apenas atrasar o fluxo de correspondencia. Deixo uma sugestão aos administradores do grupo ctt, pode ser um centro a eliminar dado a sua ineficácia e as sucessivas reclamações contra este, pelo que li na internet. Continuar a ter um centro assim, pode revelar-se um dano financeiro para o grupo. \n",
      "[]\n",
      "Segui a encomenda que fiz e vejo que o status dá como entregue mas não recebi nada! A morada a qual foi enviada esta correta como o anexo mostra, mas no tracking aparece que foi entregue em 'Centro de Entrega 4750 Barcelos' no qual o receptor diz 'RECETACULO POSTAL'. No qual dia 21 de Julho segundo o tracking esteve em distribuição, no qual nao foi entregue pois nao estava ninguém em casa o que e mentira pois nao me ausentei de casa esta semana. Cumprimentos \n",
      "['internacional', 'internacional']\n",
      "Enviei uma encomenda  à cobrança para Espanha. Preenchi o impresso de registo e um impresso de cobrança internacional (que já não existe). A encomenda esteve mais de uma semana parada por entregar em Espanha. Tive de ligar para os Correios de Espanha porque não estavam a entregar a encomenda porque não sabiam onde enviar o pagamento. Liguei aos CTT a avisar que a encomenda ia ser devolvida se não lhes informassem como devia ser feito a cobrança e a quem enviar o pagamento. A encomenda foi entregue, e o destinatário pagou para receber a encomenda. Nunca recebi o vale de pagamento. Os correios depois de eu ligar varias vezes a falar da cobrança e comunicar os datos da faturação da mesma respondem me que: não foi aceite com serviço especial de cobrança e os portes que pagou 5,50 euros pelo envio são apenas o custo do registo internacional sem serviços especiais associados 1- Fiz varios envios a cobrar para espanha e sempre paguei os 5,5€. 2- O tipo de envio à cobrança que eu fiz deixou de existir. Mas eu não o inventei, nem sonhei com ele. Eu fui aos correios, entregaram me o impresso para preencher e enviei como todas as outras vezes. 3- O envio foi à cobrança, e foi reconhecido como cobrança em Espanha. Por isso passou o que se passou na entrega. Gostava que os CTT pagassem o meu vale, em vez de inventar histórias. \n",
      "['estrangeiro']\n",
      "Boa Tarde, Fiz uma encomenda do estrangeiro que se encontra desde o dia 10 de Fevereiro em Lisboa com o status para Aguarda procedimentos declarativos e a partir desse momento não houve mais actualizações. Já tentei por diversas formar contactar os CTT mas não obtive qualquer resposta. Ainda por cima tratando-se de snacks e comida começo a ficar com medo que a encomenda se estrague. Pretendo saber como proceder para resolver esta situação! Obrigado \n",
      "[]\n",
      "Falha nas erntregas de 2 encomendas e extravio de uma delas sem que até hoje saiba do seu paradeiro pois ao contrario do que me foi comunicado por mensagem , ninguém a recebeu e nínguem me dá resposta á reclamação que fiz por escrito nos ctt de ped Ref. Nac.  \n",
      "[]\n",
      "Boa tarde, Possuo uma encomenda que deu entrada na alfândega de Lisboa no dia 21 de Julho de 2017 , encontrando-se desde esse dia com o estado de Aguarda Procedimentos Declarativos, até à data não obtive nenhuma justificação. A encomenda entrou em portugal vinda da Alemanha não percebo a razão do atraso. Enviei um e-mail no dia 25-07-2017 através do site dos ctt no formulário de contacto e até ao momento não obtive resposta. Gostaria de saber o ponto de situação da minha encomenda e porque razão ainda não foi entregue. Obrigado \n",
      "['estrangeiro']\n",
      "1. Fiz uma encomenda no Estrangeiro, onde após quase dois meses sem a receber pedi ao Comerciante um Traking Code, que me foi facultado. ( 2. Finalmente vi que tinha sido entregue no Posto dos CTT da Rebelva dia 07Janeiro 4. Fiquei a aguardar a entrega em casa ou o papel que costumam deixar quando não está ninguém. Deram-me a informação que os serviços dos CTT estavam atrasados por causa da pandemia e assim aguardei. 5. Ao fim de uma semana, nada. Fui ver o Traking code e qual o meu espanto quando vejo que a encomenda vai ser devolvida com data de 18Jan. 6. Desloco-me no dia 19Jan ao Posto dos CTT para salvar a encomenda. Era o dia em que iria sair da Rebelva! Cheia de esperança lá fui. 7. Deparo-me com uma senhora que sentada na sua cadeira e em tom monocordico, basicamente me diz que se não recebi a encomenda, a culpa é minha. A Morada que deu estava errada, diz Provo que não! ou, O Papel foi entregue na sua caixa do Correio Respondo dificilmente e peço cópia desse registo. Diz que não existe registo. 8. Finalmente em quase desespero digo que a encomenda está a sair da Rebelva, que ligue por favor para tentar parar a devolução. Responde. Ah. já deve estar em Lisboa nos nossos Serviços. Digo quase aos gritos Ligue para lá.E ela, diz que isso é com os carteiros ? %&%% 9. E agora, pergunto eu? Faça uma reclamação se quiser no nosso site E saio do Posto dos CTT furiosa, a pensar que não acredito no que aconteceu. Sempre recebemos todas as encomendas em casa (e não são poucas) ou todos os papéis que nos colocam na Caixa dos Correios. Quero acreditar que houve má vontade (eram 3 passadeiras de andar). \n",
      "[]\n",
      "Fui notificada do facto da minha encomenda ter sido retida na alfândega no dia 23 de Abril, tendo enviado a documentação necessária para o seu desalfandegamento no dia 24, sendo que, os serviços CTT acusaram a receção dos mesmos no próprio dia 24. Desde aí que não houve qualquer mudança no estado da minha encomenda, tendo já sido feito um pedido prioritário. Depois desse pedido, o estado da respetiva encomenda manteve-se inalterado, mais tarde, o pedido prioritário foi novamente reforçado, sendo que, mesmo assim não houveram alterações nenhumas no estado da encomenda. Até agora, não recebi nenhum tipo de informação acerca do seu desalfandegamento e da taxa que poderei ter de pagar. Sinto que durante todo este processo está a haver um serviço de extrema incompetência e gostaria de o ver resolvido o mais cedo possível. \n",
      "[]\n",
      "Encomenda encontra-se parada em Lisboa desde o dia 26/06/2019, sendo que moro em São Miguel, Ponta Delgada, e a mesma ainda não foi sujeita a procedimentos declarativos. Não percebo a demora para um simples envio para cá.  \n",
      "[]\n",
      "boas esta encomenda tem segunda-feira, 11 Abril 2016 13:02 Autorização de Saída pela Alfândega LISBOA e nunca chega no a minha casa ja e quase um mes que esta chegar do lisboa ate a minha morada no respondeu quarta-feira, 18 de Maio de 2016 3:45 Informamos que o assunto reportado foi reenviado para o serviço de Reclamações, para averiguação. De futuro, caso necessite de mais alguma informação deverá contactar para i nunca mais nada nem resposta nem encomenda nem dinhero \n",
      "[]\n",
      "Saudações de acordo com o horário em que visualizam! Eu fiz uma encomenda no dia 28/04/2021 no site da Pretty Little Thing (PLT), na qual foi expedida via Royal Mail com o n.°  e como em todas as encomendas, eles deram-me até dia 14 de Maio para receber a encomenda, o que por sua vez não aconteceu. Lembrando que, apesar do Reino Unido já não estar na União Europeia, a taxa alfandegária foi paga no ato do pedido da encomenda, caso o entrave da encomenda seja este. Como ia dizendo, a encomenda chegou em Portugal no dia 11/05/2021, 3 dias antes da data prevista para entrega. Até agora, quando rastreio aparece que a encomenda está “pendente de aprovação”, hoje é dia 4/06/2021, já lá vão quase dois meses e nada de receber a encomenda. Gostaria de saber o que se passa, por que razão ainda não recebi a minha encomenda e se houver algum motivo superior, por que ainda não fui comunicada. Acrescer ainda que, fiz a encomenda com dois meses de antecedência para que se evitasse esse tipo de situações, pois preciso dela já para o próximo mês e é de pendor urgente. Aguardo resposta, Obrigada. HB \n",
      "[]\n",
      "Atraso na devolução do dinheiro da cobrança, vejamos: entrega da encomenda dia 12 Fev 2021 às 10.48h encomenda levantada pelo destinatário em 18 Fev 2021 às 14.30h Receção do cheque da cobrança a casa do remetente, 02 Mar 2021 Doze dias para fazer chegar um cheque a casa do cliente, não será tempo em demasia, mesmo em tempo de pandemia? \n",
      "[]\n",
      "Tenho uma encomenda ba alfandega desde o dia 20-07-2021 com o nr de rastreio . Paguei o iva quando fiz a compra do produto, no desalfandegamento no site nem oportunidade tem de mostrar que foi pago, paguei ainda mais iva. E ja se passaram 2 semanas e nada de me entregar o artigo. Paguei o que é por lei e foi-me cobrado mais dinheiro e nao me enviam a minha encomenda \n",
      "[]\n",
      "Fiz uma encomenda que estava a caminho pelo CTT A encomenda nunca chegou a morada de destino mas apareceu pelo Tracking Number que ja havia sido entregue. Fiz uma reclamação junto ao CTT Ref: SR0000121746 e cmo ja havia passado o prazo de resposta, fiz novo contato cuja única providencia foi sugerir que eu aguardasse contato. Recebi a pouco um resposta a dizer que a encomenda foi entregue na morada indicada pelo remetente. O fato é que a morada de entrega relacionada foi a morada do proprio centro de distribuição do CTT, Nomeadamente Centro de Entrega 2685 Sacavem- entregue para uma pessoa que desconheço (Por confidencialidade não colocarei o nome em mensagem publica) e sugerem que eu reclame com o remetente. O fato é que a encomenda segue extraviada \n",
      "[]\n",
      "Reclamação #63870221 Durante os ausentes meses desta página, eu estive em contacto convosco, se é que se pode chamar isso, na vossa página. Estas são todos os contactos que fiz ([SR0003537163]:Re: SR0003533053: Re: SR0003462042: Re: SR0003445391: Re: SR0003332915: Re: SR0003223976: Re: SR0003071231). De salientar de que toda a vez que vos contactei recebi uma resposta padrão ou seja um copy / paste em vez de respostas concretas, para além de as pessoas que estão no serviço ao cliente não lerem emails para trás, o que pouparia tempo. Eis um resumo. Setembro: A aventura começa no dia 13 de Setembro 2021. Registo-me no vosso site e tenho uma dificuldade da qual mando um screen shot (sugerido por vós) com o meu problema. 15.09 Reencaminhado para análise mas para procurar online na vossa página. Pergunto-me se os vossos colaboradores sabem os processos e se sabem qual é a verdadeira função de apoio ao cliente.? 18.09 Ainda sem resposta do reencaminhamento interno mas com algumas questões em relação a soluções/opções. (ou fazes e pagas ou é devolvida) 20.09 Sem qualquer resposta ao meu email anterior mencionam que iniciei o processo e depois dão as instruções de como o fazer. 20.09 Sou informada de que vou receber uma nova notificação de 7 dias para efectuar desalfandegamento ou é devolvida a minha encomenda. 22.09 Por favor procedam com o envio da encomenda ao remetente o mais rápido possível e sua confirmação. 24.09 Email do vosso lado :Informamos que o seu objeto já teve autorização de saída da Alfândega, pelo que deverá aguardar a entrega na morada de destino. Importa relembrar que no passado dia 1 de julho de 2021, em cumprimento de uma diretiva comunitária, chegaram ao fim as isenções do Imposto sobre o Valor Acrescentado (IVA) nas compras extracomunitárias mesmo para artigos de valor inferior a 22€. Neste contexto, foi desenvolvido um sistema em que estamos a alertar os nossos clientes via SMS para regularizarem em a eventual falta de dados e/ou a liquidação do IVA e serviços de alfandega, sendo crucial a sua rápida regularização para a celeridade do processo final de entrega aos destinatários. Nesta fase inicial de arranque e de adaptação de todos os intervenientes, estão a verificar-se algumas perturbações com impacto nos prazos de desalfandegamento, estando os CTT a realizar todos os esforços, em colaboração com todos os intervenientes do processo, para regularizar rapidamente a situação. Apelamos à sua compreensão, reiterando que os CTT continuam a trabalhar em articulação com os expedidores para resolver com a brevidade possível os constrangimentos sentidos nesta fase inicial. 29.09 De acordo com o vosso email,screen shot anexado, a minha encomenda foi liberta e a caminho do destinatário mas o vosso site não mostra qualquer movimento. Por favor esclareça. Outubro 4.10 Olá noah mauricio reis, Escolheu o método de pagamento Payshop para completar o processo de desalfandegamento do seu objeto . Para garantir que recebe a sua encomenda rapidamente, realize o pagamento no agente Payshop mais próximo. 6/10 Estimada Cliente Catarina Mafra, Informamos que deverá aguardar pela confirmação do pagamento efetuado das taxas do objeto , por via de uma notificação email e/ou sms. Após a confirmação do pagamento receberá uma notificação a informar que os documentos referentes ao desalfandegamento (declaração aduaneira e fatura) estão disponíveis na área de pagamentos, da ferramenta “Desalfandegar uma encomenda” para consulta, bem como para download e impressão. 11.10 Pagamento efectuado 13.10 O pagamento foi efectuado na Segunda (foto anexada) mas ainda não foi processada pelos vossos serviços? Aguardo resposta o mais breve possível. 14.10 Informamos que já foi aberto um pedido interno de reabertura do seu processo, visto que pagou o desalfandegamento mas o processo expirou, tendo de aguardar a reabertura do seu processo e a receção da notificação de saída do seu objeto. 15.10 Preciso de mudar a morada do destinatário, por favor aconselhe. 16.10 (Eu pedi ajuda em algo e o que eu recebi? = Informamos que se efetuou o pagamento e o processo se encontra expirado deverá aguardar a atualização de saída da alfândega uma vez que se trata de uma anomalia e o estado está em processamento. Estamos a substituir o canal email por formulários, que enviam imediatamente toda a informação para a equipa responsável. Vamos continuar a modernizar os canais de Apoio ao Cliente para responder mais rapidamente às suas questões. (Como querem evitar emails que por norma têm tudo em cadeia?, não consigo entender) 22.10 Peço esclarecimentos. 1) pedi para ser devolvido vocês insistiram no desalfandegamento 2) fi-lo e paguei uns dias mais tarde. Tenho estado a aguardar email e/ou sms de confirmação e nada. Vossos emails mencionavam que ia para o destinatário inicial e agora diz devolvido no dia 4 Outubro, o que NÃO mencionava até recentemente. 3) como assim não encontrou não critérios da alfandega? Quais são os vossos critérios? Esta foi aberta?!?!? 22.10 Solicitamos o comprovativo de pagamento das taxas aduaneiras do processo  para averiguação, por esta via. 22.10 Não percebo como vocês perdem tanta informação, uma vez que já vos foi enviada uma foto. Veja em anexo por favor 24.10 Lamentamos a situação reportada. Informamos que deve aguardar notificação com indicação de conclusão com autorização de saída referente ao objeto , com a maior brevidade possível. Estamos a substituir o canal email por formulários, que enviam imediatamente toda a informação para a equipa responsável. Vamos continuar a modernizar os canais de Apoio ao Cliente para responder mais rapidamente às suas questões. De futuro contacte-nos através de formulário disponível 24.10 Comecemos por ler a cadeia de emails antes de responder porfavor. ? Uma vez que ninguém o faz eis que volto a reenviar o email que originou o anterior. Peço esclarecimentos. 1) pedi para ser devolvido vocês insistiram no desalfandegamento 2) fi-lo e paguei uns dias mais tarde. Tenho estado a aguardar email e/ou sms de confirmação e nada. Vossos emails mencionavam que ia para o destinatário inicial e agora diz devolvido no dia 4 Outubro, o que NÃO mencionava até recentemente. 3) como assim não encontrou não critérios da alfandega? Quais são os vossos critérios? Esta foi aberta?!?!? 4) onde está esta embalagem?!?! Em Portugal ou de regresso á Escócia? E evitem esta treta do sms ou email porque o vosso site diz que já partiu e antes de eu pagar um email vosso diz que vai para o destinatário. 29.10 Ainda à espera da resposta ao meu último email de pedido de esclarecimento. Junto uma outra nota, para a colecção, de que novamente foi alterada, ou melhor, desta vez foi removida toda a nota existente em relação ao meu assunto (4 de Outubro). Por favor leiam o email enviado, o último ou o primeiro, desta lista e dêem uma resposta concreta. Até agora nenhuma sms ou email a confirmar o pagamento, encomenda supostamente devolvida. Onde está a encomenda? Novembro 6.11 Esta reclamação. porque nem email nem sms foi-me enviado até à data, nem sequer há resposta do meu pedido de esclarecimentos, desde o dia 24.10.2021. Nem sequer, alguém se digna a telefonar a dar qualquer esclarecimento ou pedir desculpas. Já estive em Portugal 2 semanas, já regressei e nada da minha encomenda, sms ou email. neste entretanto, a informação no site referente ao dia 4 de Outubro está em branco !?!?! Admito que houve algum lerdismo inicial mas, sinceramente também não houve muita ajuda do vosso lado. \n",
      "[]\n",
      "No passado dia 03/01/2018, dirigi-me aos CTT de Peniche, e paguei 3 meses de desvio de correspondência (para Santa Iria da Azóia), pelo facto de estar desempregado e registado no centro de emprego de Peniche. Fui operado recentemente operado e, estou em Lisboa a fazer fisioterapia. Paguei o serviço 27,68€. No passado dia 08/03, o Centro de Emprego envio-me uma notificação, para a qual o serviço de desvio de correspondência não funcionou e a correspondência foi-me enviada para a morada de Peniche, quando deveria ter sido enviada para Santa Iria dÁzoia. Faltei á convocatória do Centro de Emprego, que me trouxe alguns contratempos, além do mau serviço prestado pelos CTT de Peniche, tenho 5 dias para explicar o mau trabalho prestado por aquela estação dos CTT. Solicito que os serviços me devolvam o valor por mim pago e que não funcionou, emitam uma declaração que assumam o erro praticado, com um pedido de desculpas. De referir desde o inicio de Janeiro, que o serviço não tem estado a correr bem, começaram os CTT por fazer desvio da correspondência da minha esposa (Serviço não solicitado), apresentei reclamação. De facto tenho a registar, o muito mau serviço prestado por esta entidade. Exijo o referido pedido de desculpas. O valor por mim, pago no inicio de Janeiro e até dia 08/04/2018, e que de uma vez por todas o serviço seja praticado de acordo com o pedido dos Clientes. Irei junto da entidade reclamar, no livro de reclamações e reclamar também junto do Chefe da respectiva estação dos CTT. Vejam para que serve o pagamento de serviços. \n",
      "[]\n",
      "No passado dia 10.08.2015 foi solicitado o serviço SIGA (através da aplicação para tlm) e ficou registado o pedido. Passado 4 dias liguei para a linha de apoio ao cliente a dar conta, que a encomenda ainda não tinha sido entregue na nova morada ( foi confirmada toda a informação) e indicaram que a mesma se encontrava pendente. Informaram-me que devia telefonar para a estação dos ctt que a tinham ( é claro que na estação de ctt ninguém atendeu, após várias tentativas ctt de Alcabideche). Liguei novamente para a linha de apoio ( vergonhoso ser uma linha de valor acrescentado. que nos dá cabo do saldo de tlm), que se iam desculpando e passado de um operador para outro ( e o tuga sempre a pagar, mas pelo menos iam dando música). Resumindo até hoje ainda não veio a encomenda, já fiz reclamação através da mesma linha. Uma resolução tão simples, que passava internamente entrar em contacto com os ctt de Alcabideche para desbloquear a encomenda e entrega-la em Guimarães. A minha reclamação se demorar os 10 dias de resposta, que será o que vai acontecer, quando a entregarem podem a levar de volta pois já não estará lá ninguém para a receber, ou senão ainda vou ter de pagar novamente para que familiares meus o façam. Os ctt, prestam um mau serviço SIGA aos seus clientes. \n",
      "[]\n",
      "Venho por este meio apresentar uma reclamação face a uma encomenda, código L300455005DE, proveniente de Inglaterra que ficou retida na alfândega no passado dia 27/08, sendo que esta última foi enviada pouco antes (~ 1 semana). Recebo no mesmo dia notificação de desalfandegamento por mail e procedo à resolução pelo site da CTT com submissão dos documentos requeridos no dia 31/08. Pouco depois, no próprio dia, a encomenda encontra-se em Conclusão com autorização de saída pela AT. À partida, isso deve querer significar que está pronta para distribuição, certo? Mas na seção correspondente a Seguir ou alterar entrega ainda se encontra no estado de Em importação, desde o momento em que deu entrada na alfândega! Aguardei toda uma semana pela possível entrega e nada. Assim, visei procurar informações enviando um ticket aos CTT e só me disseram para aguardar visto haver um elevado volume de encomendas, devido à nova regra do IVA e retenção de encomendas extra-comunitárias. Também tomei em conta o facto de o prazo pagamento para o redirecionamento da entrega estar pendente e estar a findar ( até 10 dias após a validação do desalfandegamento), o qual preciso de concretizar após notificação dos CTT. Mas o quê que está a acontecer? Será que estão a prolongar a demora até eu não poder mais reaver a minha encomenda?! Que burocracia. \n",
      "[]\n",
      "Estou à espera de receber a minha encomenda à cobrança desde dia 29/06 , verifiquei que tentaram entregar dia 03/07 o que não foi verdade pois estou sempre em casa. A partir desse dia nunca mais tentaram entregar a encomenda nem deixaram aviso de levantamento para levantar a encomenda, tenho urgência nos artigos e ainda não recebi nada nem sei quando receberei. \n",
      "[]\n",
      "Foi postado um envelope com documentos importantes no Brasil, em 27/12/2021. O prazo seria 8 a 11 dias úteis, tendo sido finalizado, portanto, em 11/01/2022. Ontem, 17 dias depois, o envelope finalmente chegou a Portugal e saiu para entrega (teoricamente). Como faltava o complemento (apartamento) na morada, o rastreio indicou que não foi entregue, pois morada estava incompleta. Até ai, ok. Entretanto, não fui contactada em nenhum momento pelo CTT (nem por email, nem sms, como dizem que entram em contato o número de telemóvel foi fornecido). E o envelope nem sequer tentou ser entregue, pois estive durante todo o dia a espera e afirmo que o CTT nem sequer passou. Tentei levantar o envelope em um dos centros de distribuição e fui informada que voltará para o remetente, e que eles de forma alguma fazem algum tipo de contato. Ou seja, mesmo eu indo atrás do envelope, eu não posso levantar? O documento demorou mais do dobro do tempo pra chegar e agora simplesmente vai voltar pro Brasil? Não aceito. Eu preciso levantar esse envelope seja onde for. Não exijo que adivinhem a morada, ok. Mas eu estou me dispondo a ir buscar e não posso? Peço por favor, que me deixem levanta-lo seja onde for. Codigo de rastreio:  \n",
      "[]\n",
      "Fiz uma encomenda no site Gearbest de duas capas para telemóvel e uma ficha universal, esta encomenda foi feita há aproximadamente 45 dias. Aceito que as inúmeras encomendas na época Natalícia possam provocar alguns atrasos na entrega, mas é inaceitável que esta encomenda já esteja em Portugal há 15 dias, aguardando procedimentos declarativos há 14 dias, e que ainda nem tenha recebido nos correios o aviso para apresentar os documentos. ERRADAMENTE (voluntariamente ou não) no tracking dos CTT aparece que os documentos já foram solicitados há 13 dias, essa informação está errada, estão a MENTIR pois só no final da semana passada a mesma foi actualizada no traking e ainda nem me chegou às mãos, assim que verifiquem que alteraram o estado da encomenda e antecipando a chegada do aviso (como faço sempre), enviei nessa mesmo momento (dia 18 às 11:54) todos os documentos, desde a os elementos pessoais que pedem até cópias da página pessoal onde comprei os produtos assim como comprovativos do pagamento dos mesmos, toda a informação foi enviada mas até hoje não há alterações a encomenda. É inaceitável que demorem tanto tempo para libertar umas capas de telemóvel que foram pagas com o meu dinheiro, não foram roubadas nem foram oferecidas, comprei as capas com o dinheiro do meu trabalho, não têm o direito de as deixaram na alfandega só porque têm esse poder para o fazerem, não é nada de ilegal, são capas plásticas para telemóvel. Paguei os bens, paguei o transporte, paguei seguro e ainda tenho de esperar que alguém decida quando vou poder ficar com as coisas que comprei.INACEITÁVEL. \n",
      "['internacional', 'internacional']\n",
      "Tenho uma encomenda em estado de aguarda procedimentoa declarativos. O apoio ao cliente pede me para aguardar que o estado mude. Mas eu vou me ausentar do pais durante alguns meses. E nao tenho muito tempo para tratar do assunto. Gostava de saber o que é necessario fazer para averiguar o estado e o que é preciso fazer para receber a minha encomenda. A minha encomenda fez o seguinte percurso. 4 de agosto expedicao internacional amestredao 14 de agosto receccao intternacional Lisboa 15 de agosto aguarda procedimentos declarativos Fez um circuito interno na UE nao entendo porque de esta demora ou o porque de ficar parado. Gostava de ser esclarecido. \n",
      "[]\n",
      "Encomendei um produto da Worten no início de Fevereiro de um produto que estaria disponível a partir de 11 de fevereiro. Neste mesmo dia, a Worten enviou a encomenda pela vossa entidade que, desde então, tem estado num ping-pong entre Perafita e Lousã. Seguindo o que o vosso website indica sobre o estado da encomenda, a encomenda foi recebida em Loures, enviada para Figueiró dos Vinhos, de seguida para Perafita, depois para Lousã, novamente para Perafita, novamente para Lousã, novamente para Perafita e atualmente está, de novo, em Lousã. Recebi um SMS de confirmação em que dizia que a encomenda ia ser entregue dia 12. Hoje é dia 18 e tudo o que tenho até agora é o que quer que esteja a acontecer com a encomenda para estar a ir de um departamento para o outro. Contactei-vos, pelos canais telefónicos, dia 16 e indicaram-me que realmente houve um erro e que a encomenda já iria para Coimbra e, de seguida, entregue provavelmente no dia seguinte. Não só não foi isso que aconteceu, como desde dessa chamada a encomenda fez um dos percursos de Perafita -> Lousã -> Perafita -> Lousã. Quando contactei a Worten para falar da situação e eventualmente pedir um cancelamento e reembolso desta encomenda, visto que estou insatisfeito com o que está a acontecer, a senhora que me atendeu tentou entrar em contacto com vocês e não teve sucesso, logo indicou-me que vos deixou email e uma notificação para o vosso backoffice bem como para o deles. Gostava que pelo menos me explicassem a razão disto estar a acontecer. Compreenderia o erro da encomenda ter sido enviada para um local por engano, mas isso uma vez. Neste momento, como disse, parece um jogo de ping-pong com a encomenda. \n",
      "[]\n",
      "Bom dia, encomendei um produto na loja AliExpress, seguindo os mesmos passos, de outras anteriores. Ontem à noite fui surpreendido por uma chamada de um individuo que tinha recebido a minha encomenda, no sitio Rua do desterro (Lisboa Gabinete de Contabilidade), deixada pela vossa empresa. A encomenda foi entregue noutra morada e só graças à honestidade do receptor, que confirmou, à posteriori, que a mesma não era para si, é que consegui reaver o meu produto. É lamentável o que aconteceu! \n",
      "[]\n",
      "A minha encomenda está à um mês na posse dos CTT e nada consigo fazer para a ter em minha posse. O Ctt exige um valor de 49.78€, que é uma taxa de direitos aduaneiros mais 12€ para apresentação à Autoridade Tributária e Aduaneira – Serviço cobrado pelos CTT. A encomenda em questão trata-se de um produto que avariou e enviei para o vendedor. O produto foi enviado de volta para mim mas fica preso na complexa e burocrática empresa de entregas! Aquilo que gostaria de perceber é porque que tenho eu de pagar 61.78 por produto que já paguei todas as taxas no momento da compra à um ano atrás? Qual foi valor que tomaram como base para esta conta? O produto em questão o nem sequer vale o valor que me pede o desalfandegamento. Já efectuei chamadas para a linha da apoio que é paga no qual já gastei 10€ e a única coisa que eles fazem é remeter para o serviço via e-mail. O serviço via e-mail é péssimo e só me envia respostas automáticas ou pré feitas que em nada, mas, mesmo em nada, responde as minhas respostas. Gostaria de ver este problema resolvido o quanto antes. \n",
      "[]\n",
      "Fiz o envio de uma encomenda para o endereço abaixo no passado dia 12 de Maio de 2020, até agora e após vários emails para ctt reclamações não obtive qualquer resposta ao mesmo. O numero da encomenda é . Remetente 2745-324 Monte Abraão Destinatário Miami, FL 33137 USA Conteúdo : ilustrações \n",
      "[]\n",
      "Tenho retida na Alfandega a encomenda , da qual já iniciei o respectivo processo de desalfandegamento em 20.10.2021, em que foram enviados todos os documentos solicitados à excepção de uma peritagem a efetuar pela PSP que foi solicitada pelo canais próprios no dia 20.10.2021, tendo a PSP enviado e-mail aos serviços da alfandega a 27.10.2021 a solicitar a apresentação do objeto a peritar e a data e a hora onde o o objeto estaria para tal diligência ser efetuada. Contudo a alfandega não responde à PSP, e não apresenta a encomenda para peritagem, no entanto a alfandega ameaça enviar de volta ao remetente a encomenda se não for enviada a peritagem em falta efectuada pela psp. Ao contactar o serviço dos CTT para questionar sobre o assunto, os mesmo dizem que tem de se aguardar, não indicam o numero de contato directo da alfandega para se poder comunicar com quem está a fazer directamente o desalfandegamento da encomenda, os CTT dizem que são apenas intermediários e que não tem contato direto com a alfandega, de que nós serve intermediários que não podem resolver os problemas, qual a sua utilidade!? O que se pode fazer para resolver está situação em que a alfandega ameaça devolver a encomenda, por falta de uma peritagem, peritagem essa que a PSP, já solicitou marcação e apresentação do objecto para peritagem e a própria alfandega não responde a indicar o local e a data em que os objectos estaram disponíveis para peritagem. uma vergonha e no entanto continuam a pedir a peritagem e a ameaçar devolver a encomenda ao remetente, quando a falha é da propria alfandega. Obrigado pela atenção. \n",
      "['correio normal']\n",
      "Estou à espera da minha encomenda que foi enviada a 29/01 em correio normal. O custo da encomenda foi elevado e preciso deste artigo para trabalhar. A senhora que efetuou a encomenda enviou-me o recibo e a informação que tenho é que demoraria de 4-5 dias. Tendo em conta a situação de pandemia em que estamos eu percebo que demorem mas já se passaram 3 semanas e nada. Nos ctt dizem me apenas que não há nada a fazer. Eu faço várias compras e vendas e uso o vosso serviço. E já é a segunda vez que acontece, nunca recebi de todo e tive prejuízos. Fui aos correios e sempre me dizem que não há nada a fazer! Hoje em dia deviam ter mais cuidado até porque nós tornamos vossos clientes ainda que seja em correio normal. Pois os riscos são absurdos e incompreensível. Para que servem mesmo?!? \n",
      "[]\n",
      "Recebi uma carta dos CTT a solicitar-me documentos/informações para desalfandegamento de encomenda com N. Local 1810876 e N. Origem . De acordo com instruções na carta que recebi dos CTT, enviei os documentos/informações solicitados através do site durante esse processo fui informado que vou ter de pagar impostos. A encomenda com N. Local 1810876 e N. Origem  vem dos Países Baixos, país pertencente à União Europeia e ao espaço Schengen, e por isso não deve pagar impostos. Solicito retificação do erro dos CTT, de modo a que a encomenda seja desalfandegada e entregue sem custos e sem mais demoras. \n",
      "[]\n",
      "Fiz uma encomenda online para uma compra de algo muito simples, apenas disponível nos US. Ora que, no dia 27 de Junho passou de estar em Costa Mesa para no dia 30 estar em NY, sendo que, no dia 6 de julho estava em PT. Em suma, demora menos a passar por 2 estados americanos e atravessar o oceano do que o tempo para ser libertada em Portugal, onde está imóvel desde o dia 6 sendo hoje DIA 17. É um absurdo como estes correios e Alfandega funcionam. \n",
      "[]\n",
      "Eu não entendo o quê que tem acontecido com o CTT, tenho tido situações extremamente aborrecíveis com essa empresa, isto tem sido um exagero extremo, não consigo descrever a tamanha frustração que essa empresa tem me causado, eu enviei um encomenda para Angola hoje entro no site para seguir a encomenda e vejo que a encomenda chegou ao país de destino (Moçambique) como é possível esse trabalho tão mal prestado? Agora que irá devolver a quantidade de dinheiro que eu gastei, eu enviei uma encomenda com roupas, telemóveis e por aí vai. A minha primeira encomenda que foi extraviada até agora não resolveram nada, agora está? Sinceramente, isto está a ultrapassar o limite normal das coisas. Espero que entrem em contacto comigo até porque têm o meu contacto telefónico ou terei que tomar outras medidas cabíveis. \n",
      "[]\n",
      "No dia 14/07/2021 recebi uma notificação para desalfandegamento. Enviei todos os documentos pedidos para proceder ao desalfandegamento e fiz o respectivo pagamento. O estado do pagamento ficou pendente e não actualizou. No dia 26/07/2021 contactei os CTT por telefone, que me pediram para contactar por email e formulário no respectivo site. Enviei os comprovativos do pagamento conforme pedido. No dia 30/07/2021 pediram: aguarde que o portal atualize e registe o pagamento efetuado. No dia 03/08/2021 recebo a notificação: Fim do prazo limite de desalfandegamento O prazo limite para completar o processo de desalfandegamento terminou. A sua encomenda será devolvida ao remetente Estou aguardar a entrega da encomenda! \n",
      "[]\n",
      "Fiz o envio de uma encomenda registada em maio e a encomenda ainda não chegou ao destino depois de 13 dias! Ao verificar o estado da encomenda no portal dos ctts não existe! O receptor em Espanha ao fazer o mesmo não consegue visualizar onde esta a encomenda! \n",
      "[]\n",
      "Boa tarde,Fiz uma encomenda através da AMAZON.ES que deveria ter sido entregue no dia de hoje, 24 de dezembro de 2020. Estive em casa durante o dia de hoje, à espera de receber a mesma. No entanto, quando vou verificar o tracking da mesma, reparo que houve uma tentativa de entrega que não foi concluída com sucesso. Dirigi-me à minha caixa do correio e não tenho nenhum aviso para recolha posterior. Nem é pelo objeto em si, porque não me fará falta no natal, no entanto, acho deplorável a atitude de nem sequer tentar tocar à campainha, na tentativa de que alguém recebesse o objeto em mãos. A ausência de aviso de entrega, leva-me a crer que nem foi feita a tentativa na morada.Ainda assim, fui ao site dos CTT tentar alterar a morada de entrega, para que fosse entregue noutra morada, noutro dia. E espanta-me ver que terei de pagar 18eur pela operação. Resumindo, de momento, não tenho o objeto, nem tenho forma \n",
      "['internacional', 'correio registado', 'internacional']\n",
      " em recepção internacional desde o dia 4 de Janeiro. Encomenda isenta de controlo alfandegário. Serviço vergonhoso dos CTT, a mesa da direcção desta empresa está lá só p os habituais tachos. Nada funciona, já p não falar que é mais barato enviar uma encomenda pela GLS, Chronopost DPD, etc etc de Madrid para Lisboa, do que de Lisboa p Coimbra, adicionando o péssimo serviço, as taxas p correio registado, e a falta de cumprimento de prazos de entrega. Fechem a Empresa. Está na altura de uma alternativa viável. \n",
      "['correio registado']\n",
      "Enviei uma encomenda via correio registado dia 17/6 que pelo site dos CTT diz ter sido entregue no RPD (receptaculo postal domiciliário) no dia 20/06. A encomenda em questão de todo caberia no receptaculo portanto foi entregue a alguém a quem não foi endereçada pois a clientes afirma não ter recebido. \n",
      "['internacional', 'internacional']\n",
      "Boa Tarde, Encomenda Internacional Registada enviada a 08-01-2020 até hoje dia 30-01-2020 ainda só deu Rececionada a 21-01-2020 em Luanda e até hoje não houve mais nenhuma alteração da mesma, visto que já passaram os prazos legais da mesma quero abrir desde já queixa contra voçês CTT e os Correios de Angola e que seja investigada a situação com a maior urgência possivel. \n"
     ]
    }
   ],
   "source": [
    "for i in rang\n",
    "\n",
    "\n",
    "e(100):\n",
    "    print(find_mail_types(df['narrative_bert'].iloc[i]))\n",
    "    print(df['narrative_bert'].iloc[i])"
   ]
  },
  {
   "cell_type": "code",
   "execution_count": 55,
   "id": "43714458",
   "metadata": {},
   "outputs": [
    {
     "data": {
      "text/plain": [
       "['Correio Verde', 'correio verde']"
      ]
     },
     "execution_count": 55,
     "metadata": {},
     "output_type": "execute_result"
    }
   ],
   "source": [
    "find_mail_types(df['narrative_bert'][3])"
   ]
  },
  {
   "cell_type": "code",
   "execution_count": null,
   "id": "6901274d",
   "metadata": {},
   "outputs": [],
   "source": [
    "# regex\n",
    "mail_types = re.findall(r'correio normal|correio azul|CTT expresso|correio registado|estrangeiro|internacional|correio prioritário|correio expresso| correio verde', text, flags=re.IGNORECASE)\n",
    "print(mail_types)  # Output: ['correio expresso']"
   ]
  },
  {
   "cell_type": "code",
   "execution_count": null,
   "id": "2b57cd38",
   "metadata": {},
   "outputs": [],
   "source": []
  },
  {
   "cell_type": "code",
   "execution_count": null,
   "id": "dfdd028a",
   "metadata": {},
   "outputs": [],
   "source": []
  }
 ],
 "metadata": {
  "kernelspec": {
   "display_name": "env1",
   "language": "python",
   "name": "env1"
  },
  "language_info": {
   "codemirror_mode": {
    "name": "ipython",
    "version": 3
   },
   "file_extension": ".py",
   "mimetype": "text/x-python",
   "name": "python",
   "nbconvert_exporter": "python",
   "pygments_lexer": "ipython3",
   "version": "3.8.0"
  }
 },
 "nbformat": 4,
 "nbformat_minor": 5
}
