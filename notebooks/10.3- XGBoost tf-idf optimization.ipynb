{
 "cells": [
  {
   "cell_type": "code",
   "execution_count": 1,
   "id": "2f8b3be5",
   "metadata": {
    "id": "2f8b3be5"
   },
   "outputs": [],
   "source": [
    "from sklearn.svm import LinearSVC\n",
    "from sklearn.model_selection import GridSearchCV, train_test_split, StratifiedKFold\n",
    "from sklearn.metrics import accuracy_score, f1_score, precision_score, recall_score\n",
    "from xgboost import XGBClassifier\n",
    "from sklearn.model_selection import train_test_split, cross_validate\n",
    "from sklearn.metrics import classification_report\n",
    "from sklearn.feature_extraction.text import TfidfVectorizer\n",
    "import gensim\n",
    "from gensim.models import KeyedVectors\n",
    "import pandas as pd\n",
    "from sklearn.model_selection import cross_val_score, learning_curve, cross_validate\n",
    "import matplotlib.pyplot as plt\n",
    "from sklearn.model_selection import StratifiedKFold, GridSearchCV, RandomizedSearchCV\n",
    "from sklearn.metrics import classification_report, confusion_matrix\n",
    "from sklearn.feature_selection import SelectKBest, chi2, SelectFromModel\n",
    "from sklearn.pipeline import Pipeline\n",
    "from imblearn.over_sampling import SMOTE, ADASYN\n",
    "import warnings"
   ]
  },
  {
   "cell_type": "code",
   "execution_count": 2,
   "id": "Y0quQl8oyOBo",
   "metadata": {
    "colab": {
     "base_uri": "https://localhost:8080/",
     "height": 35
    },
    "id": "Y0quQl8oyOBo",
    "outputId": "de106231-fee7-4844-a177-74eba79bbe0c"
   },
   "outputs": [
    {
     "data": {
      "text/plain": [
       "'3.2.0'"
      ]
     },
     "execution_count": 2,
     "metadata": {},
     "output_type": "execute_result"
    }
   ],
   "source": [
    "import optuna\n",
    "optuna.__version__"
   ]
  },
  {
   "cell_type": "code",
   "execution_count": 3,
   "id": "35e77c3e",
   "metadata": {
    "id": "35e77c3e"
   },
   "outputs": [],
   "source": [
    "import numpy as np\n",
    "np.random.seed(42)  # Set random seed for numpy\n",
    "\n",
    "import random\n",
    "random.seed(42)  # Set random seed for random module"
   ]
  },
  {
   "cell_type": "code",
   "execution_count": 4,
   "id": "_ED0i9gpo5gz",
   "metadata": {
    "id": "_ED0i9gpo5gz"
   },
   "outputs": [
    {
     "data": {
      "text/html": [
       "<div>\n",
       "<style scoped>\n",
       "    .dataframe tbody tr th:only-of-type {\n",
       "        vertical-align: middle;\n",
       "    }\n",
       "\n",
       "    .dataframe tbody tr th {\n",
       "        vertical-align: top;\n",
       "    }\n",
       "\n",
       "    .dataframe thead th {\n",
       "        text-align: right;\n",
       "    }\n",
       "</style>\n",
       "<table border=\"1\" class=\"dataframe\">\n",
       "  <thead>\n",
       "    <tr style=\"text-align: right;\">\n",
       "      <th></th>\n",
       "      <th>date</th>\n",
       "      <th>title</th>\n",
       "      <th>reason</th>\n",
       "      <th>description</th>\n",
       "      <th>zone</th>\n",
       "      <th>narrative_tfidf</th>\n",
       "      <th>narrative_embeddings</th>\n",
       "      <th>narrative_bert</th>\n",
       "      <th>narrative_tfidf_title</th>\n",
       "      <th>narrative_bert_title</th>\n",
       "      <th>...</th>\n",
       "      <th>embeddings_title</th>\n",
       "      <th>tfidf_keywords</th>\n",
       "      <th>embeddings_keywords</th>\n",
       "      <th>events_clean</th>\n",
       "      <th>results_final</th>\n",
       "      <th>events_tfidf</th>\n",
       "      <th>events_embeddings</th>\n",
       "      <th>orgs</th>\n",
       "      <th>locs</th>\n",
       "      <th>entities</th>\n",
       "    </tr>\n",
       "  </thead>\n",
       "  <tbody>\n",
       "    <tr>\n",
       "      <th>0</th>\n",
       "      <td>2021-10-11 12:26:32</td>\n",
       "      <td>CTT - Encomenda entregue danificada e com etiq...</td>\n",
       "      <td>0</td>\n",
       "      <td>Bom dia venho por este meio apresentar uma rec...</td>\n",
       "      <td>Lisboa</td>\n",
       "      <td>bom dia venho meio apresentar reclamação ctt e...</td>\n",
       "      <td>bom dia venho por este meio apresentar uma rec...</td>\n",
       "      <td>Bom dia venho por este meio apresentar uma rec...</td>\n",
       "      <td>ctt encomenda entregar danificar etiqueta envi...</td>\n",
       "      <td>ctt - encomenda entregue danificada e com etiq...</td>\n",
       "      <td>...</td>\n",
       "      <td>ctt - encomenda entregue danificada e com etiq...</td>\n",
       "      <td>apresentar reclamação caixa figura envio israe...</td>\n",
       "      <td>apresentar uma reclamação tinha caixa figura e...</td>\n",
       "      <td>venho apresentar enviei destinado feito proteg...</td>\n",
       "      <td>[('CTT', 'B-ORGANIZACAO'), ('Israel', 'B-LOCAL...</td>\n",
       "      <td>venho apresentar enviar destinar fazer protege...</td>\n",
       "      <td>venho apresentar enviei destinado feito proteg...</td>\n",
       "      <td>CTT, Aboboda</td>\n",
       "      <td>Israel</td>\n",
       "      <td>CTT, Aboboda, Israel</td>\n",
       "    </tr>\n",
       "    <tr>\n",
       "      <th>1</th>\n",
       "      <td>2021-08-31 23:20:15</td>\n",
       "      <td>CTT - Carta com certificado rasgado!</td>\n",
       "      <td>1</td>\n",
       "      <td>- Boa Noite!\\r\\n\\r\\n- Venho por este meio recl...</td>\n",
       "      <td>Coimbra</td>\n",
       "      <td>bom noite venho meio reclamar data ás durante ...</td>\n",
       "      <td>- boa noite!\\r\\n\\r\\n- venho por este meio recl...</td>\n",
       "      <td>- Boa Noite! Venho por este meio reclamar que ...</td>\n",
       "      <td>ctt carta certificar rasgar bom noite venho me...</td>\n",
       "      <td>ctt - carta com certificado rasgado!  - Boa No...</td>\n",
       "      <td>...</td>\n",
       "      <td>ctt - carta com certificado rasgado !</td>\n",
       "      <td>lilia pimentel certificar profissional passage...</td>\n",
       "      <td>lilia pimentel certificado profissional passag...</td>\n",
       "      <td>venho reclamar deparei -me continha tem</td>\n",
       "      <td>[('Lilia', 'B-PESSOA'), ('Pimentel', 'I-PESSOA')]</td>\n",
       "      <td>venho reclamar deparar conter</td>\n",
       "      <td>venho reclamar deparei - me continha tem</td>\n",
       "      <td>NaN</td>\n",
       "      <td>NaN</td>\n",
       "      <td>NaN</td>\n",
       "    </tr>\n",
       "    <tr>\n",
       "      <th>2</th>\n",
       "      <td>2021-02-01 19:08:32</td>\n",
       "      <td>CTT - Encomenda registada que nunca chegou ao ...</td>\n",
       "      <td>2</td>\n",
       "      <td>Boa tarde,\\r\\nNo dia 17 de Dezembro de 2020 en...</td>\n",
       "      <td>Aveiro</td>\n",
       "      <td>bom tarde dia dezembro enviar encomenda França...</td>\n",
       "      <td>boa tarde,\\r\\nno dia 00 de dezembro de 0000 en...</td>\n",
       "      <td>Boa tarde, No dia 17 de Dezembro de 2020 envie...</td>\n",
       "      <td>ctt encomenda registar nunca chegar destine o ...</td>\n",
       "      <td>ctt - encomenda registada que nunca chegou ao ...</td>\n",
       "      <td>...</td>\n",
       "      <td>ctt - encomenda registada que nunca chegou ao ...</td>\n",
       "      <td>frança correio registar frança correio encomen...</td>\n",
       "      <td>frança em correio registado frança em correio ...</td>\n",
       "      <td>enviei registado vejo chegou saiu chegou tem p...</td>\n",
       "      <td>[('França', 'B-LOCAL'), ('Roissy', 'B-ORGANIZA...</td>\n",
       "      <td>enviar registar vejo chegar sair chegar passar...</td>\n",
       "      <td>enviei registado vejo chegou saiu chegou tem p...</td>\n",
       "      <td>Roissy</td>\n",
       "      <td>França, ROISSY</td>\n",
       "      <td>Roissy, França, ROISSY</td>\n",
       "    </tr>\n",
       "    <tr>\n",
       "      <th>3</th>\n",
       "      <td>2018-04-19 09:04:34</td>\n",
       "      <td>CTT - Correio Verde</td>\n",
       "      <td>2</td>\n",
       "      <td>Bom dia,\\n\\nPretendia esclarecer uma situação ...</td>\n",
       "      <td>Lisboa</td>\n",
       "      <td>bom dia pretender esclarecer situação ocorrer ...</td>\n",
       "      <td>bom dia,\\n\\npretendia esclarecer uma situação ...</td>\n",
       "      <td>Bom dia, Pretendia esclarecer uma situação que...</td>\n",
       "      <td>ctt correio verde bom dia pretender esclarecer...</td>\n",
       "      <td>ctt - correio verde  Bom dia, Pretendia esclar...</td>\n",
       "      <td>...</td>\n",
       "      <td>ctt - correio verde</td>\n",
       "      <td>pretender esclarecer situação pretender esclar...</td>\n",
       "      <td>pretendia esclarecer uma situação pretendia es...</td>\n",
       "      <td>pretendia esclarecer ocorreu desloquei dado fe...</td>\n",
       "      <td>[('El', 'B-LOCAL'), ('Corte', 'I-LOCAL'), ('In...</td>\n",
       "      <td>pretender esclarecer ocorrer desloquei dar fec...</td>\n",
       "      <td>pretendia esclarecer ocorreu desloquei dado fe...</td>\n",
       "      <td>Correio</td>\n",
       "      <td>El Corte Inglés, Lisboa Verde</td>\n",
       "      <td>Correio, El Corte Inglés, Lisboa Verde</td>\n",
       "    </tr>\n",
       "    <tr>\n",
       "      <th>4</th>\n",
       "      <td>2019-07-04 10:20:41</td>\n",
       "      <td>CTT - Aviso de recepção da carta registada, pr...</td>\n",
       "      <td>2</td>\n",
       "      <td>venho por este meio solicitar a vossa ajuda pa...</td>\n",
       "      <td>Porto</td>\n",
       "      <td>venho meio solicitar vosso ajudar saber onde e...</td>\n",
       "      <td>venho por este meio solicitar a vossa ajuda pa...</td>\n",
       "      <td>venho por este meio solicitar a vossa ajuda pa...</td>\n",
       "      <td>ctt aviso recepção carta registar preciso urge...</td>\n",
       "      <td>ctt - aviso de recepção da carta registada, pr...</td>\n",
       "      <td>...</td>\n",
       "      <td>ctt - aviso de recepção da carta registada , p...</td>\n",
       "      <td>papal centro pois preciso urgentemente pois pr...</td>\n",
       "      <td>papais para o centro pois preciso dele urgente...</td>\n",
       "      <td>venho solicitar saber onde se encontra regista...</td>\n",
       "      <td>[]</td>\n",
       "      <td>venho solicitar saber onde encontrar registar ...</td>\n",
       "      <td>venho solicitar saber onde se encontra regista...</td>\n",
       "      <td>NaN</td>\n",
       "      <td>NaN</td>\n",
       "      <td>NaN</td>\n",
       "    </tr>\n",
       "  </tbody>\n",
       "</table>\n",
       "<p>5 rows × 25 columns</p>\n",
       "</div>"
      ],
      "text/plain": [
       "                  date                                              title  \\\n",
       "0  2021-10-11 12:26:32  CTT - Encomenda entregue danificada e com etiq...   \n",
       "1  2021-08-31 23:20:15               CTT - Carta com certificado rasgado!   \n",
       "2  2021-02-01 19:08:32  CTT - Encomenda registada que nunca chegou ao ...   \n",
       "3  2018-04-19 09:04:34                                CTT - Correio Verde   \n",
       "4  2019-07-04 10:20:41  CTT - Aviso de recepção da carta registada, pr...   \n",
       "\n",
       "   reason                                        description     zone  \\\n",
       "0       0  Bom dia venho por este meio apresentar uma rec...   Lisboa   \n",
       "1       1  - Boa Noite!\\r\\n\\r\\n- Venho por este meio recl...  Coimbra   \n",
       "2       2  Boa tarde,\\r\\nNo dia 17 de Dezembro de 2020 en...   Aveiro   \n",
       "3       2  Bom dia,\\n\\nPretendia esclarecer uma situação ...   Lisboa   \n",
       "4       2  venho por este meio solicitar a vossa ajuda pa...    Porto   \n",
       "\n",
       "                                     narrative_tfidf  \\\n",
       "0  bom dia venho meio apresentar reclamação ctt e...   \n",
       "1  bom noite venho meio reclamar data ás durante ...   \n",
       "2  bom tarde dia dezembro enviar encomenda França...   \n",
       "3  bom dia pretender esclarecer situação ocorrer ...   \n",
       "4  venho meio solicitar vosso ajudar saber onde e...   \n",
       "\n",
       "                                narrative_embeddings  \\\n",
       "0  bom dia venho por este meio apresentar uma rec...   \n",
       "1  - boa noite!\\r\\n\\r\\n- venho por este meio recl...   \n",
       "2  boa tarde,\\r\\nno dia 00 de dezembro de 0000 en...   \n",
       "3  bom dia,\\n\\npretendia esclarecer uma situação ...   \n",
       "4  venho por este meio solicitar a vossa ajuda pa...   \n",
       "\n",
       "                                      narrative_bert  \\\n",
       "0  Bom dia venho por este meio apresentar uma rec...   \n",
       "1  - Boa Noite! Venho por este meio reclamar que ...   \n",
       "2  Boa tarde, No dia 17 de Dezembro de 2020 envie...   \n",
       "3  Bom dia, Pretendia esclarecer uma situação que...   \n",
       "4  venho por este meio solicitar a vossa ajuda pa...   \n",
       "\n",
       "                               narrative_tfidf_title  \\\n",
       "0  ctt encomenda entregar danificar etiqueta envi...   \n",
       "1  ctt carta certificar rasgar bom noite venho me...   \n",
       "2  ctt encomenda registar nunca chegar destine o ...   \n",
       "3  ctt correio verde bom dia pretender esclarecer...   \n",
       "4  ctt aviso recepção carta registar preciso urge...   \n",
       "\n",
       "                                narrative_bert_title  ...  \\\n",
       "0  ctt - encomenda entregue danificada e com etiq...  ...   \n",
       "1  ctt - carta com certificado rasgado!  - Boa No...  ...   \n",
       "2  ctt - encomenda registada que nunca chegou ao ...  ...   \n",
       "3  ctt - correio verde  Bom dia, Pretendia esclar...  ...   \n",
       "4  ctt - aviso de recepção da carta registada, pr...  ...   \n",
       "\n",
       "                                    embeddings_title  \\\n",
       "0  ctt - encomenda entregue danificada e com etiq...   \n",
       "1              ctt - carta com certificado rasgado !   \n",
       "2  ctt - encomenda registada que nunca chegou ao ...   \n",
       "3                                ctt - correio verde   \n",
       "4  ctt - aviso de recepção da carta registada , p...   \n",
       "\n",
       "                                      tfidf_keywords  \\\n",
       "0  apresentar reclamação caixa figura envio israe...   \n",
       "1  lilia pimentel certificar profissional passage...   \n",
       "2  frança correio registar frança correio encomen...   \n",
       "3  pretender esclarecer situação pretender esclar...   \n",
       "4  papal centro pois preciso urgentemente pois pr...   \n",
       "\n",
       "                                 embeddings_keywords  \\\n",
       "0  apresentar uma reclamação tinha caixa figura e...   \n",
       "1  lilia pimentel certificado profissional passag...   \n",
       "2  frança em correio registado frança em correio ...   \n",
       "3  pretendia esclarecer uma situação pretendia es...   \n",
       "4  papais para o centro pois preciso dele urgente...   \n",
       "\n",
       "                                        events_clean  \\\n",
       "0  venho apresentar enviei destinado feito proteg...   \n",
       "1            venho reclamar deparei -me continha tem   \n",
       "2  enviei registado vejo chegou saiu chegou tem p...   \n",
       "3  pretendia esclarecer ocorreu desloquei dado fe...   \n",
       "4  venho solicitar saber onde se encontra regista...   \n",
       "\n",
       "                                       results_final  \\\n",
       "0  [('CTT', 'B-ORGANIZACAO'), ('Israel', 'B-LOCAL...   \n",
       "1  [('Lilia', 'B-PESSOA'), ('Pimentel', 'I-PESSOA')]   \n",
       "2  [('França', 'B-LOCAL'), ('Roissy', 'B-ORGANIZA...   \n",
       "3  [('El', 'B-LOCAL'), ('Corte', 'I-LOCAL'), ('In...   \n",
       "4                                                 []   \n",
       "\n",
       "                                        events_tfidf  \\\n",
       "0  venho apresentar enviar destinar fazer protege...   \n",
       "1                      venho reclamar deparar conter   \n",
       "2  enviar registar vejo chegar sair chegar passar...   \n",
       "3  pretender esclarecer ocorrer desloquei dar fec...   \n",
       "4  venho solicitar saber onde encontrar registar ...   \n",
       "\n",
       "                                   events_embeddings          orgs  \\\n",
       "0  venho apresentar enviei destinado feito proteg...  CTT, Aboboda   \n",
       "1           venho reclamar deparei - me continha tem           NaN   \n",
       "2  enviei registado vejo chegou saiu chegou tem p...        Roissy   \n",
       "3  pretendia esclarecer ocorreu desloquei dado fe...       Correio   \n",
       "4  venho solicitar saber onde se encontra regista...           NaN   \n",
       "\n",
       "                            locs                                entities  \n",
       "0                         Israel                    CTT, Aboboda, Israel  \n",
       "1                            NaN                                     NaN  \n",
       "2                 França, ROISSY                  Roissy, França, ROISSY  \n",
       "3  El Corte Inglés, Lisboa Verde  Correio, El Corte Inglés, Lisboa Verde  \n",
       "4                            NaN                                     NaN  \n",
       "\n",
       "[5 rows x 25 columns]"
      ]
     },
     "execution_count": 4,
     "metadata": {},
     "output_type": "execute_result"
    }
   ],
   "source": [
    "df = pd.read_csv(\"D:\\\\MS DATA SCIENCE\\\\NLP TESE\\\\data\\\\data_processed_selected.csv\")\n",
    "df.head()"
   ]
  },
  {
   "cell_type": "code",
   "execution_count": 5,
   "id": "6a1b1910",
   "metadata": {
    "id": "6a1b1910"
   },
   "outputs": [],
   "source": [
    "def preprocess_entities(row):\n",
    "    if pd.isna(row)==False:\n",
    "        entities = row.lower()  # Convert to lowercase\n",
    "        entities = entities.replace(',', '')  # Remove commas\n",
    "        entities = ' '.join(set(entities.split()))  # Convert to set to get unique values, then join back as a string\n",
    "        return entities\n",
    "df['entities'] = df['entities'].apply(preprocess_entities)"
   ]
  },
  {
   "cell_type": "code",
   "execution_count": 6,
   "id": "156eecec",
   "metadata": {
    "colab": {
     "base_uri": "https://localhost:8080/"
    },
    "id": "156eecec",
    "outputId": "59d01760-df61-433d-82cc-d74c80b7a0c1"
   },
   "outputs": [
    {
     "data": {
      "text/plain": [
       "0                          israel aboboda ctt\n",
       "1                                        None\n",
       "2                               frança roissy\n",
       "3        verde lisboa correio corte inglés el\n",
       "4                                        None\n",
       "                         ...                 \n",
       "22425                reino portugal unido ctt\n",
       "22426                                    None\n",
       "22427                              aliexpress\n",
       "22428                                  lisboa\n",
       "22429                                    None\n",
       "Name: entities, Length: 22430, dtype: object"
      ]
     },
     "execution_count": 6,
     "metadata": {},
     "output_type": "execute_result"
    }
   ],
   "source": [
    "df['entities']"
   ]
  },
  {
   "cell_type": "code",
   "execution_count": 7,
   "id": "93a48b46",
   "metadata": {
    "colab": {
     "base_uri": "https://localhost:8080/"
    },
    "id": "93a48b46",
    "outputId": "c2834bd6-8ef7-49e6-cffc-8e265a69d4b6"
   },
   "outputs": [
    {
     "data": {
      "text/plain": [
       "Index(['date', 'title', 'reason', 'description', 'zone', 'narrative_tfidf',\n",
       "       'narrative_embeddings', 'narrative_bert', 'narrative_tfidf_title',\n",
       "       'narrative_bert_title', 'narrative_embeddings_title', 'tfidf_title',\n",
       "       'title_tfidf_nolemma', 'events', 'keywords', 'embeddings_title',\n",
       "       'tfidf_keywords', 'embeddings_keywords', 'events_clean',\n",
       "       'results_final', 'events_tfidf', 'events_embeddings', 'orgs', 'locs',\n",
       "       'entities'],\n",
       "      dtype='object')"
      ]
     },
     "execution_count": 7,
     "metadata": {},
     "output_type": "execute_result"
    }
   ],
   "source": [
    "df.columns"
   ]
  },
  {
   "cell_type": "code",
   "execution_count": 8,
   "id": "87313292",
   "metadata": {
    "id": "87313292"
   },
   "outputs": [],
   "source": [
    "y=df['reason']\n",
    "X = df[['narrative_tfidf', 'tfidf_title', 'tfidf_keywords', 'events_tfidf', 'entities']]"
   ]
  },
  {
   "cell_type": "code",
   "execution_count": 9,
   "id": "87dc2eba",
   "metadata": {
    "colab": {
     "base_uri": "https://localhost:8080/"
    },
    "id": "87dc2eba",
    "outputId": "7d73441d-14f4-4d82-b031-1dad217d5163"
   },
   "outputs": [
    {
     "name": "stdout",
     "output_type": "stream",
     "text": [
      "X_train shape: (15701, 5)\n",
      "y_train shape: (15701,)\n",
      "X_val shape: (3364, 5)\n",
      "y_val shape: (3364,)\n",
      "X_test shape: (3365, 5)\n",
      "y_test shape: (3365,)\n"
     ]
    }
   ],
   "source": [
    "# Split the data into training and test sets\n",
    "X_train, X_test, y_train, y_test = train_test_split(X, y, test_size=0.3, stratify=y, random_state=42)\n",
    "\n",
    "# Split the remaining data into validation and test sets\n",
    "X_val, X_test, y_val, y_test = train_test_split(X_test, y_test, test_size=0.5, stratify=y_test, random_state=42)\n",
    "\n",
    "# Print the shape of each set\n",
    "print(\"X_train shape:\", X_train.shape)\n",
    "print(\"y_train shape:\", y_train.shape)\n",
    "print(\"X_val shape:\", X_val.shape)\n",
    "print(\"y_val shape:\", y_val.shape)\n",
    "print(\"X_test shape:\", X_test.shape)\n",
    "print(\"y_test shape:\", y_test.shape)"
   ]
  },
  {
   "cell_type": "code",
   "execution_count": 10,
   "id": "42529d8d",
   "metadata": {
    "id": "42529d8d"
   },
   "outputs": [],
   "source": [
    "X_train_val = pd.concat([X_train, X_val], axis=0, ignore_index=True)\n",
    "y_train_val = pd.concat([y_train, y_val], axis=0, ignore_index=True)"
   ]
  },
  {
   "cell_type": "code",
   "execution_count": 11,
   "id": "f04d1079",
   "metadata": {
    "id": "f04d1079"
   },
   "outputs": [],
   "source": [
    "# Plot Learning Curves\n",
    "def plot_learning_curve(best_model, X_train_val_combined_transformed, y_train_val, scoring):\n",
    "    # Create StratifiedKFold cross-validator with 6 folds\n",
    "    stratified_cv = StratifiedKFold(n_splits=6, shuffle=True, random_state=42)\n",
    "\n",
    "    train_sizes, train_scores, val_scores = learning_curve(best_model, X_train_val_combined_transformed, y_train_val, cv=stratified_cv,\n",
    "                                                           scoring=scoring, train_sizes=np.linspace(0.1, 1.0, 10),\n",
    "                                                           random_state=42, n_jobs=-1)\n",
    "\n",
    "    # Calculate mean and standard deviation of training and validation scores\n",
    "    train_scores_mean = np.mean(train_scores, axis=1)\n",
    "    train_scores_std = np.std(train_scores, axis=1)\n",
    "    valid_scores_mean = np.mean(val_scores, axis=1)\n",
    "    valid_scores_std = np.std(val_scores, axis=1)\n",
    "\n",
    "    # Plot learning curves\n",
    "    plt.figure(figsize=(10, 6))\n",
    "    plt.plot(train_sizes, train_scores_mean, label='Training score', color='blue')\n",
    "    plt.fill_between(train_sizes, train_scores_mean - train_scores_std,\n",
    "                     train_scores_mean + train_scores_std, alpha=0.2, color='blue')\n",
    "    plt.plot(train_sizes, valid_scores_mean, label='Cross-validation score', color='red')\n",
    "    plt.fill_between(train_sizes, valid_scores_mean - valid_scores_std,\n",
    "                     valid_scores_mean + valid_scores_std, alpha=0.2, color='red')\n",
    "    plt.xlabel('Number of Training Examples')\n",
    "    plt.ylabel('{} Score'.format(scoring))\n",
    "    plt.title('Learning Curves')\n",
    "    plt.legend(loc='best')\n",
    "    plt.grid()\n",
    "    plt.show()"
   ]
  },
  {
   "cell_type": "markdown",
   "id": "ba10cc83",
   "metadata": {
    "id": "ba10cc83"
   },
   "source": [
    "# <span style=\"color:white; font-size:18px;background-color:red\"> Default XGBoost HT</span> \n",
    "done"
   ]
  },
  {
   "cell_type": "code",
   "execution_count": 14,
   "id": "f2f2262d",
   "metadata": {
    "id": "f2f2262d"
   },
   "outputs": [],
   "source": [
    "def objective(trial):\n",
    "    feature_set=['narrative_tfidf', 'tfidf_title', 'tfidf_keywords']\n",
    "    X_train_val_combined = X_train_val[feature_set].apply(lambda x: ' '.join(x.fillna('').astype(str)), axis=1)\n",
    "    X_test_combined = X_test[feature_set].apply(lambda x: ' '.join(x.fillna('').astype(str)), axis=1)\n",
    "\n",
    "    # Transform the features using TF-IDF\n",
    "    vectorizer = TfidfVectorizer(ngram_range=(1, 3), max_df=0.95, min_df=2)\n",
    "    X_train_val_combined_transformed = vectorizer.fit_transform(X_train_val_combined)\n",
    "    X_test_combined_transformed = vectorizer.transform(X_test_combined)\n",
    "\n",
    "    # Define the hyperparameter search space\n",
    "    params = {\n",
    "      'objective': 'multi:softmax',\n",
    "      'num_class': 4,\n",
    "      'eval_metric': 'mlogloss',\n",
    "      'eta': trial.suggest_float('eta', 0.01, 0.3),\n",
    "      'n_estimators': trial.suggest_int('n_estimators', 50, 1000),\n",
    "      'max_depth': trial.suggest_int('max_depth', 3, 15),\n",
    "      'subsample': trial.suggest_float('subsample', 0.5, 1.0),\n",
    "      'colsample_bytree': trial.suggest_float('colsample_bytree', 0.5, 1.0),\n",
    "      'min_child_weight': trial.suggest_int('min_child_weight', 2, 15),\n",
    "      'gamma': trial.suggest_float(\"gamma\", 0, 1),\n",
    "      'random_state': 42,  # Add other hyperparameters as needed\n",
    "      'reg_alpha': trial.suggest_float('reg_alpha',0, 1),              # L1 regularization term on weights\n",
    "      'reg_lambda': trial.suggest_float('reg_lambda',0, 1)\n",
    "    }\n",
    "\n",
    "    # Create and train the XGBoost classifier with the current set of hyperparameters\n",
    "    clf = XGBClassifier(**params)\n",
    "    clf.fit(X_train_val_combined_transformed, y_train_val)\n",
    "\n",
    "    # Evaluate the classifier on the validation set\n",
    "    cv = StratifiedKFold(n_splits=6, shuffle=True, random_state=42)\n",
    "    f1_scores = cross_val_score(clf, X_train_val_combined_transformed, y_train_val, cv=cv, scoring='f1_macro', n_jobs=-1)\n",
    "\n",
    "    return f1_scores.mean()"
   ]
  },
  {
   "cell_type": "code",
   "execution_count": null,
   "id": "al2vgDMpredq",
   "metadata": {
    "id": "al2vgDMpredq"
   },
   "outputs": [],
   "source": [
    "import os\n",
    "path = 'D:\\\\MS DATA SCIENCE\\\\NLP TESE\\\\optuna'\n",
    "database_filename = 'description_title_keywords.db'\n",
    "\n",
    "# Full path to the SQLite database file in Google Drive\n",
    "database_path = os.path.join(path, database_filename)\n",
    "\n",
    "# Set the SQLite database path to Google Drive path\n",
    "storage = optuna.storages.RDBStorage(url=f'sqlite:///{database_path}')"
   ]
  },
  {
   "cell_type": "code",
   "execution_count": null,
   "id": "8b2efe23",
   "metadata": {
    "id": "8b2efe23",
    "outputId": "1f03a589-52d7-4ef9-9b42-a81b648e8308"
   },
   "outputs": [
    {
     "name": "stderr",
     "output_type": "stream",
     "text": [
      "[I 2023-07-30 01:05:39,386] A new study created in RDB with name: description_title_keywords\n",
      "[I 2023-07-30 01:46:59,940] Trial 0 finished with value: 0.45076536635853826 and parameters: {'colsample_bytree': 0.8481781819826891, 'eta': 0.024914580506785078, 'gamma': 0.600195402231574, 'max_depth': 5, 'min_child_weight': 12, 'n_estimators': 692, 'reg_alpha': 0.5941382665998689, 'reg_lambda': 0.289947460352284, 'subsample': 0.5247350747360959}. Best is trial 0 with value: 0.45076536635853826.\n",
      "[I 2023-07-30 02:09:46,554] Trial 1 finished with value: 0.4702032121386974 and parameters: {'colsample_bytree': 0.7612560333215546, 'eta': 0.20632398379829894, 'gamma': 0.13331133924189265, 'max_depth': 4, 'min_child_weight': 12, 'n_estimators': 458, 'reg_alpha': 0.533366102451221, 'reg_lambda': 0.4725380046619754, 'subsample': 0.8383017824580684}. Best is trial 1 with value: 0.4702032121386974.\n",
      "[I 2023-07-30 02:41:03,255] Trial 2 finished with value: 0.45874055358778176 and parameters: {'colsample_bytree': 0.7227149502188669, 'eta': 0.07314405806462135, 'gamma': 0.027392214356312672, 'max_depth': 4, 'min_child_weight': 3, 'n_estimators': 565, 'reg_alpha': 0.8085143743721691, 'reg_lambda': 0.377515629981396, 'subsample': 0.8673132139959396}. Best is trial 1 with value: 0.4702032121386974.\n",
      "[I 2023-07-30 03:08:25,116] Trial 3 finished with value: 0.4610189902552715 and parameters: {'colsample_bytree': 0.8034566333244835, 'eta': 0.0623097606485507, 'gamma': 0.9360254877750589, 'max_depth': 10, 'min_child_weight': 13, 'n_estimators': 264, 'reg_alpha': 0.3102803298514034, 'reg_lambda': 0.11741373099700314, 'subsample': 0.5997319213485195}. Best is trial 1 with value: 0.4702032121386974.\n",
      "[I 2023-07-30 03:20:31,326] Trial 4 finished with value: 0.4379277628369669 and parameters: {'colsample_bytree': 0.6634605909755766, 'eta': 0.07626584068024207, 'gamma': 0.9055907275229181, 'max_depth': 4, 'min_child_weight': 5, 'n_estimators': 233, 'reg_alpha': 0.9020336220682924, 'reg_lambda': 0.3575353556820574, 'subsample': 0.965869649219754}. Best is trial 1 with value: 0.4702032121386974.\n",
      "[I 2023-07-30 03:29:50,850] Trial 5 finished with value: 0.4457997332616044 and parameters: {'colsample_bytree': 0.5919435218471353, 'eta': 0.09499987787213297, 'gamma': 0.1520614705696477, 'max_depth': 6, 'min_child_weight': 9, 'n_estimators': 152, 'reg_alpha': 0.9115056112242831, 'reg_lambda': 0.21887534934953845, 'subsample': 0.9378174840033342}. Best is trial 1 with value: 0.4702032121386974.\n",
      "[I 2023-07-30 04:23:26,641] Trial 6 finished with value: 0.463788067688749 and parameters: {'colsample_bytree': 0.9598442475171911, 'eta': 0.20018989666688322, 'gamma': 0.28577949357146915, 'max_depth': 5, 'min_child_weight': 3, 'n_estimators': 650, 'reg_alpha': 0.7735826483980147, 'reg_lambda': 0.17085749559057906, 'subsample': 0.8628677087192005}. Best is trial 1 with value: 0.4702032121386974.\n",
      "[I 2023-07-30 04:42:04,393] Trial 7 finished with value: 0.46206491958370277 and parameters: {'colsample_bytree': 0.9024825068202224, 'eta': 0.2143261012291839, 'gamma': 0.6654156906431467, 'max_depth': 8, 'min_child_weight': 7, 'n_estimators': 187, 'reg_alpha': 0.8612811579989555, 'reg_lambda': 0.6222253558669995, 'subsample': 0.5932469763311826}. Best is trial 1 with value: 0.4702032121386974.\n",
      "[I 2023-07-30 05:45:14,606] Trial 8 finished with value: 0.4620576331162501 and parameters: {'colsample_bytree': 0.7922287811521957, 'eta': 0.2061286845677276, 'gamma': 0.36882903457081007, 'max_depth': 11, 'min_child_weight': 14, 'n_estimators': 668, 'reg_alpha': 0.9824996484851061, 'reg_lambda': 0.052463652496637425, 'subsample': 0.5493413472524806}. Best is trial 1 with value: 0.4702032121386974.\n",
      "[I 2023-07-30 07:27:18,839] Trial 9 finished with value: 0.4636620231223934 and parameters: {'colsample_bytree': 0.7947236688590721, 'eta': 0.28257795022819077, 'gamma': 0.5403950024678492, 'max_depth': 14, 'min_child_weight': 12, 'n_estimators': 857, 'reg_alpha': 0.42083496089350514, 'reg_lambda': 0.18060089996190898, 'subsample': 0.7299117914315325}. Best is trial 1 with value: 0.4702032121386974.\n",
      "[I 2023-07-30 07:51:42,401] Trial 10 finished with value: 0.4680452962672343 and parameters: {'colsample_bytree': 0.5332073343659371, 'eta': 0.29451153375739625, 'gamma': 0.025388240587568167, 'max_depth': 8, 'min_child_weight': 9, 'n_estimators': 408, 'reg_alpha': 0.07577246239776347, 'reg_lambda': 0.8484821109310812, 'subsample': 0.7510314898160387}. Best is trial 1 with value: 0.4702032121386974.\n",
      "[I 2023-07-30 08:14:19,167] Trial 11 finished with value: 0.46119139425098316 and parameters: {'colsample_bytree': 0.5014371386631176, 'eta': 0.299491265115227, 'gamma': 0.028742201979248767, 'max_depth': 8, 'min_child_weight': 9, 'n_estimators': 398, 'reg_alpha': 0.09849454186787629, 'reg_lambda': 0.934783758261886, 'subsample': 0.7521856467539147}. Best is trial 1 with value: 0.4702032121386974.\n",
      "[I 2023-07-30 08:51:17,087] Trial 12 finished with value: 0.4570879668054524 and parameters: {'colsample_bytree': 0.675163410042765, 'eta': 0.2572082448188633, 'gamma': 0.19390283546041587, 'max_depth': 13, 'min_child_weight': 10, 'n_estimators': 344, 'reg_alpha': 0.0527918261835405, 'reg_lambda': 0.5757343880912713, 'subsample': 0.7468058573551801}. Best is trial 1 with value: 0.4702032121386974.\n",
      "[I 2023-07-30 09:14:27,742] Trial 13 finished with value: 0.4682737356268771 and parameters: {'colsample_bytree': 0.5227566005432258, 'eta': 0.1514991579658802, 'gamma': 0.018615917225400035, 'max_depth': 7, 'min_child_weight': 15, 'n_estimators': 436, 'reg_alpha': 0.2297757539529292, 'reg_lambda': 0.7442003179375413, 'subsample': 0.8209388371009716}. Best is trial 1 with value: 0.4702032121386974.\n",
      "[I 2023-07-30 09:31:36,896] Trial 14 finished with value: 0.46317641415665994 and parameters: {'colsample_bytree': 0.5948493056547836, 'eta': 0.14802263484719547, 'gamma': 0.18332313660350652, 'max_depth': 3, 'min_child_weight': 15, 'n_estimators': 525, 'reg_alpha': 0.2862778185415107, 'reg_lambda': 0.6861094775571794, 'subsample': 0.8336567171734712}. Best is trial 1 with value: 0.4702032121386974.\n",
      "[I 2023-07-30 10:45:31,826] Trial 15 finished with value: 0.46520685101975306 and parameters: {'colsample_bytree': 0.7472103118772685, 'eta': 0.15242501676899786, 'gamma': 0.3334074946683806, 'max_depth': 7, 'min_child_weight': 15, 'n_estimators': 993, 'reg_alpha': 0.6009648235753191, 'reg_lambda': 0.7395664098867905, 'subsample': 0.9896513275655061}. Best is trial 1 with value: 0.4702032121386974.\n",
      "[I 2023-07-30 11:04:26,572] Trial 16 finished with value: 0.4614678027558428 and parameters: {'colsample_bytree': 0.6931678135503601, 'eta': 0.11616548138946384, 'gamma': 0.42361155445340637, 'max_depth': 3, 'min_child_weight': 11, 'n_estimators': 490, 'reg_alpha': 0.2263277005970789, 'reg_lambda': 0.4697360271886362, 'subsample': 0.9047631450645527}. Best is trial 1 with value: 0.4702032121386974.\n",
      "[I 2023-07-30 11:09:59,243] Trial 17 finished with value: 0.448219824553961 and parameters: {'colsample_bytree': 0.6297413532101874, 'eta': 0.17747271316439728, 'gamma': 0.14920700102465598, 'max_depth': 6, 'min_child_weight': 13, 'n_estimators': 92, 'reg_alpha': 0.4788815789142081, 'reg_lambda': 0.4861568614190306, 'subsample': 0.811930492194254}. Best is trial 1 with value: 0.4702032121386974.\n",
      "[I 2023-07-30 12:33:31,372] Trial 18 finished with value: 0.46539422950603965 and parameters: {'colsample_bytree': 0.7262752089422634, 'eta': 0.2387804013613626, 'gamma': 0.2591337901278514, 'max_depth': 11, 'min_child_weight': 7, 'n_estimators': 796, 'reg_alpha': 0.665967471426391, 'reg_lambda': 0.7884702761065671, 'subsample': 0.9116161876674822}. Best is trial 1 with value: 0.4702032121386974.\n",
      "[I 2023-07-30 12:54:51,896] Trial 19 finished with value: 0.4692518498607449 and parameters: {'colsample_bytree': 0.5562977404846473, 'eta': 0.13540915113681598, 'gamma': 0.1237403404697276, 'max_depth': 6, 'min_child_weight': 14, 'n_estimators': 425, 'reg_alpha': 0.4254170699964288, 'reg_lambda': 0.9988667289800655, 'subsample': 0.812246625493782}. Best is trial 1 with value: 0.4702032121386974.\n",
      "[I 2023-07-30 13:08:43,814] Trial 20 finished with value: 0.46387473360798936 and parameters: {'colsample_bytree': 0.5665656242820848, 'eta': 0.12317971145730063, 'gamma': 0.4241484598237643, 'max_depth': 5, 'min_child_weight': 11, 'n_estimators': 313, 'reg_alpha': 0.3975712045946893, 'reg_lambda': 0.9861684241445472, 'subsample': 0.6865281580374727}. Best is trial 1 with value: 0.4702032121386974.\n",
      "[I 2023-07-30 13:32:47,285] Trial 21 finished with value: 0.46498990467896845 and parameters: {'colsample_bytree': 0.5144170729865112, 'eta': 0.17741818251300137, 'gamma': 0.08851852845177571, 'max_depth': 7, 'min_child_weight': 14, 'n_estimators': 454, 'reg_alpha': 0.5480955109029495, 'reg_lambda': 0.8662270341787979, 'subsample': 0.8270276074795879}. Best is trial 1 with value: 0.4702032121386974.\n",
      "[I 2023-07-30 14:03:44,680] Trial 22 finished with value: 0.4655855667756022 and parameters: {'colsample_bytree': 0.5576349696425419, 'eta': 0.13554886127155324, 'gamma': 0.004737494700155026, 'max_depth': 6, 'min_child_weight': 15, 'n_estimators': 604, 'reg_alpha': 0.4781702677533959, 'reg_lambda': 0.6642925938408274, 'subsample': 0.8027146105626319}. Best is trial 1 with value: 0.4702032121386974.\n",
      "[I 2023-07-30 14:40:28,405] Trial 23 finished with value: 0.4660159468529745 and parameters: {'colsample_bytree': 0.6281076885514805, 'eta': 0.17537792340810762, 'gamma': 0.12321065825265394, 'max_depth': 9, 'min_child_weight': 13, 'n_estimators': 376, 'reg_alpha': 0.3552019364569826, 'reg_lambda': 0.9861683779077929, 'subsample': 0.8837529145510087}. Best is trial 1 with value: 0.4702032121386974.\n",
      "[I 2023-07-30 14:59:44,081] Trial 24 finished with value: 0.47064932141493054 and parameters: {'colsample_bytree': 0.5445572001569771, 'eta': 0.16065503540586137, 'gamma': 0.2333122927629231, 'max_depth': 4, 'min_child_weight': 14, 'n_estimators': 464, 'reg_alpha': 0.17592259384445974, 'reg_lambda': 0.793560885473462, 'subsample': 0.7919190439066093}. Best is trial 24 with value: 0.47064932141493054.\n",
      "[I 2023-07-30 15:22:19,917] Trial 25 finished with value: 0.4662244815079259 and parameters: {'colsample_bytree': 0.6375978288313575, 'eta': 0.17141428472950657, 'gamma': 0.24075326781061446, 'max_depth': 4, 'min_child_weight': 11, 'n_estimators': 512, 'reg_alpha': 0.41759026100004926, 'reg_lambda': 0.8835451902878741, 'subsample': 0.7969788067697532}. Best is trial 24 with value: 0.47064932141493054.\n",
      "[I 2023-07-30 15:32:41,915] Trial 26 finished with value: 0.4543283724437505 and parameters: {'colsample_bytree': 0.5700094616984771, 'eta': 0.10863909116933915, 'gamma': 0.2251060516464939, 'max_depth': 3, 'min_child_weight': 12, 'n_estimators': 306, 'reg_alpha': 0.19834402078987837, 'reg_lambda': 0.8143335366675338, 'subsample': 0.8517621033307761}. Best is trial 24 with value: 0.47064932141493054.\n",
      "[I 2023-07-30 16:09:04,219] Trial 27 finished with value: 0.4703151192339972 and parameters: {'colsample_bytree': 0.69441547005669, 'eta': 0.2261675415637435, 'gamma': 0.09412603075205293, 'max_depth': 4, 'min_child_weight': 14, 'n_estimators': 767, 'reg_alpha': 0.15773752358741266, 'reg_lambda': 0.5613063116424941, 'subsample': 0.9255987546506952}. Best is trial 24 with value: 0.47064932141493054.\n",
      "[I 2023-07-30 16:45:50,060] Trial 28 finished with value: 0.46625575061582625 and parameters: {'colsample_bytree': 0.6930596760863688, 'eta': 0.2331329545936517, 'gamma': 0.2898713258918203, 'max_depth': 4, 'min_child_weight': 13, 'n_estimators': 780, 'reg_alpha': 0.0059486533202441905, 'reg_lambda': 0.5521046498984278, 'subsample': 0.9312211158863175}. Best is trial 24 with value: 0.47064932141493054.\n",
      "[I 2023-07-30 17:31:43,385] Trial 29 finished with value: 0.46772935363052975 and parameters: {'colsample_bytree': 0.8400943945242059, 'eta': 0.1935386786396879, 'gamma': 0.08362843948369286, 'max_depth': 5, 'min_child_weight': 12, 'n_estimators': 720, 'reg_alpha': 0.14739285398424504, 'reg_lambda': 0.4431372641489793, 'subsample': 0.8899695510392737}. Best is trial 24 with value: 0.47064932141493054.\n",
      "[I 2023-07-30 18:13:17,618] Trial 30 finished with value: 0.4720905631356927 and parameters: {'colsample_bytree': 0.7778069630392177, 'eta': 0.22550971945902346, 'gamma': 0.20977543598334958, 'max_depth': 3, 'min_child_weight': 7, 'n_estimators': 936, 'reg_alpha': 0.3076938732214151, 'reg_lambda': 0.5234010594581782, 'subsample': 0.928709805080151}. Best is trial 30 with value: 0.4720905631356927.\n",
      "[I 2023-07-30 18:57:19,218] Trial 31 finished with value: 0.47020488037840874 and parameters: {'colsample_bytree': 0.7806303507888068, 'eta': 0.22255075744514138, 'gamma': 0.214769654312641, 'max_depth': 3, 'min_child_weight': 7, 'n_estimators': 973, 'reg_alpha': 0.2898683611884799, 'reg_lambda': 0.512423760181542, 'subsample': 0.9485956541288387}. Best is trial 30 with value: 0.4720905631356927.\n",
      "[I 2023-07-30 19:40:32,010] Trial 32 finished with value: 0.46867657071759156 and parameters: {'colsample_bytree': 0.7638248212979235, 'eta': 0.22839726030365903, 'gamma': 0.21796281934091472, 'max_depth': 3, 'min_child_weight': 7, 'n_estimators': 945, 'reg_alpha': 0.151065369646423, 'reg_lambda': 0.5722846164213806, 'subsample': 0.9889921533996349}. Best is trial 30 with value: 0.4720905631356927.\n",
      "[I 2023-07-30 20:20:25,937] Trial 33 finished with value: 0.4704361139788211 and parameters: {'colsample_bytree': 0.7209927253671593, 'eta': 0.25225041738385773, 'gamma': 0.3165322743578586, 'max_depth': 3, 'min_child_weight': 5, 'n_estimators': 901, 'reg_alpha': 0.28802853816450974, 'reg_lambda': 0.39825698838659085, 'subsample': 0.9557558039162231}. Best is trial 30 with value: 0.4720905631356927.\n",
      "[I 2023-07-30 21:14:44,698] Trial 34 finished with value: 0.47003054350815016 and parameters: {'colsample_bytree': 0.7312904276440108, 'eta': 0.25566934659002455, 'gamma': 0.2960983035995911, 'max_depth': 5, 'min_child_weight': 5, 'n_estimators': 881, 'reg_alpha': 0.17214773558565832, 'reg_lambda': 0.39954776635803657, 'subsample': 0.9180076881466338}. Best is trial 30 with value: 0.4720905631356927.\n",
      "[I 2023-07-30 22:07:17,611] Trial 35 finished with value: 0.46532083304980604 and parameters: {'colsample_bytree': 0.8224593505940965, 'eta': 0.2531732179081055, 'gamma': 0.3598782282314878, 'max_depth': 4, 'min_child_weight': 5, 'n_estimators': 897, 'reg_alpha': 0.24047209854367813, 'reg_lambda': 0.30754438472751955, 'subsample': 0.9602570907505747}. Best is trial 30 with value: 0.4720905631356927.\n",
      "[I 2023-07-30 22:50:47,090] Trial 36 finished with value: 0.46556598214504546 and parameters: {'colsample_bytree': 0.7036830750823209, 'eta': 0.26888489909751945, 'gamma': 0.17905847715250292, 'max_depth': 4, 'min_child_weight': 4, 'n_estimators': 824, 'reg_alpha': 0.3245604475172695, 'reg_lambda': 0.3990675498797547, 'subsample': 0.9961417623380932}. Best is trial 30 with value: 0.4720905631356927.\n",
      "[I 2023-07-30 23:36:01,976] Trial 37 finished with value: 0.47176840862279595 and parameters: {'colsample_bytree': 0.7467991259900281, 'eta': 0.23694200301096283, 'gamma': 0.3080560787264916, 'max_depth': 5, 'min_child_weight': 6, 'n_estimators': 753, 'reg_alpha': 0.26081966761170516, 'reg_lambda': 0.32396562169464893, 'subsample': 0.8696949962078039}. Best is trial 30 with value: 0.4720905631356927.\n",
      "[I 2023-07-31 00:15:20,217] Trial 38 finished with value: 0.4714376512634602 and parameters: {'colsample_bytree': 0.7528797385114504, 'eta': 0.19546032812472475, 'gamma': 0.30831352469862916, 'max_depth': 3, 'min_child_weight': 6, 'n_estimators': 925, 'reg_alpha': 0.2691262187051332, 'reg_lambda': 0.3135242962802321, 'subsample': 0.8833418056603715}. Best is trial 30 with value: 0.4720905631356927.\n",
      "[I 2023-07-31 01:04:57,630] Trial 39 finished with value: 0.46645941348987957 and parameters: {'colsample_bytree': 0.8655240592721781, 'eta': 0.20565807227752084, 'gamma': 0.25918707861983153, 'max_depth': 5, 'min_child_weight': 6, 'n_estimators': 722, 'reg_alpha': 0.36404189996049025, 'reg_lambda': 0.2963885272779048, 'subsample': 0.8491396000044144}. Best is trial 30 with value: 0.4720905631356927.\n",
      "[I 2023-07-31 01:35:14,855] Trial 40 finished with value: 0.4688396343951385 and parameters: {'colsample_bytree': 0.7608627017490788, 'eta': 0.1970691749596968, 'gamma': 0.40133500244270426, 'max_depth': 4, 'min_child_weight': 8, 'n_estimators': 589, 'reg_alpha': 0.2528031543344272, 'reg_lambda': 0.23421972626716908, 'subsample': 0.874757246159484}. Best is trial 30 with value: 0.4720905631356927.\n",
      "[I 2023-07-31 02:14:38,893] Trial 41 finished with value: 0.4674458937685022 and parameters: {'colsample_bytree': 0.7483296361255869, 'eta': 0.2427180211528402, 'gamma': 0.35063182750010424, 'max_depth': 3, 'min_child_weight': 6, 'n_estimators': 936, 'reg_alpha': 0.3202296691894418, 'reg_lambda': 0.3457528179904304, 'subsample': 0.8945109634184911}. Best is trial 30 with value: 0.4720905631356927.\n",
      "[I 2023-07-31 03:01:41,950] Trial 42 finished with value: 0.46417681742625055 and parameters: {'colsample_bytree': 0.8123209026960019, 'eta': 0.21322609068686285, 'gamma': 0.31018013179752324, 'max_depth': 3, 'min_child_weight': 2, 'n_estimators': 918, 'reg_alpha': 0.28260981317894973, 'reg_lambda': 0.343523971866212, 'subsample': 0.9403856352602971}. Best is trial 30 with value: 0.4720905631356927.\n",
      "[I 2023-07-31 03:48:40,622] Trial 43 finished with value: 0.4703353965231631 and parameters: {'colsample_bytree': 0.7819888377930647, 'eta': 0.19061744654579565, 'gamma': 0.4600468156699826, 'max_depth': 4, 'min_child_weight': 4, 'n_estimators': 843, 'reg_alpha': 0.20998074625355836, 'reg_lambda': 0.4263354584385572, 'subsample': 0.867035302343105}. Best is trial 30 with value: 0.4720905631356927.\n",
      "[I 2023-07-31 04:41:15,326] Trial 44 finished with value: 0.47057481797004774 and parameters: {'colsample_bytree': 0.7385861791254164, 'eta': 0.2204403887709136, 'gamma': 0.3096562463971734, 'max_depth': 5, 'min_child_weight': 6, 'n_estimators': 877, 'reg_alpha': 0.27569258676131964, 'reg_lambda': 0.36684616748922083, 'subsample': 0.9008580121221769}. Best is trial 30 with value: 0.4720905631356927.\n",
      "[I 2023-07-31 05:38:21,739] Trial 45 finished with value: 0.46929920802895597 and parameters: {'colsample_bytree': 0.7702979172825468, 'eta': 0.2148918734344295, 'gamma': 0.36791990381369505, 'max_depth': 6, 'min_child_weight': 8, 'n_estimators': 825, 'reg_alpha': 0.09908817333047171, 'reg_lambda': 0.2549395118888349, 'subsample': 0.8983179474408889}. Best is trial 30 with value: 0.4720905631356927.\n",
      "[I 2023-07-31 06:38:59,041] Trial 46 finished with value: 0.47043902905916274 and parameters: {'colsample_bytree': 0.8037267576264763, 'eta': 0.22052911263612018, 'gamma': 0.2577190302052463, 'max_depth': 5, 'min_child_weight': 6, 'n_estimators': 958, 'reg_alpha': 0.3562091806129138, 'reg_lambda': 0.2707526844179238, 'subsample': 0.8589643621901909}. Best is trial 30 with value: 0.4720905631356927.\n",
      "[I 2023-07-31 07:18:53,521] Trial 47 finished with value: 0.4734151878989077 and parameters: {'colsample_bytree': 0.6660707896339382, 'eta': 0.1865203620258158, 'gamma': 0.4869470425232074, 'max_depth': 5, 'min_child_weight': 8, 'n_estimators': 747, 'reg_alpha': 0.2615683528029101, 'reg_lambda': 0.20706126430246635, 'subsample': 0.87307714888806}. Best is trial 47 with value: 0.4734151878989077.\n",
      "[I 2023-07-31 08:40:42,508] Trial 48 finished with value: 0.4649683296605646 and parameters: {'colsample_bytree': 0.6679922170279978, 'eta': 0.18829130345227277, 'gamma': 0.5434499749672732, 'max_depth': 15, 'min_child_weight': 8, 'n_estimators': 655, 'reg_alpha': 0.20434933790294874, 'reg_lambda': 0.18357958584576894, 'subsample': 0.8754542823527988}. Best is trial 47 with value: 0.4734151878989077.\n",
      "[I 2023-07-31 09:27:17,739] Trial 49 finished with value: 0.4703903840505497 and parameters: {'colsample_bytree': 0.7168875497046057, 'eta': 0.16705287849418618, 'gamma': 0.6388924614038844, 'max_depth': 6, 'min_child_weight': 10, 'n_estimators': 737, 'reg_alpha': 0.1206714869382284, 'reg_lambda': 0.11730847656991614, 'subsample': 0.8386063004379852}. Best is trial 47 with value: 0.4734151878989077.\n"
     ]
    },
    {
     "name": "stdout",
     "output_type": "stream",
     "text": [
      "Val Loss: 0.4734151878989077\n",
      "Best hyperparameters: {'colsample_bytree': 0.6660707896339382, 'eta': 0.1865203620258158, 'gamma': 0.4869470425232074, 'max_depth': 5, 'min_child_weight': 8, 'n_estimators': 747, 'reg_alpha': 0.2615683528029101, 'reg_lambda': 0.20706126430246635, 'subsample': 0.87307714888806}\n"
     ]
    }
   ],
   "source": [
    "study = optuna.create_study(storage=storage, direction='maximize', study_name='description_title_keywords',load_if_exists=True)\n",
    "study.optimize(objective, n_trials=50)\n",
    "\n",
    "trial = study.best_trial\n",
    "print('Val Loss: {}'.format(trial.value))\n",
    "print(\"Best hyperparameters: {}\".format(trial.params))"
   ]
  },
  {
   "cell_type": "code",
   "execution_count": null,
   "id": "f8696de2",
   "metadata": {
    "id": "f8696de2"
   },
   "outputs": [],
   "source": [
    "# in case it fails\n",
    "# Load the existing study by providing the study name and storage URL\n",
    "study = optuna.load_study(study_name='description_title_keywords', storage=storage)\n",
    "\n",
    "# Continue optimization with additional trials\n",
    "study.optimize(objective, n_trials=50)\n",
    "\n",
    "trial = study.best_trial\n",
    "print('Val Loss: {}'.format(trial.value))\n",
    "print(\"Best hyperparameters: {}\".format(trial.params))"
   ]
  },
  {
   "cell_type": "code",
   "execution_count": null,
   "id": "C4a7r36Ork1p",
   "metadata": {
    "id": "C4a7r36Ork1p"
   },
   "outputs": [],
   "source": [
    "study = optuna.load_study(study_name='description_title_keywords', storage=storage)\n",
    "import optuna.visualization as vis\n",
    "vis.plot_parallel_coordinate(study)"
   ]
  },
  {
   "cell_type": "code",
   "execution_count": null,
   "id": "b8fc7798",
   "metadata": {
    "id": "b8fc7798",
    "outputId": "d4b3c8ee-0a47-4b6e-a199-4f59742c0b2f"
   },
   "outputs": [
    {
     "data": {
      "application/vnd.plotly.v1+json": {
       "config": {
        "plotlyServerURL": "https://plot.ly"
       },
       "data": [
        {
         "mode": "markers",
         "name": "Objective Value",
         "type": "scatter",
         "x": [
          0,
          1,
          2,
          3,
          4,
          5,
          6,
          7,
          8,
          9,
          10,
          11,
          12,
          13,
          14,
          15,
          16,
          17,
          18,
          19,
          20,
          21,
          22,
          23,
          24,
          25,
          26,
          27,
          28,
          29,
          30,
          31,
          32,
          33,
          34,
          35,
          36,
          37,
          38,
          39,
          40,
          41,
          42,
          43,
          44,
          45,
          46,
          47,
          48,
          49
         ],
         "y": [
          0.45076536635853826,
          0.4702032121386974,
          0.45874055358778176,
          0.4610189902552715,
          0.4379277628369669,
          0.4457997332616044,
          0.463788067688749,
          0.46206491958370277,
          0.4620576331162501,
          0.4636620231223934,
          0.4680452962672343,
          0.46119139425098316,
          0.4570879668054524,
          0.4682737356268771,
          0.46317641415665994,
          0.46520685101975306,
          0.4614678027558428,
          0.448219824553961,
          0.46539422950603965,
          0.4692518498607449,
          0.46387473360798936,
          0.46498990467896845,
          0.4655855667756022,
          0.4660159468529745,
          0.47064932141493054,
          0.4662244815079259,
          0.4543283724437505,
          0.4703151192339972,
          0.46625575061582625,
          0.46772935363052975,
          0.4720905631356927,
          0.47020488037840874,
          0.46867657071759156,
          0.4704361139788211,
          0.47003054350815016,
          0.46532083304980604,
          0.46556598214504546,
          0.47176840862279595,
          0.4714376512634602,
          0.46645941348987957,
          0.4688396343951385,
          0.4674458937685022,
          0.46417681742625055,
          0.4703353965231631,
          0.47057481797004774,
          0.46929920802895597,
          0.47043902905916274,
          0.4734151878989077,
          0.4649683296605646,
          0.4703903840505497
         ]
        },
        {
         "name": "Best Value",
         "type": "scatter",
         "x": [
          0,
          1,
          2,
          3,
          4,
          5,
          6,
          7,
          8,
          9,
          10,
          11,
          12,
          13,
          14,
          15,
          16,
          17,
          18,
          19,
          20,
          21,
          22,
          23,
          24,
          25,
          26,
          27,
          28,
          29,
          30,
          31,
          32,
          33,
          34,
          35,
          36,
          37,
          38,
          39,
          40,
          41,
          42,
          43,
          44,
          45,
          46,
          47,
          48,
          49
         ],
         "y": [
          0.45076536635853826,
          0.4702032121386974,
          0.4702032121386974,
          0.4702032121386974,
          0.4702032121386974,
          0.4702032121386974,
          0.4702032121386974,
          0.4702032121386974,
          0.4702032121386974,
          0.4702032121386974,
          0.4702032121386974,
          0.4702032121386974,
          0.4702032121386974,
          0.4702032121386974,
          0.4702032121386974,
          0.4702032121386974,
          0.4702032121386974,
          0.4702032121386974,
          0.4702032121386974,
          0.4702032121386974,
          0.4702032121386974,
          0.4702032121386974,
          0.4702032121386974,
          0.4702032121386974,
          0.47064932141493054,
          0.47064932141493054,
          0.47064932141493054,
          0.47064932141493054,
          0.47064932141493054,
          0.47064932141493054,
          0.4720905631356927,
          0.4720905631356927,
          0.4720905631356927,
          0.4720905631356927,
          0.4720905631356927,
          0.4720905631356927,
          0.4720905631356927,
          0.4720905631356927,
          0.4720905631356927,
          0.4720905631356927,
          0.4720905631356927,
          0.4720905631356927,
          0.4720905631356927,
          0.4720905631356927,
          0.4720905631356927,
          0.4720905631356927,
          0.4720905631356927,
          0.4734151878989077,
          0.4734151878989077,
          0.4734151878989077
         ]
        }
       ],
       "layout": {
        "template": {
         "data": {
          "bar": [
           {
            "error_x": {
             "color": "#2a3f5f"
            },
            "error_y": {
             "color": "#2a3f5f"
            },
            "marker": {
             "line": {
              "color": "#E5ECF6",
              "width": 0.5
             },
             "pattern": {
              "fillmode": "overlay",
              "size": 10,
              "solidity": 0.2
             }
            },
            "type": "bar"
           }
          ],
          "barpolar": [
           {
            "marker": {
             "line": {
              "color": "#E5ECF6",
              "width": 0.5
             },
             "pattern": {
              "fillmode": "overlay",
              "size": 10,
              "solidity": 0.2
             }
            },
            "type": "barpolar"
           }
          ],
          "carpet": [
           {
            "aaxis": {
             "endlinecolor": "#2a3f5f",
             "gridcolor": "white",
             "linecolor": "white",
             "minorgridcolor": "white",
             "startlinecolor": "#2a3f5f"
            },
            "baxis": {
             "endlinecolor": "#2a3f5f",
             "gridcolor": "white",
             "linecolor": "white",
             "minorgridcolor": "white",
             "startlinecolor": "#2a3f5f"
            },
            "type": "carpet"
           }
          ],
          "choropleth": [
           {
            "colorbar": {
             "outlinewidth": 0,
             "ticks": ""
            },
            "type": "choropleth"
           }
          ],
          "contour": [
           {
            "colorbar": {
             "outlinewidth": 0,
             "ticks": ""
            },
            "colorscale": [
             [
              0,
              "#0d0887"
             ],
             [
              0.1111111111111111,
              "#46039f"
             ],
             [
              0.2222222222222222,
              "#7201a8"
             ],
             [
              0.3333333333333333,
              "#9c179e"
             ],
             [
              0.4444444444444444,
              "#bd3786"
             ],
             [
              0.5555555555555556,
              "#d8576b"
             ],
             [
              0.6666666666666666,
              "#ed7953"
             ],
             [
              0.7777777777777778,
              "#fb9f3a"
             ],
             [
              0.8888888888888888,
              "#fdca26"
             ],
             [
              1,
              "#f0f921"
             ]
            ],
            "type": "contour"
           }
          ],
          "contourcarpet": [
           {
            "colorbar": {
             "outlinewidth": 0,
             "ticks": ""
            },
            "type": "contourcarpet"
           }
          ],
          "heatmap": [
           {
            "colorbar": {
             "outlinewidth": 0,
             "ticks": ""
            },
            "colorscale": [
             [
              0,
              "#0d0887"
             ],
             [
              0.1111111111111111,
              "#46039f"
             ],
             [
              0.2222222222222222,
              "#7201a8"
             ],
             [
              0.3333333333333333,
              "#9c179e"
             ],
             [
              0.4444444444444444,
              "#bd3786"
             ],
             [
              0.5555555555555556,
              "#d8576b"
             ],
             [
              0.6666666666666666,
              "#ed7953"
             ],
             [
              0.7777777777777778,
              "#fb9f3a"
             ],
             [
              0.8888888888888888,
              "#fdca26"
             ],
             [
              1,
              "#f0f921"
             ]
            ],
            "type": "heatmap"
           }
          ],
          "heatmapgl": [
           {
            "colorbar": {
             "outlinewidth": 0,
             "ticks": ""
            },
            "colorscale": [
             [
              0,
              "#0d0887"
             ],
             [
              0.1111111111111111,
              "#46039f"
             ],
             [
              0.2222222222222222,
              "#7201a8"
             ],
             [
              0.3333333333333333,
              "#9c179e"
             ],
             [
              0.4444444444444444,
              "#bd3786"
             ],
             [
              0.5555555555555556,
              "#d8576b"
             ],
             [
              0.6666666666666666,
              "#ed7953"
             ],
             [
              0.7777777777777778,
              "#fb9f3a"
             ],
             [
              0.8888888888888888,
              "#fdca26"
             ],
             [
              1,
              "#f0f921"
             ]
            ],
            "type": "heatmapgl"
           }
          ],
          "histogram": [
           {
            "marker": {
             "pattern": {
              "fillmode": "overlay",
              "size": 10,
              "solidity": 0.2
             }
            },
            "type": "histogram"
           }
          ],
          "histogram2d": [
           {
            "colorbar": {
             "outlinewidth": 0,
             "ticks": ""
            },
            "colorscale": [
             [
              0,
              "#0d0887"
             ],
             [
              0.1111111111111111,
              "#46039f"
             ],
             [
              0.2222222222222222,
              "#7201a8"
             ],
             [
              0.3333333333333333,
              "#9c179e"
             ],
             [
              0.4444444444444444,
              "#bd3786"
             ],
             [
              0.5555555555555556,
              "#d8576b"
             ],
             [
              0.6666666666666666,
              "#ed7953"
             ],
             [
              0.7777777777777778,
              "#fb9f3a"
             ],
             [
              0.8888888888888888,
              "#fdca26"
             ],
             [
              1,
              "#f0f921"
             ]
            ],
            "type": "histogram2d"
           }
          ],
          "histogram2dcontour": [
           {
            "colorbar": {
             "outlinewidth": 0,
             "ticks": ""
            },
            "colorscale": [
             [
              0,
              "#0d0887"
             ],
             [
              0.1111111111111111,
              "#46039f"
             ],
             [
              0.2222222222222222,
              "#7201a8"
             ],
             [
              0.3333333333333333,
              "#9c179e"
             ],
             [
              0.4444444444444444,
              "#bd3786"
             ],
             [
              0.5555555555555556,
              "#d8576b"
             ],
             [
              0.6666666666666666,
              "#ed7953"
             ],
             [
              0.7777777777777778,
              "#fb9f3a"
             ],
             [
              0.8888888888888888,
              "#fdca26"
             ],
             [
              1,
              "#f0f921"
             ]
            ],
            "type": "histogram2dcontour"
           }
          ],
          "mesh3d": [
           {
            "colorbar": {
             "outlinewidth": 0,
             "ticks": ""
            },
            "type": "mesh3d"
           }
          ],
          "parcoords": [
           {
            "line": {
             "colorbar": {
              "outlinewidth": 0,
              "ticks": ""
             }
            },
            "type": "parcoords"
           }
          ],
          "pie": [
           {
            "automargin": true,
            "type": "pie"
           }
          ],
          "scatter": [
           {
            "fillpattern": {
             "fillmode": "overlay",
             "size": 10,
             "solidity": 0.2
            },
            "type": "scatter"
           }
          ],
          "scatter3d": [
           {
            "line": {
             "colorbar": {
              "outlinewidth": 0,
              "ticks": ""
             }
            },
            "marker": {
             "colorbar": {
              "outlinewidth": 0,
              "ticks": ""
             }
            },
            "type": "scatter3d"
           }
          ],
          "scattercarpet": [
           {
            "marker": {
             "colorbar": {
              "outlinewidth": 0,
              "ticks": ""
             }
            },
            "type": "scattercarpet"
           }
          ],
          "scattergeo": [
           {
            "marker": {
             "colorbar": {
              "outlinewidth": 0,
              "ticks": ""
             }
            },
            "type": "scattergeo"
           }
          ],
          "scattergl": [
           {
            "marker": {
             "colorbar": {
              "outlinewidth": 0,
              "ticks": ""
             }
            },
            "type": "scattergl"
           }
          ],
          "scattermapbox": [
           {
            "marker": {
             "colorbar": {
              "outlinewidth": 0,
              "ticks": ""
             }
            },
            "type": "scattermapbox"
           }
          ],
          "scatterpolar": [
           {
            "marker": {
             "colorbar": {
              "outlinewidth": 0,
              "ticks": ""
             }
            },
            "type": "scatterpolar"
           }
          ],
          "scatterpolargl": [
           {
            "marker": {
             "colorbar": {
              "outlinewidth": 0,
              "ticks": ""
             }
            },
            "type": "scatterpolargl"
           }
          ],
          "scatterternary": [
           {
            "marker": {
             "colorbar": {
              "outlinewidth": 0,
              "ticks": ""
             }
            },
            "type": "scatterternary"
           }
          ],
          "surface": [
           {
            "colorbar": {
             "outlinewidth": 0,
             "ticks": ""
            },
            "colorscale": [
             [
              0,
              "#0d0887"
             ],
             [
              0.1111111111111111,
              "#46039f"
             ],
             [
              0.2222222222222222,
              "#7201a8"
             ],
             [
              0.3333333333333333,
              "#9c179e"
             ],
             [
              0.4444444444444444,
              "#bd3786"
             ],
             [
              0.5555555555555556,
              "#d8576b"
             ],
             [
              0.6666666666666666,
              "#ed7953"
             ],
             [
              0.7777777777777778,
              "#fb9f3a"
             ],
             [
              0.8888888888888888,
              "#fdca26"
             ],
             [
              1,
              "#f0f921"
             ]
            ],
            "type": "surface"
           }
          ],
          "table": [
           {
            "cells": {
             "fill": {
              "color": "#EBF0F8"
             },
             "line": {
              "color": "white"
             }
            },
            "header": {
             "fill": {
              "color": "#C8D4E3"
             },
             "line": {
              "color": "white"
             }
            },
            "type": "table"
           }
          ]
         },
         "layout": {
          "annotationdefaults": {
           "arrowcolor": "#2a3f5f",
           "arrowhead": 0,
           "arrowwidth": 1
          },
          "autotypenumbers": "strict",
          "coloraxis": {
           "colorbar": {
            "outlinewidth": 0,
            "ticks": ""
           }
          },
          "colorscale": {
           "diverging": [
            [
             0,
             "#8e0152"
            ],
            [
             0.1,
             "#c51b7d"
            ],
            [
             0.2,
             "#de77ae"
            ],
            [
             0.3,
             "#f1b6da"
            ],
            [
             0.4,
             "#fde0ef"
            ],
            [
             0.5,
             "#f7f7f7"
            ],
            [
             0.6,
             "#e6f5d0"
            ],
            [
             0.7,
             "#b8e186"
            ],
            [
             0.8,
             "#7fbc41"
            ],
            [
             0.9,
             "#4d9221"
            ],
            [
             1,
             "#276419"
            ]
           ],
           "sequential": [
            [
             0,
             "#0d0887"
            ],
            [
             0.1111111111111111,
             "#46039f"
            ],
            [
             0.2222222222222222,
             "#7201a8"
            ],
            [
             0.3333333333333333,
             "#9c179e"
            ],
            [
             0.4444444444444444,
             "#bd3786"
            ],
            [
             0.5555555555555556,
             "#d8576b"
            ],
            [
             0.6666666666666666,
             "#ed7953"
            ],
            [
             0.7777777777777778,
             "#fb9f3a"
            ],
            [
             0.8888888888888888,
             "#fdca26"
            ],
            [
             1,
             "#f0f921"
            ]
           ],
           "sequentialminus": [
            [
             0,
             "#0d0887"
            ],
            [
             0.1111111111111111,
             "#46039f"
            ],
            [
             0.2222222222222222,
             "#7201a8"
            ],
            [
             0.3333333333333333,
             "#9c179e"
            ],
            [
             0.4444444444444444,
             "#bd3786"
            ],
            [
             0.5555555555555556,
             "#d8576b"
            ],
            [
             0.6666666666666666,
             "#ed7953"
            ],
            [
             0.7777777777777778,
             "#fb9f3a"
            ],
            [
             0.8888888888888888,
             "#fdca26"
            ],
            [
             1,
             "#f0f921"
            ]
           ]
          },
          "colorway": [
           "#636efa",
           "#EF553B",
           "#00cc96",
           "#ab63fa",
           "#FFA15A",
           "#19d3f3",
           "#FF6692",
           "#B6E880",
           "#FF97FF",
           "#FECB52"
          ],
          "font": {
           "color": "#2a3f5f"
          },
          "geo": {
           "bgcolor": "white",
           "lakecolor": "white",
           "landcolor": "#E5ECF6",
           "showlakes": true,
           "showland": true,
           "subunitcolor": "white"
          },
          "hoverlabel": {
           "align": "left"
          },
          "hovermode": "closest",
          "mapbox": {
           "style": "light"
          },
          "paper_bgcolor": "white",
          "plot_bgcolor": "#E5ECF6",
          "polar": {
           "angularaxis": {
            "gridcolor": "white",
            "linecolor": "white",
            "ticks": ""
           },
           "bgcolor": "#E5ECF6",
           "radialaxis": {
            "gridcolor": "white",
            "linecolor": "white",
            "ticks": ""
           }
          },
          "scene": {
           "xaxis": {
            "backgroundcolor": "#E5ECF6",
            "gridcolor": "white",
            "gridwidth": 2,
            "linecolor": "white",
            "showbackground": true,
            "ticks": "",
            "zerolinecolor": "white"
           },
           "yaxis": {
            "backgroundcolor": "#E5ECF6",
            "gridcolor": "white",
            "gridwidth": 2,
            "linecolor": "white",
            "showbackground": true,
            "ticks": "",
            "zerolinecolor": "white"
           },
           "zaxis": {
            "backgroundcolor": "#E5ECF6",
            "gridcolor": "white",
            "gridwidth": 2,
            "linecolor": "white",
            "showbackground": true,
            "ticks": "",
            "zerolinecolor": "white"
           }
          },
          "shapedefaults": {
           "line": {
            "color": "#2a3f5f"
           }
          },
          "ternary": {
           "aaxis": {
            "gridcolor": "white",
            "linecolor": "white",
            "ticks": ""
           },
           "baxis": {
            "gridcolor": "white",
            "linecolor": "white",
            "ticks": ""
           },
           "bgcolor": "#E5ECF6",
           "caxis": {
            "gridcolor": "white",
            "linecolor": "white",
            "ticks": ""
           }
          },
          "title": {
           "x": 0.05
          },
          "xaxis": {
           "automargin": true,
           "gridcolor": "white",
           "linecolor": "white",
           "ticks": "",
           "title": {
            "standoff": 15
           },
           "zerolinecolor": "white",
           "zerolinewidth": 2
          },
          "yaxis": {
           "automargin": true,
           "gridcolor": "white",
           "linecolor": "white",
           "ticks": "",
           "title": {
            "standoff": 15
           },
           "zerolinecolor": "white",
           "zerolinewidth": 2
          }
         }
        },
        "title": {
         "text": "Optimization History Plot"
        },
        "xaxis": {
         "title": {
          "text": "Trial"
         }
        },
        "yaxis": {
         "title": {
          "text": "Objective Value"
         }
        }
       }
      },
      "text/html": [
       "<div>                            <div id=\"a8c7c09e-7273-4add-90b5-704b47c15666\" class=\"plotly-graph-div\" style=\"height:525px; width:100%;\"></div>            <script type=\"text/javascript\">                require([\"plotly\"], function(Plotly) {                    window.PLOTLYENV=window.PLOTLYENV || {};                                    if (document.getElementById(\"a8c7c09e-7273-4add-90b5-704b47c15666\")) {                    Plotly.newPlot(                        \"a8c7c09e-7273-4add-90b5-704b47c15666\",                        [{\"mode\":\"markers\",\"name\":\"Objective Value\",\"x\":[0,1,2,3,4,5,6,7,8,9,10,11,12,13,14,15,16,17,18,19,20,21,22,23,24,25,26,27,28,29,30,31,32,33,34,35,36,37,38,39,40,41,42,43,44,45,46,47,48,49],\"y\":[0.45076536635853826,0.4702032121386974,0.45874055358778176,0.4610189902552715,0.4379277628369669,0.4457997332616044,0.463788067688749,0.46206491958370277,0.4620576331162501,0.4636620231223934,0.4680452962672343,0.46119139425098316,0.4570879668054524,0.4682737356268771,0.46317641415665994,0.46520685101975306,0.4614678027558428,0.448219824553961,0.46539422950603965,0.4692518498607449,0.46387473360798936,0.46498990467896845,0.4655855667756022,0.4660159468529745,0.47064932141493054,0.4662244815079259,0.4543283724437505,0.4703151192339972,0.46625575061582625,0.46772935363052975,0.4720905631356927,0.47020488037840874,0.46867657071759156,0.4704361139788211,0.47003054350815016,0.46532083304980604,0.46556598214504546,0.47176840862279595,0.4714376512634602,0.46645941348987957,0.4688396343951385,0.4674458937685022,0.46417681742625055,0.4703353965231631,0.47057481797004774,0.46929920802895597,0.47043902905916274,0.4734151878989077,0.4649683296605646,0.4703903840505497],\"type\":\"scatter\"},{\"name\":\"Best Value\",\"x\":[0,1,2,3,4,5,6,7,8,9,10,11,12,13,14,15,16,17,18,19,20,21,22,23,24,25,26,27,28,29,30,31,32,33,34,35,36,37,38,39,40,41,42,43,44,45,46,47,48,49],\"y\":[0.45076536635853826,0.4702032121386974,0.4702032121386974,0.4702032121386974,0.4702032121386974,0.4702032121386974,0.4702032121386974,0.4702032121386974,0.4702032121386974,0.4702032121386974,0.4702032121386974,0.4702032121386974,0.4702032121386974,0.4702032121386974,0.4702032121386974,0.4702032121386974,0.4702032121386974,0.4702032121386974,0.4702032121386974,0.4702032121386974,0.4702032121386974,0.4702032121386974,0.4702032121386974,0.4702032121386974,0.47064932141493054,0.47064932141493054,0.47064932141493054,0.47064932141493054,0.47064932141493054,0.47064932141493054,0.4720905631356927,0.4720905631356927,0.4720905631356927,0.4720905631356927,0.4720905631356927,0.4720905631356927,0.4720905631356927,0.4720905631356927,0.4720905631356927,0.4720905631356927,0.4720905631356927,0.4720905631356927,0.4720905631356927,0.4720905631356927,0.4720905631356927,0.4720905631356927,0.4720905631356927,0.4734151878989077,0.4734151878989077,0.4734151878989077],\"type\":\"scatter\"}],                        {\"title\":{\"text\":\"Optimization History Plot\"},\"xaxis\":{\"title\":{\"text\":\"Trial\"}},\"yaxis\":{\"title\":{\"text\":\"Objective Value\"}},\"template\":{\"data\":{\"histogram2dcontour\":[{\"type\":\"histogram2dcontour\",\"colorbar\":{\"outlinewidth\":0,\"ticks\":\"\"},\"colorscale\":[[0.0,\"#0d0887\"],[0.1111111111111111,\"#46039f\"],[0.2222222222222222,\"#7201a8\"],[0.3333333333333333,\"#9c179e\"],[0.4444444444444444,\"#bd3786\"],[0.5555555555555556,\"#d8576b\"],[0.6666666666666666,\"#ed7953\"],[0.7777777777777778,\"#fb9f3a\"],[0.8888888888888888,\"#fdca26\"],[1.0,\"#f0f921\"]]}],\"choropleth\":[{\"type\":\"choropleth\",\"colorbar\":{\"outlinewidth\":0,\"ticks\":\"\"}}],\"histogram2d\":[{\"type\":\"histogram2d\",\"colorbar\":{\"outlinewidth\":0,\"ticks\":\"\"},\"colorscale\":[[0.0,\"#0d0887\"],[0.1111111111111111,\"#46039f\"],[0.2222222222222222,\"#7201a8\"],[0.3333333333333333,\"#9c179e\"],[0.4444444444444444,\"#bd3786\"],[0.5555555555555556,\"#d8576b\"],[0.6666666666666666,\"#ed7953\"],[0.7777777777777778,\"#fb9f3a\"],[0.8888888888888888,\"#fdca26\"],[1.0,\"#f0f921\"]]}],\"heatmap\":[{\"type\":\"heatmap\",\"colorbar\":{\"outlinewidth\":0,\"ticks\":\"\"},\"colorscale\":[[0.0,\"#0d0887\"],[0.1111111111111111,\"#46039f\"],[0.2222222222222222,\"#7201a8\"],[0.3333333333333333,\"#9c179e\"],[0.4444444444444444,\"#bd3786\"],[0.5555555555555556,\"#d8576b\"],[0.6666666666666666,\"#ed7953\"],[0.7777777777777778,\"#fb9f3a\"],[0.8888888888888888,\"#fdca26\"],[1.0,\"#f0f921\"]]}],\"heatmapgl\":[{\"type\":\"heatmapgl\",\"colorbar\":{\"outlinewidth\":0,\"ticks\":\"\"},\"colorscale\":[[0.0,\"#0d0887\"],[0.1111111111111111,\"#46039f\"],[0.2222222222222222,\"#7201a8\"],[0.3333333333333333,\"#9c179e\"],[0.4444444444444444,\"#bd3786\"],[0.5555555555555556,\"#d8576b\"],[0.6666666666666666,\"#ed7953\"],[0.7777777777777778,\"#fb9f3a\"],[0.8888888888888888,\"#fdca26\"],[1.0,\"#f0f921\"]]}],\"contourcarpet\":[{\"type\":\"contourcarpet\",\"colorbar\":{\"outlinewidth\":0,\"ticks\":\"\"}}],\"contour\":[{\"type\":\"contour\",\"colorbar\":{\"outlinewidth\":0,\"ticks\":\"\"},\"colorscale\":[[0.0,\"#0d0887\"],[0.1111111111111111,\"#46039f\"],[0.2222222222222222,\"#7201a8\"],[0.3333333333333333,\"#9c179e\"],[0.4444444444444444,\"#bd3786\"],[0.5555555555555556,\"#d8576b\"],[0.6666666666666666,\"#ed7953\"],[0.7777777777777778,\"#fb9f3a\"],[0.8888888888888888,\"#fdca26\"],[1.0,\"#f0f921\"]]}],\"surface\":[{\"type\":\"surface\",\"colorbar\":{\"outlinewidth\":0,\"ticks\":\"\"},\"colorscale\":[[0.0,\"#0d0887\"],[0.1111111111111111,\"#46039f\"],[0.2222222222222222,\"#7201a8\"],[0.3333333333333333,\"#9c179e\"],[0.4444444444444444,\"#bd3786\"],[0.5555555555555556,\"#d8576b\"],[0.6666666666666666,\"#ed7953\"],[0.7777777777777778,\"#fb9f3a\"],[0.8888888888888888,\"#fdca26\"],[1.0,\"#f0f921\"]]}],\"mesh3d\":[{\"type\":\"mesh3d\",\"colorbar\":{\"outlinewidth\":0,\"ticks\":\"\"}}],\"scatter\":[{\"fillpattern\":{\"fillmode\":\"overlay\",\"size\":10,\"solidity\":0.2},\"type\":\"scatter\"}],\"parcoords\":[{\"type\":\"parcoords\",\"line\":{\"colorbar\":{\"outlinewidth\":0,\"ticks\":\"\"}}}],\"scatterpolargl\":[{\"type\":\"scatterpolargl\",\"marker\":{\"colorbar\":{\"outlinewidth\":0,\"ticks\":\"\"}}}],\"bar\":[{\"error_x\":{\"color\":\"#2a3f5f\"},\"error_y\":{\"color\":\"#2a3f5f\"},\"marker\":{\"line\":{\"color\":\"#E5ECF6\",\"width\":0.5},\"pattern\":{\"fillmode\":\"overlay\",\"size\":10,\"solidity\":0.2}},\"type\":\"bar\"}],\"scattergeo\":[{\"type\":\"scattergeo\",\"marker\":{\"colorbar\":{\"outlinewidth\":0,\"ticks\":\"\"}}}],\"scatterpolar\":[{\"type\":\"scatterpolar\",\"marker\":{\"colorbar\":{\"outlinewidth\":0,\"ticks\":\"\"}}}],\"histogram\":[{\"marker\":{\"pattern\":{\"fillmode\":\"overlay\",\"size\":10,\"solidity\":0.2}},\"type\":\"histogram\"}],\"scattergl\":[{\"type\":\"scattergl\",\"marker\":{\"colorbar\":{\"outlinewidth\":0,\"ticks\":\"\"}}}],\"scatter3d\":[{\"type\":\"scatter3d\",\"line\":{\"colorbar\":{\"outlinewidth\":0,\"ticks\":\"\"}},\"marker\":{\"colorbar\":{\"outlinewidth\":0,\"ticks\":\"\"}}}],\"scattermapbox\":[{\"type\":\"scattermapbox\",\"marker\":{\"colorbar\":{\"outlinewidth\":0,\"ticks\":\"\"}}}],\"scatterternary\":[{\"type\":\"scatterternary\",\"marker\":{\"colorbar\":{\"outlinewidth\":0,\"ticks\":\"\"}}}],\"scattercarpet\":[{\"type\":\"scattercarpet\",\"marker\":{\"colorbar\":{\"outlinewidth\":0,\"ticks\":\"\"}}}],\"carpet\":[{\"aaxis\":{\"endlinecolor\":\"#2a3f5f\",\"gridcolor\":\"white\",\"linecolor\":\"white\",\"minorgridcolor\":\"white\",\"startlinecolor\":\"#2a3f5f\"},\"baxis\":{\"endlinecolor\":\"#2a3f5f\",\"gridcolor\":\"white\",\"linecolor\":\"white\",\"minorgridcolor\":\"white\",\"startlinecolor\":\"#2a3f5f\"},\"type\":\"carpet\"}],\"table\":[{\"cells\":{\"fill\":{\"color\":\"#EBF0F8\"},\"line\":{\"color\":\"white\"}},\"header\":{\"fill\":{\"color\":\"#C8D4E3\"},\"line\":{\"color\":\"white\"}},\"type\":\"table\"}],\"barpolar\":[{\"marker\":{\"line\":{\"color\":\"#E5ECF6\",\"width\":0.5},\"pattern\":{\"fillmode\":\"overlay\",\"size\":10,\"solidity\":0.2}},\"type\":\"barpolar\"}],\"pie\":[{\"automargin\":true,\"type\":\"pie\"}]},\"layout\":{\"autotypenumbers\":\"strict\",\"colorway\":[\"#636efa\",\"#EF553B\",\"#00cc96\",\"#ab63fa\",\"#FFA15A\",\"#19d3f3\",\"#FF6692\",\"#B6E880\",\"#FF97FF\",\"#FECB52\"],\"font\":{\"color\":\"#2a3f5f\"},\"hovermode\":\"closest\",\"hoverlabel\":{\"align\":\"left\"},\"paper_bgcolor\":\"white\",\"plot_bgcolor\":\"#E5ECF6\",\"polar\":{\"bgcolor\":\"#E5ECF6\",\"angularaxis\":{\"gridcolor\":\"white\",\"linecolor\":\"white\",\"ticks\":\"\"},\"radialaxis\":{\"gridcolor\":\"white\",\"linecolor\":\"white\",\"ticks\":\"\"}},\"ternary\":{\"bgcolor\":\"#E5ECF6\",\"aaxis\":{\"gridcolor\":\"white\",\"linecolor\":\"white\",\"ticks\":\"\"},\"baxis\":{\"gridcolor\":\"white\",\"linecolor\":\"white\",\"ticks\":\"\"},\"caxis\":{\"gridcolor\":\"white\",\"linecolor\":\"white\",\"ticks\":\"\"}},\"coloraxis\":{\"colorbar\":{\"outlinewidth\":0,\"ticks\":\"\"}},\"colorscale\":{\"sequential\":[[0.0,\"#0d0887\"],[0.1111111111111111,\"#46039f\"],[0.2222222222222222,\"#7201a8\"],[0.3333333333333333,\"#9c179e\"],[0.4444444444444444,\"#bd3786\"],[0.5555555555555556,\"#d8576b\"],[0.6666666666666666,\"#ed7953\"],[0.7777777777777778,\"#fb9f3a\"],[0.8888888888888888,\"#fdca26\"],[1.0,\"#f0f921\"]],\"sequentialminus\":[[0.0,\"#0d0887\"],[0.1111111111111111,\"#46039f\"],[0.2222222222222222,\"#7201a8\"],[0.3333333333333333,\"#9c179e\"],[0.4444444444444444,\"#bd3786\"],[0.5555555555555556,\"#d8576b\"],[0.6666666666666666,\"#ed7953\"],[0.7777777777777778,\"#fb9f3a\"],[0.8888888888888888,\"#fdca26\"],[1.0,\"#f0f921\"]],\"diverging\":[[0,\"#8e0152\"],[0.1,\"#c51b7d\"],[0.2,\"#de77ae\"],[0.3,\"#f1b6da\"],[0.4,\"#fde0ef\"],[0.5,\"#f7f7f7\"],[0.6,\"#e6f5d0\"],[0.7,\"#b8e186\"],[0.8,\"#7fbc41\"],[0.9,\"#4d9221\"],[1,\"#276419\"]]},\"xaxis\":{\"gridcolor\":\"white\",\"linecolor\":\"white\",\"ticks\":\"\",\"title\":{\"standoff\":15},\"zerolinecolor\":\"white\",\"automargin\":true,\"zerolinewidth\":2},\"yaxis\":{\"gridcolor\":\"white\",\"linecolor\":\"white\",\"ticks\":\"\",\"title\":{\"standoff\":15},\"zerolinecolor\":\"white\",\"automargin\":true,\"zerolinewidth\":2},\"scene\":{\"xaxis\":{\"backgroundcolor\":\"#E5ECF6\",\"gridcolor\":\"white\",\"linecolor\":\"white\",\"showbackground\":true,\"ticks\":\"\",\"zerolinecolor\":\"white\",\"gridwidth\":2},\"yaxis\":{\"backgroundcolor\":\"#E5ECF6\",\"gridcolor\":\"white\",\"linecolor\":\"white\",\"showbackground\":true,\"ticks\":\"\",\"zerolinecolor\":\"white\",\"gridwidth\":2},\"zaxis\":{\"backgroundcolor\":\"#E5ECF6\",\"gridcolor\":\"white\",\"linecolor\":\"white\",\"showbackground\":true,\"ticks\":\"\",\"zerolinecolor\":\"white\",\"gridwidth\":2}},\"shapedefaults\":{\"line\":{\"color\":\"#2a3f5f\"}},\"annotationdefaults\":{\"arrowcolor\":\"#2a3f5f\",\"arrowhead\":0,\"arrowwidth\":1},\"geo\":{\"bgcolor\":\"white\",\"landcolor\":\"#E5ECF6\",\"subunitcolor\":\"white\",\"showland\":true,\"showlakes\":true,\"lakecolor\":\"white\"},\"title\":{\"x\":0.05},\"mapbox\":{\"style\":\"light\"}}}},                        {\"responsive\": true}                    ).then(function(){\n",
       "                            \n",
       "var gd = document.getElementById('a8c7c09e-7273-4add-90b5-704b47c15666');\n",
       "var x = new MutationObserver(function (mutations, observer) {{\n",
       "        var display = window.getComputedStyle(gd).display;\n",
       "        if (!display || display === 'none') {{\n",
       "            console.log([gd, 'removed!']);\n",
       "            Plotly.purge(gd);\n",
       "            observer.disconnect();\n",
       "        }}\n",
       "}});\n",
       "\n",
       "// Listen for the removal of the full notebook cells\n",
       "var notebookContainer = gd.closest('#notebook-container');\n",
       "if (notebookContainer) {{\n",
       "    x.observe(notebookContainer, {childList: true});\n",
       "}}\n",
       "\n",
       "// Listen for the clearing of the current output cell\n",
       "var outputEl = gd.closest('.output');\n",
       "if (outputEl) {{\n",
       "    x.observe(outputEl, {childList: true});\n",
       "}}\n",
       "\n",
       "                        })                };                });            </script>        </div>"
      ]
     },
     "metadata": {},
     "output_type": "display_data"
    }
   ],
   "source": [
    "vis.plot_optimization_history(study)"
   ]
  },
  {
   "cell_type": "code",
   "execution_count": 15,
   "id": "d3b7b4ca",
   "metadata": {
    "id": "d3b7b4ca"
   },
   "outputs": [
    {
     "name": "stdout",
     "output_type": "stream",
     "text": [
      "Individual f1_macro scores: [0.47180509 0.47844127 0.4683652  0.48459997 0.47082927 0.46645033]\n",
      "Mean cross-validation f1_macro: 0.4734151878989077\n",
      "Individual accuracy scores: [0.65481435 0.65859031 0.65544368 0.65596475 0.65942713 0.65533522]\n",
      "Mean cross-validation accuracy: 0.6565959055538618\n",
      "Individual recall_macro scores: [0.45825772 0.46444297 0.45641166 0.46823135 0.45719147 0.45526274]\n",
      "Mean cross-validation recall_macro: 0.45996631687575484\n",
      "Individual precision_macro scores: [0.52845456 0.53595292 0.52228523 0.55657497 0.53461912 0.51930991]\n",
      "Mean cross-validation precision_macro: 0.5328661174804752\n"
     ]
    }
   ],
   "source": [
    "feature_set=['narrative_tfidf', 'tfidf_title', 'tfidf_keywords']\n",
    "X_train_val_combined = X_train_val[feature_set].apply(lambda x: ' '.join(x.fillna('').astype(str)), axis=1)\n",
    "X_test_combined = X_test[feature_set].apply(lambda x: ' '.join(x.fillna('').astype(str)), axis=1)\n",
    "\n",
    "# Transform the features using TF-IDF\n",
    "vectorizer = TfidfVectorizer(ngram_range=(1, 3), max_df=0.95, min_df=2)\n",
    "X_train_val_combined_transformed = vectorizer.fit_transform(X_train_val_combined)\n",
    "X_test_combined_transformed = vectorizer.transform(X_test_combined)\n",
    "\n",
    "params={'colsample_bytree': 0.6660707896339382, 'eta': 0.1865203620258158, 'gamma': 0.4869470425232074, 'max_depth': 5, 'min_child_weight': 8, 'n_estimators': 747, 'reg_alpha': 0.2615683528029101, 'reg_lambda': 0.20706126430246635, 'subsample': 0.87307714888806}\n",
    "best_model = XGBClassifier(objective= 'multi:softmax', num_class=4, eval_metric='mlogloss', random_state=42, **params)\n",
    "\n",
    "metrics = ['f1_macro', 'accuracy', 'recall_macro', 'precision_macro']\n",
    "cv = StratifiedKFold(n_splits=6, shuffle=True, random_state=42)\n",
    "# Perform cross-validation for different metrics\n",
    "for metric in metrics:\n",
    "    scores = cross_val_score(best_model, X_train_val_combined_transformed, y_train_val, cv=cv, scoring=metric, n_jobs=-1)\n",
    "    print(\"Individual {} scores:\".format(metric), scores)\n",
    "    print(\"Mean cross-validation {}:\".format(metric), scores.mean())"
   ]
  },
  {
   "cell_type": "code",
   "execution_count": 16,
   "id": "KTTp4EXKsDnM",
   "metadata": {
    "id": "KTTp4EXKsDnM"
   },
   "outputs": [
    {
     "name": "stdout",
     "output_type": "stream",
     "text": [
      "test classification report\n",
      "              precision    recall  f1-score   support\n",
      "\n",
      "           0       0.58      0.62      0.60      1195\n",
      "           1       0.29      0.13      0.18       333\n",
      "           2       0.73      0.83      0.78      1609\n",
      "           3       0.39      0.19      0.25       228\n",
      "\n",
      "    accuracy                           0.64      3365\n",
      "   macro avg       0.50      0.44      0.45      3365\n",
      "weighted avg       0.61      0.64      0.62      3365\n",
      "\n"
     ]
    },
    {
     "data": {
      "image/png": "[encoded data removed]",
      "text/plain": [
       "<Figure size 700x700 with 1 Axes>"
      ]
     },
     "metadata": {},
     "output_type": "display_data"
    },
    {
     "name": "stdout",
     "output_type": "stream",
     "text": [
      "\n",
      "\n"
     ]
    }
   ],
   "source": [
    "# Retrain on full training set using the best hyperparameters\n",
    "best_model.fit(X_train_val_combined_transformed, y_train_val)\n",
    "\n",
    "# Make predictions on the test dataset\n",
    "y_pred_test = best_model.predict(X_test_combined_transformed)\n",
    "print('test classification report')\n",
    "print(classification_report(y_test, y_pred_test))\n",
    "\n",
    "# Print the confusion matrix\n",
    "fig, ax = plt.subplots(figsize=(7, 7))\n",
    "confusion_mat = confusion_matrix(y_true=y_test, y_pred=y_pred_test, labels=[0,1,2,3])\n",
    "ax.matshow(confusion_mat, cmap=plt.cm.Blues, alpha=0.3)\n",
    "for i in range(confusion_mat.shape[0]):\n",
    "    for j in range(confusion_mat.shape[1]):\n",
    "        ax.text(x=j, y=i,s=confusion_mat[i, j], va='center', ha='center', size='xx-large')\n",
    "plt.xlabel('Predictions', fontsize=10)\n",
    "plt.ylabel('Actuals', fontsize=10)\n",
    "plt.title('Confusion Matrix', fontsize=10)\n",
    "plt.show()\n",
    "print('\\n')"
   ]
  },
  {
   "cell_type": "code",
   "execution_count": null,
   "id": "BjxEuIn6sJLh",
   "metadata": {
    "id": "BjxEuIn6sJLh"
   },
   "outputs": [],
   "source": [
    "plot_learning_curve(best_model, X_train_val_combined_transformed, y_train_val, 'f1_macro')"
   ]
  },
  {
   "cell_type": "code",
   "execution_count": null,
   "id": "-oqsItMasJXy",
   "metadata": {
    "id": "-oqsItMasJXy"
   },
   "outputs": [],
   "source": [
    "plot_learning_curve(best_model, X_train_val_combined_transformed, y_train_val, 'accuracy')"
   ]
  },
  {
   "cell_type": "markdown",
   "id": "4c7d2bf9",
   "metadata": {
    "id": "4c7d2bf9"
   },
   "source": [
    "# <span style=\"color:white; font-size:18px;background-color:red\"> Class Weighting + HT</span>  \n",
    "https://machinelearningmastery.com/xgboost-for-imbalanced-classification/  \n",
    "https://towardsdatascience.com/how-to-handle-multiclass-imbalanced-data-say-no-to-smote-e9a7f393c310  \n",
    "\n",
    " \n",
    "\n",
    "done, db in colab"
   ]
  },
  {
   "cell_type": "code",
   "execution_count": null,
   "id": "645facc4",
   "metadata": {
    "colab": {
     "base_uri": "https://localhost:8080/"
    },
    "id": "645facc4",
    "outputId": "c757f403-c475-4dcb-b8af-1c554f7f7f54"
   },
   "outputs": [
    {
     "name": "stdout",
     "output_type": "stream",
     "text": [
      "Class 0 represents 35.5 % of the dataset.\n",
      "Class 1 represents 9.9 % of the dataset.\n",
      "Class 2 represents 47.8 % of the dataset.\n",
      "Class 3 represents 6.8 % of the dataset.\n"
     ]
    }
   ],
   "source": [
    "from collections import Counter\n",
    "for target, count in Counter(df['reason']).items():\n",
    "    print('Class {} represents {} % of the dataset.'.format(target, round((count/len(df))*100,1)))"
   ]
  },
  {
   "cell_type": "code",
   "execution_count": 15,
   "id": "2QUVnxp5YhDr",
   "metadata": {
    "id": "2QUVnxp5YhDr"
   },
   "outputs": [],
   "source": [
    "def BalancedSampleWeights(y_train_val,class_weight_coef):\n",
    "    class_weight_dict = {\n",
    "    0: len(y_train_val) / (4 * sum(y_train_val == 0)),\n",
    "    1: len(y_train_val) / (4 * sum(y_train_val == 1)),\n",
    "    2: len(y_train_val) / (4 * sum(y_train_val == 2)),\n",
    "    3: len(y_train_val) / (4 * sum(y_train_val == 3))\n",
    "}\n",
    "    class_weight_dict = {key: value * class_weight_coef for key, value in class_weight_dict.items()}\n",
    "    sample_weights = [class_weight_dict[i] for i in y_train_val]\n",
    "    return sample_weights\n",
    "weight=BalancedSampleWeights(y_train_val,1)"
   ]
  },
  {
   "cell_type": "markdown",
   "id": "ypZya7FYecR7",
   "metadata": {
    "id": "ypZya7FYecR7"
   },
   "source": [
    "1. The class weights are calculated by dividing the total number of samples by the product of the number of classes and the number of samples in each class. This will assign smaller weights to the classes with larger sample counts and higher weights to the classes with smaller sample counts, so that the algorithm pays more attention to the minority class during training. Class weights are typically assigned at the class level and are used to modify the loss function during training. Models with class weights will penalize misclassifications of the minority class more heavily, effectively giving more importance to correctly classifying the minority class.  \n",
    "\n",
    "      class_weight = total_samples / (num_classes * class_samples)\n",
    "\n",
    "\n",
    "2. sample_weights is used to give weights for each training sample. That means that you should pass a one-dimensional array with the exact same number of elements as your training samples. These weights determine the importance of each sample during the training process. By assigning different weights to different samples, you can control how much emphasis the algorithm places on each sample while learning. This can be useful for scenarios where certain samples are more informative or more representative of the population than others.  \n",
    "\n",
    "\n",
    "3. The class_weight_coef parameter determines how much you want to scale the calculated class weights. Examples:\n",
    "\n",
    "  * class_weight_coef = 1 (No Scaling):\n",
    "  When class_weight_coef is set to 1, it means you're using the calculated class weights as they are, without any modification. The impact of this is that your model will be trained with class weights that are directly proportional to the inverse class frequencies in your dataset. This can help the model pay more attention to minority classes and less attention to the majority class.\n",
    "\n",
    "  * class_weight_coef > 1 (Scaling Up):\n",
    "  When class_weight_coef is greater than 1 (e.g., 2), you're scaling up the calculated class weights. This will increase the importance of the class weights during training. The impact is that your model will be even more sensitive to the minority classes, potentially leading to better performance on these classes. However, it might also increase the risk of overfitting to the minority classes, especially if they are represented by noisy or less representative data.\n",
    "\n",
    "  * class_weight_coef < 1 (Scaling Down):\n",
    "  When class_weight_coef is less than 1 (e.g., 0.5), you're scaling down the calculated class weights. This will decrease the importance of the class weights during training. The impact is that your model might become less sensitive to the minority classes and could potentially perform worse on them. However, this might help mitigate the risk of overfitting to the minority classes and might result in better generalization to the majority class.\n",
    "\n",
    "\n",
    "\n",
    "\n",
    "\n"
   ]
  },
  {
   "cell_type": "code",
   "execution_count": 17,
   "id": "b7-zBC9SPf6Z",
   "metadata": {
    "id": "b7-zBC9SPf6Z"
   },
   "outputs": [],
   "source": [
    "def objective(trial):\n",
    "    feature_set=['narrative_tfidf', 'tfidf_title', 'tfidf_keywords']\n",
    "    X_train_val_combined = X_train_val[feature_set].apply(lambda x: ' '.join(x.fillna('').astype(str)), axis=1)\n",
    "    X_test_combined = X_test[feature_set].apply(lambda x: ' '.join(x.fillna('').astype(str)), axis=1)\n",
    "\n",
    "    # Transform the features using TF-IDF\n",
    "    vectorizer = TfidfVectorizer(ngram_range=(1, 3), max_df=0.95, min_df=2)\n",
    "    X_train_val_combined_transformed = vectorizer.fit_transform(X_train_val_combined)\n",
    "    X_test_combined_transformed = vectorizer.transform(X_test_combined)\n",
    "\n",
    "    # Define the hyperparameter search space\n",
    "    params = {\n",
    "      'objective': 'multi:softmax',\n",
    "      'num_class': 4,\n",
    "      'eval_metric': 'mlogloss',\n",
    "      'eta': trial.suggest_float('eta', 0.01, 0.3),\n",
    "      'n_estimators': trial.suggest_int('n_estimators', 50, 1000),\n",
    "      'max_depth': trial.suggest_int('max_depth', 3, 15),\n",
    "      'subsample': trial.suggest_float('subsample', 0.5, 1.0),\n",
    "      'colsample_bytree': trial.suggest_float('colsample_bytree', 0.5, 1.0),\n",
    "      'min_child_weight': trial.suggest_int('min_child_weight', 2, 15),\n",
    "      'gamma': trial.suggest_float(\"gamma\", 0, 1),\n",
    "      'reg_alpha': trial.suggest_float('reg_alpha',0, 1),              # L1 regularization term on weights\n",
    "      'reg_lambda': trial.suggest_float('reg_lambda',0, 1)\n",
    "    }\n",
    "\n",
    "    # Create and train the XGBoost classifier with the current set of hyperparameters\n",
    "    clf = XGBClassifier(**params, random_state=42)\n",
    "    clf.fit(X_train_val_combined_transformed, y_train_val)\n",
    "\n",
    "    # Evaluate the classifier on the validation set\n",
    "    cv = StratifiedKFold(n_splits=6, shuffle=True, random_state=42)\n",
    "    f1_scores = cross_val_score(clf, X_train_val_combined_transformed, y_train_val, cv=cv, scoring='f1_macro',fit_params={'sample_weight': weight}, n_jobs=-1)\n",
    "    # f1_scores = cross_validate(clf, X_train_val_combined_transformed, y_train_val, cv=cv, scoring='f1_macro', fit_params={'sample_weight': weight}, n_jobs=-1)\n",
    "    return f1_scores.mean()"
   ]
  },
  {
   "cell_type": "code",
   "execution_count": 18,
   "id": "hL1anDEtPf6a",
   "metadata": {
    "id": "hL1anDEtPf6a"
   },
   "outputs": [],
   "source": [
    "import os\n",
    "path = 'D:\\\\MS DATA SCIENCE\\\\NLP TESE\\\\optuna'\n",
    "database_filename = 'tfidf_xgboost.db'\n",
    "\n",
    "# Full path to the SQLite database file in Google Drive\n",
    "database_path = os.path.join(path, database_filename)\n",
    "\n",
    "# Set the SQLite database path to Google Drive path\n",
    "storage = optuna.storages.RDBStorage(url=f'sqlite:///{database_path}')"
   ]
  },
  {
   "cell_type": "code",
   "execution_count": null,
   "id": "Asw5MeSYPf6b",
   "metadata": {
    "colab": {
     "base_uri": "https://localhost:8080/"
    },
    "id": "Asw5MeSYPf6b",
    "outputId": "3a927c93-de83-4834-a978-6c5446adc924"
   },
   "outputs": [
    {
     "metadata": {
      "tags": null
     },
     "name": "stderr",
     "output_type": "stream",
     "text": [
      "[I 2023-09-01 02:03:43,246] A new study created in RDB with name: tfidf_xgboost\n",
      "[I 2023-09-01 03:49:55,632] Trial 1 finished with value: 0.4861196054410757 and parameters: {'eta': 0.26743777616461495, 'n_estimators': 312, 'max_depth': 3, 'subsample': 0.6149439212243977, 'colsample_bytree': 0.9309596812315835, 'min_child_weight': 14, 'gamma': 0.46397707096244345, 'reg_alpha': 0.16565222305887106, 'reg_lambda': 0.7059422177618105}. Best is trial 1 with value: 0.4861196054410757.\n"
     ]
    }
   ],
   "source": [
    "study = optuna.create_study(storage=storage, direction='maximize', study_name='tfidf_xgboost',load_if_exists=True)\n",
    "study.optimize(objective, n_trials=50, n_jobs=2)\n",
    "\n",
    "trial = study.best_trial\n",
    "print('Val Loss: {}'.format(trial.value))\n",
    "print(\"Best hyperparameters: {}\".format(trial.params))"
   ]
  },
  {
   "cell_type": "code",
   "execution_count": null,
   "id": "StR-yNk6Pf6b",
   "metadata": {
    "id": "StR-yNk6Pf6b"
   },
   "outputs": [],
   "source": [
    "# in case it fails\n",
    "# Load the existing study by providing the study name and storage URL\n",
    "study = optuna.load_study(study_name='tfidf_xgboost', storage=storage)\n",
    "\n",
    "# Continue optimization with additional trials\n",
    "study.optimize(objective, n_trials=4, n_jobs=2)\n",
    "\n",
    "trial = study.best_trial\n",
    "print('F1 score Loss: {}'.format(trial.value))\n",
    "print(\"Best hyperparameters: {}\".format(trial.params))"
   ]
  },
  {
   "cell_type": "code",
   "execution_count": 19,
   "id": "VrgX4BZhPf6b",
   "metadata": {
    "colab": {
     "base_uri": "https://localhost:8080/",
     "height": 542
    },
    "id": "VrgX4BZhPf6b",
    "outputId": "829c1fb2-3e93-4c8b-a7e2-cd3b69e6f65a"
   },
   "outputs": [
    {
     "data": {
      "text/html": [
       "<html>\n",
       "<head><meta charset=\"utf-8\" /></head>\n",
       "<body>\n",
       "    <div>            <script src=\"https://cdnjs.cloudflare.com/ajax/libs/mathjax/2.7.5/MathJax.js?config=TeX-AMS-MML_SVG\"></script><script type=\"text/javascript\">if (window.MathJax && window.MathJax.Hub && window.MathJax.Hub.Config) {window.MathJax.Hub.Config({SVG: {font: \"STIX-Web\"}});}</script>                <script type=\"text/javascript\">window.PlotlyConfig = {MathJaxConfig: 'local'};</script>\n",
       "        <script charset=\"utf-8\" src=\"https://cdn.plot.ly/plotly-2.24.1.min.js\"></script>                <div id=\"60a1f997-d338-4a49-806d-b5cb03a4b7c6\" class=\"plotly-graph-div\" style=\"height:525px; width:100%;\"></div>            <script type=\"text/javascript\">                                    window.PLOTLYENV=window.PLOTLYENV || {};                                    if (document.getElementById(\"60a1f997-d338-4a49-806d-b5cb03a4b7c6\")) {                    Plotly.newPlot(                        \"60a1f997-d338-4a49-806d-b5cb03a4b7c6\",                        [{\"mode\":\"markers\",\"name\":\"Objective Value\",\"x\":[1,4,7,14,18],\"y\":[0.4861196054410757,0.49837307828527727,0.4866286782672276,0.4931391254960061,0.4940088014862071],\"type\":\"scatter\"},{\"mode\":\"lines\",\"name\":\"Best Value\",\"x\":[0,1,2,3,4,5,6,7,8,9,10,11,12,13,14,15,16,17,18,19,20,21,22,23,24,25,26,27,28],\"y\":[null,0.4861196054410757,0.4861196054410757,0.4861196054410757,0.49837307828527727,0.49837307828527727,0.49837307828527727,0.49837307828527727,0.49837307828527727,0.49837307828527727,0.49837307828527727,0.49837307828527727,0.49837307828527727,0.49837307828527727,0.49837307828527727,0.49837307828527727,0.49837307828527727,0.49837307828527727,0.49837307828527727,0.49837307828527727,0.49837307828527727,0.49837307828527727,0.49837307828527727,0.49837307828527727,0.49837307828527727,0.49837307828527727,0.49837307828527727,0.49837307828527727,0.49837307828527727],\"type\":\"scatter\"},{\"marker\":{\"color\":\"#cccccc\"},\"mode\":\"markers\",\"name\":\"Infeasible Trial\",\"showlegend\":false,\"x\":[],\"y\":[],\"type\":\"scatter\"}],                        {\"title\":{\"text\":\"Optimization History Plot\"},\"xaxis\":{\"title\":{\"text\":\"Trial\"}},\"yaxis\":{\"title\":{\"text\":\"Objective Value\"}},\"template\":{\"data\":{\"histogram2dcontour\":[{\"type\":\"histogram2dcontour\",\"colorbar\":{\"outlinewidth\":0,\"ticks\":\"\"},\"colorscale\":[[0.0,\"#0d0887\"],[0.1111111111111111,\"#46039f\"],[0.2222222222222222,\"#7201a8\"],[0.3333333333333333,\"#9c179e\"],[0.4444444444444444,\"#bd3786\"],[0.5555555555555556,\"#d8576b\"],[0.6666666666666666,\"#ed7953\"],[0.7777777777777778,\"#fb9f3a\"],[0.8888888888888888,\"#fdca26\"],[1.0,\"#f0f921\"]]}],\"choropleth\":[{\"type\":\"choropleth\",\"colorbar\":{\"outlinewidth\":0,\"ticks\":\"\"}}],\"histogram2d\":[{\"type\":\"histogram2d\",\"colorbar\":{\"outlinewidth\":0,\"ticks\":\"\"},\"colorscale\":[[0.0,\"#0d0887\"],[0.1111111111111111,\"#46039f\"],[0.2222222222222222,\"#7201a8\"],[0.3333333333333333,\"#9c179e\"],[0.4444444444444444,\"#bd3786\"],[0.5555555555555556,\"#d8576b\"],[0.6666666666666666,\"#ed7953\"],[0.7777777777777778,\"#fb9f3a\"],[0.8888888888888888,\"#fdca26\"],[1.0,\"#f0f921\"]]}],\"heatmap\":[{\"type\":\"heatmap\",\"colorbar\":{\"outlinewidth\":0,\"ticks\":\"\"},\"colorscale\":[[0.0,\"#0d0887\"],[0.1111111111111111,\"#46039f\"],[0.2222222222222222,\"#7201a8\"],[0.3333333333333333,\"#9c179e\"],[0.4444444444444444,\"#bd3786\"],[0.5555555555555556,\"#d8576b\"],[0.6666666666666666,\"#ed7953\"],[0.7777777777777778,\"#fb9f3a\"],[0.8888888888888888,\"#fdca26\"],[1.0,\"#f0f921\"]]}],\"heatmapgl\":[{\"type\":\"heatmapgl\",\"colorbar\":{\"outlinewidth\":0,\"ticks\":\"\"},\"colorscale\":[[0.0,\"#0d0887\"],[0.1111111111111111,\"#46039f\"],[0.2222222222222222,\"#7201a8\"],[0.3333333333333333,\"#9c179e\"],[0.4444444444444444,\"#bd3786\"],[0.5555555555555556,\"#d8576b\"],[0.6666666666666666,\"#ed7953\"],[0.7777777777777778,\"#fb9f3a\"],[0.8888888888888888,\"#fdca26\"],[1.0,\"#f0f921\"]]}],\"contourcarpet\":[{\"type\":\"contourcarpet\",\"colorbar\":{\"outlinewidth\":0,\"ticks\":\"\"}}],\"contour\":[{\"type\":\"contour\",\"colorbar\":{\"outlinewidth\":0,\"ticks\":\"\"},\"colorscale\":[[0.0,\"#0d0887\"],[0.1111111111111111,\"#46039f\"],[0.2222222222222222,\"#7201a8\"],[0.3333333333333333,\"#9c179e\"],[0.4444444444444444,\"#bd3786\"],[0.5555555555555556,\"#d8576b\"],[0.6666666666666666,\"#ed7953\"],[0.7777777777777778,\"#fb9f3a\"],[0.8888888888888888,\"#fdca26\"],[1.0,\"#f0f921\"]]}],\"surface\":[{\"type\":\"surface\",\"colorbar\":{\"outlinewidth\":0,\"ticks\":\"\"},\"colorscale\":[[0.0,\"#0d0887\"],[0.1111111111111111,\"#46039f\"],[0.2222222222222222,\"#7201a8\"],[0.3333333333333333,\"#9c179e\"],[0.4444444444444444,\"#bd3786\"],[0.5555555555555556,\"#d8576b\"],[0.6666666666666666,\"#ed7953\"],[0.7777777777777778,\"#fb9f3a\"],[0.8888888888888888,\"#fdca26\"],[1.0,\"#f0f921\"]]}],\"mesh3d\":[{\"type\":\"mesh3d\",\"colorbar\":{\"outlinewidth\":0,\"ticks\":\"\"}}],\"scatter\":[{\"fillpattern\":{\"fillmode\":\"overlay\",\"size\":10,\"solidity\":0.2},\"type\":\"scatter\"}],\"parcoords\":[{\"type\":\"parcoords\",\"line\":{\"colorbar\":{\"outlinewidth\":0,\"ticks\":\"\"}}}],\"scatterpolargl\":[{\"type\":\"scatterpolargl\",\"marker\":{\"colorbar\":{\"outlinewidth\":0,\"ticks\":\"\"}}}],\"bar\":[{\"error_x\":{\"color\":\"#2a3f5f\"},\"error_y\":{\"color\":\"#2a3f5f\"},\"marker\":{\"line\":{\"color\":\"#E5ECF6\",\"width\":0.5},\"pattern\":{\"fillmode\":\"overlay\",\"size\":10,\"solidity\":0.2}},\"type\":\"bar\"}],\"scattergeo\":[{\"type\":\"scattergeo\",\"marker\":{\"colorbar\":{\"outlinewidth\":0,\"ticks\":\"\"}}}],\"scatterpolar\":[{\"type\":\"scatterpolar\",\"marker\":{\"colorbar\":{\"outlinewidth\":0,\"ticks\":\"\"}}}],\"histogram\":[{\"marker\":{\"pattern\":{\"fillmode\":\"overlay\",\"size\":10,\"solidity\":0.2}},\"type\":\"histogram\"}],\"scattergl\":[{\"type\":\"scattergl\",\"marker\":{\"colorbar\":{\"outlinewidth\":0,\"ticks\":\"\"}}}],\"scatter3d\":[{\"type\":\"scatter3d\",\"line\":{\"colorbar\":{\"outlinewidth\":0,\"ticks\":\"\"}},\"marker\":{\"colorbar\":{\"outlinewidth\":0,\"ticks\":\"\"}}}],\"scattermapbox\":[{\"type\":\"scattermapbox\",\"marker\":{\"colorbar\":{\"outlinewidth\":0,\"ticks\":\"\"}}}],\"scatterternary\":[{\"type\":\"scatterternary\",\"marker\":{\"colorbar\":{\"outlinewidth\":0,\"ticks\":\"\"}}}],\"scattercarpet\":[{\"type\":\"scattercarpet\",\"marker\":{\"colorbar\":{\"outlinewidth\":0,\"ticks\":\"\"}}}],\"carpet\":[{\"aaxis\":{\"endlinecolor\":\"#2a3f5f\",\"gridcolor\":\"white\",\"linecolor\":\"white\",\"minorgridcolor\":\"white\",\"startlinecolor\":\"#2a3f5f\"},\"baxis\":{\"endlinecolor\":\"#2a3f5f\",\"gridcolor\":\"white\",\"linecolor\":\"white\",\"minorgridcolor\":\"white\",\"startlinecolor\":\"#2a3f5f\"},\"type\":\"carpet\"}],\"table\":[{\"cells\":{\"fill\":{\"color\":\"#EBF0F8\"},\"line\":{\"color\":\"white\"}},\"header\":{\"fill\":{\"color\":\"#C8D4E3\"},\"line\":{\"color\":\"white\"}},\"type\":\"table\"}],\"barpolar\":[{\"marker\":{\"line\":{\"color\":\"#E5ECF6\",\"width\":0.5},\"pattern\":{\"fillmode\":\"overlay\",\"size\":10,\"solidity\":0.2}},\"type\":\"barpolar\"}],\"pie\":[{\"automargin\":true,\"type\":\"pie\"}]},\"layout\":{\"autotypenumbers\":\"strict\",\"colorway\":[\"#636efa\",\"#EF553B\",\"#00cc96\",\"#ab63fa\",\"#FFA15A\",\"#19d3f3\",\"#FF6692\",\"#B6E880\",\"#FF97FF\",\"#FECB52\"],\"font\":{\"color\":\"#2a3f5f\"},\"hovermode\":\"closest\",\"hoverlabel\":{\"align\":\"left\"},\"paper_bgcolor\":\"white\",\"plot_bgcolor\":\"#E5ECF6\",\"polar\":{\"bgcolor\":\"#E5ECF6\",\"angularaxis\":{\"gridcolor\":\"white\",\"linecolor\":\"white\",\"ticks\":\"\"},\"radialaxis\":{\"gridcolor\":\"white\",\"linecolor\":\"white\",\"ticks\":\"\"}},\"ternary\":{\"bgcolor\":\"#E5ECF6\",\"aaxis\":{\"gridcolor\":\"white\",\"linecolor\":\"white\",\"ticks\":\"\"},\"baxis\":{\"gridcolor\":\"white\",\"linecolor\":\"white\",\"ticks\":\"\"},\"caxis\":{\"gridcolor\":\"white\",\"linecolor\":\"white\",\"ticks\":\"\"}},\"coloraxis\":{\"colorbar\":{\"outlinewidth\":0,\"ticks\":\"\"}},\"colorscale\":{\"sequential\":[[0.0,\"#0d0887\"],[0.1111111111111111,\"#46039f\"],[0.2222222222222222,\"#7201a8\"],[0.3333333333333333,\"#9c179e\"],[0.4444444444444444,\"#bd3786\"],[0.5555555555555556,\"#d8576b\"],[0.6666666666666666,\"#ed7953\"],[0.7777777777777778,\"#fb9f3a\"],[0.8888888888888888,\"#fdca26\"],[1.0,\"#f0f921\"]],\"sequentialminus\":[[0.0,\"#0d0887\"],[0.1111111111111111,\"#46039f\"],[0.2222222222222222,\"#7201a8\"],[0.3333333333333333,\"#9c179e\"],[0.4444444444444444,\"#bd3786\"],[0.5555555555555556,\"#d8576b\"],[0.6666666666666666,\"#ed7953\"],[0.7777777777777778,\"#fb9f3a\"],[0.8888888888888888,\"#fdca26\"],[1.0,\"#f0f921\"]],\"diverging\":[[0,\"#8e0152\"],[0.1,\"#c51b7d\"],[0.2,\"#de77ae\"],[0.3,\"#f1b6da\"],[0.4,\"#fde0ef\"],[0.5,\"#f7f7f7\"],[0.6,\"#e6f5d0\"],[0.7,\"#b8e186\"],[0.8,\"#7fbc41\"],[0.9,\"#4d9221\"],[1,\"#276419\"]]},\"xaxis\":{\"gridcolor\":\"white\",\"linecolor\":\"white\",\"ticks\":\"\",\"title\":{\"standoff\":15},\"zerolinecolor\":\"white\",\"automargin\":true,\"zerolinewidth\":2},\"yaxis\":{\"gridcolor\":\"white\",\"linecolor\":\"white\",\"ticks\":\"\",\"title\":{\"standoff\":15},\"zerolinecolor\":\"white\",\"automargin\":true,\"zerolinewidth\":2},\"scene\":{\"xaxis\":{\"backgroundcolor\":\"#E5ECF6\",\"gridcolor\":\"white\",\"linecolor\":\"white\",\"showbackground\":true,\"ticks\":\"\",\"zerolinecolor\":\"white\",\"gridwidth\":2},\"yaxis\":{\"backgroundcolor\":\"#E5ECF6\",\"gridcolor\":\"white\",\"linecolor\":\"white\",\"showbackground\":true,\"ticks\":\"\",\"zerolinecolor\":\"white\",\"gridwidth\":2},\"zaxis\":{\"backgroundcolor\":\"#E5ECF6\",\"gridcolor\":\"white\",\"linecolor\":\"white\",\"showbackground\":true,\"ticks\":\"\",\"zerolinecolor\":\"white\",\"gridwidth\":2}},\"shapedefaults\":{\"line\":{\"color\":\"#2a3f5f\"}},\"annotationdefaults\":{\"arrowcolor\":\"#2a3f5f\",\"arrowhead\":0,\"arrowwidth\":1},\"geo\":{\"bgcolor\":\"white\",\"landcolor\":\"#E5ECF6\",\"subunitcolor\":\"white\",\"showland\":true,\"showlakes\":true,\"lakecolor\":\"white\"},\"title\":{\"x\":0.05},\"mapbox\":{\"style\":\"light\"}}}},                        {\"responsive\": true}                    ).then(function(){\n",
       "                            \n",
       "var gd = document.getElementById('60a1f997-d338-4a49-806d-b5cb03a4b7c6');\n",
       "var x = new MutationObserver(function (mutations, observer) {{\n",
       "        var display = window.getComputedStyle(gd).display;\n",
       "        if (!display || display === 'none') {{\n",
       "            console.log([gd, 'removed!']);\n",
       "            Plotly.purge(gd);\n",
       "            observer.disconnect();\n",
       "        }}\n",
       "}});\n",
       "\n",
       "// Listen for the removal of the full notebook cells\n",
       "var notebookContainer = gd.closest('#notebook-container');\n",
       "if (notebookContainer) {{\n",
       "    x.observe(notebookContainer, {childList: true});\n",
       "}}\n",
       "\n",
       "// Listen for the clearing of the current output cell\n",
       "var outputEl = gd.closest('.output');\n",
       "if (outputEl) {{\n",
       "    x.observe(outputEl, {childList: true});\n",
       "}}\n",
       "\n",
       "                        })                };                            </script>        </div>\n",
       "</body>\n",
       "</html>"
      ]
     },
     "metadata": {},
     "output_type": "display_data"
    }
   ],
   "source": [
    "study = optuna.load_study(study_name='tfidf_xgboost', storage=storage)\n",
    "import optuna.visualization as vis\n",
    "vis.plot_optimization_history(study)"
   ]
  },
  {
   "cell_type": "code",
   "execution_count": 20,
   "id": "YYjOD1hKKwDj",
   "metadata": {
    "colab": {
     "base_uri": "https://localhost:8080/"
    },
    "id": "YYjOD1hKKwDj",
    "outputId": "0a9769d3-f0a0-43be-880a-a1ff85819426"
   },
   "outputs": [
    {
     "name": "stdout",
     "output_type": "stream",
     "text": [
      "Val Loss: 0.49837307828527727\n",
      "Best hyperparameters: {'eta': 0.11707214843748354, 'n_estimators': 683, 'max_depth': 4, 'subsample': 0.8052358910657191, 'colsample_bytree': 0.6375469658962902, 'min_child_weight': 11, 'gamma': 0.5125568365432647, 'reg_alpha': 0.7065018181023835, 'reg_lambda': 0.6334284370858739}\n"
     ]
    }
   ],
   "source": [
    "trial = study.best_trial\n",
    "print('Val Loss: {}'.format(trial.value))\n",
    "print(\"Best hyperparameters: {}\".format(trial.params))"
   ]
  },
  {
   "cell_type": "code",
   "execution_count": null,
   "id": "vvfUj0TIPf6c",
   "metadata": {
    "colab": {
     "base_uri": "https://localhost:8080/"
    },
    "id": "vvfUj0TIPf6c",
    "outputId": "203a27b2-adad-48e6-98dd-f5e6ff9bc8dd"
   },
   "outputs": [
    {
     "metadata": {
      "tags": null
     },
     "name": "stdout",
     "output_type": "stream",
     "text": [
      "Individual f1_macro scores: [0.48818601 0.50745187 0.49029414 0.50209929 0.50797808 0.49422909]\n",
      "Mean cross-validation f1_macro: 0.49837307828527727\n",
      "Individual accuracy scores: [0.60572687 0.62303335 0.60604154 0.61252754 0.62448851 0.61315707]\n",
      "Mean cross-validation accuracy: 0.6141624802349116\n",
      "Individual recall_macro scores: [0.50043146 0.52024473 0.50477435 0.51329925 0.52231749 0.51035374]\n",
      "Mean cross-validation recall_macro: 0.511903504854152\n"
     ]
    }
   ],
   "source": [
    "params= {'eta': 0.11707214843748354, 'n_estimators': 683, 'max_depth': 4, 'subsample': 0.8052358910657191, 'colsample_bytree': 0.6375469658962902, 'min_child_weight': 11, 'gamma': 0.5125568365432647, 'reg_alpha': 0.7065018181023835, 'reg_lambda': 0.6334284370858739}\n",
    "\n",
    "best_model = XGBClassifier(objective= 'multi:softmax', num_class=4, eval_metric='mlogloss', random_state=42, **params)\n",
    "\n",
    "cv = StratifiedKFold(n_splits=6, shuffle=True, random_state=42)\n",
    "# Perform cross-validation for different metrics\n",
    "metrics = ['f1_macro', 'accuracy', 'recall_macro', 'precision_macro']\n",
    "for metric in metrics:\n",
    "    scores = cross_val_score(best_model, X_train_val_combined_transformed, y_train_val, cv=cv, scoring=metric, fit_params={'sample_weight': weight}, n_jobs=-1)\n",
    "    print(\"Individual {} scores:\".format(metric), scores)\n",
    "    print(\"Mean cross-validation {}:\".format(metric), scores.mean())"
   ]
  },
  {
   "cell_type": "code",
   "execution_count": 16,
   "id": "-QCL_BA3ot12",
   "metadata": {
    "colab": {
     "base_uri": "https://localhost:8080/"
    },
    "id": "-QCL_BA3ot12",
    "outputId": "bcb5afa5-ce80-4ed8-851b-e704021a910f"
   },
   "outputs": [
    {
     "name": "stdout",
     "output_type": "stream",
     "text": [
      "Individual precision_macro scores: [0.48121846 0.49951346 0.48190727 0.49434896 0.49977845 0.48530668]\n",
      "Mean cross-validation precision_macro: 0.4903455475935597\n"
     ]
    }
   ],
   "source": [
    "params= {'eta': 0.11707214843748354, 'n_estimators': 683, 'max_depth': 4, 'subsample': 0.8052358910657191, 'colsample_bytree': 0.6375469658962902, 'min_child_weight': 11, 'gamma': 0.5125568365432647, 'reg_alpha': 0.7065018181023835, 'reg_lambda': 0.6334284370858739}\n",
    "\n",
    "best_model = XGBClassifier(objective= 'multi:softmax', num_class=4, eval_metric='mlogloss', random_state=42, **params)\n",
    "\n",
    "cv = StratifiedKFold(n_splits=6, shuffle=True, random_state=42)\n",
    "# Perform cross-validation for different metrics\n",
    "metrics = ['precision_macro']\n",
    "for metric in metrics:\n",
    "    scores = cross_val_score(best_model, X_train_val_combined_transformed, y_train_val, cv=cv, scoring=metric, fit_params={'sample_weight': weight}, n_jobs=-1)\n",
    "    print(\"Individual {} scores:\".format(metric), scores)\n",
    "    print(\"Mean cross-validation {}:\".format(metric), scores.mean())"
   ]
  },
  {
   "cell_type": "code",
   "execution_count": 17,
   "id": "1TOrFdeOPf7K",
   "metadata": {
    "colab": {
     "base_uri": "https://localhost:8080/",
     "height": 886
    },
    "id": "1TOrFdeOPf7K",
    "outputId": "264899be-47f5-4c06-821d-97eaca9e4931"
   },
   "outputs": [
    {
     "name": "stdout",
     "output_type": "stream",
     "text": [
      "test classification report\n",
      "              precision    recall  f1-score   support\n",
      "\n",
      "           0       0.60      0.50      0.55      1195\n",
      "           1       0.24      0.29      0.26       333\n",
      "           2       0.76      0.78      0.77      1609\n",
      "           3       0.33      0.43      0.37       228\n",
      "\n",
      "    accuracy                           0.61      3365\n",
      "   macro avg       0.48      0.50      0.49      3365\n",
      "weighted avg       0.62      0.61      0.61      3365\n",
      "\n"
     ]
    },
    {
     "data": {
      "image/png": "[encoded data removed]",
      "text/plain": [
       "<Figure size 700x700 with 1 Axes>"
      ]
     },
     "metadata": {},
     "output_type": "display_data"
    },
    {
     "name": "stdout",
     "output_type": "stream",
     "text": [
      "\n",
      "\n"
     ]
    }
   ],
   "source": [
    "# Retrain on full training set using the best hyperparameters\n",
    "best_model.fit(X_train_val_combined_transformed, y_train_val, sample_weight= weight)\n",
    "\n",
    "# Make predictions on the test dataset\n",
    "y_pred_test = best_model.predict(X_test_combined_transformed)\n",
    "print('test classification report')\n",
    "print(classification_report(y_test, y_pred_test))\n",
    "\n",
    "# Print the confusion matrix\n",
    "fig, ax = plt.subplots(figsize=(7, 7))\n",
    "confusion_mat = confusion_matrix(y_true=y_test, y_pred=y_pred_test, labels=[0,1,2,3])\n",
    "ax.matshow(confusion_mat, cmap=plt.cm.Blues, alpha=0.3)\n",
    "for i in range(confusion_mat.shape[0]):\n",
    "    for j in range(confusion_mat.shape[1]):\n",
    "        ax.text(x=j, y=i,s=confusion_mat[i, j], va='center', ha='center', size='xx-large')\n",
    "plt.xlabel('Predictions', fontsize=10)\n",
    "plt.ylabel('Actuals', fontsize=10)\n",
    "plt.title('Confusion Matrix', fontsize=10)\n",
    "plt.show()\n",
    "print('\\n')"
   ]
  },
  {
   "cell_type": "code",
   "execution_count": null,
   "id": "LV93bp5uPf7K",
   "metadata": {
    "id": "LV93bp5uPf7K"
   },
   "outputs": [],
   "source": [
    "plot_learning_curve(best_model, X_train_val_combined_transformed, y_train_val, 'f1_macro')"
   ]
  },
  {
   "cell_type": "code",
   "execution_count": null,
   "id": "3O-QgU2EPf7L",
   "metadata": {
    "id": "3O-QgU2EPf7L"
   },
   "outputs": [],
   "source": [
    "plot_learning_curve(best_model, X_train_val_combined_transformed, y_train_val, 'accuracy')"
   ]
  },
  {
   "cell_type": "markdown",
   "id": "934e72bc",
   "metadata": {
    "id": "934e72bc"
   },
   "source": [
    "# <span style=\"color:white; font-size:18px;background-color:red\"> SMOTE + HT</span>  \n",
    "using the best hyperparameters found first and training with Synthetic Minority Over-sampling Technique (SMOTE) to address class imbalance  \n",
    "* use the sampling_strategy as 'not majority', which focuses on resampling all classes except the majority class  \n",
    "* classes 0 and 2 are resampled to have a similar proportion to the majority class (class 2), while class 1 and class 3 are still resampled, but with a slightly reduced ratio. By doing this, we effectively focus on balancing classes 0 and 2 while also considering the hierarchy among classes, which can help prevent overfitting on the minority classes.  \n",
    "sampling_strategy = {0: 0.478, 2: 0.478, 1: 0.355, 3: 0.355}\n"
   ]
  },
  {
   "cell_type": "code",
   "execution_count": 17,
   "id": "EnRWno1U5-qz",
   "metadata": {
    "id": "EnRWno1U5-qz"
   },
   "outputs": [],
   "source": [
    "import os\n",
    "path = 'D:\\\\MS DATA SCIENCE\\\\NLP TESE\\\\optuna'\n",
    "database_filename = 'tfidf_xgboost_smote.db'\n",
    "\n",
    "# Full path to the SQLite database file in Google Drive\n",
    "database_path = os.path.join(path, database_filename)\n",
    "\n",
    "# Set the SQLite database path to Google Drive path\n",
    "storage = optuna.storages.RDBStorage(url=f'sqlite:///{database_path}')"
   ]
  },
  {
   "cell_type": "code",
   "execution_count": null,
   "id": "stjnRey3FMjE",
   "metadata": {
    "id": "stjnRey3FMjE"
   },
   "outputs": [],
   "source": [
    "feature_set=['narrative_tfidf', 'tfidf_title', 'tfidf_keywords']\n",
    "X_train_val_combined = X_train_val[feature_set].apply(lambda x: ' '.join(x.fillna('').astype(str)), axis=1)\n",
    "X_test_combined = X_test[feature_set].apply(lambda x: ' '.join(x.fillna('').astype(str)), axis=1)\n",
    "\n",
    "# Transform the features using TF-IDF\n",
    "vectorizer = TfidfVectorizer(ngram_range=(1, 3), max_df=0.95, min_df=2)\n",
    "X_train_val_combined_transformed = vectorizer.fit_transform(X_train_val_combined)\n",
    "X_test_combined_transformed = vectorizer.transform(X_test_combined)\n",
    "\n",
    "smote=SMOTE(random_state=42, sampling_strategy='not majority')\n",
    "X_train_balanced, y_train_balanced = smote.fit_resample(X_train_val_combined_transformed, y_train_val)"
   ]
  },
  {
   "cell_type": "code",
   "execution_count": 18,
   "id": "7MAZqGINiJXv",
   "metadata": {
    "id": "7MAZqGINiJXv"
   },
   "outputs": [],
   "source": [
    "def objective(trial):\n",
    "    feature_set=['narrative_tfidf', 'tfidf_title', 'tfidf_keywords']\n",
    "    X_train_val_combined = X_train_val[feature_set].apply(lambda x: ' '.join(x.fillna('').astype(str)), axis=1)\n",
    "    X_test_combined = X_test[feature_set].apply(lambda x: ' '.join(x.fillna('').astype(str)), axis=1)\n",
    "\n",
    "    # Transform the features using TF-IDF\n",
    "    vectorizer = TfidfVectorizer(ngram_range=(1, 3), max_df=0.95, min_df=2)\n",
    "    X_train_val_combined_transformed = vectorizer.fit_transform(X_train_val_combined)\n",
    "    X_test_combined_transformed = vectorizer.transform(X_test_combined)\n",
    "\n",
    "    smote=SMOTE(random_state=42, sampling_strategy='not majority')\n",
    "    X_train_balanced, y_train_balanced = smote.fit_resample(X_train_val_combined_transformed, y_train_val)\n",
    "\n",
    "    # Define the hyperparameter search space\n",
    "    params = {\n",
    "      'objective': 'multi:softmax',\n",
    "      'num_class': 4,\n",
    "      'eval_metric': 'mlogloss',\n",
    "      'eta': trial.suggest_float('eta', 0.01, 0.3),\n",
    "      'n_estimators': trial.suggest_int('n_estimators', 50, 1000),\n",
    "      'max_depth': trial.suggest_int('max_depth', 3, 15),\n",
    "      'subsample': trial.suggest_float('subsample', 0.5, 1.0),\n",
    "      'colsample_bytree': trial.suggest_float('colsample_bytree', 0.5, 1.0),\n",
    "      'min_child_weight': trial.suggest_int('min_child_weight', 2, 15),\n",
    "      'gamma': trial.suggest_float(\"gamma\", 0, 1),\n",
    "      'random_state': 42,  # Add other hyperparameters as needed\n",
    "      'reg_alpha': trial.suggest_float('reg_alpha',0, 1),              # L1 regularization term on weights\n",
    "      'reg_lambda': trial.suggest_float('reg_lambda',0, 1)\n",
    "    }\n",
    "\n",
    "    # Create and train the XGBoost classifier with the current set of hyperparameters\n",
    "    clf = XGBClassifier(**params)\n",
    "    clf.fit(X_train_balanced, y_train_balanced)\n",
    "\n",
    "    # Evaluate the classifier on the validation set\n",
    "    cv = StratifiedKFold(n_splits=6, shuffle=True, random_state=42)\n",
    "    f1_scores = cross_val_score(clf, X_train_balanced, y_train_balanced, cv=cv, scoring='f1_macro', n_jobs=-1)\n",
    "\n",
    "    return f1_scores.mean()"
   ]
  },
  {
   "cell_type": "code",
   "execution_count": null,
   "id": "vDZKrdVh6Ooo",
   "metadata": {
    "colab": {
     "base_uri": "https://localhost:8080/"
    },
    "id": "vDZKrdVh6Ooo",
    "outputId": "a7493f02-0e9f-4607-da8c-1bcc0d37cdfb"
   },
   "outputs": [
    {
     "name": "stderr",
     "output_type": "stream",
     "text": [
      "[I 2023-09-05 20:58:48,310] A new study created in RDB with name: tfidf_xgboost_smote\n",
      "[I 2023-09-05 23:06:00,256] Trial 3 finished with value: 0.7833562197561759 and parameters: {'colsample_bytree': 0.8476323221403206, 'eta': 0.09251377909735288, 'gamma': 0.5944768352009022, 'max_depth': 6, 'min_child_weight': 8, 'n_estimators': 264, 'reg_alpha': 0.9310537018870306, 'reg_lambda': 0.6517129934429988, 'subsample': 0.7005920972222206}. Best is trial 3 with value: 0.7833562197561759.\n",
      "[I 2023-09-06 00:52:55,185] Trial 2 finished with value: 0.8202117839581313 and parameters: {'colsample_bytree': 0.791460541742687, 'eta': 0.2981134299841235, 'gamma': 0.910154800229377, 'max_depth': 12, 'min_child_weight': 12, 'n_estimators': 328, 'reg_alpha': 0.4315788873408122, 'reg_lambda': 0.3578672954725932, 'subsample': 0.6791602710509828}. Best is trial 2 with value: 0.8202117839581313.\n",
      "[I 2023-09-06 02:56:14,151] Trial 1 finished with value: 0.8155072387080439 and parameters: {'colsample_bytree': 0.7195297345726224, 'eta': 0.08821967890789824, 'gamma': 0.2807248295275151, 'max_depth': 5, 'min_child_weight': 7, 'n_estimators': 818, 'reg_alpha': 0.7897208170344182, 'reg_lambda': 0.356629597748534, 'subsample': 0.9027391738394048}. Best is trial 2 with value: 0.8202117839581313.\n",
      "[I 2023-09-06 07:44:41,731] Trial 0 finished with value: 0.8433760724871111 and parameters: {'colsample_bytree': 0.9472950705669567, 'eta': 0.1823021906748722, 'gamma': 0.0761875135372101, 'max_depth': 10, 'min_child_weight': 2, 'n_estimators': 921, 'reg_alpha': 0.6041679543974549, 'reg_lambda': 0.7627823955027985, 'subsample': 0.9058561717569815}. Best is trial 0 with value: 0.8433760724871111.\n",
      "[I 2023-09-06 09:44:05,841] Trial 4 finished with value: 0.8312060626971524 and parameters: {'colsample_bytree': 0.9233338695531368, 'eta': 0.11065475365362364, 'gamma': 0.95037759277993, 'max_depth': 6, 'min_child_weight': 3, 'n_estimators': 935, 'reg_alpha': 0.5644493286608421, 'reg_lambda': 0.9559893145268594, 'subsample': 0.8195012041261284}. Best is trial 0 with value: 0.8433760724871111.\n",
      "[I 2023-09-06 10:43:00,488] Trial 5 finished with value: 0.8180293325978246 and parameters: {'colsample_bytree': 0.5728936163727525, 'eta': 0.17414056578536694, 'gamma': 0.3505992790399043, 'max_depth': 4, 'min_child_weight': 10, 'n_estimators': 749, 'reg_alpha': 0.3974754957781249, 'reg_lambda': 0.35040997716433087, 'subsample': 0.9213811197732847}. Best is trial 0 with value: 0.8433760724871111.\n",
      "[I 2023-09-06 13:43:51,457] Trial 6 finished with value: 0.8203616154926431 and parameters: {'colsample_bytree': 0.9862660327412636, 'eta': 0.07285265779368964, 'gamma': 0.1555515611684899, 'max_depth': 13, 'min_child_weight': 11, 'n_estimators': 462, 'reg_alpha': 0.19004220219348023, 'reg_lambda': 0.20795653311296614, 'subsample': 0.5117031935012444}. Best is trial 0 with value: 0.8433760724871111.\n",
      "[I 2023-09-06 15:09:05,675] Trial 7 finished with value: 0.827513085751232 and parameters: {'colsample_bytree': 0.98500986393029, 'eta': 0.260652935152583, 'gamma': 0.46630797181323813, 'max_depth': 5, 'min_child_weight': 11, 'n_estimators': 666, 'reg_alpha': 0.45016305588046646, 'reg_lambda': 0.3036952868240713, 'subsample': 0.9521307354677772}. Best is trial 0 with value: 0.8433760724871111.\n",
      "[I 2023-09-06 17:12:00,120] Trial 8 finished with value: 0.8215455109013194 and parameters: {'colsample_bytree': 0.5577606205220047, 'eta': 0.1975262473487683, 'gamma': 0.3474930850142406, 'max_depth': 5, 'min_child_weight': 13, 'n_estimators': 924, 'reg_alpha': 0.8291151047572712, 'reg_lambda': 0.920549754575218, 'subsample': 0.77431877557175}. Best is trial 0 with value: 0.8433760724871111.\n",
      "[I 2023-09-06 19:47:59,602] Trial 9 finished with value: 0.8362317121843491 and parameters: {'colsample_bytree': 0.6381526276747442, 'eta': 0.11253381828224253, 'gamma': 0.6817611013617031, 'max_depth': 14, 'min_child_weight': 7, 'n_estimators': 567, 'reg_alpha': 0.20829005494048658, 'reg_lambda': 0.1677686687792186, 'subsample': 0.7676578480569891}. Best is trial 0 with value: 0.8433760724871111.\n",
      "[I 2023-09-06 19:50:19,444] Trial 11 finished with value: 0.6798042797335543 and parameters: {'colsample_bytree': 0.9751185932551266, 'eta': 0.015375416845917873, 'gamma': 0.4162698067926005, 'max_depth': 8, 'min_child_weight': 15, 'n_estimators': 127, 'reg_alpha': 0.35137698133391115, 'reg_lambda': 0.5785132785574963, 'subsample': 0.502922153879992}. Best is trial 0 with value: 0.8433760724871111.\n"
     ]
    }
   ],
   "source": [
    "study = optuna.create_study(storage=storage, direction='maximize', study_name='tfidf_xgboost_smote',load_if_exists=True)\n",
    "study.optimize(objective, n_trials=30, n_jobs=-1)"
   ]
  },
  {
   "cell_type": "code",
   "execution_count": null,
   "id": "8tDyL_xr6Oop",
   "metadata": {
    "id": "8tDyL_xr6Oop"
   },
   "outputs": [],
   "source": [
    "study = optuna.load_study(study_name='tfidf_xgboost_smote', storage=storage)\n",
    "import optuna.visualization as vis\n",
    "vis.plot_optimization_history(study)"
   ]
  },
  {
   "cell_type": "code",
   "execution_count": null,
   "id": "PbPtEHCA6Ooo",
   "metadata": {
    "id": "PbPtEHCA6Ooo"
   },
   "outputs": [],
   "source": [
    "# in case it fails\n",
    "# Load the existing study by providing the study name and storage URL\n",
    "study = optuna.load_study(study_name='tfidf_xgboost_smote', storage=storage)\n",
    "\n",
    "# Continue optimization with additional trials\n",
    "study.optimize(objective, n_trials=30, n_jobs=-1)"
   ]
  },
  {
   "cell_type": "code",
   "execution_count": null,
   "id": "4s0AVZ7L6XbX",
   "metadata": {
    "id": "4s0AVZ7L6XbX"
   },
   "outputs": [],
   "source": [
    "trial = study.best_trial\n",
    "params=study.best_trial\n",
    "best_model = XGBClassifier(objective= 'multi:softmax', num_class=4, eval_metric='mlogloss', random_state=42, **params)\n",
    "print('F1 score: {}'.format(trial.value))\n",
    "print(\"Best hyperparameters: {}\".format(trial.params))\n",
    "acc=cross_val_score(best_model,  X_train_balanced, y_train_balanced, cv=cv, scoring='accuracy', n_jobs=-1)\n",
    "print('accuracy: ',acc)"
   ]
  },
  {
   "cell_type": "code",
   "execution_count": null,
   "id": "DasnPdv-FB2W",
   "metadata": {
    "id": "DasnPdv-FB2W"
   },
   "outputs": [],
   "source": [
    "params=\n",
    "best_model = XGBClassifier(objective= 'multi:softmax', num_class=4, eval_metric='mlogloss', random_state=42, **params)\n",
    "\n",
    "cv = StratifiedKFold(n_splits=6, shuffle=True, random_state=42)\n",
    "# Perform cross-validation for different metrics\n",
    "metrics = ['f1_macro', 'accuracy', 'recall_macro', 'precision_macro']\n",
    "for metric in metrics:\n",
    "    scores = cross_val_score(best_model,  X_train_balanced, y_train_balanced, cv=cv, scoring=metric, n_jobs=-1)\n",
    "    print(\"Individual {} scores:\".format(metric), scores)\n",
    "    print(\"Mean cross-validation {}:\".format(metric), scores.mean())"
   ]
  },
  {
   "cell_type": "code",
   "execution_count": null,
   "id": "UlbxzWPx7Hvv",
   "metadata": {
    "id": "UlbxzWPx7Hvv"
   },
   "outputs": [],
   "source": [
    "plot_learning_curve(best_model, X_train_balanced, y_train_balanced, 'f1_macro')"
   ]
  },
  {
   "cell_type": "code",
   "execution_count": null,
   "id": "uzeorNS-7Hvw",
   "metadata": {
    "id": "uzeorNS-7Hvw"
   },
   "outputs": [],
   "source": [
    "plot_learning_curve(best_model, X_train_balanced, y_train_balanced, 'accuracy')"
   ]
  },
  {
   "cell_type": "code",
   "execution_count": null,
   "id": "a2b14046",
   "metadata": {
    "id": "a2b14046"
   },
   "outputs": [],
   "source": [
    "# Retrain on full training set using the best hyperparameters\n",
    "best_model.fit(X_train_balanced, y_train_balanced)\n",
    "\n",
    "# Make predictions on the test dataset\n",
    "y_pred_test = best_model.predict(X_test_combined_transformed)\n",
    "print('test classification report')\n",
    "print(classification_report(y_test, y_pred_test))\n",
    "\n",
    "# Print the confusion matrix\n",
    "fig, ax = plt.subplots(figsize=(7, 7))\n",
    "confusion_mat = confusion_matrix(y_true=y_test, y_pred=y_pred_test, labels=[0,1,2,3])\n",
    "ax.matshow(confusion_mat, cmap=plt.cm.Blues, alpha=0.3)\n",
    "for i in range(confusion_mat.shape[0]):\n",
    "    for j in range(confusion_mat.shape[1]):\n",
    "        ax.text(x=j, y=i,s=confusion_mat[i, j], va='center', ha='center', size='xx-large')\n",
    "plt.xlabel('Predictions', fontsize=10)\n",
    "plt.ylabel('Actuals', fontsize=10)\n",
    "plt.title('Confusion Matrix', fontsize=10)\n",
    "plt.show()\n",
    "print('\\n')"
   ]
  },
  {
   "cell_type": "markdown",
   "id": "wWquQLoLNZbQ",
   "metadata": {
    "id": "wWquQLoLNZbQ"
   },
   "source": [
    "# <span style=\"color:white; font-size:18px;background-color:red\"> ADASYN + HT </span>"
   ]
  },
  {
   "cell_type": "code",
   "execution_count": null,
   "id": "ac79c867",
   "metadata": {},
   "outputs": [],
   "source": []
  },
  {
   "cell_type": "code",
   "execution_count": null,
   "id": "54d70881",
   "metadata": {},
   "outputs": [],
   "source": []
  },
  {
   "cell_type": "code",
   "execution_count": null,
   "id": "6f22cb0c",
   "metadata": {},
   "outputs": [],
   "source": []
  },
  {
   "cell_type": "markdown",
   "id": "e8ef5881",
   "metadata": {
    "id": "e8ef5881"
   },
   "source": [
    "# <span style=\"color:white; font-size:18px;background-color:red\"> chi-square feature selection + HT </span>"
   ]
  },
  {
   "cell_type": "code",
   "execution_count": null,
   "id": "a07c3f06",
   "metadata": {
    "id": "a07c3f06"
   },
   "outputs": [],
   "source": [
    "import optuna\n",
    "def objective2(trial):\n",
    "    feature_set=['narrative_tfidf', 'tfidf_title', 'tfidf_keywords']\n",
    "    X_train_val_combined = X_train_val[feature_set].apply(lambda x: ' '.join(x.fillna('').astype(str)), axis=1)\n",
    "    X_test_combined = X_test[feature_set].apply(lambda x: ' '.join(x.fillna('').astype(str)), axis=1)\n",
    "\n",
    "    # Transform the features using TF-IDF\n",
    "    vectorizer = TfidfVectorizer(ngram_range=(1, 3), max_df=0.95, min_df=2)\n",
    "    X_train_val_combined_transformed = vectorizer.fit_transform(X_train_val_combined)\n",
    "    X_test_combined_transformed = vectorizer.transform(X_test_combined)\n",
    "\n",
    "    # Nr features before\n",
    "    feature_names = vectorizer.get_feature_names_out()\n",
    "    num_features_before = len(feature_names)\n",
    "\n",
    "    # Define the hyperparameter search space\n",
    "    params = {\n",
    "      'objective': 'multi:softmax',\n",
    "      'num_class': 4,\n",
    "      'eval_metric': 'mlogloss',\n",
    "      'eta': trial.suggest_float('eta', 0.01, 0.3),\n",
    "      'n_estimators': trial.suggest_int('n_estimators', 50, 1000),\n",
    "      'max_depth': trial.suggest_int('max_depth', 3, 15),\n",
    "      'subsample': trial.suggest_float('subsample', 0.5, 1.0),\n",
    "      'colsample_bytree': trial.suggest_float('colsample_bytree', 0.5, 1.0),\n",
    "      'min_child_weight': trial.suggest_int('min_child_weight', 2, 15),\n",
    "      'gamma': trial.suggest_float(\"gamma\", 0, 1),\n",
    "      'random_state': 42,  # Add other hyperparameters as needed\n",
    "      'reg_alpha': trial.suggest_float('reg_alpha',0, 1),              # L1 regularization term on weights\n",
    "      'reg_lambda': trial.suggest_float('reg_lambda',0, 1)\n",
    "    }\n",
    "\n",
    "    # Create and train the XGBoost classifier with the current set of hyperparameters\n",
    "    clf = XGBClassifier(**params)\n",
    "\n",
    "    # Perform feature selection with SelectKBest and chi2 score function\n",
    "    best_k = trial.suggest_int('best_k', 100, (num_features_before// 2) + 1, step=100)\n",
    "    selector = SelectKBest(score_func=chi2, k=best_k)\n",
    "    X_train_selected = selector.fit_transform(X_train_val_combined_transformed, y_train_val)\n",
    "\n",
    "    clf.fit(X_train_selected, y_train_val)\n",
    "\n",
    "    # Evaluate the classifier on the validation set\n",
    "    cv = StratifiedKFold(n_splits=6, shuffle=True, random_state=42)\n",
    "    f1_scores = cross_val_score(clf, X_train_selected, y_train_val, cv=cv, scoring='f1_macro', n_jobs=-1)\n",
    "\n",
    "    return f1_scores.mean()"
   ]
  },
  {
   "cell_type": "code",
   "execution_count": null,
   "id": "486f57b7",
   "metadata": {
    "id": "486f57b7"
   },
   "outputs": [],
   "source": [
    "import os\n",
    "path = 'D:\\\\MS DATA SCIENCE\\\\NLP TESE\\\\optuna'\n",
    "database_filename = 'description_title_keywords_chi2.db'\n",
    "\n",
    "# Full path to the SQLite database file in Google Drive\n",
    "database_path = os.path.join(path, database_filename)\n",
    "\n",
    "# Set the SQLite database path to Google Drive path\n",
    "storage = optuna.storages.RDBStorage(url=f'sqlite:///{database_path}')"
   ]
  },
  {
   "cell_type": "code",
   "execution_count": null,
   "id": "41428f43",
   "metadata": {
    "id": "41428f43",
    "outputId": "5a8668bc-a56e-4173-e1b8-dda6d8ee07b0"
   },
   "outputs": [
    {
     "name": "stderr",
     "output_type": "stream",
     "text": [
      "[I 2023-08-01 04:35:23,619] A new study created in RDB with name: description_title_keywords_chi2\n",
      "[I 2023-08-01 05:00:01,174] Trial 0 finished with value: 0.4758071270411723 and parameters: {'best_k': 19000, 'colsample_bytree': 0.6372300556489741, 'eta': 0.11634639083843275, 'gamma': 0.8059270570286402, 'max_depth': 14, 'min_child_weight': 11, 'n_estimators': 509, 'reg_alpha': 0.2129975897120766, 'reg_lambda': 0.4663462522099917, 'subsample': 0.936800957190444}. Best is trial 0 with value: 0.4758071270411723.\n",
      "[I 2023-08-01 05:43:32,758] Trial 1 finished with value: 0.46736828918724466 and parameters: {'best_k': 59500, 'colsample_bytree': 0.901007355749329, 'eta': 0.13106513399634534, 'gamma': 0.04272235841699601, 'max_depth': 11, 'min_child_weight': 12, 'n_estimators': 864, 'reg_alpha': 0.04254157813403281, 'reg_lambda': 0.8515520173741137, 'subsample': 0.5588638079969619}. Best is trial 0 with value: 0.4758071270411723.\n",
      "[I 2023-08-01 06:14:46,715] Trial 2 finished with value: 0.47310836575434445 and parameters: {'best_k': 19500, 'colsample_bytree': 0.9996337942093907, 'eta': 0.27650079328688193, 'gamma': 0.3781917719609935, 'max_depth': 8, 'min_child_weight': 7, 'n_estimators': 703, 'reg_alpha': 0.2495435202571603, 'reg_lambda': 0.45709771465025106, 'subsample': 0.9494505899414581}. Best is trial 0 with value: 0.4758071270411723.\n",
      "[I 2023-08-01 06:33:07,022] Trial 3 finished with value: 0.46037172373262 and parameters: {'best_k': 79400, 'colsample_bytree': 0.6179848229109581, 'eta': 0.14747523212382657, 'gamma': 0.6037794725715963, 'max_depth': 11, 'min_child_weight': 15, 'n_estimators': 468, 'reg_alpha': 0.2668860619263639, 'reg_lambda': 0.850472524806543, 'subsample': 0.515219995498243}. Best is trial 0 with value: 0.4758071270411723.\n",
      "[I 2023-08-01 06:39:57,903] Trial 4 finished with value: 0.45760458485707595 and parameters: {'best_k': 12800, 'colsample_bytree': 0.8247031122829681, 'eta': 0.10408307917515158, 'gamma': 0.7678563278244988, 'max_depth': 3, 'min_child_weight': 15, 'n_estimators': 469, 'reg_alpha': 0.08425634624787937, 'reg_lambda': 0.5614138348152421, 'subsample': 0.9936956379522058}. Best is trial 0 with value: 0.4758071270411723.\n",
      "[I 2023-08-01 06:59:42,259] Trial 5 finished with value: 0.45344403062814737 and parameters: {'best_k': 105800, 'colsample_bytree': 0.964104207674253, 'eta': 0.07073776136933983, 'gamma': 0.5056143651145293, 'max_depth': 8, 'min_child_weight': 11, 'n_estimators': 262, 'reg_alpha': 0.4699984502657023, 'reg_lambda': 0.15355451462803793, 'subsample': 0.9617262399250234}. Best is trial 0 with value: 0.4758071270411723.\n",
      "[I 2023-08-01 07:06:18,457] Trial 6 finished with value: 0.45919781855154623 and parameters: {'best_k': 128700, 'colsample_bytree': 0.6052151597561091, 'eta': 0.2681820686690572, 'gamma': 0.16568059037437777, 'max_depth': 8, 'min_child_weight': 3, 'n_estimators': 115, 'reg_alpha': 0.06115119804672542, 'reg_lambda': 0.5581736729378114, 'subsample': 0.8522213080358038}. Best is trial 0 with value: 0.4758071270411723.\n",
      "[I 2023-08-01 07:56:21,110] Trial 7 finished with value: 0.4616538425094243 and parameters: {'best_k': 16900, 'colsample_bytree': 0.7366478967647776, 'eta': 0.11074284023965109, 'gamma': 0.6038480900065238, 'max_depth': 12, 'min_child_weight': 2, 'n_estimators': 881, 'reg_alpha': 0.9649999226574778, 'reg_lambda': 0.6913418197951606, 'subsample': 0.9960182008621258}. Best is trial 0 with value: 0.4758071270411723.\n",
      "[I 2023-08-01 08:02:50,826] Trial 8 finished with value: 0.4518551594184867 and parameters: {'best_k': 16100, 'colsample_bytree': 0.9961244012496988, 'eta': 0.06867217212286192, 'gamma': 0.6668771405460806, 'max_depth': 9, 'min_child_weight': 15, 'n_estimators': 160, 'reg_alpha': 0.39701248267705047, 'reg_lambda': 0.6470846325369275, 'subsample': 0.7323948038262904}. Best is trial 0 with value: 0.4758071270411723.\n",
      "[I 2023-08-01 08:48:11,108] Trial 9 finished with value: 0.46487658066510673 and parameters: {'best_k': 53500, 'colsample_bytree': 0.9512307672364206, 'eta': 0.14214492351813265, 'gamma': 0.7442786763636186, 'max_depth': 15, 'min_child_weight': 12, 'n_estimators': 758, 'reg_alpha': 0.6134653397745469, 'reg_lambda': 0.7532947622398058, 'subsample': 0.528543770419521}. Best is trial 0 with value: 0.4758071270411723.\n",
      "[I 2023-08-01 09:07:32,085] Trial 10 finished with value: 0.43209329300767746 and parameters: {'best_k': 41500, 'colsample_bytree': 0.5275724845924417, 'eta': 0.01585792369680522, 'gamma': 0.9829092747360823, 'max_depth': 15, 'min_child_weight': 8, 'n_estimators': 350, 'reg_alpha': 0.6757902846459056, 'reg_lambda': 0.3463954723326862, 'subsample': 0.8378432284656839}. Best is trial 0 with value: 0.4758071270411723.\n",
      "[I 2023-08-01 09:15:50,086] Trial 11 finished with value: 0.4766670642040112 and parameters: {'best_k': 2300, 'colsample_bytree': 0.7536746749855805, 'eta': 0.2184533333743663, 'gamma': 0.33253919502225376, 'max_depth': 5, 'min_child_weight': 7, 'n_estimators': 659, 'reg_alpha': 0.2454687185878246, 'reg_lambda': 0.3996687081931066, 'subsample': 0.8965189773254021}. Best is trial 11 with value: 0.4766670642040112.\n",
      "[I 2023-08-01 09:30:05,490] Trial 12 finished with value: 0.4700515395963582 and parameters: {'best_k': 36200, 'colsample_bytree': 0.718779125873169, 'eta': 0.18992601563461198, 'gamma': 0.31332701461105456, 'max_depth': 4, 'min_child_weight': 5, 'n_estimators': 629, 'reg_alpha': 0.25237905914232367, 'reg_lambda': 0.35481582862518224, 'subsample': 0.8944443756027693}. Best is trial 11 with value: 0.4766670642040112.\n",
      "[I 2023-08-01 09:42:21,134] Trial 13 finished with value: 0.4623770435240427 and parameters: {'best_k': 1800, 'colsample_bytree': 0.798057835840781, 'eta': 0.19855169410703827, 'gamma': 0.33312971227109694, 'max_depth': 6, 'min_child_weight': 10, 'n_estimators': 999, 'reg_alpha': 0.17040772921358316, 'reg_lambda': 0.1353978488121107, 'subsample': 0.7751277997557708}. Best is trial 11 with value: 0.4766670642040112.\n",
      "[I 2023-08-01 10:01:34,182] Trial 14 finished with value: 0.4730921301221127 and parameters: {'best_k': 86800, 'colsample_bytree': 0.6772761674578843, 'eta': 0.2063284080352145, 'gamma': 0.9292984708648669, 'max_depth': 5, 'min_child_weight': 6, 'n_estimators': 580, 'reg_alpha': 0.3576073746665618, 'reg_lambda': 0.0010056993914677737, 'subsample': 0.9045965296604247}. Best is trial 11 with value: 0.4766670642040112.\n",
      "[I 2023-08-01 10:09:00,547] Trial 15 finished with value: 0.45843167050667594 and parameters: {'best_k': 800, 'colsample_bytree': 0.6646468922917932, 'eta': 0.24166563880743408, 'gamma': 0.43767522479942944, 'max_depth': 13, 'min_child_weight': 9, 'n_estimators': 430, 'reg_alpha': 0.007781765167991006, 'reg_lambda': 0.9823801560549625, 'subsample': 0.9089770586814269}. Best is trial 11 with value: 0.4766670642040112.\n",
      "[I 2023-08-01 10:27:58,234] Trial 16 finished with value: 0.4711090801705291 and parameters: {'best_k': 33000, 'colsample_bytree': 0.7734086838815455, 'eta': 0.18480467318074417, 'gamma': 0.845247592366051, 'max_depth': 6, 'min_child_weight': 4, 'n_estimators': 598, 'reg_alpha': 0.16910863622900035, 'reg_lambda': 0.4156650864772334, 'subsample': 0.7921898639339483}. Best is trial 11 with value: 0.4766670642040112.\n",
      "[I 2023-08-01 10:53:45,467] Trial 17 finished with value: 0.4676301204901525 and parameters: {'best_k': 60700, 'colsample_bytree': 0.8342182252849498, 'eta': 0.22882817939202887, 'gamma': 0.5272433473205362, 'max_depth': 14, 'min_child_weight': 8, 'n_estimators': 326, 'reg_alpha': 0.3743347728485987, 'reg_lambda': 0.29383934913895793, 'subsample': 0.8548422863726506}. Best is trial 11 with value: 0.4766670642040112.\n",
      "[I 2023-08-01 11:20:10,638] Trial 18 finished with value: 0.4581456240068424 and parameters: {'best_k': 97700, 'colsample_bytree': 0.515695480991743, 'eta': 0.2986823574966474, 'gamma': 0.2464155535009457, 'max_depth': 10, 'min_child_weight': 13, 'n_estimators': 752, 'reg_alpha': 0.14935948838072924, 'reg_lambda': 0.5103404874480144, 'subsample': 0.7195052782652305}. Best is trial 11 with value: 0.4766670642040112.\n",
      "[I 2023-08-01 11:45:12,134] Trial 19 finished with value: 0.4700186537691104 and parameters: {'best_k': 141500, 'colsample_bytree': 0.7191636486176707, 'eta': 0.1671338200256331, 'gamma': 0.45003820983326337, 'max_depth': 6, 'min_child_weight': 10, 'n_estimators': 521, 'reg_alpha': 0.2828041866473047, 'reg_lambda': 0.4383600048948558, 'subsample': 0.9393134144215279}. Best is trial 11 with value: 0.4766670642040112.\n",
      "[I 2023-08-01 11:53:51,244] Trial 20 finished with value: 0.4742578282185895 and parameters: {'best_k': 29500, 'colsample_bytree': 0.5861073637935637, 'eta': 0.1660241409017879, 'gamma': 0.8640505850195244, 'max_depth': 3, 'min_child_weight': 6, 'n_estimators': 669, 'reg_alpha': 0.48631858154595997, 'reg_lambda': 0.27918847958252946, 'subsample': 0.8154920464611142}. Best is trial 11 with value: 0.4766670642040112.\n",
      "[I 2023-08-01 12:02:43,777] Trial 21 finished with value: 0.47945222220533745 and parameters: {'best_k': 29300, 'colsample_bytree': 0.5943825018218242, 'eta': 0.1655699753329909, 'gamma': 0.8441748165418191, 'max_depth': 3, 'min_child_weight': 6, 'n_estimators': 677, 'reg_alpha': 0.553447056714076, 'reg_lambda': 0.27531037692013316, 'subsample': 0.8263851907830191}. Best is trial 21 with value: 0.47945222220533745.\n",
      "[I 2023-08-01 12:19:21,745] Trial 22 finished with value: 0.47671890699513897 and parameters: {'best_k': 43200, 'colsample_bytree': 0.6608892038826103, 'eta': 0.22118685683647538, 'gamma': 0.7611800490341046, 'max_depth': 4, 'min_child_weight': 7, 'n_estimators': 801, 'reg_alpha': 0.5743644538038201, 'reg_lambda': 0.24347546394121045, 'subsample': 0.8814301041946712}. Best is trial 21 with value: 0.47945222220533745.\n",
      "[I 2023-08-01 12:37:15,450] Trial 23 finished with value: 0.47475823757081836 and parameters: {'best_k': 47800, 'colsample_bytree': 0.6812702505880932, 'eta': 0.22760788620144842, 'gamma': 0.6784048043125817, 'max_depth': 4, 'min_child_weight': 6, 'n_estimators': 826, 'reg_alpha': 0.6008657830207516, 'reg_lambda': 0.23556714699747622, 'subsample': 0.8416473232278961}. Best is trial 21 with value: 0.47945222220533745.\n",
      "[I 2023-08-01 13:02:59,234] Trial 24 finished with value: 0.47444501070209366 and parameters: {'best_k': 70700, 'colsample_bytree': 0.5703779168588375, 'eta': 0.21297077962415933, 'gamma': 0.9188254171555676, 'max_depth': 5, 'min_child_weight': 4, 'n_estimators': 964, 'reg_alpha': 0.5604878255690324, 'reg_lambda': 0.20287455295712956, 'subsample': 0.8829280905611887}. Best is trial 21 with value: 0.47945222220533745.\n",
      "[I 2023-08-01 13:16:07,849] Trial 25 finished with value: 0.46865375962346917 and parameters: {'best_k': 28500, 'colsample_bytree': 0.6471107613329984, 'eta': 0.2445825025357645, 'gamma': 0.9939783449002468, 'max_depth': 4, 'min_child_weight': 7, 'n_estimators': 782, 'reg_alpha': 0.7043072715298163, 'reg_lambda': 0.3620359365498735, 'subsample': 0.772344165697856}. Best is trial 21 with value: 0.47945222220533745.\n",
      "[I 2023-08-01 13:26:18,877] Trial 26 finished with value: 0.4714169487833657 and parameters: {'best_k': 45600, 'colsample_bytree': 0.5622538383135173, 'eta': 0.17886285861936857, 'gamma': 0.7328352926237311, 'max_depth': 3, 'min_child_weight': 7, 'n_estimators': 703, 'reg_alpha': 0.4510596777943855, 'reg_lambda': 0.2876917100888454, 'subsample': 0.8782111849798587}. Best is trial 21 with value: 0.47945222220533745.\n",
      "[I 2023-08-01 13:45:55,074] Trial 27 finished with value: 0.4715772450235634 and parameters: {'best_k': 8800, 'colsample_bytree': 0.6945521115997403, 'eta': 0.21214367754547223, 'gamma': 0.8418044404570776, 'max_depth': 7, 'min_child_weight': 5, 'n_estimators': 916, 'reg_alpha': 0.5414728795504932, 'reg_lambda': 0.09967923144924931, 'subsample': 0.810090696173686}. Best is trial 21 with value: 0.47945222220533745.\n",
      "[I 2023-08-01 14:01:03,681] Trial 28 finished with value: 0.4754718417239641 and parameters: {'best_k': 25000, 'colsample_bytree': 0.6299800708764071, 'eta': 0.17901257212135355, 'gamma': 0.9056301075463373, 'max_depth': 5, 'min_child_weight': 8, 'n_estimators': 802, 'reg_alpha': 0.327088588099504, 'reg_lambda': 0.23663482109636885, 'subsample': 0.751095601673259}. Best is trial 21 with value: 0.47945222220533745.\n",
      "[I 2023-08-01 14:07:59,731] Trial 29 finished with value: 0.47720654240239296 and parameters: {'best_k': 7600, 'colsample_bytree': 0.6281658325997423, 'eta': 0.19512908074720695, 'gamma': 0.8016369974921085, 'max_depth': 4, 'min_child_weight': 9, 'n_estimators': 561, 'reg_alpha': 0.4118419541321724, 'reg_lambda': 0.38110096066017274, 'subsample': 0.9164344883783504}. Best is trial 21 with value: 0.47945222220533745.\n",
      "[I 2023-08-01 14:18:16,098] Trial 30 finished with value: 0.4661841756947008 and parameters: {'best_k': 67000, 'colsample_bytree': 0.620562797613818, 'eta': 0.16060915278730029, 'gamma': 0.8164322032565672, 'max_depth': 3, 'min_child_weight': 9, 'n_estimators': 561, 'reg_alpha': 0.4222186201409972, 'reg_lambda': 0.31728913754653165, 'subsample': 0.9330873841117541}. Best is trial 21 with value: 0.47945222220533745.\n",
      "[I 2023-08-01 14:26:13,041] Trial 31 finished with value: 0.4766967958954194 and parameters: {'best_k': 7600, 'colsample_bytree': 0.6479341830985055, 'eta': 0.19981158862716747, 'gamma': 0.79226843265471, 'max_depth': 4, 'min_child_weight': 10, 'n_estimators': 643, 'reg_alpha': 0.3404300244975882, 'reg_lambda': 0.39251465421976334, 'subsample': 0.9151483592185858}. Best is trial 21 with value: 0.47945222220533745.\n",
      "[I 2023-08-01 14:38:13,635] Trial 32 finished with value: 0.47945427309192024 and parameters: {'best_k': 20100, 'colsample_bytree': 0.6512388819343109, 'eta': 0.2011426906334458, 'gamma': 0.7620849043646142, 'max_depth': 4, 'min_child_weight': 10, 'n_estimators': 715, 'reg_alpha': 0.5168759646324439, 'reg_lambda': 0.39913638872637947, 'subsample': 0.9273881699037634}. Best is trial 32 with value: 0.47945427309192024.\n",
      "[I 2023-08-01 14:49:07,987] Trial 33 finished with value: 0.474088880058302 and parameters: {'best_k': 22800, 'colsample_bytree': 0.5487725221456022, 'eta': 0.19016665859519855, 'gamma': 0.7143877274731875, 'max_depth': 4, 'min_child_weight': 11, 'n_estimators': 735, 'reg_alpha': 0.5006826237222425, 'reg_lambda': 0.4959946860269793, 'subsample': 0.9596943797550286}. Best is trial 32 with value: 0.47945427309192024.\n",
      "[I 2023-08-01 15:13:15,794] Trial 34 finished with value: 0.4787256228737505 and parameters: {'best_k': 38300, 'colsample_bytree': 0.5973421853015601, 'eta': 0.14890229983504283, 'gamma': 0.7800571967985017, 'max_depth': 7, 'min_child_weight': 9, 'n_estimators': 846, 'reg_alpha': 0.43012718417893747, 'reg_lambda': 0.44926573425186855, 'subsample': 0.8747092543513073}. Best is trial 32 with value: 0.47945427309192024.\n",
      "[I 2023-08-01 15:38:01,850] Trial 35 finished with value: 0.4697440418258223 and parameters: {'best_k': 34800, 'colsample_bytree': 0.598846208591723, 'eta': 0.1413434748123576, 'gamma': 0.8066495884241243, 'max_depth': 7, 'min_child_weight': 13, 'n_estimators': 891, 'reg_alpha': 0.4277049292643521, 'reg_lambda': 0.4680193461475578, 'subsample': 0.9309847778893275}. Best is trial 32 with value: 0.47945427309192024.\n",
      "[I 2023-08-01 15:49:21,377] Trial 36 finished with value: 0.46881220154921727 and parameters: {'best_k': 18500, 'colsample_bytree': 0.5808388614135944, 'eta': 0.15522142856876833, 'gamma': 0.8873679575103576, 'max_depth': 7, 'min_child_weight': 9, 'n_estimators': 446, 'reg_alpha': 0.5143887776268887, 'reg_lambda': 0.4360320525623283, 'subsample': 0.9601864544343008}. Best is trial 32 with value: 0.47945427309192024.\n",
      "[I 2023-08-01 16:00:41,023] Trial 37 finished with value: 0.47228007773778446 and parameters: {'best_k': 57500, 'colsample_bytree': 0.5009379018820773, 'eta': 0.12923463387183914, 'gamma': 0.6398410589892292, 'max_depth': 3, 'min_child_weight': 10, 'n_estimators': 838, 'reg_alpha': 0.4657288887368907, 'reg_lambda': 0.5461733487125489, 'subsample': 0.8668086526609623}. Best is trial 32 with value: 0.47945427309192024.\n",
      "[I 2023-08-01 16:15:45,664] Trial 38 finished with value: 0.4720129522298073 and parameters: {'best_k': 11100, 'colsample_bytree': 0.6164209782912814, 'eta': 0.1670041843628167, 'gamma': 0.7189456698213961, 'max_depth': 9, 'min_child_weight': 12, 'n_estimators': 532, 'reg_alpha': 0.4025607011528374, 'reg_lambda': 0.34559327635484244, 'subsample': 0.9768067851852724}. Best is trial 32 with value: 0.47945427309192024.\n",
      "[I 2023-08-01 16:30:26,666] Trial 39 finished with value: 0.4737557560295966 and parameters: {'best_k': 24500, 'colsample_bytree': 0.5461218676076626, 'eta': 0.12988928842715847, 'gamma': 0.7897708509058926, 'max_depth': 6, 'min_child_weight': 11, 'n_estimators': 702, 'reg_alpha': 0.32261494420749554, 'reg_lambda': 0.4702900410807449, 'subsample': 0.9227236946265485}. Best is trial 32 with value: 0.47945427309192024.\n",
      "[I 2023-08-01 17:04:16,696] Trial 40 finished with value: 0.4709598249288118 and parameters: {'best_k': 51400, 'colsample_bytree': 0.5985767945971023, 'eta': 0.15558068071859824, 'gamma': 0.6061907072598719, 'max_depth': 8, 'min_child_weight': 9, 'n_estimators': 926, 'reg_alpha': 0.5359104979117599, 'reg_lambda': 0.6176191329645387, 'subsample': 0.9713815207146443}. Best is trial 32 with value: 0.47945427309192024.\n",
      "[I 2023-08-01 17:23:51,885] Trial 41 finished with value: 0.4744749636733117 and parameters: {'best_k': 40400, 'colsample_bytree': 0.6418401400259653, 'eta': 0.17637929031714644, 'gamma': 0.7705943179951354, 'max_depth': 5, 'min_child_weight': 8, 'n_estimators': 829, 'reg_alpha': 0.4618573415177917, 'reg_lambda': 0.3943234259563254, 'subsample': 0.8731207560229218}. Best is trial 32 with value: 0.47945427309192024.\n",
      "[I 2023-08-01 17:32:38,673] Trial 42 finished with value: 0.4755911882740677 and parameters: {'best_k': 16600, 'colsample_bytree': 0.6517440891599106, 'eta': 0.2090420663451073, 'gamma': 0.6848882370883055, 'max_depth': 3, 'min_child_weight': 5, 'n_estimators': 723, 'reg_alpha': 0.6049973271393576, 'reg_lambda': 0.253823483170914, 'subsample': 0.8311758648025296}. Best is trial 32 with value: 0.47945427309192024.\n",
      "[I 2023-08-01 17:47:34,807] Trial 43 finished with value: 0.4763147957194472 and parameters: {'best_k': 40100, 'colsample_bytree': 0.619054615161062, 'eta': 0.1998292943677224, 'gamma': 0.8358009031738688, 'max_depth': 4, 'min_child_weight': 7, 'n_estimators': 786, 'reg_alpha': 0.4116621215748607, 'reg_lambda': 0.3151679134967321, 'subsample': 0.8626981186678672}. Best is trial 32 with value: 0.47945427309192024.\n",
      "[I 2023-08-01 18:04:44,974] Trial 44 finished with value: 0.4736719696790761 and parameters: {'best_k': 81700, 'colsample_bytree': 0.5883545858411885, 'eta': 0.14544580630495008, 'gamma': 0.7641999953219537, 'max_depth': 5, 'min_child_weight': 8, 'n_estimators': 618, 'reg_alpha': 0.5804306254451106, 'reg_lambda': 0.38044335099576143, 'subsample': 0.8954216209715973}. Best is trial 32 with value: 0.47945427309192024.\n",
      "[I 2023-08-01 18:19:26,519] Trial 45 finished with value: 0.4720176390449852 and parameters: {'best_k': 29800, 'colsample_bytree': 0.6665358643579309, 'eta': 0.1920877483299829, 'gamma': 0.9573391840898614, 'max_depth': 4, 'min_child_weight': 6, 'n_estimators': 685, 'reg_alpha': 0.643604803626378, 'reg_lambda': 0.18842703178911757, 'subsample': 0.9990705059313698}. Best is trial 32 with value: 0.47945427309192024.\n",
      "[I 2023-08-01 18:54:56,643] Trial 46 finished with value: 0.47279991474711575 and parameters: {'best_k': 20200, 'colsample_bytree': 0.6982755636416268, 'eta': 0.17588471955350282, 'gamma': 0.8815077540670647, 'max_depth': 11, 'min_child_weight': 11, 'n_estimators': 859, 'reg_alpha': 0.5027333603506997, 'reg_lambda': 0.3312711939676208, 'subsample': 0.9426448045174199}. Best is trial 32 with value: 0.47945427309192024.\n",
      "[I 2023-08-01 19:03:32,333] Trial 47 finished with value: 0.46135446522731005 and parameters: {'best_k': 62600, 'colsample_bytree': 0.6021921826032811, 'eta': 0.11870206919798303, 'gamma': 0.7487397449644879, 'max_depth': 3, 'min_child_weight': 9, 'n_estimators': 497, 'reg_alpha': 0.6812958371958837, 'reg_lambda': 0.45242333423600534, 'subsample': 0.9121844947384775}. Best is trial 32 with value: 0.47945427309192024.\n",
      "[I 2023-08-01 19:14:42,368] Trial 48 finished with value: 0.47434784486343823 and parameters: {'best_k': 11400, 'colsample_bytree': 0.6402391124953057, 'eta': 0.18973818373277362, 'gamma': 0.9484947805948499, 'max_depth': 6, 'min_child_weight': 10, 'n_estimators': 567, 'reg_alpha': 0.5430154718178539, 'reg_lambda': 0.5292062604390553, 'subsample': 0.8886141607083407}. Best is trial 32 with value: 0.47945427309192024.\n",
      "[I 2023-08-01 19:38:22,817] Trial 49 finished with value: 0.47053203786730274 and parameters: {'best_k': 47500, 'colsample_bytree': 0.5702177182488604, 'eta': 0.22277408530230133, 'gamma': 0.8565155656836776, 'max_depth': 9, 'min_child_weight': 7, 'n_estimators': 649, 'reg_alpha': 0.7506005711885294, 'reg_lambda': 0.4150736653016596, 'subsample': 0.8631422472923309}. Best is trial 32 with value: 0.47945427309192024.\n"
     ]
    },
    {
     "name": "stdout",
     "output_type": "stream",
     "text": [
      "Val Loss: 0.47945427309192024\n",
      "Best hyperparameters: {'best_k': 20100, 'colsample_bytree': 0.6512388819343109, 'eta': 0.2011426906334458, 'gamma': 0.7620849043646142, 'max_depth': 4, 'min_child_weight': 10, 'n_estimators': 715, 'reg_alpha': 0.5168759646324439, 'reg_lambda': 0.39913638872637947, 'subsample': 0.9273881699037634}\n"
     ]
    }
   ],
   "source": [
    "study = optuna.create_study(storage=storage, direction='maximize', study_name='description_title_keywords_chi2',load_if_exists=True)\n",
    "study.optimize(objective2, n_trials=50)\n",
    "\n",
    "trial = study.best_trial\n",
    "print('Val Loss: {}'.format(trial.value))\n",
    "print(\"Best hyperparameters: {}\".format(trial.params))"
   ]
  },
  {
   "cell_type": "code",
   "execution_count": 12,
   "id": "12865b4c",
   "metadata": {
    "id": "12865b4c",
    "outputId": "0f2310ca-c70d-4bbd-ab5e-88cbd2510996"
   },
   "outputs": [
    {
     "name": "stdout",
     "output_type": "stream",
     "text": [
      "Individual f1_macro scores: [0.47395958 0.48409438 0.48514985 0.4810824  0.48361073 0.46882871]\n",
      "Mean cross-validation f1_macro: 0.47945427309192024\n",
      "Individual accuracy scores: [0.64789176 0.66299559 0.65544368 0.65313189 0.66383381 0.65502046]\n",
      "Mean cross-validation accuracy: 0.6563861960431329\n",
      "Individual recall_macro scores: [0.4599011  0.46880402 0.46947879 0.46518119 0.46812514 0.45753012]\n",
      "Mean cross-validation recall_macro: 0.46483672598718284\n",
      "Individual precision_macro scores: [0.52595034 0.54429817 0.54621095 0.56436488 0.54869362 0.51672214]\n",
      "Mean cross-validation precision_macro: 0.5410400153386702\n"
     ]
    }
   ],
   "source": [
    "feature_set=['narrative_tfidf', 'tfidf_title', 'tfidf_keywords']\n",
    "X_train_val_combined = X_train_val[feature_set].apply(lambda x: ' '.join(x.fillna('').astype(str)), axis=1)\n",
    "X_test_combined = X_test[feature_set].apply(lambda x: ' '.join(x.fillna('').astype(str)), axis=1)\n",
    "\n",
    "# Transform the features using TF-IDF\n",
    "vectorizer = TfidfVectorizer(ngram_range=(1, 3), max_df=0.95, min_df=2)\n",
    "X_train_val_combined_transformed = vectorizer.fit_transform(X_train_val_combined)\n",
    "X_test_combined_transformed = vectorizer.transform(X_test_combined)\n",
    "\n",
    "# Perform feature selection with SelectKBest and chi2 score function\n",
    "selector = SelectKBest(score_func=chi2, k=20100)\n",
    "X_train_selected = selector.fit_transform(X_train_val_combined_transformed, y_train_val)\n",
    "X_test_selected = selector.transform(X_test_combined_transformed)\n",
    "\n",
    "params={'colsample_bytree': 0.6512388819343109, 'eta': 0.2011426906334458, 'gamma': 0.7620849043646142, 'max_depth': 4, 'min_child_weight': 10, 'n_estimators': 715, 'reg_alpha': 0.5168759646324439, 'reg_lambda': 0.39913638872637947, 'subsample': 0.9273881699037634}\n",
    "best_model = XGBClassifier(objective= 'multi:softmax', num_class=4, eval_metric='mlogloss', random_state=42, **params)\n",
    "\n",
    "cv = StratifiedKFold(n_splits=6, shuffle=True, random_state=42)\n",
    "# Perform cross-validation for different metrics\n",
    "metrics = ['f1_macro', 'accuracy', 'recall_macro', 'precision_macro']\n",
    "for metric in metrics:\n",
    "    scores = cross_val_score(best_model,  X_train_selected, y_train_val, cv=cv, scoring=metric, n_jobs=-1)\n",
    "    print(\"Individual {} scores:\".format(metric), scores)\n",
    "    print(\"Mean cross-validation {}:\".format(metric), scores.mean())"
   ]
  },
  {
   "cell_type": "code",
   "execution_count": null,
   "id": "ecee6d6b",
   "metadata": {
    "id": "ecee6d6b",
    "outputId": "ac3257ba-3e43-4973-e850-22e2fa9e3651"
   },
   "outputs": [],
   "source": [
    "# Retrain on full training set using the best hyperparameters\n",
    "best_model.fit(X_train_selected, y_train_val)\n",
    "\n",
    "# Make predictions on the test dataset\n",
    "y_pred_test = best_model.predict(X_test_selected)\n",
    "print('test classification report')\n",
    "print(classification_report(y_test, y_pred_test))\n",
    "\n",
    "# Print the confusion matrix\n",
    "fig, ax = plt.subplots(figsize=(7, 7))\n",
    "confusion_mat = confusion_matrix(y_true=y_test, y_pred=y_pred_test, labels=[0,1,2,3])\n",
    "ax.matshow(confusion_mat, cmap=plt.cm.Blues, alpha=0.3)\n",
    "for i in range(confusion_mat.shape[0]):\n",
    "    for j in range(confusion_mat.shape[1]):\n",
    "        ax.text(x=j, y=i,s=confusion_mat[i, j], va='center', ha='center', size='xx-large')\n",
    "plt.xlabel('Predictions', fontsize=10)\n",
    "plt.ylabel('Actuals', fontsize=10)\n",
    "plt.title('Confusion Matrix', fontsize=10)\n",
    "plt.show()\n",
    "print('\\n')"
   ]
  },
  {
   "cell_type": "code",
   "execution_count": null,
   "id": "562f6441",
   "metadata": {},
   "outputs": [],
   "source": [
    "plot_learning_curve(best_model, X_train_selected, y_train_val, 'accuracy')"
   ]
  },
  {
   "cell_type": "code",
   "execution_count": null,
   "id": "d262a7fd",
   "metadata": {},
   "outputs": [],
   "source": [
    "plot_learning_curve(best_model, X_train_selected, y_train_val, 'f1_macro')"
   ]
  },
  {
   "cell_type": "markdown",
   "id": "c7ca869f",
   "metadata": {
    "id": "c7ca869f"
   },
   "source": [
    "# <span style=\"color:white; font-size:18px;background-color:red\"> feature importance + hyperparameter tuning</span>"
   ]
  },
  {
   "cell_type": "code",
   "execution_count": null,
   "id": "72abb705",
   "metadata": {},
   "outputs": [],
   "source": [
    "feature_set=['narrative_tfidf', 'tfidf_title', 'tfidf_keywords']\n",
    "X_train_val_combined = X_train_val[feature_set].apply(lambda x: ' '.join(x.fillna('').astype(str)), axis=1)\n",
    "X_test_combined = X_test[feature_set].apply(lambda x: ' '.join(x.fillna('').astype(str)), axis=1)\n",
    "\n",
    "# Transform the features using TF-IDF\n",
    "vectorizer = TfidfVectorizer(ngram_range=(1, 3), max_df=0.95, min_df=2)\n",
    "X_train_val_combined_transformed = vectorizer.fit_transform(X_train_val_combined)\n",
    "X_test_combined_transformed = vectorizer.transform(X_test_combined)\n",
    "\n",
    "params={'colsample_bytree': 0.6660707896339382, 'eta': 0.1865203620258158, 'gamma': 0.4869470425232074, 'max_depth': 5, 'min_child_weight': 8, 'n_estimators': 747, 'reg_alpha': 0.2615683528029101, 'reg_lambda': 0.20706126430246635, 'subsample': 0.87307714888806}\n",
    "best_model = XGBClassifier(objective= 'multi:softmax', num_class=4, eval_metric='mlogloss', random_state=42, **params)\n",
    "best_model.fit(X_train_val_combined_transformed, y_train_val)\n",
    "\n",
    "# Select the top N features based on importance\n",
    "threshold = 0.05 \n",
    "feature_importances = best_model.feature_importances_\n",
    "top_feature_indices = np.where(feature_importances > threshold)[0]\n",
    "X_train_selected = X_train_val_combined_transformed[:, top_feature_indices]\n",
    "X_test_selected = X_test_combined_transformed[:, top_feature_indices]\n",
    "\n",
    "# train again\n",
    "best_model.fit(X_train_selected, y_train_val)\n",
    "metrics = ['f1_macro', 'accuracy']\n",
    "for metric in metrics:\n",
    "    cv = StratifiedKFold(n_splits=6, shuffle=True, random_state=42)\n",
    "    scores = cross_val_score(best_model, X_train_selected, y_train_val, cv=cv, scoring=metric, n_jobs=-1)\n",
    "    print(\"Individual {} scores:\".format(metric), scores)\n",
    "    print(\"Mean cross-validation {}:\".format(metric), scores.mean())"
   ]
  },
  {
   "cell_type": "code",
   "execution_count": null,
   "id": "6a9bc003",
   "metadata": {},
   "outputs": [],
   "source": [
    "y_pred_test = best_model.predict(X_test_selected)\n",
    "print('test classification report')\n",
    "print(classification_report(y_test, y_pred_test))\n",
    "\n",
    "# Print the confusion matrix\n",
    "fig, ax = plt.subplots(figsize=(7, 7))\n",
    "confusion_mat = confusion_matrix(y_true=y_test, y_pred=y_pred_test, labels=[0,1,2,3])\n",
    "ax.matshow(confusion_mat, cmap=plt.cm.Blues, alpha=0.3)\n",
    "for i in range(confusion_mat.shape[0]):\n",
    "    for j in range(confusion_mat.shape[1]):\n",
    "        ax.text(x=j, y=i,s=confusion_mat[i, j], va='center', ha='center', size='xx-large')\n",
    "plt.xlabel('Predictions', fontsize=10)\n",
    "plt.ylabel('Actuals', fontsize=10)\n",
    "plt.title('Confusion Matrix', fontsize=10)\n",
    "plt.show()\n",
    "print('\\n')"
   ]
  },
  {
   "cell_type": "code",
   "execution_count": null,
   "id": "6d07c645",
   "metadata": {},
   "outputs": [],
   "source": [
    "plot_learning_curve(best_model_reduced, X_train_reduced, y_train_val, 'accuracy')"
   ]
  },
  {
   "cell_type": "code",
   "execution_count": null,
   "id": "8bf9c4a6",
   "metadata": {},
   "outputs": [],
   "source": [
    "plot_learning_curve(best_model_reduced, X_train_reduced, y_train_val, 'f1_macro')"
   ]
  },
  {
   "cell_type": "code",
   "execution_count": null,
   "id": "ba6a08f4",
   "metadata": {},
   "outputs": [],
   "source": [
    "feature_importances = best_model.feature_importances_\n"
   ]
  },
  {
   "cell_type": "code",
   "execution_count": null,
   "id": "699cfd5a",
   "metadata": {},
   "outputs": [],
   "source": []
  },
  {
   "cell_type": "code",
   "execution_count": null,
   "id": "72542d55",
   "metadata": {
    "id": "72542d55"
   },
   "outputs": [],
   "source": []
  }
 ],
 "metadata": {
  "colab": {
   "provenance": [],
   "toc_visible": true
  },
  "kernelspec": {
   "display_name": "env1",
   "language": "python",
   "name": "env1"
  },
  "language_info": {
   "codemirror_mode": {
    "name": "ipython",
    "version": 3
   },
   "file_extension": ".py",
   "mimetype": "text/x-python",
   "name": "python",
   "nbconvert_exporter": "python",
   "pygments_lexer": "ipython3",
   "version": "3.8.0"
  }
 },
 "nbformat": 4,
 "nbformat_minor": 5
}
