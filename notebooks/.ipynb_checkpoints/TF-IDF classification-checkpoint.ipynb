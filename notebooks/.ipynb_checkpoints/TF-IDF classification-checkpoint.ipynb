{
 "cells": [
  {
   "cell_type": "code",
   "execution_count": 1,
   "metadata": {
    "colab": {
     "base_uri": "https://localhost:8080/"
    },
    "executionInfo": {
     "elapsed": 23482,
     "status": "ok",
     "timestamp": 1678979806591,
     "user": {
      "displayName": "Beatriz Arcipreste",
      "userId": "15863202257538089731"
     },
     "user_tz": 0
    },
    "id": "3i5RGK43hbDk",
    "outputId": "31d3a783-22cd-4b29-e4b6-2a18b2d7cd77"
   },
   "outputs": [
    {
     "name": "stdout",
     "output_type": "stream",
     "text": [
      "Mounted at /content/drive\n"
     ]
    }
   ],
   "source": [
    "from google.colab import drive\n",
    "drive.mount('/content/drive')"
   ]
  },
  {
   "cell_type": "markdown",
   "metadata": {
    "id": "-Xr7rQ4b9WVN"
   },
   "source": [
    "https://github.com/halpert3/complaint-content-classification-nlp/tree/main/notebooks"
   ]
  },
  {
   "cell_type": "markdown",
   "metadata": {
    "id": "tkw8gp0Ah2oC"
   },
   "source": [
    "# Import libraries"
   ]
  },
  {
   "cell_type": "code",
   "execution_count": 2,
   "metadata": {
    "executionInfo": {
     "elapsed": 2117,
     "status": "ok",
     "timestamp": 1678979808701,
     "user": {
      "displayName": "Beatriz Arcipreste",
      "userId": "15863202257538089731"
     },
     "user_tz": 0
    },
    "id": "cHnIbavYh6Jz"
   },
   "outputs": [],
   "source": [
    "import numpy as np\n",
    "import pandas as pd\n",
    "import matplotlib.pyplot as plt\n",
    "from collections import Counter\n",
    "\n",
    "from sklearn.model_selection import train_test_split\n",
    "from sklearn.feature_extraction.text import TfidfVectorizer, CountVectorizer\n",
    "\n",
    "from sklearn.tree import DecisionTreeClassifier\n",
    "from sklearn.ensemble import GradientBoostingClassifier\n",
    "from xgboost import XGBClassifier\n",
    "from sklearn.neighbors import KNeighborsClassifier\n",
    "from sklearn.svm import SVC\n",
    "from sklearn.svm import LinearSVC\n",
    "from sklearn.ensemble import RandomForestClassifier\n",
    "from sklearn.naive_bayes import MultinomialNB\n",
    "\n",
    "\n",
    "from sklearn.metrics import classification_report, confusion_matrix\n",
    "from sklearn.metrics import accuracy_score, f1_score, precision_score, recall_score\n",
    "from statistics import mean\n"
   ]
  },
  {
   "cell_type": "code",
   "execution_count": 3,
   "metadata": {
    "executionInfo": {
     "elapsed": 3132,
     "status": "ok",
     "timestamp": 1678979811827,
     "user": {
      "displayName": "Beatriz Arcipreste",
      "userId": "15863202257538089731"
     },
     "user_tz": 0
    },
    "id": "acIQsYypNRyZ"
   },
   "outputs": [],
   "source": [
    "df = pd.read_csv('/content/drive/MyDrive/MS DATA SCIENCE /TESE /data_processed.csv')"
   ]
  },
  {
   "cell_type": "markdown",
   "metadata": {
    "id": "C4BpLIXPh2wQ"
   },
   "source": [
    "# Multiclass Classification and Holdout CV"
   ]
  },
  {
   "cell_type": "code",
   "execution_count": null,
   "metadata": {
    "id": "aUYXa9p0NSUf"
   },
   "outputs": [],
   "source": [
    "#convert reason to numbers\n",
    "reason_dict ={'Mau Serviço Prestado': 0, 'Condições de entrega': 1, 'Atraso de entrega': 2, \n",
    "               'Enganos': 3}\n",
    "df['reason'].replace(reason_dict, inplace=True)"
   ]
  },
  {
   "cell_type": "code",
   "execution_count": null,
   "metadata": {
    "colab": {
     "base_uri": "https://localhost:8080/"
    },
    "executionInfo": {
     "elapsed": 20,
     "status": "ok",
     "timestamp": 1678740057897,
     "user": {
      "displayName": "Beatriz Arcipreste",
      "userId": "15863202257538089731"
     },
     "user_tz": 0
    },
    "id": "PcMhmdkVNYSX",
    "outputId": "e8f3e752-6528-4c3c-e884-2ac41ace2c09"
   },
   "outputs": [
    {
     "data": {
      "text/plain": [
       "array([0, 1, 2, 3])"
      ]
     },
     "execution_count": 58,
     "metadata": {},
     "output_type": "execute_result"
    }
   ],
   "source": [
    "df['reason'].unique()"
   ]
  },
  {
   "cell_type": "code",
   "execution_count": null,
   "metadata": {
    "id": "rTBY13XLNhix"
   },
   "outputs": [],
   "source": [
    "X = df['narrative_tfidf']\n",
    "y = df['reason']"
   ]
  },
  {
   "cell_type": "code",
   "execution_count": null,
   "metadata": {
    "colab": {
     "base_uri": "https://localhost:8080/"
    },
    "executionInfo": {
     "elapsed": 17,
     "status": "ok",
     "timestamp": 1678740057900,
     "user": {
      "displayName": "Beatriz Arcipreste",
      "userId": "15863202257538089731"
     },
     "user_tz": 0
    },
    "id": "I_ew9jp4s76O",
    "outputId": "981ec127-1637-44a0-82dc-e198e4a912ae"
   },
   "outputs": [
    {
     "name": "stdout",
     "output_type": "stream",
     "text": [
      "0 0.3551493535443602\n",
      "1 0.09893000445831476\n",
      "2 0.4782880071333036\n",
      "3 0.0676326348640214\n"
     ]
    }
   ],
   "source": [
    "for item in Counter(y).items():\n",
    "  print(item[0], item[1]/len(y))"
   ]
  },
  {
   "cell_type": "markdown",
   "metadata": {
    "id": "3_NG1ynch2zA"
   },
   "source": [
    "# Train test split"
   ]
  },
  {
   "cell_type": "code",
   "execution_count": null,
   "metadata": {
    "id": "PczDTPFMh9Xq"
   },
   "outputs": [],
   "source": [
    "# we should always split before transforming the data\n",
    "X_train, X_test, y_train_tf, y_test_tf = train_test_split(X, y.values, test_size=0.20, random_state=200)"
   ]
  },
  {
   "cell_type": "code",
   "execution_count": null,
   "metadata": {
    "colab": {
     "base_uri": "https://localhost:8080/"
    },
    "executionInfo": {
     "elapsed": 420,
     "status": "ok",
     "timestamp": 1678739685668,
     "user": {
      "displayName": "Beatriz Arcipreste",
      "userId": "15863202257538089731"
     },
     "user_tz": 0
    },
    "id": "gqsga1BXot_c",
    "outputId": "246df968-ce3c-495e-a2b5-509f4e001952"
   },
   "outputs": [
    {
     "name": "stdout",
     "output_type": "stream",
     "text": [
      "0 0.35644226482389657\n",
      "3 0.06754346856888097\n",
      "2 0.4772625947391886\n",
      "1 0.09875167186803388\n"
     ]
    }
   ],
   "source": [
    "# print(Counter(y_train_tf))\n",
    "for item in Counter(y_train_tf).items():\n",
    "  print(item[0], item[1]/len(y_train_tf))"
   ]
  },
  {
   "cell_type": "code",
   "execution_count": null,
   "metadata": {
    "colab": {
     "base_uri": "https://localhost:8080/"
    },
    "executionInfo": {
     "elapsed": 793,
     "status": "ok",
     "timestamp": 1678739753781,
     "user": {
      "displayName": "Beatriz Arcipreste",
      "userId": "15863202257538089731"
     },
     "user_tz": 0
    },
    "id": "n231hfqQY3oE",
    "outputId": "c57128e9-32c4-4821-d21d-59476d5181a2"
   },
   "outputs": [
    {
     "name": "stdout",
     "output_type": "stream",
     "text": [
      "0 0.3499777084262149\n",
      "2 0.4823896567097637\n",
      "1 0.09964333481943825\n",
      "3 0.06798930004458315\n"
     ]
    }
   ],
   "source": [
    "for item in Counter(y_test_tf).items():\n",
    "  print(item[0], item[1]/len(y_test_tf))"
   ]
  },
  {
   "cell_type": "code",
   "execution_count": 4,
   "metadata": {
    "executionInfo": {
     "elapsed": 10,
     "status": "ok",
     "timestamp": 1678979811828,
     "user": {
      "displayName": "Beatriz Arcipreste",
      "userId": "15863202257538089731"
     },
     "user_tz": 0
    },
    "id": "MaAhtxJZNvP-"
   },
   "outputs": [],
   "source": [
    "def training (classifier,X_train_tf, X_test_tf, y_train_tf, y_test_tf):\n",
    "    classifier = classifier\n",
    "    # Train Decision Tree Classifer\n",
    "    classifier.fit(X_train_tf, y_train_tf)\n",
    "   \n",
    "    # TRAIN\n",
    "    #Predict the response for train dataset\n",
    "    y_pred = classifier.predict(X_train_tf)\n",
    "\n",
    "    # TEST\n",
    "    #Predict the response for test dataset\n",
    "    test_y_pred = classifier.predict(X_test_tf)\n",
    "\n",
    "    cf=confusion_matrix(y_test_tf, test_y_pred)\n",
    "\n",
    "    return accuracy_score(y_train_tf, y_pred),classification_report(y_test_tf, test_y_pred), cf"
   ]
  },
  {
   "cell_type": "markdown",
   "metadata": {
    "id": "eC3ggBzViJXi"
   },
   "source": [
    "## Unigrams only"
   ]
  },
  {
   "cell_type": "code",
   "execution_count": null,
   "metadata": {
    "id": "YzGAAT0ONl76"
   },
   "outputs": [],
   "source": [
    "# Convert a collection of raw documents to a matrix of TF-IDF features.\n",
    "vectorizer = TfidfVectorizer(ngram_range=(1,1))\n",
    "X_train_tf = vectorizer.fit_transform(X_train)\n",
    "X_train_tf=X_train_tf.toarray()\n",
    "X_test_tf= vectorizer.transform(X_test)"
   ]
  },
  {
   "cell_type": "code",
   "execution_count": null,
   "metadata": {
    "colab": {
     "base_uri": "https://localhost:8080/"
    },
    "executionInfo": {
     "elapsed": 3,
     "status": "ok",
     "timestamp": 1678491559117,
     "user": {
      "displayName": "Beatriz Arcipreste",
      "userId": "15863202257538089731"
     },
     "user_tz": 0
    },
    "id": "4C76XPpK4798",
    "outputId": "b760e036-8361-47a9-e709-82483fd8f5e6"
   },
   "outputs": [
    {
     "data": {
      "text/plain": [
       "22592"
      ]
     },
     "execution_count": 15,
     "metadata": {},
     "output_type": "execute_result"
    }
   ],
   "source": [
    "feature_names =  vectorizer.get_feature_names_out()\n",
    "len(feature_names)"
   ]
  },
  {
   "cell_type": "code",
   "execution_count": null,
   "metadata": {
    "colab": {
     "base_uri": "https://localhost:8080/"
    },
    "executionInfo": {
     "elapsed": 272,
     "status": "ok",
     "timestamp": 1678480516316,
     "user": {
      "displayName": "Beatriz Arcipreste",
      "userId": "15863202257538089731"
     },
     "user_tz": 0
    },
    "id": "jl3fJQyyO-mv",
    "outputId": "a649934e-7aa5-44a2-f88c-8e73d6cec0bc"
   },
   "outputs": [
    {
     "data": {
      "text/plain": [
       "<4486x22592 sparse matrix of type '<class 'numpy.float64'>'\n",
       "\twith 234900 stored elements in Compressed Sparse Row format>"
      ]
     },
     "execution_count": 14,
     "metadata": {},
     "output_type": "execute_result"
    }
   ],
   "source": [
    "X_test_tf"
   ]
  },
  {
   "cell_type": "markdown",
   "metadata": {
    "id": "wzwBs1WcODFb"
   },
   "source": [
    "### KNN"
   ]
  },
  {
   "cell_type": "code",
   "execution_count": null,
   "metadata": {
    "colab": {
     "base_uri": "https://localhost:8080/"
    },
    "executionInfo": {
     "elapsed": 363501,
     "status": "ok",
     "timestamp": 1678450761568,
     "user": {
      "displayName": "Beatriz Arcipreste",
      "userId": "15863202257538089731"
     },
     "user_tz": 0
    },
    "id": "hTJ5kw3lOrwb",
    "outputId": "1f65f436-9c34-45cb-a27a-33b17e18c184"
   },
   "outputs": [
    {
     "name": "stdout",
     "output_type": "stream",
     "text": [
      "acc train:  0.7043580026749888\n",
      "              precision    recall  f1-score   support\n",
      "\n",
      "           0       0.52      0.56      0.54      1570\n",
      "           1       0.20      0.10      0.13       447\n",
      "           2       0.67      0.76      0.71      2164\n",
      "           3       0.31      0.13      0.18       305\n",
      "\n",
      "    accuracy                           0.58      4486\n",
      "   macro avg       0.42      0.38      0.39      4486\n",
      "weighted avg       0.54      0.58      0.56      4486\n",
      "\n"
     ]
    }
   ],
   "source": [
    "acc_train,cm=training(KNeighborsClassifier(),X_train_tf, X_test_tf, y_train_tf, y_test_tf)\n",
    "print('acc train: ',acc_train)\n",
    "print(cm)"
   ]
  },
  {
   "cell_type": "markdown",
   "metadata": {
    "id": "WxSBIthDODPH"
   },
   "source": [
    "### DT"
   ]
  },
  {
   "cell_type": "code",
   "execution_count": null,
   "metadata": {
    "colab": {
     "base_uri": "https://localhost:8080/"
    },
    "executionInfo": {
     "elapsed": 54607,
     "status": "ok",
     "timestamp": 1678451057711,
     "user": {
      "displayName": "Beatriz Arcipreste",
      "userId": "15863202257538089731"
     },
     "user_tz": 0
    },
    "id": "MDAyqZVCOsb5",
    "outputId": "ee427305-09cd-434e-9bcc-6d8233bea573"
   },
   "outputs": [
    {
     "name": "stdout",
     "output_type": "stream",
     "text": [
      "acc train:  0.9991640659830584\n",
      "              precision    recall  f1-score   support\n",
      "\n",
      "           0       0.44      0.46      0.45      1570\n",
      "           1       0.13      0.12      0.12       447\n",
      "           2       0.64      0.63      0.64      2164\n",
      "           3       0.18      0.16      0.17       305\n",
      "\n",
      "    accuracy                           0.49      4486\n",
      "   macro avg       0.35      0.34      0.34      4486\n",
      "weighted avg       0.49      0.49      0.49      4486\n",
      "\n"
     ]
    }
   ],
   "source": [
    "acc_train,cm=training(DecisionTreeClassifier(),X_train_tf, X_test_tf, y_train_tf, y_test_tf)\n",
    "print('acc train: ',acc_train)\n",
    "print(cm)"
   ]
  },
  {
   "cell_type": "markdown",
   "metadata": {
    "id": "2ADFeq4EODYu"
   },
   "source": [
    "### Random Forest"
   ]
  },
  {
   "cell_type": "code",
   "execution_count": null,
   "metadata": {
    "colab": {
     "base_uri": "https://localhost:8080/"
    },
    "executionInfo": {
     "elapsed": 90241,
     "status": "ok",
     "timestamp": 1678451150693,
     "user": {
      "displayName": "Beatriz Arcipreste",
      "userId": "15863202257538089731"
     },
     "user_tz": 0
    },
    "id": "p0Ykc-kxSrzB",
    "outputId": "08c280dd-92dc-4957-e90b-3a8841872acc"
   },
   "outputs": [
    {
     "name": "stdout",
     "output_type": "stream",
     "text": [
      "acc train:  0.9991640659830584\n",
      "              precision    recall  f1-score   support\n",
      "\n",
      "           0       0.60      0.58      0.59      1570\n",
      "           1       0.62      0.01      0.02       447\n",
      "           2       0.66      0.91      0.77      2164\n",
      "           3       0.50      0.02      0.03       305\n",
      "\n",
      "    accuracy                           0.64      4486\n",
      "   macro avg       0.60      0.38      0.35      4486\n",
      "weighted avg       0.63      0.64      0.58      4486\n",
      "\n"
     ]
    }
   ],
   "source": [
    "acc_train,cm=training(RandomForestClassifier(),X_train_tf, X_test_tf, y_train_tf, y_test_tf)\n",
    "print('acc train: ',acc_train)\n",
    "print(cm)"
   ]
  },
  {
   "cell_type": "markdown",
   "metadata": {
    "id": "UySv1FSRODiF"
   },
   "source": [
    "### Gradient Boosting"
   ]
  },
  {
   "cell_type": "code",
   "execution_count": null,
   "metadata": {
    "colab": {
     "base_uri": "https://localhost:8080/"
    },
    "executionInfo": {
     "elapsed": 1464158,
     "status": "ok",
     "timestamp": 1678457072129,
     "user": {
      "displayName": "Beatriz Arcipreste",
      "userId": "15863202257538089731"
     },
     "user_tz": 0
    },
    "id": "o7PeR9lLSzZ0",
    "outputId": "85e957ee-5c90-4136-a6bd-46f4f355f3d9"
   },
   "outputs": [
    {
     "name": "stdout",
     "output_type": "stream",
     "text": [
      "acc train:  0.6851315202853322\n",
      "              precision    recall  f1-score   support\n",
      "\n",
      "           0       0.57      0.63      0.60      1570\n",
      "           1       0.42      0.04      0.07       447\n",
      "           2       0.70      0.85      0.77      2164\n",
      "           3       0.48      0.12      0.19       305\n",
      "\n",
      "    accuracy                           0.64      4486\n",
      "   macro avg       0.54      0.41      0.41      4486\n",
      "weighted avg       0.61      0.64      0.60      4486\n",
      "\n"
     ]
    }
   ],
   "source": [
    "acc_train,cm=training(GradientBoostingClassifier(),X_train_tf, X_test_tf, y_train_tf, y_test_tf)\n",
    "print('acc train: ',acc_train)\n",
    "print(cm)"
   ]
  },
  {
   "cell_type": "markdown",
   "metadata": {
    "id": "voYQqAfbOl6p"
   },
   "source": [
    "### XGBoost"
   ]
  },
  {
   "cell_type": "code",
   "execution_count": null,
   "metadata": {
    "colab": {
     "base_uri": "https://localhost:8080/"
    },
    "executionInfo": {
     "elapsed": 4480575,
     "status": "ok",
     "timestamp": 1678461552702,
     "user": {
      "displayName": "Beatriz Arcipreste",
      "userId": "15863202257538089731"
     },
     "user_tz": 0
    },
    "id": "6NAMpcIHS0C6",
    "outputId": "b2ceb73e-3f6e-4261-f68b-b7e263277005"
   },
   "outputs": [
    {
     "name": "stdout",
     "output_type": "stream",
     "text": [
      "acc train:  0.8525969683459652\n",
      "              precision    recall  f1-score   support\n",
      "\n",
      "           0       0.56      0.64      0.60      1570\n",
      "           1       0.39      0.09      0.15       447\n",
      "           2       0.72      0.83      0.77      2164\n",
      "           3       0.50      0.20      0.28       305\n",
      "\n",
      "    accuracy                           0.65      4486\n",
      "   macro avg       0.54      0.44      0.45      4486\n",
      "weighted avg       0.62      0.65      0.62      4486\n",
      "\n"
     ]
    }
   ],
   "source": [
    "acc_train,cm=training(XGBClassifier(),X_train_tf, X_test_tf, y_train_tf, y_test_tf)\n",
    "print('acc train: ',acc_train)\n",
    "print(cm)"
   ]
  },
  {
   "cell_type": "markdown",
   "metadata": {
    "id": "iUCfgaojOocU"
   },
   "source": [
    "### NB"
   ]
  },
  {
   "cell_type": "code",
   "execution_count": null,
   "metadata": {
    "colab": {
     "base_uri": "https://localhost:8080/"
    },
    "executionInfo": {
     "elapsed": 2828,
     "status": "ok",
     "timestamp": 1678491201260,
     "user": {
      "displayName": "Beatriz Arcipreste",
      "userId": "15863202257538089731"
     },
     "user_tz": 0
    },
    "id": "haZi9Dhd3Ekh",
    "outputId": "ff8b5b4b-4a69-4b3b-c977-542a65f9e639"
   },
   "outputs": [
    {
     "name": "stdout",
     "output_type": "stream",
     "text": [
      "0.6516941596076683\n",
      "              precision    recall  f1-score   support\n",
      "\n",
      "           0       0.60      0.51      0.55      1570\n",
      "           1       1.00      0.00      0.00       447\n",
      "           2       0.63      0.92      0.75      2164\n",
      "           3       1.00      0.00      0.00       305\n",
      "\n",
      "    accuracy                           0.62      4486\n",
      "   macro avg       0.81      0.36      0.32      4486\n",
      "weighted avg       0.68      0.62      0.55      4486\n",
      "\n"
     ]
    }
   ],
   "source": [
    "classifier = MultinomialNB()\n",
    "# Train Decision Tree Classifer\n",
    "classifier.fit(X_train_tf, y_train_tf)\n",
    "\n",
    "# TRAIN\n",
    "#Predict the response for train dataset\n",
    "y_pred = classifier.predict(X_train_tf)\n",
    "\n",
    "# TEST\n",
    "#Predict the response for test dataset\n",
    "test_y_pred = classifier.predict(X_test_tf)\n",
    "\n",
    "print(accuracy_score(y_train_tf, y_pred))\n",
    "print(classification_report(y_test_tf, test_y_pred, zero_division=1))"
   ]
  },
  {
   "cell_type": "code",
   "execution_count": null,
   "metadata": {
    "colab": {
     "base_uri": "https://localhost:8080/"
    },
    "executionInfo": {
     "elapsed": 3869,
     "status": "ok",
     "timestamp": 1678463694945,
     "user": {
      "displayName": "Beatriz Arcipreste",
      "userId": "15863202257538089731"
     },
     "user_tz": 0
    },
    "id": "rEmmkViLS0qq",
    "outputId": "3a8b6586-6e1f-4853-e653-25b517816c1a"
   },
   "outputs": [
    {
     "name": "stdout",
     "output_type": "stream",
     "text": [
      "acc train:  0.6516941596076683\n",
      "              precision    recall  f1-score   support\n",
      "\n",
      "           0       0.60      0.51      0.55      1570\n",
      "           1       0.00      0.00      0.00       447\n",
      "           2       0.63      0.92      0.75      2164\n",
      "           3       0.00      0.00      0.00       305\n",
      "\n",
      "    accuracy                           0.62      4486\n",
      "   macro avg       0.31      0.36      0.32      4486\n",
      "weighted avg       0.51      0.62      0.55      4486\n",
      "\n"
     ]
    },
    {
     "name": "stderr",
     "output_type": "stream",
     "text": [
      "/usr/local/lib/python3.9/dist-packages/sklearn/metrics/_classification.py:1344: UndefinedMetricWarning: Precision and F-score are ill-defined and being set to 0.0 in labels with no predicted samples. Use `zero_division` parameter to control this behavior.\n",
      "  _warn_prf(average, modifier, msg_start, len(result))\n",
      "/usr/local/lib/python3.9/dist-packages/sklearn/metrics/_classification.py:1344: UndefinedMetricWarning: Precision and F-score are ill-defined and being set to 0.0 in labels with no predicted samples. Use `zero_division` parameter to control this behavior.\n",
      "  _warn_prf(average, modifier, msg_start, len(result))\n",
      "/usr/local/lib/python3.9/dist-packages/sklearn/metrics/_classification.py:1344: UndefinedMetricWarning: Precision and F-score are ill-defined and being set to 0.0 in labels with no predicted samples. Use `zero_division` parameter to control this behavior.\n",
      "  _warn_prf(average, modifier, msg_start, len(result))\n"
     ]
    }
   ],
   "source": [
    "acc_train,cm=training(MultinomialNB(),X_train_tf, X_test_tf, y_train_tf, y_test_tf)\n",
    "print('acc train: ',acc_train)\n",
    "print(cm)"
   ]
  },
  {
   "cell_type": "markdown",
   "metadata": {
    "id": "uLycpENDOuyc"
   },
   "source": [
    "### SVM"
   ]
  },
  {
   "cell_type": "code",
   "execution_count": null,
   "metadata": {
    "colab": {
     "base_uri": "https://localhost:8080/"
    },
    "executionInfo": {
     "elapsed": 10218619,
     "status": "ok",
     "timestamp": 1678490787776,
     "user": {
      "displayName": "Beatriz Arcipreste",
      "userId": "15863202257538089731"
     },
     "user_tz": 0
    },
    "id": "w8jwzyXRN4kV",
    "outputId": "494dca6e-7ab6-4367-a0de-4d45ef3f9298"
   },
   "outputs": [
    {
     "name": "stdout",
     "output_type": "stream",
     "text": [
      "acc train:  0.7467119928666964\n",
      "              precision    recall  f1-score   support\n",
      "\n",
      "           0       0.56      0.68      0.61      1570\n",
      "           1       0.34      0.03      0.05       447\n",
      "           2       0.73      0.84      0.78      2164\n",
      "           3       0.48      0.14      0.22       305\n",
      "\n",
      "    accuracy                           0.65      4486\n",
      "   macro avg       0.53      0.42      0.42      4486\n",
      "weighted avg       0.62      0.65      0.61      4486\n",
      "\n"
     ]
    }
   ],
   "source": [
    "acc_train,cm=training(SVC(kernel='linear'),X_train_tf, X_test_tf.toarray(), y_train_tf, y_test_tf)\n",
    "print('acc train: ',acc_train)\n",
    "print(cm)"
   ]
  },
  {
   "cell_type": "code",
   "execution_count": null,
   "metadata": {
    "colab": {
     "base_uri": "https://localhost:8080/"
    },
    "executionInfo": {
     "elapsed": 6540,
     "status": "ok",
     "timestamp": 1678480366154,
     "user": {
      "displayName": "Beatriz Arcipreste",
      "userId": "15863202257538089731"
     },
     "user_tz": 0
    },
    "id": "JdYJiA-8a0Qz",
    "outputId": "74ada8e7-2582-4b87-d2ce-459348ac0ccf"
   },
   "outputs": [
    {
     "name": "stdout",
     "output_type": "stream",
     "text": [
      "acc train:  0.8576683013820776\n",
      "              precision    recall  f1-score   support\n",
      "\n",
      "           0       0.57      0.61      0.59      1570\n",
      "           1       0.30      0.11      0.16       447\n",
      "           2       0.71      0.82      0.76      2164\n",
      "           3       0.38      0.19      0.25       305\n",
      "\n",
      "    accuracy                           0.63      4486\n",
      "   macro avg       0.49      0.43      0.44      4486\n",
      "weighted avg       0.60      0.63      0.61      4486\n",
      "\n"
     ]
    }
   ],
   "source": [
    "acc_train,cm=training(LinearSVC(),X_train_tf, X_test_tf, y_train_tf, y_test_tf)\n",
    "print('acc train: ',acc_train)\n",
    "print(cm)"
   ]
  },
  {
   "cell_type": "markdown",
   "metadata": {
    "id": "5-q_JoYsUrEk"
   },
   "source": [
    "## Unigrams and Max features 10.000"
   ]
  },
  {
   "cell_type": "code",
   "execution_count": null,
   "metadata": {
    "id": "MnigjPCCU21u"
   },
   "outputs": [],
   "source": [
    "# Convert a collection of raw documents to a matrix of TF-IDF features.\n",
    "vectorizer = TfidfVectorizer(ngram_range=(1,1), max_features=10000)\n",
    "X_train_tf = vectorizer.fit_transform(X_train)\n",
    "X_train_tf=X_train_tf.toarray()\n",
    "X_test_tf= vectorizer.transform(X_test)"
   ]
  },
  {
   "cell_type": "code",
   "execution_count": null,
   "metadata": {
    "colab": {
     "base_uri": "https://localhost:8080/"
    },
    "executionInfo": {
     "elapsed": 304244,
     "status": "ok",
     "timestamp": 1678494346588,
     "user": {
      "displayName": "Beatriz Arcipreste",
      "userId": "15863202257538089731"
     },
     "user_tz": 0
    },
    "id": "9JHwJmolU21w",
    "outputId": "fcf4bdfc-931a-4e53-b999-fa9ab0d0de93"
   },
   "outputs": [
    {
     "name": "stdout",
     "output_type": "stream",
     "text": [
      "acc train:  0.7047481052162282\n",
      "              precision    recall  f1-score   support\n",
      "\n",
      "           0       0.51      0.56      0.53      1570\n",
      "           1       0.22      0.11      0.14       447\n",
      "           2       0.67      0.74      0.71      2164\n",
      "           3       0.33      0.13      0.19       305\n",
      "\n",
      "    accuracy                           0.58      4486\n",
      "   macro avg       0.43      0.39      0.39      4486\n",
      "weighted avg       0.54      0.58      0.55      4486\n",
      "\n"
     ]
    }
   ],
   "source": [
    "acc_train,cm=training(KNeighborsClassifier(),X_train_tf, X_test_tf, y_train_tf, y_test_tf)\n",
    "print('acc train: ',acc_train)\n",
    "print(cm)"
   ]
  },
  {
   "cell_type": "code",
   "execution_count": null,
   "metadata": {
    "colab": {
     "base_uri": "https://localhost:8080/"
    },
    "executionInfo": {
     "elapsed": 58248,
     "status": "ok",
     "timestamp": 1678494442738,
     "user": {
      "displayName": "Beatriz Arcipreste",
      "userId": "15863202257538089731"
     },
     "user_tz": 0
    },
    "id": "Z2mhmJebU21w",
    "outputId": "b03e379b-7a60-4e3e-8885-966546e600bc"
   },
   "outputs": [
    {
     "name": "stdout",
     "output_type": "stream",
     "text": [
      "acc train:  0.9991640659830584\n",
      "              precision    recall  f1-score   support\n",
      "\n",
      "           0       0.46      0.49      0.48      1570\n",
      "           1       0.16      0.13      0.14       447\n",
      "           2       0.65      0.65      0.65      2164\n",
      "           3       0.21      0.20      0.20       305\n",
      "\n",
      "    accuracy                           0.51      4486\n",
      "   macro avg       0.37      0.37      0.37      4486\n",
      "weighted avg       0.50      0.51      0.51      4486\n",
      "\n"
     ]
    }
   ],
   "source": [
    "acc_train,cm=training(DecisionTreeClassifier(),X_train_tf, X_test_tf, y_train_tf, y_test_tf)\n",
    "print('acc train: ',acc_train)\n",
    "print(cm)"
   ]
  },
  {
   "cell_type": "code",
   "execution_count": null,
   "metadata": {
    "colab": {
     "base_uri": "https://localhost:8080/"
    },
    "executionInfo": {
     "elapsed": 72340,
     "status": "ok",
     "timestamp": 1678494515065,
     "user": {
      "displayName": "Beatriz Arcipreste",
      "userId": "15863202257538089731"
     },
     "user_tz": 0
    },
    "id": "wrBBiduAU21x",
    "outputId": "17043f5e-4995-4b5b-f998-da34804c2c9e"
   },
   "outputs": [
    {
     "name": "stdout",
     "output_type": "stream",
     "text": [
      "acc train:  0.9991640659830584\n",
      "              precision    recall  f1-score   support\n",
      "\n",
      "           0       0.58      0.61      0.59      1570\n",
      "           1       0.67      0.01      0.03       447\n",
      "           2       0.68      0.88      0.76      2164\n",
      "           3       0.71      0.02      0.03       305\n",
      "\n",
      "    accuracy                           0.64      4486\n",
      "   macro avg       0.66      0.38      0.35      4486\n",
      "weighted avg       0.64      0.64      0.58      4486\n",
      "\n"
     ]
    }
   ],
   "source": [
    "acc_train,cm=training(RandomForestClassifier(),X_train_tf, X_test_tf, y_train_tf, y_test_tf)\n",
    "print('acc train: ',acc_train)\n",
    "print(cm)"
   ]
  },
  {
   "cell_type": "code",
   "execution_count": null,
   "metadata": {
    "colab": {
     "base_uri": "https://localhost:8080/"
    },
    "executionInfo": {
     "elapsed": 1737394,
     "status": "ok",
     "timestamp": 1678497933502,
     "user": {
      "displayName": "Beatriz Arcipreste",
      "userId": "15863202257538089731"
     },
     "user_tz": 0
    },
    "id": "XzPdAFjXU21y",
    "outputId": "a5f68c22-0d06-4f93-9319-9d3c6b78d113"
   },
   "outputs": [
    {
     "name": "stdout",
     "output_type": "stream",
     "text": [
      "acc train:  0.6852429781542577\n",
      "              precision    recall  f1-score   support\n",
      "\n",
      "           0       0.56      0.63      0.60      1570\n",
      "           1       0.51      0.04      0.08       447\n",
      "           2       0.70      0.84      0.76      2164\n",
      "           3       0.53      0.14      0.22       305\n",
      "\n",
      "    accuracy                           0.64      4486\n",
      "   macro avg       0.58      0.41      0.41      4486\n",
      "weighted avg       0.62      0.64      0.60      4486\n",
      "\n"
     ]
    }
   ],
   "source": [
    "acc_train,cm=training(GradientBoostingClassifier(),X_train_tf, X_test_tf, y_train_tf, y_test_tf)\n",
    "print('acc train: ',acc_train)\n",
    "print(cm)"
   ]
  },
  {
   "cell_type": "code",
   "execution_count": null,
   "metadata": {
    "colab": {
     "base_uri": "https://localhost:8080/"
    },
    "executionInfo": {
     "elapsed": 750828,
     "status": "ok",
     "timestamp": 1678501025258,
     "user": {
      "displayName": "Beatriz Arcipreste",
      "userId": "15863202257538089731"
     },
     "user_tz": 0
    },
    "id": "bxhgzUT9U21y",
    "outputId": "481119c3-af92-499f-a41b-9dcb42333cd0"
   },
   "outputs": [
    {
     "name": "stdout",
     "output_type": "stream",
     "text": [
      "acc train:  0.8514823896567097\n",
      "              precision    recall  f1-score   support\n",
      "\n",
      "           0       0.57      0.64      0.60      1570\n",
      "           1       0.36      0.09      0.14       447\n",
      "           2       0.72      0.83      0.77      2164\n",
      "           3       0.49      0.17      0.25       305\n",
      "\n",
      "    accuracy                           0.65      4486\n",
      "   macro avg       0.53      0.43      0.44      4486\n",
      "weighted avg       0.62      0.65      0.61      4486\n",
      "\n"
     ]
    }
   ],
   "source": [
    "acc_train,cm=training(XGBClassifier(),X_train_tf, X_test_tf, y_train_tf, y_test_tf)\n",
    "print('acc train: ',acc_train)\n",
    "print(cm)"
   ]
  },
  {
   "cell_type": "code",
   "execution_count": null,
   "metadata": {
    "colab": {
     "base_uri": "https://localhost:8080/"
    },
    "executionInfo": {
     "elapsed": 2021,
     "status": "ok",
     "timestamp": 1678503818977,
     "user": {
      "displayName": "Beatriz Arcipreste",
      "userId": "15863202257538089731"
     },
     "user_tz": 0
    },
    "id": "DHfJ44kJU21z",
    "outputId": "3085d5e1-c7c9-4218-c028-be39a1a8002a"
   },
   "outputs": [
    {
     "name": "stdout",
     "output_type": "stream",
     "text": [
      "acc train:  0.6525858225590727\n",
      "              precision    recall  f1-score   support\n",
      "\n",
      "           0       0.59      0.57      0.58      1570\n",
      "           1       0.00      0.00      0.00       447\n",
      "           2       0.65      0.90      0.76      2164\n",
      "           3       0.00      0.00      0.00       305\n",
      "\n",
      "    accuracy                           0.63      4486\n",
      "   macro avg       0.31      0.37      0.33      4486\n",
      "weighted avg       0.52      0.63      0.57      4486\n",
      "\n"
     ]
    },
    {
     "name": "stderr",
     "output_type": "stream",
     "text": [
      "/usr/local/lib/python3.9/dist-packages/sklearn/metrics/_classification.py:1344: UndefinedMetricWarning: Precision and F-score are ill-defined and being set to 0.0 in labels with no predicted samples. Use `zero_division` parameter to control this behavior.\n",
      "  _warn_prf(average, modifier, msg_start, len(result))\n",
      "/usr/local/lib/python3.9/dist-packages/sklearn/metrics/_classification.py:1344: UndefinedMetricWarning: Precision and F-score are ill-defined and being set to 0.0 in labels with no predicted samples. Use `zero_division` parameter to control this behavior.\n",
      "  _warn_prf(average, modifier, msg_start, len(result))\n",
      "/usr/local/lib/python3.9/dist-packages/sklearn/metrics/_classification.py:1344: UndefinedMetricWarning: Precision and F-score are ill-defined and being set to 0.0 in labels with no predicted samples. Use `zero_division` parameter to control this behavior.\n",
      "  _warn_prf(average, modifier, msg_start, len(result))\n"
     ]
    }
   ],
   "source": [
    "acc_train,cm=training(MultinomialNB(),X_train_tf, X_test_tf, y_train_tf, y_test_tf)\n",
    "print('acc train: ',acc_train)\n",
    "print(cm)"
   ]
  },
  {
   "cell_type": "code",
   "execution_count": null,
   "metadata": {
    "colab": {
     "base_uri": "https://localhost:8080/"
    },
    "executionInfo": {
     "elapsed": 3698,
     "status": "ok",
     "timestamp": 1678503828435,
     "user": {
      "displayName": "Beatriz Arcipreste",
      "userId": "15863202257538089731"
     },
     "user_tz": 0
    },
    "id": "M4N_z6qlU21z",
    "outputId": "818bb30a-e14d-4df5-987e-79d0a317dd74"
   },
   "outputs": [
    {
     "name": "stdout",
     "output_type": "stream",
     "text": [
      "acc train:  0.8260142666072224\n",
      "              precision    recall  f1-score   support\n",
      "\n",
      "           0       0.57      0.61      0.59      1570\n",
      "           1       0.30      0.11      0.16       447\n",
      "           2       0.71      0.82      0.76      2164\n",
      "           3       0.37      0.19      0.25       305\n",
      "\n",
      "    accuracy                           0.63      4486\n",
      "   macro avg       0.49      0.43      0.44      4486\n",
      "weighted avg       0.60      0.63      0.61      4486\n",
      "\n"
     ]
    }
   ],
   "source": [
    "acc_train,cm=training(LinearSVC(),X_train_tf, X_test_tf, y_train_tf, y_test_tf)\n",
    "print('acc train: ',acc_train)\n",
    "print(cm)"
   ]
  },
  {
   "cell_type": "markdown",
   "metadata": {
    "id": "BWHHrdSHHvFX"
   },
   "source": [
    "## Unigrams and Max features 5.000"
   ]
  },
  {
   "cell_type": "code",
   "execution_count": null,
   "metadata": {
    "id": "MmRVcjkiH6dX"
   },
   "outputs": [],
   "source": [
    "# Convert a collection of raw documents to a matrix of TF-IDF features.\n",
    "vectorizer = TfidfVectorizer(ngram_range=(1,1), max_features=5000)\n",
    "X_train_tf = vectorizer.fit_transform(X_train)\n",
    "X_train_tf=X_train_tf.toarray()\n",
    "X_test_tf= vectorizer.transform(X_test)"
   ]
  },
  {
   "cell_type": "code",
   "execution_count": null,
   "metadata": {
    "colab": {
     "base_uri": "https://localhost:8080/"
    },
    "executionInfo": {
     "elapsed": 137329,
     "status": "ok",
     "timestamp": 1678545191295,
     "user": {
      "displayName": "Beatriz Arcipreste",
      "userId": "15863202257538089731"
     },
     "user_tz": 0
    },
    "id": "69iwotRqH6dY",
    "outputId": "ccaf0ab9-906c-4043-b285-35b7bf0edf95"
   },
   "outputs": [
    {
     "name": "stdout",
     "output_type": "stream",
     "text": [
      "acc train:  0.7027418635755684\n",
      "              precision    recall  f1-score   support\n",
      "\n",
      "           0       0.51      0.57      0.53      1570\n",
      "           1       0.24      0.11      0.15       447\n",
      "           2       0.67      0.74      0.70      2164\n",
      "           3       0.33      0.14      0.19       305\n",
      "\n",
      "    accuracy                           0.58      4486\n",
      "   macro avg       0.44      0.39      0.40      4486\n",
      "weighted avg       0.55      0.58      0.56      4486\n",
      "\n"
     ]
    }
   ],
   "source": [
    "acc_train,cm=training(KNeighborsClassifier(),X_train_tf, X_test_tf, y_train_tf, y_test_tf)\n",
    "print('acc train: ',acc_train)\n",
    "print(cm)"
   ]
  },
  {
   "cell_type": "code",
   "execution_count": null,
   "metadata": {
    "colab": {
     "base_uri": "https://localhost:8080/"
    },
    "executionInfo": {
     "elapsed": 17951,
     "status": "ok",
     "timestamp": 1678545209242,
     "user": {
      "displayName": "Beatriz Arcipreste",
      "userId": "15863202257538089731"
     },
     "user_tz": 0
    },
    "id": "cvwa39EZH6da",
    "outputId": "747d4ae4-4ce3-4e34-b70d-4f0f72678a16"
   },
   "outputs": [
    {
     "name": "stdout",
     "output_type": "stream",
     "text": [
      "acc train:  0.9991640659830584\n",
      "              precision    recall  f1-score   support\n",
      "\n",
      "           0       0.46      0.50      0.48      1570\n",
      "           1       0.18      0.16      0.17       447\n",
      "           2       0.65      0.64      0.64      2164\n",
      "           3       0.19      0.15      0.17       305\n",
      "\n",
      "    accuracy                           0.51      4486\n",
      "   macro avg       0.37      0.36      0.37      4486\n",
      "weighted avg       0.50      0.51      0.51      4486\n",
      "\n"
     ]
    }
   ],
   "source": [
    "acc_train,cm=training(DecisionTreeClassifier(),X_train_tf, X_test_tf, y_train_tf, y_test_tf)\n",
    "print('acc train: ',acc_train)\n",
    "print(cm)"
   ]
  },
  {
   "cell_type": "code",
   "execution_count": null,
   "metadata": {
    "colab": {
     "base_uri": "https://localhost:8080/"
    },
    "executionInfo": {
     "elapsed": 34637,
     "status": "ok",
     "timestamp": 1678545243865,
     "user": {
      "displayName": "Beatriz Arcipreste",
      "userId": "15863202257538089731"
     },
     "user_tz": 0
    },
    "id": "vxbuC0lJH6da",
    "outputId": "5d03960c-2b27-49a2-883a-3bf20c828ee8"
   },
   "outputs": [
    {
     "name": "stdout",
     "output_type": "stream",
     "text": [
      "acc train:  0.9991640659830584\n",
      "              precision    recall  f1-score   support\n",
      "\n",
      "           0       0.58      0.62      0.60      1570\n",
      "           1       0.50      0.01      0.02       447\n",
      "           2       0.69      0.89      0.77      2164\n",
      "           3       0.67      0.02      0.04       305\n",
      "\n",
      "    accuracy                           0.65      4486\n",
      "   macro avg       0.61      0.38      0.36      4486\n",
      "weighted avg       0.63      0.65      0.59      4486\n",
      "\n"
     ]
    }
   ],
   "source": [
    "acc_train,cm=training(RandomForestClassifier(),X_train_tf, X_test_tf, y_train_tf, y_test_tf)\n",
    "print('acc train: ',acc_train)\n",
    "print(cm)"
   ]
  },
  {
   "cell_type": "code",
   "execution_count": null,
   "metadata": {
    "colab": {
     "base_uri": "https://localhost:8080/"
    },
    "executionInfo": {
     "elapsed": 1478001,
     "status": "ok",
     "timestamp": 1678546721851,
     "user": {
      "displayName": "Beatriz Arcipreste",
      "userId": "15863202257538089731"
     },
     "user_tz": 0
    },
    "id": "VTLoXgr6H6db",
    "outputId": "8a70b2ae-b42b-4c02-a7a4-30465daa39b9"
   },
   "outputs": [
    {
     "name": "stdout",
     "output_type": "stream",
     "text": [
      "acc train:  0.6868591172536781\n",
      "              precision    recall  f1-score   support\n",
      "\n",
      "           0       0.56      0.63      0.59      1570\n",
      "           1       0.50      0.04      0.07       447\n",
      "           2       0.70      0.84      0.77      2164\n",
      "           3       0.47      0.11      0.18       305\n",
      "\n",
      "    accuracy                           0.64      4486\n",
      "   macro avg       0.56      0.41      0.40      4486\n",
      "weighted avg       0.62      0.64      0.60      4486\n",
      "\n"
     ]
    }
   ],
   "source": [
    "acc_train,cm=training(GradientBoostingClassifier(),X_train_tf, X_test_tf, y_train_tf, y_test_tf)\n",
    "print('acc train: ',acc_train)\n",
    "print(cm)"
   ]
  },
  {
   "cell_type": "code",
   "execution_count": null,
   "metadata": {
    "colab": {
     "base_uri": "https://localhost:8080/"
    },
    "executionInfo": {
     "elapsed": 1593239,
     "status": "ok",
     "timestamp": 1678548315076,
     "user": {
      "displayName": "Beatriz Arcipreste",
      "userId": "15863202257538089731"
     },
     "user_tz": 0
    },
    "id": "5Az3-lrsH6dc",
    "outputId": "fae1c6ff-805e-4229-e272-8301c0ab5198"
   },
   "outputs": [
    {
     "name": "stdout",
     "output_type": "stream",
     "text": [
      "acc train:  0.854881854658939\n",
      "              precision    recall  f1-score   support\n",
      "\n",
      "           0       0.55      0.63      0.59      1570\n",
      "           1       0.35      0.07      0.12       447\n",
      "           2       0.72      0.83      0.77      2164\n",
      "           3       0.44      0.17      0.24       305\n",
      "\n",
      "    accuracy                           0.64      4486\n",
      "   macro avg       0.52      0.42      0.43      4486\n",
      "weighted avg       0.60      0.64      0.60      4486\n",
      "\n"
     ]
    }
   ],
   "source": [
    "acc_train,cm=training(XGBClassifier(),X_train_tf, X_test_tf, y_train_tf, y_test_tf)\n",
    "print('acc train: ',acc_train)\n",
    "print(cm)"
   ]
  },
  {
   "cell_type": "code",
   "execution_count": null,
   "metadata": {
    "colab": {
     "base_uri": "https://localhost:8080/"
    },
    "executionInfo": {
     "elapsed": 1144,
     "status": "ok",
     "timestamp": 1678548316216,
     "user": {
      "displayName": "Beatriz Arcipreste",
      "userId": "15863202257538089731"
     },
     "user_tz": 0
    },
    "id": "ojZ8DxYVH6dc",
    "outputId": "6cea2c13-5a68-49bb-a6ab-54bb49d4d4a0"
   },
   "outputs": [
    {
     "name": "stdout",
     "output_type": "stream",
     "text": [
      "acc train:  0.6486290682122158\n",
      "              precision    recall  f1-score   support\n",
      "\n",
      "           0       0.58      0.59      0.59      1570\n",
      "           1       0.00      0.00      0.00       447\n",
      "           2       0.66      0.89      0.76      2164\n",
      "           3       0.67      0.01      0.01       305\n",
      "\n",
      "    accuracy                           0.63      4486\n",
      "   macro avg       0.48      0.37      0.34      4486\n",
      "weighted avg       0.57      0.63      0.57      4486\n",
      "\n"
     ]
    }
   ],
   "source": [
    "acc_train,cm=training(MultinomialNB(),X_train_tf, X_test_tf, y_train_tf, y_test_tf)\n",
    "print('acc train: ',acc_train)\n",
    "print(cm)"
   ]
  },
  {
   "cell_type": "code",
   "execution_count": null,
   "metadata": {
    "colab": {
     "base_uri": "https://localhost:8080/"
    },
    "executionInfo": {
     "elapsed": 1097,
     "status": "ok",
     "timestamp": 1678548317308,
     "user": {
      "displayName": "Beatriz Arcipreste",
      "userId": "15863202257538089731"
     },
     "user_tz": 0
    },
    "id": "csFqqyGlH6dd",
    "outputId": "a88982dd-73a0-4ddd-c283-cf431d37b1e4"
   },
   "outputs": [
    {
     "name": "stdout",
     "output_type": "stream",
     "text": [
      "acc train:  0.7832144449398127\n",
      "              precision    recall  f1-score   support\n",
      "\n",
      "           0       0.57      0.61      0.59      1570\n",
      "           1       0.28      0.10      0.15       447\n",
      "           2       0.71      0.81      0.76      2164\n",
      "           3       0.38      0.20      0.26       305\n",
      "\n",
      "    accuracy                           0.63      4486\n",
      "   macro avg       0.49      0.43      0.44      4486\n",
      "weighted avg       0.59      0.63      0.60      4486\n",
      "\n"
     ]
    }
   ],
   "source": [
    "acc_train,cm=training(LinearSVC(),X_train_tf, X_test_tf, y_train_tf, y_test_tf)\n",
    "print('acc train: ',acc_train)\n",
    "print(cm)"
   ]
  },
  {
   "cell_type": "markdown",
   "metadata": {
    "id": "76P9DqQBUu5y"
   },
   "source": [
    "## Unigrams and Bigrams and Max features"
   ]
  },
  {
   "cell_type": "code",
   "execution_count": null,
   "metadata": {
    "id": "eSp2tsj2U78D"
   },
   "outputs": [],
   "source": [
    "# Convert a collection of raw documents to a matrix of TF-IDF features.\n",
    "vectorizer = TfidfVectorizer(ngram_range=(1,2), max_features=5000)\n",
    "X_train_tf = vectorizer.fit_transform(X_train)\n",
    "X_train_tf=X_train_tf.toarray()\n",
    "X_test_tf= vectorizer.transform(X_test)"
   ]
  },
  {
   "cell_type": "code",
   "execution_count": null,
   "metadata": {
    "colab": {
     "base_uri": "https://localhost:8080/"
    },
    "executionInfo": {
     "elapsed": 124965,
     "status": "ok",
     "timestamp": 1678548523816,
     "user": {
      "displayName": "Beatriz Arcipreste",
      "userId": "15863202257538089731"
     },
     "user_tz": 0
    },
    "id": "_jxlhRr6U78E",
    "outputId": "c657b3a9-a274-48e9-f81c-224bc82f136e"
   },
   "outputs": [
    {
     "name": "stdout",
     "output_type": "stream",
     "text": [
      "acc train:  0.6998439589835043\n",
      "              precision    recall  f1-score   support\n",
      "\n",
      "           0       0.51      0.61      0.55      1570\n",
      "           1       0.24      0.12      0.16       447\n",
      "           2       0.69      0.73      0.71      2164\n",
      "           3       0.30      0.09      0.14       305\n",
      "\n",
      "    accuracy                           0.58      4486\n",
      "   macro avg       0.43      0.39      0.39      4486\n",
      "weighted avg       0.55      0.58      0.56      4486\n",
      "\n"
     ]
    }
   ],
   "source": [
    "acc_train,cm=training(KNeighborsClassifier(),X_train_tf, X_test_tf, y_train_tf, y_test_tf)\n",
    "print('acc train: ',acc_train)\n",
    "print(cm)"
   ]
  },
  {
   "cell_type": "code",
   "execution_count": null,
   "metadata": {
    "colab": {
     "base_uri": "https://localhost:8080/"
    },
    "executionInfo": {
     "elapsed": 24691,
     "status": "ok",
     "timestamp": 1678548548493,
     "user": {
      "displayName": "Beatriz Arcipreste",
      "userId": "15863202257538089731"
     },
     "user_tz": 0
    },
    "id": "f_8YZ4L4U78E",
    "outputId": "6d086914-6cff-4159-fe51-21f42f2e6659"
   },
   "outputs": [
    {
     "name": "stdout",
     "output_type": "stream",
     "text": [
      "acc train:  0.9990526081141329\n",
      "              precision    recall  f1-score   support\n",
      "\n",
      "           0       0.46      0.48      0.47      1570\n",
      "           1       0.16      0.14      0.15       447\n",
      "           2       0.65      0.67      0.66      2164\n",
      "           3       0.21      0.17      0.19       305\n",
      "\n",
      "    accuracy                           0.51      4486\n",
      "   macro avg       0.37      0.36      0.37      4486\n",
      "weighted avg       0.51      0.51      0.51      4486\n",
      "\n"
     ]
    }
   ],
   "source": [
    "acc_train,cm=training(DecisionTreeClassifier(),X_train_tf, X_test_tf, y_train_tf, y_test_tf)\n",
    "print('acc train: ',acc_train)\n",
    "print(cm)"
   ]
  },
  {
   "cell_type": "code",
   "execution_count": null,
   "metadata": {
    "colab": {
     "base_uri": "https://localhost:8080/"
    },
    "executionInfo": {
     "elapsed": 36908,
     "status": "ok",
     "timestamp": 1678548585372,
     "user": {
      "displayName": "Beatriz Arcipreste",
      "userId": "15863202257538089731"
     },
     "user_tz": 0
    },
    "id": "_OE5Z94jU78E",
    "outputId": "867c39ae-8332-4ec4-8f89-f3e8cea0a43a"
   },
   "outputs": [
    {
     "name": "stdout",
     "output_type": "stream",
     "text": [
      "acc train:  0.9990526081141329\n",
      "              precision    recall  f1-score   support\n",
      "\n",
      "           0       0.57      0.62      0.59      1570\n",
      "           1       0.50      0.01      0.02       447\n",
      "           2       0.69      0.87      0.77      2164\n",
      "           3       0.64      0.02      0.04       305\n",
      "\n",
      "    accuracy                           0.64      4486\n",
      "   macro avg       0.60      0.38      0.36      4486\n",
      "weighted avg       0.62      0.64      0.58      4486\n",
      "\n"
     ]
    }
   ],
   "source": [
    "acc_train,cm=training(RandomForestClassifier(),X_train_tf, X_test_tf, y_train_tf, y_test_tf)\n",
    "print('acc train: ',acc_train)\n",
    "print(cm)"
   ]
  },
  {
   "cell_type": "code",
   "execution_count": null,
   "metadata": {
    "colab": {
     "base_uri": "https://localhost:8080/"
    },
    "executionInfo": {
     "elapsed": 1520045,
     "status": "ok",
     "timestamp": 1678550105402,
     "user": {
      "displayName": "Beatriz Arcipreste",
      "userId": "15863202257538089731"
     },
     "user_tz": 0
    },
    "id": "1J6-RAS_U78F",
    "outputId": "e91c9a0c-c54a-432d-b7ae-a05e0a68e2a0"
   },
   "outputs": [
    {
     "name": "stdout",
     "output_type": "stream",
     "text": [
      "acc train:  0.6914288898796255\n",
      "              precision    recall  f1-score   support\n",
      "\n",
      "           0       0.57      0.63      0.59      1570\n",
      "           1       0.42      0.04      0.07       447\n",
      "           2       0.70      0.85      0.77      2164\n",
      "           3       0.44      0.12      0.19       305\n",
      "\n",
      "    accuracy                           0.64      4486\n",
      "   macro avg       0.53      0.41      0.41      4486\n",
      "weighted avg       0.61      0.64      0.60      4486\n",
      "\n"
     ]
    }
   ],
   "source": [
    "acc_train,cm=training(GradientBoostingClassifier(),X_train_tf, X_test_tf, y_train_tf, y_test_tf)\n",
    "print('acc train: ',acc_train)\n",
    "print(cm)"
   ]
  },
  {
   "cell_type": "code",
   "execution_count": null,
   "metadata": {
    "colab": {
     "base_uri": "https://localhost:8080/"
    },
    "executionInfo": {
     "elapsed": 1638137,
     "status": "ok",
     "timestamp": 1678551743511,
     "user": {
      "displayName": "Beatriz Arcipreste",
      "userId": "15863202257538089731"
     },
     "user_tz": 0
    },
    "id": "4CZTgJ8TU78F",
    "outputId": "819b9100-a74c-48b6-803b-0e1c1b4d1d90"
   },
   "outputs": [
    {
     "name": "stdout",
     "output_type": "stream",
     "text": [
      "acc train:  0.8622938029424877\n",
      "              precision    recall  f1-score   support\n",
      "\n",
      "           0       0.57      0.65      0.61      1570\n",
      "           1       0.33      0.07      0.11       447\n",
      "           2       0.72      0.84      0.78      2164\n",
      "           3       0.45      0.17      0.24       305\n",
      "\n",
      "    accuracy                           0.65      4486\n",
      "   macro avg       0.52      0.43      0.44      4486\n",
      "weighted avg       0.61      0.65      0.62      4486\n",
      "\n"
     ]
    }
   ],
   "source": [
    "acc_train,cm=training(XGBClassifier(),X_train_tf, X_test_tf, y_train_tf, y_test_tf)\n",
    "print('acc train: ',acc_train)\n",
    "print(cm)"
   ]
  },
  {
   "cell_type": "code",
   "execution_count": null,
   "metadata": {
    "colab": {
     "base_uri": "https://localhost:8080/"
    },
    "executionInfo": {
     "elapsed": 401,
     "status": "ok",
     "timestamp": 1678551743881,
     "user": {
      "displayName": "Beatriz Arcipreste",
      "userId": "15863202257538089731"
     },
     "user_tz": 0
    },
    "id": "vmJyJparU78F",
    "outputId": "862cf621-e7d0-4e20-ec44-f6ca906cca20"
   },
   "outputs": [
    {
     "name": "stdout",
     "output_type": "stream",
     "text": [
      "acc train:  0.6524186357556844\n",
      "              precision    recall  f1-score   support\n",
      "\n",
      "           0       0.57      0.63      0.60      1570\n",
      "           1       0.33      0.00      0.01       447\n",
      "           2       0.69      0.87      0.77      2164\n",
      "           3       0.62      0.03      0.06       305\n",
      "\n",
      "    accuracy                           0.64      4486\n",
      "   macro avg       0.55      0.38      0.36      4486\n",
      "weighted avg       0.61      0.64      0.59      4486\n",
      "\n"
     ]
    }
   ],
   "source": [
    "acc_train,cm=training(MultinomialNB(),X_train_tf, X_test_tf, y_train_tf, y_test_tf)\n",
    "print('acc train: ',acc_train)\n",
    "print(cm)"
   ]
  },
  {
   "cell_type": "code",
   "execution_count": null,
   "metadata": {
    "colab": {
     "base_uri": "https://localhost:8080/"
    },
    "executionInfo": {
     "elapsed": 1956,
     "status": "ok",
     "timestamp": 1678551745836,
     "user": {
      "displayName": "Beatriz Arcipreste",
      "userId": "15863202257538089731"
     },
     "user_tz": 0
    },
    "id": "V-xHIv67U78G",
    "outputId": "53758fdc-780a-4643-a423-baebd1a0218b"
   },
   "outputs": [
    {
     "name": "stdout",
     "output_type": "stream",
     "text": [
      "acc train:  0.802329469460544\n",
      "              precision    recall  f1-score   support\n",
      "\n",
      "           0       0.58      0.59      0.59      1570\n",
      "           1       0.32      0.15      0.20       447\n",
      "           2       0.71      0.82      0.76      2164\n",
      "           3       0.37      0.21      0.27       305\n",
      "\n",
      "    accuracy                           0.63      4486\n",
      "   macro avg       0.50      0.44      0.46      4486\n",
      "weighted avg       0.60      0.63      0.61      4486\n",
      "\n"
     ]
    }
   ],
   "source": [
    "acc_train,cm=training(LinearSVC(),X_train_tf, X_test_tf, y_train_tf, y_test_tf)\n",
    "print('acc train: ',acc_train)\n",
    "print(cm)"
   ]
  },
  {
   "cell_type": "markdown",
   "metadata": {
    "id": "tOSIcSLIVTNo"
   },
   "source": [
    "# Binary Classification and Holdout CV"
   ]
  },
  {
   "cell_type": "code",
   "execution_count": 5,
   "metadata": {
    "executionInfo": {
     "elapsed": 2080,
     "status": "ok",
     "timestamp": 1678979813899,
     "user": {
      "displayName": "Beatriz Arcipreste",
      "userId": "15863202257538089731"
     },
     "user_tz": 0
    },
    "id": "l9hvqjTPWL6z"
   },
   "outputs": [],
   "source": [
    "df = pd.read_csv('/content/drive/MyDrive/MS DATA SCIENCE /TESE /data_processed.csv')"
   ]
  },
  {
   "cell_type": "code",
   "execution_count": 6,
   "metadata": {
    "executionInfo": {
     "elapsed": 48,
     "status": "ok",
     "timestamp": 1678979813904,
     "user": {
      "displayName": "Beatriz Arcipreste",
      "userId": "15863202257538089731"
     },
     "user_tz": 0
    },
    "id": "lPS3FJxWWAz7"
   },
   "outputs": [],
   "source": [
    "#convert reason to numbers\n",
    "reason_dict ={'Mau Serviço Prestado': 0, 'Condições de entrega': 0, 'Atraso de entrega': 1, \n",
    "               'Enganos': 0}\n",
    "\n",
    "df['reason'].replace(reason_dict, inplace=True)"
   ]
  },
  {
   "cell_type": "code",
   "execution_count": 7,
   "metadata": {
    "colab": {
     "base_uri": "https://localhost:8080/"
    },
    "executionInfo": {
     "elapsed": 49,
     "status": "ok",
     "timestamp": 1678979813908,
     "user": {
      "displayName": "Beatriz Arcipreste",
      "userId": "15863202257538089731"
     },
     "user_tz": 0
    },
    "id": "VXi5OGzgWA6M",
    "outputId": "22b7fed3-cd3e-4f37-8037-ab48955fbe2f"
   },
   "outputs": [
    {
     "data": {
      "text/plain": [
       "array([0, 1])"
      ]
     },
     "execution_count": 7,
     "metadata": {},
     "output_type": "execute_result"
    }
   ],
   "source": [
    "df['reason'].unique()"
   ]
  },
  {
   "cell_type": "code",
   "execution_count": null,
   "metadata": {
    "colab": {
     "base_uri": "https://localhost:8080/"
    },
    "executionInfo": {
     "elapsed": 16,
     "status": "ok",
     "timestamp": 1678740096009,
     "user": {
      "displayName": "Beatriz Arcipreste",
      "userId": "15863202257538089731"
     },
     "user_tz": 0
    },
    "id": "4u_mQiH3WpOm",
    "outputId": "d98c3741-90f9-4929-b378-58713ea81b19"
   },
   "outputs": [
    {
     "data": {
      "text/plain": [
       "0    11702\n",
       "1    10728\n",
       "Name: reason, dtype: int64"
      ]
     },
     "execution_count": 64,
     "metadata": {},
     "output_type": "execute_result"
    }
   ],
   "source": [
    "df['reason'].value_counts()"
   ]
  },
  {
   "cell_type": "code",
   "execution_count": 8,
   "metadata": {
    "executionInfo": {
     "elapsed": 36,
     "status": "ok",
     "timestamp": 1678979813914,
     "user": {
      "displayName": "Beatriz Arcipreste",
      "userId": "15863202257538089731"
     },
     "user_tz": 0
    },
    "id": "Rz4GsocrWHn6"
   },
   "outputs": [],
   "source": [
    "X = df['narrative_tfidf']\n",
    "y = df['reason']"
   ]
  },
  {
   "cell_type": "code",
   "execution_count": null,
   "metadata": {
    "colab": {
     "base_uri": "https://localhost:8080/"
    },
    "executionInfo": {
     "elapsed": 448,
     "status": "ok",
     "timestamp": 1678740117919,
     "user": {
      "displayName": "Beatriz Arcipreste",
      "userId": "15863202257538089731"
     },
     "user_tz": 0
    },
    "id": "KK_QcQ9QtQGA",
    "outputId": "5e496bdd-73ff-430c-a529-6d8554b4a8ec"
   },
   "outputs": [
    {
     "name": "stdout",
     "output_type": "stream",
     "text": [
      "0 0.5217119928666963\n",
      "1 0.4782880071333036\n"
     ]
    }
   ],
   "source": [
    "for item in Counter(y).items():\n",
    "  print(item[0], item[1]/len(y))"
   ]
  },
  {
   "cell_type": "markdown",
   "metadata": {
    "id": "NDxCoTQ4vCUv"
   },
   "source": [
    "# Train test split"
   ]
  },
  {
   "cell_type": "code",
   "execution_count": 9,
   "metadata": {
    "executionInfo": {
     "elapsed": 362,
     "status": "ok",
     "timestamp": 1678979815096,
     "user": {
      "displayName": "Beatriz Arcipreste",
      "userId": "15863202257538089731"
     },
     "user_tz": 0
    },
    "id": "fJo15hBob9s9"
   },
   "outputs": [],
   "source": [
    "# we should always split before transforming the data\n",
    "X_train, X_test, y_train_tf, y_test_tf = train_test_split(X, y.values, test_size=0.20, random_state=200)"
   ]
  },
  {
   "cell_type": "code",
   "execution_count": null,
   "metadata": {
    "colab": {
     "base_uri": "https://localhost:8080/"
    },
    "executionInfo": {
     "elapsed": 8,
     "status": "ok",
     "timestamp": 1678739865399,
     "user": {
      "displayName": "Beatriz Arcipreste",
      "userId": "15863202257538089731"
     },
     "user_tz": 0
    },
    "id": "lIitp8c-sRSm",
    "outputId": "e7f56b07-cba8-4aea-dab4-754c55037a07"
   },
   "outputs": [
    {
     "name": "stdout",
     "output_type": "stream",
     "text": [
      "0 0.5227374052608114\n",
      "1 0.4772625947391886\n"
     ]
    }
   ],
   "source": [
    "# print(Counter(y_train_tf))\n",
    "for item in Counter(y_train_tf).items():\n",
    "  print(item[0], item[1]/len(y_train_tf))"
   ]
  },
  {
   "cell_type": "code",
   "execution_count": null,
   "metadata": {
    "colab": {
     "base_uri": "https://localhost:8080/"
    },
    "executionInfo": {
     "elapsed": 11,
     "status": "ok",
     "timestamp": 1678739871041,
     "user": {
      "displayName": "Beatriz Arcipreste",
      "userId": "15863202257538089731"
     },
     "user_tz": 0
    },
    "id": "TQVOmo13sRSm",
    "outputId": "f85db962-9536-4820-a678-bf3d95c74a87"
   },
   "outputs": [
    {
     "name": "stdout",
     "output_type": "stream",
     "text": [
      "0 0.5176103432902363\n",
      "1 0.4823896567097637\n"
     ]
    }
   ],
   "source": [
    "# print(Counter(y_train_tf))\n",
    "for item in Counter(y_test_tf).items():\n",
    "  print(item[0], item[1]/len(y_test_tf))"
   ]
  },
  {
   "cell_type": "markdown",
   "metadata": {
    "id": "fLN9nQGnVmzo"
   },
   "source": [
    "## Unigrams only and max features"
   ]
  },
  {
   "cell_type": "code",
   "execution_count": 10,
   "metadata": {
    "executionInfo": {
     "elapsed": 5987,
     "status": "ok",
     "timestamp": 1678979577988,
     "user": {
      "displayName": "Beatriz Arcipreste",
      "userId": "15863202257538089731"
     },
     "user_tz": 0
    },
    "id": "AKI6vUqDV2bN"
   },
   "outputs": [],
   "source": [
    "# Convert a collection of raw documents to a matrix of TF-IDF features.\n",
    "vectorizer = TfidfVectorizer(ngram_range=(1,1), max_features=5000)\n",
    "X_train_tf = vectorizer.fit_transform(X_train)\n",
    "X_train_tf=X_train_tf.toarray()\n",
    "X_test_tf= vectorizer.transform(X_test)"
   ]
  },
  {
   "cell_type": "code",
   "execution_count": null,
   "metadata": {
    "id": "M-YXKAxXV2bO"
   },
   "outputs": [],
   "source": [
    "acc_train,cm,cf=training(KNeighborsClassifier(),X_train_tf, X_test_tf, y_train_tf, y_test_tf)\n",
    "print('acc train: ',acc_train)\n",
    "print(cm)\n",
    "print(cf)"
   ]
  },
  {
   "cell_type": "code",
   "execution_count": null,
   "metadata": {
    "colab": {
     "base_uri": "https://localhost:8080/"
    },
    "executionInfo": {
     "elapsed": 26168,
     "status": "ok",
     "timestamp": 1678552183516,
     "user": {
      "displayName": "Beatriz Arcipreste",
      "userId": "15863202257538089731"
     },
     "user_tz": 0
    },
    "id": "qjaSaxxZV2bP",
    "outputId": "f1e5a315-3587-4bca-dd24-464652ba8e27"
   },
   "outputs": [
    {
     "name": "stdout",
     "output_type": "stream",
     "text": [
      "acc train:  0.9992755238519839\n",
      "              precision    recall  f1-score   support\n",
      "\n",
      "           0       0.67      0.67      0.67      2322\n",
      "           1       0.64      0.64      0.64      2164\n",
      "\n",
      "    accuracy                           0.66      4486\n",
      "   macro avg       0.66      0.66      0.66      4486\n",
      "weighted avg       0.66      0.66      0.66      4486\n",
      "\n"
     ]
    }
   ],
   "source": [
    "acc_train,cm=training(DecisionTreeClassifier(),X_train_tf, X_test_tf, y_train_tf, y_test_tf)\n",
    "print('acc train: ',acc_train)\n",
    "print(cm)"
   ]
  },
  {
   "cell_type": "code",
   "execution_count": null,
   "metadata": {
    "colab": {
     "base_uri": "https://localhost:8080/"
    },
    "executionInfo": {
     "elapsed": 33012,
     "status": "ok",
     "timestamp": 1678552216500,
     "user": {
      "displayName": "Beatriz Arcipreste",
      "userId": "15863202257538089731"
     },
     "user_tz": 0
    },
    "id": "5IF_qN2kV2bQ",
    "outputId": "ffb2f2cf-41b8-4d54-e301-944b808f5fa4"
   },
   "outputs": [
    {
     "name": "stdout",
     "output_type": "stream",
     "text": [
      "acc train:  0.9992755238519839\n",
      "              precision    recall  f1-score   support\n",
      "\n",
      "           0       0.77      0.77      0.77      2322\n",
      "           1       0.76      0.76      0.76      2164\n",
      "\n",
      "    accuracy                           0.77      4486\n",
      "   macro avg       0.77      0.77      0.77      4486\n",
      "weighted avg       0.77      0.77      0.77      4486\n",
      "\n"
     ]
    }
   ],
   "source": [
    "acc_train,cm=training(RandomForestClassifier(),X_train_tf, X_test_tf, y_train_tf, y_test_tf)\n",
    "print('acc train: ',acc_train)\n",
    "print(cm)"
   ]
  },
  {
   "cell_type": "code",
   "execution_count": null,
   "metadata": {
    "colab": {
     "base_uri": "https://localhost:8080/"
    },
    "executionInfo": {
     "elapsed": 388599,
     "status": "ok",
     "timestamp": 1678552605095,
     "user": {
      "displayName": "Beatriz Arcipreste",
      "userId": "15863202257538089731"
     },
     "user_tz": 0
    },
    "id": "SIG-I2cWV2bR",
    "outputId": "f71c7933-fd63-4bea-8eb2-47a2a9809a61"
   },
   "outputs": [
    {
     "name": "stdout",
     "output_type": "stream",
     "text": [
      "acc train:  0.7796477931341953\n",
      "              precision    recall  f1-score   support\n",
      "\n",
      "           0       0.77      0.76      0.76      2322\n",
      "           1       0.75      0.75      0.75      2164\n",
      "\n",
      "    accuracy                           0.76      4486\n",
      "   macro avg       0.76      0.76      0.76      4486\n",
      "weighted avg       0.76      0.76      0.76      4486\n",
      "\n"
     ]
    }
   ],
   "source": [
    "acc_train,cm=training(GradientBoostingClassifier(),X_train_tf, X_test_tf, y_train_tf, y_test_tf)\n",
    "print('acc train: ',acc_train)\n",
    "print(cm)"
   ]
  },
  {
   "cell_type": "code",
   "execution_count": null,
   "metadata": {
    "colab": {
     "base_uri": "https://localhost:8080/"
    },
    "executionInfo": {
     "elapsed": 420927,
     "status": "ok",
     "timestamp": 1678553025996,
     "user": {
      "displayName": "Beatriz Arcipreste",
      "userId": "15863202257538089731"
     },
     "user_tz": 0
    },
    "id": "e_WqLoTBV2bS",
    "outputId": "2f6344c0-46a9-4a40-daaf-d64971cb3d25"
   },
   "outputs": [
    {
     "name": "stdout",
     "output_type": "stream",
     "text": [
      "acc train:  0.8908270173874275\n",
      "              precision    recall  f1-score   support\n",
      "\n",
      "           0       0.78      0.77      0.78      2322\n",
      "           1       0.76      0.76      0.76      2164\n",
      "\n",
      "    accuracy                           0.77      4486\n",
      "   macro avg       0.77      0.77      0.77      4486\n",
      "weighted avg       0.77      0.77      0.77      4486\n",
      "\n"
     ]
    }
   ],
   "source": [
    "acc_train,cm=training(XGBClassifier(),X_train_tf, X_test_tf, y_train_tf, y_test_tf)\n",
    "print('acc train: ',acc_train)\n",
    "print(cm)"
   ]
  },
  {
   "cell_type": "code",
   "execution_count": null,
   "metadata": {
    "colab": {
     "base_uri": "https://localhost:8080/"
    },
    "executionInfo": {
     "elapsed": 403,
     "status": "ok",
     "timestamp": 1678553026384,
     "user": {
      "displayName": "Beatriz Arcipreste",
      "userId": "15863202257538089731"
     },
     "user_tz": 0
    },
    "id": "g0Uo7_JgV2bT",
    "outputId": "18c1b90e-4189-41a6-c458-dba546a35dba"
   },
   "outputs": [
    {
     "name": "stdout",
     "output_type": "stream",
     "text": [
      "acc train:  0.7805394560855996\n",
      "              precision    recall  f1-score   support\n",
      "\n",
      "           0       0.78      0.73      0.76      2322\n",
      "           1       0.73      0.78      0.76      2164\n",
      "\n",
      "    accuracy                           0.76      4486\n",
      "   macro avg       0.76      0.76      0.76      4486\n",
      "weighted avg       0.76      0.76      0.76      4486\n",
      "\n"
     ]
    }
   ],
   "source": [
    "acc_train,cm=training(MultinomialNB(),X_train_tf, X_test_tf, y_train_tf, y_test_tf)\n",
    "print('acc train: ',acc_train)\n",
    "print(cm)"
   ]
  },
  {
   "cell_type": "code",
   "execution_count": null,
   "metadata": {
    "colab": {
     "base_uri": "https://localhost:8080/"
    },
    "executionInfo": {
     "elapsed": 2416,
     "status": "ok",
     "timestamp": 1678555390066,
     "user": {
      "displayName": "Beatriz Arcipreste",
      "userId": "15863202257538089731"
     },
     "user_tz": 0
    },
    "id": "0yqBplzzV2bT",
    "outputId": "cced17ff-a54f-4685-f3f1-a518d30cc061"
   },
   "outputs": [
    {
     "name": "stdout",
     "output_type": "stream",
     "text": [
      "acc train:  0.8529870708872046\n",
      "              precision    recall  f1-score   support\n",
      "\n",
      "           0       0.77      0.76      0.77      2322\n",
      "           1       0.75      0.76      0.75      2164\n",
      "\n",
      "    accuracy                           0.76      4486\n",
      "   macro avg       0.76      0.76      0.76      4486\n",
      "weighted avg       0.76      0.76      0.76      4486\n",
      "\n"
     ]
    }
   ],
   "source": [
    "acc_train,cm=training(LinearSVC(),X_train_tf, X_test_tf, y_train_tf, y_test_tf)\n",
    "print('acc train: ',acc_train)\n",
    "print(cm)"
   ]
  },
  {
   "cell_type": "markdown",
   "metadata": {
    "id": "iWZ3jweGVqjT"
   },
   "source": [
    "## Unigrams and bigrams and max features"
   ]
  },
  {
   "cell_type": "code",
   "execution_count": 10,
   "metadata": {
    "executionInfo": {
     "elapsed": 14393,
     "status": "ok",
     "timestamp": 1678979832960,
     "user": {
      "displayName": "Beatriz Arcipreste",
      "userId": "15863202257538089731"
     },
     "user_tz": 0
    },
    "id": "OWID3yjFWUcv"
   },
   "outputs": [],
   "source": [
    "# Convert a collection of raw documents to a matrix of TF-IDF features.\n",
    "vectorizer = TfidfVectorizer(ngram_range=(1,2), max_features=5000)\n",
    "X_train_tf = vectorizer.fit_transform(X_train)\n",
    "X_train_tf=X_train_tf.toarray()\n",
    "X_test_tf= vectorizer.transform(X_test)"
   ]
  },
  {
   "cell_type": "code",
   "execution_count": 11,
   "metadata": {
    "colab": {
     "base_uri": "https://localhost:8080/"
    },
    "executionInfo": {
     "elapsed": 140864,
     "status": "ok",
     "timestamp": 1678979975558,
     "user": {
      "displayName": "Beatriz Arcipreste",
      "userId": "15863202257538089731"
     },
     "user_tz": 0
    },
    "id": "Av9kN5wVWUcv",
    "outputId": "dde16bd5-743b-4a98-bac5-8566d5375248"
   },
   "outputs": [
    {
     "name": "stdout",
     "output_type": "stream",
     "text": [
      "acc train:  0.8085153811859117\n",
      "              precision    recall  f1-score   support\n",
      "\n",
      "           0       0.73      0.72      0.72      2322\n",
      "           1       0.70      0.71      0.71      2164\n",
      "\n",
      "    accuracy                           0.71      4486\n",
      "   macro avg       0.71      0.71      0.71      4486\n",
      "weighted avg       0.71      0.71      0.71      4486\n",
      "\n",
      "[[1668  654]\n",
      " [ 629 1535]]\n"
     ]
    }
   ],
   "source": [
    "acc_train,cm,cf=training(KNeighborsClassifier(),X_train_tf, X_test_tf, y_train_tf, y_test_tf)\n",
    "print('acc train: ',acc_train)\n",
    "print(cm)\n",
    "print(cf)"
   ]
  },
  {
   "cell_type": "code",
   "execution_count": null,
   "metadata": {
    "colab": {
     "base_uri": "https://localhost:8080/"
    },
    "executionInfo": {
     "elapsed": 33822,
     "status": "ok",
     "timestamp": 1678555572469,
     "user": {
      "displayName": "Beatriz Arcipreste",
      "userId": "15863202257538089731"
     },
     "user_tz": 0
    },
    "id": "uR3hVFPoWUcw",
    "outputId": "1818a2a8-2043-4e63-d262-60342e66b62b"
   },
   "outputs": [
    {
     "name": "stdout",
     "output_type": "stream",
     "text": [
      "acc train:  0.9991640659830584\n",
      "              precision    recall  f1-score   support\n",
      "\n",
      "           0       0.66      0.67      0.67      2322\n",
      "           1       0.64      0.63      0.64      2164\n",
      "\n",
      "    accuracy                           0.65      4486\n",
      "   macro avg       0.65      0.65      0.65      4486\n",
      "weighted avg       0.65      0.65      0.65      4486\n",
      "\n"
     ]
    }
   ],
   "source": [
    "acc_train,cm=training(DecisionTreeClassifier(),X_train_tf, X_test_tf, y_train_tf, y_test_tf)\n",
    "print('acc train: ',acc_train)\n",
    "print(cm)"
   ]
  },
  {
   "cell_type": "code",
   "execution_count": null,
   "metadata": {
    "colab": {
     "base_uri": "https://localhost:8080/"
    },
    "executionInfo": {
     "elapsed": 37854,
     "status": "ok",
     "timestamp": 1678555610309,
     "user": {
      "displayName": "Beatriz Arcipreste",
      "userId": "15863202257538089731"
     },
     "user_tz": 0
    },
    "id": "dhsbQfqSWUcw",
    "outputId": "721ac4f1-16db-4d13-bd50-bab110c2dcc0"
   },
   "outputs": [
    {
     "name": "stdout",
     "output_type": "stream",
     "text": [
      "acc train:  0.9991640659830584\n",
      "              precision    recall  f1-score   support\n",
      "\n",
      "           0       0.78      0.78      0.78      2322\n",
      "           1       0.76      0.76      0.76      2164\n",
      "\n",
      "    accuracy                           0.77      4486\n",
      "   macro avg       0.77      0.77      0.77      4486\n",
      "weighted avg       0.77      0.77      0.77      4486\n",
      "\n"
     ]
    }
   ],
   "source": [
    "acc_train,cm=training(RandomForestClassifier(),X_train_tf, X_test_tf, y_train_tf, y_test_tf)\n",
    "print('acc train: ',acc_train)\n",
    "print(cm)"
   ]
  },
  {
   "cell_type": "code",
   "execution_count": null,
   "metadata": {
    "colab": {
     "base_uri": "https://localhost:8080/"
    },
    "executionInfo": {
     "elapsed": 389283,
     "status": "ok",
     "timestamp": 1678555999560,
     "user": {
      "displayName": "Beatriz Arcipreste",
      "userId": "15863202257538089731"
     },
     "user_tz": 0
    },
    "id": "cK_LD2GZWUcw",
    "outputId": "b5320599-a4d4-4f6b-9f04-80730b0858c1"
   },
   "outputs": [
    {
     "name": "stdout",
     "output_type": "stream",
     "text": [
      "acc train:  0.7840503789567543\n",
      "              precision    recall  f1-score   support\n",
      "\n",
      "           0       0.77      0.76      0.76      2322\n",
      "           1       0.74      0.75      0.75      2164\n",
      "\n",
      "    accuracy                           0.76      4486\n",
      "   macro avg       0.76      0.76      0.76      4486\n",
      "weighted avg       0.76      0.76      0.76      4486\n",
      "\n"
     ]
    }
   ],
   "source": [
    "acc_train,cm=training(GradientBoostingClassifier(),X_train_tf, X_test_tf, y_train_tf, y_test_tf)\n",
    "print('acc train: ',acc_train)\n",
    "print(cm)"
   ]
  },
  {
   "cell_type": "code",
   "execution_count": null,
   "metadata": {
    "colab": {
     "base_uri": "https://localhost:8080/"
    },
    "executionInfo": {
     "elapsed": 428198,
     "status": "ok",
     "timestamp": 1678556427742,
     "user": {
      "displayName": "Beatriz Arcipreste",
      "userId": "15863202257538089731"
     },
     "user_tz": 0
    },
    "id": "D1v3_XVTWUcw",
    "outputId": "9c0d74b0-5d9d-4b3b-8391-0502c3a63c30"
   },
   "outputs": [
    {
     "name": "stdout",
     "output_type": "stream",
     "text": [
      "acc train:  0.8931119037004013\n",
      "              precision    recall  f1-score   support\n",
      "\n",
      "           0       0.78      0.77      0.77      2322\n",
      "           1       0.75      0.77      0.76      2164\n",
      "\n",
      "    accuracy                           0.77      4486\n",
      "   macro avg       0.77      0.77      0.77      4486\n",
      "weighted avg       0.77      0.77      0.77      4486\n",
      "\n"
     ]
    }
   ],
   "source": [
    "acc_train,cm=training(XGBClassifier(),X_train_tf, X_test_tf, y_train_tf, y_test_tf)\n",
    "print('acc train: ',acc_train)\n",
    "print(cm)"
   ]
  },
  {
   "cell_type": "code",
   "execution_count": null,
   "metadata": {
    "colab": {
     "base_uri": "https://localhost:8080/"
    },
    "executionInfo": {
     "elapsed": 743,
     "status": "ok",
     "timestamp": 1678556428472,
     "user": {
      "displayName": "Beatriz Arcipreste",
      "userId": "15863202257538089731"
     },
     "user_tz": 0
    },
    "id": "IUoOgqKwWUcx",
    "outputId": "613e149c-221c-4adc-cda0-0f628fb9e10c"
   },
   "outputs": [
    {
     "name": "stdout",
     "output_type": "stream",
     "text": [
      "acc train:  0.7801493535443602\n",
      "              precision    recall  f1-score   support\n",
      "\n",
      "           0       0.79      0.73      0.76      2322\n",
      "           1       0.73      0.80      0.76      2164\n",
      "\n",
      "    accuracy                           0.76      4486\n",
      "   macro avg       0.76      0.76      0.76      4486\n",
      "weighted avg       0.77      0.76      0.76      4486\n",
      "\n"
     ]
    }
   ],
   "source": [
    "acc_train,cm=training(MultinomialNB(),X_train_tf, X_test_tf, y_train_tf, y_test_tf)\n",
    "print('acc train: ',acc_train)\n",
    "print(cm)"
   ]
  },
  {
   "cell_type": "code",
   "execution_count": null,
   "metadata": {
    "colab": {
     "base_uri": "https://localhost:8080/"
    },
    "executionInfo": {
     "elapsed": 813,
     "status": "ok",
     "timestamp": 1678556429283,
     "user": {
      "displayName": "Beatriz Arcipreste",
      "userId": "15863202257538089731"
     },
     "user_tz": 0
    },
    "id": "zQXmurFyWUcx",
    "outputId": "6d1f1f8a-824e-40f8-f837-d42f2c60bc4e"
   },
   "outputs": [
    {
     "name": "stdout",
     "output_type": "stream",
     "text": [
      "acc train:  0.8661948283548818\n",
      "              precision    recall  f1-score   support\n",
      "\n",
      "           0       0.78      0.75      0.77      2322\n",
      "           1       0.74      0.77      0.76      2164\n",
      "\n",
      "    accuracy                           0.76      4486\n",
      "   macro avg       0.76      0.76      0.76      4486\n",
      "weighted avg       0.76      0.76      0.76      4486\n",
      "\n"
     ]
    }
   ],
   "source": [
    "acc_train,cm=training(LinearSVC(),X_train_tf, X_test_tf, y_train_tf, y_test_tf)\n",
    "print('acc train: ',acc_train)\n",
    "print(cm)"
   ]
  }
 ],
 "metadata": {
  "accelerator": "GPU",
  "colab": {
   "authorship_tag": "ABX9TyPTUwf0UkqsymTlwtQqb1CE",
   "provenance": [],
   "toc_visible": true
  },
  "gpuClass": "standard",
  "kernelspec": {
   "display_name": "Python 3 (ipykernel)",
   "language": "python",
   "name": "python3"
  },
  "language_info": {
   "codemirror_mode": {
    "name": "ipython",
    "version": 3
   },
   "file_extension": ".py",
   "mimetype": "text/x-python",
   "name": "python",
   "nbconvert_exporter": "python",
   "pygments_lexer": "ipython3",
   "version": "3.8.0"
  }
 },
 "nbformat": 4,
 "nbformat_minor": 1
}
