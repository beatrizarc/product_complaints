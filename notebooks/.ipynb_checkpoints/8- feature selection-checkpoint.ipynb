{
 "cells": [
  {
   "cell_type": "markdown",
   "id": "9f29aa6d",
   "metadata": {},
   "source": [
    "It's important to note that when adding new features, it's possible that the model may overfit the training data, which means that it performs well on the training set but poorly on the validation and/or test sets. To avoid overfitting, you may need to perform feature selection or regularization techniques such as L1 or L2 regularization.\n",
    "\n",
    "\"To evaluate the impact of multiple features at once, a pipeline that included all the features was created. Then, the performance of this pipeline was compared to the performance of pipelines that included only some of the features. The evaluation was done on the validation set each time a new feature or a different set of features were added, using the same evaluation metric (F1-Score). The order in which you add features to the pipeline can affect the performance of the model. By experimenting with different feature combinations and orders, you can identify the most effective set of features for your particular problem. This may involve adding new features, removing redundant ones, or rearranging the order in which they are used.\"\n",
    "\n",
    "\n"
   ]
  },
  {
   "cell_type": "code",
   "execution_count": null,
   "id": "321ca05e",
   "metadata": {},
   "outputs": [],
   "source": []
  },
  {
   "cell_type": "code",
   "execution_count": null,
   "id": "4f7a6043",
   "metadata": {},
   "outputs": [],
   "source": []
  },
  {
   "cell_type": "code",
   "execution_count": null,
   "id": "e30e4bed",
   "metadata": {},
   "outputs": [],
   "source": []
  },
  {
   "cell_type": "code",
   "execution_count": null,
   "id": "1c6c89a7",
   "metadata": {},
   "outputs": [],
   "source": []
  }
 ],
 "metadata": {
  "kernelspec": {
   "display_name": "env1",
   "language": "python",
   "name": "env1"
  },
  "language_info": {
   "codemirror_mode": {
    "name": "ipython",
    "version": 3
   },
   "file_extension": ".py",
   "mimetype": "text/x-python",
   "name": "python",
   "nbconvert_exporter": "python",
   "pygments_lexer": "ipython3",
   "version": "3.8.0"
  }
 },
 "nbformat": 4,
 "nbformat_minor": 5
}
