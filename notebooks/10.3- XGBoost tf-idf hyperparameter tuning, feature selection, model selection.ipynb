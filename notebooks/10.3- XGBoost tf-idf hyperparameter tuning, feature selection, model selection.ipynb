{
 "cells": [
  {
   "cell_type": "markdown",
   "id": "48dc1840",
   "metadata": {},
   "source": [
    "narrative_tfidf, tfidf_title, tfidf_keywords\tXGBoost  \t0.664090\t0.559104\t0.456817\t0.467326  "
   ]
  },
  {
   "cell_type": "code",
   "execution_count": 1,
   "id": "2f8b3be5",
   "metadata": {},
   "outputs": [],
   "source": [
    "from sklearn.svm import LinearSVC\n",
    "from sklearn.model_selection import GridSearchCV, train_test_split, StratifiedKFold\n",
    "from sklearn.metrics import accuracy_score, f1_score, precision_score, recall_score\n",
    "from xgboost import XGBClassifier\n",
    "from sklearn.model_selection import train_test_split\n",
    "from sklearn.metrics import classification_report\n",
    "from sklearn.feature_extraction.text import TfidfVectorizer\n",
    "import gensim\n",
    "from gensim.models import KeyedVectors\n",
    "import pandas as pd\n",
    "from sklearn.model_selection import cross_val_score, learning_curve\n",
    "import matplotlib.pyplot as plt\n",
    "from sklearn.model_selection import StratifiedKFold, GridSearchCV, RandomizedSearchCV\n",
    "from sklearn.metrics import classification_report, confusion_matrix\n",
    "from sklearn.feature_selection import SelectKBest, chi2, SelectFromModel \n",
    "from sklearn.pipeline import Pipeline\n",
    "from imblearn.over_sampling import SMOTE\n",
    "import warnings"
   ]
  },
  {
   "cell_type": "code",
   "execution_count": 2,
   "id": "35e77c3e",
   "metadata": {},
   "outputs": [],
   "source": [
    "import numpy as np\n",
    "np.random.seed(42)  # Set random seed for numpy\n",
    "\n",
    "import random\n",
    "random.seed(42)  # Set random seed for random module"
   ]
  },
  {
   "cell_type": "code",
   "execution_count": 3,
   "id": "d588b6ab",
   "metadata": {},
   "outputs": [
    {
     "data": {
      "text/html": [
       "<div>\n",
       "<style scoped>\n",
       "    .dataframe tbody tr th:only-of-type {\n",
       "        vertical-align: middle;\n",
       "    }\n",
       "\n",
       "    .dataframe tbody tr th {\n",
       "        vertical-align: top;\n",
       "    }\n",
       "\n",
       "    .dataframe thead th {\n",
       "        text-align: right;\n",
       "    }\n",
       "</style>\n",
       "<table border=\"1\" class=\"dataframe\">\n",
       "  <thead>\n",
       "    <tr style=\"text-align: right;\">\n",
       "      <th></th>\n",
       "      <th>date</th>\n",
       "      <th>title</th>\n",
       "      <th>reason</th>\n",
       "      <th>description</th>\n",
       "      <th>zone</th>\n",
       "      <th>narrative_tfidf</th>\n",
       "      <th>narrative_embeddings</th>\n",
       "      <th>narrative_bert</th>\n",
       "      <th>narrative_tfidf_title</th>\n",
       "      <th>narrative_bert_title</th>\n",
       "      <th>...</th>\n",
       "      <th>embeddings_title</th>\n",
       "      <th>tfidf_keywords</th>\n",
       "      <th>embeddings_keywords</th>\n",
       "      <th>events_clean</th>\n",
       "      <th>results_final</th>\n",
       "      <th>events_tfidf</th>\n",
       "      <th>events_embeddings</th>\n",
       "      <th>orgs</th>\n",
       "      <th>locs</th>\n",
       "      <th>entities</th>\n",
       "    </tr>\n",
       "  </thead>\n",
       "  <tbody>\n",
       "    <tr>\n",
       "      <th>0</th>\n",
       "      <td>2021-10-11 12:26:32</td>\n",
       "      <td>CTT - Encomenda entregue danificada e com etiq...</td>\n",
       "      <td>0</td>\n",
       "      <td>Bom dia venho por este meio apresentar uma rec...</td>\n",
       "      <td>Lisboa</td>\n",
       "      <td>bom dia venho meio apresentar reclamação ctt e...</td>\n",
       "      <td>bom dia venho por este meio apresentar uma rec...</td>\n",
       "      <td>Bom dia venho por este meio apresentar uma rec...</td>\n",
       "      <td>ctt encomenda entregar danificar etiqueta envi...</td>\n",
       "      <td>ctt - encomenda entregue danificada e com etiq...</td>\n",
       "      <td>...</td>\n",
       "      <td>ctt - encomenda entregue danificada e com etiq...</td>\n",
       "      <td>apresentar reclamação caixa figura envio israe...</td>\n",
       "      <td>apresentar uma reclamação tinha caixa figura e...</td>\n",
       "      <td>venho apresentar enviei destinado feito proteg...</td>\n",
       "      <td>[('CTT', 'B-ORGANIZACAO'), ('Israel', 'B-LOCAL...</td>\n",
       "      <td>venho apresentar enviar destinar fazer protege...</td>\n",
       "      <td>venho apresentar enviei destinado feito proteg...</td>\n",
       "      <td>CTT, Aboboda</td>\n",
       "      <td>Israel</td>\n",
       "      <td>CTT, Aboboda, Israel</td>\n",
       "    </tr>\n",
       "    <tr>\n",
       "      <th>1</th>\n",
       "      <td>2021-08-31 23:20:15</td>\n",
       "      <td>CTT - Carta com certificado rasgado!</td>\n",
       "      <td>1</td>\n",
       "      <td>- Boa Noite!\\r\\n\\r\\n- Venho por este meio recl...</td>\n",
       "      <td>Coimbra</td>\n",
       "      <td>bom noite venho meio reclamar data ás durante ...</td>\n",
       "      <td>- boa noite!\\r\\n\\r\\n- venho por este meio recl...</td>\n",
       "      <td>- Boa Noite! Venho por este meio reclamar que ...</td>\n",
       "      <td>ctt carta certificar rasgar bom noite venho me...</td>\n",
       "      <td>ctt - carta com certificado rasgado!  - Boa No...</td>\n",
       "      <td>...</td>\n",
       "      <td>ctt - carta com certificado rasgado !</td>\n",
       "      <td>lilia pimentel certificar profissional passage...</td>\n",
       "      <td>lilia pimentel certificado profissional passag...</td>\n",
       "      <td>venho reclamar deparei -me continha tem</td>\n",
       "      <td>[('Lilia', 'B-PESSOA'), ('Pimentel', 'I-PESSOA')]</td>\n",
       "      <td>venho reclamar deparar conter</td>\n",
       "      <td>venho reclamar deparei - me continha tem</td>\n",
       "      <td>NaN</td>\n",
       "      <td>NaN</td>\n",
       "      <td>NaN</td>\n",
       "    </tr>\n",
       "    <tr>\n",
       "      <th>2</th>\n",
       "      <td>2021-02-01 19:08:32</td>\n",
       "      <td>CTT - Encomenda registada que nunca chegou ao ...</td>\n",
       "      <td>2</td>\n",
       "      <td>Boa tarde,\\r\\nNo dia 17 de Dezembro de 2020 en...</td>\n",
       "      <td>Aveiro</td>\n",
       "      <td>bom tarde dia dezembro enviar encomenda França...</td>\n",
       "      <td>boa tarde,\\r\\nno dia 00 de dezembro de 0000 en...</td>\n",
       "      <td>Boa tarde, No dia 17 de Dezembro de 2020 envie...</td>\n",
       "      <td>ctt encomenda registar nunca chegar destine o ...</td>\n",
       "      <td>ctt - encomenda registada que nunca chegou ao ...</td>\n",
       "      <td>...</td>\n",
       "      <td>ctt - encomenda registada que nunca chegou ao ...</td>\n",
       "      <td>frança correio registar frança correio encomen...</td>\n",
       "      <td>frança em correio registado frança em correio ...</td>\n",
       "      <td>enviei registado vejo chegou saiu chegou tem p...</td>\n",
       "      <td>[('França', 'B-LOCAL'), ('Roissy', 'B-ORGANIZA...</td>\n",
       "      <td>enviar registar vejo chegar sair chegar passar...</td>\n",
       "      <td>enviei registado vejo chegou saiu chegou tem p...</td>\n",
       "      <td>Roissy</td>\n",
       "      <td>França, ROISSY</td>\n",
       "      <td>Roissy, França, ROISSY</td>\n",
       "    </tr>\n",
       "    <tr>\n",
       "      <th>3</th>\n",
       "      <td>2018-04-19 09:04:34</td>\n",
       "      <td>CTT - Correio Verde</td>\n",
       "      <td>2</td>\n",
       "      <td>Bom dia,\\n\\nPretendia esclarecer uma situação ...</td>\n",
       "      <td>Lisboa</td>\n",
       "      <td>bom dia pretender esclarecer situação ocorrer ...</td>\n",
       "      <td>bom dia,\\n\\npretendia esclarecer uma situação ...</td>\n",
       "      <td>Bom dia, Pretendia esclarecer uma situação que...</td>\n",
       "      <td>ctt correio verde bom dia pretender esclarecer...</td>\n",
       "      <td>ctt - correio verde  Bom dia, Pretendia esclar...</td>\n",
       "      <td>...</td>\n",
       "      <td>ctt - correio verde</td>\n",
       "      <td>pretender esclarecer situação pretender esclar...</td>\n",
       "      <td>pretendia esclarecer uma situação pretendia es...</td>\n",
       "      <td>pretendia esclarecer ocorreu desloquei dado fe...</td>\n",
       "      <td>[('El', 'B-LOCAL'), ('Corte', 'I-LOCAL'), ('In...</td>\n",
       "      <td>pretender esclarecer ocorrer desloquei dar fec...</td>\n",
       "      <td>pretendia esclarecer ocorreu desloquei dado fe...</td>\n",
       "      <td>Correio</td>\n",
       "      <td>El Corte Inglés, Lisboa Verde</td>\n",
       "      <td>Correio, El Corte Inglés, Lisboa Verde</td>\n",
       "    </tr>\n",
       "    <tr>\n",
       "      <th>4</th>\n",
       "      <td>2019-07-04 10:20:41</td>\n",
       "      <td>CTT - Aviso de recepção da carta registada, pr...</td>\n",
       "      <td>2</td>\n",
       "      <td>venho por este meio solicitar a vossa ajuda pa...</td>\n",
       "      <td>Porto</td>\n",
       "      <td>venho meio solicitar vosso ajudar saber onde e...</td>\n",
       "      <td>venho por este meio solicitar a vossa ajuda pa...</td>\n",
       "      <td>venho por este meio solicitar a vossa ajuda pa...</td>\n",
       "      <td>ctt aviso recepção carta registar preciso urge...</td>\n",
       "      <td>ctt - aviso de recepção da carta registada, pr...</td>\n",
       "      <td>...</td>\n",
       "      <td>ctt - aviso de recepção da carta registada , p...</td>\n",
       "      <td>papal centro pois preciso urgentemente pois pr...</td>\n",
       "      <td>papais para o centro pois preciso dele urgente...</td>\n",
       "      <td>venho solicitar saber onde se encontra regista...</td>\n",
       "      <td>[]</td>\n",
       "      <td>venho solicitar saber onde encontrar registar ...</td>\n",
       "      <td>venho solicitar saber onde se encontra regista...</td>\n",
       "      <td>NaN</td>\n",
       "      <td>NaN</td>\n",
       "      <td>NaN</td>\n",
       "    </tr>\n",
       "  </tbody>\n",
       "</table>\n",
       "<p>5 rows × 25 columns</p>\n",
       "</div>"
      ],
      "text/plain": [
       "                  date                                              title  \\\n",
       "0  2021-10-11 12:26:32  CTT - Encomenda entregue danificada e com etiq...   \n",
       "1  2021-08-31 23:20:15               CTT - Carta com certificado rasgado!   \n",
       "2  2021-02-01 19:08:32  CTT - Encomenda registada que nunca chegou ao ...   \n",
       "3  2018-04-19 09:04:34                                CTT - Correio Verde   \n",
       "4  2019-07-04 10:20:41  CTT - Aviso de recepção da carta registada, pr...   \n",
       "\n",
       "   reason                                        description     zone  \\\n",
       "0       0  Bom dia venho por este meio apresentar uma rec...   Lisboa   \n",
       "1       1  - Boa Noite!\\r\\n\\r\\n- Venho por este meio recl...  Coimbra   \n",
       "2       2  Boa tarde,\\r\\nNo dia 17 de Dezembro de 2020 en...   Aveiro   \n",
       "3       2  Bom dia,\\n\\nPretendia esclarecer uma situação ...   Lisboa   \n",
       "4       2  venho por este meio solicitar a vossa ajuda pa...    Porto   \n",
       "\n",
       "                                     narrative_tfidf  \\\n",
       "0  bom dia venho meio apresentar reclamação ctt e...   \n",
       "1  bom noite venho meio reclamar data ás durante ...   \n",
       "2  bom tarde dia dezembro enviar encomenda França...   \n",
       "3  bom dia pretender esclarecer situação ocorrer ...   \n",
       "4  venho meio solicitar vosso ajudar saber onde e...   \n",
       "\n",
       "                                narrative_embeddings  \\\n",
       "0  bom dia venho por este meio apresentar uma rec...   \n",
       "1  - boa noite!\\r\\n\\r\\n- venho por este meio recl...   \n",
       "2  boa tarde,\\r\\nno dia 00 de dezembro de 0000 en...   \n",
       "3  bom dia,\\n\\npretendia esclarecer uma situação ...   \n",
       "4  venho por este meio solicitar a vossa ajuda pa...   \n",
       "\n",
       "                                      narrative_bert  \\\n",
       "0  Bom dia venho por este meio apresentar uma rec...   \n",
       "1  - Boa Noite! Venho por este meio reclamar que ...   \n",
       "2  Boa tarde, No dia 17 de Dezembro de 2020 envie...   \n",
       "3  Bom dia, Pretendia esclarecer uma situação que...   \n",
       "4  venho por este meio solicitar a vossa ajuda pa...   \n",
       "\n",
       "                               narrative_tfidf_title  \\\n",
       "0  ctt encomenda entregar danificar etiqueta envi...   \n",
       "1  ctt carta certificar rasgar bom noite venho me...   \n",
       "2  ctt encomenda registar nunca chegar destine o ...   \n",
       "3  ctt correio verde bom dia pretender esclarecer...   \n",
       "4  ctt aviso recepção carta registar preciso urge...   \n",
       "\n",
       "                                narrative_bert_title  ...  \\\n",
       "0  ctt - encomenda entregue danificada e com etiq...  ...   \n",
       "1  ctt - carta com certificado rasgado!  - Boa No...  ...   \n",
       "2  ctt - encomenda registada que nunca chegou ao ...  ...   \n",
       "3  ctt - correio verde  Bom dia, Pretendia esclar...  ...   \n",
       "4  ctt - aviso de recepção da carta registada, pr...  ...   \n",
       "\n",
       "                                    embeddings_title  \\\n",
       "0  ctt - encomenda entregue danificada e com etiq...   \n",
       "1              ctt - carta com certificado rasgado !   \n",
       "2  ctt - encomenda registada que nunca chegou ao ...   \n",
       "3                                ctt - correio verde   \n",
       "4  ctt - aviso de recepção da carta registada , p...   \n",
       "\n",
       "                                      tfidf_keywords  \\\n",
       "0  apresentar reclamação caixa figura envio israe...   \n",
       "1  lilia pimentel certificar profissional passage...   \n",
       "2  frança correio registar frança correio encomen...   \n",
       "3  pretender esclarecer situação pretender esclar...   \n",
       "4  papal centro pois preciso urgentemente pois pr...   \n",
       "\n",
       "                                 embeddings_keywords  \\\n",
       "0  apresentar uma reclamação tinha caixa figura e...   \n",
       "1  lilia pimentel certificado profissional passag...   \n",
       "2  frança em correio registado frança em correio ...   \n",
       "3  pretendia esclarecer uma situação pretendia es...   \n",
       "4  papais para o centro pois preciso dele urgente...   \n",
       "\n",
       "                                        events_clean  \\\n",
       "0  venho apresentar enviei destinado feito proteg...   \n",
       "1            venho reclamar deparei -me continha tem   \n",
       "2  enviei registado vejo chegou saiu chegou tem p...   \n",
       "3  pretendia esclarecer ocorreu desloquei dado fe...   \n",
       "4  venho solicitar saber onde se encontra regista...   \n",
       "\n",
       "                                       results_final  \\\n",
       "0  [('CTT', 'B-ORGANIZACAO'), ('Israel', 'B-LOCAL...   \n",
       "1  [('Lilia', 'B-PESSOA'), ('Pimentel', 'I-PESSOA')]   \n",
       "2  [('França', 'B-LOCAL'), ('Roissy', 'B-ORGANIZA...   \n",
       "3  [('El', 'B-LOCAL'), ('Corte', 'I-LOCAL'), ('In...   \n",
       "4                                                 []   \n",
       "\n",
       "                                        events_tfidf  \\\n",
       "0  venho apresentar enviar destinar fazer protege...   \n",
       "1                      venho reclamar deparar conter   \n",
       "2  enviar registar vejo chegar sair chegar passar...   \n",
       "3  pretender esclarecer ocorrer desloquei dar fec...   \n",
       "4  venho solicitar saber onde encontrar registar ...   \n",
       "\n",
       "                                   events_embeddings          orgs  \\\n",
       "0  venho apresentar enviei destinado feito proteg...  CTT, Aboboda   \n",
       "1           venho reclamar deparei - me continha tem           NaN   \n",
       "2  enviei registado vejo chegou saiu chegou tem p...        Roissy   \n",
       "3  pretendia esclarecer ocorreu desloquei dado fe...       Correio   \n",
       "4  venho solicitar saber onde se encontra regista...           NaN   \n",
       "\n",
       "                            locs                                entities  \n",
       "0                         Israel                    CTT, Aboboda, Israel  \n",
       "1                            NaN                                     NaN  \n",
       "2                 França, ROISSY                  Roissy, França, ROISSY  \n",
       "3  El Corte Inglés, Lisboa Verde  Correio, El Corte Inglés, Lisboa Verde  \n",
       "4                            NaN                                     NaN  \n",
       "\n",
       "[5 rows x 25 columns]"
      ]
     },
     "execution_count": 3,
     "metadata": {},
     "output_type": "execute_result"
    }
   ],
   "source": [
    "df = pd.read_csv(\"D:\\\\MS DATA SCIENCE\\\\NLP TESE\\\\data\\\\data_processed_selected.csv\")\n",
    "df.head()"
   ]
  },
  {
   "cell_type": "code",
   "execution_count": 4,
   "id": "6a1b1910",
   "metadata": {},
   "outputs": [],
   "source": [
    "def preprocess_entities(row):\n",
    "    if pd.isna(row)==False:\n",
    "        entities = row.lower()  # Convert to lowercase\n",
    "        entities = entities.replace(',', '')  # Remove commas\n",
    "        entities = ' '.join(set(entities.split()))  # Convert to set to get unique values, then join back as a string\n",
    "        return entities\n",
    "df['entities'] = df['entities'].apply(preprocess_entities)"
   ]
  },
  {
   "cell_type": "code",
   "execution_count": 5,
   "id": "156eecec",
   "metadata": {},
   "outputs": [
    {
     "data": {
      "text/plain": [
       "0                          israel ctt aboboda\n",
       "1                                        None\n",
       "2                               roissy frança\n",
       "3        corte correio verde inglés el lisboa\n",
       "4                                        None\n",
       "                         ...                 \n",
       "22425                unido portugal reino ctt\n",
       "22426                                    None\n",
       "22427                              aliexpress\n",
       "22428                                  lisboa\n",
       "22429                                    None\n",
       "Name: entities, Length: 22430, dtype: object"
      ]
     },
     "execution_count": 5,
     "metadata": {},
     "output_type": "execute_result"
    }
   ],
   "source": [
    "df['entities']"
   ]
  },
  {
   "cell_type": "code",
   "execution_count": 6,
   "id": "93a48b46",
   "metadata": {},
   "outputs": [
    {
     "data": {
      "text/plain": [
       "Index(['date', 'title', 'reason', 'description', 'zone', 'narrative_tfidf',\n",
       "       'narrative_embeddings', 'narrative_bert', 'narrative_tfidf_title',\n",
       "       'narrative_bert_title', 'narrative_embeddings_title', 'tfidf_title',\n",
       "       'title_tfidf_nolemma', 'events', 'keywords', 'embeddings_title',\n",
       "       'tfidf_keywords', 'embeddings_keywords', 'events_clean',\n",
       "       'results_final', 'events_tfidf', 'events_embeddings', 'orgs', 'locs',\n",
       "       'entities'],\n",
       "      dtype='object')"
      ]
     },
     "execution_count": 6,
     "metadata": {},
     "output_type": "execute_result"
    }
   ],
   "source": [
    "df.columns"
   ]
  },
  {
   "cell_type": "markdown",
   "id": "3b1ab9e3",
   "metadata": {},
   "source": [
    "## TF-IDF  "
   ]
  },
  {
   "cell_type": "code",
   "execution_count": 7,
   "id": "87313292",
   "metadata": {},
   "outputs": [],
   "source": [
    "y=df['reason']\n",
    "X = df[['narrative_tfidf', 'tfidf_title', 'tfidf_keywords', 'events_tfidf', 'entities']]"
   ]
  },
  {
   "cell_type": "code",
   "execution_count": 8,
   "id": "87dc2eba",
   "metadata": {},
   "outputs": [
    {
     "name": "stdout",
     "output_type": "stream",
     "text": [
      "X_train shape: (15701, 5)\n",
      "y_train shape: (15701,)\n",
      "X_val shape: (3364, 5)\n",
      "y_val shape: (3364,)\n",
      "X_test shape: (3365, 5)\n",
      "y_test shape: (3365,)\n"
     ]
    }
   ],
   "source": [
    "# Split the data into training and test sets\n",
    "X_train, X_test, y_train, y_test = train_test_split(X, y, test_size=0.3, stratify=y, random_state=42)\n",
    "\n",
    "# Split the remaining data into validation and test sets\n",
    "X_val, X_test, y_val, y_test = train_test_split(X_test, y_test, test_size=0.5, stratify=y_test, random_state=42)\n",
    "\n",
    "# Print the shape of each set\n",
    "print(\"X_train shape:\", X_train.shape)\n",
    "print(\"y_train shape:\", y_train.shape)\n",
    "print(\"X_val shape:\", X_val.shape)\n",
    "print(\"y_val shape:\", y_val.shape)\n",
    "print(\"X_test shape:\", X_test.shape)\n",
    "print(\"y_test shape:\", y_test.shape)"
   ]
  },
  {
   "cell_type": "code",
   "execution_count": 9,
   "id": "42529d8d",
   "metadata": {},
   "outputs": [],
   "source": [
    "X_train_val = pd.concat([X_train, X_val], axis=0, ignore_index=True)\n",
    "y_train_val = pd.concat([y_train, y_val], axis=0, ignore_index=True)"
   ]
  },
  {
   "cell_type": "markdown",
   "id": "af5bd564",
   "metadata": {},
   "source": [
    "## **1. XGBoost**   "
   ]
  },
  {
   "cell_type": "markdown",
   "id": "ba10cc83",
   "metadata": {},
   "source": [
    "<span style=\"color:white; font-size:18px;background-color:red\">* Default XGBoost()</span>"
   ]
  },
  {
   "cell_type": "code",
   "execution_count": 59,
   "id": "c44d328d",
   "metadata": {},
   "outputs": [],
   "source": [
    "import optuna\n",
    "def objective(trial):\n",
    "    feature_set=['narrative_tfidf', 'tfidf_title', 'tfidf_keywords']\n",
    "    X_train_val_combined = X_train_val[feature_set].apply(lambda x: ' '.join(x.fillna('').astype(str)), axis=1)\n",
    "    X_test_combined = X_test[feature_set].apply(lambda x: ' '.join(x.fillna('').astype(str)), axis=1)\n",
    "\n",
    "    # Transform the features using TF-IDF\n",
    "    vectorizer = TfidfVectorizer(ngram_range=(1, 3), max_df=0.95, min_df=2)\n",
    "    X_train_val_combined_transformed = vectorizer.fit_transform(X_train_val_combined)\n",
    "    X_test_combined_transformed = vectorizer.transform(X_test_combined)\n",
    "\n",
    "    # Define the hyperparameter search space\n",
    "    params = {\n",
    "      'objective': 'multi:softmax',\n",
    "      'num_class': 4,\n",
    "      'eval_metric': 'mlogloss',\n",
    "      'eta': trial.suggest_float('eta', 0.01, 0.3),\n",
    "      'n_estimators': trial.suggest_int('n_estimators', 50, 1000),\n",
    "      'max_depth': trial.suggest_int('max_depth', 3, 15),\n",
    "      'subsample': trial.suggest_float('subsample', 0.5, 1.0),\n",
    "      'colsample_bytree': trial.suggest_float('colsample_bytree', 0.5, 1.0),\n",
    "      'min_child_weight': trial.suggest_int('min_child_weight', 2, 15),\n",
    "      'gamma': trial.suggest_float(\"gamma\", 0, 1),\n",
    "      'random_state': 42,  # Add other hyperparameters as needed\n",
    "      'reg_alpha': trial.suggest_float('reg_alpha',0, 1),              # L1 regularization term on weights\n",
    "      'reg_lambda': trial.suggest_float('reg_lambda',0, 1)\n",
    "    }\n",
    "\n",
    "    # Create and train the XGBoost classifier with the current set of hyperparameters\n",
    "    clf = XGBClassifier(**params)\n",
    "    clf.fit(X_train_val_combined_transformed, y_train_val)\n",
    "\n",
    "    # Evaluate the classifier on the validation set\n",
    "    cv = StratifiedKFold(n_splits=6, shuffle=True, random_state=42)\n",
    "    f1_scores = cross_val_score(clf, X_train_val_combined_transformed, y_train_val, cv=cv, scoring='f1_macro')\n",
    "\n",
    "    return f1_scores.mean()"
   ]
  },
  {
   "cell_type": "code",
   "execution_count": 65,
   "id": "8f4d544f",
   "metadata": {},
   "outputs": [],
   "source": [
    "import os\n",
    "path = 'D:\\\\MS DATA SCIENCE\\\\NLP TESE\\\\optuna'\n",
    "database_filename = 'description_title_keywords.db'\n",
    "\n",
    "# Full path to the SQLite database file in Google Drive\n",
    "database_path = os.path.join(path, database_filename)\n",
    "\n",
    "# Set the SQLite database path to Google Drive path\n",
    "storage = optuna.storages.RDBStorage(url=f'sqlite:///{database_path}')"
   ]
  },
  {
   "cell_type": "code",
   "execution_count": 66,
   "id": "3f9c3b8c",
   "metadata": {},
   "outputs": [
    {
     "name": "stderr",
     "output_type": "stream",
     "text": [
      "[I 2023-07-30 01:05:39,386] A new study created in RDB with name: description_title_keywords\n",
      "[I 2023-07-30 01:46:59,940] Trial 0 finished with value: 0.45076536635853826 and parameters: {'colsample_bytree': 0.8481781819826891, 'eta': 0.024914580506785078, 'gamma': 0.600195402231574, 'max_depth': 5, 'min_child_weight': 12, 'n_estimators': 692, 'reg_alpha': 0.5941382665998689, 'reg_lambda': 0.289947460352284, 'subsample': 0.5247350747360959}. Best is trial 0 with value: 0.45076536635853826.\n",
      "[I 2023-07-30 02:09:46,554] Trial 1 finished with value: 0.4702032121386974 and parameters: {'colsample_bytree': 0.7612560333215546, 'eta': 0.20632398379829894, 'gamma': 0.13331133924189265, 'max_depth': 4, 'min_child_weight': 12, 'n_estimators': 458, 'reg_alpha': 0.533366102451221, 'reg_lambda': 0.4725380046619754, 'subsample': 0.8383017824580684}. Best is trial 1 with value: 0.4702032121386974.\n",
      "[I 2023-07-30 02:41:03,255] Trial 2 finished with value: 0.45874055358778176 and parameters: {'colsample_bytree': 0.7227149502188669, 'eta': 0.07314405806462135, 'gamma': 0.027392214356312672, 'max_depth': 4, 'min_child_weight': 3, 'n_estimators': 565, 'reg_alpha': 0.8085143743721691, 'reg_lambda': 0.377515629981396, 'subsample': 0.8673132139959396}. Best is trial 1 with value: 0.4702032121386974.\n",
      "[I 2023-07-30 03:08:25,116] Trial 3 finished with value: 0.4610189902552715 and parameters: {'colsample_bytree': 0.8034566333244835, 'eta': 0.0623097606485507, 'gamma': 0.9360254877750589, 'max_depth': 10, 'min_child_weight': 13, 'n_estimators': 264, 'reg_alpha': 0.3102803298514034, 'reg_lambda': 0.11741373099700314, 'subsample': 0.5997319213485195}. Best is trial 1 with value: 0.4702032121386974.\n",
      "[I 2023-07-30 03:20:31,326] Trial 4 finished with value: 0.4379277628369669 and parameters: {'colsample_bytree': 0.6634605909755766, 'eta': 0.07626584068024207, 'gamma': 0.9055907275229181, 'max_depth': 4, 'min_child_weight': 5, 'n_estimators': 233, 'reg_alpha': 0.9020336220682924, 'reg_lambda': 0.3575353556820574, 'subsample': 0.965869649219754}. Best is trial 1 with value: 0.4702032121386974.\n",
      "[I 2023-07-30 03:29:50,850] Trial 5 finished with value: 0.4457997332616044 and parameters: {'colsample_bytree': 0.5919435218471353, 'eta': 0.09499987787213297, 'gamma': 0.1520614705696477, 'max_depth': 6, 'min_child_weight': 9, 'n_estimators': 152, 'reg_alpha': 0.9115056112242831, 'reg_lambda': 0.21887534934953845, 'subsample': 0.9378174840033342}. Best is trial 1 with value: 0.4702032121386974.\n",
      "[I 2023-07-30 04:23:26,641] Trial 6 finished with value: 0.463788067688749 and parameters: {'colsample_bytree': 0.9598442475171911, 'eta': 0.20018989666688322, 'gamma': 0.28577949357146915, 'max_depth': 5, 'min_child_weight': 3, 'n_estimators': 650, 'reg_alpha': 0.7735826483980147, 'reg_lambda': 0.17085749559057906, 'subsample': 0.8628677087192005}. Best is trial 1 with value: 0.4702032121386974.\n",
      "[I 2023-07-30 04:42:04,393] Trial 7 finished with value: 0.46206491958370277 and parameters: {'colsample_bytree': 0.9024825068202224, 'eta': 0.2143261012291839, 'gamma': 0.6654156906431467, 'max_depth': 8, 'min_child_weight': 7, 'n_estimators': 187, 'reg_alpha': 0.8612811579989555, 'reg_lambda': 0.6222253558669995, 'subsample': 0.5932469763311826}. Best is trial 1 with value: 0.4702032121386974.\n",
      "[I 2023-07-30 05:45:14,606] Trial 8 finished with value: 0.4620576331162501 and parameters: {'colsample_bytree': 0.7922287811521957, 'eta': 0.2061286845677276, 'gamma': 0.36882903457081007, 'max_depth': 11, 'min_child_weight': 14, 'n_estimators': 668, 'reg_alpha': 0.9824996484851061, 'reg_lambda': 0.052463652496637425, 'subsample': 0.5493413472524806}. Best is trial 1 with value: 0.4702032121386974.\n",
      "[I 2023-07-30 07:27:18,839] Trial 9 finished with value: 0.4636620231223934 and parameters: {'colsample_bytree': 0.7947236688590721, 'eta': 0.28257795022819077, 'gamma': 0.5403950024678492, 'max_depth': 14, 'min_child_weight': 12, 'n_estimators': 857, 'reg_alpha': 0.42083496089350514, 'reg_lambda': 0.18060089996190898, 'subsample': 0.7299117914315325}. Best is trial 1 with value: 0.4702032121386974.\n",
      "[I 2023-07-30 07:51:42,401] Trial 10 finished with value: 0.4680452962672343 and parameters: {'colsample_bytree': 0.5332073343659371, 'eta': 0.29451153375739625, 'gamma': 0.025388240587568167, 'max_depth': 8, 'min_child_weight': 9, 'n_estimators': 408, 'reg_alpha': 0.07577246239776347, 'reg_lambda': 0.8484821109310812, 'subsample': 0.7510314898160387}. Best is trial 1 with value: 0.4702032121386974.\n",
      "[I 2023-07-30 08:14:19,167] Trial 11 finished with value: 0.46119139425098316 and parameters: {'colsample_bytree': 0.5014371386631176, 'eta': 0.299491265115227, 'gamma': 0.028742201979248767, 'max_depth': 8, 'min_child_weight': 9, 'n_estimators': 398, 'reg_alpha': 0.09849454186787629, 'reg_lambda': 0.934783758261886, 'subsample': 0.7521856467539147}. Best is trial 1 with value: 0.4702032121386974.\n",
      "[I 2023-07-30 08:51:17,087] Trial 12 finished with value: 0.4570879668054524 and parameters: {'colsample_bytree': 0.675163410042765, 'eta': 0.2572082448188633, 'gamma': 0.19390283546041587, 'max_depth': 13, 'min_child_weight': 10, 'n_estimators': 344, 'reg_alpha': 0.0527918261835405, 'reg_lambda': 0.5757343880912713, 'subsample': 0.7468058573551801}. Best is trial 1 with value: 0.4702032121386974.\n",
      "[I 2023-07-30 09:14:27,742] Trial 13 finished with value: 0.4682737356268771 and parameters: {'colsample_bytree': 0.5227566005432258, 'eta': 0.1514991579658802, 'gamma': 0.018615917225400035, 'max_depth': 7, 'min_child_weight': 15, 'n_estimators': 436, 'reg_alpha': 0.2297757539529292, 'reg_lambda': 0.7442003179375413, 'subsample': 0.8209388371009716}. Best is trial 1 with value: 0.4702032121386974.\n",
      "[I 2023-07-30 09:31:36,896] Trial 14 finished with value: 0.46317641415665994 and parameters: {'colsample_bytree': 0.5948493056547836, 'eta': 0.14802263484719547, 'gamma': 0.18332313660350652, 'max_depth': 3, 'min_child_weight': 15, 'n_estimators': 525, 'reg_alpha': 0.2862778185415107, 'reg_lambda': 0.6861094775571794, 'subsample': 0.8336567171734712}. Best is trial 1 with value: 0.4702032121386974.\n",
      "[I 2023-07-30 10:45:31,826] Trial 15 finished with value: 0.46520685101975306 and parameters: {'colsample_bytree': 0.7472103118772685, 'eta': 0.15242501676899786, 'gamma': 0.3334074946683806, 'max_depth': 7, 'min_child_weight': 15, 'n_estimators': 993, 'reg_alpha': 0.6009648235753191, 'reg_lambda': 0.7395664098867905, 'subsample': 0.9896513275655061}. Best is trial 1 with value: 0.4702032121386974.\n",
      "[I 2023-07-30 11:04:26,572] Trial 16 finished with value: 0.4614678027558428 and parameters: {'colsample_bytree': 0.6931678135503601, 'eta': 0.11616548138946384, 'gamma': 0.42361155445340637, 'max_depth': 3, 'min_child_weight': 11, 'n_estimators': 490, 'reg_alpha': 0.2263277005970789, 'reg_lambda': 0.4697360271886362, 'subsample': 0.9047631450645527}. Best is trial 1 with value: 0.4702032121386974.\n",
      "[I 2023-07-30 11:09:59,243] Trial 17 finished with value: 0.448219824553961 and parameters: {'colsample_bytree': 0.6297413532101874, 'eta': 0.17747271316439728, 'gamma': 0.14920700102465598, 'max_depth': 6, 'min_child_weight': 13, 'n_estimators': 92, 'reg_alpha': 0.4788815789142081, 'reg_lambda': 0.4861568614190306, 'subsample': 0.811930492194254}. Best is trial 1 with value: 0.4702032121386974.\n",
      "[I 2023-07-30 12:33:31,372] Trial 18 finished with value: 0.46539422950603965 and parameters: {'colsample_bytree': 0.7262752089422634, 'eta': 0.2387804013613626, 'gamma': 0.2591337901278514, 'max_depth': 11, 'min_child_weight': 7, 'n_estimators': 796, 'reg_alpha': 0.665967471426391, 'reg_lambda': 0.7884702761065671, 'subsample': 0.9116161876674822}. Best is trial 1 with value: 0.4702032121386974.\n",
      "[I 2023-07-30 12:54:51,896] Trial 19 finished with value: 0.4692518498607449 and parameters: {'colsample_bytree': 0.5562977404846473, 'eta': 0.13540915113681598, 'gamma': 0.1237403404697276, 'max_depth': 6, 'min_child_weight': 14, 'n_estimators': 425, 'reg_alpha': 0.4254170699964288, 'reg_lambda': 0.9988667289800655, 'subsample': 0.812246625493782}. Best is trial 1 with value: 0.4702032121386974.\n",
      "[I 2023-07-30 13:08:43,814] Trial 20 finished with value: 0.46387473360798936 and parameters: {'colsample_bytree': 0.5665656242820848, 'eta': 0.12317971145730063, 'gamma': 0.4241484598237643, 'max_depth': 5, 'min_child_weight': 11, 'n_estimators': 313, 'reg_alpha': 0.3975712045946893, 'reg_lambda': 0.9861684241445472, 'subsample': 0.6865281580374727}. Best is trial 1 with value: 0.4702032121386974.\n"
     ]
    },
    {
     "name": "stderr",
     "output_type": "stream",
     "text": [
      "[I 2023-07-30 13:32:47,285] Trial 21 finished with value: 0.46498990467896845 and parameters: {'colsample_bytree': 0.5144170729865112, 'eta': 0.17741818251300137, 'gamma': 0.08851852845177571, 'max_depth': 7, 'min_child_weight': 14, 'n_estimators': 454, 'reg_alpha': 0.5480955109029495, 'reg_lambda': 0.8662270341787979, 'subsample': 0.8270276074795879}. Best is trial 1 with value: 0.4702032121386974.\n",
      "[I 2023-07-30 14:03:44,680] Trial 22 finished with value: 0.4655855667756022 and parameters: {'colsample_bytree': 0.5576349696425419, 'eta': 0.13554886127155324, 'gamma': 0.004737494700155026, 'max_depth': 6, 'min_child_weight': 15, 'n_estimators': 604, 'reg_alpha': 0.4781702677533959, 'reg_lambda': 0.6642925938408274, 'subsample': 0.8027146105626319}. Best is trial 1 with value: 0.4702032121386974.\n",
      "[I 2023-07-30 14:40:28,405] Trial 23 finished with value: 0.4660159468529745 and parameters: {'colsample_bytree': 0.6281076885514805, 'eta': 0.17537792340810762, 'gamma': 0.12321065825265394, 'max_depth': 9, 'min_child_weight': 13, 'n_estimators': 376, 'reg_alpha': 0.3552019364569826, 'reg_lambda': 0.9861683779077929, 'subsample': 0.8837529145510087}. Best is trial 1 with value: 0.4702032121386974.\n",
      "[I 2023-07-30 14:59:44,081] Trial 24 finished with value: 0.47064932141493054 and parameters: {'colsample_bytree': 0.5445572001569771, 'eta': 0.16065503540586137, 'gamma': 0.2333122927629231, 'max_depth': 4, 'min_child_weight': 14, 'n_estimators': 464, 'reg_alpha': 0.17592259384445974, 'reg_lambda': 0.793560885473462, 'subsample': 0.7919190439066093}. Best is trial 24 with value: 0.47064932141493054.\n",
      "[I 2023-07-30 15:22:19,917] Trial 25 finished with value: 0.4662244815079259 and parameters: {'colsample_bytree': 0.6375978288313575, 'eta': 0.17141428472950657, 'gamma': 0.24075326781061446, 'max_depth': 4, 'min_child_weight': 11, 'n_estimators': 512, 'reg_alpha': 0.41759026100004926, 'reg_lambda': 0.8835451902878741, 'subsample': 0.7969788067697532}. Best is trial 24 with value: 0.47064932141493054.\n",
      "[I 2023-07-30 15:32:41,915] Trial 26 finished with value: 0.4543283724437505 and parameters: {'colsample_bytree': 0.5700094616984771, 'eta': 0.10863909116933915, 'gamma': 0.2251060516464939, 'max_depth': 3, 'min_child_weight': 12, 'n_estimators': 306, 'reg_alpha': 0.19834402078987837, 'reg_lambda': 0.8143335366675338, 'subsample': 0.8517621033307761}. Best is trial 24 with value: 0.47064932141493054.\n",
      "[I 2023-07-30 16:09:04,219] Trial 27 finished with value: 0.4703151192339972 and parameters: {'colsample_bytree': 0.69441547005669, 'eta': 0.2261675415637435, 'gamma': 0.09412603075205293, 'max_depth': 4, 'min_child_weight': 14, 'n_estimators': 767, 'reg_alpha': 0.15773752358741266, 'reg_lambda': 0.5613063116424941, 'subsample': 0.9255987546506952}. Best is trial 24 with value: 0.47064932141493054.\n",
      "[I 2023-07-30 16:45:50,060] Trial 28 finished with value: 0.46625575061582625 and parameters: {'colsample_bytree': 0.6930596760863688, 'eta': 0.2331329545936517, 'gamma': 0.2898713258918203, 'max_depth': 4, 'min_child_weight': 13, 'n_estimators': 780, 'reg_alpha': 0.0059486533202441905, 'reg_lambda': 0.5521046498984278, 'subsample': 0.9312211158863175}. Best is trial 24 with value: 0.47064932141493054.\n",
      "[I 2023-07-30 17:31:43,385] Trial 29 finished with value: 0.46772935363052975 and parameters: {'colsample_bytree': 0.8400943945242059, 'eta': 0.1935386786396879, 'gamma': 0.08362843948369286, 'max_depth': 5, 'min_child_weight': 12, 'n_estimators': 720, 'reg_alpha': 0.14739285398424504, 'reg_lambda': 0.4431372641489793, 'subsample': 0.8899695510392737}. Best is trial 24 with value: 0.47064932141493054.\n",
      "[I 2023-07-30 18:13:17,618] Trial 30 finished with value: 0.4720905631356927 and parameters: {'colsample_bytree': 0.7778069630392177, 'eta': 0.22550971945902346, 'gamma': 0.20977543598334958, 'max_depth': 3, 'min_child_weight': 7, 'n_estimators': 936, 'reg_alpha': 0.3076938732214151, 'reg_lambda': 0.5234010594581782, 'subsample': 0.928709805080151}. Best is trial 30 with value: 0.4720905631356927.\n",
      "[I 2023-07-30 18:57:19,218] Trial 31 finished with value: 0.47020488037840874 and parameters: {'colsample_bytree': 0.7806303507888068, 'eta': 0.22255075744514138, 'gamma': 0.214769654312641, 'max_depth': 3, 'min_child_weight': 7, 'n_estimators': 973, 'reg_alpha': 0.2898683611884799, 'reg_lambda': 0.512423760181542, 'subsample': 0.9485956541288387}. Best is trial 30 with value: 0.4720905631356927.\n",
      "[I 2023-07-30 19:40:32,010] Trial 32 finished with value: 0.46867657071759156 and parameters: {'colsample_bytree': 0.7638248212979235, 'eta': 0.22839726030365903, 'gamma': 0.21796281934091472, 'max_depth': 3, 'min_child_weight': 7, 'n_estimators': 945, 'reg_alpha': 0.151065369646423, 'reg_lambda': 0.5722846164213806, 'subsample': 0.9889921533996349}. Best is trial 30 with value: 0.4720905631356927.\n",
      "[I 2023-07-30 20:20:25,937] Trial 33 finished with value: 0.4704361139788211 and parameters: {'colsample_bytree': 0.7209927253671593, 'eta': 0.25225041738385773, 'gamma': 0.3165322743578586, 'max_depth': 3, 'min_child_weight': 5, 'n_estimators': 901, 'reg_alpha': 0.28802853816450974, 'reg_lambda': 0.39825698838659085, 'subsample': 0.9557558039162231}. Best is trial 30 with value: 0.4720905631356927.\n",
      "[I 2023-07-30 21:14:44,698] Trial 34 finished with value: 0.47003054350815016 and parameters: {'colsample_bytree': 0.7312904276440108, 'eta': 0.25566934659002455, 'gamma': 0.2960983035995911, 'max_depth': 5, 'min_child_weight': 5, 'n_estimators': 881, 'reg_alpha': 0.17214773558565832, 'reg_lambda': 0.39954776635803657, 'subsample': 0.9180076881466338}. Best is trial 30 with value: 0.4720905631356927.\n",
      "[I 2023-07-30 22:07:17,611] Trial 35 finished with value: 0.46532083304980604 and parameters: {'colsample_bytree': 0.8224593505940965, 'eta': 0.2531732179081055, 'gamma': 0.3598782282314878, 'max_depth': 4, 'min_child_weight': 5, 'n_estimators': 897, 'reg_alpha': 0.24047209854367813, 'reg_lambda': 0.30754438472751955, 'subsample': 0.9602570907505747}. Best is trial 30 with value: 0.4720905631356927.\n",
      "[I 2023-07-30 22:50:47,090] Trial 36 finished with value: 0.46556598214504546 and parameters: {'colsample_bytree': 0.7036830750823209, 'eta': 0.26888489909751945, 'gamma': 0.17905847715250292, 'max_depth': 4, 'min_child_weight': 4, 'n_estimators': 824, 'reg_alpha': 0.3245604475172695, 'reg_lambda': 0.3990675498797547, 'subsample': 0.9961417623380932}. Best is trial 30 with value: 0.4720905631356927.\n",
      "[I 2023-07-30 23:36:01,976] Trial 37 finished with value: 0.47176840862279595 and parameters: {'colsample_bytree': 0.7467991259900281, 'eta': 0.23694200301096283, 'gamma': 0.3080560787264916, 'max_depth': 5, 'min_child_weight': 6, 'n_estimators': 753, 'reg_alpha': 0.26081966761170516, 'reg_lambda': 0.32396562169464893, 'subsample': 0.8696949962078039}. Best is trial 30 with value: 0.4720905631356927.\n",
      "[I 2023-07-31 00:15:20,217] Trial 38 finished with value: 0.4714376512634602 and parameters: {'colsample_bytree': 0.7528797385114504, 'eta': 0.19546032812472475, 'gamma': 0.30831352469862916, 'max_depth': 3, 'min_child_weight': 6, 'n_estimators': 925, 'reg_alpha': 0.2691262187051332, 'reg_lambda': 0.3135242962802321, 'subsample': 0.8833418056603715}. Best is trial 30 with value: 0.4720905631356927.\n",
      "[I 2023-07-31 01:04:57,630] Trial 39 finished with value: 0.46645941348987957 and parameters: {'colsample_bytree': 0.8655240592721781, 'eta': 0.20565807227752084, 'gamma': 0.25918707861983153, 'max_depth': 5, 'min_child_weight': 6, 'n_estimators': 722, 'reg_alpha': 0.36404189996049025, 'reg_lambda': 0.2963885272779048, 'subsample': 0.8491396000044144}. Best is trial 30 with value: 0.4720905631356927.\n",
      "[I 2023-07-31 01:35:14,855] Trial 40 finished with value: 0.4688396343951385 and parameters: {'colsample_bytree': 0.7608627017490788, 'eta': 0.1970691749596968, 'gamma': 0.40133500244270426, 'max_depth': 4, 'min_child_weight': 8, 'n_estimators': 589, 'reg_alpha': 0.2528031543344272, 'reg_lambda': 0.23421972626716908, 'subsample': 0.874757246159484}. Best is trial 30 with value: 0.4720905631356927.\n",
      "[I 2023-07-31 02:14:38,893] Trial 41 finished with value: 0.4674458937685022 and parameters: {'colsample_bytree': 0.7483296361255869, 'eta': 0.2427180211528402, 'gamma': 0.35063182750010424, 'max_depth': 3, 'min_child_weight': 6, 'n_estimators': 936, 'reg_alpha': 0.3202296691894418, 'reg_lambda': 0.3457528179904304, 'subsample': 0.8945109634184911}. Best is trial 30 with value: 0.4720905631356927.\n"
     ]
    },
    {
     "name": "stderr",
     "output_type": "stream",
     "text": [
      "[I 2023-07-31 03:01:41,950] Trial 42 finished with value: 0.46417681742625055 and parameters: {'colsample_bytree': 0.8123209026960019, 'eta': 0.21322609068686285, 'gamma': 0.31018013179752324, 'max_depth': 3, 'min_child_weight': 2, 'n_estimators': 918, 'reg_alpha': 0.28260981317894973, 'reg_lambda': 0.343523971866212, 'subsample': 0.9403856352602971}. Best is trial 30 with value: 0.4720905631356927.\n",
      "[I 2023-07-31 03:48:40,622] Trial 43 finished with value: 0.4703353965231631 and parameters: {'colsample_bytree': 0.7819888377930647, 'eta': 0.19061744654579565, 'gamma': 0.4600468156699826, 'max_depth': 4, 'min_child_weight': 4, 'n_estimators': 843, 'reg_alpha': 0.20998074625355836, 'reg_lambda': 0.4263354584385572, 'subsample': 0.867035302343105}. Best is trial 30 with value: 0.4720905631356927.\n",
      "[I 2023-07-31 04:41:15,326] Trial 44 finished with value: 0.47057481797004774 and parameters: {'colsample_bytree': 0.7385861791254164, 'eta': 0.2204403887709136, 'gamma': 0.3096562463971734, 'max_depth': 5, 'min_child_weight': 6, 'n_estimators': 877, 'reg_alpha': 0.27569258676131964, 'reg_lambda': 0.36684616748922083, 'subsample': 0.9008580121221769}. Best is trial 30 with value: 0.4720905631356927.\n",
      "[I 2023-07-31 05:38:21,739] Trial 45 finished with value: 0.46929920802895597 and parameters: {'colsample_bytree': 0.7702979172825468, 'eta': 0.2148918734344295, 'gamma': 0.36791990381369505, 'max_depth': 6, 'min_child_weight': 8, 'n_estimators': 825, 'reg_alpha': 0.09908817333047171, 'reg_lambda': 0.2549395118888349, 'subsample': 0.8983179474408889}. Best is trial 30 with value: 0.4720905631356927.\n",
      "[I 2023-07-31 06:38:59,041] Trial 46 finished with value: 0.47043902905916274 and parameters: {'colsample_bytree': 0.8037267576264763, 'eta': 0.22052911263612018, 'gamma': 0.2577190302052463, 'max_depth': 5, 'min_child_weight': 6, 'n_estimators': 958, 'reg_alpha': 0.3562091806129138, 'reg_lambda': 0.2707526844179238, 'subsample': 0.8589643621901909}. Best is trial 30 with value: 0.4720905631356927.\n",
      "[I 2023-07-31 07:18:53,521] Trial 47 finished with value: 0.4734151878989077 and parameters: {'colsample_bytree': 0.6660707896339382, 'eta': 0.1865203620258158, 'gamma': 0.4869470425232074, 'max_depth': 5, 'min_child_weight': 8, 'n_estimators': 747, 'reg_alpha': 0.2615683528029101, 'reg_lambda': 0.20706126430246635, 'subsample': 0.87307714888806}. Best is trial 47 with value: 0.4734151878989077.\n",
      "[I 2023-07-31 08:40:42,508] Trial 48 finished with value: 0.4649683296605646 and parameters: {'colsample_bytree': 0.6679922170279978, 'eta': 0.18829130345227277, 'gamma': 0.5434499749672732, 'max_depth': 15, 'min_child_weight': 8, 'n_estimators': 655, 'reg_alpha': 0.20434933790294874, 'reg_lambda': 0.18357958584576894, 'subsample': 0.8754542823527988}. Best is trial 47 with value: 0.4734151878989077.\n",
      "[I 2023-07-31 09:27:17,739] Trial 49 finished with value: 0.4703903840505497 and parameters: {'colsample_bytree': 0.7168875497046057, 'eta': 0.16705287849418618, 'gamma': 0.6388924614038844, 'max_depth': 6, 'min_child_weight': 10, 'n_estimators': 737, 'reg_alpha': 0.1206714869382284, 'reg_lambda': 0.11730847656991614, 'subsample': 0.8386063004379852}. Best is trial 47 with value: 0.4734151878989077.\n"
     ]
    },
    {
     "name": "stdout",
     "output_type": "stream",
     "text": [
      "Val Loss: 0.4734151878989077\n",
      "Best hyperparameters: {'colsample_bytree': 0.6660707896339382, 'eta': 0.1865203620258158, 'gamma': 0.4869470425232074, 'max_depth': 5, 'min_child_weight': 8, 'n_estimators': 747, 'reg_alpha': 0.2615683528029101, 'reg_lambda': 0.20706126430246635, 'subsample': 0.87307714888806}\n"
     ]
    }
   ],
   "source": [
    "study = optuna.create_study(storage=storage, direction='maximize', study_name='description_title_keywords',load_if_exists=True)\n",
    "study.optimize(objective, n_trials=50)\n",
    "\n",
    "trial = study.best_trial\n",
    "print('Val Loss: {}'.format(trial.value))\n",
    "print(\"Best hyperparameters: {}\".format(trial.params))"
   ]
  },
  {
   "cell_type": "code",
   "execution_count": null,
   "id": "e00251b4",
   "metadata": {},
   "outputs": [],
   "source": [
    "# in case it fails\n",
    "# Load the existing study by providing the study name and storage URL\n",
    "study = optuna.load_study(study_name='description_title_keywords', storage=storage)\n",
    "\n",
    "# Continue optimization with additional trials\n",
    "study.optimize(objective, n_trials=50)\n",
    "\n",
    "trial = study.best_trial\n",
    "print('Val Loss: {}'.format(trial.value))\n",
    "print(\"Best hyperparameters: {}\".format(trial.params))"
   ]
  },
  {
   "cell_type": "code",
   "execution_count": 16,
   "id": "d3b7b4ca",
   "metadata": {},
   "outputs": [
    {
     "name": "stdout",
     "output_type": "stream",
     "text": [
      "Individual fold F1-scores: [0.46351798 0.4781506  0.46642378 0.45866256 0.46751138 0.48285707]\n",
      "Mean cross-validation F1-score: 0.46952056262192415\n",
      "Individual Precision: [0.51388756 0.54248004 0.51866748 0.53119626 0.52422632 0.53729532]\n",
      "Mean cross-validation Precision: 0.5279588297059851\n",
      "Individual Accuracy: [0.65040906 0.66173694 0.64694777 0.64431854 0.65879761 0.65659427]\n",
      "Mean cross-validation Accuracy: 0.6531340313833981\n",
      "Individual Recall: [0.45259352 0.46284257 0.45552786 0.44587416 0.45587508 0.46703823]\n",
      "Mean cross-validation Recall: 0.4566252370648251\n"
     ]
    }
   ],
   "source": [
    "feature_set=['narrative_tfidf', 'tfidf_title', 'tfidf_keywords']\n",
    "X_train_val_combined = X_train_val[feature_set].apply(lambda x: ' '.join(x.fillna('').astype(str)), axis=1)\n",
    "X_test_combined = X_test[feature_set].apply(lambda x: ' '.join(x.fillna('').astype(str)), axis=1)\n",
    "\n",
    "# Transform the features using TF-IDF\n",
    "vectorizer = TfidfVectorizer(ngram_range=(1, 3), max_df=0.95, min_df=2)\n",
    "X_train_val_combined_transformed = vectorizer.fit_transform(X_train_val_combined)\n",
    "X_test_combined_transformed = vectorizer.transform(X_test_combined)\n",
    "\n",
    "\n",
    "best_model = XGBClassifier(\n",
    "    colsample_bytree=0.6660707896339382,\n",
    "    eta=0.1865203620258158,\n",
    "    gamma=0.4869470425232074,\n",
    "    max_depth=5,\n",
    "    min_child_weight=8,\n",
    "    n_estimators=747,\n",
    "    reg_alpha=0.2615683528029101,\n",
    "    reg_lambda=0.20706126430246635,\n",
    "    subsample=0.87307714888806\n",
    ")\n",
    "cv = StratifiedKFold(n_splits=6, shuffle=True, random_state=42)\n",
    "f1_scores = cross_val_score(best_model, X_train_val_combined_transformed, y_train_val, cv=cv, scoring='f1_macro')\n",
    "acc_scores = cross_val_score(best_model, X_train_val_combined_transformed, y_train_val, cv=cv, scoring='accuracy')\n",
    "rec_scores = cross_val_score(best_model, X_train_val_combined_transformed, y_train_val, cv=cv, scoring='recall_macro')\n",
    "prec_scores = cross_val_score(best_model, X_train_val_combined_transformed, y_train_val, cv=cv, scoring='precision_macro')\n",
    "\n",
    "print(\"Individual fold F1-scores:\", f1_scores)\n",
    "print(\"Mean cross-validation F1-score:\", f1_scores.mean())\n",
    "print(\"Individual Precision:\", prec_scores)\n",
    "print(\"Mean cross-validation Precision:\", prec_scores.mean())\n",
    "print(\"Individual Accuracy:\", acc_scores)\n",
    "# or np.mean\n",
    "print(\"Mean cross-validation Accuracy:\", acc_scores.mean())\n",
    "print(\"Individual Recall:\", rec_scores)\n",
    "print(\"Mean cross-validation Recall:\", rec_scores.mean())"
   ]
  },
  {
   "cell_type": "code",
   "execution_count": 17,
   "id": "13bce3fe",
   "metadata": {},
   "outputs": [
    {
     "name": "stdout",
     "output_type": "stream",
     "text": [
      "test classification report\n",
      "              precision    recall  f1-score   support\n",
      "\n",
      "           0       0.58      0.61      0.60      1195\n",
      "           1       0.25      0.10      0.14       333\n",
      "           2       0.72      0.84      0.77      1609\n",
      "           3       0.41      0.21      0.27       228\n",
      "\n",
      "    accuracy                           0.64      3365\n",
      "   macro avg       0.49      0.44      0.45      3365\n",
      "weighted avg       0.60      0.64      0.61      3365\n",
      "\n"
     ]
    },
    {
     "data": {
      "image/png": "[encoded data removed]",
      "text/plain": [
       "<Figure size 700x700 with 1 Axes>"
      ]
     },
     "metadata": {},
     "output_type": "display_data"
    },
    {
     "name": "stdout",
     "output_type": "stream",
     "text": [
      "\n",
      "\n"
     ]
    }
   ],
   "source": [
    "# Retrain on full training set using the best hyperparameters\n",
    "best_model.fit(X_train_val_combined_transformed, y_train_val)\n",
    "\n",
    "# Make predictions on the test dataset\n",
    "y_pred_test = best_model.predict(X_test_combined_transformed)\n",
    "print('test classification report')\n",
    "print(classification_report(y_test, y_pred_test))\n",
    "\n",
    "# Print the confusion matrix\n",
    "fig, ax = plt.subplots(figsize=(7, 7))\n",
    "confusion_mat = confusion_matrix(y_true=y_test, y_pred=y_pred_test, labels=[0,1,2,3])\n",
    "ax.matshow(confusion_mat, cmap=plt.cm.Blues, alpha=0.3)\n",
    "for i in range(confusion_mat.shape[0]):\n",
    "    for j in range(confusion_mat.shape[1]):\n",
    "        ax.text(x=j, y=i,s=confusion_mat[i, j], va='center', ha='center', size='xx-large')\n",
    "plt.xlabel('Predictions', fontsize=10)\n",
    "plt.ylabel('Actuals', fontsize=10)\n",
    "plt.title('Confusion Matrix', fontsize=10)\n",
    "plt.show()\n",
    "print('\\n')"
   ]
  },
  {
   "cell_type": "code",
   "execution_count": 18,
   "id": "f04d1079",
   "metadata": {},
   "outputs": [],
   "source": [
    "# Plot Learning Curves\n",
    "def plot_learning_curve(best_model, X_train_val_combined_transformed, y_train_val, scoring):\n",
    "    # Create StratifiedKFold cross-validator with 6 folds\n",
    "    stratified_cv = StratifiedKFold(n_splits=6, shuffle=True, random_state=42)\n",
    "\n",
    "    train_sizes, train_scores, val_scores = learning_curve(best_model, X_train_val_combined_transformed, y_train_val, cv=stratified_cv, \n",
    "                                                           scoring=scoring, train_sizes=np.linspace(0.1, 1.0, 10),\n",
    "                                                           random_state=42)\n",
    "\n",
    "    # Calculate mean and standard deviation of training and validation scores\n",
    "    train_scores_mean = np.mean(train_scores, axis=1)\n",
    "    train_scores_std = np.std(train_scores, axis=1)\n",
    "    valid_scores_mean = np.mean(val_scores, axis=1)\n",
    "    valid_scores_std = np.std(val_scores, axis=1)\n",
    "\n",
    "    # Plot learning curves\n",
    "    plt.figure(figsize=(10, 6))\n",
    "    plt.plot(train_sizes, train_scores_mean, label='Training score', color='blue')\n",
    "    plt.fill_between(train_sizes, train_scores_mean - train_scores_std,\n",
    "                     train_scores_mean + train_scores_std, alpha=0.2, color='blue')\n",
    "    plt.plot(train_sizes, valid_scores_mean, label='Cross-validation score', color='red')\n",
    "    plt.fill_between(train_sizes, valid_scores_mean - valid_scores_std,\n",
    "                     valid_scores_mean + valid_scores_std, alpha=0.2, color='red')\n",
    "    plt.xlabel('Number of Training Examples')\n",
    "    plt.ylabel('{} Score'.format(scoring))\n",
    "    plt.title('Learning Curves')\n",
    "    plt.legend(loc='best')\n",
    "    plt.grid()\n",
    "    plt.show()"
   ]
  },
  {
   "cell_type": "code",
   "execution_count": 19,
   "id": "9880d23d",
   "metadata": {},
   "outputs": [
    {
     "data": {
      "image/png": "[encoded data removed]",
      "text/plain": [
       "<Figure size 1000x600 with 1 Axes>"
      ]
     },
     "metadata": {},
     "output_type": "display_data"
    }
   ],
   "source": [
    "plot_learning_curve(best_model, X_train_val_combined_transformed, y_train_val, 'f1_macro')"
   ]
  },
  {
   "cell_type": "code",
   "execution_count": 20,
   "id": "3655b48b",
   "metadata": {},
   "outputs": [
    {
     "data": {
      "image/png": "[encoded data removed]",
      "text/plain": [
       "<Figure size 1000x600 with 1 Axes>"
      ]
     },
     "metadata": {},
     "output_type": "display_data"
    }
   ],
   "source": [
    "plot_learning_curve(best_model, X_train_val_combined_transformed, y_train_val, 'accuracy')"
   ]
  },
  {
   "cell_type": "markdown",
   "id": "4c7d2bf9",
   "metadata": {},
   "source": [
    "<span style=\"color:white; font-size:18px;background-color:red\">* Training XGBoost with Class Weighting</span>  "
   ]
  },
  {
   "cell_type": "code",
   "execution_count": null,
   "id": "cce1857b",
   "metadata": {},
   "outputs": [],
   "source": []
  },
  {
   "cell_type": "code",
   "execution_count": null,
   "id": "9a0ee91a",
   "metadata": {},
   "outputs": [],
   "source": []
  },
  {
   "cell_type": "markdown",
   "id": "934e72bc",
   "metadata": {},
   "source": [
    "<span style=\"color:white; font-size:18px;background-color:red\">* Resampling with smote</span>"
   ]
  },
  {
   "cell_type": "code",
   "execution_count": null,
   "id": "b085d870",
   "metadata": {},
   "outputs": [],
   "source": []
  },
  {
   "cell_type": "markdown",
   "id": "eb5fdc83",
   "metadata": {},
   "source": [
    "<span style=\"color:white; font-size:18px;background-color:red\">* chi-square feature selection + hyperparameter tuning</span>"
   ]
  },
  {
   "cell_type": "code",
   "execution_count": 21,
   "id": "2bd72a45",
   "metadata": {},
   "outputs": [],
   "source": [
    "import optuna\n",
    "def objective2(trial):\n",
    "    feature_set=['narrative_tfidf', 'tfidf_title', 'tfidf_keywords']\n",
    "    X_train_val_combined = X_train_val[feature_set].apply(lambda x: ' '.join(x.fillna('').astype(str)), axis=1)\n",
    "    X_test_combined = X_test[feature_set].apply(lambda x: ' '.join(x.fillna('').astype(str)), axis=1)\n",
    "\n",
    "    # Transform the features using TF-IDF\n",
    "    vectorizer = TfidfVectorizer(ngram_range=(1, 3), max_df=0.95, min_df=2)\n",
    "    X_train_val_combined_transformed = vectorizer.fit_transform(X_train_val_combined)\n",
    "    X_test_combined_transformed = vectorizer.transform(X_test_combined)\n",
    "\n",
    "    # Nr features before\n",
    "    feature_names = vectorizer.get_feature_names_out()\n",
    "    num_features_before = len(feature_names)\n",
    "\n",
    "    # Define the hyperparameter search space\n",
    "    params = {\n",
    "      'objective': 'multi:softmax',\n",
    "      'num_class': 4,\n",
    "      'eval_metric': 'mlogloss',\n",
    "      'eta': trial.suggest_float('eta', 0.01, 0.3),\n",
    "      'n_estimators': trial.suggest_int('n_estimators', 50, 1000),\n",
    "      'max_depth': trial.suggest_int('max_depth', 3, 15),\n",
    "      'subsample': trial.suggest_float('subsample', 0.5, 1.0),\n",
    "      'colsample_bytree': trial.suggest_float('colsample_bytree', 0.5, 1.0),\n",
    "      'min_child_weight': trial.suggest_int('min_child_weight', 2, 15),\n",
    "      'gamma': trial.suggest_float(\"gamma\", 0, 1),\n",
    "      'random_state': 42,  # Add other hyperparameters as needed\n",
    "      'reg_alpha': trial.suggest_float('reg_alpha',0, 1),              # L1 regularization term on weights\n",
    "      'reg_lambda': trial.suggest_float('reg_lambda',0, 1)\n",
    "    }\n",
    "    \n",
    "    # Create and train the XGBoost classifier with the current set of hyperparameters\n",
    "    clf = XGBClassifier(**params)\n",
    "    \n",
    "    # Perform feature selection with SelectKBest and chi2 score function\n",
    "    best_k = trial.suggest_int('best_k', 100, (num_features_before// 2) + 1, step=100)\n",
    "    selector = SelectKBest(score_func=chi2, k=best_k)\n",
    "    X_train_selected = selector.fit_transform(X_train_val_combined_transformed, y_train_val)\n",
    "    \n",
    "    clf.fit(X_train_selected, y_train_val)\n",
    "\n",
    "    # Evaluate the classifier on the validation set\n",
    "    cv = StratifiedKFold(n_splits=6, shuffle=True, random_state=42)\n",
    "    f1_scores = cross_val_score(clf, X_train_selected, y_train_val, cv=cv, scoring='f1_macro')\n",
    "\n",
    "    return f1_scores.mean()"
   ]
  },
  {
   "cell_type": "code",
   "execution_count": 22,
   "id": "72731f99",
   "metadata": {},
   "outputs": [],
   "source": [
    "import os\n",
    "path = 'D:\\\\MS DATA SCIENCE\\\\NLP TESE\\\\optuna'\n",
    "database_filename = 'description_title_keywords_chi2.db'\n",
    "\n",
    "# Full path to the SQLite database file in Google Drive\n",
    "database_path = os.path.join(path, database_filename)\n",
    "\n",
    "# Set the SQLite database path to Google Drive path\n",
    "storage = optuna.storages.RDBStorage(url=f'sqlite:///{database_path}')"
   ]
  },
  {
   "cell_type": "code",
   "execution_count": null,
   "id": "3d48bc9c",
   "metadata": {},
   "outputs": [
    {
     "name": "stderr",
     "output_type": "stream",
     "text": [
      "[I 2023-08-01 04:35:23,619] A new study created in RDB with name: description_title_keywords_chi2\n",
      "[I 2023-08-01 05:00:01,174] Trial 0 finished with value: 0.4758071270411723 and parameters: {'best_k': 19000, 'colsample_bytree': 0.6372300556489741, 'eta': 0.11634639083843275, 'gamma': 0.8059270570286402, 'max_depth': 14, 'min_child_weight': 11, 'n_estimators': 509, 'reg_alpha': 0.2129975897120766, 'reg_lambda': 0.4663462522099917, 'subsample': 0.936800957190444}. Best is trial 0 with value: 0.4758071270411723.\n",
      "[I 2023-08-01 05:43:32,758] Trial 1 finished with value: 0.46736828918724466 and parameters: {'best_k': 59500, 'colsample_bytree': 0.901007355749329, 'eta': 0.13106513399634534, 'gamma': 0.04272235841699601, 'max_depth': 11, 'min_child_weight': 12, 'n_estimators': 864, 'reg_alpha': 0.04254157813403281, 'reg_lambda': 0.8515520173741137, 'subsample': 0.5588638079969619}. Best is trial 0 with value: 0.4758071270411723.\n",
      "[I 2023-08-01 06:14:46,715] Trial 2 finished with value: 0.47310836575434445 and parameters: {'best_k': 19500, 'colsample_bytree': 0.9996337942093907, 'eta': 0.27650079328688193, 'gamma': 0.3781917719609935, 'max_depth': 8, 'min_child_weight': 7, 'n_estimators': 703, 'reg_alpha': 0.2495435202571603, 'reg_lambda': 0.45709771465025106, 'subsample': 0.9494505899414581}. Best is trial 0 with value: 0.4758071270411723.\n",
      "[I 2023-08-01 06:33:07,022] Trial 3 finished with value: 0.46037172373262 and parameters: {'best_k': 79400, 'colsample_bytree': 0.6179848229109581, 'eta': 0.14747523212382657, 'gamma': 0.6037794725715963, 'max_depth': 11, 'min_child_weight': 15, 'n_estimators': 468, 'reg_alpha': 0.2668860619263639, 'reg_lambda': 0.850472524806543, 'subsample': 0.515219995498243}. Best is trial 0 with value: 0.4758071270411723.\n",
      "[I 2023-08-01 06:39:57,903] Trial 4 finished with value: 0.45760458485707595 and parameters: {'best_k': 12800, 'colsample_bytree': 0.8247031122829681, 'eta': 0.10408307917515158, 'gamma': 0.7678563278244988, 'max_depth': 3, 'min_child_weight': 15, 'n_estimators': 469, 'reg_alpha': 0.08425634624787937, 'reg_lambda': 0.5614138348152421, 'subsample': 0.9936956379522058}. Best is trial 0 with value: 0.4758071270411723.\n",
      "[I 2023-08-01 06:59:42,259] Trial 5 finished with value: 0.45344403062814737 and parameters: {'best_k': 105800, 'colsample_bytree': 0.964104207674253, 'eta': 0.07073776136933983, 'gamma': 0.5056143651145293, 'max_depth': 8, 'min_child_weight': 11, 'n_estimators': 262, 'reg_alpha': 0.4699984502657023, 'reg_lambda': 0.15355451462803793, 'subsample': 0.9617262399250234}. Best is trial 0 with value: 0.4758071270411723.\n",
      "[I 2023-08-01 07:06:18,457] Trial 6 finished with value: 0.45919781855154623 and parameters: {'best_k': 128700, 'colsample_bytree': 0.6052151597561091, 'eta': 0.2681820686690572, 'gamma': 0.16568059037437777, 'max_depth': 8, 'min_child_weight': 3, 'n_estimators': 115, 'reg_alpha': 0.06115119804672542, 'reg_lambda': 0.5581736729378114, 'subsample': 0.8522213080358038}. Best is trial 0 with value: 0.4758071270411723.\n",
      "[I 2023-08-01 07:56:21,110] Trial 7 finished with value: 0.4616538425094243 and parameters: {'best_k': 16900, 'colsample_bytree': 0.7366478967647776, 'eta': 0.11074284023965109, 'gamma': 0.6038480900065238, 'max_depth': 12, 'min_child_weight': 2, 'n_estimators': 881, 'reg_alpha': 0.9649999226574778, 'reg_lambda': 0.6913418197951606, 'subsample': 0.9960182008621258}. Best is trial 0 with value: 0.4758071270411723.\n",
      "[I 2023-08-01 08:02:50,826] Trial 8 finished with value: 0.4518551594184867 and parameters: {'best_k': 16100, 'colsample_bytree': 0.9961244012496988, 'eta': 0.06867217212286192, 'gamma': 0.6668771405460806, 'max_depth': 9, 'min_child_weight': 15, 'n_estimators': 160, 'reg_alpha': 0.39701248267705047, 'reg_lambda': 0.6470846325369275, 'subsample': 0.7323948038262904}. Best is trial 0 with value: 0.4758071270411723.\n",
      "[I 2023-08-01 08:48:11,108] Trial 9 finished with value: 0.46487658066510673 and parameters: {'best_k': 53500, 'colsample_bytree': 0.9512307672364206, 'eta': 0.14214492351813265, 'gamma': 0.7442786763636186, 'max_depth': 15, 'min_child_weight': 12, 'n_estimators': 758, 'reg_alpha': 0.6134653397745469, 'reg_lambda': 0.7532947622398058, 'subsample': 0.528543770419521}. Best is trial 0 with value: 0.4758071270411723.\n",
      "[I 2023-08-01 09:07:32,085] Trial 10 finished with value: 0.43209329300767746 and parameters: {'best_k': 41500, 'colsample_bytree': 0.5275724845924417, 'eta': 0.01585792369680522, 'gamma': 0.9829092747360823, 'max_depth': 15, 'min_child_weight': 8, 'n_estimators': 350, 'reg_alpha': 0.6757902846459056, 'reg_lambda': 0.3463954723326862, 'subsample': 0.8378432284656839}. Best is trial 0 with value: 0.4758071270411723.\n",
      "[I 2023-08-01 09:15:50,086] Trial 11 finished with value: 0.4766670642040112 and parameters: {'best_k': 2300, 'colsample_bytree': 0.7536746749855805, 'eta': 0.2184533333743663, 'gamma': 0.33253919502225376, 'max_depth': 5, 'min_child_weight': 7, 'n_estimators': 659, 'reg_alpha': 0.2454687185878246, 'reg_lambda': 0.3996687081931066, 'subsample': 0.8965189773254021}. Best is trial 11 with value: 0.4766670642040112.\n",
      "[I 2023-08-01 09:30:05,490] Trial 12 finished with value: 0.4700515395963582 and parameters: {'best_k': 36200, 'colsample_bytree': 0.718779125873169, 'eta': 0.18992601563461198, 'gamma': 0.31332701461105456, 'max_depth': 4, 'min_child_weight': 5, 'n_estimators': 629, 'reg_alpha': 0.25237905914232367, 'reg_lambda': 0.35481582862518224, 'subsample': 0.8944443756027693}. Best is trial 11 with value: 0.4766670642040112.\n",
      "[I 2023-08-01 09:42:21,134] Trial 13 finished with value: 0.4623770435240427 and parameters: {'best_k': 1800, 'colsample_bytree': 0.798057835840781, 'eta': 0.19855169410703827, 'gamma': 0.33312971227109694, 'max_depth': 6, 'min_child_weight': 10, 'n_estimators': 999, 'reg_alpha': 0.17040772921358316, 'reg_lambda': 0.1353978488121107, 'subsample': 0.7751277997557708}. Best is trial 11 with value: 0.4766670642040112.\n",
      "[I 2023-08-01 10:01:34,182] Trial 14 finished with value: 0.4730921301221127 and parameters: {'best_k': 86800, 'colsample_bytree': 0.6772761674578843, 'eta': 0.2063284080352145, 'gamma': 0.9292984708648669, 'max_depth': 5, 'min_child_weight': 6, 'n_estimators': 580, 'reg_alpha': 0.3576073746665618, 'reg_lambda': 0.0010056993914677737, 'subsample': 0.9045965296604247}. Best is trial 11 with value: 0.4766670642040112.\n",
      "[I 2023-08-01 10:09:00,547] Trial 15 finished with value: 0.45843167050667594 and parameters: {'best_k': 800, 'colsample_bytree': 0.6646468922917932, 'eta': 0.24166563880743408, 'gamma': 0.43767522479942944, 'max_depth': 13, 'min_child_weight': 9, 'n_estimators': 430, 'reg_alpha': 0.007781765167991006, 'reg_lambda': 0.9823801560549625, 'subsample': 0.9089770586814269}. Best is trial 11 with value: 0.4766670642040112.\n",
      "[I 2023-08-01 10:27:58,234] Trial 16 finished with value: 0.4711090801705291 and parameters: {'best_k': 33000, 'colsample_bytree': 0.7734086838815455, 'eta': 0.18480467318074417, 'gamma': 0.845247592366051, 'max_depth': 6, 'min_child_weight': 4, 'n_estimators': 598, 'reg_alpha': 0.16910863622900035, 'reg_lambda': 0.4156650864772334, 'subsample': 0.7921898639339483}. Best is trial 11 with value: 0.4766670642040112.\n",
      "[I 2023-08-01 10:53:45,467] Trial 17 finished with value: 0.4676301204901525 and parameters: {'best_k': 60700, 'colsample_bytree': 0.8342182252849498, 'eta': 0.22882817939202887, 'gamma': 0.5272433473205362, 'max_depth': 14, 'min_child_weight': 8, 'n_estimators': 326, 'reg_alpha': 0.3743347728485987, 'reg_lambda': 0.29383934913895793, 'subsample': 0.8548422863726506}. Best is trial 11 with value: 0.4766670642040112.\n",
      "[I 2023-08-01 11:20:10,638] Trial 18 finished with value: 0.4581456240068424 and parameters: {'best_k': 97700, 'colsample_bytree': 0.515695480991743, 'eta': 0.2986823574966474, 'gamma': 0.2464155535009457, 'max_depth': 10, 'min_child_weight': 13, 'n_estimators': 752, 'reg_alpha': 0.14935948838072924, 'reg_lambda': 0.5103404874480144, 'subsample': 0.7195052782652305}. Best is trial 11 with value: 0.4766670642040112.\n"
     ]
    }
   ],
   "source": [
    "study = optuna.create_study(storage=storage, direction='maximize', study_name='description_title_keywords_chi2',load_if_exists=True)\n",
    "study.optimize(objective2, n_trials=50)\n",
    "\n",
    "trial = study.best_trial\n",
    "print('Val Loss: {}'.format(trial.value))\n",
    "print(\"Best hyperparameters: {}\".format(trial.params))"
   ]
  },
  {
   "cell_type": "code",
   "execution_count": null,
   "id": "64f89d5b",
   "metadata": {},
   "outputs": [],
   "source": []
  },
  {
   "cell_type": "code",
   "execution_count": null,
   "id": "0e69ca5f",
   "metadata": {},
   "outputs": [],
   "source": [
    "feature_set=['narrative_tfidf', 'tfidf_title', 'tfidf_keywords']\n",
    "X_train_val_combined = X_train_val[feature_set].apply(lambda x: ' '.join(x.fillna('').astype(str)), axis=1)\n",
    "X_test_combined = X_test[feature_set].apply(lambda x: ' '.join(x.fillna('').astype(str)), axis=1)\n",
    "\n",
    "# Transform the features using TF-IDF\n",
    "vectorizer = TfidfVectorizer(ngram_range=(1, 3), max_df=0.95, min_df=2)\n",
    "X_train_val_combined_transformed = vectorizer.fit_transform(X_train_val_combined)\n",
    "X_test_combined_transformed = vectorizer.transform(X_test_combined)\n",
    "\n",
    "\n",
    "best_model = XGBClassifier(\n",
    "    colsample_bytree=0.,\n",
    "    eta=0.,\n",
    "    gamma=0.,\n",
    "    max_depth=5,\n",
    "    min_child_weight=8,\n",
    "    n_estimators=747,\n",
    "    reg_alpha=0.,\n",
    "    reg_lambda=0.,\n",
    "    subsample=0.\n",
    ")\n",
    "cv = StratifiedKFold(n_splits=6, shuffle=True, random_state=42)\n",
    "f1_scores = cross_val_score(best_model, X_train_val_combined_transformed, y_train_val, cv=cv, scoring='f1_macro')\n",
    "acc_scores = cross_val_score(best_model, X_train_val_combined_transformed, y_train_val, cv=cv, scoring='accuracy')\n",
    "rec_scores = cross_val_score(best_model, X_train_val_combined_transformed, y_train_val, cv=cv, scoring='recall_macro')\n",
    "prec_scores = cross_val_score(best_model, X_train_val_combined_transformed, y_train_val, cv=cv, scoring='precision_macro')\n",
    "\n",
    "print(\"Individual fold F1-scores:\", f1_scores)\n",
    "print(\"Mean cross-validation F1-score:\", f1_scores.mean())\n",
    "print(\"Individual Precision:\", prec_scores)\n",
    "print(\"Mean cross-validation Precision:\", prec_scores.mean())\n",
    "print(\"Individual Accuracy:\", acc_scores)\n",
    "# or np.mean\n",
    "print(\"Mean cross-validation Accuracy:\", acc_scores.mean())\n",
    "print(\"Individual Recall:\", rec_scores)\n",
    "print(\"Mean cross-validation Recall:\", rec_scores.mean())"
   ]
  },
  {
   "cell_type": "code",
   "execution_count": null,
   "id": "356b7e39",
   "metadata": {},
   "outputs": [],
   "source": [
    "# Retrain on full training set using the best hyperparameters\n",
    "best_model.fit(X_train_val_combined_transformed, y_train_val)\n",
    "\n",
    "# Make predictions on the test dataset\n",
    "y_pred_test = best_model.predict(X_test_combined_transformed)\n",
    "print('test classification report')\n",
    "print(classification_report(y_test, y_pred_test))\n",
    "\n",
    "# Print the confusion matrix\n",
    "fig, ax = plt.subplots(figsize=(7, 7))\n",
    "confusion_mat = confusion_matrix(y_true=y_test, y_pred=y_pred_test, labels=[0,1,2,3])\n",
    "ax.matshow(confusion_mat, cmap=plt.cm.Blues, alpha=0.3)\n",
    "for i in range(confusion_mat.shape[0]):\n",
    "    for j in range(confusion_mat.shape[1]):\n",
    "        ax.text(x=j, y=i,s=confusion_mat[i, j], va='center', ha='center', size='xx-large')\n",
    "plt.xlabel('Predictions', fontsize=10)\n",
    "plt.ylabel('Actuals', fontsize=10)\n",
    "plt.title('Confusion Matrix', fontsize=10)\n",
    "plt.show()\n",
    "print('\\n')"
   ]
  },
  {
   "cell_type": "code",
   "execution_count": null,
   "id": "a876ee88",
   "metadata": {},
   "outputs": [],
   "source": [
    "plot_learning_curve(best_model, X_train_val_combined_transformed, y_train_val, 'f1_macro')"
   ]
  },
  {
   "cell_type": "code",
   "execution_count": null,
   "id": "e3aa5a6e",
   "metadata": {},
   "outputs": [],
   "source": [
    "plot_learning_curve(best_model, X_train_val_combined_transformed, y_train_val, 'accuracy')"
   ]
  },
  {
   "cell_type": "code",
   "execution_count": null,
   "id": "44a9de0f",
   "metadata": {},
   "outputs": [],
   "source": []
  }
 ],
 "metadata": {
  "kernelspec": {
   "display_name": "env1",
   "language": "python",
   "name": "env1"
  },
  "language_info": {
   "codemirror_mode": {
    "name": "ipython",
    "version": 3
   },
   "file_extension": ".py",
   "mimetype": "text/x-python",
   "name": "python",
   "nbconvert_exporter": "python",
   "pygments_lexer": "ipython3",
   "version": "3.8.0"
  }
 },
 "nbformat": 4,
 "nbformat_minor": 5
}
