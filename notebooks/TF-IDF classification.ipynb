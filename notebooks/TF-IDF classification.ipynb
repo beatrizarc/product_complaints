<<<<<<< HEAD
{
 "cells": [
  {
   "cell_type": "code",
   "execution_count": 1,
   "metadata": {
    "colab": {
     "base_uri": "https://localhost:8080/"
    },
    "executionInfo": {
     "elapsed": 23482,
     "status": "ok",
     "timestamp": 1678979806591,
     "user": {
      "displayName": "Beatriz Arcipreste",
      "userId": "15863202257538089731"
     },
     "user_tz": 0
    },
    "id": "3i5RGK43hbDk",
    "outputId": "31d3a783-22cd-4b29-e4b6-2a18b2d7cd77"
   },
   "outputs": [
    {
     "name": "stdout",
     "output_type": "stream",
     "text": [
      "Mounted at /content/drive\n"
     ]
    }
   ],
   "source": [
    "from google.colab import drive\n",
    "drive.mount('/content/drive')"
   ]
  },
  {
   "cell_type": "markdown",
   "metadata": {
    "id": "-Xr7rQ4b9WVN"
   },
   "source": [
    "https://github.com/halpert3/complaint-content-classification-nlp/tree/main/notebooks"
   ]
  },
  {
   "cell_type": "markdown",
   "metadata": {
    "id": "tkw8gp0Ah2oC"
   },
   "source": [
    "# Import libraries"
   ]
  },
  {
   "cell_type": "code",
   "execution_count": 2,
   "metadata": {
    "executionInfo": {
     "elapsed": 2117,
     "status": "ok",
     "timestamp": 1678979808701,
     "user": {
      "displayName": "Beatriz Arcipreste",
      "userId": "15863202257538089731"
     },
     "user_tz": 0
    },
    "id": "cHnIbavYh6Jz"
   },
   "outputs": [],
   "source": [
    "import numpy as np\n",
    "import pandas as pd\n",
    "import matplotlib.pyplot as plt\n",
    "from collections import Counter\n",
    "\n",
    "from sklearn.model_selection import train_test_split\n",
    "from sklearn.feature_extraction.text import TfidfVectorizer, CountVectorizer\n",
    "\n",
    "from sklearn.tree import DecisionTreeClassifier\n",
    "from sklearn.ensemble import GradientBoostingClassifier\n",
    "from xgboost import XGBClassifier\n",
    "from sklearn.neighbors import KNeighborsClassifier\n",
    "from sklearn.svm import SVC\n",
    "from sklearn.svm import LinearSVC\n",
    "from sklearn.ensemble import RandomForestClassifier\n",
    "from sklearn.naive_bayes import MultinomialNB\n",
    "\n",
    "\n",
    "from sklearn.metrics import classification_report, confusion_matrix\n",
    "from sklearn.metrics import accuracy_score, f1_score, precision_score, recall_score\n",
    "from statistics import mean\n"
   ]
  },
  {
   "cell_type": "code",
   "execution_count": 3,
   "metadata": {
    "executionInfo": {
     "elapsed": 3132,
     "status": "ok",
     "timestamp": 1678979811827,
     "user": {
      "displayName": "Beatriz Arcipreste",
      "userId": "15863202257538089731"
     },
     "user_tz": 0
    },
    "id": "acIQsYypNRyZ"
   },
   "outputs": [],
   "source": [
    "df = pd.read_csv('/content/drive/MyDrive/MS DATA SCIENCE /TESE /data_processed.csv')"
   ]
  },
  {
   "cell_type": "markdown",
   "metadata": {
    "id": "C4BpLIXPh2wQ"
   },
   "source": [
    "# Multiclass Classification and Holdout CV"
   ]
  },
  {
   "cell_type": "code",
   "execution_count": null,
   "metadata": {
    "id": "aUYXa9p0NSUf"
   },
   "outputs": [],
   "source": [
    "#convert reason to numbers\n",
    "reason_dict ={'Mau Serviço Prestado': 0, 'Condições de entrega': 1, 'Atraso de entrega': 2, \n",
    "               'Enganos': 3}\n",
    "df['reason'].replace(reason_dict, inplace=True)"
   ]
  },
  {
   "cell_type": "code",
   "execution_count": null,
   "metadata": {
    "colab": {
     "base_uri": "https://localhost:8080/"
    },
    "executionInfo": {
     "elapsed": 20,
     "status": "ok",
     "timestamp": 1678740057897,
     "user": {
      "displayName": "Beatriz Arcipreste",
      "userId": "15863202257538089731"
     },
     "user_tz": 0
    },
    "id": "PcMhmdkVNYSX",
    "outputId": "e8f3e752-6528-4c3c-e884-2ac41ace2c09"
   },
   "outputs": [
    {
     "data": {
      "text/plain": [
       "array([0, 1, 2, 3])"
      ]
     },
     "execution_count": 58,
     "metadata": {},
     "output_type": "execute_result"
    }
   ],
   "source": [
    "df['reason'].unique()"
   ]
  },
  {
   "cell_type": "code",
   "execution_count": null,
   "metadata": {
    "id": "rTBY13XLNhix"
   },
   "outputs": [],
   "source": [
    "X = df['narrative_tfidf']\n",
    "y = df['reason']"
   ]
  },
  {
   "cell_type": "code",
   "execution_count": null,
   "metadata": {
    "colab": {
     "base_uri": "https://localhost:8080/"
    },
    "executionInfo": {
     "elapsed": 17,
     "status": "ok",
     "timestamp": 1678740057900,
     "user": {
      "displayName": "Beatriz Arcipreste",
      "userId": "15863202257538089731"
     },
     "user_tz": 0
    },
    "id": "I_ew9jp4s76O",
    "outputId": "981ec127-1637-44a0-82dc-e198e4a912ae"
   },
   "outputs": [
    {
     "name": "stdout",
     "output_type": "stream",
     "text": [
      "0 0.3551493535443602\n",
      "1 0.09893000445831476\n",
      "2 0.4782880071333036\n",
      "3 0.0676326348640214\n"
     ]
    }
   ],
   "source": [
    "for item in Counter(y).items():\n",
    "  print(item[0], item[1]/len(y))"
   ]
  },
  {
   "cell_type": "markdown",
   "metadata": {
    "id": "3_NG1ynch2zA"
   },
   "source": [
    "# Train test split"
   ]
  },
  {
   "cell_type": "code",
   "execution_count": null,
   "metadata": {
    "id": "PczDTPFMh9Xq"
   },
   "outputs": [],
   "source": [
    "# we should always split before transforming the data\n",
    "X_train, X_test, y_train_tf, y_test_tf = train_test_split(X, y.values, test_size=0.20, random_state=200)"
   ]
  },
  {
   "cell_type": "code",
   "execution_count": null,
   "metadata": {
    "colab": {
     "base_uri": "https://localhost:8080/"
    },
    "executionInfo": {
     "elapsed": 420,
     "status": "ok",
     "timestamp": 1678739685668,
     "user": {
      "displayName": "Beatriz Arcipreste",
      "userId": "15863202257538089731"
     },
     "user_tz": 0
    },
    "id": "gqsga1BXot_c",
    "outputId": "246df968-ce3c-495e-a2b5-509f4e001952"
   },
   "outputs": [
    {
     "name": "stdout",
     "output_type": "stream",
     "text": [
      "0 0.35644226482389657\n",
      "3 0.06754346856888097\n",
      "2 0.4772625947391886\n",
      "1 0.09875167186803388\n"
     ]
    }
   ],
   "source": [
    "# print(Counter(y_train_tf))\n",
    "for item in Counter(y_train_tf).items():\n",
    "  print(item[0], item[1]/len(y_train_tf))"
   ]
  },
  {
   "cell_type": "code",
   "execution_count": null,
   "metadata": {
    "colab": {
     "base_uri": "https://localhost:8080/"
    },
    "executionInfo": {
     "elapsed": 793,
     "status": "ok",
     "timestamp": 1678739753781,
     "user": {
      "displayName": "Beatriz Arcipreste",
      "userId": "15863202257538089731"
     },
     "user_tz": 0
    },
    "id": "n231hfqQY3oE",
    "outputId": "c57128e9-32c4-4821-d21d-59476d5181a2"
   },
   "outputs": [
    {
     "name": "stdout",
     "output_type": "stream",
     "text": [
      "0 0.3499777084262149\n",
      "2 0.4823896567097637\n",
      "1 0.09964333481943825\n",
      "3 0.06798930004458315\n"
     ]
    }
   ],
   "source": [
    "for item in Counter(y_test_tf).items():\n",
    "  print(item[0], item[1]/len(y_test_tf))"
   ]
  },
  {
   "cell_type": "code",
   "execution_count": 4,
   "metadata": {
    "executionInfo": {
     "elapsed": 10,
     "status": "ok",
     "timestamp": 1678979811828,
     "user": {
      "displayName": "Beatriz Arcipreste",
      "userId": "15863202257538089731"
     },
     "user_tz": 0
    },
    "id": "MaAhtxJZNvP-"
   },
   "outputs": [],
   "source": [
    "def training (classifier,X_train_tf, X_test_tf, y_train_tf, y_test_tf):\n",
    "    classifier = classifier\n",
    "    # Train Decision Tree Classifer\n",
    "    classifier.fit(X_train_tf, y_train_tf)\n",
    "   \n",
    "    # TRAIN\n",
    "    #Predict the response for train dataset\n",
    "    y_pred = classifier.predict(X_train_tf)\n",
    "\n",
    "    # TEST\n",
    "    #Predict the response for test dataset\n",
    "    test_y_pred = classifier.predict(X_test_tf)\n",
    "\n",
    "    cf=confusion_matrix(y_test_tf, test_y_pred)\n",
    "\n",
    "    return accuracy_score(y_train_tf, y_pred),classification_report(y_test_tf, test_y_pred), cf"
   ]
  },
  {
   "cell_type": "markdown",
   "metadata": {
    "id": "eC3ggBzViJXi"
   },
   "source": [
    "## Unigrams only"
   ]
  },
  {
   "cell_type": "code",
   "execution_count": null,
   "metadata": {
    "id": "YzGAAT0ONl76"
   },
   "outputs": [],
   "source": [
    "# Convert a collection of raw documents to a matrix of TF-IDF features.\n",
    "vectorizer = TfidfVectorizer(ngram_range=(1,1))\n",
    "X_train_tf = vectorizer.fit_transform(X_train)\n",
    "X_train_tf=X_train_tf.toarray()\n",
    "X_test_tf= vectorizer.transform(X_test)"
   ]
  },
  {
   "cell_type": "code",
   "execution_count": null,
   "metadata": {
    "colab": {
     "base_uri": "https://localhost:8080/"
    },
    "executionInfo": {
     "elapsed": 3,
     "status": "ok",
     "timestamp": 1678491559117,
     "user": {
      "displayName": "Beatriz Arcipreste",
      "userId": "15863202257538089731"
     },
     "user_tz": 0
    },
    "id": "4C76XPpK4798",
    "outputId": "b760e036-8361-47a9-e709-82483fd8f5e6"
   },
   "outputs": [
    {
     "data": {
      "text/plain": [
       "22592"
      ]
     },
     "execution_count": 15,
     "metadata": {},
     "output_type": "execute_result"
    }
   ],
   "source": [
    "feature_names =  vectorizer.get_feature_names_out()\n",
    "len(feature_names)"
   ]
  },
  {
   "cell_type": "code",
   "execution_count": null,
   "metadata": {
    "colab": {
     "base_uri": "https://localhost:8080/"
    },
    "executionInfo": {
     "elapsed": 272,
     "status": "ok",
     "timestamp": 1678480516316,
     "user": {
      "displayName": "Beatriz Arcipreste",
      "userId": "15863202257538089731"
     },
     "user_tz": 0
    },
    "id": "jl3fJQyyO-mv",
    "outputId": "a649934e-7aa5-44a2-f88c-8e73d6cec0bc"
   },
   "outputs": [
    {
     "data": {
      "text/plain": [
       "<4486x22592 sparse matrix of type '<class 'numpy.float64'>'\n",
       "\twith 234900 stored elements in Compressed Sparse Row format>"
      ]
     },
     "execution_count": 14,
     "metadata": {},
     "output_type": "execute_result"
    }
   ],
   "source": [
    "X_test_tf"
   ]
  },
  {
   "cell_type": "markdown",
   "metadata": {
    "id": "wzwBs1WcODFb"
   },
   "source": [
    "### KNN"
   ]
  },
  {
   "cell_type": "code",
   "execution_count": null,
   "metadata": {
    "colab": {
     "base_uri": "https://localhost:8080/"
    },
    "executionInfo": {
     "elapsed": 363501,
     "status": "ok",
     "timestamp": 1678450761568,
     "user": {
      "displayName": "Beatriz Arcipreste",
      "userId": "15863202257538089731"
     },
     "user_tz": 0
    },
    "id": "hTJ5kw3lOrwb",
    "outputId": "1f65f436-9c34-45cb-a27a-33b17e18c184"
   },
   "outputs": [
    {
     "name": "stdout",
     "output_type": "stream",
     "text": [
      "acc train:  0.7043580026749888\n",
      "              precision    recall  f1-score   support\n",
      "\n",
      "           0       0.52      0.56      0.54      1570\n",
      "           1       0.20      0.10      0.13       447\n",
      "           2       0.67      0.76      0.71      2164\n",
      "           3       0.31      0.13      0.18       305\n",
      "\n",
      "    accuracy                           0.58      4486\n",
      "   macro avg       0.42      0.38      0.39      4486\n",
      "weighted avg       0.54      0.58      0.56      4486\n",
      "\n"
     ]
    }
   ],
   "source": [
    "acc_train,cm=training(KNeighborsClassifier(),X_train_tf, X_test_tf, y_train_tf, y_test_tf)\n",
    "print('acc train: ',acc_train)\n",
    "print(cm)"
   ]
  },
  {
   "cell_type": "markdown",
   "metadata": {
    "id": "WxSBIthDODPH"
   },
   "source": [
    "### DT"
   ]
  },
  {
   "cell_type": "code",
   "execution_count": null,
   "metadata": {
    "colab": {
     "base_uri": "https://localhost:8080/"
    },
    "executionInfo": {
     "elapsed": 54607,
     "status": "ok",
     "timestamp": 1678451057711,
     "user": {
      "displayName": "Beatriz Arcipreste",
      "userId": "15863202257538089731"
     },
     "user_tz": 0
    },
    "id": "MDAyqZVCOsb5",
    "outputId": "ee427305-09cd-434e-9bcc-6d8233bea573"
   },
   "outputs": [
    {
     "name": "stdout",
     "output_type": "stream",
     "text": [
      "acc train:  0.9991640659830584\n",
      "              precision    recall  f1-score   support\n",
      "\n",
      "           0       0.44      0.46      0.45      1570\n",
      "           1       0.13      0.12      0.12       447\n",
      "           2       0.64      0.63      0.64      2164\n",
      "           3       0.18      0.16      0.17       305\n",
      "\n",
      "    accuracy                           0.49      4486\n",
      "   macro avg       0.35      0.34      0.34      4486\n",
      "weighted avg       0.49      0.49      0.49      4486\n",
      "\n"
     ]
    }
   ],
   "source": [
    "acc_train,cm=training(DecisionTreeClassifier(),X_train_tf, X_test_tf, y_train_tf, y_test_tf)\n",
    "print('acc train: ',acc_train)\n",
    "print(cm)"
   ]
  },
  {
   "cell_type": "markdown",
   "metadata": {
    "id": "2ADFeq4EODYu"
   },
   "source": [
    "### Random Forest"
   ]
  },
  {
   "cell_type": "code",
   "execution_count": null,
   "metadata": {
    "colab": {
     "base_uri": "https://localhost:8080/"
    },
    "executionInfo": {
     "elapsed": 90241,
     "status": "ok",
     "timestamp": 1678451150693,
     "user": {
      "displayName": "Beatriz Arcipreste",
      "userId": "15863202257538089731"
     },
     "user_tz": 0
    },
    "id": "p0Ykc-kxSrzB",
    "outputId": "08c280dd-92dc-4957-e90b-3a8841872acc"
   },
   "outputs": [
    {
     "name": "stdout",
     "output_type": "stream",
     "text": [
      "acc train:  0.9991640659830584\n",
      "              precision    recall  f1-score   support\n",
      "\n",
      "           0       0.60      0.58      0.59      1570\n",
      "           1       0.62      0.01      0.02       447\n",
      "           2       0.66      0.91      0.77      2164\n",
      "           3       0.50      0.02      0.03       305\n",
      "\n",
      "    accuracy                           0.64      4486\n",
      "   macro avg       0.60      0.38      0.35      4486\n",
      "weighted avg       0.63      0.64      0.58      4486\n",
      "\n"
     ]
    }
   ],
   "source": [
    "acc_train,cm=training(RandomForestClassifier(),X_train_tf, X_test_tf, y_train_tf, y_test_tf)\n",
    "print('acc train: ',acc_train)\n",
    "print(cm)"
   ]
  },
  {
   "cell_type": "markdown",
   "metadata": {
    "id": "UySv1FSRODiF"
   },
   "source": [
    "### Gradient Boosting"
   ]
  },
  {
   "cell_type": "code",
   "execution_count": null,
   "metadata": {
    "colab": {
     "base_uri": "https://localhost:8080/"
    },
    "executionInfo": {
     "elapsed": 1464158,
     "status": "ok",
     "timestamp": 1678457072129,
     "user": {
      "displayName": "Beatriz Arcipreste",
      "userId": "15863202257538089731"
     },
     "user_tz": 0
    },
    "id": "o7PeR9lLSzZ0",
    "outputId": "85e957ee-5c90-4136-a6bd-46f4f355f3d9"
   },
   "outputs": [
    {
     "name": "stdout",
     "output_type": "stream",
     "text": [
      "acc train:  0.6851315202853322\n",
      "              precision    recall  f1-score   support\n",
      "\n",
      "           0       0.57      0.63      0.60      1570\n",
      "           1       0.42      0.04      0.07       447\n",
      "           2       0.70      0.85      0.77      2164\n",
      "           3       0.48      0.12      0.19       305\n",
      "\n",
      "    accuracy                           0.64      4486\n",
      "   macro avg       0.54      0.41      0.41      4486\n",
      "weighted avg       0.61      0.64      0.60      4486\n",
      "\n"
     ]
    }
   ],
   "source": [
    "acc_train,cm=training(GradientBoostingClassifier(),X_train_tf, X_test_tf, y_train_tf, y_test_tf)\n",
    "print('acc train: ',acc_train)\n",
    "print(cm)"
   ]
  },
  {
   "cell_type": "markdown",
   "metadata": {
    "id": "voYQqAfbOl6p"
   },
   "source": [
    "### XGBoost"
   ]
  },
  {
   "cell_type": "code",
   "execution_count": null,
   "metadata": {
    "colab": {
     "base_uri": "https://localhost:8080/"
    },
    "executionInfo": {
     "elapsed": 4480575,
     "status": "ok",
     "timestamp": 1678461552702,
     "user": {
      "displayName": "Beatriz Arcipreste",
      "userId": "15863202257538089731"
     },
     "user_tz": 0
    },
    "id": "6NAMpcIHS0C6",
    "outputId": "b2ceb73e-3f6e-4261-f68b-b7e263277005"
   },
   "outputs": [
    {
     "name": "stdout",
     "output_type": "stream",
     "text": [
      "acc train:  0.8525969683459652\n",
      "              precision    recall  f1-score   support\n",
      "\n",
      "           0       0.56      0.64      0.60      1570\n",
      "           1       0.39      0.09      0.15       447\n",
      "           2       0.72      0.83      0.77      2164\n",
      "           3       0.50      0.20      0.28       305\n",
      "\n",
      "    accuracy                           0.65      4486\n",
      "   macro avg       0.54      0.44      0.45      4486\n",
      "weighted avg       0.62      0.65      0.62      4486\n",
      "\n"
     ]
    }
   ],
   "source": [
    "acc_train,cm=training(XGBClassifier(),X_train_tf, X_test_tf, y_train_tf, y_test_tf)\n",
    "print('acc train: ',acc_train)\n",
    "print(cm)"
   ]
  },
  {
   "cell_type": "markdown",
   "metadata": {
    "id": "iUCfgaojOocU"
   },
   "source": [
    "### NB"
   ]
  },
  {
   "cell_type": "code",
   "execution_count": null,
   "metadata": {
    "colab": {
     "base_uri": "https://localhost:8080/"
    },
    "executionInfo": {
     "elapsed": 2828,
     "status": "ok",
     "timestamp": 1678491201260,
     "user": {
      "displayName": "Beatriz Arcipreste",
      "userId": "15863202257538089731"
     },
     "user_tz": 0
    },
    "id": "haZi9Dhd3Ekh",
    "outputId": "ff8b5b4b-4a69-4b3b-c977-542a65f9e639"
   },
   "outputs": [
    {
     "name": "stdout",
     "output_type": "stream",
     "text": [
      "0.6516941596076683\n",
      "              precision    recall  f1-score   support\n",
      "\n",
      "           0       0.60      0.51      0.55      1570\n",
      "           1       1.00      0.00      0.00       447\n",
      "           2       0.63      0.92      0.75      2164\n",
      "           3       1.00      0.00      0.00       305\n",
      "\n",
      "    accuracy                           0.62      4486\n",
      "   macro avg       0.81      0.36      0.32      4486\n",
      "weighted avg       0.68      0.62      0.55      4486\n",
      "\n"
     ]
    }
   ],
   "source": [
    "classifier = MultinomialNB()\n",
    "# Train Decision Tree Classifer\n",
    "classifier.fit(X_train_tf, y_train_tf)\n",
    "\n",
    "# TRAIN\n",
    "#Predict the response for train dataset\n",
    "y_pred = classifier.predict(X_train_tf)\n",
    "\n",
    "# TEST\n",
    "#Predict the response for test dataset\n",
    "test_y_pred = classifier.predict(X_test_tf)\n",
    "\n",
    "print(accuracy_score(y_train_tf, y_pred))\n",
    "print(classification_report(y_test_tf, test_y_pred, zero_division=1))"
   ]
  },
  {
   "cell_type": "code",
   "execution_count": null,
   "metadata": {
    "colab": {
     "base_uri": "https://localhost:8080/"
    },
    "executionInfo": {
     "elapsed": 3869,
     "status": "ok",
     "timestamp": 1678463694945,
     "user": {
      "displayName": "Beatriz Arcipreste",
      "userId": "15863202257538089731"
     },
     "user_tz": 0
    },
    "id": "rEmmkViLS0qq",
    "outputId": "3a8b6586-6e1f-4853-e653-25b517816c1a"
   },
   "outputs": [
    {
     "name": "stdout",
     "output_type": "stream",
     "text": [
      "acc train:  0.6516941596076683\n",
      "              precision    recall  f1-score   support\n",
      "\n",
      "           0       0.60      0.51      0.55      1570\n",
      "           1       0.00      0.00      0.00       447\n",
      "           2       0.63      0.92      0.75      2164\n",
      "           3       0.00      0.00      0.00       305\n",
      "\n",
      "    accuracy                           0.62      4486\n",
      "   macro avg       0.31      0.36      0.32      4486\n",
      "weighted avg       0.51      0.62      0.55      4486\n",
      "\n"
     ]
    },
    {
     "name": "stderr",
     "output_type": "stream",
     "text": [
      "/usr/local/lib/python3.9/dist-packages/sklearn/metrics/_classification.py:1344: UndefinedMetricWarning: Precision and F-score are ill-defined and being set to 0.0 in labels with no predicted samples. Use `zero_division` parameter to control this behavior.\n",
      "  _warn_prf(average, modifier, msg_start, len(result))\n",
      "/usr/local/lib/python3.9/dist-packages/sklearn/metrics/_classification.py:1344: UndefinedMetricWarning: Precision and F-score are ill-defined and being set to 0.0 in labels with no predicted samples. Use `zero_division` parameter to control this behavior.\n",
      "  _warn_prf(average, modifier, msg_start, len(result))\n",
      "/usr/local/lib/python3.9/dist-packages/sklearn/metrics/_classification.py:1344: UndefinedMetricWarning: Precision and F-score are ill-defined and being set to 0.0 in labels with no predicted samples. Use `zero_division` parameter to control this behavior.\n",
      "  _warn_prf(average, modifier, msg_start, len(result))\n"
     ]
    }
   ],
   "source": [
    "acc_train,cm=training(MultinomialNB(),X_train_tf, X_test_tf, y_train_tf, y_test_tf)\n",
    "print('acc train: ',acc_train)\n",
    "print(cm)"
   ]
  },
  {
   "cell_type": "markdown",
   "metadata": {
    "id": "uLycpENDOuyc"
   },
   "source": [
    "### SVM"
   ]
  },
  {
   "cell_type": "code",
   "execution_count": null,
   "metadata": {
    "colab": {
     "base_uri": "https://localhost:8080/"
    },
    "executionInfo": {
     "elapsed": 10218619,
     "status": "ok",
     "timestamp": 1678490787776,
     "user": {
      "displayName": "Beatriz Arcipreste",
      "userId": "15863202257538089731"
     },
     "user_tz": 0
    },
    "id": "w8jwzyXRN4kV",
    "outputId": "494dca6e-7ab6-4367-a0de-4d45ef3f9298"
   },
   "outputs": [
    {
     "name": "stdout",
     "output_type": "stream",
     "text": [
      "acc train:  0.7467119928666964\n",
      "              precision    recall  f1-score   support\n",
      "\n",
      "           0       0.56      0.68      0.61      1570\n",
      "           1       0.34      0.03      0.05       447\n",
      "           2       0.73      0.84      0.78      2164\n",
      "           3       0.48      0.14      0.22       305\n",
      "\n",
      "    accuracy                           0.65      4486\n",
      "   macro avg       0.53      0.42      0.42      4486\n",
      "weighted avg       0.62      0.65      0.61      4486\n",
      "\n"
     ]
    }
   ],
   "source": [
    "acc_train,cm=training(SVC(kernel='linear'),X_train_tf, X_test_tf.toarray(), y_train_tf, y_test_tf)\n",
    "print('acc train: ',acc_train)\n",
    "print(cm)"
   ]
  },
  {
   "cell_type": "code",
   "execution_count": null,
   "metadata": {
    "colab": {
     "base_uri": "https://localhost:8080/"
    },
    "executionInfo": {
     "elapsed": 6540,
     "status": "ok",
     "timestamp": 1678480366154,
     "user": {
      "displayName": "Beatriz Arcipreste",
      "userId": "15863202257538089731"
     },
     "user_tz": 0
    },
    "id": "JdYJiA-8a0Qz",
    "outputId": "74ada8e7-2582-4b87-d2ce-459348ac0ccf"
   },
   "outputs": [
    {
     "name": "stdout",
     "output_type": "stream",
     "text": [
      "acc train:  0.8576683013820776\n",
      "              precision    recall  f1-score   support\n",
      "\n",
      "           0       0.57      0.61      0.59      1570\n",
      "           1       0.30      0.11      0.16       447\n",
      "           2       0.71      0.82      0.76      2164\n",
      "           3       0.38      0.19      0.25       305\n",
      "\n",
      "    accuracy                           0.63      4486\n",
      "   macro avg       0.49      0.43      0.44      4486\n",
      "weighted avg       0.60      0.63      0.61      4486\n",
      "\n"
     ]
    }
   ],
   "source": [
    "acc_train,cm=training(LinearSVC(),X_train_tf, X_test_tf, y_train_tf, y_test_tf)\n",
    "print('acc train: ',acc_train)\n",
    "print(cm)"
   ]
  },
  {
   "cell_type": "markdown",
   "metadata": {
    "id": "5-q_JoYsUrEk"
   },
   "source": [
    "## Unigrams and Max features 10.000"
   ]
  },
  {
   "cell_type": "code",
   "execution_count": null,
   "metadata": {
    "id": "MnigjPCCU21u"
   },
   "outputs": [],
   "source": [
    "# Convert a collection of raw documents to a matrix of TF-IDF features.\n",
    "vectorizer = TfidfVectorizer(ngram_range=(1,1), max_features=10000)\n",
    "X_train_tf = vectorizer.fit_transform(X_train)\n",
    "X_train_tf=X_train_tf.toarray()\n",
    "X_test_tf= vectorizer.transform(X_test)"
   ]
  },
  {
   "cell_type": "code",
   "execution_count": null,
   "metadata": {
    "colab": {
     "base_uri": "https://localhost:8080/"
    },
    "executionInfo": {
     "elapsed": 304244,
     "status": "ok",
     "timestamp": 1678494346588,
     "user": {
      "displayName": "Beatriz Arcipreste",
      "userId": "15863202257538089731"
     },
     "user_tz": 0
    },
    "id": "9JHwJmolU21w",
    "outputId": "fcf4bdfc-931a-4e53-b999-fa9ab0d0de93"
   },
   "outputs": [
    {
     "name": "stdout",
     "output_type": "stream",
     "text": [
      "acc train:  0.7047481052162282\n",
      "              precision    recall  f1-score   support\n",
      "\n",
      "           0       0.51      0.56      0.53      1570\n",
      "           1       0.22      0.11      0.14       447\n",
      "           2       0.67      0.74      0.71      2164\n",
      "           3       0.33      0.13      0.19       305\n",
      "\n",
      "    accuracy                           0.58      4486\n",
      "   macro avg       0.43      0.39      0.39      4486\n",
      "weighted avg       0.54      0.58      0.55      4486\n",
      "\n"
     ]
    }
   ],
   "source": [
    "acc_train,cm=training(KNeighborsClassifier(),X_train_tf, X_test_tf, y_train_tf, y_test_tf)\n",
    "print('acc train: ',acc_train)\n",
    "print(cm)"
   ]
  },
  {
   "cell_type": "code",
   "execution_count": null,
   "metadata": {
    "colab": {
     "base_uri": "https://localhost:8080/"
    },
    "executionInfo": {
     "elapsed": 58248,
     "status": "ok",
     "timestamp": 1678494442738,
     "user": {
      "displayName": "Beatriz Arcipreste",
      "userId": "15863202257538089731"
     },
     "user_tz": 0
    },
    "id": "Z2mhmJebU21w",
    "outputId": "b03e379b-7a60-4e3e-8885-966546e600bc"
   },
   "outputs": [
    {
     "name": "stdout",
     "output_type": "stream",
     "text": [
      "acc train:  0.9991640659830584\n",
      "              precision    recall  f1-score   support\n",
      "\n",
      "           0       0.46      0.49      0.48      1570\n",
      "           1       0.16      0.13      0.14       447\n",
      "           2       0.65      0.65      0.65      2164\n",
      "           3       0.21      0.20      0.20       305\n",
      "\n",
      "    accuracy                           0.51      4486\n",
      "   macro avg       0.37      0.37      0.37      4486\n",
      "weighted avg       0.50      0.51      0.51      4486\n",
      "\n"
     ]
    }
   ],
   "source": [
    "acc_train,cm=training(DecisionTreeClassifier(),X_train_tf, X_test_tf, y_train_tf, y_test_tf)\n",
    "print('acc train: ',acc_train)\n",
    "print(cm)"
   ]
  },
  {
   "cell_type": "code",
   "execution_count": null,
   "metadata": {
    "colab": {
     "base_uri": "https://localhost:8080/"
    },
    "executionInfo": {
     "elapsed": 72340,
     "status": "ok",
     "timestamp": 1678494515065,
     "user": {
      "displayName": "Beatriz Arcipreste",
      "userId": "15863202257538089731"
     },
     "user_tz": 0
    },
    "id": "wrBBiduAU21x",
    "outputId": "17043f5e-4995-4b5b-f998-da34804c2c9e"
   },
   "outputs": [
    {
     "name": "stdout",
     "output_type": "stream",
     "text": [
      "acc train:  0.9991640659830584\n",
      "              precision    recall  f1-score   support\n",
      "\n",
      "           0       0.58      0.61      0.59      1570\n",
      "           1       0.67      0.01      0.03       447\n",
      "           2       0.68      0.88      0.76      2164\n",
      "           3       0.71      0.02      0.03       305\n",
      "\n",
      "    accuracy                           0.64      4486\n",
      "   macro avg       0.66      0.38      0.35      4486\n",
      "weighted avg       0.64      0.64      0.58      4486\n",
      "\n"
     ]
    }
   ],
   "source": [
    "acc_train,cm=training(RandomForestClassifier(),X_train_tf, X_test_tf, y_train_tf, y_test_tf)\n",
    "print('acc train: ',acc_train)\n",
    "print(cm)"
   ]
  },
  {
   "cell_type": "code",
   "execution_count": null,
   "metadata": {
    "colab": {
     "base_uri": "https://localhost:8080/"
    },
    "executionInfo": {
     "elapsed": 1737394,
     "status": "ok",
     "timestamp": 1678497933502,
     "user": {
      "displayName": "Beatriz Arcipreste",
      "userId": "15863202257538089731"
     },
     "user_tz": 0
    },
    "id": "XzPdAFjXU21y",
    "outputId": "a5f68c22-0d06-4f93-9319-9d3c6b78d113"
   },
   "outputs": [
    {
     "name": "stdout",
     "output_type": "stream",
     "text": [
      "acc train:  0.6852429781542577\n",
      "              precision    recall  f1-score   support\n",
      "\n",
      "           0       0.56      0.63      0.60      1570\n",
      "           1       0.51      0.04      0.08       447\n",
      "           2       0.70      0.84      0.76      2164\n",
      "           3       0.53      0.14      0.22       305\n",
      "\n",
      "    accuracy                           0.64      4486\n",
      "   macro avg       0.58      0.41      0.41      4486\n",
      "weighted avg       0.62      0.64      0.60      4486\n",
      "\n"
     ]
    }
   ],
   "source": [
    "acc_train,cm=training(GradientBoostingClassifier(),X_train_tf, X_test_tf, y_train_tf, y_test_tf)\n",
    "print('acc train: ',acc_train)\n",
    "print(cm)"
   ]
  },
  {
   "cell_type": "code",
   "execution_count": null,
   "metadata": {
    "colab": {
     "base_uri": "https://localhost:8080/"
    },
    "executionInfo": {
     "elapsed": 750828,
     "status": "ok",
     "timestamp": 1678501025258,
     "user": {
      "displayName": "Beatriz Arcipreste",
      "userId": "15863202257538089731"
     },
     "user_tz": 0
    },
    "id": "bxhgzUT9U21y",
    "outputId": "481119c3-af92-499f-a41b-9dcb42333cd0"
   },
   "outputs": [
    {
     "name": "stdout",
     "output_type": "stream",
     "text": [
      "acc train:  0.8514823896567097\n",
      "              precision    recall  f1-score   support\n",
      "\n",
      "           0       0.57      0.64      0.60      1570\n",
      "           1       0.36      0.09      0.14       447\n",
      "           2       0.72      0.83      0.77      2164\n",
      "           3       0.49      0.17      0.25       305\n",
      "\n",
      "    accuracy                           0.65      4486\n",
      "   macro avg       0.53      0.43      0.44      4486\n",
      "weighted avg       0.62      0.65      0.61      4486\n",
      "\n"
     ]
    }
   ],
   "source": [
    "acc_train,cm=training(XGBClassifier(),X_train_tf, X_test_tf, y_train_tf, y_test_tf)\n",
    "print('acc train: ',acc_train)\n",
    "print(cm)"
   ]
  },
  {
   "cell_type": "code",
   "execution_count": null,
   "metadata": {
    "colab": {
     "base_uri": "https://localhost:8080/"
    },
    "executionInfo": {
     "elapsed": 2021,
     "status": "ok",
     "timestamp": 1678503818977,
     "user": {
      "displayName": "Beatriz Arcipreste",
      "userId": "15863202257538089731"
     },
     "user_tz": 0
    },
    "id": "DHfJ44kJU21z",
    "outputId": "3085d5e1-c7c9-4218-c028-be39a1a8002a"
   },
   "outputs": [
    {
     "name": "stdout",
     "output_type": "stream",
     "text": [
      "acc train:  0.6525858225590727\n",
      "              precision    recall  f1-score   support\n",
      "\n",
      "           0       0.59      0.57      0.58      1570\n",
      "           1       0.00      0.00      0.00       447\n",
      "           2       0.65      0.90      0.76      2164\n",
      "           3       0.00      0.00      0.00       305\n",
      "\n",
      "    accuracy                           0.63      4486\n",
      "   macro avg       0.31      0.37      0.33      4486\n",
      "weighted avg       0.52      0.63      0.57      4486\n",
      "\n"
     ]
    },
    {
     "name": "stderr",
     "output_type": "stream",
     "text": [
      "/usr/local/lib/python3.9/dist-packages/sklearn/metrics/_classification.py:1344: UndefinedMetricWarning: Precision and F-score are ill-defined and being set to 0.0 in labels with no predicted samples. Use `zero_division` parameter to control this behavior.\n",
      "  _warn_prf(average, modifier, msg_start, len(result))\n",
      "/usr/local/lib/python3.9/dist-packages/sklearn/metrics/_classification.py:1344: UndefinedMetricWarning: Precision and F-score are ill-defined and being set to 0.0 in labels with no predicted samples. Use `zero_division` parameter to control this behavior.\n",
      "  _warn_prf(average, modifier, msg_start, len(result))\n",
      "/usr/local/lib/python3.9/dist-packages/sklearn/metrics/_classification.py:1344: UndefinedMetricWarning: Precision and F-score are ill-defined and being set to 0.0 in labels with no predicted samples. Use `zero_division` parameter to control this behavior.\n",
      "  _warn_prf(average, modifier, msg_start, len(result))\n"
     ]
    }
   ],
   "source": [
    "acc_train,cm=training(MultinomialNB(),X_train_tf, X_test_tf, y_train_tf, y_test_tf)\n",
    "print('acc train: ',acc_train)\n",
    "print(cm)"
   ]
  },
  {
   "cell_type": "code",
   "execution_count": null,
   "metadata": {
    "colab": {
     "base_uri": "https://localhost:8080/"
    },
    "executionInfo": {
     "elapsed": 3698,
     "status": "ok",
     "timestamp": 1678503828435,
     "user": {
      "displayName": "Beatriz Arcipreste",
      "userId": "15863202257538089731"
     },
     "user_tz": 0
    },
    "id": "M4N_z6qlU21z",
    "outputId": "818bb30a-e14d-4df5-987e-79d0a317dd74"
   },
   "outputs": [
    {
     "name": "stdout",
     "output_type": "stream",
     "text": [
      "acc train:  0.8260142666072224\n",
      "              precision    recall  f1-score   support\n",
      "\n",
      "           0       0.57      0.61      0.59      1570\n",
      "           1       0.30      0.11      0.16       447\n",
      "           2       0.71      0.82      0.76      2164\n",
      "           3       0.37      0.19      0.25       305\n",
      "\n",
      "    accuracy                           0.63      4486\n",
      "   macro avg       0.49      0.43      0.44      4486\n",
      "weighted avg       0.60      0.63      0.61      4486\n",
      "\n"
     ]
    }
   ],
   "source": [
    "acc_train,cm=training(LinearSVC(),X_train_tf, X_test_tf, y_train_tf, y_test_tf)\n",
    "print('acc train: ',acc_train)\n",
    "print(cm)"
   ]
  },
  {
   "cell_type": "markdown",
   "metadata": {
    "id": "BWHHrdSHHvFX"
   },
   "source": [
    "## Unigrams and Max features 5.000"
   ]
  },
  {
   "cell_type": "code",
   "execution_count": null,
   "metadata": {
    "id": "MmRVcjkiH6dX"
   },
   "outputs": [],
   "source": [
    "# Convert a collection of raw documents to a matrix of TF-IDF features.\n",
    "vectorizer = TfidfVectorizer(ngram_range=(1,1), max_features=5000)\n",
    "X_train_tf = vectorizer.fit_transform(X_train)\n",
    "X_train_tf=X_train_tf.toarray()\n",
    "X_test_tf= vectorizer.transform(X_test)"
   ]
  },
  {
   "cell_type": "code",
   "execution_count": null,
   "metadata": {
    "colab": {
     "base_uri": "https://localhost:8080/"
    },
    "executionInfo": {
     "elapsed": 137329,
     "status": "ok",
     "timestamp": 1678545191295,
     "user": {
      "displayName": "Beatriz Arcipreste",
      "userId": "15863202257538089731"
     },
     "user_tz": 0
    },
    "id": "69iwotRqH6dY",
    "outputId": "ccaf0ab9-906c-4043-b285-35b7bf0edf95"
   },
   "outputs": [
    {
     "name": "stdout",
     "output_type": "stream",
     "text": [
      "acc train:  0.7027418635755684\n",
      "              precision    recall  f1-score   support\n",
      "\n",
      "           0       0.51      0.57      0.53      1570\n",
      "           1       0.24      0.11      0.15       447\n",
      "           2       0.67      0.74      0.70      2164\n",
      "           3       0.33      0.14      0.19       305\n",
      "\n",
      "    accuracy                           0.58      4486\n",
      "   macro avg       0.44      0.39      0.40      4486\n",
      "weighted avg       0.55      0.58      0.56      4486\n",
      "\n"
     ]
    }
   ],
   "source": [
    "acc_train,cm=training(KNeighborsClassifier(),X_train_tf, X_test_tf, y_train_tf, y_test_tf)\n",
    "print('acc train: ',acc_train)\n",
    "print(cm)"
   ]
  },
  {
   "cell_type": "code",
   "execution_count": null,
   "metadata": {
    "colab": {
     "base_uri": "https://localhost:8080/"
    },
    "executionInfo": {
     "elapsed": 17951,
     "status": "ok",
     "timestamp": 1678545209242,
     "user": {
      "displayName": "Beatriz Arcipreste",
      "userId": "15863202257538089731"
     },
     "user_tz": 0
    },
    "id": "cvwa39EZH6da",
    "outputId": "747d4ae4-4ce3-4e34-b70d-4f0f72678a16"
   },
   "outputs": [
    {
     "name": "stdout",
     "output_type": "stream",
     "text": [
      "acc train:  0.9991640659830584\n",
      "              precision    recall  f1-score   support\n",
      "\n",
      "           0       0.46      0.50      0.48      1570\n",
      "           1       0.18      0.16      0.17       447\n",
      "           2       0.65      0.64      0.64      2164\n",
      "           3       0.19      0.15      0.17       305\n",
      "\n",
      "    accuracy                           0.51      4486\n",
      "   macro avg       0.37      0.36      0.37      4486\n",
      "weighted avg       0.50      0.51      0.51      4486\n",
      "\n"
     ]
    }
   ],
   "source": [
    "acc_train,cm=training(DecisionTreeClassifier(),X_train_tf, X_test_tf, y_train_tf, y_test_tf)\n",
    "print('acc train: ',acc_train)\n",
    "print(cm)"
   ]
  },
  {
   "cell_type": "code",
   "execution_count": null,
   "metadata": {
    "colab": {
     "base_uri": "https://localhost:8080/"
    },
    "executionInfo": {
     "elapsed": 34637,
     "status": "ok",
     "timestamp": 1678545243865,
     "user": {
      "displayName": "Beatriz Arcipreste",
      "userId": "15863202257538089731"
     },
     "user_tz": 0
    },
    "id": "vxbuC0lJH6da",
    "outputId": "5d03960c-2b27-49a2-883a-3bf20c828ee8"
   },
   "outputs": [
    {
     "name": "stdout",
     "output_type": "stream",
     "text": [
      "acc train:  0.9991640659830584\n",
      "              precision    recall  f1-score   support\n",
      "\n",
      "           0       0.58      0.62      0.60      1570\n",
      "           1       0.50      0.01      0.02       447\n",
      "           2       0.69      0.89      0.77      2164\n",
      "           3       0.67      0.02      0.04       305\n",
      "\n",
      "    accuracy                           0.65      4486\n",
      "   macro avg       0.61      0.38      0.36      4486\n",
      "weighted avg       0.63      0.65      0.59      4486\n",
      "\n"
     ]
    }
   ],
   "source": [
    "acc_train,cm=training(RandomForestClassifier(),X_train_tf, X_test_tf, y_train_tf, y_test_tf)\n",
    "print('acc train: ',acc_train)\n",
    "print(cm)"
   ]
  },
  {
   "cell_type": "code",
   "execution_count": null,
   "metadata": {
    "colab": {
     "base_uri": "https://localhost:8080/"
    },
    "executionInfo": {
     "elapsed": 1478001,
     "status": "ok",
     "timestamp": 1678546721851,
     "user": {
      "displayName": "Beatriz Arcipreste",
      "userId": "15863202257538089731"
     },
     "user_tz": 0
    },
    "id": "VTLoXgr6H6db",
    "outputId": "8a70b2ae-b42b-4c02-a7a4-30465daa39b9"
   },
   "outputs": [
    {
     "name": "stdout",
     "output_type": "stream",
     "text": [
      "acc train:  0.6868591172536781\n",
      "              precision    recall  f1-score   support\n",
      "\n",
      "           0       0.56      0.63      0.59      1570\n",
      "           1       0.50      0.04      0.07       447\n",
      "           2       0.70      0.84      0.77      2164\n",
      "           3       0.47      0.11      0.18       305\n",
      "\n",
      "    accuracy                           0.64      4486\n",
      "   macro avg       0.56      0.41      0.40      4486\n",
      "weighted avg       0.62      0.64      0.60      4486\n",
      "\n"
     ]
    }
   ],
   "source": [
    "acc_train,cm=training(GradientBoostingClassifier(),X_train_tf, X_test_tf, y_train_tf, y_test_tf)\n",
    "print('acc train: ',acc_train)\n",
    "print(cm)"
   ]
  },
  {
   "cell_type": "code",
   "execution_count": null,
   "metadata": {
    "colab": {
     "base_uri": "https://localhost:8080/"
    },
    "executionInfo": {
     "elapsed": 1593239,
     "status": "ok",
     "timestamp": 1678548315076,
     "user": {
      "displayName": "Beatriz Arcipreste",
      "userId": "15863202257538089731"
     },
     "user_tz": 0
    },
    "id": "5Az3-lrsH6dc",
    "outputId": "fae1c6ff-805e-4229-e272-8301c0ab5198"
   },
   "outputs": [
    {
     "name": "stdout",
     "output_type": "stream",
     "text": [
      "acc train:  0.854881854658939\n",
      "              precision    recall  f1-score   support\n",
      "\n",
      "           0       0.55      0.63      0.59      1570\n",
      "           1       0.35      0.07      0.12       447\n",
      "           2       0.72      0.83      0.77      2164\n",
      "           3       0.44      0.17      0.24       305\n",
      "\n",
      "    accuracy                           0.64      4486\n",
      "   macro avg       0.52      0.42      0.43      4486\n",
      "weighted avg       0.60      0.64      0.60      4486\n",
      "\n"
     ]
    }
   ],
   "source": [
    "acc_train,cm=training(XGBClassifier(),X_train_tf, X_test_tf, y_train_tf, y_test_tf)\n",
    "print('acc train: ',acc_train)\n",
    "print(cm)"
   ]
  },
  {
   "cell_type": "code",
   "execution_count": null,
   "metadata": {
    "colab": {
     "base_uri": "https://localhost:8080/"
    },
    "executionInfo": {
     "elapsed": 1144,
     "status": "ok",
     "timestamp": 1678548316216,
     "user": {
      "displayName": "Beatriz Arcipreste",
      "userId": "15863202257538089731"
     },
     "user_tz": 0
    },
    "id": "ojZ8DxYVH6dc",
    "outputId": "6cea2c13-5a68-49bb-a6ab-54bb49d4d4a0"
   },
   "outputs": [
    {
     "name": "stdout",
     "output_type": "stream",
     "text": [
      "acc train:  0.6486290682122158\n",
      "              precision    recall  f1-score   support\n",
      "\n",
      "           0       0.58      0.59      0.59      1570\n",
      "           1       0.00      0.00      0.00       447\n",
      "           2       0.66      0.89      0.76      2164\n",
      "           3       0.67      0.01      0.01       305\n",
      "\n",
      "    accuracy                           0.63      4486\n",
      "   macro avg       0.48      0.37      0.34      4486\n",
      "weighted avg       0.57      0.63      0.57      4486\n",
      "\n"
     ]
    }
   ],
   "source": [
    "acc_train,cm=training(MultinomialNB(),X_train_tf, X_test_tf, y_train_tf, y_test_tf)\n",
    "print('acc train: ',acc_train)\n",
    "print(cm)"
   ]
  },
  {
   "cell_type": "code",
   "execution_count": null,
   "metadata": {
    "colab": {
     "base_uri": "https://localhost:8080/"
    },
    "executionInfo": {
     "elapsed": 1097,
     "status": "ok",
     "timestamp": 1678548317308,
     "user": {
      "displayName": "Beatriz Arcipreste",
      "userId": "15863202257538089731"
     },
     "user_tz": 0
    },
    "id": "csFqqyGlH6dd",
    "outputId": "a88982dd-73a0-4ddd-c283-cf431d37b1e4"
   },
   "outputs": [
    {
     "name": "stdout",
     "output_type": "stream",
     "text": [
      "acc train:  0.7832144449398127\n",
      "              precision    recall  f1-score   support\n",
      "\n",
      "           0       0.57      0.61      0.59      1570\n",
      "           1       0.28      0.10      0.15       447\n",
      "           2       0.71      0.81      0.76      2164\n",
      "           3       0.38      0.20      0.26       305\n",
      "\n",
      "    accuracy                           0.63      4486\n",
      "   macro avg       0.49      0.43      0.44      4486\n",
      "weighted avg       0.59      0.63      0.60      4486\n",
      "\n"
     ]
    }
   ],
   "source": [
    "acc_train,cm=training(LinearSVC(),X_train_tf, X_test_tf, y_train_tf, y_test_tf)\n",
    "print('acc train: ',acc_train)\n",
    "print(cm)"
   ]
  },
  {
   "cell_type": "markdown",
   "metadata": {
    "id": "76P9DqQBUu5y"
   },
   "source": [
    "## Unigrams and Bigrams and Max features"
   ]
  },
  {
   "cell_type": "code",
   "execution_count": null,
   "metadata": {
    "id": "eSp2tsj2U78D"
   },
   "outputs": [],
   "source": [
    "# Convert a collection of raw documents to a matrix of TF-IDF features.\n",
    "vectorizer = TfidfVectorizer(ngram_range=(1,2), max_features=5000)\n",
    "X_train_tf = vectorizer.fit_transform(X_train)\n",
    "X_train_tf=X_train_tf.toarray()\n",
    "X_test_tf= vectorizer.transform(X_test)"
   ]
  },
  {
   "cell_type": "code",
   "execution_count": null,
   "metadata": {
    "colab": {
     "base_uri": "https://localhost:8080/"
    },
    "executionInfo": {
     "elapsed": 124965,
     "status": "ok",
     "timestamp": 1678548523816,
     "user": {
      "displayName": "Beatriz Arcipreste",
      "userId": "15863202257538089731"
     },
     "user_tz": 0
    },
    "id": "_jxlhRr6U78E",
    "outputId": "c657b3a9-a274-48e9-f81c-224bc82f136e"
   },
   "outputs": [
    {
     "name": "stdout",
     "output_type": "stream",
     "text": [
      "acc train:  0.6998439589835043\n",
      "              precision    recall  f1-score   support\n",
      "\n",
      "           0       0.51      0.61      0.55      1570\n",
      "           1       0.24      0.12      0.16       447\n",
      "           2       0.69      0.73      0.71      2164\n",
      "           3       0.30      0.09      0.14       305\n",
      "\n",
      "    accuracy                           0.58      4486\n",
      "   macro avg       0.43      0.39      0.39      4486\n",
      "weighted avg       0.55      0.58      0.56      4486\n",
      "\n"
     ]
    }
   ],
   "source": [
    "acc_train,cm=training(KNeighborsClassifier(),X_train_tf, X_test_tf, y_train_tf, y_test_tf)\n",
    "print('acc train: ',acc_train)\n",
    "print(cm)"
   ]
  },
  {
   "cell_type": "code",
   "execution_count": null,
   "metadata": {
    "colab": {
     "base_uri": "https://localhost:8080/"
    },
    "executionInfo": {
     "elapsed": 24691,
     "status": "ok",
     "timestamp": 1678548548493,
     "user": {
      "displayName": "Beatriz Arcipreste",
      "userId": "15863202257538089731"
     },
     "user_tz": 0
    },
    "id": "f_8YZ4L4U78E",
    "outputId": "6d086914-6cff-4159-fe51-21f42f2e6659"
   },
   "outputs": [
    {
     "name": "stdout",
     "output_type": "stream",
     "text": [
      "acc train:  0.9990526081141329\n",
      "              precision    recall  f1-score   support\n",
      "\n",
      "           0       0.46      0.48      0.47      1570\n",
      "           1       0.16      0.14      0.15       447\n",
      "           2       0.65      0.67      0.66      2164\n",
      "           3       0.21      0.17      0.19       305\n",
      "\n",
      "    accuracy                           0.51      4486\n",
      "   macro avg       0.37      0.36      0.37      4486\n",
      "weighted avg       0.51      0.51      0.51      4486\n",
      "\n"
     ]
    }
   ],
   "source": [
    "acc_train,cm=training(DecisionTreeClassifier(),X_train_tf, X_test_tf, y_train_tf, y_test_tf)\n",
    "print('acc train: ',acc_train)\n",
    "print(cm)"
   ]
  },
  {
   "cell_type": "code",
   "execution_count": null,
   "metadata": {
    "colab": {
     "base_uri": "https://localhost:8080/"
    },
    "executionInfo": {
     "elapsed": 36908,
     "status": "ok",
     "timestamp": 1678548585372,
     "user": {
      "displayName": "Beatriz Arcipreste",
      "userId": "15863202257538089731"
     },
     "user_tz": 0
    },
    "id": "_OE5Z94jU78E",
    "outputId": "867c39ae-8332-4ec4-8f89-f3e8cea0a43a"
   },
   "outputs": [
    {
     "name": "stdout",
     "output_type": "stream",
     "text": [
      "acc train:  0.9990526081141329\n",
      "              precision    recall  f1-score   support\n",
      "\n",
      "           0       0.57      0.62      0.59      1570\n",
      "           1       0.50      0.01      0.02       447\n",
      "           2       0.69      0.87      0.77      2164\n",
      "           3       0.64      0.02      0.04       305\n",
      "\n",
      "    accuracy                           0.64      4486\n",
      "   macro avg       0.60      0.38      0.36      4486\n",
      "weighted avg       0.62      0.64      0.58      4486\n",
      "\n"
     ]
    }
   ],
   "source": [
    "acc_train,cm=training(RandomForestClassifier(),X_train_tf, X_test_tf, y_train_tf, y_test_tf)\n",
    "print('acc train: ',acc_train)\n",
    "print(cm)"
   ]
  },
  {
   "cell_type": "code",
   "execution_count": null,
   "metadata": {
    "colab": {
     "base_uri": "https://localhost:8080/"
    },
    "executionInfo": {
     "elapsed": 1520045,
     "status": "ok",
     "timestamp": 1678550105402,
     "user": {
      "displayName": "Beatriz Arcipreste",
      "userId": "15863202257538089731"
     },
     "user_tz": 0
    },
    "id": "1J6-RAS_U78F",
    "outputId": "e91c9a0c-c54a-432d-b7ae-a05e0a68e2a0"
   },
   "outputs": [
    {
     "name": "stdout",
     "output_type": "stream",
     "text": [
      "acc train:  0.6914288898796255\n",
      "              precision    recall  f1-score   support\n",
      "\n",
      "           0       0.57      0.63      0.59      1570\n",
      "           1       0.42      0.04      0.07       447\n",
      "           2       0.70      0.85      0.77      2164\n",
      "           3       0.44      0.12      0.19       305\n",
      "\n",
      "    accuracy                           0.64      4486\n",
      "   macro avg       0.53      0.41      0.41      4486\n",
      "weighted avg       0.61      0.64      0.60      4486\n",
      "\n"
     ]
    }
   ],
   "source": [
    "acc_train,cm=training(GradientBoostingClassifier(),X_train_tf, X_test_tf, y_train_tf, y_test_tf)\n",
    "print('acc train: ',acc_train)\n",
    "print(cm)"
   ]
  },
  {
   "cell_type": "code",
   "execution_count": null,
   "metadata": {
    "colab": {
     "base_uri": "https://localhost:8080/"
    },
    "executionInfo": {
     "elapsed": 1638137,
     "status": "ok",
     "timestamp": 1678551743511,
     "user": {
      "displayName": "Beatriz Arcipreste",
      "userId": "15863202257538089731"
     },
     "user_tz": 0
    },
    "id": "4CZTgJ8TU78F",
    "outputId": "819b9100-a74c-48b6-803b-0e1c1b4d1d90"
   },
   "outputs": [
    {
     "name": "stdout",
     "output_type": "stream",
     "text": [
      "acc train:  0.8622938029424877\n",
      "              precision    recall  f1-score   support\n",
      "\n",
      "           0       0.57      0.65      0.61      1570\n",
      "           1       0.33      0.07      0.11       447\n",
      "           2       0.72      0.84      0.78      2164\n",
      "           3       0.45      0.17      0.24       305\n",
      "\n",
      "    accuracy                           0.65      4486\n",
      "   macro avg       0.52      0.43      0.44      4486\n",
      "weighted avg       0.61      0.65      0.62      4486\n",
      "\n"
     ]
    }
   ],
   "source": [
    "acc_train,cm=training(XGBClassifier(),X_train_tf, X_test_tf, y_train_tf, y_test_tf)\n",
    "print('acc train: ',acc_train)\n",
    "print(cm)"
   ]
  },
  {
   "cell_type": "code",
   "execution_count": null,
   "metadata": {
    "colab": {
     "base_uri": "https://localhost:8080/"
    },
    "executionInfo": {
     "elapsed": 401,
     "status": "ok",
     "timestamp": 1678551743881,
     "user": {
      "displayName": "Beatriz Arcipreste",
      "userId": "15863202257538089731"
     },
     "user_tz": 0
    },
    "id": "vmJyJparU78F",
    "outputId": "862cf621-e7d0-4e20-ec44-f6ca906cca20"
   },
   "outputs": [
    {
     "name": "stdout",
     "output_type": "stream",
     "text": [
      "acc train:  0.6524186357556844\n",
      "              precision    recall  f1-score   support\n",
      "\n",
      "           0       0.57      0.63      0.60      1570\n",
      "           1       0.33      0.00      0.01       447\n",
      "           2       0.69      0.87      0.77      2164\n",
      "           3       0.62      0.03      0.06       305\n",
      "\n",
      "    accuracy                           0.64      4486\n",
      "   macro avg       0.55      0.38      0.36      4486\n",
      "weighted avg       0.61      0.64      0.59      4486\n",
      "\n"
     ]
    }
   ],
   "source": [
    "acc_train,cm=training(MultinomialNB(),X_train_tf, X_test_tf, y_train_tf, y_test_tf)\n",
    "print('acc train: ',acc_train)\n",
    "print(cm)"
   ]
  },
  {
   "cell_type": "code",
   "execution_count": null,
   "metadata": {
    "colab": {
     "base_uri": "https://localhost:8080/"
    },
    "executionInfo": {
     "elapsed": 1956,
     "status": "ok",
     "timestamp": 1678551745836,
     "user": {
      "displayName": "Beatriz Arcipreste",
      "userId": "15863202257538089731"
     },
     "user_tz": 0
    },
    "id": "V-xHIv67U78G",
    "outputId": "53758fdc-780a-4643-a423-baebd1a0218b"
   },
   "outputs": [
    {
     "name": "stdout",
     "output_type": "stream",
     "text": [
      "acc train:  0.802329469460544\n",
      "              precision    recall  f1-score   support\n",
      "\n",
      "           0       0.58      0.59      0.59      1570\n",
      "           1       0.32      0.15      0.20       447\n",
      "           2       0.71      0.82      0.76      2164\n",
      "           3       0.37      0.21      0.27       305\n",
      "\n",
      "    accuracy                           0.63      4486\n",
      "   macro avg       0.50      0.44      0.46      4486\n",
      "weighted avg       0.60      0.63      0.61      4486\n",
      "\n"
     ]
    }
   ],
   "source": [
    "acc_train,cm=training(LinearSVC(),X_train_tf, X_test_tf, y_train_tf, y_test_tf)\n",
    "print('acc train: ',acc_train)\n",
    "print(cm)"
   ]
  },
  {
   "cell_type": "markdown",
   "metadata": {
    "id": "tOSIcSLIVTNo"
   },
   "source": [
    "# Binary Classification and Holdout CV"
   ]
  },
  {
   "cell_type": "code",
   "execution_count": 5,
   "metadata": {
    "executionInfo": {
     "elapsed": 2080,
     "status": "ok",
     "timestamp": 1678979813899,
     "user": {
      "displayName": "Beatriz Arcipreste",
      "userId": "15863202257538089731"
     },
     "user_tz": 0
    },
    "id": "l9hvqjTPWL6z"
   },
   "outputs": [],
   "source": [
    "df = pd.read_csv('/content/drive/MyDrive/MS DATA SCIENCE /TESE /data_processed.csv')"
   ]
  },
  {
   "cell_type": "code",
   "execution_count": 6,
   "metadata": {
    "executionInfo": {
     "elapsed": 48,
     "status": "ok",
     "timestamp": 1678979813904,
     "user": {
      "displayName": "Beatriz Arcipreste",
      "userId": "15863202257538089731"
     },
     "user_tz": 0
    },
    "id": "lPS3FJxWWAz7"
   },
   "outputs": [],
   "source": [
    "#convert reason to numbers\n",
    "reason_dict ={'Mau Serviço Prestado': 0, 'Condições de entrega': 0, 'Atraso de entrega': 1, \n",
    "               'Enganos': 0}\n",
    "\n",
    "df['reason'].replace(reason_dict, inplace=True)"
   ]
  },
  {
   "cell_type": "code",
   "execution_count": 7,
   "metadata": {
    "colab": {
     "base_uri": "https://localhost:8080/"
    },
    "executionInfo": {
     "elapsed": 49,
     "status": "ok",
     "timestamp": 1678979813908,
     "user": {
      "displayName": "Beatriz Arcipreste",
      "userId": "15863202257538089731"
     },
     "user_tz": 0
    },
    "id": "VXi5OGzgWA6M",
    "outputId": "22b7fed3-cd3e-4f37-8037-ab48955fbe2f"
   },
   "outputs": [
    {
     "data": {
      "text/plain": [
       "array([0, 1])"
      ]
     },
     "execution_count": 7,
     "metadata": {},
     "output_type": "execute_result"
    }
   ],
   "source": [
    "df['reason'].unique()"
   ]
  },
  {
   "cell_type": "code",
   "execution_count": null,
   "metadata": {
    "colab": {
     "base_uri": "https://localhost:8080/"
    },
    "executionInfo": {
     "elapsed": 16,
     "status": "ok",
     "timestamp": 1678740096009,
     "user": {
      "displayName": "Beatriz Arcipreste",
      "userId": "15863202257538089731"
     },
     "user_tz": 0
    },
    "id": "4u_mQiH3WpOm",
    "outputId": "d98c3741-90f9-4929-b378-58713ea81b19"
   },
   "outputs": [
    {
     "data": {
      "text/plain": [
       "0    11702\n",
       "1    10728\n",
       "Name: reason, dtype: int64"
      ]
     },
     "execution_count": 64,
     "metadata": {},
     "output_type": "execute_result"
    }
   ],
   "source": [
    "df['reason'].value_counts()"
   ]
  },
  {
   "cell_type": "code",
   "execution_count": 8,
   "metadata": {
    "executionInfo": {
     "elapsed": 36,
     "status": "ok",
     "timestamp": 1678979813914,
     "user": {
      "displayName": "Beatriz Arcipreste",
      "userId": "15863202257538089731"
     },
     "user_tz": 0
    },
    "id": "Rz4GsocrWHn6"
   },
   "outputs": [],
   "source": [
    "X = df['narrative_tfidf']\n",
    "y = df['reason']"
   ]
  },
  {
   "cell_type": "code",
   "execution_count": null,
   "metadata": {
    "colab": {
     "base_uri": "https://localhost:8080/"
    },
    "executionInfo": {
     "elapsed": 448,
     "status": "ok",
     "timestamp": 1678740117919,
     "user": {
      "displayName": "Beatriz Arcipreste",
      "userId": "15863202257538089731"
     },
     "user_tz": 0
    },
    "id": "KK_QcQ9QtQGA",
    "outputId": "5e496bdd-73ff-430c-a529-6d8554b4a8ec"
   },
   "outputs": [
    {
     "name": "stdout",
     "output_type": "stream",
     "text": [
      "0 0.5217119928666963\n",
      "1 0.4782880071333036\n"
     ]
    }
   ],
   "source": [
    "for item in Counter(y).items():\n",
    "  print(item[0], item[1]/len(y))"
   ]
  },
  {
   "cell_type": "markdown",
   "metadata": {
    "id": "NDxCoTQ4vCUv"
   },
   "source": [
    "# Train test split"
   ]
  },
  {
   "cell_type": "code",
   "execution_count": 9,
   "metadata": {
    "executionInfo": {
     "elapsed": 362,
     "status": "ok",
     "timestamp": 1678979815096,
     "user": {
      "displayName": "Beatriz Arcipreste",
      "userId": "15863202257538089731"
     },
     "user_tz": 0
    },
    "id": "fJo15hBob9s9"
   },
   "outputs": [],
   "source": [
    "# we should always split before transforming the data\n",
    "X_train, X_test, y_train_tf, y_test_tf = train_test_split(X, y.values, test_size=0.20, random_state=200)"
   ]
  },
  {
   "cell_type": "code",
   "execution_count": null,
   "metadata": {
    "colab": {
     "base_uri": "https://localhost:8080/"
    },
    "executionInfo": {
     "elapsed": 8,
     "status": "ok",
     "timestamp": 1678739865399,
     "user": {
      "displayName": "Beatriz Arcipreste",
      "userId": "15863202257538089731"
     },
     "user_tz": 0
    },
    "id": "lIitp8c-sRSm",
    "outputId": "e7f56b07-cba8-4aea-dab4-754c55037a07"
   },
   "outputs": [
    {
     "name": "stdout",
     "output_type": "stream",
     "text": [
      "0 0.5227374052608114\n",
      "1 0.4772625947391886\n"
     ]
    }
   ],
   "source": [
    "# print(Counter(y_train_tf))\n",
    "for item in Counter(y_train_tf).items():\n",
    "  print(item[0], item[1]/len(y_train_tf))"
   ]
  },
  {
   "cell_type": "code",
   "execution_count": null,
   "metadata": {
    "colab": {
     "base_uri": "https://localhost:8080/"
    },
    "executionInfo": {
     "elapsed": 11,
     "status": "ok",
     "timestamp": 1678739871041,
     "user": {
      "displayName": "Beatriz Arcipreste",
      "userId": "15863202257538089731"
     },
     "user_tz": 0
    },
    "id": "TQVOmo13sRSm",
    "outputId": "f85db962-9536-4820-a678-bf3d95c74a87"
   },
   "outputs": [
    {
     "name": "stdout",
     "output_type": "stream",
     "text": [
      "0 0.5176103432902363\n",
      "1 0.4823896567097637\n"
     ]
    }
   ],
   "source": [
    "# print(Counter(y_train_tf))\n",
    "for item in Counter(y_test_tf).items():\n",
    "  print(item[0], item[1]/len(y_test_tf))"
   ]
  },
  {
   "cell_type": "markdown",
   "metadata": {
    "id": "fLN9nQGnVmzo"
   },
   "source": [
    "## Unigrams only and max features"
   ]
  },
  {
   "cell_type": "code",
   "execution_count": 10,
   "metadata": {
    "executionInfo": {
     "elapsed": 5987,
     "status": "ok",
     "timestamp": 1678979577988,
     "user": {
      "displayName": "Beatriz Arcipreste",
      "userId": "15863202257538089731"
     },
     "user_tz": 0
    },
    "id": "AKI6vUqDV2bN"
   },
   "outputs": [],
   "source": [
    "# Convert a collection of raw documents to a matrix of TF-IDF features.\n",
    "vectorizer = TfidfVectorizer(ngram_range=(1,1), max_features=5000)\n",
    "X_train_tf = vectorizer.fit_transform(X_train)\n",
    "X_train_tf=X_train_tf.toarray()\n",
    "X_test_tf= vectorizer.transform(X_test)"
   ]
  },
  {
   "cell_type": "code",
   "execution_count": null,
   "metadata": {
    "id": "M-YXKAxXV2bO"
   },
   "outputs": [],
   "source": [
    "acc_train,cm,cf=training(KNeighborsClassifier(),X_train_tf, X_test_tf, y_train_tf, y_test_tf)\n",
    "print('acc train: ',acc_train)\n",
    "print(cm)\n",
    "print(cf)"
   ]
  },
  {
   "cell_type": "code",
   "execution_count": null,
   "metadata": {
    "colab": {
     "base_uri": "https://localhost:8080/"
    },
    "executionInfo": {
     "elapsed": 26168,
     "status": "ok",
     "timestamp": 1678552183516,
     "user": {
      "displayName": "Beatriz Arcipreste",
      "userId": "15863202257538089731"
     },
     "user_tz": 0
    },
    "id": "qjaSaxxZV2bP",
    "outputId": "f1e5a315-3587-4bca-dd24-464652ba8e27"
   },
   "outputs": [
    {
     "name": "stdout",
     "output_type": "stream",
     "text": [
      "acc train:  0.9992755238519839\n",
      "              precision    recall  f1-score   support\n",
      "\n",
      "           0       0.67      0.67      0.67      2322\n",
      "           1       0.64      0.64      0.64      2164\n",
      "\n",
      "    accuracy                           0.66      4486\n",
      "   macro avg       0.66      0.66      0.66      4486\n",
      "weighted avg       0.66      0.66      0.66      4486\n",
      "\n"
     ]
    }
   ],
   "source": [
    "acc_train,cm=training(DecisionTreeClassifier(),X_train_tf, X_test_tf, y_train_tf, y_test_tf)\n",
    "print('acc train: ',acc_train)\n",
    "print(cm)"
   ]
  },
  {
   "cell_type": "code",
   "execution_count": null,
   "metadata": {
    "colab": {
     "base_uri": "https://localhost:8080/"
    },
    "executionInfo": {
     "elapsed": 33012,
     "status": "ok",
     "timestamp": 1678552216500,
     "user": {
      "displayName": "Beatriz Arcipreste",
      "userId": "15863202257538089731"
     },
     "user_tz": 0
    },
    "id": "5IF_qN2kV2bQ",
    "outputId": "ffb2f2cf-41b8-4d54-e301-944b808f5fa4"
   },
   "outputs": [
    {
     "name": "stdout",
     "output_type": "stream",
     "text": [
      "acc train:  0.9992755238519839\n",
      "              precision    recall  f1-score   support\n",
      "\n",
      "           0       0.77      0.77      0.77      2322\n",
      "           1       0.76      0.76      0.76      2164\n",
      "\n",
      "    accuracy                           0.77      4486\n",
      "   macro avg       0.77      0.77      0.77      4486\n",
      "weighted avg       0.77      0.77      0.77      4486\n",
      "\n"
     ]
    }
   ],
   "source": [
    "acc_train,cm=training(RandomForestClassifier(),X_train_tf, X_test_tf, y_train_tf, y_test_tf)\n",
    "print('acc train: ',acc_train)\n",
    "print(cm)"
   ]
  },
  {
   "cell_type": "code",
   "execution_count": null,
   "metadata": {
    "colab": {
     "base_uri": "https://localhost:8080/"
    },
    "executionInfo": {
     "elapsed": 388599,
     "status": "ok",
     "timestamp": 1678552605095,
     "user": {
      "displayName": "Beatriz Arcipreste",
      "userId": "15863202257538089731"
     },
     "user_tz": 0
    },
    "id": "SIG-I2cWV2bR",
    "outputId": "f71c7933-fd63-4bea-8eb2-47a2a9809a61"
   },
   "outputs": [
    {
     "name": "stdout",
     "output_type": "stream",
     "text": [
      "acc train:  0.7796477931341953\n",
      "              precision    recall  f1-score   support\n",
      "\n",
      "           0       0.77      0.76      0.76      2322\n",
      "           1       0.75      0.75      0.75      2164\n",
      "\n",
      "    accuracy                           0.76      4486\n",
      "   macro avg       0.76      0.76      0.76      4486\n",
      "weighted avg       0.76      0.76      0.76      4486\n",
      "\n"
     ]
    }
   ],
   "source": [
    "acc_train,cm=training(GradientBoostingClassifier(),X_train_tf, X_test_tf, y_train_tf, y_test_tf)\n",
    "print('acc train: ',acc_train)\n",
    "print(cm)"
   ]
  },
  {
   "cell_type": "code",
   "execution_count": null,
   "metadata": {
    "colab": {
     "base_uri": "https://localhost:8080/"
    },
    "executionInfo": {
     "elapsed": 420927,
     "status": "ok",
     "timestamp": 1678553025996,
     "user": {
      "displayName": "Beatriz Arcipreste",
      "userId": "15863202257538089731"
     },
     "user_tz": 0
    },
    "id": "e_WqLoTBV2bS",
    "outputId": "2f6344c0-46a9-4a40-daaf-d64971cb3d25"
   },
   "outputs": [
    {
     "name": "stdout",
     "output_type": "stream",
     "text": [
      "acc train:  0.8908270173874275\n",
      "              precision    recall  f1-score   support\n",
      "\n",
      "           0       0.78      0.77      0.78      2322\n",
      "           1       0.76      0.76      0.76      2164\n",
      "\n",
      "    accuracy                           0.77      4486\n",
      "   macro avg       0.77      0.77      0.77      4486\n",
      "weighted avg       0.77      0.77      0.77      4486\n",
      "\n"
     ]
    }
   ],
   "source": [
    "acc_train,cm=training(XGBClassifier(),X_train_tf, X_test_tf, y_train_tf, y_test_tf)\n",
    "print('acc train: ',acc_train)\n",
    "print(cm)"
   ]
  },
  {
   "cell_type": "code",
   "execution_count": null,
   "metadata": {
    "colab": {
     "base_uri": "https://localhost:8080/"
    },
    "executionInfo": {
     "elapsed": 403,
     "status": "ok",
     "timestamp": 1678553026384,
     "user": {
      "displayName": "Beatriz Arcipreste",
      "userId": "15863202257538089731"
     },
     "user_tz": 0
    },
    "id": "g0Uo7_JgV2bT",
    "outputId": "18c1b90e-4189-41a6-c458-dba546a35dba"
   },
   "outputs": [
    {
     "name": "stdout",
     "output_type": "stream",
     "text": [
      "acc train:  0.7805394560855996\n",
      "              precision    recall  f1-score   support\n",
      "\n",
      "           0       0.78      0.73      0.76      2322\n",
      "           1       0.73      0.78      0.76      2164\n",
      "\n",
      "    accuracy                           0.76      4486\n",
      "   macro avg       0.76      0.76      0.76      4486\n",
      "weighted avg       0.76      0.76      0.76      4486\n",
      "\n"
     ]
    }
   ],
   "source": [
    "acc_train,cm=training(MultinomialNB(),X_train_tf, X_test_tf, y_train_tf, y_test_tf)\n",
    "print('acc train: ',acc_train)\n",
    "print(cm)"
   ]
  },
  {
   "cell_type": "code",
   "execution_count": null,
   "metadata": {
    "colab": {
     "base_uri": "https://localhost:8080/"
    },
    "executionInfo": {
     "elapsed": 2416,
     "status": "ok",
     "timestamp": 1678555390066,
     "user": {
      "displayName": "Beatriz Arcipreste",
      "userId": "15863202257538089731"
     },
     "user_tz": 0
    },
    "id": "0yqBplzzV2bT",
    "outputId": "cced17ff-a54f-4685-f3f1-a518d30cc061"
   },
   "outputs": [
    {
     "name": "stdout",
     "output_type": "stream",
     "text": [
      "acc train:  0.8529870708872046\n",
      "              precision    recall  f1-score   support\n",
      "\n",
      "           0       0.77      0.76      0.77      2322\n",
      "           1       0.75      0.76      0.75      2164\n",
      "\n",
      "    accuracy                           0.76      4486\n",
      "   macro avg       0.76      0.76      0.76      4486\n",
      "weighted avg       0.76      0.76      0.76      4486\n",
      "\n"
     ]
    }
   ],
   "source": [
    "acc_train,cm=training(LinearSVC(),X_train_tf, X_test_tf, y_train_tf, y_test_tf)\n",
    "print('acc train: ',acc_train)\n",
    "print(cm)"
   ]
  },
  {
   "cell_type": "markdown",
   "metadata": {
    "id": "iWZ3jweGVqjT"
   },
   "source": [
    "## Unigrams and bigrams and max features"
   ]
  },
  {
   "cell_type": "code",
   "execution_count": 10,
   "metadata": {
    "executionInfo": {
     "elapsed": 14393,
     "status": "ok",
     "timestamp": 1678979832960,
     "user": {
      "displayName": "Beatriz Arcipreste",
      "userId": "15863202257538089731"
     },
     "user_tz": 0
    },
    "id": "OWID3yjFWUcv"
   },
   "outputs": [],
   "source": [
    "# Convert a collection of raw documents to a matrix of TF-IDF features.\n",
    "vectorizer = TfidfVectorizer(ngram_range=(1,2), max_features=5000)\n",
    "X_train_tf = vectorizer.fit_transform(X_train)\n",
    "X_train_tf=X_train_tf.toarray()\n",
    "X_test_tf= vectorizer.transform(X_test)"
   ]
  },
  {
   "cell_type": "code",
   "execution_count": 11,
   "metadata": {
    "colab": {
     "base_uri": "https://localhost:8080/"
    },
    "executionInfo": {
     "elapsed": 140864,
     "status": "ok",
     "timestamp": 1678979975558,
     "user": {
      "displayName": "Beatriz Arcipreste",
      "userId": "15863202257538089731"
     },
     "user_tz": 0
    },
    "id": "Av9kN5wVWUcv",
    "outputId": "dde16bd5-743b-4a98-bac5-8566d5375248"
   },
   "outputs": [
    {
     "name": "stdout",
     "output_type": "stream",
     "text": [
      "acc train:  0.8085153811859117\n",
      "              precision    recall  f1-score   support\n",
      "\n",
      "           0       0.73      0.72      0.72      2322\n",
      "           1       0.70      0.71      0.71      2164\n",
      "\n",
      "    accuracy                           0.71      4486\n",
      "   macro avg       0.71      0.71      0.71      4486\n",
      "weighted avg       0.71      0.71      0.71      4486\n",
      "\n",
      "[[1668  654]\n",
      " [ 629 1535]]\n"
     ]
    }
   ],
   "source": [
    "acc_train,cm,cf=training(KNeighborsClassifier(),X_train_tf, X_test_tf, y_train_tf, y_test_tf)\n",
    "print('acc train: ',acc_train)\n",
    "print(cm)\n",
    "print(cf)"
   ]
  },
  {
   "cell_type": "code",
   "execution_count": null,
   "metadata": {
    "colab": {
     "base_uri": "https://localhost:8080/"
    },
    "executionInfo": {
     "elapsed": 33822,
     "status": "ok",
     "timestamp": 1678555572469,
     "user": {
      "displayName": "Beatriz Arcipreste",
      "userId": "15863202257538089731"
     },
     "user_tz": 0
    },
    "id": "uR3hVFPoWUcw",
    "outputId": "1818a2a8-2043-4e63-d262-60342e66b62b"
   },
   "outputs": [
    {
     "name": "stdout",
     "output_type": "stream",
     "text": [
      "acc train:  0.9991640659830584\n",
      "              precision    recall  f1-score   support\n",
      "\n",
      "           0       0.66      0.67      0.67      2322\n",
      "           1       0.64      0.63      0.64      2164\n",
      "\n",
      "    accuracy                           0.65      4486\n",
      "   macro avg       0.65      0.65      0.65      4486\n",
      "weighted avg       0.65      0.65      0.65      4486\n",
      "\n"
     ]
    }
   ],
   "source": [
    "acc_train,cm=training(DecisionTreeClassifier(),X_train_tf, X_test_tf, y_train_tf, y_test_tf)\n",
    "print('acc train: ',acc_train)\n",
    "print(cm)"
   ]
  },
  {
   "cell_type": "code",
   "execution_count": null,
   "metadata": {
    "colab": {
     "base_uri": "https://localhost:8080/"
    },
    "executionInfo": {
     "elapsed": 37854,
     "status": "ok",
     "timestamp": 1678555610309,
     "user": {
      "displayName": "Beatriz Arcipreste",
      "userId": "15863202257538089731"
     },
     "user_tz": 0
    },
    "id": "dhsbQfqSWUcw",
    "outputId": "721ac4f1-16db-4d13-bd50-bab110c2dcc0"
   },
   "outputs": [
    {
     "name": "stdout",
     "output_type": "stream",
     "text": [
      "acc train:  0.9991640659830584\n",
      "              precision    recall  f1-score   support\n",
      "\n",
      "           0       0.78      0.78      0.78      2322\n",
      "           1       0.76      0.76      0.76      2164\n",
      "\n",
      "    accuracy                           0.77      4486\n",
      "   macro avg       0.77      0.77      0.77      4486\n",
      "weighted avg       0.77      0.77      0.77      4486\n",
      "\n"
     ]
    }
   ],
   "source": [
    "acc_train,cm=training(RandomForestClassifier(),X_train_tf, X_test_tf, y_train_tf, y_test_tf)\n",
    "print('acc train: ',acc_train)\n",
    "print(cm)"
   ]
  },
  {
   "cell_type": "code",
   "execution_count": null,
   "metadata": {
    "colab": {
     "base_uri": "https://localhost:8080/"
    },
    "executionInfo": {
     "elapsed": 389283,
     "status": "ok",
     "timestamp": 1678555999560,
     "user": {
      "displayName": "Beatriz Arcipreste",
      "userId": "15863202257538089731"
     },
     "user_tz": 0
    },
    "id": "cK_LD2GZWUcw",
    "outputId": "b5320599-a4d4-4f6b-9f04-80730b0858c1"
   },
   "outputs": [
    {
     "name": "stdout",
     "output_type": "stream",
     "text": [
      "acc train:  0.7840503789567543\n",
      "              precision    recall  f1-score   support\n",
      "\n",
      "           0       0.77      0.76      0.76      2322\n",
      "           1       0.74      0.75      0.75      2164\n",
      "\n",
      "    accuracy                           0.76      4486\n",
      "   macro avg       0.76      0.76      0.76      4486\n",
      "weighted avg       0.76      0.76      0.76      4486\n",
      "\n"
     ]
    }
   ],
   "source": [
    "acc_train,cm=training(GradientBoostingClassifier(),X_train_tf, X_test_tf, y_train_tf, y_test_tf)\n",
    "print('acc train: ',acc_train)\n",
    "print(cm)"
   ]
  },
  {
   "cell_type": "code",
   "execution_count": null,
   "metadata": {
    "colab": {
     "base_uri": "https://localhost:8080/"
    },
    "executionInfo": {
     "elapsed": 428198,
     "status": "ok",
     "timestamp": 1678556427742,
     "user": {
      "displayName": "Beatriz Arcipreste",
      "userId": "15863202257538089731"
     },
     "user_tz": 0
    },
    "id": "D1v3_XVTWUcw",
    "outputId": "9c0d74b0-5d9d-4b3b-8391-0502c3a63c30"
   },
   "outputs": [
    {
     "name": "stdout",
     "output_type": "stream",
     "text": [
      "acc train:  0.8931119037004013\n",
      "              precision    recall  f1-score   support\n",
      "\n",
      "           0       0.78      0.77      0.77      2322\n",
      "           1       0.75      0.77      0.76      2164\n",
      "\n",
      "    accuracy                           0.77      4486\n",
      "   macro avg       0.77      0.77      0.77      4486\n",
      "weighted avg       0.77      0.77      0.77      4486\n",
      "\n"
     ]
    }
   ],
   "source": [
    "acc_train,cm=training(XGBClassifier(),X_train_tf, X_test_tf, y_train_tf, y_test_tf)\n",
    "print('acc train: ',acc_train)\n",
    "print(cm)"
   ]
  },
  {
   "cell_type": "code",
   "execution_count": null,
   "metadata": {
    "colab": {
     "base_uri": "https://localhost:8080/"
    },
    "executionInfo": {
     "elapsed": 743,
     "status": "ok",
     "timestamp": 1678556428472,
     "user": {
      "displayName": "Beatriz Arcipreste",
      "userId": "15863202257538089731"
     },
     "user_tz": 0
    },
    "id": "IUoOgqKwWUcx",
    "outputId": "613e149c-221c-4adc-cda0-0f628fb9e10c"
   },
   "outputs": [
    {
     "name": "stdout",
     "output_type": "stream",
     "text": [
      "acc train:  0.7801493535443602\n",
      "              precision    recall  f1-score   support\n",
      "\n",
      "           0       0.79      0.73      0.76      2322\n",
      "           1       0.73      0.80      0.76      2164\n",
      "\n",
      "    accuracy                           0.76      4486\n",
      "   macro avg       0.76      0.76      0.76      4486\n",
      "weighted avg       0.77      0.76      0.76      4486\n",
      "\n"
     ]
    }
   ],
   "source": [
    "acc_train,cm=training(MultinomialNB(),X_train_tf, X_test_tf, y_train_tf, y_test_tf)\n",
    "print('acc train: ',acc_train)\n",
    "print(cm)"
   ]
  },
  {
   "cell_type": "code",
   "execution_count": null,
   "metadata": {
    "colab": {
     "base_uri": "https://localhost:8080/"
    },
    "executionInfo": {
     "elapsed": 813,
     "status": "ok",
     "timestamp": 1678556429283,
     "user": {
      "displayName": "Beatriz Arcipreste",
      "userId": "15863202257538089731"
     },
     "user_tz": 0
    },
    "id": "zQXmurFyWUcx",
    "outputId": "6d1f1f8a-824e-40f8-f837-d42f2c60bc4e"
   },
   "outputs": [
    {
     "name": "stdout",
     "output_type": "stream",
     "text": [
      "acc train:  0.8661948283548818\n",
      "              precision    recall  f1-score   support\n",
      "\n",
      "           0       0.78      0.75      0.77      2322\n",
      "           1       0.74      0.77      0.76      2164\n",
      "\n",
      "    accuracy                           0.76      4486\n",
      "   macro avg       0.76      0.76      0.76      4486\n",
      "weighted avg       0.76      0.76      0.76      4486\n",
      "\n"
     ]
    }
   ],
   "source": [
    "acc_train,cm=training(LinearSVC(),X_train_tf, X_test_tf, y_train_tf, y_test_tf)\n",
    "print('acc train: ',acc_train)\n",
    "print(cm)"
   ]
  }
 ],
 "metadata": {
  "accelerator": "GPU",
  "colab": {
   "authorship_tag": "ABX9TyPTUwf0UkqsymTlwtQqb1CE",
   "provenance": [],
   "toc_visible": true
  },
  "gpuClass": "standard",
  "kernelspec": {
   "display_name": "Python 3 (ipykernel)",
   "language": "python",
   "name": "python3"
  },
  "language_info": {
   "codemirror_mode": {
    "name": "ipython",
    "version": 3
   },
   "file_extension": ".py",
   "mimetype": "text/x-python",
   "name": "python",
   "nbconvert_exporter": "python",
   "pygments_lexer": "ipython3",
   "version": "3.8.0"
  }
 },
 "nbformat": 4,
 "nbformat_minor": 1
}
=======
{"nbformat":4,"nbformat_minor":0,"metadata":{"colab":{"provenance":[],"toc_visible":true,"authorship_tag":"ABX9TyPTUwf0UkqsymTlwtQqb1CE"},"kernelspec":{"name":"python3","display_name":"Python 3"},"language_info":{"name":"python"},"gpuClass":"standard","accelerator":"GPU"},"cells":[{"cell_type":"code","execution_count":1,"metadata":{"id":"3i5RGK43hbDk","colab":{"base_uri":"https://localhost:8080/"},"executionInfo":{"status":"ok","timestamp":1678979806591,"user_tz":0,"elapsed":23482,"user":{"displayName":"Beatriz Arcipreste","userId":"15863202257538089731"}},"outputId":"31d3a783-22cd-4b29-e4b6-2a18b2d7cd77"},"outputs":[{"output_type":"stream","name":"stdout","text":["Mounted at /content/drive\n"]}],"source":["from google.colab import drive\n","drive.mount('/content/drive')"]},{"cell_type":"markdown","source":["https://github.com/halpert3/complaint-content-classification-nlp/tree/main/notebooks"],"metadata":{"id":"-Xr7rQ4b9WVN"}},{"cell_type":"markdown","source":["# Import libraries"],"metadata":{"id":"tkw8gp0Ah2oC"}},{"cell_type":"code","source":["import numpy as np\n","import pandas as pd\n","import matplotlib.pyplot as plt\n","from collections import Counter\n","\n","from sklearn.model_selection import train_test_split\n","from sklearn.feature_extraction.text import TfidfVectorizer, CountVectorizer\n","\n","from sklearn.tree import DecisionTreeClassifier\n","from sklearn.ensemble import GradientBoostingClassifier\n","from xgboost import XGBClassifier\n","from sklearn.neighbors import KNeighborsClassifier\n","from sklearn.svm import SVC\n","from sklearn.svm import LinearSVC\n","from sklearn.ensemble import RandomForestClassifier\n","from sklearn.naive_bayes import MultinomialNB\n","\n","\n","from sklearn.metrics import classification_report, confusion_matrix\n","from sklearn.metrics import accuracy_score, f1_score, precision_score, recall_score\n","from statistics import mean\n"],"metadata":{"id":"cHnIbavYh6Jz","executionInfo":{"status":"ok","timestamp":1678979808701,"user_tz":0,"elapsed":2117,"user":{"displayName":"Beatriz Arcipreste","userId":"15863202257538089731"}}},"execution_count":2,"outputs":[]},{"cell_type":"code","source":["df = pd.read_csv('/content/drive/MyDrive/MS DATA SCIENCE /TESE /data_processed.csv')"],"metadata":{"id":"acIQsYypNRyZ","executionInfo":{"status":"ok","timestamp":1678979811827,"user_tz":0,"elapsed":3132,"user":{"displayName":"Beatriz Arcipreste","userId":"15863202257538089731"}}},"execution_count":3,"outputs":[]},{"cell_type":"markdown","source":["# Multiclass Classification and Holdout CV"],"metadata":{"id":"C4BpLIXPh2wQ"}},{"cell_type":"code","source":["#convert reason to numbers\n","reason_dict ={'Mau Serviço Prestado': 0, 'Condições de entrega': 1, 'Atraso de entrega': 2, \n","               'Enganos': 3}\n","df['reason'].replace(reason_dict, inplace=True)"],"metadata":{"id":"aUYXa9p0NSUf"},"execution_count":null,"outputs":[]},{"cell_type":"code","source":["df['reason'].unique()"],"metadata":{"colab":{"base_uri":"https://localhost:8080/"},"id":"PcMhmdkVNYSX","executionInfo":{"status":"ok","timestamp":1678740057897,"user_tz":0,"elapsed":20,"user":{"displayName":"Beatriz Arcipreste","userId":"15863202257538089731"}},"outputId":"e8f3e752-6528-4c3c-e884-2ac41ace2c09"},"execution_count":null,"outputs":[{"output_type":"execute_result","data":{"text/plain":["array([0, 1, 2, 3])"]},"metadata":{},"execution_count":58}]},{"cell_type":"code","source":["X = df['narrative_tfidf']\n","y = df['reason']"],"metadata":{"id":"rTBY13XLNhix"},"execution_count":null,"outputs":[]},{"cell_type":"code","source":["for item in Counter(y).items():\n","  print(item[0], item[1]/len(y))"],"metadata":{"colab":{"base_uri":"https://localhost:8080/"},"id":"I_ew9jp4s76O","executionInfo":{"status":"ok","timestamp":1678740057900,"user_tz":0,"elapsed":17,"user":{"displayName":"Beatriz Arcipreste","userId":"15863202257538089731"}},"outputId":"981ec127-1637-44a0-82dc-e198e4a912ae"},"execution_count":null,"outputs":[{"output_type":"stream","name":"stdout","text":["0 0.3551493535443602\n","1 0.09893000445831476\n","2 0.4782880071333036\n","3 0.0676326348640214\n"]}]},{"cell_type":"markdown","source":["# Train test split"],"metadata":{"id":"3_NG1ynch2zA"}},{"cell_type":"code","source":["# we should always split before transforming the data\n","X_train, X_test, y_train_tf, y_test_tf = train_test_split(X, y.values, test_size=0.20, random_state=200)"],"metadata":{"id":"PczDTPFMh9Xq"},"execution_count":null,"outputs":[]},{"cell_type":"code","source":["# print(Counter(y_train_tf))\n","for item in Counter(y_train_tf).items():\n","  print(item[0], item[1]/len(y_train_tf))"],"metadata":{"colab":{"base_uri":"https://localhost:8080/"},"id":"gqsga1BXot_c","executionInfo":{"status":"ok","timestamp":1678739685668,"user_tz":0,"elapsed":420,"user":{"displayName":"Beatriz Arcipreste","userId":"15863202257538089731"}},"outputId":"246df968-ce3c-495e-a2b5-509f4e001952"},"execution_count":null,"outputs":[{"output_type":"stream","name":"stdout","text":["0 0.35644226482389657\n","3 0.06754346856888097\n","2 0.4772625947391886\n","1 0.09875167186803388\n"]}]},{"cell_type":"code","source":["for item in Counter(y_test_tf).items():\n","  print(item[0], item[1]/len(y_test_tf))"],"metadata":{"colab":{"base_uri":"https://localhost:8080/"},"executionInfo":{"status":"ok","timestamp":1678739753781,"user_tz":0,"elapsed":793,"user":{"displayName":"Beatriz Arcipreste","userId":"15863202257538089731"}},"outputId":"c57128e9-32c4-4821-d21d-59476d5181a2","id":"n231hfqQY3oE"},"execution_count":null,"outputs":[{"output_type":"stream","name":"stdout","text":["0 0.3499777084262149\n","2 0.4823896567097637\n","1 0.09964333481943825\n","3 0.06798930004458315\n"]}]},{"cell_type":"code","source":["def training (classifier,X_train_tf, X_test_tf, y_train_tf, y_test_tf):\n","    classifier = classifier\n","    # Train Decision Tree Classifer\n","    classifier.fit(X_train_tf, y_train_tf)\n","   \n","    # TRAIN\n","    #Predict the response for train dataset\n","    y_pred = classifier.predict(X_train_tf)\n","\n","    # TEST\n","    #Predict the response for test dataset\n","    test_y_pred = classifier.predict(X_test_tf)\n","\n","    cf=confusion_matrix(y_test_tf, test_y_pred)\n","\n","    return accuracy_score(y_train_tf, y_pred),classification_report(y_test_tf, test_y_pred), cf"],"metadata":{"id":"MaAhtxJZNvP-","executionInfo":{"status":"ok","timestamp":1678979811828,"user_tz":0,"elapsed":10,"user":{"displayName":"Beatriz Arcipreste","userId":"15863202257538089731"}}},"execution_count":4,"outputs":[]},{"cell_type":"markdown","source":["## Unigrams only"],"metadata":{"id":"eC3ggBzViJXi"}},{"cell_type":"code","source":["# Convert a collection of raw documents to a matrix of TF-IDF features.\n","vectorizer = TfidfVectorizer(ngram_range=(1,1))\n","X_train_tf = vectorizer.fit_transform(X_train)\n","X_train_tf=X_train_tf.toarray()\n","X_test_tf= vectorizer.transform(X_test)"],"metadata":{"id":"YzGAAT0ONl76"},"execution_count":null,"outputs":[]},{"cell_type":"code","source":["feature_names =  vectorizer.get_feature_names_out()\n","len(feature_names)"],"metadata":{"colab":{"base_uri":"https://localhost:8080/"},"id":"4C76XPpK4798","executionInfo":{"status":"ok","timestamp":1678491559117,"user_tz":0,"elapsed":3,"user":{"displayName":"Beatriz Arcipreste","userId":"15863202257538089731"}},"outputId":"b760e036-8361-47a9-e709-82483fd8f5e6"},"execution_count":null,"outputs":[{"output_type":"execute_result","data":{"text/plain":["22592"]},"metadata":{},"execution_count":15}]},{"cell_type":"code","source":["X_test_tf"],"metadata":{"colab":{"base_uri":"https://localhost:8080/"},"id":"jl3fJQyyO-mv","executionInfo":{"status":"ok","timestamp":1678480516316,"user_tz":0,"elapsed":272,"user":{"displayName":"Beatriz Arcipreste","userId":"15863202257538089731"}},"outputId":"a649934e-7aa5-44a2-f88c-8e73d6cec0bc"},"execution_count":null,"outputs":[{"output_type":"execute_result","data":{"text/plain":["<4486x22592 sparse matrix of type '<class 'numpy.float64'>'\n","\twith 234900 stored elements in Compressed Sparse Row format>"]},"metadata":{},"execution_count":14}]},{"cell_type":"markdown","source":["### KNN"],"metadata":{"id":"wzwBs1WcODFb"}},{"cell_type":"code","source":["acc_train,cm=training(KNeighborsClassifier(),X_train_tf, X_test_tf, y_train_tf, y_test_tf)\n","print('acc train: ',acc_train)\n","print(cm)"],"metadata":{"colab":{"base_uri":"https://localhost:8080/"},"id":"hTJ5kw3lOrwb","executionInfo":{"status":"ok","timestamp":1678450761568,"user_tz":0,"elapsed":363501,"user":{"displayName":"Beatriz Arcipreste","userId":"15863202257538089731"}},"outputId":"1f65f436-9c34-45cb-a27a-33b17e18c184"},"execution_count":null,"outputs":[{"output_type":"stream","name":"stdout","text":["acc train:  0.7043580026749888\n","              precision    recall  f1-score   support\n","\n","           0       0.52      0.56      0.54      1570\n","           1       0.20      0.10      0.13       447\n","           2       0.67      0.76      0.71      2164\n","           3       0.31      0.13      0.18       305\n","\n","    accuracy                           0.58      4486\n","   macro avg       0.42      0.38      0.39      4486\n","weighted avg       0.54      0.58      0.56      4486\n","\n"]}]},{"cell_type":"markdown","source":["### DT"],"metadata":{"id":"WxSBIthDODPH"}},{"cell_type":"code","source":["acc_train,cm=training(DecisionTreeClassifier(),X_train_tf, X_test_tf, y_train_tf, y_test_tf)\n","print('acc train: ',acc_train)\n","print(cm)"],"metadata":{"colab":{"base_uri":"https://localhost:8080/"},"id":"MDAyqZVCOsb5","executionInfo":{"status":"ok","timestamp":1678451057711,"user_tz":0,"elapsed":54607,"user":{"displayName":"Beatriz Arcipreste","userId":"15863202257538089731"}},"outputId":"ee427305-09cd-434e-9bcc-6d8233bea573"},"execution_count":null,"outputs":[{"output_type":"stream","name":"stdout","text":["acc train:  0.9991640659830584\n","              precision    recall  f1-score   support\n","\n","           0       0.44      0.46      0.45      1570\n","           1       0.13      0.12      0.12       447\n","           2       0.64      0.63      0.64      2164\n","           3       0.18      0.16      0.17       305\n","\n","    accuracy                           0.49      4486\n","   macro avg       0.35      0.34      0.34      4486\n","weighted avg       0.49      0.49      0.49      4486\n","\n"]}]},{"cell_type":"markdown","source":["### Random Forest"],"metadata":{"id":"2ADFeq4EODYu"}},{"cell_type":"code","source":["acc_train,cm=training(RandomForestClassifier(),X_train_tf, X_test_tf, y_train_tf, y_test_tf)\n","print('acc train: ',acc_train)\n","print(cm)"],"metadata":{"colab":{"base_uri":"https://localhost:8080/"},"id":"p0Ykc-kxSrzB","executionInfo":{"status":"ok","timestamp":1678451150693,"user_tz":0,"elapsed":90241,"user":{"displayName":"Beatriz Arcipreste","userId":"15863202257538089731"}},"outputId":"08c280dd-92dc-4957-e90b-3a8841872acc"},"execution_count":null,"outputs":[{"output_type":"stream","name":"stdout","text":["acc train:  0.9991640659830584\n","              precision    recall  f1-score   support\n","\n","           0       0.60      0.58      0.59      1570\n","           1       0.62      0.01      0.02       447\n","           2       0.66      0.91      0.77      2164\n","           3       0.50      0.02      0.03       305\n","\n","    accuracy                           0.64      4486\n","   macro avg       0.60      0.38      0.35      4486\n","weighted avg       0.63      0.64      0.58      4486\n","\n"]}]},{"cell_type":"markdown","source":["### Gradient Boosting"],"metadata":{"id":"UySv1FSRODiF"}},{"cell_type":"code","source":["acc_train,cm=training(GradientBoostingClassifier(),X_train_tf, X_test_tf, y_train_tf, y_test_tf)\n","print('acc train: ',acc_train)\n","print(cm)"],"metadata":{"colab":{"base_uri":"https://localhost:8080/"},"id":"o7PeR9lLSzZ0","executionInfo":{"status":"ok","timestamp":1678457072129,"user_tz":0,"elapsed":1464158,"user":{"displayName":"Beatriz Arcipreste","userId":"15863202257538089731"}},"outputId":"85e957ee-5c90-4136-a6bd-46f4f355f3d9"},"execution_count":null,"outputs":[{"output_type":"stream","name":"stdout","text":["acc train:  0.6851315202853322\n","              precision    recall  f1-score   support\n","\n","           0       0.57      0.63      0.60      1570\n","           1       0.42      0.04      0.07       447\n","           2       0.70      0.85      0.77      2164\n","           3       0.48      0.12      0.19       305\n","\n","    accuracy                           0.64      4486\n","   macro avg       0.54      0.41      0.41      4486\n","weighted avg       0.61      0.64      0.60      4486\n","\n"]}]},{"cell_type":"markdown","source":["### XGBoost"],"metadata":{"id":"voYQqAfbOl6p"}},{"cell_type":"code","source":["acc_train,cm=training(XGBClassifier(),X_train_tf, X_test_tf, y_train_tf, y_test_tf)\n","print('acc train: ',acc_train)\n","print(cm)"],"metadata":{"colab":{"base_uri":"https://localhost:8080/"},"id":"6NAMpcIHS0C6","executionInfo":{"status":"ok","timestamp":1678461552702,"user_tz":0,"elapsed":4480575,"user":{"displayName":"Beatriz Arcipreste","userId":"15863202257538089731"}},"outputId":"b2ceb73e-3f6e-4261-f68b-b7e263277005"},"execution_count":null,"outputs":[{"output_type":"stream","name":"stdout","text":["acc train:  0.8525969683459652\n","              precision    recall  f1-score   support\n","\n","           0       0.56      0.64      0.60      1570\n","           1       0.39      0.09      0.15       447\n","           2       0.72      0.83      0.77      2164\n","           3       0.50      0.20      0.28       305\n","\n","    accuracy                           0.65      4486\n","   macro avg       0.54      0.44      0.45      4486\n","weighted avg       0.62      0.65      0.62      4486\n","\n"]}]},{"cell_type":"markdown","source":["### NB"],"metadata":{"id":"iUCfgaojOocU"}},{"cell_type":"code","source":["classifier = MultinomialNB()\n","# Train Decision Tree Classifer\n","classifier.fit(X_train_tf, y_train_tf)\n","\n","# TRAIN\n","#Predict the response for train dataset\n","y_pred = classifier.predict(X_train_tf)\n","\n","# TEST\n","#Predict the response for test dataset\n","test_y_pred = classifier.predict(X_test_tf)\n","\n","print(accuracy_score(y_train_tf, y_pred))\n","print(classification_report(y_test_tf, test_y_pred, zero_division=1))"],"metadata":{"colab":{"base_uri":"https://localhost:8080/"},"id":"haZi9Dhd3Ekh","executionInfo":{"status":"ok","timestamp":1678491201260,"user_tz":0,"elapsed":2828,"user":{"displayName":"Beatriz Arcipreste","userId":"15863202257538089731"}},"outputId":"ff8b5b4b-4a69-4b3b-c977-542a65f9e639"},"execution_count":null,"outputs":[{"output_type":"stream","name":"stdout","text":["0.6516941596076683\n","              precision    recall  f1-score   support\n","\n","           0       0.60      0.51      0.55      1570\n","           1       1.00      0.00      0.00       447\n","           2       0.63      0.92      0.75      2164\n","           3       1.00      0.00      0.00       305\n","\n","    accuracy                           0.62      4486\n","   macro avg       0.81      0.36      0.32      4486\n","weighted avg       0.68      0.62      0.55      4486\n","\n"]}]},{"cell_type":"code","source":["acc_train,cm=training(MultinomialNB(),X_train_tf, X_test_tf, y_train_tf, y_test_tf)\n","print('acc train: ',acc_train)\n","print(cm)"],"metadata":{"colab":{"base_uri":"https://localhost:8080/"},"id":"rEmmkViLS0qq","executionInfo":{"status":"ok","timestamp":1678463694945,"user_tz":0,"elapsed":3869,"user":{"displayName":"Beatriz Arcipreste","userId":"15863202257538089731"}},"outputId":"3a8b6586-6e1f-4853-e653-25b517816c1a"},"execution_count":null,"outputs":[{"output_type":"stream","name":"stdout","text":["acc train:  0.6516941596076683\n","              precision    recall  f1-score   support\n","\n","           0       0.60      0.51      0.55      1570\n","           1       0.00      0.00      0.00       447\n","           2       0.63      0.92      0.75      2164\n","           3       0.00      0.00      0.00       305\n","\n","    accuracy                           0.62      4486\n","   macro avg       0.31      0.36      0.32      4486\n","weighted avg       0.51      0.62      0.55      4486\n","\n"]},{"output_type":"stream","name":"stderr","text":["/usr/local/lib/python3.9/dist-packages/sklearn/metrics/_classification.py:1344: UndefinedMetricWarning: Precision and F-score are ill-defined and being set to 0.0 in labels with no predicted samples. Use `zero_division` parameter to control this behavior.\n","  _warn_prf(average, modifier, msg_start, len(result))\n","/usr/local/lib/python3.9/dist-packages/sklearn/metrics/_classification.py:1344: UndefinedMetricWarning: Precision and F-score are ill-defined and being set to 0.0 in labels with no predicted samples. Use `zero_division` parameter to control this behavior.\n","  _warn_prf(average, modifier, msg_start, len(result))\n","/usr/local/lib/python3.9/dist-packages/sklearn/metrics/_classification.py:1344: UndefinedMetricWarning: Precision and F-score are ill-defined and being set to 0.0 in labels with no predicted samples. Use `zero_division` parameter to control this behavior.\n","  _warn_prf(average, modifier, msg_start, len(result))\n"]}]},{"cell_type":"markdown","source":["### SVM"],"metadata":{"id":"uLycpENDOuyc"}},{"cell_type":"code","source":["acc_train,cm=training(SVC(kernel='linear'),X_train_tf, X_test_tf.toarray(), y_train_tf, y_test_tf)\n","print('acc train: ',acc_train)\n","print(cm)"],"metadata":{"colab":{"base_uri":"https://localhost:8080/"},"id":"w8jwzyXRN4kV","executionInfo":{"status":"ok","timestamp":1678490787776,"user_tz":0,"elapsed":10218619,"user":{"displayName":"Beatriz Arcipreste","userId":"15863202257538089731"}},"outputId":"494dca6e-7ab6-4367-a0de-4d45ef3f9298"},"execution_count":null,"outputs":[{"output_type":"stream","name":"stdout","text":["acc train:  0.7467119928666964\n","              precision    recall  f1-score   support\n","\n","           0       0.56      0.68      0.61      1570\n","           1       0.34      0.03      0.05       447\n","           2       0.73      0.84      0.78      2164\n","           3       0.48      0.14      0.22       305\n","\n","    accuracy                           0.65      4486\n","   macro avg       0.53      0.42      0.42      4486\n","weighted avg       0.62      0.65      0.61      4486\n","\n"]}]},{"cell_type":"code","source":["acc_train,cm=training(LinearSVC(),X_train_tf, X_test_tf, y_train_tf, y_test_tf)\n","print('acc train: ',acc_train)\n","print(cm)"],"metadata":{"colab":{"base_uri":"https://localhost:8080/"},"id":"JdYJiA-8a0Qz","executionInfo":{"status":"ok","timestamp":1678480366154,"user_tz":0,"elapsed":6540,"user":{"displayName":"Beatriz Arcipreste","userId":"15863202257538089731"}},"outputId":"74ada8e7-2582-4b87-d2ce-459348ac0ccf"},"execution_count":null,"outputs":[{"output_type":"stream","name":"stdout","text":["acc train:  0.8576683013820776\n","              precision    recall  f1-score   support\n","\n","           0       0.57      0.61      0.59      1570\n","           1       0.30      0.11      0.16       447\n","           2       0.71      0.82      0.76      2164\n","           3       0.38      0.19      0.25       305\n","\n","    accuracy                           0.63      4486\n","   macro avg       0.49      0.43      0.44      4486\n","weighted avg       0.60      0.63      0.61      4486\n","\n"]}]},{"cell_type":"markdown","source":["## Unigrams and Max features 10.000"],"metadata":{"id":"5-q_JoYsUrEk"}},{"cell_type":"code","source":["# Convert a collection of raw documents to a matrix of TF-IDF features.\n","vectorizer = TfidfVectorizer(ngram_range=(1,1), max_features=10000)\n","X_train_tf = vectorizer.fit_transform(X_train)\n","X_train_tf=X_train_tf.toarray()\n","X_test_tf= vectorizer.transform(X_test)"],"metadata":{"id":"MnigjPCCU21u"},"execution_count":null,"outputs":[]},{"cell_type":"code","source":["acc_train,cm=training(KNeighborsClassifier(),X_train_tf, X_test_tf, y_train_tf, y_test_tf)\n","print('acc train: ',acc_train)\n","print(cm)"],"metadata":{"colab":{"base_uri":"https://localhost:8080/"},"id":"9JHwJmolU21w","executionInfo":{"status":"ok","timestamp":1678494346588,"user_tz":0,"elapsed":304244,"user":{"displayName":"Beatriz Arcipreste","userId":"15863202257538089731"}},"outputId":"fcf4bdfc-931a-4e53-b999-fa9ab0d0de93"},"execution_count":null,"outputs":[{"output_type":"stream","name":"stdout","text":["acc train:  0.7047481052162282\n","              precision    recall  f1-score   support\n","\n","           0       0.51      0.56      0.53      1570\n","           1       0.22      0.11      0.14       447\n","           2       0.67      0.74      0.71      2164\n","           3       0.33      0.13      0.19       305\n","\n","    accuracy                           0.58      4486\n","   macro avg       0.43      0.39      0.39      4486\n","weighted avg       0.54      0.58      0.55      4486\n","\n"]}]},{"cell_type":"code","source":["acc_train,cm=training(DecisionTreeClassifier(),X_train_tf, X_test_tf, y_train_tf, y_test_tf)\n","print('acc train: ',acc_train)\n","print(cm)"],"metadata":{"colab":{"base_uri":"https://localhost:8080/"},"id":"Z2mhmJebU21w","executionInfo":{"status":"ok","timestamp":1678494442738,"user_tz":0,"elapsed":58248,"user":{"displayName":"Beatriz Arcipreste","userId":"15863202257538089731"}},"outputId":"b03e379b-7a60-4e3e-8885-966546e600bc"},"execution_count":null,"outputs":[{"output_type":"stream","name":"stdout","text":["acc train:  0.9991640659830584\n","              precision    recall  f1-score   support\n","\n","           0       0.46      0.49      0.48      1570\n","           1       0.16      0.13      0.14       447\n","           2       0.65      0.65      0.65      2164\n","           3       0.21      0.20      0.20       305\n","\n","    accuracy                           0.51      4486\n","   macro avg       0.37      0.37      0.37      4486\n","weighted avg       0.50      0.51      0.51      4486\n","\n"]}]},{"cell_type":"code","source":["acc_train,cm=training(RandomForestClassifier(),X_train_tf, X_test_tf, y_train_tf, y_test_tf)\n","print('acc train: ',acc_train)\n","print(cm)"],"metadata":{"colab":{"base_uri":"https://localhost:8080/"},"id":"wrBBiduAU21x","executionInfo":{"status":"ok","timestamp":1678494515065,"user_tz":0,"elapsed":72340,"user":{"displayName":"Beatriz Arcipreste","userId":"15863202257538089731"}},"outputId":"17043f5e-4995-4b5b-f998-da34804c2c9e"},"execution_count":null,"outputs":[{"output_type":"stream","name":"stdout","text":["acc train:  0.9991640659830584\n","              precision    recall  f1-score   support\n","\n","           0       0.58      0.61      0.59      1570\n","           1       0.67      0.01      0.03       447\n","           2       0.68      0.88      0.76      2164\n","           3       0.71      0.02      0.03       305\n","\n","    accuracy                           0.64      4486\n","   macro avg       0.66      0.38      0.35      4486\n","weighted avg       0.64      0.64      0.58      4486\n","\n"]}]},{"cell_type":"code","source":["acc_train,cm=training(GradientBoostingClassifier(),X_train_tf, X_test_tf, y_train_tf, y_test_tf)\n","print('acc train: ',acc_train)\n","print(cm)"],"metadata":{"colab":{"base_uri":"https://localhost:8080/"},"id":"XzPdAFjXU21y","executionInfo":{"status":"ok","timestamp":1678497933502,"user_tz":0,"elapsed":1737394,"user":{"displayName":"Beatriz Arcipreste","userId":"15863202257538089731"}},"outputId":"a5f68c22-0d06-4f93-9319-9d3c6b78d113"},"execution_count":null,"outputs":[{"output_type":"stream","name":"stdout","text":["acc train:  0.6852429781542577\n","              precision    recall  f1-score   support\n","\n","           0       0.56      0.63      0.60      1570\n","           1       0.51      0.04      0.08       447\n","           2       0.70      0.84      0.76      2164\n","           3       0.53      0.14      0.22       305\n","\n","    accuracy                           0.64      4486\n","   macro avg       0.58      0.41      0.41      4486\n","weighted avg       0.62      0.64      0.60      4486\n","\n"]}]},{"cell_type":"code","source":["acc_train,cm=training(XGBClassifier(),X_train_tf, X_test_tf, y_train_tf, y_test_tf)\n","print('acc train: ',acc_train)\n","print(cm)"],"metadata":{"colab":{"base_uri":"https://localhost:8080/"},"id":"bxhgzUT9U21y","executionInfo":{"status":"ok","timestamp":1678501025258,"user_tz":0,"elapsed":750828,"user":{"displayName":"Beatriz Arcipreste","userId":"15863202257538089731"}},"outputId":"481119c3-af92-499f-a41b-9dcb42333cd0"},"execution_count":null,"outputs":[{"output_type":"stream","name":"stdout","text":["acc train:  0.8514823896567097\n","              precision    recall  f1-score   support\n","\n","           0       0.57      0.64      0.60      1570\n","           1       0.36      0.09      0.14       447\n","           2       0.72      0.83      0.77      2164\n","           3       0.49      0.17      0.25       305\n","\n","    accuracy                           0.65      4486\n","   macro avg       0.53      0.43      0.44      4486\n","weighted avg       0.62      0.65      0.61      4486\n","\n"]}]},{"cell_type":"code","source":["acc_train,cm=training(MultinomialNB(),X_train_tf, X_test_tf, y_train_tf, y_test_tf)\n","print('acc train: ',acc_train)\n","print(cm)"],"metadata":{"colab":{"base_uri":"https://localhost:8080/"},"id":"DHfJ44kJU21z","executionInfo":{"status":"ok","timestamp":1678503818977,"user_tz":0,"elapsed":2021,"user":{"displayName":"Beatriz Arcipreste","userId":"15863202257538089731"}},"outputId":"3085d5e1-c7c9-4218-c028-be39a1a8002a"},"execution_count":null,"outputs":[{"output_type":"stream","name":"stdout","text":["acc train:  0.6525858225590727\n","              precision    recall  f1-score   support\n","\n","           0       0.59      0.57      0.58      1570\n","           1       0.00      0.00      0.00       447\n","           2       0.65      0.90      0.76      2164\n","           3       0.00      0.00      0.00       305\n","\n","    accuracy                           0.63      4486\n","   macro avg       0.31      0.37      0.33      4486\n","weighted avg       0.52      0.63      0.57      4486\n","\n"]},{"output_type":"stream","name":"stderr","text":["/usr/local/lib/python3.9/dist-packages/sklearn/metrics/_classification.py:1344: UndefinedMetricWarning: Precision and F-score are ill-defined and being set to 0.0 in labels with no predicted samples. Use `zero_division` parameter to control this behavior.\n","  _warn_prf(average, modifier, msg_start, len(result))\n","/usr/local/lib/python3.9/dist-packages/sklearn/metrics/_classification.py:1344: UndefinedMetricWarning: Precision and F-score are ill-defined and being set to 0.0 in labels with no predicted samples. Use `zero_division` parameter to control this behavior.\n","  _warn_prf(average, modifier, msg_start, len(result))\n","/usr/local/lib/python3.9/dist-packages/sklearn/metrics/_classification.py:1344: UndefinedMetricWarning: Precision and F-score are ill-defined and being set to 0.0 in labels with no predicted samples. Use `zero_division` parameter to control this behavior.\n","  _warn_prf(average, modifier, msg_start, len(result))\n"]}]},{"cell_type":"code","source":["acc_train,cm=training(LinearSVC(),X_train_tf, X_test_tf, y_train_tf, y_test_tf)\n","print('acc train: ',acc_train)\n","print(cm)"],"metadata":{"colab":{"base_uri":"https://localhost:8080/"},"id":"M4N_z6qlU21z","executionInfo":{"status":"ok","timestamp":1678503828435,"user_tz":0,"elapsed":3698,"user":{"displayName":"Beatriz Arcipreste","userId":"15863202257538089731"}},"outputId":"818bb30a-e14d-4df5-987e-79d0a317dd74"},"execution_count":null,"outputs":[{"output_type":"stream","name":"stdout","text":["acc train:  0.8260142666072224\n","              precision    recall  f1-score   support\n","\n","           0       0.57      0.61      0.59      1570\n","           1       0.30      0.11      0.16       447\n","           2       0.71      0.82      0.76      2164\n","           3       0.37      0.19      0.25       305\n","\n","    accuracy                           0.63      4486\n","   macro avg       0.49      0.43      0.44      4486\n","weighted avg       0.60      0.63      0.61      4486\n","\n"]}]},{"cell_type":"markdown","source":["## Unigrams and Max features 5.000"],"metadata":{"id":"BWHHrdSHHvFX"}},{"cell_type":"code","source":["# Convert a collection of raw documents to a matrix of TF-IDF features.\n","vectorizer = TfidfVectorizer(ngram_range=(1,1), max_features=5000)\n","X_train_tf = vectorizer.fit_transform(X_train)\n","X_train_tf=X_train_tf.toarray()\n","X_test_tf= vectorizer.transform(X_test)"],"metadata":{"id":"MmRVcjkiH6dX"},"execution_count":null,"outputs":[]},{"cell_type":"code","source":["acc_train,cm=training(KNeighborsClassifier(),X_train_tf, X_test_tf, y_train_tf, y_test_tf)\n","print('acc train: ',acc_train)\n","print(cm)"],"metadata":{"colab":{"base_uri":"https://localhost:8080/"},"executionInfo":{"status":"ok","timestamp":1678545191295,"user_tz":0,"elapsed":137329,"user":{"displayName":"Beatriz Arcipreste","userId":"15863202257538089731"}},"outputId":"ccaf0ab9-906c-4043-b285-35b7bf0edf95","id":"69iwotRqH6dY"},"execution_count":null,"outputs":[{"output_type":"stream","name":"stdout","text":["acc train:  0.7027418635755684\n","              precision    recall  f1-score   support\n","\n","           0       0.51      0.57      0.53      1570\n","           1       0.24      0.11      0.15       447\n","           2       0.67      0.74      0.70      2164\n","           3       0.33      0.14      0.19       305\n","\n","    accuracy                           0.58      4486\n","   macro avg       0.44      0.39      0.40      4486\n","weighted avg       0.55      0.58      0.56      4486\n","\n"]}]},{"cell_type":"code","source":["acc_train,cm=training(DecisionTreeClassifier(),X_train_tf, X_test_tf, y_train_tf, y_test_tf)\n","print('acc train: ',acc_train)\n","print(cm)"],"metadata":{"colab":{"base_uri":"https://localhost:8080/"},"executionInfo":{"status":"ok","timestamp":1678545209242,"user_tz":0,"elapsed":17951,"user":{"displayName":"Beatriz Arcipreste","userId":"15863202257538089731"}},"outputId":"747d4ae4-4ce3-4e34-b70d-4f0f72678a16","id":"cvwa39EZH6da"},"execution_count":null,"outputs":[{"output_type":"stream","name":"stdout","text":["acc train:  0.9991640659830584\n","              precision    recall  f1-score   support\n","\n","           0       0.46      0.50      0.48      1570\n","           1       0.18      0.16      0.17       447\n","           2       0.65      0.64      0.64      2164\n","           3       0.19      0.15      0.17       305\n","\n","    accuracy                           0.51      4486\n","   macro avg       0.37      0.36      0.37      4486\n","weighted avg       0.50      0.51      0.51      4486\n","\n"]}]},{"cell_type":"code","source":["acc_train,cm=training(RandomForestClassifier(),X_train_tf, X_test_tf, y_train_tf, y_test_tf)\n","print('acc train: ',acc_train)\n","print(cm)"],"metadata":{"colab":{"base_uri":"https://localhost:8080/"},"executionInfo":{"status":"ok","timestamp":1678545243865,"user_tz":0,"elapsed":34637,"user":{"displayName":"Beatriz Arcipreste","userId":"15863202257538089731"}},"outputId":"5d03960c-2b27-49a2-883a-3bf20c828ee8","id":"vxbuC0lJH6da"},"execution_count":null,"outputs":[{"output_type":"stream","name":"stdout","text":["acc train:  0.9991640659830584\n","              precision    recall  f1-score   support\n","\n","           0       0.58      0.62      0.60      1570\n","           1       0.50      0.01      0.02       447\n","           2       0.69      0.89      0.77      2164\n","           3       0.67      0.02      0.04       305\n","\n","    accuracy                           0.65      4486\n","   macro avg       0.61      0.38      0.36      4486\n","weighted avg       0.63      0.65      0.59      4486\n","\n"]}]},{"cell_type":"code","source":["acc_train,cm=training(GradientBoostingClassifier(),X_train_tf, X_test_tf, y_train_tf, y_test_tf)\n","print('acc train: ',acc_train)\n","print(cm)"],"metadata":{"colab":{"base_uri":"https://localhost:8080/"},"id":"VTLoXgr6H6db","executionInfo":{"status":"ok","timestamp":1678546721851,"user_tz":0,"elapsed":1478001,"user":{"displayName":"Beatriz Arcipreste","userId":"15863202257538089731"}},"outputId":"8a70b2ae-b42b-4c02-a7a4-30465daa39b9"},"execution_count":null,"outputs":[{"output_type":"stream","name":"stdout","text":["acc train:  0.6868591172536781\n","              precision    recall  f1-score   support\n","\n","           0       0.56      0.63      0.59      1570\n","           1       0.50      0.04      0.07       447\n","           2       0.70      0.84      0.77      2164\n","           3       0.47      0.11      0.18       305\n","\n","    accuracy                           0.64      4486\n","   macro avg       0.56      0.41      0.40      4486\n","weighted avg       0.62      0.64      0.60      4486\n","\n"]}]},{"cell_type":"code","source":["acc_train,cm=training(XGBClassifier(),X_train_tf, X_test_tf, y_train_tf, y_test_tf)\n","print('acc train: ',acc_train)\n","print(cm)"],"metadata":{"colab":{"base_uri":"https://localhost:8080/"},"id":"5Az3-lrsH6dc","executionInfo":{"status":"ok","timestamp":1678548315076,"user_tz":0,"elapsed":1593239,"user":{"displayName":"Beatriz Arcipreste","userId":"15863202257538089731"}},"outputId":"fae1c6ff-805e-4229-e272-8301c0ab5198"},"execution_count":null,"outputs":[{"output_type":"stream","name":"stdout","text":["acc train:  0.854881854658939\n","              precision    recall  f1-score   support\n","\n","           0       0.55      0.63      0.59      1570\n","           1       0.35      0.07      0.12       447\n","           2       0.72      0.83      0.77      2164\n","           3       0.44      0.17      0.24       305\n","\n","    accuracy                           0.64      4486\n","   macro avg       0.52      0.42      0.43      4486\n","weighted avg       0.60      0.64      0.60      4486\n","\n"]}]},{"cell_type":"code","source":["acc_train,cm=training(MultinomialNB(),X_train_tf, X_test_tf, y_train_tf, y_test_tf)\n","print('acc train: ',acc_train)\n","print(cm)"],"metadata":{"colab":{"base_uri":"https://localhost:8080/"},"id":"ojZ8DxYVH6dc","executionInfo":{"status":"ok","timestamp":1678548316216,"user_tz":0,"elapsed":1144,"user":{"displayName":"Beatriz Arcipreste","userId":"15863202257538089731"}},"outputId":"6cea2c13-5a68-49bb-a6ab-54bb49d4d4a0"},"execution_count":null,"outputs":[{"output_type":"stream","name":"stdout","text":["acc train:  0.6486290682122158\n","              precision    recall  f1-score   support\n","\n","           0       0.58      0.59      0.59      1570\n","           1       0.00      0.00      0.00       447\n","           2       0.66      0.89      0.76      2164\n","           3       0.67      0.01      0.01       305\n","\n","    accuracy                           0.63      4486\n","   macro avg       0.48      0.37      0.34      4486\n","weighted avg       0.57      0.63      0.57      4486\n","\n"]}]},{"cell_type":"code","source":["acc_train,cm=training(LinearSVC(),X_train_tf, X_test_tf, y_train_tf, y_test_tf)\n","print('acc train: ',acc_train)\n","print(cm)"],"metadata":{"colab":{"base_uri":"https://localhost:8080/"},"id":"csFqqyGlH6dd","executionInfo":{"status":"ok","timestamp":1678548317308,"user_tz":0,"elapsed":1097,"user":{"displayName":"Beatriz Arcipreste","userId":"15863202257538089731"}},"outputId":"a88982dd-73a0-4ddd-c283-cf431d37b1e4"},"execution_count":null,"outputs":[{"output_type":"stream","name":"stdout","text":["acc train:  0.7832144449398127\n","              precision    recall  f1-score   support\n","\n","           0       0.57      0.61      0.59      1570\n","           1       0.28      0.10      0.15       447\n","           2       0.71      0.81      0.76      2164\n","           3       0.38      0.20      0.26       305\n","\n","    accuracy                           0.63      4486\n","   macro avg       0.49      0.43      0.44      4486\n","weighted avg       0.59      0.63      0.60      4486\n","\n"]}]},{"cell_type":"markdown","source":["## Unigrams and Bigrams and Max features"],"metadata":{"id":"76P9DqQBUu5y"}},{"cell_type":"code","source":["# Convert a collection of raw documents to a matrix of TF-IDF features.\n","vectorizer = TfidfVectorizer(ngram_range=(1,2), max_features=5000)\n","X_train_tf = vectorizer.fit_transform(X_train)\n","X_train_tf=X_train_tf.toarray()\n","X_test_tf= vectorizer.transform(X_test)"],"metadata":{"id":"eSp2tsj2U78D"},"execution_count":null,"outputs":[]},{"cell_type":"code","source":["acc_train,cm=training(KNeighborsClassifier(),X_train_tf, X_test_tf, y_train_tf, y_test_tf)\n","print('acc train: ',acc_train)\n","print(cm)"],"metadata":{"colab":{"base_uri":"https://localhost:8080/"},"id":"_jxlhRr6U78E","executionInfo":{"status":"ok","timestamp":1678548523816,"user_tz":0,"elapsed":124965,"user":{"displayName":"Beatriz Arcipreste","userId":"15863202257538089731"}},"outputId":"c657b3a9-a274-48e9-f81c-224bc82f136e"},"execution_count":null,"outputs":[{"output_type":"stream","name":"stdout","text":["acc train:  0.6998439589835043\n","              precision    recall  f1-score   support\n","\n","           0       0.51      0.61      0.55      1570\n","           1       0.24      0.12      0.16       447\n","           2       0.69      0.73      0.71      2164\n","           3       0.30      0.09      0.14       305\n","\n","    accuracy                           0.58      4486\n","   macro avg       0.43      0.39      0.39      4486\n","weighted avg       0.55      0.58      0.56      4486\n","\n"]}]},{"cell_type":"code","source":["acc_train,cm=training(DecisionTreeClassifier(),X_train_tf, X_test_tf, y_train_tf, y_test_tf)\n","print('acc train: ',acc_train)\n","print(cm)"],"metadata":{"colab":{"base_uri":"https://localhost:8080/"},"id":"f_8YZ4L4U78E","executionInfo":{"status":"ok","timestamp":1678548548493,"user_tz":0,"elapsed":24691,"user":{"displayName":"Beatriz Arcipreste","userId":"15863202257538089731"}},"outputId":"6d086914-6cff-4159-fe51-21f42f2e6659"},"execution_count":null,"outputs":[{"output_type":"stream","name":"stdout","text":["acc train:  0.9990526081141329\n","              precision    recall  f1-score   support\n","\n","           0       0.46      0.48      0.47      1570\n","           1       0.16      0.14      0.15       447\n","           2       0.65      0.67      0.66      2164\n","           3       0.21      0.17      0.19       305\n","\n","    accuracy                           0.51      4486\n","   macro avg       0.37      0.36      0.37      4486\n","weighted avg       0.51      0.51      0.51      4486\n","\n"]}]},{"cell_type":"code","source":["acc_train,cm=training(RandomForestClassifier(),X_train_tf, X_test_tf, y_train_tf, y_test_tf)\n","print('acc train: ',acc_train)\n","print(cm)"],"metadata":{"colab":{"base_uri":"https://localhost:8080/"},"id":"_OE5Z94jU78E","executionInfo":{"status":"ok","timestamp":1678548585372,"user_tz":0,"elapsed":36908,"user":{"displayName":"Beatriz Arcipreste","userId":"15863202257538089731"}},"outputId":"867c39ae-8332-4ec4-8f89-f3e8cea0a43a"},"execution_count":null,"outputs":[{"output_type":"stream","name":"stdout","text":["acc train:  0.9990526081141329\n","              precision    recall  f1-score   support\n","\n","           0       0.57      0.62      0.59      1570\n","           1       0.50      0.01      0.02       447\n","           2       0.69      0.87      0.77      2164\n","           3       0.64      0.02      0.04       305\n","\n","    accuracy                           0.64      4486\n","   macro avg       0.60      0.38      0.36      4486\n","weighted avg       0.62      0.64      0.58      4486\n","\n"]}]},{"cell_type":"code","source":["acc_train,cm=training(GradientBoostingClassifier(),X_train_tf, X_test_tf, y_train_tf, y_test_tf)\n","print('acc train: ',acc_train)\n","print(cm)"],"metadata":{"colab":{"base_uri":"https://localhost:8080/"},"id":"1J6-RAS_U78F","executionInfo":{"status":"ok","timestamp":1678550105402,"user_tz":0,"elapsed":1520045,"user":{"displayName":"Beatriz Arcipreste","userId":"15863202257538089731"}},"outputId":"e91c9a0c-c54a-432d-b7ae-a05e0a68e2a0"},"execution_count":null,"outputs":[{"output_type":"stream","name":"stdout","text":["acc train:  0.6914288898796255\n","              precision    recall  f1-score   support\n","\n","           0       0.57      0.63      0.59      1570\n","           1       0.42      0.04      0.07       447\n","           2       0.70      0.85      0.77      2164\n","           3       0.44      0.12      0.19       305\n","\n","    accuracy                           0.64      4486\n","   macro avg       0.53      0.41      0.41      4486\n","weighted avg       0.61      0.64      0.60      4486\n","\n"]}]},{"cell_type":"code","source":["acc_train,cm=training(XGBClassifier(),X_train_tf, X_test_tf, y_train_tf, y_test_tf)\n","print('acc train: ',acc_train)\n","print(cm)"],"metadata":{"colab":{"base_uri":"https://localhost:8080/"},"id":"4CZTgJ8TU78F","executionInfo":{"status":"ok","timestamp":1678551743511,"user_tz":0,"elapsed":1638137,"user":{"displayName":"Beatriz Arcipreste","userId":"15863202257538089731"}},"outputId":"819b9100-a74c-48b6-803b-0e1c1b4d1d90"},"execution_count":null,"outputs":[{"output_type":"stream","name":"stdout","text":["acc train:  0.8622938029424877\n","              precision    recall  f1-score   support\n","\n","           0       0.57      0.65      0.61      1570\n","           1       0.33      0.07      0.11       447\n","           2       0.72      0.84      0.78      2164\n","           3       0.45      0.17      0.24       305\n","\n","    accuracy                           0.65      4486\n","   macro avg       0.52      0.43      0.44      4486\n","weighted avg       0.61      0.65      0.62      4486\n","\n"]}]},{"cell_type":"code","source":["acc_train,cm=training(MultinomialNB(),X_train_tf, X_test_tf, y_train_tf, y_test_tf)\n","print('acc train: ',acc_train)\n","print(cm)"],"metadata":{"colab":{"base_uri":"https://localhost:8080/"},"id":"vmJyJparU78F","executionInfo":{"status":"ok","timestamp":1678551743881,"user_tz":0,"elapsed":401,"user":{"displayName":"Beatriz Arcipreste","userId":"15863202257538089731"}},"outputId":"862cf621-e7d0-4e20-ec44-f6ca906cca20"},"execution_count":null,"outputs":[{"output_type":"stream","name":"stdout","text":["acc train:  0.6524186357556844\n","              precision    recall  f1-score   support\n","\n","           0       0.57      0.63      0.60      1570\n","           1       0.33      0.00      0.01       447\n","           2       0.69      0.87      0.77      2164\n","           3       0.62      0.03      0.06       305\n","\n","    accuracy                           0.64      4486\n","   macro avg       0.55      0.38      0.36      4486\n","weighted avg       0.61      0.64      0.59      4486\n","\n"]}]},{"cell_type":"code","source":["acc_train,cm=training(LinearSVC(),X_train_tf, X_test_tf, y_train_tf, y_test_tf)\n","print('acc train: ',acc_train)\n","print(cm)"],"metadata":{"colab":{"base_uri":"https://localhost:8080/"},"id":"V-xHIv67U78G","executionInfo":{"status":"ok","timestamp":1678551745836,"user_tz":0,"elapsed":1956,"user":{"displayName":"Beatriz Arcipreste","userId":"15863202257538089731"}},"outputId":"53758fdc-780a-4643-a423-baebd1a0218b"},"execution_count":null,"outputs":[{"output_type":"stream","name":"stdout","text":["acc train:  0.802329469460544\n","              precision    recall  f1-score   support\n","\n","           0       0.58      0.59      0.59      1570\n","           1       0.32      0.15      0.20       447\n","           2       0.71      0.82      0.76      2164\n","           3       0.37      0.21      0.27       305\n","\n","    accuracy                           0.63      4486\n","   macro avg       0.50      0.44      0.46      4486\n","weighted avg       0.60      0.63      0.61      4486\n","\n"]}]},{"cell_type":"markdown","source":["# Binary Classification and Holdout CV"],"metadata":{"id":"tOSIcSLIVTNo"}},{"cell_type":"code","source":["df = pd.read_csv('/content/drive/MyDrive/MS DATA SCIENCE /TESE /data_processed.csv')"],"metadata":{"id":"l9hvqjTPWL6z","executionInfo":{"status":"ok","timestamp":1678979813899,"user_tz":0,"elapsed":2080,"user":{"displayName":"Beatriz Arcipreste","userId":"15863202257538089731"}}},"execution_count":5,"outputs":[]},{"cell_type":"code","source":["#convert reason to numbers\n","reason_dict ={'Mau Serviço Prestado': 0, 'Condições de entrega': 0, 'Atraso de entrega': 1, \n","               'Enganos': 0}\n","\n","df['reason'].replace(reason_dict, inplace=True)"],"metadata":{"id":"lPS3FJxWWAz7","executionInfo":{"status":"ok","timestamp":1678979813904,"user_tz":0,"elapsed":48,"user":{"displayName":"Beatriz Arcipreste","userId":"15863202257538089731"}}},"execution_count":6,"outputs":[]},{"cell_type":"code","source":["df['reason'].unique()"],"metadata":{"colab":{"base_uri":"https://localhost:8080/"},"id":"VXi5OGzgWA6M","executionInfo":{"status":"ok","timestamp":1678979813908,"user_tz":0,"elapsed":49,"user":{"displayName":"Beatriz Arcipreste","userId":"15863202257538089731"}},"outputId":"22b7fed3-cd3e-4f37-8037-ab48955fbe2f"},"execution_count":7,"outputs":[{"output_type":"execute_result","data":{"text/plain":["array([0, 1])"]},"metadata":{},"execution_count":7}]},{"cell_type":"code","source":["df['reason'].value_counts()"],"metadata":{"colab":{"base_uri":"https://localhost:8080/"},"id":"4u_mQiH3WpOm","executionInfo":{"status":"ok","timestamp":1678740096009,"user_tz":0,"elapsed":16,"user":{"displayName":"Beatriz Arcipreste","userId":"15863202257538089731"}},"outputId":"d98c3741-90f9-4929-b378-58713ea81b19"},"execution_count":null,"outputs":[{"output_type":"execute_result","data":{"text/plain":["0    11702\n","1    10728\n","Name: reason, dtype: int64"]},"metadata":{},"execution_count":64}]},{"cell_type":"code","source":["X = df['narrative_tfidf']\n","y = df['reason']"],"metadata":{"id":"Rz4GsocrWHn6","executionInfo":{"status":"ok","timestamp":1678979813914,"user_tz":0,"elapsed":36,"user":{"displayName":"Beatriz Arcipreste","userId":"15863202257538089731"}}},"execution_count":8,"outputs":[]},{"cell_type":"code","source":["for item in Counter(y).items():\n","  print(item[0], item[1]/len(y))"],"metadata":{"colab":{"base_uri":"https://localhost:8080/"},"id":"KK_QcQ9QtQGA","executionInfo":{"status":"ok","timestamp":1678740117919,"user_tz":0,"elapsed":448,"user":{"displayName":"Beatriz Arcipreste","userId":"15863202257538089731"}},"outputId":"5e496bdd-73ff-430c-a529-6d8554b4a8ec"},"execution_count":null,"outputs":[{"output_type":"stream","name":"stdout","text":["0 0.5217119928666963\n","1 0.4782880071333036\n"]}]},{"cell_type":"markdown","source":["# Train test split"],"metadata":{"id":"NDxCoTQ4vCUv"}},{"cell_type":"code","source":["# we should always split before transforming the data\n","X_train, X_test, y_train_tf, y_test_tf = train_test_split(X, y.values, test_size=0.20, random_state=200)"],"metadata":{"id":"fJo15hBob9s9","executionInfo":{"status":"ok","timestamp":1678979815096,"user_tz":0,"elapsed":362,"user":{"displayName":"Beatriz Arcipreste","userId":"15863202257538089731"}}},"execution_count":9,"outputs":[]},{"cell_type":"code","source":["# print(Counter(y_train_tf))\n","for item in Counter(y_train_tf).items():\n","  print(item[0], item[1]/len(y_train_tf))"],"metadata":{"colab":{"base_uri":"https://localhost:8080/"},"executionInfo":{"status":"ok","timestamp":1678739865399,"user_tz":0,"elapsed":8,"user":{"displayName":"Beatriz Arcipreste","userId":"15863202257538089731"}},"outputId":"e7f56b07-cba8-4aea-dab4-754c55037a07","id":"lIitp8c-sRSm"},"execution_count":null,"outputs":[{"output_type":"stream","name":"stdout","text":["0 0.5227374052608114\n","1 0.4772625947391886\n"]}]},{"cell_type":"code","source":["# print(Counter(y_train_tf))\n","for item in Counter(y_test_tf).items():\n","  print(item[0], item[1]/len(y_test_tf))"],"metadata":{"colab":{"base_uri":"https://localhost:8080/"},"executionInfo":{"status":"ok","timestamp":1678739871041,"user_tz":0,"elapsed":11,"user":{"displayName":"Beatriz Arcipreste","userId":"15863202257538089731"}},"outputId":"f85db962-9536-4820-a678-bf3d95c74a87","id":"TQVOmo13sRSm"},"execution_count":null,"outputs":[{"output_type":"stream","name":"stdout","text":["0 0.5176103432902363\n","1 0.4823896567097637\n"]}]},{"cell_type":"markdown","source":["## Unigrams only and max features"],"metadata":{"id":"fLN9nQGnVmzo"}},{"cell_type":"code","source":["# Convert a collection of raw documents to a matrix of TF-IDF features.\n","vectorizer = TfidfVectorizer(ngram_range=(1,1), max_features=5000)\n","X_train_tf = vectorizer.fit_transform(X_train)\n","X_train_tf=X_train_tf.toarray()\n","X_test_tf= vectorizer.transform(X_test)"],"metadata":{"id":"AKI6vUqDV2bN","executionInfo":{"status":"ok","timestamp":1678979577988,"user_tz":0,"elapsed":5987,"user":{"displayName":"Beatriz Arcipreste","userId":"15863202257538089731"}}},"execution_count":10,"outputs":[]},{"cell_type":"code","source":["acc_train,cm,cf=training(KNeighborsClassifier(),X_train_tf, X_test_tf, y_train_tf, y_test_tf)\n","print('acc train: ',acc_train)\n","print(cm)\n","print(cf)"],"metadata":{"id":"M-YXKAxXV2bO"},"execution_count":null,"outputs":[]},{"cell_type":"code","source":["acc_train,cm=training(DecisionTreeClassifier(),X_train_tf, X_test_tf, y_train_tf, y_test_tf)\n","print('acc train: ',acc_train)\n","print(cm)"],"metadata":{"colab":{"base_uri":"https://localhost:8080/"},"id":"qjaSaxxZV2bP","executionInfo":{"status":"ok","timestamp":1678552183516,"user_tz":0,"elapsed":26168,"user":{"displayName":"Beatriz Arcipreste","userId":"15863202257538089731"}},"outputId":"f1e5a315-3587-4bca-dd24-464652ba8e27"},"execution_count":null,"outputs":[{"output_type":"stream","name":"stdout","text":["acc train:  0.9992755238519839\n","              precision    recall  f1-score   support\n","\n","           0       0.67      0.67      0.67      2322\n","           1       0.64      0.64      0.64      2164\n","\n","    accuracy                           0.66      4486\n","   macro avg       0.66      0.66      0.66      4486\n","weighted avg       0.66      0.66      0.66      4486\n","\n"]}]},{"cell_type":"code","source":["acc_train,cm=training(RandomForestClassifier(),X_train_tf, X_test_tf, y_train_tf, y_test_tf)\n","print('acc train: ',acc_train)\n","print(cm)"],"metadata":{"colab":{"base_uri":"https://localhost:8080/"},"id":"5IF_qN2kV2bQ","executionInfo":{"status":"ok","timestamp":1678552216500,"user_tz":0,"elapsed":33012,"user":{"displayName":"Beatriz Arcipreste","userId":"15863202257538089731"}},"outputId":"ffb2f2cf-41b8-4d54-e301-944b808f5fa4"},"execution_count":null,"outputs":[{"output_type":"stream","name":"stdout","text":["acc train:  0.9992755238519839\n","              precision    recall  f1-score   support\n","\n","           0       0.77      0.77      0.77      2322\n","           1       0.76      0.76      0.76      2164\n","\n","    accuracy                           0.77      4486\n","   macro avg       0.77      0.77      0.77      4486\n","weighted avg       0.77      0.77      0.77      4486\n","\n"]}]},{"cell_type":"code","source":["acc_train,cm=training(GradientBoostingClassifier(),X_train_tf, X_test_tf, y_train_tf, y_test_tf)\n","print('acc train: ',acc_train)\n","print(cm)"],"metadata":{"colab":{"base_uri":"https://localhost:8080/"},"id":"SIG-I2cWV2bR","executionInfo":{"status":"ok","timestamp":1678552605095,"user_tz":0,"elapsed":388599,"user":{"displayName":"Beatriz Arcipreste","userId":"15863202257538089731"}},"outputId":"f71c7933-fd63-4bea-8eb2-47a2a9809a61"},"execution_count":null,"outputs":[{"output_type":"stream","name":"stdout","text":["acc train:  0.7796477931341953\n","              precision    recall  f1-score   support\n","\n","           0       0.77      0.76      0.76      2322\n","           1       0.75      0.75      0.75      2164\n","\n","    accuracy                           0.76      4486\n","   macro avg       0.76      0.76      0.76      4486\n","weighted avg       0.76      0.76      0.76      4486\n","\n"]}]},{"cell_type":"code","source":["acc_train,cm=training(XGBClassifier(),X_train_tf, X_test_tf, y_train_tf, y_test_tf)\n","print('acc train: ',acc_train)\n","print(cm)"],"metadata":{"colab":{"base_uri":"https://localhost:8080/"},"id":"e_WqLoTBV2bS","executionInfo":{"status":"ok","timestamp":1678553025996,"user_tz":0,"elapsed":420927,"user":{"displayName":"Beatriz Arcipreste","userId":"15863202257538089731"}},"outputId":"2f6344c0-46a9-4a40-daaf-d64971cb3d25"},"execution_count":null,"outputs":[{"output_type":"stream","name":"stdout","text":["acc train:  0.8908270173874275\n","              precision    recall  f1-score   support\n","\n","           0       0.78      0.77      0.78      2322\n","           1       0.76      0.76      0.76      2164\n","\n","    accuracy                           0.77      4486\n","   macro avg       0.77      0.77      0.77      4486\n","weighted avg       0.77      0.77      0.77      4486\n","\n"]}]},{"cell_type":"code","source":["acc_train,cm=training(MultinomialNB(),X_train_tf, X_test_tf, y_train_tf, y_test_tf)\n","print('acc train: ',acc_train)\n","print(cm)"],"metadata":{"colab":{"base_uri":"https://localhost:8080/"},"id":"g0Uo7_JgV2bT","executionInfo":{"status":"ok","timestamp":1678553026384,"user_tz":0,"elapsed":403,"user":{"displayName":"Beatriz Arcipreste","userId":"15863202257538089731"}},"outputId":"18c1b90e-4189-41a6-c458-dba546a35dba"},"execution_count":null,"outputs":[{"output_type":"stream","name":"stdout","text":["acc train:  0.7805394560855996\n","              precision    recall  f1-score   support\n","\n","           0       0.78      0.73      0.76      2322\n","           1       0.73      0.78      0.76      2164\n","\n","    accuracy                           0.76      4486\n","   macro avg       0.76      0.76      0.76      4486\n","weighted avg       0.76      0.76      0.76      4486\n","\n"]}]},{"cell_type":"code","source":["acc_train,cm=training(LinearSVC(),X_train_tf, X_test_tf, y_train_tf, y_test_tf)\n","print('acc train: ',acc_train)\n","print(cm)"],"metadata":{"colab":{"base_uri":"https://localhost:8080/"},"id":"0yqBplzzV2bT","executionInfo":{"status":"ok","timestamp":1678555390066,"user_tz":0,"elapsed":2416,"user":{"displayName":"Beatriz Arcipreste","userId":"15863202257538089731"}},"outputId":"cced17ff-a54f-4685-f3f1-a518d30cc061"},"execution_count":null,"outputs":[{"output_type":"stream","name":"stdout","text":["acc train:  0.8529870708872046\n","              precision    recall  f1-score   support\n","\n","           0       0.77      0.76      0.77      2322\n","           1       0.75      0.76      0.75      2164\n","\n","    accuracy                           0.76      4486\n","   macro avg       0.76      0.76      0.76      4486\n","weighted avg       0.76      0.76      0.76      4486\n","\n"]}]},{"cell_type":"markdown","source":["## Unigrams and bigrams and max features"],"metadata":{"id":"iWZ3jweGVqjT"}},{"cell_type":"code","source":["# Convert a collection of raw documents to a matrix of TF-IDF features.\n","vectorizer = TfidfVectorizer(ngram_range=(1,2), max_features=5000)\n","X_train_tf = vectorizer.fit_transform(X_train)\n","X_train_tf=X_train_tf.toarray()\n","X_test_tf= vectorizer.transform(X_test)"],"metadata":{"id":"OWID3yjFWUcv","executionInfo":{"status":"ok","timestamp":1678979832960,"user_tz":0,"elapsed":14393,"user":{"displayName":"Beatriz Arcipreste","userId":"15863202257538089731"}}},"execution_count":10,"outputs":[]},{"cell_type":"code","source":["acc_train,cm,cf=training(KNeighborsClassifier(),X_train_tf, X_test_tf, y_train_tf, y_test_tf)\n","print('acc train: ',acc_train)\n","print(cm)\n","print(cf)"],"metadata":{"colab":{"base_uri":"https://localhost:8080/"},"id":"Av9kN5wVWUcv","executionInfo":{"status":"ok","timestamp":1678979975558,"user_tz":0,"elapsed":140864,"user":{"displayName":"Beatriz Arcipreste","userId":"15863202257538089731"}},"outputId":"dde16bd5-743b-4a98-bac5-8566d5375248"},"execution_count":11,"outputs":[{"output_type":"stream","name":"stdout","text":["acc train:  0.8085153811859117\n","              precision    recall  f1-score   support\n","\n","           0       0.73      0.72      0.72      2322\n","           1       0.70      0.71      0.71      2164\n","\n","    accuracy                           0.71      4486\n","   macro avg       0.71      0.71      0.71      4486\n","weighted avg       0.71      0.71      0.71      4486\n","\n","[[1668  654]\n"," [ 629 1535]]\n"]}]},{"cell_type":"code","source":["acc_train,cm=training(DecisionTreeClassifier(),X_train_tf, X_test_tf, y_train_tf, y_test_tf)\n","print('acc train: ',acc_train)\n","print(cm)"],"metadata":{"colab":{"base_uri":"https://localhost:8080/"},"id":"uR3hVFPoWUcw","executionInfo":{"status":"ok","timestamp":1678555572469,"user_tz":0,"elapsed":33822,"user":{"displayName":"Beatriz Arcipreste","userId":"15863202257538089731"}},"outputId":"1818a2a8-2043-4e63-d262-60342e66b62b"},"execution_count":null,"outputs":[{"output_type":"stream","name":"stdout","text":["acc train:  0.9991640659830584\n","              precision    recall  f1-score   support\n","\n","           0       0.66      0.67      0.67      2322\n","           1       0.64      0.63      0.64      2164\n","\n","    accuracy                           0.65      4486\n","   macro avg       0.65      0.65      0.65      4486\n","weighted avg       0.65      0.65      0.65      4486\n","\n"]}]},{"cell_type":"code","source":["acc_train,cm=training(RandomForestClassifier(),X_train_tf, X_test_tf, y_train_tf, y_test_tf)\n","print('acc train: ',acc_train)\n","print(cm)"],"metadata":{"colab":{"base_uri":"https://localhost:8080/"},"id":"dhsbQfqSWUcw","executionInfo":{"status":"ok","timestamp":1678555610309,"user_tz":0,"elapsed":37854,"user":{"displayName":"Beatriz Arcipreste","userId":"15863202257538089731"}},"outputId":"721ac4f1-16db-4d13-bd50-bab110c2dcc0"},"execution_count":null,"outputs":[{"output_type":"stream","name":"stdout","text":["acc train:  0.9991640659830584\n","              precision    recall  f1-score   support\n","\n","           0       0.78      0.78      0.78      2322\n","           1       0.76      0.76      0.76      2164\n","\n","    accuracy                           0.77      4486\n","   macro avg       0.77      0.77      0.77      4486\n","weighted avg       0.77      0.77      0.77      4486\n","\n"]}]},{"cell_type":"code","source":["acc_train,cm=training(GradientBoostingClassifier(),X_train_tf, X_test_tf, y_train_tf, y_test_tf)\n","print('acc train: ',acc_train)\n","print(cm)"],"metadata":{"colab":{"base_uri":"https://localhost:8080/"},"id":"cK_LD2GZWUcw","executionInfo":{"status":"ok","timestamp":1678555999560,"user_tz":0,"elapsed":389283,"user":{"displayName":"Beatriz Arcipreste","userId":"15863202257538089731"}},"outputId":"b5320599-a4d4-4f6b-9f04-80730b0858c1"},"execution_count":null,"outputs":[{"output_type":"stream","name":"stdout","text":["acc train:  0.7840503789567543\n","              precision    recall  f1-score   support\n","\n","           0       0.77      0.76      0.76      2322\n","           1       0.74      0.75      0.75      2164\n","\n","    accuracy                           0.76      4486\n","   macro avg       0.76      0.76      0.76      4486\n","weighted avg       0.76      0.76      0.76      4486\n","\n"]}]},{"cell_type":"code","source":["acc_train,cm=training(XGBClassifier(),X_train_tf, X_test_tf, y_train_tf, y_test_tf)\n","print('acc train: ',acc_train)\n","print(cm)"],"metadata":{"colab":{"base_uri":"https://localhost:8080/"},"id":"D1v3_XVTWUcw","executionInfo":{"status":"ok","timestamp":1678556427742,"user_tz":0,"elapsed":428198,"user":{"displayName":"Beatriz Arcipreste","userId":"15863202257538089731"}},"outputId":"9c0d74b0-5d9d-4b3b-8391-0502c3a63c30"},"execution_count":null,"outputs":[{"output_type":"stream","name":"stdout","text":["acc train:  0.8931119037004013\n","              precision    recall  f1-score   support\n","\n","           0       0.78      0.77      0.77      2322\n","           1       0.75      0.77      0.76      2164\n","\n","    accuracy                           0.77      4486\n","   macro avg       0.77      0.77      0.77      4486\n","weighted avg       0.77      0.77      0.77      4486\n","\n"]}]},{"cell_type":"code","source":["acc_train,cm=training(MultinomialNB(),X_train_tf, X_test_tf, y_train_tf, y_test_tf)\n","print('acc train: ',acc_train)\n","print(cm)"],"metadata":{"colab":{"base_uri":"https://localhost:8080/"},"id":"IUoOgqKwWUcx","executionInfo":{"status":"ok","timestamp":1678556428472,"user_tz":0,"elapsed":743,"user":{"displayName":"Beatriz Arcipreste","userId":"15863202257538089731"}},"outputId":"613e149c-221c-4adc-cda0-0f628fb9e10c"},"execution_count":null,"outputs":[{"output_type":"stream","name":"stdout","text":["acc train:  0.7801493535443602\n","              precision    recall  f1-score   support\n","\n","           0       0.79      0.73      0.76      2322\n","           1       0.73      0.80      0.76      2164\n","\n","    accuracy                           0.76      4486\n","   macro avg       0.76      0.76      0.76      4486\n","weighted avg       0.77      0.76      0.76      4486\n","\n"]}]},{"cell_type":"code","source":["acc_train,cm=training(LinearSVC(),X_train_tf, X_test_tf, y_train_tf, y_test_tf)\n","print('acc train: ',acc_train)\n","print(cm)"],"metadata":{"colab":{"base_uri":"https://localhost:8080/"},"id":"zQXmurFyWUcx","executionInfo":{"status":"ok","timestamp":1678556429283,"user_tz":0,"elapsed":813,"user":{"displayName":"Beatriz Arcipreste","userId":"15863202257538089731"}},"outputId":"6d1f1f8a-824e-40f8-f837-d42f2c60bc4e"},"execution_count":null,"outputs":[{"output_type":"stream","name":"stdout","text":["acc train:  0.8661948283548818\n","              precision    recall  f1-score   support\n","\n","           0       0.78      0.75      0.77      2322\n","           1       0.74      0.77      0.76      2164\n","\n","    accuracy                           0.76      4486\n","   macro avg       0.76      0.76      0.76      4486\n","weighted avg       0.76      0.76      0.76      4486\n","\n"]}]}]}
>>>>>>> parent of 8dccc0e (Delete notebooks directory)
